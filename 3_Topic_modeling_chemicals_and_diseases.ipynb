{
 "cells": [
  {
   "cell_type": "markdown",
   "metadata": {},
   "source": [
    "# Topic Modeling \n",
    "\n",
    "### Preprocessing"
   ]
  },
  {
   "cell_type": "code",
   "execution_count": 11,
   "metadata": {
    "collapsed": false
   },
   "outputs": [],
   "source": [
    "from sklearn.decomposition import NMF\n",
    "import lda\n",
    "import numpy as np\n",
    "import graphlab as gl\n",
    "import pyLDAvis\n",
    "import pyLDAvis.graphlab\n",
    "import pandas as pd\n",
    "from collections import Counter, defaultdict\n",
    "from itertools import islice\n",
    "from nltk.stem.porter import PorterStemmer\n",
    "from sklearn.feature_extraction.text import CountVectorizer, TfidfVectorizer\n",
    "from IPython.core.display import HTML\n",
    "HTML(\"<style>.container { width:90% !important; }</style>\")\n",
    "import warnings\n",
    "warnings.filterwarnings('ignore')"
   ]
  },
  {
   "cell_type": "code",
   "execution_count": 3,
   "metadata": {
    "collapsed": false
   },
   "outputs": [],
   "source": [
    "pyLDAvis.enable_notebook()"
   ]
  },
  {
   "cell_type": "code",
   "execution_count": 5,
   "metadata": {
    "collapsed": false,
    "scrolled": true
   },
   "outputs": [
    {
     "data": {
      "text/html": [
       "<div>\n",
       "<table border=\"1\" class=\"dataframe\">\n",
       "  <thead>\n",
       "    <tr style=\"text-align: right;\">\n",
       "      <th></th>\n",
       "      <th>boolean_relationship</th>\n",
       "      <th>chemical_name</th>\n",
       "      <th>disease_name</th>\n",
       "      <th>all_info</th>\n",
       "    </tr>\n",
       "  </thead>\n",
       "  <tbody>\n",
       "    <tr>\n",
       "      <th>0</th>\n",
       "      <td>True</td>\n",
       "      <td>caffeine</td>\n",
       "      <td>ventricular fibrillation</td>\n",
       "      <td>describe yearold woman preexisting mitral valv...</td>\n",
       "    </tr>\n",
       "    <tr>\n",
       "      <th>1</th>\n",
       "      <td>False</td>\n",
       "      <td>lactulose</td>\n",
       "      <td>critically ill</td>\n",
       "      <td>laxation critically ill patients lactulose pol...</td>\n",
       "    </tr>\n",
       "    <tr>\n",
       "      <th>2</th>\n",
       "      <td>False</td>\n",
       "      <td>sulfasalazine/SSZ</td>\n",
       "      <td>PsA</td>\n",
       "      <td>methotrexate mtx sulfasalazine ssz cyclosporin...</td>\n",
       "    </tr>\n",
       "    <tr>\n",
       "      <th>3</th>\n",
       "      <td>True</td>\n",
       "      <td>Polychlorinated biphenyls/PCBs</td>\n",
       "      <td>NAFLD/non-alcoholic fatty liver disease</td>\n",
       "      <td>polychlorinated biphenyls pcbs persistent envi...</td>\n",
       "    </tr>\n",
       "    <tr>\n",
       "      <th>4</th>\n",
       "      <td>True</td>\n",
       "      <td>PCP</td>\n",
       "      <td>sarcoma</td>\n",
       "      <td>although pcp classified human carcinogen epide...</td>\n",
       "    </tr>\n",
       "  </tbody>\n",
       "</table>\n",
       "</div>"
      ],
      "text/plain": [
       "  boolean_relationship                   chemical_name  \\\n",
       "0                 True                        caffeine   \n",
       "1                False                       lactulose   \n",
       "2                False               sulfasalazine/SSZ   \n",
       "3                 True  Polychlorinated biphenyls/PCBs   \n",
       "4                 True                             PCP   \n",
       "\n",
       "                              disease_name  \\\n",
       "0                 ventricular fibrillation   \n",
       "1                           critically ill   \n",
       "2                                      PsA   \n",
       "3  NAFLD/non-alcoholic fatty liver disease   \n",
       "4                                  sarcoma   \n",
       "\n",
       "                                            all_info  \n",
       "0  describe yearold woman preexisting mitral valv...  \n",
       "1  laxation critically ill patients lactulose pol...  \n",
       "2  methotrexate mtx sulfasalazine ssz cyclosporin...  \n",
       "3  polychlorinated biphenyls pcbs persistent envi...  \n",
       "4  although pcp classified human carcinogen epide...  "
      ]
     },
     "execution_count": 5,
     "metadata": {},
     "output_type": "execute_result"
    }
   ],
   "source": [
    "df_labeled = pd.read_csv('data/Final_df.csv', na_values=['?'])\n",
    "df_labeled.dropna(inplace = True)\n",
    "df_labeled.head()"
   ]
  },
  {
   "cell_type": "code",
   "execution_count": 6,
   "metadata": {
    "collapsed": false
   },
   "outputs": [],
   "source": [
    "#Extend all the words in all_info into a list. \n",
    "all_words = []\n",
    "for doc in df_labeled.all_info:\n",
    "    all_words.extend(doc.split())"
   ]
  },
  {
   "cell_type": "code",
   "execution_count": 7,
   "metadata": {
    "collapsed": false
   },
   "outputs": [],
   "source": [
    "#Create a vocabulary\n",
    "vocab = set(all_words)"
   ]
  },
  {
   "cell_type": "code",
   "execution_count": 8,
   "metadata": {
    "collapsed": false
   },
   "outputs": [
    {
     "data": {
      "text/plain": [
       "13440"
      ]
     },
     "execution_count": 8,
     "metadata": {},
     "output_type": "execute_result"
    }
   ],
   "source": [
    "len(vocab)"
   ]
  },
  {
   "cell_type": "code",
   "execution_count": 13,
   "metadata": {
    "collapsed": false
   },
   "outputs": [
    {
     "data": {
      "text/plain": [
       "[(u'highdens', [('highdensity', 11)]),\n",
       " (u'pleuriti', [('pleuritis', 3)]),\n",
       " (u'four', [('four', 123)]),\n",
       " (u'marfan', [('marfan', 8)]),\n",
       " (u'crisisdescrib', [('crisisdescribe', 1)]),\n",
       " (u'oxygensens', [('oxygensensing', 1)]),\n",
       " (u'nanoccurr', [('nanoccurrence', 1)]),\n",
       " (u'assaysnannk', [('assaysnannk', 2)]),\n",
       " (u'gavag', [('gavage', 1), ('gavaged', 1)]),\n",
       " (u'hyperoxid', [('hyperoxidized', 1), ('hyperoxidation', 7)]),\n",
       " (u'infectionnanadenoviru', [('infectionnanadenovirus', 1)]),\n",
       " (u'deathnaningest', [('deathnaningestion', 5)]),\n",
       " (u'dithian', [('dithianes', 4), ('dithiane', 3)]),\n",
       " (u'digit', [('digit', 1)]),\n",
       " (u'leuprolid', [('leuprolide', 4)]),\n",
       " (u'lactoferrin', [('lactoferrin', 2)]),\n",
       " (u'reportnanreport', [('reportnanreport', 1)]),\n",
       " (u'highprogesteron', [('highprogesterone', 6)]),\n",
       " (u'pigment', [('pigment', 5), ('pigmentation', 2)]),\n",
       " (u'nansertindol', [('nansertindole', 1)])]"
      ]
     },
     "execution_count": 13,
     "metadata": {},
     "output_type": "execute_result"
    }
   ],
   "source": [
    "#Create a dictionary of stemmed words and count of the true words.\n",
    "stem = PorterStemmer()\n",
    "vocab_dict = defaultdict(list)\n",
    "for word in vocab: \n",
    "    vocab_dict[stem.stem(word)].append((word,all_words.count(word)))\n",
    "#view first 20 items. \n",
    "list(islice(vocab_dict.items(), 20))"
   ]
  },
  {
   "cell_type": "code",
   "execution_count": 14,
   "metadata": {
    "collapsed": false
   },
   "outputs": [
    {
     "data": {
      "text/plain": [
       "[(u'highdens', 'highdensity'),\n",
       " (u'pleuriti', 'pleuritis'),\n",
       " (u'four', 'four'),\n",
       " (u'marfan', 'marfan'),\n",
       " (u'crisisdescrib', 'crisisdescribe'),\n",
       " (u'oxygensens', 'oxygensensing'),\n",
       " (u'nanoccurr', 'nanoccurrence'),\n",
       " (u'assaysnannk', 'assaysnannk'),\n",
       " (u'gavag', 'gavage'),\n",
       " (u'hyperoxid', 'hyperoxidation'),\n",
       " (u'infectionnanadenoviru', 'infectionnanadenovirus'),\n",
       " (u'list', 'listed'),\n",
       " (u'deathnaningest', 'deathnaningestion'),\n",
       " (u'dithian', 'dithianes'),\n",
       " (u'digit', 'digit'),\n",
       " (u'lactoferrin', 'lactoferrin'),\n",
       " (u'reportnanreport', 'reportnanreport'),\n",
       " (u'highprogesteron', 'highprogesterone'),\n",
       " (u'pigment', 'pigment'),\n",
       " (u'nansertindol', 'nansertindole')]"
      ]
     },
     "execution_count": 14,
     "metadata": {},
     "output_type": "execute_result"
    }
   ],
   "source": [
    "#key = stemmed word... value = most likely true word\n",
    "final_vocab_dict = {}\n",
    "for k,v in vocab_dict.items():\n",
    "    final_vocab_dict[k] = max(v, key=lambda x:x[1])[0]\n",
    "#view first 20 items. \n",
    "list(islice(final_vocab_dict.items(), 20))"
   ]
  },
  {
   "cell_type": "code",
   "execution_count": 15,
   "metadata": {
    "collapsed": true
   },
   "outputs": [],
   "source": [
    "#Stemming each word in X. \n",
    "stemmed_info = []\n",
    "for doc in df_labeled['all_info']:\n",
    "    d = []\n",
    "    for word in doc.split():\n",
    "        d.append(str(stem.stem(word)))\n",
    "    stemmed_info.append(\" \".join(d))\n",
    "df_labeled['stemmed_info'] = stemmed_info"
   ]
  },
  {
   "cell_type": "code",
   "execution_count": 16,
   "metadata": {
    "collapsed": false,
    "scrolled": true
   },
   "outputs": [
    {
     "data": {
      "text/html": [
       "<div>\n",
       "<table border=\"1\" class=\"dataframe\">\n",
       "  <thead>\n",
       "    <tr style=\"text-align: right;\">\n",
       "      <th></th>\n",
       "      <th>boolean_relationship</th>\n",
       "      <th>chemical_name</th>\n",
       "      <th>disease_name</th>\n",
       "      <th>all_info</th>\n",
       "      <th>stemmed_info</th>\n",
       "    </tr>\n",
       "  </thead>\n",
       "  <tbody>\n",
       "    <tr>\n",
       "      <th>0</th>\n",
       "      <td>True</td>\n",
       "      <td>caffeine</td>\n",
       "      <td>ventricular fibrillation</td>\n",
       "      <td>describe yearold woman preexisting mitral valv...</td>\n",
       "      <td>describ yearold woman preexist mitral valv pro...</td>\n",
       "    </tr>\n",
       "    <tr>\n",
       "      <th>1</th>\n",
       "      <td>False</td>\n",
       "      <td>lactulose</td>\n",
       "      <td>critically ill</td>\n",
       "      <td>laxation critically ill patients lactulose pol...</td>\n",
       "      <td>laxat critic ill patient lactulos polyethylen ...</td>\n",
       "    </tr>\n",
       "    <tr>\n",
       "      <th>2</th>\n",
       "      <td>False</td>\n",
       "      <td>sulfasalazine/SSZ</td>\n",
       "      <td>PsA</td>\n",
       "      <td>methotrexate mtx sulfasalazine ssz cyclosporin...</td>\n",
       "      <td>methotrex mtx sulfasalazin ssz cyclosporin csa...</td>\n",
       "    </tr>\n",
       "    <tr>\n",
       "      <th>3</th>\n",
       "      <td>True</td>\n",
       "      <td>Polychlorinated biphenyls/PCBs</td>\n",
       "      <td>NAFLD/non-alcoholic fatty liver disease</td>\n",
       "      <td>polychlorinated biphenyls pcbs persistent envi...</td>\n",
       "      <td>polychlorin biphenyl pcb persist environment t...</td>\n",
       "    </tr>\n",
       "    <tr>\n",
       "      <th>4</th>\n",
       "      <td>True</td>\n",
       "      <td>PCP</td>\n",
       "      <td>sarcoma</td>\n",
       "      <td>although pcp classified human carcinogen epide...</td>\n",
       "      <td>although pcp classifi human carcinogen epidemi...</td>\n",
       "    </tr>\n",
       "  </tbody>\n",
       "</table>\n",
       "</div>"
      ],
      "text/plain": [
       "  boolean_relationship                   chemical_name  \\\n",
       "0                 True                        caffeine   \n",
       "1                False                       lactulose   \n",
       "2                False               sulfasalazine/SSZ   \n",
       "3                 True  Polychlorinated biphenyls/PCBs   \n",
       "4                 True                             PCP   \n",
       "\n",
       "                              disease_name  \\\n",
       "0                 ventricular fibrillation   \n",
       "1                           critically ill   \n",
       "2                                      PsA   \n",
       "3  NAFLD/non-alcoholic fatty liver disease   \n",
       "4                                  sarcoma   \n",
       "\n",
       "                                            all_info  \\\n",
       "0  describe yearold woman preexisting mitral valv...   \n",
       "1  laxation critically ill patients lactulose pol...   \n",
       "2  methotrexate mtx sulfasalazine ssz cyclosporin...   \n",
       "3  polychlorinated biphenyls pcbs persistent envi...   \n",
       "4  although pcp classified human carcinogen epide...   \n",
       "\n",
       "                                        stemmed_info  \n",
       "0  describ yearold woman preexist mitral valv pro...  \n",
       "1  laxat critic ill patient lactulos polyethylen ...  \n",
       "2  methotrex mtx sulfasalazin ssz cyclosporin csa...  \n",
       "3  polychlorin biphenyl pcb persist environment t...  \n",
       "4  although pcp classifi human carcinogen epidemi...  "
      ]
     },
     "execution_count": 16,
     "metadata": {},
     "output_type": "execute_result"
    }
   ],
   "source": [
    "df_labeled.head()"
   ]
  },
  {
   "cell_type": "markdown",
   "metadata": {},
   "source": [
    "### Vectorize data"
   ]
  },
  {
   "cell_type": "code",
   "execution_count": 17,
   "metadata": {
    "collapsed": true
   },
   "outputs": [],
   "source": [
    "X = df_labeled['stemmed_info']\n",
    "y = df_labeled['boolean_relationship']"
   ]
  },
  {
   "cell_type": "code",
   "execution_count": 18,
   "metadata": {
    "collapsed": false
   },
   "outputs": [],
   "source": [
    "vect = CountVectorizer(min_df=1)\n",
    "tfidf = TfidfVectorizer(min_df=1)\n",
    "\n",
    "X_vect = vect.fit_transform(X)\n",
    "X_tfidf = tfidf.fit_transform(X)"
   ]
  },
  {
   "cell_type": "code",
   "execution_count": 19,
   "metadata": {
    "collapsed": false
   },
   "outputs": [
    {
     "name": "stdout",
     "output_type": "stream",
     "text": [
      "('len_feature_vect: ', 10726)\n",
      "('len_feature_tfidf: ', 10726)\n"
     ]
    }
   ],
   "source": [
    "train_features_vect = vect.get_feature_names()\n",
    "train_features_tfidf = tfidf.get_feature_names()\n",
    "print(\"len_feature_vect: \", len(train_features_vect))\n",
    "print(\"len_feature_tfidf: \", len(train_features_tfidf))"
   ]
  },
  {
   "cell_type": "markdown",
   "metadata": {},
   "source": [
    "### NMF (Non-Negative Matrix Factorization)"
   ]
  },
  {
   "cell_type": "markdown",
   "metadata": {},
   "source": [
    "#### Count Vectorizer"
   ]
  },
  {
   "cell_type": "code",
   "execution_count": 20,
   "metadata": {
    "collapsed": false
   },
   "outputs": [
    {
     "name": "stdout",
     "output_type": "stream",
     "text": [
      "Topic words #0:\n",
      "fentanyl patients transdermal opioid effects pain hours may adverse decreased improved developed chronic hypoventilation opioidrelated initiation immediately used treatment oral administration management conditions antagonist administered naloxone required blood adequate medical\n",
      "Topic words #1:\n",
      "cells activity human increased inhibition melanoma cancer expression induced effects apoptosis results treatment adhesion inhibitor hetes growth mice tumor 12 potential lines erk fak lung protein cytotoxicity kinase showed acid\n",
      "Topic words #2:\n",
      "calcium carbachol eserine chloride vocalization fighting tremor convulsions mydriasis clonictonic injection produced claws paws action central cats changes cause significantly hand similarly motor defense evoked cerebral attack upon ventricles biting\n",
      "Topic words #3:\n",
      "receptor contractions nm ketanserin ec log ht rings artery hta agonist mediated endothelium temporal htinduced human found components antagonized partial ketanserinresistant intact htlike activity function cause block respectively intrinsic sumatriptan\n",
      "Topic words #4:\n",
      "patients group study aspirin treatment coumadin day disease chronic one three heart primary case stroke total prevention receiving diabetes complications per cardioembolic rheumatic significant therapy followup symptoms levels infusion mean\n",
      "Topic words #5:\n",
      "associated used neuropathy toxicity batteries limited treatment due however agents lithium human levels may alkaloids nickel vinca potential taxanes average severe hazardous generally copper cobalt peripheral sensory thallium known epothilones\n",
      "Topic words #6:\n",
      "levobupivacaine chromium bupivacaine study vi toxicity cause may used cardiac animals acid local anaesthetic clinical compared salts system chromiumiii anaesthetised ascorbic rats less advantages longacting occurred exposure cardiotoxicity potential dermatitis\n",
      "Topic words #7:\n",
      "risk increased used clozapine bodyweight olanzapine children risperidone glucose adults reported gain profile less receptor also study well mania effects monitoring adolescents treatment quetiapine ziprasidone frequently drug tolerated developed baseline\n",
      "Topic words #8:\n",
      "dose effects zaleplon study mg activity treatment suggest induced clinical cisplatin drug also day produced low increased models compound benzodiazepine observed performed weeks iron results pretreatment agents spleen rats including\n",
      "Topic words #9:\n",
      "patients bp bone cancer therapy disease infusion mg metastatic pamidronate drug combination breast oral reduced criteria improved rate trials treatment clodronate chemotherapy better hormone achieved used insulin morbidity administration data\n"
     ]
    }
   ],
   "source": [
    "nmf = NMF(n_components=10, random_state=1, alpha=.1, l1_ratio=.5).fit(X_vect)\n",
    "def print_top_words(model, feature_names, n_top_words):\n",
    "    for topic_idx, topic in enumerate(model.components_):\n",
    "#         print(\"Topic stemmed #%d:\" % topic_idx)\n",
    "#         print(\" \".join([feature_names[i] for i in topic.argsort()[:-n_top_words - 1:-1]]))\n",
    "#         print()\n",
    "        print(\"Topic words #%d:\" % topic_idx)\n",
    "        topic_words = []\n",
    "        for i in topic.argsort()[:-n_top_words - 1:-1]:\n",
    "            try:\n",
    "                #change word back to most likely true word\n",
    "                topic_words.append(final_vocab_dict[feature_names[i]])\n",
    "            except:\n",
    "                topic_words.append(feature_names[i])\n",
    "        print(\" \".join(topic_words))\n",
    "print_top_words(nmf, train_features_vect, 30)"
   ]
  },
  {
   "cell_type": "markdown",
   "metadata": {},
   "source": [
    "** Top 3 topics: **\n",
    "- opiates\n",
    "- skin cell diseases\n",
    "- eyes and cats"
   ]
  },
  {
   "cell_type": "markdown",
   "metadata": {},
   "source": [
    "#### TF-IDF"
   ]
  },
  {
   "cell_type": "code",
   "execution_count": 21,
   "metadata": {
    "collapsed": false
   },
   "outputs": [
    {
     "name": "stdout",
     "output_type": "stream",
     "text": [
      "Topic #0:\n",
      "patients treatment disease therapy risk study effects increased used case clinical diabetes drug dose reported associated combination developed cancer may cardiac mg group trials failure toxicity efficacy response treated receiving\n",
      "Topic #1:\n",
      "carbachol eserine chloride calcium fighting vocalization clonictonic mydriasis tremor convulsions claws paws injection central produced action phenomena unanaesthetized hissing rage biting snarling grouphoused dissociate autonomic ventricles evoked hand cats apparent\n",
      "Topic #2:\n",
      "cells cancer activity inhibition human expression melanoma growth apoptosis tumor lines curcumin cytotoxicity hetes induced inhibitor adhesion breast erk protein 12 effects mice ndma fak kinase increased ags carcinoma results\n",
      "Topic #3:\n",
      "chromium vi chromiumiii salts ascorbic dermatitis acid system therefore occurred toxicity chrome contact allergic advocated poisoning burns trivalent chromiumviinduced topical may bioavailable soluble readily inhaled ingestion cross formation ulcers absorbed\n",
      "Topic #4:\n",
      "aspirin coumadin group stroke lowdose patients cardioembolic rheumatic prevention bleeding bowel heart mitral injury ischemic primary small increasingly per complications disease chronic study atrial cent gastrointestinal three fibrillation followup users\n",
      "Topic #5:\n",
      "nicotine dizziness nausea nin dosage motion unsteadiness spray dependent nasal intensity nystagmus mg wellknown unpleasant postural addressed effects aggravate vestibular questions transient nicotineinduced smokers perceptual nonsmokers eg occasional imbalance distress\n",
      "Topic #6:\n",
      "nac cats addictive blue dependent acetylcystein study methylene acetaminophen substance behavior systematic cannabis cocaine literature abuse male one female studynanconduct disorder review given gambling methamphetamine two first methemoglobinemia trials treatment\n",
      "Topic #7:\n",
      "fentanyl opioid transdermal delirium pain rotation patients morphine day morphineinduced hours mdas score effects scale opioidrelated adverse hypoventilation study immediately decreased analgesia symptoms may treatment naloxone oral initiation none chronic\n",
      "Topic #8:\n",
      "neuropathy taxanes vinca alkaloids epothilones sensory associated grade ixabepilone mti vinflunine class peripheral newer paclitaxel agents generally known mtibased management frequently incidence epothilonesare cancerincluding analog mild mtiassociated sensorymotor moderate milder\n",
      "Topic #9:\n",
      "mtx arthritis methotrexate rheumatoid low pancytopenia psa toxicity probenecid dose interaction potential lifethreatening factors cited dmards hematologic popularity rheumatologic ra nodulosis serious gain oral practice drug developed nanpatient accelerated tnf\n"
     ]
    }
   ],
   "source": [
    "nmf = NMF(n_components=10, random_state=1, alpha=.1, l1_ratio=.5).fit(X_tfidf)\n",
    "def print_top_words(model, feature_names, n_top_words):\n",
    "    for topic_idx, topic in enumerate(model.components_):\n",
    "        print(\"Topic #%d:\" % topic_idx)\n",
    "        #print(\" \".join([feature_names[i] for i in topic.argsort()[:-n_top_words - 1:-1]]))\n",
    "        topic_words = []\n",
    "        for i in topic.argsort()[:-n_top_words - 1:-1]:\n",
    "            try:\n",
    "                #change word back to most likely true word\n",
    "                topic_words.append(final_vocab_dict[feature_names[i]])\n",
    "            except:\n",
    "                topic_words.append(feature_names[i])\n",
    "        print(\" \".join(topic_words))\n",
    "print_top_words(nmf, train_features_tfidf, 30)"
   ]
  },
  {
   "cell_type": "markdown",
   "metadata": {},
   "source": [
    "** Top 3 topics: **\n",
    "- diabetes and cancer\n",
    "- cats and rage\n",
    "- skin cell diseases"
   ]
  },
  {
   "cell_type": "markdown",
   "metadata": {},
   "source": [
    "### LDA (Latent Dirichlet Allocation)"
   ]
  },
  {
   "cell_type": "markdown",
   "metadata": {},
   "source": [
    "#### Count Vectorizer"
   ]
  },
  {
   "cell_type": "code",
   "execution_count": 22,
   "metadata": {
    "collapsed": false
   },
   "outputs": [
    {
     "name": "stdout",
     "output_type": "stream",
     "text": [
      "Topic 0: patients treatment study cancer associated effects used survival therapy neuropathy agents advanced combination toxicity clinical day severe response inhibitor drug trials opioid dose efficacy breast management progression assessed symptoms\n",
      "Topic 1: cells activity effects inhibition cancer tumor expression human increased induced growth protein lines results drug apoptosis treatment study cytotoxicity also used levels resistance dna inhibitor investigated gene breast mechanisms\n",
      "Topic 2: patients case treatment dose reported therapy developed associated clinical syndrome used drug toxicity renal months complications cause disease low receiving due symptoms treated day agents cisplatin one related acute\n",
      "Topic 3: patients diabetes group calcium levels serum study insulin concentrations type chloride disease metabolism carbachol eserine control increased also changes effects iron diet vocalization fighting cholesterol syndrome action acid glucose\n",
      "Topic 4: effects activity induced mg dose rats study zaleplon nicotine animals receptor models plasma produced patients nausea tested concentrations increased dizziness suggest levels mice antagonist system dopamine dosage also agonist\n",
      "Topic 5: study patients used effects cardiac cause increased case may compared levobupivacaine different myocardial disease ventricular death heart rate incidence produced alcohol control respiratory bupivacaine seizures infusion whether arrhythmias pressure\n",
      "Topic 6: patients treatment therapy effects study risk disease drug used combination increased trials efficacy group reduced clinical receptor rate improved bp mg hypertension infusion inhibitor blood evaluated also bone receiving\n",
      "Topic 7: used cats patients nickel human developed chronic guanethidine associated pretreatment toxicity sites may batteries adrenergic however induced mgkg potential lithium response due pain given limited acetaminophen blue male lung\n",
      "Topic 8: patients group effects fentanyl pain chromium aspirin may study transdermal vi chronic hours coumadin prevention used compared opioid toxicity oral postoperative three acid adverse analgesia stroke occurred following administration\n",
      "Topic 9: hepatitis cells human treatment receptor increased infection activity exposure liver melanoma may mediated used study hiv found brain adhesion contractions chronic oxidative cause mice ec nm results potential ketanserin\n"
     ]
    }
   ],
   "source": [
    "model = lda.LDA(n_topics=10, n_iter=3000, random_state=1)\n",
    "model.fit_transform(X_vect) \n",
    "topic_word = model.topic_word_  # model.components_ also works\n",
    "n_top_words = 30\n",
    "for i, topic_dist in enumerate(topic_word):\n",
    "    topic_words = np.array(vect.get_feature_names())[np.argsort(topic_dist)][:-n_top_words:-1]\n",
    "    top_words = []\n",
    "    for word in (' '.join(topic_words)).split():\n",
    "        try:\n",
    "            #change word back to most likely true word\n",
    "            top_words.append(final_vocab_dict[str(word)])\n",
    "        except:\n",
    "            top_words.append(str(word))\n",
    "    print('Topic {}: {}'.format(i, ' '.join(top_words)))"
   ]
  },
  {
   "cell_type": "markdown",
   "metadata": {},
   "source": [
    "** Top 5 Topics:**\n",
    "- Drug treatments at clinical trials\n",
    "- Cancer cells\n",
    "- Effects of chemo drugs\n",
    "- Diabetes\n",
    "- Chemicals that affect the brain"
   ]
  },
  {
   "cell_type": "markdown",
   "metadata": {},
   "source": [
    "**Note: ** Works only with matrix with integer values, so tfidf would not work."
   ]
  },
  {
   "cell_type": "markdown",
   "metadata": {},
   "source": [
    "### GraphLab"
   ]
  },
  {
   "cell_type": "code",
   "execution_count": 24,
   "metadata": {
    "collapsed": true
   },
   "outputs": [],
   "source": [
    "#create list of dictionaries of word counts of each document.\n",
    "docs = []\n",
    "for doc in df_labeled.stemmed_info:\n",
    "    docs.append(dict(Counter(doc.split())))"
   ]
  },
  {
   "cell_type": "code",
   "execution_count": 25,
   "metadata": {
    "collapsed": false
   },
   "outputs": [
    {
     "data": {
      "text/plain": [
       "{'adequ': 1,\n",
       " 'caffein': 2,\n",
       " 'caffeinedescrib': 1,\n",
       " 'case': 1,\n",
       " 'concentr': 2,\n",
       " 'consum': 3,\n",
       " 'contain': 3,\n",
       " 'describ': 1,\n",
       " 'develop': 3,\n",
       " 'drink': 3,\n",
       " 'energi': 2,\n",
       " 'fibril': 3,\n",
       " 'guarana': 2,\n",
       " 'health': 3,\n",
       " 'high': 2,\n",
       " 'highlight': 1,\n",
       " 'intract': 2,\n",
       " 'label': 1,\n",
       " 'mitral': 2,\n",
       " 'natur': 2,\n",
       " 'need': 1,\n",
       " 'preexist': 2,\n",
       " 'product': 1,\n",
       " 'prolaps': 2,\n",
       " 'regul': 1,\n",
       " 'valv': 2,\n",
       " 'ventricular': 3,\n",
       " 'woman': 2,\n",
       " 'yearold': 2}"
      ]
     },
     "execution_count": 25,
     "metadata": {},
     "output_type": "execute_result"
    }
   ],
   "source": [
    "docs[0]"
   ]
  },
  {
   "cell_type": "code",
   "execution_count": 108,
   "metadata": {
    "collapsed": false
   },
   "outputs": [
    {
     "data": {
      "text/plain": [
       "'adequate'"
      ]
     },
     "execution_count": 108,
     "metadata": {},
     "output_type": "execute_result"
    }
   ],
   "source": [
    "final_vocab_dict['adequ']"
   ]
  },
  {
   "cell_type": "code",
   "execution_count": 26,
   "metadata": {
    "collapsed": false
   },
   "outputs": [
    {
     "data": {
      "text/plain": [
       "{'adequate': 1,\n",
       " 'caffeine': 2,\n",
       " 'caffeinedescribe': 1,\n",
       " 'case': 1,\n",
       " 'concentrations': 2,\n",
       " 'consumer': 3,\n",
       " 'containing': 3,\n",
       " 'describe': 1,\n",
       " 'developed': 3,\n",
       " 'drinking': 3,\n",
       " 'energy': 2,\n",
       " 'fibrillation': 3,\n",
       " 'guarana': 2,\n",
       " 'health': 3,\n",
       " 'high': 2,\n",
       " 'highlights': 1,\n",
       " 'intractable': 2,\n",
       " 'label': 1,\n",
       " 'mitral': 2,\n",
       " 'nature': 2,\n",
       " 'needed': 1,\n",
       " 'preexisting': 2,\n",
       " 'production': 1,\n",
       " 'prolapse': 2,\n",
       " 'regulation': 1,\n",
       " 'valve': 2,\n",
       " 'ventricular': 3,\n",
       " 'woman': 2,\n",
       " 'yearold': 2}"
      ]
     },
     "execution_count": 26,
     "metadata": {},
     "output_type": "execute_result"
    }
   ],
   "source": [
    "#change stemmed words back to human-readable words. \n",
    "new_docs = []\n",
    "\n",
    "for doc in docs:\n",
    "    real_counter = defaultdict(int)\n",
    "    for k,v in doc.items():\n",
    "        try:\n",
    "            real_counter[final_vocab_dict[k]] = v\n",
    "        except:\n",
    "            real_counter[k] = v\n",
    "    new_docs.append(dict(real_counter))\n",
    "new_docs[0]"
   ]
  },
  {
   "cell_type": "code",
   "execution_count": 27,
   "metadata": {
    "collapsed": false
   },
   "outputs": [],
   "source": [
    "docs = gl.SArray(new_docs)"
   ]
  },
  {
   "cell_type": "code",
   "execution_count": 34,
   "metadata": {
    "collapsed": false
   },
   "outputs": [
    {
     "data": {
      "text/html": [
       "<pre>Learning a topic model</pre>"
      ],
      "text/plain": [
       "Learning a topic model"
      ]
     },
     "metadata": {},
     "output_type": "display_data"
    },
    {
     "data": {
      "text/html": [
       "<pre>       Number of documents      1928</pre>"
      ],
      "text/plain": [
       "       Number of documents      1928"
      ]
     },
     "metadata": {},
     "output_type": "display_data"
    },
    {
     "data": {
      "text/html": [
       "<pre>           Vocabulary size     10745</pre>"
      ],
      "text/plain": [
       "           Vocabulary size     10745"
      ]
     },
     "metadata": {},
     "output_type": "display_data"
    },
    {
     "data": {
      "text/html": [
       "<pre>   Running collapsed Gibbs sampling</pre>"
      ],
      "text/plain": [
       "   Running collapsed Gibbs sampling"
      ]
     },
     "metadata": {},
     "output_type": "display_data"
    },
    {
     "data": {
      "text/html": [
       "<pre>+-----------+---------------+----------------+-----------------+</pre>"
      ],
      "text/plain": [
       "+-----------+---------------+----------------+-----------------+"
      ]
     },
     "metadata": {},
     "output_type": "display_data"
    },
    {
     "data": {
      "text/html": [
       "<pre>| Iteration | Elapsed Time  | Tokens/Second  | Est. Perplexity |</pre>"
      ],
      "text/plain": [
       "| Iteration | Elapsed Time  | Tokens/Second  | Est. Perplexity |"
      ]
     },
     "metadata": {},
     "output_type": "display_data"
    },
    {
     "data": {
      "text/html": [
       "<pre>+-----------+---------------+----------------+-----------------+</pre>"
      ],
      "text/plain": [
       "+-----------+---------------+----------------+-----------------+"
      ]
     },
     "metadata": {},
     "output_type": "display_data"
    },
    {
     "data": {
      "text/html": [
       "<pre>| 10        | 282.441ms     | 4.5602e+06     | 0               |</pre>"
      ],
      "text/plain": [
       "| 10        | 282.441ms     | 4.5602e+06     | 0               |"
      ]
     },
     "metadata": {},
     "output_type": "display_data"
    },
    {
     "data": {
      "text/html": [
       "<pre>| 20        | 562.316ms     | 4.24879e+06    | 0               |</pre>"
      ],
      "text/plain": [
       "| 20        | 562.316ms     | 4.24879e+06    | 0               |"
      ]
     },
     "metadata": {},
     "output_type": "display_data"
    },
    {
     "data": {
      "text/html": [
       "<pre>| 30        | 831.397ms     | 3.47883e+06    | 0               |</pre>"
      ],
      "text/plain": [
       "| 30        | 831.397ms     | 3.47883e+06    | 0               |"
      ]
     },
     "metadata": {},
     "output_type": "display_data"
    },
    {
     "data": {
      "text/html": [
       "<pre>| 40        | 1.11s         | 4.52507e+06    | 0               |</pre>"
      ],
      "text/plain": [
       "| 40        | 1.11s         | 4.52507e+06    | 0               |"
      ]
     },
     "metadata": {},
     "output_type": "display_data"
    },
    {
     "data": {
      "text/html": [
       "<pre>| 50        | 1.35s         | 5.01293e+06    | 0               |</pre>"
      ],
      "text/plain": [
       "| 50        | 1.35s         | 5.01293e+06    | 0               |"
      ]
     },
     "metadata": {},
     "output_type": "display_data"
    },
    {
     "data": {
      "text/html": [
       "<pre>| 60        | 1.60s         | 5.09122e+06    | 0               |</pre>"
      ],
      "text/plain": [
       "| 60        | 1.60s         | 5.09122e+06    | 0               |"
      ]
     },
     "metadata": {},
     "output_type": "display_data"
    },
    {
     "data": {
      "text/html": [
       "<pre>| 70        | 1.86s         | 4.72802e+06    | 0               |</pre>"
      ],
      "text/plain": [
       "| 70        | 1.86s         | 4.72802e+06    | 0               |"
      ]
     },
     "metadata": {},
     "output_type": "display_data"
    },
    {
     "data": {
      "text/html": [
       "<pre>| 80        | 2.10s         | 4.50645e+06    | 0               |</pre>"
      ],
      "text/plain": [
       "| 80        | 2.10s         | 4.50645e+06    | 0               |"
      ]
     },
     "metadata": {},
     "output_type": "display_data"
    },
    {
     "data": {
      "text/html": [
       "<pre>| 90        | 2.41s         | 3.70361e+06    | 0               |</pre>"
      ],
      "text/plain": [
       "| 90        | 2.41s         | 3.70361e+06    | 0               |"
      ]
     },
     "metadata": {},
     "output_type": "display_data"
    },
    {
     "data": {
      "text/html": [
       "<pre>| 100       | 2.68s         | 4.77889e+06    | 0               |</pre>"
      ],
      "text/plain": [
       "| 100       | 2.68s         | 4.77889e+06    | 0               |"
      ]
     },
     "metadata": {},
     "output_type": "display_data"
    },
    {
     "data": {
      "text/html": [
       "<pre>| 110       | 2.93s         | 4.98348e+06    | 0               |</pre>"
      ],
      "text/plain": [
       "| 110       | 2.93s         | 4.98348e+06    | 0               |"
      ]
     },
     "metadata": {},
     "output_type": "display_data"
    },
    {
     "data": {
      "text/html": [
       "<pre>| 120       | 3.18s         | 4.54458e+06    | 0               |</pre>"
      ],
      "text/plain": [
       "| 120       | 3.18s         | 4.54458e+06    | 0               |"
      ]
     },
     "metadata": {},
     "output_type": "display_data"
    },
    {
     "data": {
      "text/html": [
       "<pre>| 130       | 3.49s         | 4.85312e+06    | 0               |</pre>"
      ],
      "text/plain": [
       "| 130       | 3.49s         | 4.85312e+06    | 0               |"
      ]
     },
     "metadata": {},
     "output_type": "display_data"
    },
    {
     "data": {
      "text/html": [
       "<pre>| 140       | 3.75s         | 4.24112e+06    | 0               |</pre>"
      ],
      "text/plain": [
       "| 140       | 3.75s         | 4.24112e+06    | 0               |"
      ]
     },
     "metadata": {},
     "output_type": "display_data"
    },
    {
     "data": {
      "text/html": [
       "<pre>| 150       | 4.01s         | 4.6666e+06     | 0               |</pre>"
      ],
      "text/plain": [
       "| 150       | 4.01s         | 4.6666e+06     | 0               |"
      ]
     },
     "metadata": {},
     "output_type": "display_data"
    },
    {
     "data": {
      "text/html": [
       "<pre>| 160       | 4.26s         | 4.6077e+06     | 0               |</pre>"
      ],
      "text/plain": [
       "| 160       | 4.26s         | 4.6077e+06     | 0               |"
      ]
     },
     "metadata": {},
     "output_type": "display_data"
    },
    {
     "data": {
      "text/html": [
       "<pre>| 170       | 4.50s         | 4.64603e+06    | 0               |</pre>"
      ],
      "text/plain": [
       "| 170       | 4.50s         | 4.64603e+06    | 0               |"
      ]
     },
     "metadata": {},
     "output_type": "display_data"
    },
    {
     "data": {
      "text/html": [
       "<pre>| 180       | 4.76s         | 4.76658e+06    | 0               |</pre>"
      ],
      "text/plain": [
       "| 180       | 4.76s         | 4.76658e+06    | 0               |"
      ]
     },
     "metadata": {},
     "output_type": "display_data"
    },
    {
     "data": {
      "text/html": [
       "<pre>| 190       | 5.01s         | 4.57054e+06    | 0               |</pre>"
      ],
      "text/plain": [
       "| 190       | 5.01s         | 4.57054e+06    | 0               |"
      ]
     },
     "metadata": {},
     "output_type": "display_data"
    },
    {
     "data": {
      "text/html": [
       "<pre>| 200       | 5.27s         | 4.65793e+06    | 0               |</pre>"
      ],
      "text/plain": [
       "| 200       | 5.27s         | 4.65793e+06    | 0               |"
      ]
     },
     "metadata": {},
     "output_type": "display_data"
    },
    {
     "data": {
      "text/html": [
       "<pre>| 210       | 5.52s         | 4.37281e+06    | 0               |</pre>"
      ],
      "text/plain": [
       "| 210       | 5.52s         | 4.37281e+06    | 0               |"
      ]
     },
     "metadata": {},
     "output_type": "display_data"
    },
    {
     "data": {
      "text/html": [
       "<pre>| 220       | 5.77s         | 4.8222e+06     | 0               |</pre>"
      ],
      "text/plain": [
       "| 220       | 5.77s         | 4.8222e+06     | 0               |"
      ]
     },
     "metadata": {},
     "output_type": "display_data"
    },
    {
     "data": {
      "text/html": [
       "<pre>| 230       | 6.01s         | 4.80884e+06    | 0               |</pre>"
      ],
      "text/plain": [
       "| 230       | 6.01s         | 4.80884e+06    | 0               |"
      ]
     },
     "metadata": {},
     "output_type": "display_data"
    },
    {
     "data": {
      "text/html": [
       "<pre>| 240       | 6.27s         | 4.63877e+06    | 0               |</pre>"
      ],
      "text/plain": [
       "| 240       | 6.27s         | 4.63877e+06    | 0               |"
      ]
     },
     "metadata": {},
     "output_type": "display_data"
    },
    {
     "data": {
      "text/html": [
       "<pre>| 250       | 6.53s         | 4.88697e+06    | 0               |</pre>"
      ],
      "text/plain": [
       "| 250       | 6.53s         | 4.88697e+06    | 0               |"
      ]
     },
     "metadata": {},
     "output_type": "display_data"
    },
    {
     "data": {
      "text/html": [
       "<pre>| 260       | 6.78s         | 4.76295e+06    | 0               |</pre>"
      ],
      "text/plain": [
       "| 260       | 6.78s         | 4.76295e+06    | 0               |"
      ]
     },
     "metadata": {},
     "output_type": "display_data"
    },
    {
     "data": {
      "text/html": [
       "<pre>| 270       | 7.08s         | 3.78514e+06    | 0               |</pre>"
      ],
      "text/plain": [
       "| 270       | 7.08s         | 3.78514e+06    | 0               |"
      ]
     },
     "metadata": {},
     "output_type": "display_data"
    },
    {
     "data": {
      "text/html": [
       "<pre>| 280       | 7.45s         | 4.01971e+06    | 0               |</pre>"
      ],
      "text/plain": [
       "| 280       | 7.45s         | 4.01971e+06    | 0               |"
      ]
     },
     "metadata": {},
     "output_type": "display_data"
    },
    {
     "data": {
      "text/html": [
       "<pre>| 290       | 7.72s         | 4.86925e+06    | 0               |</pre>"
      ],
      "text/plain": [
       "| 290       | 7.72s         | 4.86925e+06    | 0               |"
      ]
     },
     "metadata": {},
     "output_type": "display_data"
    },
    {
     "data": {
      "text/html": [
       "<pre>| 300       | 7.96s         | 4.10305e+06    | 0               |</pre>"
      ],
      "text/plain": [
       "| 300       | 7.96s         | 4.10305e+06    | 0               |"
      ]
     },
     "metadata": {},
     "output_type": "display_data"
    },
    {
     "data": {
      "text/html": [
       "<pre>| 310       | 8.27s         | 3.86649e+06    | 0               |</pre>"
      ],
      "text/plain": [
       "| 310       | 8.27s         | 3.86649e+06    | 0               |"
      ]
     },
     "metadata": {},
     "output_type": "display_data"
    },
    {
     "data": {
      "text/html": [
       "<pre>| 320       | 8.53s         | 4.36519e+06    | 0               |</pre>"
      ],
      "text/plain": [
       "| 320       | 8.53s         | 4.36519e+06    | 0               |"
      ]
     },
     "metadata": {},
     "output_type": "display_data"
    },
    {
     "data": {
      "text/html": [
       "<pre>| 330       | 8.79s         | 3.87286e+06    | 0               |</pre>"
      ],
      "text/plain": [
       "| 330       | 8.79s         | 3.87286e+06    | 0               |"
      ]
     },
     "metadata": {},
     "output_type": "display_data"
    },
    {
     "data": {
      "text/html": [
       "<pre>| 340       | 9.06s         | 4.48727e+06    | 0               |</pre>"
      ],
      "text/plain": [
       "| 340       | 9.06s         | 4.48727e+06    | 0               |"
      ]
     },
     "metadata": {},
     "output_type": "display_data"
    },
    {
     "data": {
      "text/html": [
       "<pre>| 350       | 9.32s         | 4.56962e+06    | 0               |</pre>"
      ],
      "text/plain": [
       "| 350       | 9.32s         | 4.56962e+06    | 0               |"
      ]
     },
     "metadata": {},
     "output_type": "display_data"
    },
    {
     "data": {
      "text/html": [
       "<pre>| 360       | 9.58s         | 4.60788e+06    | 0               |</pre>"
      ],
      "text/plain": [
       "| 360       | 9.58s         | 4.60788e+06    | 0               |"
      ]
     },
     "metadata": {},
     "output_type": "display_data"
    },
    {
     "data": {
      "text/html": [
       "<pre>| 370       | 9.84s         | 4.24399e+06    | 0               |</pre>"
      ],
      "text/plain": [
       "| 370       | 9.84s         | 4.24399e+06    | 0               |"
      ]
     },
     "metadata": {},
     "output_type": "display_data"
    },
    {
     "data": {
      "text/html": [
       "<pre>| 380       | 10.11s        | 4.29424e+06    | 0               |</pre>"
      ],
      "text/plain": [
       "| 380       | 10.11s        | 4.29424e+06    | 0               |"
      ]
     },
     "metadata": {},
     "output_type": "display_data"
    },
    {
     "data": {
      "text/html": [
       "<pre>| 390       | 10.36s        | 3.66249e+06    | 0               |</pre>"
      ],
      "text/plain": [
       "| 390       | 10.36s        | 3.66249e+06    | 0               |"
      ]
     },
     "metadata": {},
     "output_type": "display_data"
    },
    {
     "data": {
      "text/html": [
       "<pre>| 400       | 10.75s        | 3.81162e+06    | 0               |</pre>"
      ],
      "text/plain": [
       "| 400       | 10.75s        | 3.81162e+06    | 0               |"
      ]
     },
     "metadata": {},
     "output_type": "display_data"
    },
    {
     "data": {
      "text/html": [
       "<pre>| 410       | 11.01s        | 4.67627e+06    | 0               |</pre>"
      ],
      "text/plain": [
       "| 410       | 11.01s        | 4.67627e+06    | 0               |"
      ]
     },
     "metadata": {},
     "output_type": "display_data"
    },
    {
     "data": {
      "text/html": [
       "<pre>| 420       | 11.26s        | 4.73417e+06    | 0               |</pre>"
      ],
      "text/plain": [
       "| 420       | 11.26s        | 4.73417e+06    | 0               |"
      ]
     },
     "metadata": {},
     "output_type": "display_data"
    },
    {
     "data": {
      "text/html": [
       "<pre>| 430       | 11.53s        | 4.37909e+06    | 0               |</pre>"
      ],
      "text/plain": [
       "| 430       | 11.53s        | 4.37909e+06    | 0               |"
      ]
     },
     "metadata": {},
     "output_type": "display_data"
    },
    {
     "data": {
      "text/html": [
       "<pre>| 440       | 11.79s        | 4.6666e+06     | 0               |</pre>"
      ],
      "text/plain": [
       "| 440       | 11.79s        | 4.6666e+06     | 0               |"
      ]
     },
     "metadata": {},
     "output_type": "display_data"
    },
    {
     "data": {
      "text/html": [
       "<pre>| 450       | 12.05s        | 4.7698e+06     | 0               |</pre>"
      ],
      "text/plain": [
       "| 450       | 12.05s        | 4.7698e+06     | 0               |"
      ]
     },
     "metadata": {},
     "output_type": "display_data"
    },
    {
     "data": {
      "text/html": [
       "<pre>| 460       | 12.31s        | 4.19413e+06    | 0               |</pre>"
      ],
      "text/plain": [
       "| 460       | 12.31s        | 4.19413e+06    | 0               |"
      ]
     },
     "metadata": {},
     "output_type": "display_data"
    },
    {
     "data": {
      "text/html": [
       "<pre>| 470       | 12.59s        | 4.80864e+06    | 0               |</pre>"
      ],
      "text/plain": [
       "| 470       | 12.59s        | 4.80864e+06    | 0               |"
      ]
     },
     "metadata": {},
     "output_type": "display_data"
    },
    {
     "data": {
      "text/html": [
       "<pre>| 480       | 12.85s        | 4.47374e+06    | 0               |</pre>"
      ],
      "text/plain": [
       "| 480       | 12.85s        | 4.47374e+06    | 0               |"
      ]
     },
     "metadata": {},
     "output_type": "display_data"
    },
    {
     "data": {
      "text/html": [
       "<pre>| 490       | 13.12s        | 4.45977e+06    | 0               |</pre>"
      ],
      "text/plain": [
       "| 490       | 13.12s        | 4.45977e+06    | 0               |"
      ]
     },
     "metadata": {},
     "output_type": "display_data"
    },
    {
     "data": {
      "text/html": [
       "<pre>| 500       | 13.38s        | 4.50735e+06    | 0               |</pre>"
      ],
      "text/plain": [
       "| 500       | 13.38s        | 4.50735e+06    | 0               |"
      ]
     },
     "metadata": {},
     "output_type": "display_data"
    },
    {
     "data": {
      "text/html": [
       "<pre>| 510       | 13.68s        | 4.75954e+06    | 0               |</pre>"
      ],
      "text/plain": [
       "| 510       | 13.68s        | 4.75954e+06    | 0               |"
      ]
     },
     "metadata": {},
     "output_type": "display_data"
    },
    {
     "data": {
      "text/html": [
       "<pre>| 520       | 13.98s        | 4.14893e+06    | 0               |</pre>"
      ],
      "text/plain": [
       "| 520       | 13.98s        | 4.14893e+06    | 0               |"
      ]
     },
     "metadata": {},
     "output_type": "display_data"
    },
    {
     "data": {
      "text/html": [
       "<pre>| 530       | 14.27s        | 3.89426e+06    | 0               |</pre>"
      ],
      "text/plain": [
       "| 530       | 14.27s        | 3.89426e+06    | 0               |"
      ]
     },
     "metadata": {},
     "output_type": "display_data"
    },
    {
     "data": {
      "text/html": [
       "<pre>| 540       | 14.56s        | 3.95446e+06    | 0               |</pre>"
      ],
      "text/plain": [
       "| 540       | 14.56s        | 3.95446e+06    | 0               |"
      ]
     },
     "metadata": {},
     "output_type": "display_data"
    },
    {
     "data": {
      "text/html": [
       "<pre>| 550       | 14.83s        | 4.77505e+06    | 0               |</pre>"
      ],
      "text/plain": [
       "| 550       | 14.83s        | 4.77505e+06    | 0               |"
      ]
     },
     "metadata": {},
     "output_type": "display_data"
    },
    {
     "data": {
      "text/html": [
       "<pre>| 560       | 15.07s        | 4.08684e+06    | 0               |</pre>"
      ],
      "text/plain": [
       "| 560       | 15.07s        | 4.08684e+06    | 0               |"
      ]
     },
     "metadata": {},
     "output_type": "display_data"
    },
    {
     "data": {
      "text/html": [
       "<pre>| 570       | 15.32s        | 4.67937e+06    | 0               |</pre>"
      ],
      "text/plain": [
       "| 570       | 15.32s        | 4.67937e+06    | 0               |"
      ]
     },
     "metadata": {},
     "output_type": "display_data"
    },
    {
     "data": {
      "text/html": [
       "<pre>| 580       | 15.56s        | 4.96943e+06    | 0               |</pre>"
      ],
      "text/plain": [
       "| 580       | 15.56s        | 4.96943e+06    | 0               |"
      ]
     },
     "metadata": {},
     "output_type": "display_data"
    },
    {
     "data": {
      "text/html": [
       "<pre>| 590       | 15.80s        | 4.27179e+06    | 0               |</pre>"
      ],
      "text/plain": [
       "| 590       | 15.80s        | 4.27179e+06    | 0               |"
      ]
     },
     "metadata": {},
     "output_type": "display_data"
    },
    {
     "data": {
      "text/html": [
       "<pre>| 600       | 16.04s        | 4.54678e+06    | 0               |</pre>"
      ],
      "text/plain": [
       "| 600       | 16.04s        | 4.54678e+06    | 0               |"
      ]
     },
     "metadata": {},
     "output_type": "display_data"
    },
    {
     "data": {
      "text/html": [
       "<pre>| 610       | 16.28s        | 5.03486e+06    | 0               |</pre>"
      ],
      "text/plain": [
       "| 610       | 16.28s        | 5.03486e+06    | 0               |"
      ]
     },
     "metadata": {},
     "output_type": "display_data"
    },
    {
     "data": {
      "text/html": [
       "<pre>| 620       | 16.52s        | 4.95632e+06    | 0               |</pre>"
      ],
      "text/plain": [
       "| 620       | 16.52s        | 4.95632e+06    | 0               |"
      ]
     },
     "metadata": {},
     "output_type": "display_data"
    },
    {
     "data": {
      "text/html": [
       "<pre>| 630       | 16.79s        | 3.64662e+06    | 0               |</pre>"
      ],
      "text/plain": [
       "| 630       | 16.79s        | 3.64662e+06    | 0               |"
      ]
     },
     "metadata": {},
     "output_type": "display_data"
    },
    {
     "data": {
      "text/html": [
       "<pre>| 640       | 17.10s        | 3.27643e+06    | 0               |</pre>"
      ],
      "text/plain": [
       "| 640       | 17.10s        | 3.27643e+06    | 0               |"
      ]
     },
     "metadata": {},
     "output_type": "display_data"
    },
    {
     "data": {
      "text/html": [
       "<pre>| 650       | 17.41s        | 2.92974e+06    | 0               |</pre>"
      ],
      "text/plain": [
       "| 650       | 17.41s        | 2.92974e+06    | 0               |"
      ]
     },
     "metadata": {},
     "output_type": "display_data"
    },
    {
     "data": {
      "text/html": [
       "<pre>| 660       | 17.84s        | 3.23973e+06    | 0               |</pre>"
      ],
      "text/plain": [
       "| 660       | 17.84s        | 3.23973e+06    | 0               |"
      ]
     },
     "metadata": {},
     "output_type": "display_data"
    },
    {
     "data": {
      "text/html": [
       "<pre>| 670       | 18.13s        | 3.36288e+06    | 0               |</pre>"
      ],
      "text/plain": [
       "| 670       | 18.13s        | 3.36288e+06    | 0               |"
      ]
     },
     "metadata": {},
     "output_type": "display_data"
    },
    {
     "data": {
      "text/html": [
       "<pre>| 680       | 18.44s        | 2.50925e+06    | 0               |</pre>"
      ],
      "text/plain": [
       "| 680       | 18.44s        | 2.50925e+06    | 0               |"
      ]
     },
     "metadata": {},
     "output_type": "display_data"
    },
    {
     "data": {
      "text/html": [
       "<pre>| 690       | 18.75s        | 4.0796e+06     | 0               |</pre>"
      ],
      "text/plain": [
       "| 690       | 18.75s        | 4.0796e+06     | 0               |"
      ]
     },
     "metadata": {},
     "output_type": "display_data"
    },
    {
     "data": {
      "text/html": [
       "<pre>| 700       | 19.03s        | 4.5567e+06     | 0               |</pre>"
      ],
      "text/plain": [
       "| 700       | 19.03s        | 4.5567e+06     | 0               |"
      ]
     },
     "metadata": {},
     "output_type": "display_data"
    },
    {
     "data": {
      "text/html": [
       "<pre>| 710       | 19.27s        | 4.81891e+06    | 0               |</pre>"
      ],
      "text/plain": [
       "| 710       | 19.27s        | 4.81891e+06    | 0               |"
      ]
     },
     "metadata": {},
     "output_type": "display_data"
    },
    {
     "data": {
      "text/html": [
       "<pre>| 720       | 19.53s        | 3.69524e+06    | 0               |</pre>"
      ],
      "text/plain": [
       "| 720       | 19.53s        | 3.69524e+06    | 0               |"
      ]
     },
     "metadata": {},
     "output_type": "display_data"
    },
    {
     "data": {
      "text/html": [
       "<pre>| 730       | 19.86s        | 3.96684e+06    | 0               |</pre>"
      ],
      "text/plain": [
       "| 730       | 19.86s        | 3.96684e+06    | 0               |"
      ]
     },
     "metadata": {},
     "output_type": "display_data"
    },
    {
     "data": {
      "text/html": [
       "<pre>| 740       | 20.14s        | 4.65812e+06    | 0               |</pre>"
      ],
      "text/plain": [
       "| 740       | 20.14s        | 4.65812e+06    | 0               |"
      ]
     },
     "metadata": {},
     "output_type": "display_data"
    },
    {
     "data": {
      "text/html": [
       "<pre>| 750       | 20.38s        | 4.79046e+06    | 0               |</pre>"
      ],
      "text/plain": [
       "| 750       | 20.38s        | 4.79046e+06    | 0               |"
      ]
     },
     "metadata": {},
     "output_type": "display_data"
    },
    {
     "data": {
      "text/html": [
       "<pre>| 760       | 20.62s        | 4.78579e+06    | 0               |</pre>"
      ],
      "text/plain": [
       "| 760       | 20.62s        | 4.78579e+06    | 0               |"
      ]
     },
     "metadata": {},
     "output_type": "display_data"
    },
    {
     "data": {
      "text/html": [
       "<pre>| 770       | 20.85s        | 5.09099e+06    | 0               |</pre>"
      ],
      "text/plain": [
       "| 770       | 20.85s        | 5.09099e+06    | 0               |"
      ]
     },
     "metadata": {},
     "output_type": "display_data"
    },
    {
     "data": {
      "text/html": [
       "<pre>| 780       | 21.09s        | 4.69437e+06    | 0               |</pre>"
      ],
      "text/plain": [
       "| 780       | 21.09s        | 4.69437e+06    | 0               |"
      ]
     },
     "metadata": {},
     "output_type": "display_data"
    },
    {
     "data": {
      "text/html": [
       "<pre>| 790       | 21.33s        | 4.99164e+06    | 0               |</pre>"
      ],
      "text/plain": [
       "| 790       | 21.33s        | 4.99164e+06    | 0               |"
      ]
     },
     "metadata": {},
     "output_type": "display_data"
    },
    {
     "data": {
      "text/html": [
       "<pre>| 800       | 21.56s        | 4.86673e+06    | 0               |</pre>"
      ],
      "text/plain": [
       "| 800       | 21.56s        | 4.86673e+06    | 0               |"
      ]
     },
     "metadata": {},
     "output_type": "display_data"
    },
    {
     "data": {
      "text/html": [
       "<pre>| 810       | 21.80s        | 4.75974e+06    | 0               |</pre>"
      ],
      "text/plain": [
       "| 810       | 21.80s        | 4.75974e+06    | 0               |"
      ]
     },
     "metadata": {},
     "output_type": "display_data"
    },
    {
     "data": {
      "text/html": [
       "<pre>| 820       | 22.04s        | 4.83481e+06    | 0               |</pre>"
      ],
      "text/plain": [
       "| 820       | 22.04s        | 4.83481e+06    | 0               |"
      ]
     },
     "metadata": {},
     "output_type": "display_data"
    },
    {
     "data": {
      "text/html": [
       "<pre>| 830       | 22.28s        | 4.6361e+06     | 0               |</pre>"
      ],
      "text/plain": [
       "| 830       | 22.28s        | 4.6361e+06     | 0               |"
      ]
     },
     "metadata": {},
     "output_type": "display_data"
    },
    {
     "data": {
      "text/html": [
       "<pre>| 840       | 22.52s        | 3.79138e+06    | 0               |</pre>"
      ],
      "text/plain": [
       "| 840       | 22.52s        | 3.79138e+06    | 0               |"
      ]
     },
     "metadata": {},
     "output_type": "display_data"
    },
    {
     "data": {
      "text/html": [
       "<pre>| 850       | 22.82s        | 4.70946e+06    | 0               |</pre>"
      ],
      "text/plain": [
       "| 850       | 22.82s        | 4.70946e+06    | 0               |"
      ]
     },
     "metadata": {},
     "output_type": "display_data"
    },
    {
     "data": {
      "text/html": [
       "<pre>| 860       | 23.08s        | 3.93213e+06    | 0               |</pre>"
      ],
      "text/plain": [
       "| 860       | 23.08s        | 3.93213e+06    | 0               |"
      ]
     },
     "metadata": {},
     "output_type": "display_data"
    },
    {
     "data": {
      "text/html": [
       "<pre>| 870       | 23.34s        | 3.70447e+06    | 0               |</pre>"
      ],
      "text/plain": [
       "| 870       | 23.34s        | 3.70447e+06    | 0               |"
      ]
     },
     "metadata": {},
     "output_type": "display_data"
    },
    {
     "data": {
      "text/html": [
       "<pre>| 880       | 23.68s        | 1.85748e+06    | 0               |</pre>"
      ],
      "text/plain": [
       "| 880       | 23.68s        | 1.85748e+06    | 0               |"
      ]
     },
     "metadata": {},
     "output_type": "display_data"
    },
    {
     "data": {
      "text/html": [
       "<pre>| 890       | 24.07s        | 4.3657e+06     | 0               |</pre>"
      ],
      "text/plain": [
       "| 890       | 24.07s        | 4.3657e+06     | 0               |"
      ]
     },
     "metadata": {},
     "output_type": "display_data"
    },
    {
     "data": {
      "text/html": [
       "<pre>| 900       | 24.34s        | 4.12089e+06    | 0               |</pre>"
      ],
      "text/plain": [
       "| 900       | 24.34s        | 4.12089e+06    | 0               |"
      ]
     },
     "metadata": {},
     "output_type": "display_data"
    },
    {
     "data": {
      "text/html": [
       "<pre>| 910       | 24.62s        | 4.0157e+06     | 0               |</pre>"
      ],
      "text/plain": [
       "| 910       | 24.62s        | 4.0157e+06     | 0               |"
      ]
     },
     "metadata": {},
     "output_type": "display_data"
    },
    {
     "data": {
      "text/html": [
       "<pre>| 920       | 24.91s        | 3.88821e+06    | 0               |</pre>"
      ],
      "text/plain": [
       "| 920       | 24.91s        | 3.88821e+06    | 0               |"
      ]
     },
     "metadata": {},
     "output_type": "display_data"
    },
    {
     "data": {
      "text/html": [
       "<pre>| 930       | 25.17s        | 4.76496e+06    | 0               |</pre>"
      ],
      "text/plain": [
       "| 930       | 25.17s        | 4.76496e+06    | 0               |"
      ]
     },
     "metadata": {},
     "output_type": "display_data"
    },
    {
     "data": {
      "text/html": [
       "<pre>| 940       | 25.46s        | 3.7549e+06     | 0               |</pre>"
      ],
      "text/plain": [
       "| 940       | 25.46s        | 3.7549e+06     | 0               |"
      ]
     },
     "metadata": {},
     "output_type": "display_data"
    },
    {
     "data": {
      "text/html": [
       "<pre>| 950       | 25.75s        | 3.39783e+06    | 0               |</pre>"
      ],
      "text/plain": [
       "| 950       | 25.75s        | 3.39783e+06    | 0               |"
      ]
     },
     "metadata": {},
     "output_type": "display_data"
    },
    {
     "data": {
      "text/html": [
       "<pre>| 960       | 26.01s        | 4.62186e+06    | 0               |</pre>"
      ],
      "text/plain": [
       "| 960       | 26.01s        | 4.62186e+06    | 0               |"
      ]
     },
     "metadata": {},
     "output_type": "display_data"
    },
    {
     "data": {
      "text/html": [
       "<pre>| 970       | 26.29s        | 4.26372e+06    | 0               |</pre>"
      ],
      "text/plain": [
       "| 970       | 26.29s        | 4.26372e+06    | 0               |"
      ]
     },
     "metadata": {},
     "output_type": "display_data"
    },
    {
     "data": {
      "text/html": [
       "<pre>| 980       | 26.57s        | 4.52344e+06    | 0               |</pre>"
      ],
      "text/plain": [
       "| 980       | 26.57s        | 4.52344e+06    | 0               |"
      ]
     },
     "metadata": {},
     "output_type": "display_data"
    },
    {
     "data": {
      "text/html": [
       "<pre>| 990       | 26.84s        | 4.67937e+06    | 0               |</pre>"
      ],
      "text/plain": [
       "| 990       | 26.84s        | 4.67937e+06    | 0               |"
      ]
     },
     "metadata": {},
     "output_type": "display_data"
    },
    {
     "data": {
      "text/html": [
       "<pre>| 1000      | 27.13s        | 4.3189e+06     | 0               |</pre>"
      ],
      "text/plain": [
       "| 1000      | 27.13s        | 4.3189e+06     | 0               |"
      ]
     },
     "metadata": {},
     "output_type": "display_data"
    },
    {
     "data": {
      "text/html": [
       "<pre>| 1010      | 27.56s        | 2.00382e+06    | 0               |</pre>"
      ],
      "text/plain": [
       "| 1010      | 27.56s        | 2.00382e+06    | 0               |"
      ]
     },
     "metadata": {},
     "output_type": "display_data"
    },
    {
     "data": {
      "text/html": [
       "<pre>| 1020      | 27.88s        | 4.11007e+06    | 0               |</pre>"
      ],
      "text/plain": [
       "| 1020      | 27.88s        | 4.11007e+06    | 0               |"
      ]
     },
     "metadata": {},
     "output_type": "display_data"
    },
    {
     "data": {
      "text/html": [
       "<pre>| 1030      | 28.18s        | 4.93659e+06    | 0               |</pre>"
      ],
      "text/plain": [
       "| 1030      | 28.18s        | 4.93659e+06    | 0               |"
      ]
     },
     "metadata": {},
     "output_type": "display_data"
    },
    {
     "data": {
      "text/html": [
       "<pre>| 1040      | 28.45s        | 4.08315e+06    | 0               |</pre>"
      ],
      "text/plain": [
       "| 1040      | 28.45s        | 4.08315e+06    | 0               |"
      ]
     },
     "metadata": {},
     "output_type": "display_data"
    },
    {
     "data": {
      "text/html": [
       "<pre>| 1050      | 28.76s        | 3.7217e+06     | 0               |</pre>"
      ],
      "text/plain": [
       "| 1050      | 28.76s        | 3.7217e+06     | 0               |"
      ]
     },
     "metadata": {},
     "output_type": "display_data"
    },
    {
     "data": {
      "text/html": [
       "<pre>| 1060      | 29.09s        | 4.35559e+06    | 0               |</pre>"
      ],
      "text/plain": [
       "| 1060      | 29.09s        | 4.35559e+06    | 0               |"
      ]
     },
     "metadata": {},
     "output_type": "display_data"
    },
    {
     "data": {
      "text/html": [
       "<pre>| 1070      | 29.37s        | 4.50573e+06    | 0               |</pre>"
      ],
      "text/plain": [
       "| 1070      | 29.37s        | 4.50573e+06    | 0               |"
      ]
     },
     "metadata": {},
     "output_type": "display_data"
    },
    {
     "data": {
      "text/html": [
       "<pre>| 1080      | 29.64s        | 4.1236e+06     | 0               |</pre>"
      ],
      "text/plain": [
       "| 1080      | 29.64s        | 4.1236e+06     | 0               |"
      ]
     },
     "metadata": {},
     "output_type": "display_data"
    },
    {
     "data": {
      "text/html": [
       "<pre>| 1090      | 29.92s        | 3.9324e+06     | 0               |</pre>"
      ],
      "text/plain": [
       "| 1090      | 29.92s        | 3.9324e+06     | 0               |"
      ]
     },
     "metadata": {},
     "output_type": "display_data"
    },
    {
     "data": {
      "text/html": [
       "<pre>| 1100      | 30.23s        | 2.69311e+06    | 0               |</pre>"
      ],
      "text/plain": [
       "| 1100      | 30.23s        | 2.69311e+06    | 0               |"
      ]
     },
     "metadata": {},
     "output_type": "display_data"
    },
    {
     "data": {
      "text/html": [
       "<pre>| 1110      | 30.59s        | 2.80641e+06    | 0               |</pre>"
      ],
      "text/plain": [
       "| 1110      | 30.59s        | 2.80641e+06    | 0               |"
      ]
     },
     "metadata": {},
     "output_type": "display_data"
    },
    {
     "data": {
      "text/html": [
       "<pre>| 1120      | 30.92s        | 2.78576e+06    | 0               |</pre>"
      ],
      "text/plain": [
       "| 1120      | 30.92s        | 2.78576e+06    | 0               |"
      ]
     },
     "metadata": {},
     "output_type": "display_data"
    },
    {
     "data": {
      "text/html": [
       "<pre>| 1130      | 31.34s        | 3.52922e+06    | 0               |</pre>"
      ],
      "text/plain": [
       "| 1130      | 31.34s        | 3.52922e+06    | 0               |"
      ]
     },
     "metadata": {},
     "output_type": "display_data"
    },
    {
     "data": {
      "text/html": [
       "<pre>| 1140      | 31.59s        | 4.42548e+06    | 0               |</pre>"
      ],
      "text/plain": [
       "| 1140      | 31.59s        | 4.42548e+06    | 0               |"
      ]
     },
     "metadata": {},
     "output_type": "display_data"
    },
    {
     "data": {
      "text/html": [
       "<pre>| 1150      | 31.83s        | 4.75773e+06    | 0               |</pre>"
      ],
      "text/plain": [
       "| 1150      | 31.83s        | 4.75773e+06    | 0               |"
      ]
     },
     "metadata": {},
     "output_type": "display_data"
    },
    {
     "data": {
      "text/html": [
       "<pre>| 1160      | 32.08s        | 5.04657e+06    | 0               |</pre>"
      ],
      "text/plain": [
       "| 1160      | 32.08s        | 5.04657e+06    | 0               |"
      ]
     },
     "metadata": {},
     "output_type": "display_data"
    },
    {
     "data": {
      "text/html": [
       "<pre>| 1170      | 32.33s        | 4.39479e+06    | 0               |</pre>"
      ],
      "text/plain": [
       "| 1170      | 32.33s        | 4.39479e+06    | 0               |"
      ]
     },
     "metadata": {},
     "output_type": "display_data"
    },
    {
     "data": {
      "text/html": [
       "<pre>| 1180      | 32.57s        | 3.98943e+06    | 0               |</pre>"
      ],
      "text/plain": [
       "| 1180      | 32.57s        | 3.98943e+06    | 0               |"
      ]
     },
     "metadata": {},
     "output_type": "display_data"
    },
    {
     "data": {
      "text/html": [
       "<pre>| 1190      | 32.81s        | 4.89015e+06    | 0               |</pre>"
      ],
      "text/plain": [
       "| 1190      | 32.81s        | 4.89015e+06    | 0               |"
      ]
     },
     "metadata": {},
     "output_type": "display_data"
    },
    {
     "data": {
      "text/html": [
       "<pre>| 1200      | 33.05s        | 4.70083e+06    | 0               |</pre>"
      ],
      "text/plain": [
       "| 1200      | 33.05s        | 4.70083e+06    | 0               |"
      ]
     },
     "metadata": {},
     "output_type": "display_data"
    },
    {
     "data": {
      "text/html": [
       "<pre>| 1210      | 33.29s        | 4.16301e+06    | 0               |</pre>"
      ],
      "text/plain": [
       "| 1210      | 33.29s        | 4.16301e+06    | 0               |"
      ]
     },
     "metadata": {},
     "output_type": "display_data"
    },
    {
     "data": {
      "text/html": [
       "<pre>| 1220      | 33.55s        | 4.2311e+06     | 0               |</pre>"
      ],
      "text/plain": [
       "| 1220      | 33.55s        | 4.2311e+06     | 0               |"
      ]
     },
     "metadata": {},
     "output_type": "display_data"
    },
    {
     "data": {
      "text/html": [
       "<pre>| 1230      | 33.79s        | 4.6819e+06     | 0               |</pre>"
      ],
      "text/plain": [
       "| 1230      | 33.79s        | 4.6819e+06     | 0               |"
      ]
     },
     "metadata": {},
     "output_type": "display_data"
    },
    {
     "data": {
      "text/html": [
       "<pre>| 1240      | 34.11s        | 4.14268e+06    | 0               |</pre>"
      ],
      "text/plain": [
       "| 1240      | 34.11s        | 4.14268e+06    | 0               |"
      ]
     },
     "metadata": {},
     "output_type": "display_data"
    },
    {
     "data": {
      "text/html": [
       "<pre>| 1250      | 34.39s        | 4.9381e+06     | 0               |</pre>"
      ],
      "text/plain": [
       "| 1250      | 34.39s        | 4.9381e+06     | 0               |"
      ]
     },
     "metadata": {},
     "output_type": "display_data"
    },
    {
     "data": {
      "text/html": [
       "<pre>| 1260      | 34.66s        | 4.17133e+06    | 0               |</pre>"
      ],
      "text/plain": [
       "| 1260      | 34.66s        | 4.17133e+06    | 0               |"
      ]
     },
     "metadata": {},
     "output_type": "display_data"
    },
    {
     "data": {
      "text/html": [
       "<pre>| 1270      | 34.93s        | 4.46418e+06    | 0               |</pre>"
      ],
      "text/plain": [
       "| 1270      | 34.93s        | 4.46418e+06    | 0               |"
      ]
     },
     "metadata": {},
     "output_type": "display_data"
    },
    {
     "data": {
      "text/html": [
       "<pre>| 1280      | 35.17s        | 4.44448e+06    | 0               |</pre>"
      ],
      "text/plain": [
       "| 1280      | 35.17s        | 4.44448e+06    | 0               |"
      ]
     },
     "metadata": {},
     "output_type": "display_data"
    },
    {
     "data": {
      "text/html": [
       "<pre>| 1290      | 35.45s        | 4.10409e+06    | 0               |</pre>"
      ],
      "text/plain": [
       "| 1290      | 35.45s        | 4.10409e+06    | 0               |"
      ]
     },
     "metadata": {},
     "output_type": "display_data"
    },
    {
     "data": {
      "text/html": [
       "<pre>| 1300      | 35.75s        | 2.82752e+06    | 0               |</pre>"
      ],
      "text/plain": [
       "| 1300      | 35.75s        | 2.82752e+06    | 0               |"
      ]
     },
     "metadata": {},
     "output_type": "display_data"
    },
    {
     "data": {
      "text/html": [
       "<pre>| 1310      | 36.07s        | 3.98618e+06    | 0               |</pre>"
      ],
      "text/plain": [
       "| 1310      | 36.07s        | 3.98618e+06    | 0               |"
      ]
     },
     "metadata": {},
     "output_type": "display_data"
    },
    {
     "data": {
      "text/html": [
       "<pre>| 1320      | 36.39s        | 4.84041e+06    | 0               |</pre>"
      ],
      "text/plain": [
       "| 1320      | 36.39s        | 4.84041e+06    | 0               |"
      ]
     },
     "metadata": {},
     "output_type": "display_data"
    },
    {
     "data": {
      "text/html": [
       "<pre>| 1330      | 36.64s        | 4.74752e+06    | 0               |</pre>"
      ],
      "text/plain": [
       "| 1330      | 36.64s        | 4.74752e+06    | 0               |"
      ]
     },
     "metadata": {},
     "output_type": "display_data"
    },
    {
     "data": {
      "text/html": [
       "<pre>| 1340      | 36.88s        | 4.57351e+06    | 0               |</pre>"
      ],
      "text/plain": [
       "| 1340      | 36.88s        | 4.57351e+06    | 0               |"
      ]
     },
     "metadata": {},
     "output_type": "display_data"
    },
    {
     "data": {
      "text/html": [
       "<pre>| 1350      | 37.15s        | 3.44273e+06    | 0               |</pre>"
      ],
      "text/plain": [
       "| 1350      | 37.15s        | 3.44273e+06    | 0               |"
      ]
     },
     "metadata": {},
     "output_type": "display_data"
    },
    {
     "data": {
      "text/html": [
       "<pre>| 1360      | 37.42s        | 4.43592e+06    | 0               |</pre>"
      ],
      "text/plain": [
       "| 1360      | 37.42s        | 4.43592e+06    | 0               |"
      ]
     },
     "metadata": {},
     "output_type": "display_data"
    },
    {
     "data": {
      "text/html": [
       "<pre>| 1370      | 37.67s        | 4.77222e+06    | 0               |</pre>"
      ],
      "text/plain": [
       "| 1370      | 37.67s        | 4.77222e+06    | 0               |"
      ]
     },
     "metadata": {},
     "output_type": "display_data"
    },
    {
     "data": {
      "text/html": [
       "<pre>| 1380      | 37.90s        | 4.58802e+06    | 0               |</pre>"
      ],
      "text/plain": [
       "| 1380      | 37.90s        | 4.58802e+06    | 0               |"
      ]
     },
     "metadata": {},
     "output_type": "display_data"
    },
    {
     "data": {
      "text/html": [
       "<pre>| 1390      | 38.16s        | 4.276e+06      | 0               |</pre>"
      ],
      "text/plain": [
       "| 1390      | 38.16s        | 4.276e+06      | 0               |"
      ]
     },
     "metadata": {},
     "output_type": "display_data"
    },
    {
     "data": {
      "text/html": [
       "<pre>| 1400      | 38.40s        | 4.4573e+06     | 0               |</pre>"
      ],
      "text/plain": [
       "| 1400      | 38.40s        | 4.4573e+06     | 0               |"
      ]
     },
     "metadata": {},
     "output_type": "display_data"
    },
    {
     "data": {
      "text/html": [
       "<pre>| 1410      | 38.63s        | 4.72485e+06    | 0               |</pre>"
      ],
      "text/plain": [
       "| 1410      | 38.63s        | 4.72485e+06    | 0               |"
      ]
     },
     "metadata": {},
     "output_type": "display_data"
    },
    {
     "data": {
      "text/html": [
       "<pre>| 1420      | 38.88s        | 4.93292e+06    | 0               |</pre>"
      ],
      "text/plain": [
       "| 1420      | 38.88s        | 4.93292e+06    | 0               |"
      ]
     },
     "metadata": {},
     "output_type": "display_data"
    },
    {
     "data": {
      "text/html": [
       "<pre>| 1430      | 39.12s        | 5.20612e+06    | 0               |</pre>"
      ],
      "text/plain": [
       "| 1430      | 39.12s        | 5.20612e+06    | 0               |"
      ]
     },
     "metadata": {},
     "output_type": "display_data"
    },
    {
     "data": {
      "text/html": [
       "<pre>| 1440      | 39.35s        | 4.84041e+06    | 0               |</pre>"
      ],
      "text/plain": [
       "| 1440      | 39.35s        | 4.84041e+06    | 0               |"
      ]
     },
     "metadata": {},
     "output_type": "display_data"
    },
    {
     "data": {
      "text/html": [
       "<pre>| 1450      | 39.58s        | 4.75512e+06    | 0               |</pre>"
      ],
      "text/plain": [
       "| 1450      | 39.58s        | 4.75512e+06    | 0               |"
      ]
     },
     "metadata": {},
     "output_type": "display_data"
    },
    {
     "data": {
      "text/html": [
       "<pre>| 1460      | 39.89s        | 3.9148e+06     | 0               |</pre>"
      ],
      "text/plain": [
       "| 1460      | 39.89s        | 3.9148e+06     | 0               |"
      ]
     },
     "metadata": {},
     "output_type": "display_data"
    },
    {
     "data": {
      "text/html": [
       "<pre>| 1470      | 40.18s        | 4.02171e+06    | 0               |</pre>"
      ],
      "text/plain": [
       "| 1470      | 40.18s        | 4.02171e+06    | 0               |"
      ]
     },
     "metadata": {},
     "output_type": "display_data"
    },
    {
     "data": {
      "text/html": [
       "<pre>| 1480      | 40.49s        | 3.70374e+06    | 0               |</pre>"
      ],
      "text/plain": [
       "| 1480      | 40.49s        | 3.70374e+06    | 0               |"
      ]
     },
     "metadata": {},
     "output_type": "display_data"
    },
    {
     "data": {
      "text/html": [
       "<pre>| 1490      | 40.74s        | 4.79759e+06    | 0               |</pre>"
      ],
      "text/plain": [
       "| 1490      | 40.74s        | 4.79759e+06    | 0               |"
      ]
     },
     "metadata": {},
     "output_type": "display_data"
    },
    {
     "data": {
      "text/html": [
       "<pre>| 1500      | 41.03s        | 3.86358e+06    | 0               |</pre>"
      ],
      "text/plain": [
       "| 1500      | 41.03s        | 3.86358e+06    | 0               |"
      ]
     },
     "metadata": {},
     "output_type": "display_data"
    },
    {
     "data": {
      "text/html": [
       "<pre>| 1510      | 41.29s        | 4.63306e+06    | 0               |</pre>"
      ],
      "text/plain": [
       "| 1510      | 41.29s        | 4.63306e+06    | 0               |"
      ]
     },
     "metadata": {},
     "output_type": "display_data"
    },
    {
     "data": {
      "text/html": [
       "<pre>| 1520      | 41.58s        | 3.49067e+06    | 0               |</pre>"
      ],
      "text/plain": [
       "| 1520      | 41.58s        | 3.49067e+06    | 0               |"
      ]
     },
     "metadata": {},
     "output_type": "display_data"
    },
    {
     "data": {
      "text/html": [
       "<pre>| 1530      | 41.89s        | 3.76556e+06    | 0               |</pre>"
      ],
      "text/plain": [
       "| 1530      | 41.89s        | 3.76556e+06    | 0               |"
      ]
     },
     "metadata": {},
     "output_type": "display_data"
    },
    {
     "data": {
      "text/html": [
       "<pre>| 1540      | 42.19s        | 3.87512e+06    | 0               |</pre>"
      ],
      "text/plain": [
       "| 1540      | 42.19s        | 3.87512e+06    | 0               |"
      ]
     },
     "metadata": {},
     "output_type": "display_data"
    },
    {
     "data": {
      "text/html": [
       "<pre>| 1550      | 42.46s        | 3.7554e+06     | 0               |</pre>"
      ],
      "text/plain": [
       "| 1550      | 42.46s        | 3.7554e+06     | 0               |"
      ]
     },
     "metadata": {},
     "output_type": "display_data"
    },
    {
     "data": {
      "text/html": [
       "<pre>| 1560      | 42.80s        | 3.5192e+06     | 0               |</pre>"
      ],
      "text/plain": [
       "| 1560      | 42.80s        | 3.5192e+06     | 0               |"
      ]
     },
     "metadata": {},
     "output_type": "display_data"
    },
    {
     "data": {
      "text/html": [
       "<pre>| 1570      | 43.12s        | 3.80763e+06    | 0               |</pre>"
      ],
      "text/plain": [
       "| 1570      | 43.12s        | 3.80763e+06    | 0               |"
      ]
     },
     "metadata": {},
     "output_type": "display_data"
    },
    {
     "data": {
      "text/html": [
       "<pre>| 1580      | 43.43s        | 3.5727e+06     | 0               |</pre>"
      ],
      "text/plain": [
       "| 1580      | 43.43s        | 3.5727e+06     | 0               |"
      ]
     },
     "metadata": {},
     "output_type": "display_data"
    },
    {
     "data": {
      "text/html": [
       "<pre>| 1590      | 43.69s        | 4.64507e+06    | 0               |</pre>"
      ],
      "text/plain": [
       "| 1590      | 43.69s        | 4.64507e+06    | 0               |"
      ]
     },
     "metadata": {},
     "output_type": "display_data"
    },
    {
     "data": {
      "text/html": [
       "<pre>| 1600      | 43.94s        | 4.72722e+06    | 0               |</pre>"
      ],
      "text/plain": [
       "| 1600      | 43.94s        | 4.72722e+06    | 0               |"
      ]
     },
     "metadata": {},
     "output_type": "display_data"
    },
    {
     "data": {
      "text/html": [
       "<pre>| 1610      | 44.17s        | 4.61109e+06    | 0               |</pre>"
      ],
      "text/plain": [
       "| 1610      | 44.17s        | 4.61109e+06    | 0               |"
      ]
     },
     "metadata": {},
     "output_type": "display_data"
    },
    {
     "data": {
      "text/html": [
       "<pre>| 1620      | 44.45s        | 3.91874e+06    | 0               |</pre>"
      ],
      "text/plain": [
       "| 1620      | 44.45s        | 3.91874e+06    | 0               |"
      ]
     },
     "metadata": {},
     "output_type": "display_data"
    },
    {
     "data": {
      "text/html": [
       "<pre>| 1630      | 44.75s        | 3.63347e+06    | 0               |</pre>"
      ],
      "text/plain": [
       "| 1630      | 44.75s        | 3.63347e+06    | 0               |"
      ]
     },
     "metadata": {},
     "output_type": "display_data"
    },
    {
     "data": {
      "text/html": [
       "<pre>| 1640      | 45.05s        | 3.30049e+06    | 0               |</pre>"
      ],
      "text/plain": [
       "| 1640      | 45.05s        | 3.30049e+06    | 0               |"
      ]
     },
     "metadata": {},
     "output_type": "display_data"
    },
    {
     "data": {
      "text/html": [
       "<pre>| 1650      | 45.34s        | 4.26501e+06    | 0               |</pre>"
      ],
      "text/plain": [
       "| 1650      | 45.34s        | 4.26501e+06    | 0               |"
      ]
     },
     "metadata": {},
     "output_type": "display_data"
    },
    {
     "data": {
      "text/html": [
       "<pre>| 1660      | 45.60s        | 4.5209e+06     | 0               |</pre>"
      ],
      "text/plain": [
       "| 1660      | 45.60s        | 4.5209e+06     | 0               |"
      ]
     },
     "metadata": {},
     "output_type": "display_data"
    },
    {
     "data": {
      "text/html": [
       "<pre>| 1670      | 45.84s        | 5.2916e+06     | 0               |</pre>"
      ],
      "text/plain": [
       "| 1670      | 45.84s        | 5.2916e+06     | 0               |"
      ]
     },
     "metadata": {},
     "output_type": "display_data"
    },
    {
     "data": {
      "text/html": [
       "<pre>| 1680      | 46.11s        | 4.48263e+06    | 0               |</pre>"
      ],
      "text/plain": [
       "| 1680      | 46.11s        | 4.48263e+06    | 0               |"
      ]
     },
     "metadata": {},
     "output_type": "display_data"
    },
    {
     "data": {
      "text/html": [
       "<pre>| 1690      | 46.34s        | 4.8802e+06     | 0               |</pre>"
      ],
      "text/plain": [
       "| 1690      | 46.34s        | 4.8802e+06     | 0               |"
      ]
     },
     "metadata": {},
     "output_type": "display_data"
    },
    {
     "data": {
      "text/html": [
       "<pre>| 1700      | 46.57s        | 4.95872e+06    | 0               |</pre>"
      ],
      "text/plain": [
       "| 1700      | 46.57s        | 4.95872e+06    | 0               |"
      ]
     },
     "metadata": {},
     "output_type": "display_data"
    },
    {
     "data": {
      "text/html": [
       "<pre>| 1710      | 46.81s        | 4.85792e+06    | 0               |</pre>"
      ],
      "text/plain": [
       "| 1710      | 46.81s        | 4.85792e+06    | 0               |"
      ]
     },
     "metadata": {},
     "output_type": "display_data"
    },
    {
     "data": {
      "text/html": [
       "<pre>| 1720      | 47.06s        | 5.00982e+06    | 0               |</pre>"
      ],
      "text/plain": [
       "| 1720      | 47.06s        | 5.00982e+06    | 0               |"
      ]
     },
     "metadata": {},
     "output_type": "display_data"
    },
    {
     "data": {
      "text/html": [
       "<pre>| 1730      | 47.29s        | 4.89227e+06    | 0               |</pre>"
      ],
      "text/plain": [
       "| 1730      | 47.29s        | 4.89227e+06    | 0               |"
      ]
     },
     "metadata": {},
     "output_type": "display_data"
    },
    {
     "data": {
      "text/html": [
       "<pre>| 1740      | 47.56s        | 4.63077e+06    | 0               |</pre>"
      ],
      "text/plain": [
       "| 1740      | 47.56s        | 4.63077e+06    | 0               |"
      ]
     },
     "metadata": {},
     "output_type": "display_data"
    },
    {
     "data": {
      "text/html": [
       "<pre>| 1750      | 47.83s        | 4.15061e+06    | 0               |</pre>"
      ],
      "text/plain": [
       "| 1750      | 47.83s        | 4.15061e+06    | 0               |"
      ]
     },
     "metadata": {},
     "output_type": "display_data"
    },
    {
     "data": {
      "text/html": [
       "<pre>| 1760      | 48.08s        | 4.71951e+06    | 0               |</pre>"
      ],
      "text/plain": [
       "| 1760      | 48.08s        | 4.71951e+06    | 0               |"
      ]
     },
     "metadata": {},
     "output_type": "display_data"
    },
    {
     "data": {
      "text/html": [
       "<pre>| 1770      | 48.32s        | 4.78376e+06    | 0               |</pre>"
      ],
      "text/plain": [
       "| 1770      | 48.32s        | 4.78376e+06    | 0               |"
      ]
     },
     "metadata": {},
     "output_type": "display_data"
    },
    {
     "data": {
      "text/html": [
       "<pre>| 1780      | 48.55s        | 4.79718e+06    | 0               |</pre>"
      ],
      "text/plain": [
       "| 1780      | 48.55s        | 4.79718e+06    | 0               |"
      ]
     },
     "metadata": {},
     "output_type": "display_data"
    },
    {
     "data": {
      "text/html": [
       "<pre>| 1790      | 48.81s        | 4.47481e+06    | 0               |</pre>"
      ],
      "text/plain": [
       "| 1790      | 48.81s        | 4.47481e+06    | 0               |"
      ]
     },
     "metadata": {},
     "output_type": "display_data"
    },
    {
     "data": {
      "text/html": [
       "<pre>| 1800      | 49.09s        | 4.00472e+06    | 0               |</pre>"
      ],
      "text/plain": [
       "| 1800      | 49.09s        | 4.00472e+06    | 0               |"
      ]
     },
     "metadata": {},
     "output_type": "display_data"
    },
    {
     "data": {
      "text/html": [
       "<pre>| 1810      | 49.35s        | 4.78822e+06    | 0               |</pre>"
      ],
      "text/plain": [
       "| 1810      | 49.35s        | 4.78822e+06    | 0               |"
      ]
     },
     "metadata": {},
     "output_type": "display_data"
    },
    {
     "data": {
      "text/html": [
       "<pre>| 1820      | 49.60s        | 4.51114e+06    | 0               |</pre>"
      ],
      "text/plain": [
       "| 1820      | 49.60s        | 4.51114e+06    | 0               |"
      ]
     },
     "metadata": {},
     "output_type": "display_data"
    },
    {
     "data": {
      "text/html": [
       "<pre>| 1830      | 49.84s        | 4.41284e+06    | 0               |</pre>"
      ],
      "text/plain": [
       "| 1830      | 49.84s        | 4.41284e+06    | 0               |"
      ]
     },
     "metadata": {},
     "output_type": "display_data"
    },
    {
     "data": {
      "text/html": [
       "<pre>| 1840      | 50.08s        | 4.87156e+06    | 0               |</pre>"
      ],
      "text/plain": [
       "| 1840      | 50.08s        | 4.87156e+06    | 0               |"
      ]
     },
     "metadata": {},
     "output_type": "display_data"
    },
    {
     "data": {
      "text/html": [
       "<pre>| 1850      | 50.38s        | 4.90652e+06    | 0               |</pre>"
      ],
      "text/plain": [
       "| 1850      | 50.38s        | 4.90652e+06    | 0               |"
      ]
     },
     "metadata": {},
     "output_type": "display_data"
    },
    {
     "data": {
      "text/html": [
       "<pre>| 1860      | 50.63s        | 4.07886e+06    | 0               |</pre>"
      ],
      "text/plain": [
       "| 1860      | 50.63s        | 4.07886e+06    | 0               |"
      ]
     },
     "metadata": {},
     "output_type": "display_data"
    },
    {
     "data": {
      "text/html": [
       "<pre>| 1870      | 50.89s        | 4.62034e+06    | 0               |</pre>"
      ],
      "text/plain": [
       "| 1870      | 50.89s        | 4.62034e+06    | 0               |"
      ]
     },
     "metadata": {},
     "output_type": "display_data"
    },
    {
     "data": {
      "text/html": [
       "<pre>| 1880      | 51.14s        | 4.9859e+06     | 0               |</pre>"
      ],
      "text/plain": [
       "| 1880      | 51.14s        | 4.9859e+06     | 0               |"
      ]
     },
     "metadata": {},
     "output_type": "display_data"
    },
    {
     "data": {
      "text/html": [
       "<pre>| 1890      | 51.40s        | 4.20931e+06    | 0               |</pre>"
      ],
      "text/plain": [
       "| 1890      | 51.40s        | 4.20931e+06    | 0               |"
      ]
     },
     "metadata": {},
     "output_type": "display_data"
    },
    {
     "data": {
      "text/html": [
       "<pre>| 1900      | 51.69s        | 3.67227e+06    | 0               |</pre>"
      ],
      "text/plain": [
       "| 1900      | 51.69s        | 3.67227e+06    | 0               |"
      ]
     },
     "metadata": {},
     "output_type": "display_data"
    },
    {
     "data": {
      "text/html": [
       "<pre>| 1910      | 52.07s        | 3.2415e+06     | 0               |</pre>"
      ],
      "text/plain": [
       "| 1910      | 52.07s        | 3.2415e+06     | 0               |"
      ]
     },
     "metadata": {},
     "output_type": "display_data"
    },
    {
     "data": {
      "text/html": [
       "<pre>| 1920      | 52.44s        | 2.68223e+06    | 0               |</pre>"
      ],
      "text/plain": [
       "| 1920      | 52.44s        | 2.68223e+06    | 0               |"
      ]
     },
     "metadata": {},
     "output_type": "display_data"
    },
    {
     "data": {
      "text/html": [
       "<pre>| 1930      | 52.75s        | 3.25939e+06    | 0               |</pre>"
      ],
      "text/plain": [
       "| 1930      | 52.75s        | 3.25939e+06    | 0               |"
      ]
     },
     "metadata": {},
     "output_type": "display_data"
    },
    {
     "data": {
      "text/html": [
       "<pre>| 1940      | 53.09s        | 2.72046e+06    | 0               |</pre>"
      ],
      "text/plain": [
       "| 1940      | 53.09s        | 2.72046e+06    | 0               |"
      ]
     },
     "metadata": {},
     "output_type": "display_data"
    },
    {
     "data": {
      "text/html": [
       "<pre>| 1950      | 53.44s        | 4.05336e+06    | 0               |</pre>"
      ],
      "text/plain": [
       "| 1950      | 53.44s        | 4.05336e+06    | 0               |"
      ]
     },
     "metadata": {},
     "output_type": "display_data"
    },
    {
     "data": {
      "text/html": [
       "<pre>| 1960      | 53.74s        | 4.33617e+06    | 0               |</pre>"
      ],
      "text/plain": [
       "| 1960      | 53.74s        | 4.33617e+06    | 0               |"
      ]
     },
     "metadata": {},
     "output_type": "display_data"
    },
    {
     "data": {
      "text/html": [
       "<pre>| 1970      | 54.05s        | 3.69645e+06    | 0               |</pre>"
      ],
      "text/plain": [
       "| 1970      | 54.05s        | 3.69645e+06    | 0               |"
      ]
     },
     "metadata": {},
     "output_type": "display_data"
    },
    {
     "data": {
      "text/html": [
       "<pre>| 1980      | 54.34s        | 4.07253e+06    | 0               |</pre>"
      ],
      "text/plain": [
       "| 1980      | 54.34s        | 4.07253e+06    | 0               |"
      ]
     },
     "metadata": {},
     "output_type": "display_data"
    },
    {
     "data": {
      "text/html": [
       "<pre>| 1990      | 54.63s        | 3.80686e+06    | 0               |</pre>"
      ],
      "text/plain": [
       "| 1990      | 54.63s        | 3.80686e+06    | 0               |"
      ]
     },
     "metadata": {},
     "output_type": "display_data"
    },
    {
     "data": {
      "text/html": [
       "<pre>| 2000      | 54.90s        | 4.76577e+06    | 0               |</pre>"
      ],
      "text/plain": [
       "| 2000      | 54.90s        | 4.76577e+06    | 0               |"
      ]
     },
     "metadata": {},
     "output_type": "display_data"
    },
    {
     "data": {
      "text/html": [
       "<pre>| 2010      | 55.17s        | 3.59961e+06    | 0               |</pre>"
      ],
      "text/plain": [
       "| 2010      | 55.17s        | 3.59961e+06    | 0               |"
      ]
     },
     "metadata": {},
     "output_type": "display_data"
    },
    {
     "data": {
      "text/html": [
       "<pre>| 2020      | 55.43s        | 4.74552e+06    | 0               |</pre>"
      ],
      "text/plain": [
       "| 2020      | 55.43s        | 4.74552e+06    | 0               |"
      ]
     },
     "metadata": {},
     "output_type": "display_data"
    },
    {
     "data": {
      "text/html": [
       "<pre>| 2030      | 55.70s        | 3.989e+06      | 0               |</pre>"
      ],
      "text/plain": [
       "| 2030      | 55.70s        | 3.989e+06      | 0               |"
      ]
     },
     "metadata": {},
     "output_type": "display_data"
    },
    {
     "data": {
      "text/html": [
       "<pre>| 2040      | 56.04s        | 3.53708e+06    | 0               |</pre>"
      ],
      "text/plain": [
       "| 2040      | 56.04s        | 3.53708e+06    | 0               |"
      ]
     },
     "metadata": {},
     "output_type": "display_data"
    },
    {
     "data": {
      "text/html": [
       "<pre>| 2050      | 56.31s        | 4.28738e+06    | 0               |</pre>"
      ],
      "text/plain": [
       "| 2050      | 56.31s        | 4.28738e+06    | 0               |"
      ]
     },
     "metadata": {},
     "output_type": "display_data"
    },
    {
     "data": {
      "text/html": [
       "<pre>| 2060      | 56.59s        | 4.24815e+06    | 0               |</pre>"
      ],
      "text/plain": [
       "| 2060      | 56.59s        | 4.24815e+06    | 0               |"
      ]
     },
     "metadata": {},
     "output_type": "display_data"
    },
    {
     "data": {
      "text/html": [
       "<pre>| 2070      | 56.91s        | 4.18867e+06    | 0               |</pre>"
      ],
      "text/plain": [
       "| 2070      | 56.91s        | 4.18867e+06    | 0               |"
      ]
     },
     "metadata": {},
     "output_type": "display_data"
    },
    {
     "data": {
      "text/html": [
       "<pre>| 2080      | 57.19s        | 3.74344e+06    | 0               |</pre>"
      ],
      "text/plain": [
       "| 2080      | 57.19s        | 3.74344e+06    | 0               |"
      ]
     },
     "metadata": {},
     "output_type": "display_data"
    },
    {
     "data": {
      "text/html": [
       "<pre>| 2090      | 57.44s        | 4.61127e+06    | 0               |</pre>"
      ],
      "text/plain": [
       "| 2090      | 57.44s        | 4.61127e+06    | 0               |"
      ]
     },
     "metadata": {},
     "output_type": "display_data"
    },
    {
     "data": {
      "text/html": [
       "<pre>| 2100      | 57.68s        | 4.74153e+06    | 0               |</pre>"
      ],
      "text/plain": [
       "| 2100      | 57.68s        | 4.74153e+06    | 0               |"
      ]
     },
     "metadata": {},
     "output_type": "display_data"
    },
    {
     "data": {
      "text/html": [
       "<pre>| 2110      | 57.94s        | 4.07341e+06    | 0               |</pre>"
      ],
      "text/plain": [
       "| 2110      | 57.94s        | 4.07341e+06    | 0               |"
      ]
     },
     "metadata": {},
     "output_type": "display_data"
    },
    {
     "data": {
      "text/html": [
       "<pre>| 2120      | 58.18s        | 4.86044e+06    | 0               |</pre>"
      ],
      "text/plain": [
       "| 2120      | 58.18s        | 4.86044e+06    | 0               |"
      ]
     },
     "metadata": {},
     "output_type": "display_data"
    },
    {
     "data": {
      "text/html": [
       "<pre>| 2130      | 58.43s        | 4.57314e+06    | 0               |</pre>"
      ],
      "text/plain": [
       "| 2130      | 58.43s        | 4.57314e+06    | 0               |"
      ]
     },
     "metadata": {},
     "output_type": "display_data"
    },
    {
     "data": {
      "text/html": [
       "<pre>| 2140      | 58.67s        | 4.62413e+06    | 0               |</pre>"
      ],
      "text/plain": [
       "| 2140      | 58.67s        | 4.62413e+06    | 0               |"
      ]
     },
     "metadata": {},
     "output_type": "display_data"
    },
    {
     "data": {
      "text/html": [
       "<pre>| 2150      | 58.93s        | 3.97635e+06    | 0               |</pre>"
      ],
      "text/plain": [
       "| 2150      | 58.93s        | 3.97635e+06    | 0               |"
      ]
     },
     "metadata": {},
     "output_type": "display_data"
    },
    {
     "data": {
      "text/html": [
       "<pre>| 2160      | 59.17s        | 4.7694e+06     | 0               |</pre>"
      ],
      "text/plain": [
       "| 2160      | 59.17s        | 4.7694e+06     | 0               |"
      ]
     },
     "metadata": {},
     "output_type": "display_data"
    },
    {
     "data": {
      "text/html": [
       "<pre>| 2170      | 59.41s        | 4.49747e+06    | 0               |</pre>"
      ],
      "text/plain": [
       "| 2170      | 59.41s        | 4.49747e+06    | 0               |"
      ]
     },
     "metadata": {},
     "output_type": "display_data"
    },
    {
     "data": {
      "text/html": [
       "<pre>| 2180      | 59.71s        | 3.24785e+06    | 0               |</pre>"
      ],
      "text/plain": [
       "| 2180      | 59.71s        | 3.24785e+06    | 0               |"
      ]
     },
     "metadata": {},
     "output_type": "display_data"
    },
    {
     "data": {
      "text/html": [
       "<pre>| 2190      | 1m 0s         | 2.73503e+06    | 0               |</pre>"
      ],
      "text/plain": [
       "| 2190      | 1m 0s         | 2.73503e+06    | 0               |"
      ]
     },
     "metadata": {},
     "output_type": "display_data"
    },
    {
     "data": {
      "text/html": [
       "<pre>| 2200      | 1m 0s         | 3.15925e+06    | 0               |</pre>"
      ],
      "text/plain": [
       "| 2200      | 1m 0s         | 3.15925e+06    | 0               |"
      ]
     },
     "metadata": {},
     "output_type": "display_data"
    },
    {
     "data": {
      "text/html": [
       "<pre>| 2210      | 1m 0s         | 4.31906e+06    | 0               |</pre>"
      ],
      "text/plain": [
       "| 2210      | 1m 0s         | 4.31906e+06    | 0               |"
      ]
     },
     "metadata": {},
     "output_type": "display_data"
    },
    {
     "data": {
      "text/html": [
       "<pre>| 2220      | 1m 0s         | 3.87979e+06    | 0               |</pre>"
      ],
      "text/plain": [
       "| 2220      | 1m 0s         | 3.87979e+06    | 0               |"
      ]
     },
     "metadata": {},
     "output_type": "display_data"
    },
    {
     "data": {
      "text/html": [
       "<pre>| 2230      | 1m 1s         | 1.58812e+06    | 0               |</pre>"
      ],
      "text/plain": [
       "| 2230      | 1m 1s         | 1.58812e+06    | 0               |"
      ]
     },
     "metadata": {},
     "output_type": "display_data"
    },
    {
     "data": {
      "text/html": [
       "<pre>| 2240      | 1m 1s         | 3.29067e+06    | 0               |</pre>"
      ],
      "text/plain": [
       "| 2240      | 1m 1s         | 3.29067e+06    | 0               |"
      ]
     },
     "metadata": {},
     "output_type": "display_data"
    },
    {
     "data": {
      "text/html": [
       "<pre>| 2250      | 1m 1s         | 3.92775e+06    | 0               |</pre>"
      ],
      "text/plain": [
       "| 2250      | 1m 1s         | 3.92775e+06    | 0               |"
      ]
     },
     "metadata": {},
     "output_type": "display_data"
    },
    {
     "data": {
      "text/html": [
       "<pre>| 2260      | 1m 2s         | 3.12165e+06    | 0               |</pre>"
      ],
      "text/plain": [
       "| 2260      | 1m 2s         | 3.12165e+06    | 0               |"
      ]
     },
     "metadata": {},
     "output_type": "display_data"
    },
    {
     "data": {
      "text/html": [
       "<pre>| 2270      | 1m 2s         | 3.69524e+06    | 0               |</pre>"
      ],
      "text/plain": [
       "| 2270      | 1m 2s         | 3.69524e+06    | 0               |"
      ]
     },
     "metadata": {},
     "output_type": "display_data"
    },
    {
     "data": {
      "text/html": [
       "<pre>| 2280      | 1m 2s         | 4.08078e+06    | 0               |</pre>"
      ],
      "text/plain": [
       "| 2280      | 1m 2s         | 4.08078e+06    | 0               |"
      ]
     },
     "metadata": {},
     "output_type": "display_data"
    },
    {
     "data": {
      "text/html": [
       "<pre>| 2290      | 1m 3s         | 3.91575e+06    | 0               |</pre>"
      ],
      "text/plain": [
       "| 2290      | 1m 3s         | 3.91575e+06    | 0               |"
      ]
     },
     "metadata": {},
     "output_type": "display_data"
    },
    {
     "data": {
      "text/html": [
       "<pre>| 2300      | 1m 3s         | 3.41191e+06    | 0               |</pre>"
      ],
      "text/plain": [
       "| 2300      | 1m 3s         | 3.41191e+06    | 0               |"
      ]
     },
     "metadata": {},
     "output_type": "display_data"
    },
    {
     "data": {
      "text/html": [
       "<pre>| 2310      | 1m 3s         | 4.07106e+06    | 0               |</pre>"
      ],
      "text/plain": [
       "| 2310      | 1m 3s         | 4.07106e+06    | 0               |"
      ]
     },
     "metadata": {},
     "output_type": "display_data"
    },
    {
     "data": {
      "text/html": [
       "<pre>| 2320      | 1m 3s         | 4.47943e+06    | 0               |</pre>"
      ],
      "text/plain": [
       "| 2320      | 1m 3s         | 4.47943e+06    | 0               |"
      ]
     },
     "metadata": {},
     "output_type": "display_data"
    },
    {
     "data": {
      "text/html": [
       "<pre>| 2330      | 1m 4s         | 4.20585e+06    | 0               |</pre>"
      ],
      "text/plain": [
       "| 2330      | 1m 4s         | 4.20585e+06    | 0               |"
      ]
     },
     "metadata": {},
     "output_type": "display_data"
    },
    {
     "data": {
      "text/html": [
       "<pre>| 2340      | 1m 4s         | 3.15987e+06    | 0               |</pre>"
      ],
      "text/plain": [
       "| 2340      | 1m 4s         | 3.15987e+06    | 0               |"
      ]
     },
     "metadata": {},
     "output_type": "display_data"
    },
    {
     "data": {
      "text/html": [
       "<pre>| 2350      | 1m 4s         | 3.89816e+06    | 0               |</pre>"
      ],
      "text/plain": [
       "| 2350      | 1m 4s         | 3.89816e+06    | 0               |"
      ]
     },
     "metadata": {},
     "output_type": "display_data"
    },
    {
     "data": {
      "text/html": [
       "<pre>| 2360      | 1m 5s         | 4.34954e+06    | 0               |</pre>"
      ],
      "text/plain": [
       "| 2360      | 1m 5s         | 4.34954e+06    | 0               |"
      ]
     },
     "metadata": {},
     "output_type": "display_data"
    },
    {
     "data": {
      "text/html": [
       "<pre>| 2370      | 1m 5s         | 4.538e+06      | 0               |</pre>"
      ],
      "text/plain": [
       "| 2370      | 1m 5s         | 4.538e+06      | 0               |"
      ]
     },
     "metadata": {},
     "output_type": "display_data"
    },
    {
     "data": {
      "text/html": [
       "<pre>| 2380      | 1m 5s         | 4.92688e+06    | 0               |</pre>"
      ],
      "text/plain": [
       "| 2380      | 1m 5s         | 4.92688e+06    | 0               |"
      ]
     },
     "metadata": {},
     "output_type": "display_data"
    },
    {
     "data": {
      "text/html": [
       "<pre>| 2390      | 1m 6s         | 3.47112e+06    | 0               |</pre>"
      ],
      "text/plain": [
       "| 2390      | 1m 6s         | 3.47112e+06    | 0               |"
      ]
     },
     "metadata": {},
     "output_type": "display_data"
    },
    {
     "data": {
      "text/html": [
       "<pre>| 2400      | 1m 6s         | 3.67095e+06    | 0               |</pre>"
      ],
      "text/plain": [
       "| 2400      | 1m 6s         | 3.67095e+06    | 0               |"
      ]
     },
     "metadata": {},
     "output_type": "display_data"
    },
    {
     "data": {
      "text/html": [
       "<pre>| 2410      | 1m 6s         | 4.3487e+06     | 0               |</pre>"
      ],
      "text/plain": [
       "| 2410      | 1m 6s         | 4.3487e+06     | 0               |"
      ]
     },
     "metadata": {},
     "output_type": "display_data"
    },
    {
     "data": {
      "text/html": [
       "<pre>| 2420      | 1m 7s         | 2.79369e+06    | 0               |</pre>"
      ],
      "text/plain": [
       "| 2420      | 1m 7s         | 2.79369e+06    | 0               |"
      ]
     },
     "metadata": {},
     "output_type": "display_data"
    },
    {
     "data": {
      "text/html": [
       "<pre>| 2430      | 1m 7s         | 4.29669e+06    | 0               |</pre>"
      ],
      "text/plain": [
       "| 2430      | 1m 7s         | 4.29669e+06    | 0               |"
      ]
     },
     "metadata": {},
     "output_type": "display_data"
    },
    {
     "data": {
      "text/html": [
       "<pre>| 2440      | 1m 7s         | 4.02602e+06    | 0               |</pre>"
      ],
      "text/plain": [
       "| 2440      | 1m 7s         | 4.02602e+06    | 0               |"
      ]
     },
     "metadata": {},
     "output_type": "display_data"
    },
    {
     "data": {
      "text/html": [
       "<pre>| 2450      | 1m 7s         | 3.93007e+06    | 0               |</pre>"
      ],
      "text/plain": [
       "| 2450      | 1m 7s         | 3.93007e+06    | 0               |"
      ]
     },
     "metadata": {},
     "output_type": "display_data"
    },
    {
     "data": {
      "text/html": [
       "<pre>| 2460      | 1m 8s         | 4.46489e+06    | 0               |</pre>"
      ],
      "text/plain": [
       "| 2460      | 1m 8s         | 4.46489e+06    | 0               |"
      ]
     },
     "metadata": {},
     "output_type": "display_data"
    },
    {
     "data": {
      "text/html": [
       "<pre>| 2470      | 1m 8s         | 3.45147e+06    | 0               |</pre>"
      ],
      "text/plain": [
       "| 2470      | 1m 8s         | 3.45147e+06    | 0               |"
      ]
     },
     "metadata": {},
     "output_type": "display_data"
    },
    {
     "data": {
      "text/html": [
       "<pre>| 2480      | 1m 8s         | 4.29538e+06    | 0               |</pre>"
      ],
      "text/plain": [
       "| 2480      | 1m 8s         | 4.29538e+06    | 0               |"
      ]
     },
     "metadata": {},
     "output_type": "display_data"
    },
    {
     "data": {
      "text/html": [
       "<pre>| 2490      | 1m 9s         | 4.08655e+06    | 0               |</pre>"
      ],
      "text/plain": [
       "| 2490      | 1m 9s         | 4.08655e+06    | 0               |"
      ]
     },
     "metadata": {},
     "output_type": "display_data"
    },
    {
     "data": {
      "text/html": [
       "<pre>| 2500      | 1m 9s         | 3.9528e+06     | 0               |</pre>"
      ],
      "text/plain": [
       "| 2500      | 1m 9s         | 3.9528e+06     | 0               |"
      ]
     },
     "metadata": {},
     "output_type": "display_data"
    },
    {
     "data": {
      "text/html": [
       "<pre>| 2510      | 1m 9s         | 4.05628e+06    | 0               |</pre>"
      ],
      "text/plain": [
       "| 2510      | 1m 9s         | 4.05628e+06    | 0               |"
      ]
     },
     "metadata": {},
     "output_type": "display_data"
    },
    {
     "data": {
      "text/html": [
       "<pre>| 2520      | 1m 9s         | 4.56038e+06    | 0               |</pre>"
      ],
      "text/plain": [
       "| 2520      | 1m 9s         | 4.56038e+06    | 0               |"
      ]
     },
     "metadata": {},
     "output_type": "display_data"
    },
    {
     "data": {
      "text/html": [
       "<pre>| 2530      | 1m 10s        | 4.66698e+06    | 0               |</pre>"
      ],
      "text/plain": [
       "| 2530      | 1m 10s        | 4.66698e+06    | 0               |"
      ]
     },
     "metadata": {},
     "output_type": "display_data"
    },
    {
     "data": {
      "text/html": [
       "<pre>| 2540      | 1m 10s        | 4.43749e+06    | 0               |</pre>"
      ],
      "text/plain": [
       "| 2540      | 1m 10s        | 4.43749e+06    | 0               |"
      ]
     },
     "metadata": {},
     "output_type": "display_data"
    },
    {
     "data": {
      "text/html": [
       "<pre>| 2550      | 1m 10s        | 4.07945e+06    | 0               |</pre>"
      ],
      "text/plain": [
       "| 2550      | 1m 10s        | 4.07945e+06    | 0               |"
      ]
     },
     "metadata": {},
     "output_type": "display_data"
    },
    {
     "data": {
      "text/html": [
       "<pre>| 2560      | 1m 11s        | 3.68065e+06    | 0               |</pre>"
      ],
      "text/plain": [
       "| 2560      | 1m 11s        | 3.68065e+06    | 0               |"
      ]
     },
     "metadata": {},
     "output_type": "display_data"
    },
    {
     "data": {
      "text/html": [
       "<pre>| 2570      | 1m 11s        | 4.21686e+06    | 0               |</pre>"
      ],
      "text/plain": [
       "| 2570      | 1m 11s        | 4.21686e+06    | 0               |"
      ]
     },
     "metadata": {},
     "output_type": "display_data"
    },
    {
     "data": {
      "text/html": [
       "<pre>| 2580      | 1m 11s        | 4.89864e+06    | 0               |</pre>"
      ],
      "text/plain": [
       "| 2580      | 1m 11s        | 4.89864e+06    | 0               |"
      ]
     },
     "metadata": {},
     "output_type": "display_data"
    },
    {
     "data": {
      "text/html": [
       "<pre>| 2590      | 1m 11s        | 4.21623e+06    | 0               |</pre>"
      ],
      "text/plain": [
       "| 2590      | 1m 11s        | 4.21623e+06    | 0               |"
      ]
     },
     "metadata": {},
     "output_type": "display_data"
    },
    {
     "data": {
      "text/html": [
       "<pre>| 2600      | 1m 12s        | 4.44624e+06    | 0               |</pre>"
      ],
      "text/plain": [
       "| 2600      | 1m 12s        | 4.44624e+06    | 0               |"
      ]
     },
     "metadata": {},
     "output_type": "display_data"
    },
    {
     "data": {
      "text/html": [
       "<pre>| 2610      | 1m 12s        | 4.55357e+06    | 0               |</pre>"
      ],
      "text/plain": [
       "| 2610      | 1m 12s        | 4.55357e+06    | 0               |"
      ]
     },
     "metadata": {},
     "output_type": "display_data"
    },
    {
     "data": {
      "text/html": [
       "<pre>| 2620      | 1m 12s        | 4.08847e+06    | 0               |</pre>"
      ],
      "text/plain": [
       "| 2620      | 1m 12s        | 4.08847e+06    | 0               |"
      ]
     },
     "metadata": {},
     "output_type": "display_data"
    },
    {
     "data": {
      "text/html": [
       "<pre>| 2630      | 1m 13s        | 4.47783e+06    | 0               |</pre>"
      ],
      "text/plain": [
       "| 2630      | 1m 13s        | 4.47783e+06    | 0               |"
      ]
     },
     "metadata": {},
     "output_type": "display_data"
    },
    {
     "data": {
      "text/html": [
       "<pre>| 2640      | 1m 13s        | 3.09757e+06    | 0               |</pre>"
      ],
      "text/plain": [
       "| 2640      | 1m 13s        | 3.09757e+06    | 0               |"
      ]
     },
     "metadata": {},
     "output_type": "display_data"
    },
    {
     "data": {
      "text/html": [
       "<pre>| 2650      | 1m 13s        | 3.80724e+06    | 0               |</pre>"
      ],
      "text/plain": [
       "| 2650      | 1m 13s        | 3.80724e+06    | 0               |"
      ]
     },
     "metadata": {},
     "output_type": "display_data"
    },
    {
     "data": {
      "text/html": [
       "<pre>| 2660      | 1m 14s        | 3.59777e+06    | 0               |</pre>"
      ],
      "text/plain": [
       "| 2660      | 1m 14s        | 3.59777e+06    | 0               |"
      ]
     },
     "metadata": {},
     "output_type": "display_data"
    },
    {
     "data": {
      "text/html": [
       "<pre>| 2670      | 1m 14s        | 4.82097e+06    | 0               |</pre>"
      ],
      "text/plain": [
       "| 2670      | 1m 14s        | 4.82097e+06    | 0               |"
      ]
     },
     "metadata": {},
     "output_type": "display_data"
    },
    {
     "data": {
      "text/html": [
       "<pre>| 2680      | 1m 14s        | 4.81953e+06    | 0               |</pre>"
      ],
      "text/plain": [
       "| 2680      | 1m 14s        | 4.81953e+06    | 0               |"
      ]
     },
     "metadata": {},
     "output_type": "display_data"
    },
    {
     "data": {
      "text/html": [
       "<pre>| 2690      | 1m 14s        | 4.22065e+06    | 0               |</pre>"
      ],
      "text/plain": [
       "| 2690      | 1m 14s        | 4.22065e+06    | 0               |"
      ]
     },
     "metadata": {},
     "output_type": "display_data"
    },
    {
     "data": {
      "text/html": [
       "<pre>| 2700      | 1m 15s        | 4.31675e+06    | 0               |</pre>"
      ],
      "text/plain": [
       "| 2700      | 1m 15s        | 4.31675e+06    | 0               |"
      ]
     },
     "metadata": {},
     "output_type": "display_data"
    },
    {
     "data": {
      "text/html": [
       "<pre>| 2710      | 1m 15s        | 4.51457e+06    | 0               |</pre>"
      ],
      "text/plain": [
       "| 2710      | 1m 15s        | 4.51457e+06    | 0               |"
      ]
     },
     "metadata": {},
     "output_type": "display_data"
    },
    {
     "data": {
      "text/html": [
       "<pre>| 2720      | 1m 15s        | 3.59456e+06    | 0               |</pre>"
      ],
      "text/plain": [
       "| 2720      | 1m 15s        | 3.59456e+06    | 0               |"
      ]
     },
     "metadata": {},
     "output_type": "display_data"
    },
    {
     "data": {
      "text/html": [
       "<pre>| 2730      | 1m 15s        | 3.14209e+06    | 0               |</pre>"
      ],
      "text/plain": [
       "| 2730      | 1m 15s        | 3.14209e+06    | 0               |"
      ]
     },
     "metadata": {},
     "output_type": "display_data"
    },
    {
     "data": {
      "text/html": [
       "<pre>| 2740      | 1m 16s        | 1.55648e+06    | 0               |</pre>"
      ],
      "text/plain": [
       "| 2740      | 1m 16s        | 1.55648e+06    | 0               |"
      ]
     },
     "metadata": {},
     "output_type": "display_data"
    },
    {
     "data": {
      "text/html": [
       "<pre>| 2750      | 1m 16s        | 4.19288e+06    | 0               |</pre>"
      ],
      "text/plain": [
       "| 2750      | 1m 16s        | 4.19288e+06    | 0               |"
      ]
     },
     "metadata": {},
     "output_type": "display_data"
    },
    {
     "data": {
      "text/html": [
       "<pre>| 2760      | 1m 16s        | 4.5841e+06     | 0               |</pre>"
      ],
      "text/plain": [
       "| 2760      | 1m 16s        | 4.5841e+06     | 0               |"
      ]
     },
     "metadata": {},
     "output_type": "display_data"
    },
    {
     "data": {
      "text/html": [
       "<pre>| 2770      | 1m 17s        | 4.19959e+06    | 0               |</pre>"
      ],
      "text/plain": [
       "| 2770      | 1m 17s        | 4.19959e+06    | 0               |"
      ]
     },
     "metadata": {},
     "output_type": "display_data"
    },
    {
     "data": {
      "text/html": [
       "<pre>| 2780      | 1m 17s        | 4.24144e+06    | 0               |</pre>"
      ],
      "text/plain": [
       "| 2780      | 1m 17s        | 4.24144e+06    | 0               |"
      ]
     },
     "metadata": {},
     "output_type": "display_data"
    },
    {
     "data": {
      "text/html": [
       "<pre>| 2790      | 1m 17s        | 3.5443e+06     | 0               |</pre>"
      ],
      "text/plain": [
       "| 2790      | 1m 17s        | 3.5443e+06     | 0               |"
      ]
     },
     "metadata": {},
     "output_type": "display_data"
    },
    {
     "data": {
      "text/html": [
       "<pre>| 2800      | 1m 18s        | 4.07297e+06    | 0               |</pre>"
      ],
      "text/plain": [
       "| 2800      | 1m 18s        | 4.07297e+06    | 0               |"
      ]
     },
     "metadata": {},
     "output_type": "display_data"
    },
    {
     "data": {
      "text/html": [
       "<pre>| 2810      | 1m 18s        | 2.63918e+06    | 0               |</pre>"
      ],
      "text/plain": [
       "| 2810      | 1m 18s        | 2.63918e+06    | 0               |"
      ]
     },
     "metadata": {},
     "output_type": "display_data"
    },
    {
     "data": {
      "text/html": [
       "<pre>| 2820      | 1m 18s        | 4.18448e+06    | 0               |</pre>"
      ],
      "text/plain": [
       "| 2820      | 1m 18s        | 4.18448e+06    | 0               |"
      ]
     },
     "metadata": {},
     "output_type": "display_data"
    },
    {
     "data": {
      "text/html": [
       "<pre>| 2830      | 1m 19s        | 3.40387e+06    | 0               |</pre>"
      ],
      "text/plain": [
       "| 2830      | 1m 19s        | 3.40387e+06    | 0               |"
      ]
     },
     "metadata": {},
     "output_type": "display_data"
    },
    {
     "data": {
      "text/html": [
       "<pre>| 2840      | 1m 19s        | 3.68101e+06    | 0               |</pre>"
      ],
      "text/plain": [
       "| 2840      | 1m 19s        | 3.68101e+06    | 0               |"
      ]
     },
     "metadata": {},
     "output_type": "display_data"
    },
    {
     "data": {
      "text/html": [
       "<pre>| 2850      | 1m 19s        | 3.47818e+06    | 0               |</pre>"
      ],
      "text/plain": [
       "| 2850      | 1m 19s        | 3.47818e+06    | 0               |"
      ]
     },
     "metadata": {},
     "output_type": "display_data"
    },
    {
     "data": {
      "text/html": [
       "<pre>| 2860      | 1m 20s        | 3.80314e+06    | 0               |</pre>"
      ],
      "text/plain": [
       "| 2860      | 1m 20s        | 3.80314e+06    | 0               |"
      ]
     },
     "metadata": {},
     "output_type": "display_data"
    },
    {
     "data": {
      "text/html": [
       "<pre>| 2870      | 1m 20s        | 3.05644e+06    | 0               |</pre>"
      ],
      "text/plain": [
       "| 2870      | 1m 20s        | 3.05644e+06    | 0               |"
      ]
     },
     "metadata": {},
     "output_type": "display_data"
    },
    {
     "data": {
      "text/html": [
       "<pre>| 2880      | 1m 20s        | 4.52525e+06    | 0               |</pre>"
      ],
      "text/plain": [
       "| 2880      | 1m 20s        | 4.52525e+06    | 0               |"
      ]
     },
     "metadata": {},
     "output_type": "display_data"
    },
    {
     "data": {
      "text/html": [
       "<pre>| 2890      | 1m 21s        | 3.65087e+06    | 0               |</pre>"
      ],
      "text/plain": [
       "| 2890      | 1m 21s        | 3.65087e+06    | 0               |"
      ]
     },
     "metadata": {},
     "output_type": "display_data"
    },
    {
     "data": {
      "text/html": [
       "<pre>| 2900      | 1m 21s        | 3.65513e+06    | 0               |</pre>"
      ],
      "text/plain": [
       "| 2900      | 1m 21s        | 3.65513e+06    | 0               |"
      ]
     },
     "metadata": {},
     "output_type": "display_data"
    },
    {
     "data": {
      "text/html": [
       "<pre>| 2910      | 1m 21s        | 4.02272e+06    | 0               |</pre>"
      ],
      "text/plain": [
       "| 2910      | 1m 21s        | 4.02272e+06    | 0               |"
      ]
     },
     "metadata": {},
     "output_type": "display_data"
    },
    {
     "data": {
      "text/html": [
       "<pre>| 2920      | 1m 22s        | 4.37095e+06    | 0               |</pre>"
      ],
      "text/plain": [
       "| 2920      | 1m 22s        | 4.37095e+06    | 0               |"
      ]
     },
     "metadata": {},
     "output_type": "display_data"
    },
    {
     "data": {
      "text/html": [
       "<pre>| 2930      | 1m 22s        | 4.93443e+06    | 0               |</pre>"
      ],
      "text/plain": [
       "| 2930      | 1m 22s        | 4.93443e+06    | 0               |"
      ]
     },
     "metadata": {},
     "output_type": "display_data"
    },
    {
     "data": {
      "text/html": [
       "<pre>| 2940      | 1m 22s        | 4.31477e+06    | 0               |</pre>"
      ],
      "text/plain": [
       "| 2940      | 1m 22s        | 4.31477e+06    | 0               |"
      ]
     },
     "metadata": {},
     "output_type": "display_data"
    },
    {
     "data": {
      "text/html": [
       "<pre>| 2950      | 1m 22s        | 4.47374e+06    | 0               |</pre>"
      ],
      "text/plain": [
       "| 2950      | 1m 22s        | 4.47374e+06    | 0               |"
      ]
     },
     "metadata": {},
     "output_type": "display_data"
    },
    {
     "data": {
      "text/html": [
       "<pre>| 2960      | 1m 23s        | 3.3493e+06     | 0               |</pre>"
      ],
      "text/plain": [
       "| 2960      | 1m 23s        | 3.3493e+06     | 0               |"
      ]
     },
     "metadata": {},
     "output_type": "display_data"
    },
    {
     "data": {
      "text/html": [
       "<pre>| 2970      | 1m 23s        | 2.43336e+06    | 0               |</pre>"
      ],
      "text/plain": [
       "| 2970      | 1m 23s        | 2.43336e+06    | 0               |"
      ]
     },
     "metadata": {},
     "output_type": "display_data"
    },
    {
     "data": {
      "text/html": [
       "<pre>| 2980      | 1m 23s        | 4.42218e+06    | 0               |</pre>"
      ],
      "text/plain": [
       "| 2980      | 1m 23s        | 4.42218e+06    | 0               |"
      ]
     },
     "metadata": {},
     "output_type": "display_data"
    },
    {
     "data": {
      "text/html": [
       "<pre>| 2990      | 1m 24s        | 4.09887e+06    | 0               |</pre>"
      ],
      "text/plain": [
       "| 2990      | 1m 24s        | 4.09887e+06    | 0               |"
      ]
     },
     "metadata": {},
     "output_type": "display_data"
    },
    {
     "data": {
      "text/html": [
       "<pre>| 3000      | 1m 24s        | 3609632        | 0               |</pre>"
      ],
      "text/plain": [
       "| 3000      | 1m 24s        | 3609632        | 0               |"
      ]
     },
     "metadata": {},
     "output_type": "display_data"
    },
    {
     "data": {
      "text/html": [
       "<pre>+-----------+---------------+----------------+-----------------+</pre>"
      ],
      "text/plain": [
       "+-----------+---------------+----------------+-----------------+"
      ]
     },
     "metadata": {},
     "output_type": "display_data"
    },
    {
     "name": "stdout",
     "output_type": "stream",
     "text": [
      "CPU times: user 2min 51s, sys: 2.54 s, total: 2min 53s\n",
      "Wall time: 1min 24s\n"
     ]
    }
   ],
   "source": [
    "%%time\n",
    "topic_model = gl.topic_model.create(docs, num_topics=10, num_iterations=3000)"
   ]
  },
  {
   "cell_type": "code",
   "execution_count": 37,
   "metadata": {
    "collapsed": false
   },
   "outputs": [
    {
     "data": {
      "text/html": [
       "\n",
       "<link rel=\"stylesheet\" type=\"text/css\" href=\"https://cdn.rawgit.com/bmabey/pyLDAvis/files/ldavis.v1.0.0.css\">\n",
       "\n",
       "\n",
       "<div id=\"ldavis_el81348341787689166339116\"></div>\n",
       "<script type=\"text/javascript\">\n",
       "\n",
       "var ldavis_el81348341787689166339116_data = {\"plot.opts\": {\"xlab\": \"PC1\", \"ylab\": \"PC2\"}, \"topic.order\": [8, 4, 9, 2, 7, 6, 3, 1, 5, 10], \"token.table\": {\"Topic\": [1, 9, 10, 3, 4, 8, 2, 7, 4, 1, 9, 10, 2, 1, 4, 6, 7, 3, 4, 6, 7, 8, 1, 6, 9, 1, 5, 5, 3, 4, 5, 7, 9, 10, 3, 1, 4, 8, 3, 5, 2, 3, 4, 5, 8, 2, 6, 7, 8, 9, 10, 6, 10, 9, 5, 7, 9, 1, 2, 3, 5, 6, 7, 8, 10, 3, 4, 6, 8, 10, 9, 2, 4, 4, 4, 5, 10, 6, 2, 1, 4, 6, 7, 5, 2, 10, 8, 9, 2, 3, 10, 1, 5, 4, 4, 7, 9, 5, 10, 4, 8, 10, 3, 4, 8, 1, 9, 2, 3, 5, 6, 9, 4, 5, 6, 8, 10, 3, 7, 6, 7, 9, 5, 7, 7, 6, 5, 2, 2, 3, 4, 4, 3, 5, 1, 8, 6, 7, 9, 5, 6, 10, 4, 9, 2, 5, 1, 5, 6, 5, 5, 6, 1, 5, 6, 10, 3, 4, 4, 2, 3, 4, 2, 3, 2, 3, 5, 7, 8, 1, 7, 8, 4, 5, 1, 2, 4, 5, 8, 9, 7, 1, 9, 4, 2, 5, 6, 7, 8, 10, 1, 5, 10, 7, 3, 5, 2, 9, 9, 3, 4, 7, 8, 9, 8, 3, 5, 3, 5, 6, 7, 8, 10, 5, 7, 3, 7, 5, 1, 2, 4, 5, 10, 2, 4, 5, 7, 4, 5, 8, 1, 3, 7, 1, 2, 5, 7, 10, 3, 9, 2, 7, 9, 10, 6, 5, 7, 2, 9, 8, 4, 10, 1, 1, 10, 3, 1, 2, 3, 5, 3, 5, 6, 7, 8, 9, 3, 4, 7, 8, 1, 3, 6, 8, 2, 2, 3, 2, 4, 5, 10, 8, 5, 9, 1, 5, 6, 9, 3, 4, 6, 7, 8, 2, 2, 2, 1, 2, 9, 6, 2, 3, 4, 5, 6, 8, 10, 1, 3, 6, 8, 2, 10, 10, 1, 9, 6, 4, 10, 2, 4, 5, 7, 8, 10, 6, 1, 2, 3, 4, 7, 10, 1, 3, 5, 7, 9, 2, 3, 10, 9, 2, 1, 2, 3, 4, 6, 7, 10, 7, 1, 8, 9, 6, 9, 10, 3, 1, 1, 8, 5, 2, 6, 2, 3, 5, 6, 8, 10, 2, 4, 6, 7, 9, 9, 3, 6, 6, 9, 1, 10, 1, 2, 5, 6, 8, 10, 2, 3, 4, 8, 1, 6, 5, 4, 8, 7, 4, 3, 5, 3, 7, 8, 2, 4, 7, 8, 9, 10, 1, 3, 4, 9, 8, 3, 4, 10, 8, 7, 3, 7, 1, 5, 6, 9, 10, 8, 4, 5, 7, 7, 1, 10, 2, 3, 4, 1, 8, 5, 9, 2, 4, 10, 8, 8, 6, 8, 4, 9, 1, 2, 5, 5, 3, 4, 9, 4, 3, 5, 6, 7, 8, 10, 9, 9, 1, 5, 6, 7, 9, 8, 2, 8, 9, 10, 4, 10, 8, 5, 2, 4, 2, 3, 6, 10, 2, 3, 4, 5, 6, 1, 2, 3, 4, 6, 7, 8, 1, 2, 3, 5, 6, 7, 8, 9, 1, 6, 7, 8, 10, 2, 9, 6, 7, 9, 3, 4, 5, 9, 3, 9, 1, 5, 1, 2, 3, 10, 2, 3, 4, 5, 6, 7, 8, 9, 2, 2, 8, 10, 3, 7, 4, 1, 2, 3, 5, 9, 10, 8, 5, 8, 9, 5, 7, 10, 7, 9, 6, 1, 2, 3, 6, 10, 4, 8, 1, 3, 7, 9, 10, 1, 1, 2, 4, 7, 10, 4, 6, 3, 5, 8, 10, 1, 2, 3, 5, 2, 3, 9, 10, 6, 9, 2, 3, 5, 8, 3, 8, 2, 4, 5, 8, 1, 3, 4, 8, 9, 3, 4, 10, 3, 8, 4, 6, 8, 9, 10, 2, 3, 5, 9, 1, 2, 6, 1, 2, 2, 2, 7, 8, 9, 1, 2, 10, 4, 4, 5, 7, 9, 10, 1, 5, 7, 1, 1, 6, 1, 8, 8, 5, 3, 4, 6, 3, 8, 9, 10, 6, 3, 10, 3, 1, 9, 10, 8, 9, 10, 5, 4, 4, 6, 10, 6, 10, 10, 1, 5, 9, 10, 5, 10, 10, 9, 6, 8, 2, 3, 6, 8, 7, 2, 2, 5, 8, 1, 3, 4, 6, 8, 6, 3, 4, 6, 7, 8, 9, 2, 9, 10, 6, 3, 2, 3, 4, 6, 8, 4, 4, 3, 4, 5, 7, 2, 6, 8, 10, 6, 9, 9, 10, 7, 4, 8, 4, 8, 2, 3, 4, 6, 6, 3, 8, 1, 2, 3, 4, 5, 10, 2, 9, 5, 6, 6, 6, 4, 6, 8, 9, 2, 3, 7, 9, 3, 7, 10, 7, 2, 5, 7, 2, 7, 10, 1, 5, 7, 10, 6, 1, 3, 6, 9, 10, 4, 1, 3, 4, 5, 7, 7, 7, 9, 2, 6, 8, 9, 10, 2, 9, 10, 2, 3, 4, 5, 8, 9, 5, 6, 7, 3, 4, 5, 7, 10, 5, 6, 9, 1, 1, 3, 6, 10, 2, 6, 2, 3, 7, 1, 2, 5, 6, 1, 2, 9, 10, 10, 1, 7, 8, 4, 3, 2, 10, 3, 7, 2, 3, 5, 8, 9, 7, 9, 6, 9, 2, 3, 4, 5, 10, 2, 3, 6, 9, 4, 8, 1, 2, 5, 7, 9, 7, 8, 3, 4, 7, 8, 9, 10, 3, 5, 2, 3, 8, 9, 9, 1, 3, 8, 10, 3, 4, 8, 1, 2, 9, 4, 4, 7, 1, 3, 5, 6, 7, 9, 7, 1, 2, 3, 4, 5, 6, 7, 8, 10, 9, 7, 9, 10, 3, 6, 8, 5, 4, 10, 9, 9, 2, 3, 5, 6, 3, 1, 6, 8, 3, 2, 3, 6, 3, 2, 8, 10, 3, 6, 7, 3, 7, 1, 7, 8, 10, 10, 9, 2, 6, 3, 1, 3, 6, 8, 10, 7, 10, 1, 2, 4, 7, 7, 3, 8, 10, 1, 1, 2, 3, 7, 8, 1, 2, 3, 4, 5, 6, 10, 7, 2, 4, 5, 7, 1, 5, 6, 8, 4, 6, 8, 9, 3, 5, 7, 8, 9, 9, 8, 10, 2, 5, 2, 2, 8, 9, 1, 2, 8, 9, 2, 4, 6, 2, 3, 4, 6, 7, 2, 1, 3, 6, 7, 7, 8, 5, 3, 4, 8, 10, 10, 2, 8, 10, 5, 6, 7, 9, 10, 7, 6, 9, 1, 5, 7, 9, 10, 2, 8, 6, 6, 2, 5, 8, 10, 7, 1, 4, 5, 8, 10, 5, 10, 1, 2, 3, 10, 1, 4, 5, 8, 9, 4, 6, 1, 3, 4, 5, 7, 8, 10, 1, 2, 3, 7, 8, 9, 10, 5, 1, 1, 1, 2, 3, 6, 8, 9, 2, 8, 2, 1, 6, 8, 3, 8, 3, 10, 1, 8, 2, 3, 1, 3, 4, 5, 6, 7, 8, 10, 8, 9, 10, 2, 6, 10, 2, 5, 8, 2, 4, 7, 4, 3, 7, 5, 10, 10, 1, 6, 5, 4, 2, 7, 2, 3, 8, 3, 4, 6, 7, 9, 10, 5, 6, 7, 9, 6, 8, 6, 8, 2, 5, 8, 7, 3, 4, 8, 2, 4, 5, 6, 8, 7], \"Freq\": [0.97635709830886541, 0.98912678712062552, 0.969032520664182, 0.83065055533691023, 0.12022573827244754, 0.049183256566001261, 0.013003214208390342, 0.97524106562927571, 0.98801632615293844, 0.41698463632921656, 0.57682874692208286, 0.0034748719694101377, 0.9826134659498027, 0.5786139103918323, 0.005645013759920315, 0.21592177631695203, 0.19757548159721103, 0.10124438467846356, 0.22611245911523528, 0.12486807443677171, 0.46572416952093237, 0.077620694920155386, 0.017519136896259131, 0.946033392397993, 0.017519136896259131, 0.96783210728637736, 0.027262876261588093, 0.99322353758284154, 0.089811022094771834, 0.33475017326233136, 0.068038653102099875, 0.2150021438026356, 0.10069720659110781, 0.19050822868587963, 0.98086275244154542, 0.99056544344211472, 0.054134598959452315, 0.93382183205055247, 0.99282402181525264, 0.99613994793865301, 0.018004750249207297, 0.19445130269143882, 0.56174820777526768, 0.018004750249207297, 0.20885510289080464, 0.9778063225779462, 0.017618131938341372, 0.13269101846425194, 0.0053076407385700772, 0.10615281477140155, 0.75633880524623609, 0.98985808969264033, 0.99247771882142966, 0.99152630598173586, 0.98681184880222583, 0.94123791246769994, 0.057044721967739395, 0.24648153671542211, 0.093624769760121573, 0.20635663538965571, 0.12228541356424043, 0.059231997195178958, 0.066874835542943989, 0.036303482151883879, 0.16623173406388933, 0.14460913706500214, 0.0043820950625758229, 0.3418034148809142, 0.017528380250303292, 0.49079464700849218, 0.98332272374599694, 0.97713054964014778, 0.98805865909856005, 0.98267000789384273, 0.97029372871347097, 0.016729202219197777, 0.98860279783439842, 0.98192038405055071, 0.99015366301064178, 0.087750845038148298, 0.12870123938928418, 0.23400225343506212, 0.54990529557239598, 0.97596594778607937, 0.96995253235015366, 0.97128111733874911, 0.021494532182252214, 0.96725394820134958, 0.01130902866863547, 0.98388549417128601, 0.97341439503380067, 0.99611435324117559, 0.98981178599167963, 0.98544292178135529, 0.016499093849877848, 0.016499093849877848, 0.96519699021785399, 0.011462279031146596, 0.97429371764746076, 0.03016145878048004, 0.95008595158512132, 0.01508072939024002, 0.97865943484841222, 0.8830100523493114, 0.11557723198289416, 0.30277008398116145, 0.68627885702396596, 0.13638169708746697, 0.37228517313065312, 0.36122719769112877, 0.12163772983476785, 0.0036859918131747832, 0.023130831480098337, 0.15783390892302396, 0.17280091752779347, 0.1850466518407867, 0.46125599245607862, 0.94950665193645711, 0.035166913034683597, 0.98312045472620935, 0.97156853148341882, 0.97563500704186756, 0.9838793681340855, 0.98908734647640939, 0.97300958028232876, 0.98903179448817236, 0.97898198080393251, 0.98820632718518586, 0.83455763433598573, 0.062748694310976363, 0.10039791089756218, 0.97993245962551412, 0.98719089371783597, 0.99386891351692574, 0.9820202556782136, 0.97655319801124951, 0.668484649406765, 0.32087263171524721, 0.00668484649406765, 0.41408386843483563, 0.43290586245460094, 0.14587045365318074, 0.99038737487077255, 0.96895562800871748, 0.23004185010248235, 0.76680616700827453, 0.41827690535006068, 0.30613019884316034, 0.2743047821317427, 0.99404863319405146, 0.023355718116745142, 0.95758444278655086, 0.78742036498615853, 0.044095540439224874, 0.1196878954778961, 0.050394903359114146, 0.19015590484576622, 0.80816259559450643, 0.98037779837915962, 0.028648499164084299, 0.95972472199682402, 0.98961354954315328, 0.77146885471563631, 0.2213230320905514, 0.083707427942851312, 0.34095464552332122, 0.0040832891679439664, 0.0020416445839719832, 0.56961883892818332, 0.99015144924299225, 0.98580350106083958, 0.97452355016240988, 0.84524511274772629, 0.14813574140939534, 0.001880537885967168, 0.001880537885967168, 0.20497862957042129, 0.058296674464982205, 0.257633690377502, 0.47201500937775914, 0.96493021011554625, 0.99779780337401502, 0.0015152586231951632, 0.98805865909856005, 0.49634657967849477, 0.29470578168410627, 0.046532491844858886, 0.10469810665093249, 0.050410199498597125, 0.0038777076537382404, 0.18150919121499232, 0.66899101904954306, 0.15039332986385076, 0.98027942508658716, 0.99462179559006114, 0.99070466613960417, 0.9854603015201796, 0.99344131373904798, 0.98332272374599694, 0.0052664445524432928, 0.40551623053813357, 0.50294545475833452, 0.078996668286649391, 0.0052664445524432928, 0.99770691965509761, 0.98926980002141562, 0.97437442948426123, 0.11757712902956304, 0.16033244867667687, 0.19952482501986454, 0.087292110946190743, 0.43289761142702754, 0.0017814716519630764, 0.98864763448212367, 0.95128083171199174, 0.99422596533035001, 0.97920876722513805, 0.98177624688573184, 0.1301608444244739, 0.36060955258583755, 0.19630815880412458, 0.046943255366203702, 0.26245547318377527, 0.10288285457524213, 0.50155391605430533, 0.21862606597238951, 0.17490085277791162, 0.30532656655459212, 0.022450482834896476, 0.66902438847991497, 0.37786771050032297, 0.13952038541550388, 0.47669465016963825, 0.24986179253864912, 0.46307718883829635, 0.013325962268727953, 0.026651924537455907, 0.24653030197146714, 0.97181352878065441, 0.99460945346653318, 0.67093187795674336, 0.17260488146605016, 0.0027839497010653251, 0.15033328385752756, 0.98523360179807473, 0.87465506932813175, 0.11591814171818614, 0.85525942925440823, 0.13897965725384134, 0.98760766748986828, 0.98999732317305011, 0.95867525969737311, 0.99344827175876449, 0.98951358901299735, 0.95867525969737311, 0.98926980002141562, 0.99598002483137382, 0.18365254853162158, 0.80807121353913491, 0.0091826274265810783, 0.15054098453539957, 0.55700164278097841, 0.18064918144247949, 0.018817623066924947, 0.075270492267699787, 0.018817623066924947, 0.72268234857125413, 0.021825976970272776, 0.07517836511982845, 0.17945803286668727, 0.16823413309348975, 0.046731703637080485, 0.36918045873293587, 0.41123899200630831, 0.9789590192598443, 0.9806482024097396, 0.99288251928592586, 0.0059246661760374523, 0.065171327936411977, 0.011849332352074905, 0.91239859110976773, 0.96258439388051997, 0.050773461576461162, 0.93084679556845473, 0.024955390696702818, 0.024955390696702818, 0.1372546488318655, 0.81105019764284159, 0.24495694842567461, 0.24682684879533626, 0.03178830628424785, 0.11032412181003666, 0.36463057208401944, 0.99485157537759406, 0.98731806004168354, 0.98285962574891739, 0.92258143907881818, 0.05557719512523001, 0.022230878050092003, 0.96332050366525723, 0.32166729296727953, 0.012641946011814479, 0.13906140612995926, 0.24160163489245448, 0.089898282750680736, 0.19243851151317595, 0.0014046606679793865, 0.0045206186395391973, 0.61932475361687001, 0.13109794054663673, 0.24411340653511665, 0.05074411483124032, 0.94384053586106997, 0.96149305831604392, 0.9828369979914956, 0.0098283699799149547, 0.98749984649936717, 0.35978893560313968, 0.63590602571717714, 0.011324314503597764, 0.06794588702158659, 0.0056621572517988822, 0.22790182938490502, 0.51384077060074862, 0.17269579617986591, 0.96568326248529579, 0.2238381737115315, 0.10253232473237894, 0.080870565986101706, 0.024549993245780874, 0.13141466972741525, 0.43756752667480026, 0.015873807904192183, 0.031747615808384366, 0.55240851506588795, 0.028572854227545928, 0.37144710495809707, 0.10969660433734353, 0.054848302168671766, 0.83056000426845811, 0.99460945346653318, 0.97931062294501148, 0.11852896374331628, 0.063677794351462466, 0.095831928132894012, 0.19544669553419175, 0.19859906159119484, 0.14059552614233795, 0.18725054378598371, 0.98411568112793302, 0.59347093515521876, 0.21864718663613322, 0.18741187425954275, 0.92615843684370969, 0.061743895789580644, 0.98095523423356801, 0.98319704216149539, 0.98624212168524394, 0.99056544344211472, 0.95976239867614765, 0.99122442568630442, 0.98385483842700139, 0.98615513990550407, 0.015242512426975567, 0.17274847417238975, 0.12702093689146307, 0.51824542251716932, 0.16258679922107272, 0.0050808374756585225, 0.13376460410799362, 0.013376460410799361, 0.0066882302053996806, 0.10032345308099522, 0.74908178300476425, 0.98219406122840336, 0.021026292247189701, 0.96720944337072623, 0.70723257372702286, 0.28500417150193458, 0.99068987915297235, 0.0069522096782664725, 0.12478160820014694, 0.13757972186170048, 0.25596227323107063, 0.12478160820014694, 0.041593869400048979, 0.31355378470806156, 0.0042553300382627045, 0.034042640306101636, 0.57021422512720243, 0.39149036352016886, 0.98417255256803793, 0.97577612065935182, 0.97993395567401786, 0.99599181593830632, 0.97238707600529461, 0.97920876722513805, 0.98243788014013478, 0.97420159397782624, 0.98602575680419702, 0.15405120130126249, 0.01339575663489239, 0.82383903304588202, 0.15154519464289204, 0.28091304372828768, 0.14415274612372658, 0.048050915374575523, 0.31417906206453228, 0.059139588153323722, 0.22139260709745406, 0.12199184472716856, 0.13554649414129841, 0.51959489420831062, 0.98032253729407892, 0.43406902542704134, 0.044035988086801293, 0.52214100160064392, 0.97848383629659341, 0.98497682388059959, 0.98619108486988405, 0.96096803354678184, 0.032236950054609782, 0.11052668590151925, 0.31776422196686782, 0.0046052785792299687, 0.53881759376990634, 0.98761283764545915, 0.74475602876374158, 0.11837181914125694, 0.13316829653391407, 0.95396237809510143, 0.99217076266244675, 0.98302025774009094, 0.43105833789289083, 0.15926653448251388, 0.40682212612381263, 0.99741133952454619, 0.98804626504816995, 0.97437442948426123, 0.97976733246405356, 0.46304427504947371, 0.52561782573183502, 0.0083431400909815094, 0.98762834843702874, 0.99238436427468413, 0.98523360179807473, 0.98834237903212896, 0.11940232534360148, 0.87686082674207333, 0.058446285929773072, 0.68187333584735255, 0.25813776285649775, 0.99436956027460499, 0.015482195485207854, 0.91344953362726333, 0.061928781940831415, 0.99667505637823672, 0.049963673243331043, 0.34448637867770349, 0.19985469297332417, 0.047334006230524146, 0.089408678435434499, 0.27085570231911038, 0.97563500704186756, 0.97410441132059511, 0.54392053316260125, 0.030217807397922295, 0.21152465178545607, 0.015108903698961148, 0.19830436104886506, 0.97238707600529461, 0.77427742608015782, 0.20040121616192319, 0.022772865472945818, 0.98575018432534822, 0.96023572650179889, 0.023420383573214607, 0.96524512772977888, 0.9817813324229071, 0.98965749265703573, 0.98362795202207387, 0.09467361904856314, 0.025246298412950171, 0.77001210159498024, 0.10729676825503823, 0.23073281469564219, 0.030993960182996712, 0.28238941500063669, 0.39947770902529095, 0.05165660030499452, 0.080814910812123372, 0.17425715143864104, 0.18940994721591417, 0.083340376775002237, 0.10606957044091193, 0.14395155988409475, 0.22224100473333927, 0.288163539115662, 0.211034264705522, 0.27423742012494229, 0.0010712399223630558, 0.034279677515617786, 0.10712399223630559, 0.048205796506337516, 0.034279677515617786, 0.38290772898496722, 0.0016293945914253925, 0.40734864785634811, 0.10102246466837433, 0.1075400430340759, 0.97931062294501148, 0.99775965978953118, 0.87347149724329842, 0.087347149724329845, 0.029115716574776615, 0.57173995046684489, 0.049520783111301529, 0.3736568180216388, 0.97491556556575543, 0.012279789668159962, 0.98238317345279702, 0.9381933835189169, 0.061128747368088071, 0.27038147787836814, 0.4719817026122391, 0.0023717673498102466, 0.25377910642969642, 0.072387378761873206, 0.19742012389601785, 0.72387378761873211, 0.43199158022493589, 0.017052299219405365, 0.55135767476077346, 0.64971240974906619, 0.34396539339656446, 0.99305728198085408, 0.91367061617570422, 0.057104413510981514, 0.022841765404392606, 0.97121880115127146, 0.017038926335987217, 0.97284279358933468, 0.38444671076610804, 0.0077928387317454332, 0.1688448391878177, 0.11689258097618149, 0.10390451642327243, 0.21819948448887214, 0.97452355016240988, 0.076788355995558596, 0.91506124228040653, 0.99152630598173586, 0.13908208708295011, 0.85085512097804772, 0.96665899452368953, 0.99416103308649562, 0.98421623344063081, 0.98908692527484154, 0.98892459987140191, 0.026059388461758277, 0.15635633077054964, 0.026059388461758277, 0.79220540923745153, 0.98663017433487255, 0.99539057627567951, 0.012694168999948774, 0.76588152966357603, 0.11424752099953897, 0.029619727666547139, 0.076165013999692638, 0.99334334841505312, 0.30870506933197356, 0.34526224859497046, 0.067021495315494256, 0.24574548282347897, 0.03046431605249739, 0.99247667487553881, 0.98908692527484154, 0.014478294805141786, 0.70943644545194751, 0.10858721103856339, 0.15926124285655965, 0.99407802263230916, 0.9826134659498027, 0.029796643667988766, 0.95349259737564052, 0.0050095162513832184, 0.020038065005532874, 0.96683663651696117, 0.0050095162513832184, 0.014733466245419012, 0.97240877219765487, 0.31206260123151275, 0.0043342027948821216, 0.013002608384646364, 0.66746723041184675, 0.016762184029400735, 0.97220667370524261, 0.67201636298498957, 0.20832507252534679, 0.067201636298498957, 0.053761309038799172, 0.0092550998847026819, 0.055530599308216091, 0.90699978870086284, 0.018510199769405364, 0.0092550998847026819, 0.0051431499486299546, 0.37030679630135677, 0.62232114378422454, 0.98471900686740577, 0.97655319801124951, 0.30557638125201358, 0.28011168281434579, 0.0099029382813152558, 0.26737933359551191, 0.13581172500089495, 0.20550390847557637, 0.61028433426080253, 0.17436695264594357, 0.012454782331853112, 0.28960428715429376, 0.11798693180360116, 0.59351002058781188, 0.99065410560225087, 0.99015366301064178, 0.98542601336834801, 0.7434338027341203, 0.11103232118756343, 0.13516978231529458, 0.0096549844510924708, 0.9820202556782136, 0.97539302688876495, 0.99319245216213425, 0.96609260143128561, 0.15520828077116183, 0.20940799786585326, 0.53706992393830599, 0.0073908705129124676, 0.088690446154949615, 0.0062667590482168257, 0.23187008478402255, 0.75827784483423588, 0.99535626966964597, 0.98813116474108875, 0.96332050366525723, 0.9559141356565054, 0.029872316739265794, 0.9701351137193942, 0.98284512506468813, 0.79663163006930093, 0.17702925112651133, 0.024140352426342451, 0.60607866830700308, 0.29844782909056972, 0.07805558606984131, 0.013774515188795525, 0.97845687202013287, 0.9639148611938646, 0.97544100313567306, 0.98464990292046961, 0.97468855895962814, 0.01652014506711234, 0.98755718162230754, 0.95976239867614765, 0.96790865219629019, 0.025471280320955005, 0.98864763448212367, 0.99278626960067906, 0.18857626352066853, 0.017143296683697139, 0.78859164745006849, 0.96335376139825257, 0.021894403668142104, 0.99200273972504949, 0.012710987938065719, 0.18430932510195291, 0.019066481907098577, 0.77537026422200883, 0.98438702149092627, 0.99637053973196599, 0.98178824462875502, 0.98887803263953156, 0.98908692527484154, 0.97451746739575995, 0.27377253914955818, 0.13370286795676098, 0.050934425888289898, 0.54117827506308014, 0.97004736028721206, 0.99236756907775636, 0.014100234995250953, 0.95881597967706467, 0.014100234995250953, 0.28446004949644987, 0.10512654003129669, 0.034011527657184223, 0.22262090830156947, 0.35557506187056231, 0.97587519514580112, 0.15291841125665342, 0.096580049214728472, 0.032193349738242824, 0.088531711780167763, 0.092555880497448118, 0.53923860811556734, 0.026693759459079244, 0.026693759459079244, 0.93428158106777348, 0.9898988691198185, 0.98841079188124781, 0.020075887398535087, 0.32695016620471429, 0.21509879355573308, 0.13192726004751629, 0.30687427880617918, 0.98805865909856005, 0.98037779837915962, 0.06867529843053044, 0.63115869509963685, 0.091567064574040583, 0.20929614759780704, 0.11015681385448241, 0.088125451083585937, 0.79312905975227332, 0.97128111733874911, 0.048473516922154992, 0.94869597404789063, 0.98844678178576595, 0.97340103748286377, 0.95645880630940439, 0.83826904413602832, 0.15980379771155057, 0.96846429958175606, 0.97452355016240988, 0.011291253402607608, 0.90330027220860865, 0.033873760207822824, 0.045165013610430432, 0.98721865728471081, 0.015761180223095351, 0.97719317383191184, 0.99309716908961265, 0.17854213193721466, 0.37363019420481774, 0.31283351996757658, 0.13429138803036189, 0.0003847890774508937, 0.94917178453238638, 0.031120386378111028, 0.97437442948426123, 0.97921503806606414, 0.9913602462676655, 0.98312045472620935, 0.7177253198946526, 0.0074763054155692977, 0.26167068954492545, 0.0074763054155692977, 0.0061138201869797258, 0.3851706717797227, 0.59304055813703338, 0.012227640373959452, 0.99410098971235117, 0.18562269739971937, 0.80705520608573644, 0.9743766745022977, 0.037419696119055365, 0.62865089480013014, 0.32929332584768722, 0.2950637307135775, 0.52800878127692819, 0.17082637041312382, 0.014103330191062077, 0.97312978318328336, 0.95248310891647603, 0.025065344971486211, 0.97709121721457359, 0.033558388938760612, 0.073828455665273338, 0.87251811240777588, 0.0067116777877521223, 0.013423355575504245, 0.98631982450681321, 0.26758195236368892, 0.18367913679202374, 0.04988816061017929, 0.30159660732517479, 0.19501735511251903, 0.95128083171199174, 0.98130246766483176, 0.97077291886423533, 0.024155596645183321, 0.33817835303256649, 0.36923554871923076, 0.21394957028590941, 0.051761992811107119, 0.93006425130371639, 0.052503627089725925, 0.015001036311350264, 0.35879015002732012, 0.011096602578164539, 0.58442106911666569, 0.018494337630274232, 0.018494337630274232, 0.011096602578164539, 0.14019503999038616, 0.82948731994311808, 0.011682919999198847, 0.0040480590400660535, 0.012144177120198161, 0.36432531360594483, 0.54243991136885117, 0.076913121761255018, 0.33941332145240827, 0.51872601957820885, 0.13448452359435045, 0.98813116474108875, 0.99222427580509431, 0.96930902044850553, 0.9575275397391847, 0.02335433023754109, 0.10191793299951676, 0.88328875266247853, 0.010683401240744789, 0.85467209925958321, 0.12820081488893748, 0.22977425863085013, 0.043766525453495263, 0.010941631363373816, 0.71120603861929799, 0.79419899073997458, 0.11872046768793434, 0.077782375381750091, 0.0081876184612368515, 0.969032520664182, 0.010024130446165519, 0.80193043569324152, 0.18043434803097935, 0.98805865909856005, 0.97420159397782624, 0.098598416379117357, 0.90147123546621577, 0.88683222095493486, 0.10433320246528645, 0.11127786268543963, 0.41139088629162529, 0.44173939429674519, 0.0067441128900266436, 0.030348508005119897, 0.44199361557566397, 0.55713480954915628, 0.072707259170413166, 0.91611146554720591, 0.031191551991557879, 0.54897131505141872, 0.04678732798733682, 0.22146001914006094, 0.14971944955947783, 0.094715770604242619, 0.12143047513364437, 0.56100879511743706, 0.21857485524055986, 0.13012900706772559, 0.86752671378483737, 0.26815021404811284, 0.4167635856892356, 0.15507482258204114, 0.14538264617066357, 0.0096921764113775712, 0.92771546484469292, 0.060503182489871271, 0.9765559111112625, 0.0045484312658320694, 0.018193725063328278, 0.36387450126656556, 0.35022920746906933, 0.26380901341826002, 0.024597648894147478, 0.97160713131882548, 0.56384480243770063, 0.027959246401869454, 0.40074919842679552, 0.004659874400311576, 0.97708499282500627, 0.010613248973450246, 0.39092133718875077, 0.34316171680822466, 0.25471797536280594, 0.3028946479488987, 0.66505129223562542, 0.032923331298793337, 0.33976586616293336, 0.20717430863593497, 0.45163999282633827, 0.9767940888802954, 0.16700139346865758, 0.82774603719247675, 0.0667548541857962, 0.0022251618061932071, 0.36270137440949274, 0.031152265286704894, 0.36937685982807233, 0.16688713546449052, 0.95878864596930646, 0.23801480097643543, 0.0134092845620527, 0.10056963421539526, 0.03519937197538834, 0.18102534158771147, 0.27321417295182376, 0.14582596961232311, 0.0016761605702565875, 0.0134092845620527, 0.97077291886423533, 0.40927416614067702, 0.005606495426584617, 0.5774690289382155, 0.08516074358805148, 0.53061694081785926, 0.37994793293130663, 0.98520961088567716, 0.9786286096234611, 0.99059897115621409, 0.98826025996600864, 0.98735683997440216, 0.14889728599223673, 0.39490149763158433, 0.0086317267241876362, 0.44669185797671018, 0.99410098971235117, 0.34752144615711134, 0.64646462564709961, 0.003736789743624853, 0.98761568938589606, 0.98139594658344265, 0.98688462245800102, 0.97441319746789412, 0.99513375265180293, 0.017311456363511404, 0.93481864362961575, 0.034622912727022809, 0.27371897383814064, 0.010948758953525626, 0.70072057302564006, 0.14667393312712232, 0.84512123373246673, 0.68764753728251482, 0.099248098164486681, 0.049624049082243341, 0.16305044698451382, 0.98051300136371367, 0.98687331192817673, 0.99372404895059874, 0.98312045472620935, 0.9765559111112625, 0.131234681908829, 0.46982016123360781, 0.13910876282335874, 0.026246936381765798, 0.23359773379771562, 0.056915763108693382, 0.9391100912934407, 0.43999661377743715, 0.15304230044432596, 0.030608460088865194, 0.37495363608859861, 0.98411568112793302, 0.19393230043433801, 0.10504666273526643, 0.68684356403828051, 0.99222427580509431, 0.010053654222291984, 0.42225347733626334, 0.35522911585431677, 0.18096577600125571, 0.033512180740973278, 0.095503771207085836, 0.25467672321889556, 0.19968970343299763, 0.0028940536729419948, 0.28651131362125748, 0.057881073458839895, 0.10129187855296982, 0.98659774120137655, 0.033068994629280389, 0.011022998209760129, 0.25352895882448295, 0.69444888721488818, 0.05244593513751717, 0.20978374055006868, 0.026222967568758585, 0.71676111354606797, 0.1520547215156057, 0.017888790766541846, 0.10733274459925109, 0.71555163066167393, 0.98824431829005577, 0.046989009633436107, 0.14096702890030832, 0.63099527222042773, 0.18124332287182499, 0.98641411980173532, 0.98534297913603242, 0.95867525969737311, 0.9826134659498027, 0.98488527598803954, 0.97700077520424444, 0.020912835223268075, 0.97244683788196551, 0.98826025996600864, 0.15964353946563134, 0.016804583101645405, 0.016804583101645405, 0.79821769732815673, 0.24268512992378519, 0.75747176915605685, 0.97836096116757609, 0.16082757261540739, 0.21563876328254175, 0.17380917040499183, 0.17597277003658926, 0.27333475345847263, 0.99297474838296274, 0.21424405484882653, 0.29797161651388515, 0.068952109606518874, 0.41863780832529318, 0.97691065967096591, 0.96524512772977888, 0.99283770146339501, 0.62456569631156567, 0.03925841519672698, 0.1034994582459166, 0.2284125975082297, 0.98095523423356801, 0.46517885025793215, 0.51969199677253364, 0.010902629302920285, 0.14317500239647096, 0.28267885088534012, 0.29736346651574741, 0.2753365430701365, 0.97493078499315389, 0.95128083171199174, 0.9700452257757215, 0.98332272374599694, 0.066307820593134878, 0.16751449413002498, 0.51999290886195249, 0.11865610000876768, 0.1221459853031432, 0.963808363174807, 0.031600274202452691, 0.96568326248529579, 0.9700452257757215, 0.2318502225723082, 0.30677742864750535, 0.10744278607009404, 0.35343021733583568, 0.96096803354678184, 0.088778164365425211, 0.61758723036817531, 0.046319042277613152, 0.07333848360622082, 0.16983648835124823, 0.99121800761150136, 0.98422290730502482, 0.99015144924299225, 0.44192511880723623, 0.55240639850904527, 0.0050218763500822295, 0.10559182557637799, 0.14713615039331357, 0.42236730230551195, 0.16098425866562543, 0.16098425866562543, 0.9904705417314934, 0.98721865728471081, 0.087263236212245243, 0.18123902905620168, 0.14096368926593464, 0.015662632140659404, 0.35129046372621808, 0.19690166119686109, 0.026850226526844691, 0.080411828398388716, 0.18949222170402905, 0.26920481681199698, 0.048946330329453995, 0.1174711927906896, 0.056637896524082479, 0.23843855203348305, 0.99630725569465539, 0.99668827626624779, 0.99469345245380147, 0.07512995818810049, 0.078260373112604684, 0.23478111933781404, 0.062608298490083744, 0.43512767450608203, 0.11269493728215074, 0.92098313278539679, 0.07635093328790854, 0.9851860630985757, 0.023385293125301181, 0.83017790594819196, 0.1286191121891565, 0.96017233278966785, 0.025267692968149152, 0.9807430441299948, 0.97544100313567306, 0.99021313993868643, 0.98415034066173213, 0.9704861422748835, 0.014930556034998209, 0.040440230049239571, 0.21854932835120958, 0.15057532465142393, 0.10497251204270697, 0.22199105005752784, 0.020650330237909569, 0.036138077916341743, 0.20650330237909567, 0.91562695215781587, 0.055492542555019148, 0.013873135638754787, 0.012517692389111552, 0.87623846723780874, 0.11265923150200398, 0.82690181567104737, 0.022969494879751317, 0.14547346757175833, 0.97700077520424444, 0.99306671211520303, 0.96096803354678184, 0.98037779837915962, 0.99552132560128992, 0.97567536473521599, 0.99121800761150136, 0.979192211955347, 0.98262620522442801, 0.76059479266031949, 0.23523550288463488, 0.98681781237066635, 0.9767940888802954, 0.96359177930931317, 0.027531193694551807, 0.24832202470639034, 0.38489913829490502, 0.36420563623603919, 0.34444696987473555, 0.13641464153454871, 0.088669516997456677, 0.12959390945782129, 0.0034103660383637182, 0.29670184533764349, 0.033924896855346186, 0.038771310691824212, 0.029078483018868159, 0.89658655974843493, 0.062084026319699601, 0.93126039479549405, 0.013534058228086954, 0.97445219242226067, 0.87706469873208315, 0.093304755184264163, 0.027991426555279249, 0.98006534311892624, 0.087193978719286191, 0.010899247339910774, 0.90463752921259422, 0.18658876515727801, 0.068542811690428654, 0.17897289719167483, 0.19039669914007959, 0.37317753031455603, 0.99393362808936714], \"Term\": [\"12(s)-hete\", \"5-ht\", \"able\", \"abnormal\", \"abnormal\", \"abnormal\", \"abuse\", \"abuse\", \"acetaminophen\", \"acid\", \"acid\", \"acid\", \"across\", \"activity\", \"activity\", \"activity\", \"activity\", \"acute\", \"acute\", \"acute\", \"acute\", \"acute\", \"ad\", \"ad\", \"ad\", \"adhesion\", \"adhesion\", \"adjuvant\", \"administration\", \"administration\", \"administration\", \"administration\", \"administration\", \"administration\", \"adolescents\", \"adr\", \"adrenergic\", \"adrenergic\", \"adults\", \"advanced\", \"adverse\", \"adverse\", \"adverse\", \"adverse\", \"adverse\", \"age\", \"age\", \"agents\", \"agents\", \"agents\", \"agents\", \"alcohol\", \"alkaloids\", \"allergic\", \"almost\", \"alpha\", \"alpha\", \"also\", \"also\", \"also\", \"also\", \"also\", \"also\", \"also\", \"also\", \"although\", \"although\", \"although\", \"although\", \"although\", \"amiodarone\", \"amlodipine\", \"anaesthetic\", \"analgesia\", \"analgesic\", \"analgesic\", \"analog\", \"androgen\", \"angiotensin\", \"animals\", \"animals\", \"animals\", \"animals\", \"anthracycline\", \"antihypertensive\", \"antiinflammatory\", \"antioxidants\", \"antioxidants\", \"antipsychotic\", \"antipsychotic\", \"anxiety\", \"apoptosis\", \"apparent\", \"arrhythmias\", \"artery\", \"artery\", \"artery\", \"arthritis\", \"arthritis\", \"asa\", \"asa\", \"asa\", \"asenapine\", \"aspirin\", \"aspirin\", \"assay\", \"assay\", \"assessed\", \"assessed\", \"assessed\", \"assessed\", \"assessed\", \"associated\", \"associated\", \"associated\", \"associated\", \"associated\", \"atypical\", \"atypical\", \"aura\", \"aviptadil\", \"azithromycin\", \"batteries\", \"behavior\", \"benzodiazepine\", \"binding\", \"bladder\", \"blocker\", \"blood\", \"blood\", \"blood\", \"blue\", \"bodyweight\", \"bone\", \"bortezomib\", \"bowel\", \"brain\", \"brain\", \"brain\", \"breast\", \"breast\", \"breast\", \"bupivacaine\", \"burns\", \"calcium\", \"calcium\", \"cancer\", \"cancer\", \"cancer\", \"carbachol\", \"carcinogenicity\", \"carcinogenicity\", \"carcinoma\", \"carcinoma\", \"carcinoma\", \"carcinoma\", \"cardiac\", \"cardiac\", \"cardioembolic\", \"cardiomyopathy\", \"cardiomyopathy\", \"cardiotoxicity\", \"cardiovascular\", \"cardiovascular\", \"case\", \"case\", \"case\", \"case\", \"case\", \"caspase\", \"catalepsy\", \"cataract\", \"cats\", \"cats\", \"cause\", \"cause\", \"cause\", \"cause\", \"cause\", \"cause\", \"cbz\", \"cells\", \"cells\", \"cent\", \"changes\", \"changes\", \"changes\", \"changes\", \"changes\", \"changes\", \"chemotherapy\", \"chemotherapy\", \"chemotherapy\", \"chest\", \"children\", \"chloride\", \"cholesterol\", \"chromium(vi)\", \"chromiumiii\", \"chronic\", \"chronic\", \"chronic\", \"chronic\", \"chronic\", \"cisplatin\", \"clarify\", \"claws\", \"clinical\", \"clinical\", \"clinical\", \"clinical\", \"clinical\", \"clinical\", \"clonictonic\", \"clonidine\", \"clozapine\", \"cocaine\", \"colorectal\", \"combination\", \"combination\", \"combination\", \"combination\", \"combination\", \"compared\", \"compared\", \"compared\", \"compared\", \"complications\", \"complications\", \"complications\", \"compound\", \"compound\", \"compound\", \"concentrations\", \"concentrations\", \"concentrations\", \"concentrations\", \"concentrations\", \"consecutive\", \"contractions\", \"control\", \"control\", \"control\", \"control\", \"controversial\", \"convulsions\", \"convulsions\", \"coronary\", \"coronary\", \"corticosteroids\", \"coumadin\", \"csa\", \"culture\", \"curcumin\", \"cyclosporine\", \"cypa\", \"cytotoxicity\", \"daily\", \"daily\", \"daily\", \"data\", \"data\", \"data\", \"data\", \"data\", \"data\", \"day\", \"day\", \"day\", \"day\", \"death\", \"death\", \"death\", \"death\", \"deficiency\", \"delapril\", \"delirium\", \"dependent\", \"dependent\", \"dependent\", \"dependent\", \"deposition\", \"dermatitis\", \"dermatitis\", \"detected\", \"detected\", \"detected\", \"detected\", \"developed\", \"developed\", \"developed\", \"developed\", \"developed\", \"diabetes\", \"diet\", \"dietary\", \"differentiation\", \"differentiation\", \"differentiation\", \"direct\", \"disease\", \"disease\", \"disease\", \"disease\", \"disease\", \"disease\", \"disease\", \"disorder\", \"disorder\", \"disorder\", \"disorder\", \"dizziness\", \"dizziness\", \"dmards\", \"dna\", \"dna\", \"dopamine\", \"dosage\", \"dosage\", \"dose\", \"dose\", \"dose\", \"dose\", \"dose\", \"dose\", \"drinking\", \"drug\", \"drug\", \"drug\", \"drug\", \"drug\", \"drug\", \"due\", \"due\", \"due\", \"due\", \"due\", \"dysfunction\", \"dysfunction\", \"dysfunction\", \"ec\", \"ed\", \"effects\", \"effects\", \"effects\", \"effects\", \"effects\", \"effects\", \"effects\", \"elderly\", \"enhanced\", \"enhanced\", \"enhanced\", \"epidemiological\", \"epidemiological\", \"epothilones\", \"eps\", \"er\", \"erk\", \"erythrocyte\", \"eserine\", \"essential\", \"estrogen\", \"evidence\", \"evidence\", \"evidence\", \"evidence\", \"evidence\", \"evidence\", \"examined\", \"examined\", \"examined\", \"examined\", \"examined\", \"exercise\", \"exert\", \"exert\", \"exposure\", \"exposure\", \"expression\", \"expression\", \"factors\", \"factors\", \"factors\", \"factors\", \"factors\", \"factors\", \"failure\", \"failure\", \"failure\", \"failure\", \"fak\", \"fatty\", \"feiba\", \"fentanyl\", \"ferritin\", \"fever\", \"fibrillation\", \"fibrosis\", \"fighting\", \"first\", \"first\", \"first\", \"following\", \"following\", \"following\", \"following\", \"following\", \"following\", \"found\", \"found\", \"found\", \"found\", \"fpn\", \"frequently\", \"frequently\", \"frequently\", \"furosemide\", \"gaba\", \"gain\", \"gcse\", \"generally\", \"generally\", \"generally\", \"generally\", \"generally\", \"gi\", \"given\", \"given\", \"given\", \"glutamate\", \"glutathione\", \"grade\", \"group\", \"group\", \"group\", \"growth\", \"guanethidine\", \"hazardous\", \"hcv\", \"heart\", \"heart\", \"heart\", \"heat\", \"hemolytic\", \"hemorrhage\", \"hemosiderin\", \"hepatitis\", \"hepatitis\", \"high\", \"high\", \"high\", \"hormone\", \"hospital\", \"hospital\", \"hospital\", \"hours\", \"however\", \"however\", \"however\", \"however\", \"however\", \"however\", \"ht\", \"hta\", \"human\", \"human\", \"human\", \"human\", \"human\", \"hyperalgesia\", \"hypertension\", \"hypertension\", \"hypertension\", \"hypothyroidism\", \"hypoventilation\", \"hypoventilation\", \"idiopathic\", \"iii\", \"il\", \"immediately\", \"important\", \"important\", \"important\", \"important\", \"improved\", \"improved\", \"improved\", \"improved\", \"improved\", \"including\", \"including\", \"including\", \"including\", \"including\", \"including\", \"including\", \"increased\", \"increased\", \"increased\", \"increased\", \"increased\", \"increased\", \"increased\", \"increased\", \"induced\", \"induced\", \"induced\", \"induced\", \"induced\", \"infarction\", \"infection\", \"inflammation\", \"inflammation\", \"inflammation\", \"infusion\", \"infusion\", \"infusion\", \"ingestion\", \"inhaled\", \"inhaled\", \"inhibition\", \"inhibition\", \"inhibitor\", \"inhibitor\", \"inhibitor\", \"inhibitor\", \"initiation\", \"initiation\", \"initiation\", \"injection\", \"injection\", \"injection\", \"injury\", \"injury\", \"insulin\", \"intake\", \"intake\", \"intake\", \"interval\", \"interval\", \"intrathecal\", \"investigated\", \"investigated\", \"investigated\", \"investigated\", \"investigated\", \"investigated\", \"iontophoresis\", \"iron\", \"iron\", \"ischemia\", \"iv\", \"iv\", \"ixabepilone\", \"ketamine\", \"ketanserin\", \"key\", \"kinase\", \"known\", \"known\", \"known\", \"known\", \"left\", \"lesions\", \"less\", \"less\", \"less\", \"less\", \"less\", \"leukemia\", \"levels\", \"levels\", \"levels\", \"levels\", \"levels\", \"levobupivacaine\", \"ligand\", \"limited\", \"limited\", \"limited\", \"limited\", \"lines\", \"lipoprotein\", \"lithium\", \"lithium\", \"liver\", \"liver\", \"liver\", \"liver\", \"log\", \"log\", \"low\", \"low\", \"low\", \"low\", \"lowdose\", \"lowdose\", \"lower\", \"lower\", \"lower\", \"lower\", \"male\", \"male\", \"male\", \"male\", \"male\", \"management\", \"management\", \"management\", \"mania\", \"marrow\", \"may\", \"may\", \"may\", \"may\", \"may\", \"mean\", \"mean\", \"mean\", \"mean\", \"mechanisms\", \"mechanisms\", \"mechanisms\", \"melanoma\", \"mellitus\", \"men\", \"metabolism\", \"metabolism\", \"metabolism\", \"metabolism\", \"metastasis\", \"metformin\", \"methotrexate\", \"methylene\", \"mg\", \"mg\", \"mg\", \"mg\", \"mg\", \"mgkg\", \"mgkg\", \"mgkg\", \"mice\", \"microm\", \"migraine\", \"mitochondrial\", \"mitochondrial\", \"mitomycin\", \"mm\", \"monitoring\", \"monitoring\", \"monitoring\", \"months\", \"months\", \"months\", \"months\", \"moreover\", \"morphineinduced\", \"motion\", \"mpa\", \"mrna\", \"mrna\", \"mtx\", \"mucosal\", \"muscle\", \"muscle\", \"mydriasis\", \"nac\", \"nausea\", \"nausea\", \"nausea\", \"neuronal\", \"neuronal\", \"neuropathy\", \"new\", \"new\", \"new\", \"new\", \"nickel\", \"nicotine\", \"nin\", \"nm\", \"nmda\", \"noradrenaline\", \"normal\", \"normal\", \"normal\", \"normal\", \"oas\", \"obese\", \"objective\", \"objective\", \"objective\", \"observed\", \"observed\", \"observed\", \"observed\", \"observed\", \"obstructive\", \"occurred\", \"occurred\", \"occurred\", \"occurred\", \"occurred\", \"occurred\", \"ocular\", \"ocular\", \"ocular\", \"oestrogen\", \"olanzapine\", \"one\", \"one\", \"one\", \"one\", \"one\", \"operative\", \"opioidrelated\", \"oral\", \"oral\", \"oral\", \"oral\", \"outcome\", \"outcome\", \"outcome\", \"overview\", \"oxidative\", \"oxidative\", \"oxygen\", \"paclitaxel\", \"pahs\", \"pain\", \"pain\", \"paracetamol\", \"parkinsons\", \"particularly\", \"particularly\", \"particularly\", \"particularly\", \"past\", \"pathological\", \"pathological\", \"pathway\", \"patients\", \"patients\", \"patients\", \"patients\", \"patients\", \"pattern\", \"pattern\", \"paws\", \"pcbs\", \"pcp\", \"peptide\", \"per\", \"per\", \"per\", \"per\", \"performed\", \"performed\", \"performed\", \"performed\", \"pericarditis\", \"peripheral\", \"peripheral\", \"ph\", \"phase\", \"phase\", \"phase\", \"plasma\", \"plasma\", \"plasma\", \"plus\", \"plus\", \"pneumonitis\", \"pneumonitis\", \"polymorphisms\", \"possible\", \"possible\", \"possible\", \"possible\", \"possible\", \"postoperative\", \"potential\", \"potential\", \"potential\", \"potential\", \"potential\", \"prazosin\", \"preclinical\", \"predominantly\", \"present\", \"present\", \"present\", \"present\", \"present\", \"pressure\", \"pressure\", \"pressure\", \"prevention\", \"prevention\", \"prevention\", \"prevention\", \"prevention\", \"prevention\", \"process\", \"process\", \"process\", \"produced\", \"produced\", \"produced\", \"produced\", \"produced\", \"production\", \"production\", \"production\", \"proliferation\", \"promote\", \"prompted\", \"properties\", \"properties\", \"proposed\", \"proposed\", \"prospective\", \"prospective\", \"prospective\", \"prostate\", \"prostate\", \"prostate\", \"prostate\", \"protein\", \"protein\", \"protein\", \"protein\", \"psa\", \"pulmonary\", \"pulmonary\", \"pulmonary\", \"purpose\", \"quetiapine\", \"ra\", \"ra\", \"rapid\", \"rapid\", \"rate\", \"rate\", \"rate\", \"rate\", \"rate\", \"rats\", \"rats\", \"reactive\", \"reactive\", \"receiving\", \"receiving\", \"receiving\", \"receiving\", \"receiving\", \"receptor\", \"receptor\", \"receptor\", \"receptor\", \"recurrent\", \"recurrent\", \"reduced\", \"reduced\", \"reduced\", \"reduced\", \"reduced\", \"refractory\", \"refractory\", \"relapse\", \"related\", \"related\", \"related\", \"related\", \"related\", \"relative\", \"relative\", \"renal\", \"renal\", \"renal\", \"renal\", \"repair\", \"reported\", \"reported\", \"reported\", \"reported\", \"required\", \"required\", \"required\", \"resistance\", \"resistance\", \"resistance\", \"resolved\", \"respiratory\", \"respiratory\", \"response\", \"response\", \"response\", \"response\", \"response\", \"response\", \"rest\", \"results\", \"results\", \"results\", \"results\", \"results\", \"results\", \"results\", \"results\", \"results\", \"reuptake\", \"reversible\", \"reversible\", \"reversible\", \"review\", \"review\", \"review\", \"rfviia\", \"rheumatic\", \"rheumatoid\", \"rigidity\", \"rings\", \"risk\", \"risk\", \"risk\", \"risk\", \"risperidone\", \"role\", \"role\", \"role\", \"rotation\", \"rr\", \"scale\", \"schizophrenia\", \"score\", \"second\", \"second\", \"second\", \"seen\", \"seen\", \"seen\", \"seizures\", \"seizures\", \"sensitivity\", \"sensitivity\", \"sensitivity\", \"sensitivity\", \"sensory\", \"serotonin\", \"serum\", \"serve\", \"seven\", \"severe\", \"severe\", \"severe\", \"severe\", \"severe\", \"sexual\", \"sexual\", \"showed\", \"showed\", \"showed\", \"showed\", \"shr\", \"side\", \"side\", \"side\", \"signaling\", \"significant\", \"significant\", \"significant\", \"significant\", \"significant\", \"significantly\", \"significantly\", \"significantly\", \"significantly\", \"significantly\", \"significantly\", \"significantly\", \"silicone\", \"single\", \"single\", \"single\", \"single\", \"sites\", \"sites\", \"sites\", \"sites\", \"skin\", \"skin\", \"skin\", \"skin\", \"slow\", \"small\", \"small\", \"small\", \"small\", \"species\", \"spleen\", \"spray\", \"stable\", \"stage\", \"statin\", \"steroid\", \"steroid\", \"strains\", \"stress\", \"stress\", \"stress\", \"stress\", \"stroke\", \"stroke\", \"structural\", \"study\", \"study\", \"study\", \"study\", \"study\", \"subjects\", \"suggest\", \"suggest\", \"suggest\", \"suggest\", \"sulfate\", \"supersensitivity\", \"survival\", \"symptoms\", \"symptoms\", \"symptoms\", \"symptoms\", \"syncope\", \"syndrome\", \"syndrome\", \"syndrome\", \"system\", \"system\", \"system\", \"system\", \"taxanes\", \"te\", \"tea\", \"ten\", \"tested\", \"tested\", \"tested\", \"tested\", \"tested\", \"testosterone\", \"testosterone\", \"tfas\", \"tgfbeta\", \"therapy\", \"therapy\", \"therapy\", \"therapy\", \"thiopental\", \"three\", \"three\", \"three\", \"three\", \"three\", \"thrombotic\", \"thyroid\", \"tnfalpha\", \"total\", \"total\", \"total\", \"toxicity\", \"toxicity\", \"toxicity\", \"toxicity\", \"toxicity\", \"transdermal\", \"transmission\", \"treated\", \"treated\", \"treated\", \"treated\", \"treated\", \"treated\", \"treated\", \"treatment\", \"treatment\", \"treatment\", \"treatment\", \"treatment\", \"treatment\", \"treatment\", \"tremor\", \"tumor\", \"tumour\", \"two\", \"two\", \"two\", \"two\", \"two\", \"two\", \"type\", \"type\", \"tzd\", \"underlying\", \"underlying\", \"underlying\", \"underwent\", \"underwent\", \"unit\", \"unsteadiness\", \"upregulation\", \"uremic\", \"urinary\", \"urinary\", \"used\", \"used\", \"used\", \"used\", \"used\", \"used\", \"used\", \"used\", \"users\", \"users\", \"users\", \"various\", \"various\", \"various\", \"vascular\", \"vascular\", \"vascular\", \"vasodilation\", \"ventricular\", \"veps\", \"verapamil\", \"versus\", \"vfc\", \"view\", \"vinca\", \"vinflunine\", \"vitro\", \"vitro\", \"vocalization\", \"vomiting\", \"vs\", \"vs\", \"weeks\", \"weeks\", \"weeks\", \"well\", \"well\", \"well\", \"well\", \"well\", \"well\", \"whether\", \"whether\", \"whether\", \"whether\", \"withdrawal\", \"withdrawal\", \"woman\", \"woman\", \"women\", \"women\", \"women\", \"would\", \"yearold\", \"yearold\", \"yearold\", \"years\", \"years\", \"years\", \"years\", \"years\", \"zaleplon\"]}, \"mdsDat\": {\"y\": [0.1608877649076528, 0.012978282759616438, -0.00098226017312615815, -0.033937571609364572, 0.067525059127448703, 0.098228360832508688, 0.060450427905348485, -0.15933808891183632, -0.29196515817413649, 0.086153183335888214], \"cluster\": [1, 1, 1, 1, 1, 1, 1, 1, 1, 1], \"Freq\": [12.56080247473281, 10.723077542826472, 10.586516223655064, 9.9672235814778638, 9.9463731954925354, 9.6780464158460262, 9.5801457831301775, 9.2976423729703139, 8.8417018681847654, 8.8184705416839702], \"topics\": [1, 2, 3, 4, 5, 6, 7, 8, 9, 10], \"x\": [0.25873363986517284, -0.1151545281753143, -0.1675178188717571, -0.18499438576458679, -0.060126380369117528, 0.10053277781862117, 0.020607182466981518, -0.055311710541062639, 0.21146421956895625, -0.0082329959978914413]}, \"R\": 30, \"lambda.step\": 0.01, \"tinfo\": {\"Category\": [\"Default\", \"Default\", \"Default\", \"Default\", \"Default\", \"Default\", \"Default\", \"Default\", \"Default\", \"Default\", \"Default\", \"Default\", \"Default\", \"Default\", \"Default\", \"Default\", \"Default\", \"Default\", \"Default\", \"Default\", \"Default\", \"Default\", \"Default\", \"Default\", \"Default\", \"Default\", \"Default\", \"Default\", \"Default\", \"Default\", \"Topic1\", \"Topic1\", \"Topic1\", \"Topic1\", \"Topic1\", \"Topic1\", \"Topic1\", \"Topic1\", \"Topic1\", \"Topic1\", \"Topic1\", \"Topic1\", \"Topic1\", \"Topic1\", \"Topic1\", \"Topic1\", \"Topic1\", \"Topic1\", \"Topic1\", \"Topic1\", \"Topic1\", \"Topic1\", \"Topic1\", \"Topic1\", \"Topic1\", \"Topic1\", \"Topic1\", \"Topic1\", \"Topic1\", \"Topic1\", \"Topic1\", \"Topic1\", \"Topic1\", \"Topic1\", \"Topic1\", \"Topic1\", \"Topic1\", \"Topic1\", \"Topic1\", \"Topic1\", \"Topic1\", \"Topic1\", \"Topic1\", \"Topic1\", \"Topic1\", \"Topic1\", \"Topic1\", \"Topic1\", \"Topic1\", \"Topic1\", \"Topic1\", \"Topic1\", \"Topic1\", \"Topic1\", \"Topic1\", \"Topic1\", \"Topic1\", \"Topic2\", \"Topic2\", \"Topic2\", \"Topic2\", \"Topic2\", \"Topic2\", \"Topic2\", \"Topic2\", \"Topic2\", \"Topic2\", \"Topic2\", \"Topic2\", \"Topic2\", \"Topic2\", \"Topic2\", \"Topic2\", \"Topic2\", \"Topic2\", \"Topic2\", \"Topic2\", \"Topic2\", \"Topic2\", \"Topic2\", \"Topic2\", \"Topic2\", \"Topic2\", \"Topic2\", \"Topic2\", \"Topic2\", \"Topic2\", \"Topic2\", \"Topic2\", \"Topic2\", \"Topic2\", \"Topic2\", \"Topic2\", \"Topic2\", \"Topic2\", \"Topic2\", \"Topic2\", \"Topic2\", \"Topic2\", \"Topic2\", \"Topic2\", \"Topic2\", \"Topic2\", \"Topic2\", \"Topic2\", \"Topic2\", \"Topic2\", \"Topic2\", \"Topic2\", \"Topic2\", \"Topic2\", \"Topic2\", \"Topic2\", \"Topic2\", \"Topic2\", \"Topic2\", \"Topic2\", \"Topic2\", \"Topic2\", \"Topic2\", \"Topic3\", \"Topic3\", \"Topic3\", \"Topic3\", \"Topic3\", \"Topic3\", \"Topic3\", \"Topic3\", \"Topic3\", \"Topic3\", \"Topic3\", \"Topic3\", \"Topic3\", \"Topic3\", \"Topic3\", \"Topic3\", \"Topic3\", \"Topic3\", \"Topic3\", \"Topic3\", \"Topic3\", \"Topic3\", \"Topic3\", \"Topic3\", \"Topic3\", \"Topic3\", \"Topic3\", \"Topic3\", \"Topic3\", \"Topic3\", \"Topic3\", \"Topic3\", \"Topic3\", \"Topic3\", \"Topic3\", \"Topic3\", \"Topic3\", \"Topic3\", \"Topic3\", \"Topic3\", \"Topic3\", \"Topic3\", \"Topic3\", \"Topic3\", \"Topic3\", \"Topic3\", \"Topic3\", \"Topic3\", \"Topic3\", \"Topic3\", \"Topic3\", \"Topic3\", \"Topic3\", \"Topic3\", \"Topic3\", \"Topic3\", \"Topic3\", \"Topic3\", \"Topic3\", \"Topic3\", \"Topic3\", \"Topic3\", \"Topic3\", \"Topic3\", \"Topic3\", \"Topic3\", \"Topic4\", \"Topic4\", \"Topic4\", \"Topic4\", \"Topic4\", \"Topic4\", \"Topic4\", \"Topic4\", \"Topic4\", \"Topic4\", \"Topic4\", \"Topic4\", \"Topic4\", \"Topic4\", \"Topic4\", \"Topic4\", \"Topic4\", \"Topic4\", \"Topic4\", \"Topic4\", \"Topic4\", \"Topic4\", \"Topic4\", \"Topic4\", \"Topic4\", \"Topic4\", \"Topic4\", \"Topic4\", \"Topic4\", \"Topic4\", \"Topic4\", \"Topic4\", \"Topic4\", \"Topic4\", \"Topic4\", \"Topic4\", \"Topic4\", \"Topic4\", \"Topic4\", \"Topic4\", \"Topic4\", \"Topic4\", \"Topic4\", \"Topic4\", \"Topic4\", \"Topic4\", \"Topic4\", \"Topic4\", \"Topic4\", \"Topic4\", \"Topic4\", \"Topic4\", \"Topic4\", \"Topic4\", \"Topic4\", \"Topic4\", \"Topic4\", \"Topic4\", \"Topic4\", \"Topic4\", \"Topic4\", \"Topic5\", \"Topic5\", \"Topic5\", \"Topic5\", \"Topic5\", \"Topic5\", \"Topic5\", \"Topic5\", \"Topic5\", \"Topic5\", \"Topic5\", \"Topic5\", \"Topic5\", \"Topic5\", \"Topic5\", \"Topic5\", \"Topic5\", \"Topic5\", \"Topic5\", \"Topic5\", \"Topic5\", \"Topic5\", \"Topic5\", \"Topic5\", \"Topic5\", \"Topic5\", \"Topic5\", \"Topic5\", \"Topic5\", \"Topic5\", \"Topic5\", \"Topic5\", \"Topic5\", \"Topic5\", \"Topic5\", \"Topic5\", \"Topic5\", \"Topic5\", \"Topic5\", \"Topic5\", \"Topic5\", \"Topic5\", \"Topic5\", \"Topic5\", \"Topic5\", \"Topic5\", \"Topic5\", \"Topic5\", \"Topic5\", \"Topic5\", \"Topic5\", \"Topic5\", \"Topic5\", \"Topic5\", \"Topic5\", \"Topic5\", \"Topic5\", \"Topic5\", \"Topic5\", \"Topic6\", \"Topic6\", \"Topic6\", \"Topic6\", \"Topic6\", \"Topic6\", \"Topic6\", \"Topic6\", \"Topic6\", \"Topic6\", \"Topic6\", \"Topic6\", \"Topic6\", \"Topic6\", \"Topic6\", \"Topic6\", \"Topic6\", \"Topic6\", \"Topic6\", \"Topic6\", \"Topic6\", \"Topic6\", \"Topic6\", \"Topic6\", \"Topic6\", \"Topic6\", \"Topic6\", \"Topic6\", \"Topic6\", \"Topic6\", \"Topic6\", \"Topic6\", \"Topic6\", \"Topic6\", \"Topic6\", \"Topic6\", \"Topic6\", \"Topic6\", \"Topic6\", \"Topic6\", \"Topic6\", \"Topic6\", \"Topic6\", \"Topic6\", \"Topic6\", \"Topic6\", \"Topic6\", \"Topic6\", \"Topic6\", \"Topic6\", \"Topic6\", \"Topic6\", \"Topic6\", \"Topic6\", \"Topic6\", \"Topic6\", \"Topic6\", \"Topic6\", \"Topic6\", \"Topic6\", \"Topic6\", \"Topic6\", \"Topic6\", \"Topic6\", \"Topic6\", \"Topic6\", \"Topic6\", \"Topic6\", \"Topic6\", \"Topic6\", \"Topic7\", \"Topic7\", \"Topic7\", \"Topic7\", \"Topic7\", \"Topic7\", \"Topic7\", \"Topic7\", \"Topic7\", \"Topic7\", \"Topic7\", \"Topic7\", \"Topic7\", \"Topic7\", \"Topic7\", \"Topic7\", \"Topic7\", \"Topic7\", \"Topic7\", \"Topic7\", \"Topic7\", \"Topic7\", \"Topic7\", \"Topic7\", \"Topic7\", \"Topic7\", \"Topic7\", \"Topic7\", \"Topic7\", \"Topic7\", \"Topic7\", \"Topic7\", \"Topic7\", \"Topic7\", \"Topic7\", \"Topic7\", \"Topic7\", \"Topic7\", \"Topic7\", \"Topic7\", \"Topic7\", \"Topic7\", \"Topic7\", \"Topic7\", \"Topic7\", \"Topic7\", \"Topic7\", \"Topic7\", \"Topic7\", \"Topic7\", \"Topic7\", \"Topic7\", \"Topic7\", \"Topic7\", \"Topic7\", \"Topic7\", \"Topic7\", \"Topic7\", \"Topic7\", \"Topic7\", \"Topic7\", \"Topic7\", \"Topic7\", \"Topic7\", \"Topic7\", \"Topic8\", \"Topic8\", \"Topic8\", \"Topic8\", \"Topic8\", \"Topic8\", \"Topic8\", \"Topic8\", \"Topic8\", \"Topic8\", \"Topic8\", \"Topic8\", \"Topic8\", \"Topic8\", \"Topic8\", \"Topic8\", \"Topic8\", \"Topic8\", \"Topic8\", \"Topic8\", \"Topic8\", \"Topic8\", \"Topic8\", \"Topic8\", \"Topic8\", \"Topic8\", \"Topic8\", \"Topic8\", \"Topic8\", \"Topic8\", \"Topic8\", \"Topic8\", \"Topic8\", \"Topic8\", \"Topic8\", \"Topic8\", \"Topic8\", \"Topic8\", \"Topic8\", \"Topic8\", \"Topic8\", \"Topic8\", \"Topic8\", \"Topic8\", \"Topic8\", \"Topic8\", \"Topic8\", \"Topic8\", \"Topic8\", \"Topic8\", \"Topic8\", \"Topic8\", \"Topic8\", \"Topic8\", \"Topic8\", \"Topic8\", \"Topic8\", \"Topic8\", \"Topic8\", \"Topic8\", \"Topic8\", \"Topic8\", \"Topic8\", \"Topic8\", \"Topic8\", \"Topic8\", \"Topic8\", \"Topic9\", \"Topic9\", \"Topic9\", \"Topic9\", \"Topic9\", \"Topic9\", \"Topic9\", \"Topic9\", \"Topic9\", \"Topic9\", \"Topic9\", \"Topic9\", \"Topic9\", \"Topic9\", \"Topic9\", \"Topic9\", \"Topic9\", \"Topic9\", \"Topic9\", \"Topic9\", \"Topic9\", \"Topic9\", \"Topic9\", \"Topic9\", \"Topic9\", \"Topic9\", \"Topic9\", \"Topic9\", \"Topic9\", \"Topic9\", \"Topic9\", \"Topic9\", \"Topic9\", \"Topic9\", \"Topic9\", \"Topic9\", \"Topic9\", \"Topic9\", \"Topic9\", \"Topic9\", \"Topic9\", \"Topic9\", \"Topic9\", \"Topic9\", \"Topic9\", \"Topic9\", \"Topic9\", \"Topic9\", \"Topic9\", \"Topic9\", \"Topic9\", \"Topic9\", \"Topic9\", \"Topic9\", \"Topic9\", \"Topic9\", \"Topic9\", \"Topic9\", \"Topic9\", \"Topic10\", \"Topic10\", \"Topic10\", \"Topic10\", \"Topic10\", \"Topic10\", \"Topic10\", \"Topic10\", \"Topic10\", \"Topic10\", \"Topic10\", \"Topic10\", \"Topic10\", \"Topic10\", \"Topic10\", \"Topic10\", \"Topic10\", \"Topic10\", \"Topic10\", \"Topic10\", \"Topic10\", \"Topic10\", \"Topic10\", \"Topic10\", \"Topic10\", \"Topic10\", \"Topic10\", \"Topic10\", \"Topic10\", \"Topic10\", \"Topic10\", \"Topic10\", \"Topic10\", \"Topic10\", \"Topic10\", \"Topic10\", \"Topic10\", \"Topic10\", \"Topic10\", \"Topic10\", \"Topic10\", \"Topic10\", \"Topic10\", \"Topic10\", \"Topic10\", \"Topic10\", \"Topic10\", \"Topic10\", \"Topic10\", \"Topic10\", \"Topic10\", \"Topic10\", \"Topic10\", \"Topic10\", \"Topic10\", \"Topic10\", \"Topic10\", \"Topic10\", \"Topic10\", \"Topic10\", \"Topic10\", \"Topic10\", \"Topic10\", \"Topic10\", \"Topic10\"], \"Term\": [\"cells\", \"patients\", \"study\", \"activity\", \"dose\", \"treatment\", \"associated\", \"cancer\", \"therapy\", \"effects\", \"group\", \"case\", \"may\", \"reported\", \"inhibition\", \"tumor\", \"pain\", \"agents\", \"cause\", \"induced\", \"drug\", \"day\", \"diabetes\", \"expression\", \"used\", \"risk\", \"fentanyl\", \"hepatitis\", \"human\", \"blood\", \"cells\", \"tumor\", \"growth\", \"mice\", \"lines\", \"apoptosis\", \"cytotoxicity\", \"pathway\", \"melanoma\", \"kinase\", \"expression\", \"upregulation\", \"leukemia\", \"promote\", \"signaling\", \"tumour\", \"culture\", \"glutathione\", \"curcumin\", \"proliferation\", \"microm\", \"erk\", \"adr\", \"12(s)-hete\", \"tnfalpha\", \"caspase\", \"er\", \"dna\", \"fak\", \"bortezomib\", \"metastasis\", \"inhibition\", \"adhesion\", \"mrna\", \"mitochondrial\", \"differentiation\", \"protein\", \"activity\", \"carcinoma\", \"human\", \"vitro\", \"cancer\", \"induced\", \"increased\", \"enhanced\", \"sensitivity\", \"investigated\", \"levels\", \"acid\", \"showed\", \"drug\", \"effects\", \"results\", \"also\", \"potential\", \"inhibitor\", \"treatment\", \"diabetes\", \"serum\", \"subjects\", \"insulin\", \"blocker\", \"diet\", \"obese\", \"cholesterol\", \"angiotensin\", \"mellitus\", \"men\", \"dietary\", \"il\", \"essential\", \"delapril\", \"deficiency\", \"metformin\", \"rr\", \"infarction\", \"ed\", \"amlodipine\", \"antihypertensive\", \"age\", \"tzd\", \"lipoprotein\", \"across\", \"stable\", \"urinary\", \"vasodilation\", \"statin\", \"vs\", \"pattern\", \"testosterone\", \"type\", \"pressure\", \"intake\", \"blood\", \"women\", \"hypertension\", \"vascular\", \"metabolism\", \"control\", \"cardiovascular\", \"coronary\", \"high\", \"group\", \"inhibitor\", \"lower\", \"patients\", \"disease\", \"renal\", \"concentrations\", \"combination\", \"changes\", \"levels\", \"treatment\", \"syndrome\", \"increased\", \"study\", \"reduced\", \"therapy\", \"significant\", \"heart\", \"children\", \"adults\", \"clozapine\", \"score\", \"versus\", \"olanzapine\", \"scale\", \"bodyweight\", \"adolescents\", \"pericarditis\", \"risperidone\", \"delirium\", \"rotation\", \"gain\", \"mania\", \"eps\", \"relapse\", \"seven\", \"slow\", \"mpa\", \"unit\", \"antipsychotic\", \"asenapine\", \"fibrosis\", \"quetiapine\", \"consecutive\", \"prompted\", \"morphineinduced\", \"cypa\", \"clarify\", \"underwent\", \"interval\", \"cardiomyopathy\", \"atypical\", \"particularly\", \"abnormal\", \"day\", \"less\", \"prospective\", \"rapid\", \"monitoring\", \"patients\", \"symptoms\", \"daily\", \"receiving\", \"disorder\", \"months\", \"severe\", \"treatment\", \"reported\", \"infusion\", \"risk\", \"increased\", \"study\", \"used\", \"case\", \"total\", \"rate\", \"mean\", \"developed\", \"suggest\", \"effects\", \"one\", \"significant\", \"also\", \"assessed\", \"fentanyl\", \"transdermal\", \"hours\", \"ventricular\", \"levobupivacaine\", \"coumadin\", \"bupivacaine\", \"cardiotoxicity\", \"postoperative\", \"arrhythmias\", \"analgesia\", \"nac\", \"acetaminophen\", \"immediately\", \"fibrillation\", \"blue\", \"left\", \"verapamil\", \"cardioembolic\", \"opioidrelated\", \"rheumatic\", \"resolved\", \"vomiting\", \"intrathecal\", \"paracetamol\", \"methylene\", \"operative\", \"anaesthetic\", \"cent\", \"purpose\", \"analgesic\", \"hypoventilation\", \"aspirin\", \"male\", \"pain\", \"cardiac\", \"hospital\", \"cats\", \"given\", \"stroke\", \"oral\", \"initiation\", \"three\", \"per\", \"patients\", \"prevention\", \"compared\", \"adverse\", \"group\", \"failure\", \"required\", \"heart\", \"may\", \"effects\", \"chronic\", \"study\", \"used\", \"administration\", \"developed\", \"cause\", \"disease\", \"survival\", \"bone\", \"chloride\", \"advanced\", \"carbachol\", \"eserine\", \"tremor\", \"vocalization\", \"fighting\", \"nickel\", \"hormone\", \"mydriasis\", \"clonictonic\", \"stage\", \"batteries\", \"mm\", \"iii\", \"adjuvant\", \"bladder\", \"paws\", \"hazardous\", \"claws\", \"thrombotic\", \"view\", \"apparent\", \"almost\", \"rfviia\", \"colorectal\", \"feiba\", \"anthracycline\", \"plus\", \"relative\", \"objective\", \"lithium\", \"convulsions\", \"calcium\", \"chemotherapy\", \"limited\", \"due\", \"data\", \"toxicity\", \"therapy\", \"cancer\", \"response\", \"rate\", \"patients\", \"disease\", \"however\", \"improved\", \"potential\", \"phase\", \"assessed\", \"associated\", \"used\", \"results\", \"significantly\", \"produced\", \"breast\", \"clinical\", \"alcohol\", \"dopamine\", \"oestrogen\", \"estrogen\", \"androgen\", \"structural\", \"polymorphisms\", \"fatty\", \"schizophrenia\", \"pcp\", \"binding\", \"pcbs\", \"tgfbeta\", \"tea\", \"tfas\", \"drinking\", \"direct\", \"migraine\", \"nmda\", \"key\", \"ligand\", \"transmission\", \"past\", \"hemorrhage\", \"controversial\", \"aura\", \"serve\", \"peptide\", \"moreover\", \"obstructive\", \"exert\", \"neuronal\", \"ad\", \"carcinogenicity\", \"properties\", \"possible\", \"various\", \"epidemiological\", \"inflammation\", \"important\", \"proposed\", \"underlying\", \"process\", \"exposure\", \"role\", \"receptor\", \"mechanisms\", \"brain\", \"risk\", \"prostate\", \"evidence\", \"effects\", \"may\", \"used\", \"cancer\", \"results\", \"study\", \"review\", \"activity\", \"breast\", \"production\", \"present\", \"associated\", \"human\", \"clinical\", \"death\", \"although\", \"system\", \"however\", \"observed\", \"zaleplon\", \"behavior\", \"would\", \"ketamine\", \"silicone\", \"catalepsy\", \"gaba\", \"elderly\", \"shr\", \"preclinical\", \"chest\", \"cocaine\", \"fever\", \"sulfate\", \"vfc\", \"ph\", \"benzodiazepine\", \"abuse\", \"aviptadil\", \"oas\", \"cbz\", \"thiopental\", \"veps\", \"gcse\", \"rest\", \"pahs\", \"glutamate\", \"clonidine\", \"prazosin\", \"te\", \"alpha\", \"pneumonitis\", \"refractory\", \"seizures\", \"iv\", \"respiratory\", \"mgkg\", \"pulmonary\", \"mg\", \"chronic\", \"tested\", \"produced\", \"induced\", \"performed\", \"study\", \"suggest\", \"acute\", \"plasma\", \"injection\", \"response\", \"animals\", \"rats\", \"treated\", \"seen\", \"single\", \"dose\", \"effects\", \"showed\", \"activity\", \"levels\", \"compound\", \"increased\", \"drug\", \"potential\", \"results\", \"cisplatin\", \"lesions\", \"corticosteroids\", \"guanethidine\", \"gi\", \"spleen\", \"uremic\", \"noradrenaline\", \"hemolytic\", \"hemosiderin\", \"fpn\", \"furosemide\", \"bowel\", \"marrow\", \"iontophoresis\", \"cataract\", \"parkinsons\", \"ferritin\", \"hyperalgesia\", \"mitomycin\", \"woman\", \"idiopathic\", \"supersensitivity\", \"deposition\", \"mucosal\", \"erythrocyte\", \"pathological\", \"steroid\", \"heat\", \"lowdose\", \"iron\", \"asa\", \"adrenergic\", \"second\", \"users\", \"withdrawal\", \"yearold\", \"first\", \"recurrent\", \"low\", \"case\", \"complications\", \"dose\", \"outcome\", \"sites\", \"clinical\", \"syndrome\", \"small\", \"developed\", \"reported\", \"injury\", \"two\", \"normal\", \"observed\", \"cause\", \"present\", \"disease\", \"one\", \"treatment\", \"associated\", \"years\", \"failure\", \"death\", \"weeks\", \"toxicity\", \"including\", \"treated\", \"infection\", \"chromium(vi)\", \"nm\", \"oxygen\", \"contractions\", \"ec\", \"serotonin\", \"ketanserin\", \"ingestion\", \"allergic\", \"ischemia\", \"5-ht\", \"rigidity\", \"strains\", \"rings\", \"species\", \"chromiumiii\", \"ten\", \"amiodarone\", \"exercise\", \"inhaled\", \"hcv\", \"repair\", \"azithromycin\", \"ht\", \"hta\", \"reuptake\", \"predominantly\", \"log\", \"burns\", \"liver\", \"artery\", \"muscle\", \"oxidative\", \"whether\", \"hepatitis\", \"antioxidants\", \"dermatitis\", \"reactive\", \"stress\", \"examined\", \"acid\", \"cause\", \"rats\", \"detected\", \"occurred\", \"skin\", \"found\", \"may\", \"resistance\", \"due\", \"assay\", \"human\", \"following\", \"receptor\", \"toxicity\", \"related\", \"system\", \"treatment\", \"neuropathy\", \"nicotine\", \"methotrexate\", \"alkaloids\", \"rheumatoid\", \"analog\", \"mtx\", \"grade\", \"nin\", \"sensory\", \"vinca\", \"taxanes\", \"paclitaxel\", \"hypothyroidism\", \"thyroid\", \"vinflunine\", \"arthritis\", \"syncope\", \"epothilones\", \"motion\", \"unsteadiness\", \"anxiety\", \"overview\", \"antiinflammatory\", \"psa\", \"able\", \"ixabepilone\", \"dmards\", \"csa\", \"spray\", \"cyclosporine\", \"dizziness\", \"dependent\", \"ocular\", \"sexual\", \"agents\", \"known\", \"dysfunction\", \"ra\", \"new\", \"peripheral\", \"nausea\", \"associated\", \"drug\", \"management\", \"side\", \"therapy\", \"generally\", \"reversible\", \"treatment\", \"although\", \"effects\", \"used\", \"reported\", \"combination\", \"dosage\", \"frequently\", \"inhibitor\", \"dose\", \"factors\", \"however\", \"may\", \"severe\", \"well\", \"also\"], \"loglift\": [30.0, 29.0, 28.0, 27.0, 26.0, 25.0, 24.0, 23.0, 22.0, 21.0, 20.0, 19.0, 18.0, 17.0, 16.0, 15.0, 14.0, 13.0, 12.0, 11.0, 10.0, 9.0, 8.0, 7.0, 6.0, 5.0, 4.0, 3.0, 2.0, 1.0, 2.0724999999999998, 2.0720000000000001, 2.0703, 2.0699999999999998, 2.0693999999999999, 2.0687000000000002, 2.0678000000000001, 2.0674999999999999, 2.0667, 2.0666000000000002, 2.0649999999999999, 2.0649000000000002, 2.0640999999999998, 2.0638999999999998, 2.0638999999999998, 2.0627, 2.0626000000000002, 2.0623999999999998, 2.0621, 2.0619000000000001, 2.0619000000000001, 2.0600999999999998, 2.0600999999999998, 2.0581, 2.0571999999999999, 2.0571999999999999, 2.0565000000000002, 2.0565000000000002, 2.0560999999999998, 2.0558000000000001, 2.0558000000000001, 2.0099, 2.0364, 2.044, 2.0327000000000002, 1.9882, 1.8454999999999999, 1.5284, 1.8328, 1.4644999999999999, 1.8027, 1.2020999999999999, 1.1166, 0.83169999999999999, 1.5498000000000001, 1.7019, 1.1155999999999999, 0.90000000000000002, 1.2004999999999999, 1.2579, 0.57689999999999997, -0.058799999999999998, 0.63949999999999996, 0.67589999999999995, 0.75829999999999997, 0.76370000000000005, -0.44969999999999999, 2.2294999999999998, 2.2281, 2.2269000000000001, 2.2256999999999998, 2.2235, 2.2233999999999998, 2.2225999999999999, 2.2218, 2.2206000000000001, 2.2206000000000001, 2.2199, 2.2195999999999998, 2.2181000000000002, 2.2170999999999998, 2.2164999999999999, 2.2162999999999999, 2.2155999999999998, 2.2126000000000001, 2.2122000000000002, 2.2122000000000002, 2.2117, 2.2101000000000002, 2.2082000000000002, 2.2069999999999999, 2.2061999999999999, 2.2061999999999999, 2.2061999999999999, 2.2058, 2.2046000000000001, 2.2046000000000001, 2.1934, 2.1882999999999999, 2.1884000000000001, 2.1484000000000001, 2.1585000000000001, 2.1434000000000002, 2.0522, 2.1017999999999999, 1.9785999999999999, 2.0424000000000002, 1.9394, 1.8334999999999999, 1.9726999999999999, 2.0773000000000001, 1.8469, 1.3926000000000001, 1.4824999999999999, 1.8312999999999999, 0.51019999999999999, 1.0980000000000001, 1.6597, 1.4604999999999999, 1.2149000000000001, 1.5284, 1.171, 0.56830000000000003, 1.4708000000000001, 0.67830000000000001, 0.40670000000000001, 1.3603000000000001, 0.76970000000000005, 1.3677999999999999, 1.4607000000000001, 2.2403, 2.2397999999999998, 2.2387000000000001, 2.238, 2.2370999999999999, 2.2364000000000002, 2.2349000000000001, 2.2330999999999999, 2.2322000000000002, 2.2317999999999998, 2.2317999999999998, 2.2315999999999998, 2.2307000000000001, 2.2303999999999999, 2.2302, 2.2299000000000002, 2.2288000000000001, 2.2288000000000001, 2.2271000000000001, 2.2263000000000002, 2.2254999999999998, 2.2252000000000001, 2.2250000000000001, 2.2240000000000002, 2.2240000000000002, 2.2235, 2.2229999999999999, 2.2218, 2.2212000000000001, 2.2212000000000001, 2.2103000000000002, 2.214, 2.2059000000000002, 2.1951000000000001, 2.1455000000000002, 2.0586000000000002, 1.9205000000000001, 1.9767999999999999, 2.0901000000000001, 2.1259000000000001, 2.0156000000000001, 1.2607999999999999, 1.7751999999999999, 2.0276000000000001, 1.6457999999999999, 1.7657, 1.7466999999999999, 1.4888999999999999, 0.93430000000000002, 1.3048, 1.6838, 1.3188, 0.95189999999999997, 0.71089999999999998, 0.72550000000000003, 1.1676, 1.6513, 1.3573999999999999, 1.7498, 0.84130000000000005, 1.0355000000000001, -0.10100000000000001, 1.1244000000000001, 1.2122999999999999, 0.66790000000000005, 1.2535000000000001, 2.3022999999999998, 2.2991000000000001, 2.2989000000000002, 2.2972000000000001, 2.2970999999999999, 2.2968000000000002, 2.2949999999999999, 2.2949000000000002, 2.2942999999999998, 2.2940999999999998, 2.2936999999999999, 2.2928000000000002, 2.2917000000000001, 2.2907999999999999, 2.2905000000000002, 2.29, 2.2866, 2.2848000000000002, 2.2848000000000002, 2.2848000000000002, 2.2843, 2.2837000000000001, 2.2837000000000001, 2.2826, 2.2812999999999999, 2.2806000000000002, 2.2774000000000001, 2.2774000000000001, 2.2774000000000001, 2.2774000000000001, 2.2753000000000001, 2.2627999999999999, 2.1804999999999999, 2.2065000000000001, 2.1295000000000002, 2.0933999999999999, 2.2141000000000002, 2.1364999999999998, 2.0110000000000001, 2.024, 1.8442000000000001, 1.9843, 1.8268, 1.9735, 1.1442000000000001, 1.7663, 1.6138999999999999, 1.7273000000000001, 1.4083000000000001, 1.7433000000000001, 1.8948, 1.6651, 1.1224000000000001, 0.67469999999999997, 1.4020999999999999, 0.55659999999999998, 0.4108, 1.2152000000000001, 0.90680000000000005, 0.72299999999999998, 0.33079999999999998, 2.3025000000000002, 2.3018999999999998, 2.3008000000000002, 2.3005, 2.3001999999999998, 2.2999000000000001, 2.2993000000000001, 2.2978999999999998, 2.2978000000000001, 2.2976000000000001, 2.2972000000000001, 2.2961999999999998, 2.2961999999999998, 2.2955000000000001, 2.2953999999999999, 2.2951999999999999, 2.2949999999999999, 2.2942, 2.2911000000000001, 2.2900999999999998, 2.2900999999999998, 2.2900999999999998, 2.2890000000000001, 2.2890000000000001, 2.2886000000000002, 2.2877000000000001, 2.2873000000000001, 2.2863000000000002, 2.2858000000000001, 2.2846000000000002, 2.2827000000000002, 2.274, 2.2686999999999999, 2.2667000000000002, 2.1779000000000002, 2.0434999999999999, 1.9037999999999999, 1.9693000000000001, 1.7152000000000001, 1.7202999999999999, 1.4464999999999999, 1.1249, 1.1267, 1.2924, 1.488, 0.30049999999999999, 0.88880000000000003, 1.2393000000000001, 1.3939999999999999, 1.1127, 1.847, 1.2944, 0.46539999999999998, 0.054699999999999999, 0.59809999999999997, 1.0620000000000001, 1.2976000000000001, 1.4269000000000001, 0.4768, 2.3288000000000002, 2.3245, 2.3222999999999998, 2.3214999999999999, 2.3205, 2.3197999999999999, 2.3195000000000001, 2.3191999999999999, 2.3189000000000002, 2.3182999999999998, 2.3176000000000001, 2.3148, 2.3121, 2.3121, 2.3108, 2.3108, 2.3102, 2.3102, 2.3087, 2.3087, 2.3087, 2.3077999999999999, 2.3077999999999999, 2.3069999999999999, 2.3069999999999999, 2.306, 2.306, 2.306, 2.3039999999999998, 2.3028, 2.2970999999999999, 2.2951000000000001, 2.2862, 2.2924000000000002, 2.2924000000000002, 2.1953, 2.1970000000000001, 2.2547000000000001, 2.2008999999999999, 2.0733000000000001, 2.2195999999999998, 2.1558999999999999, 2.1549999999999998, 1.9911000000000001, 1.9009, 1.7588999999999999, 1.8118000000000001, 1.9328000000000001, 1.5276000000000001, 1.9916, 1.6773, 0.71919999999999995, 1.0629999999999999, 0.83020000000000005, 1.0414000000000001, 1.0367999999999999, 0.5968, 1.7015, 0.80459999999999998, 1.5024999999999999, 1.6788000000000001, 1.2524, 0.57709999999999995, 0.78539999999999999, 0.72699999999999998, 1.3400000000000001, 1.2635000000000001, 1.0743, 0.72819999999999996, 0.83889999999999998, 2.3384999999999998, 2.3348, 2.3321999999999998, 2.3315000000000001, 2.3281999999999998, 2.3279000000000001, 2.3275000000000001, 2.3271000000000002, 2.3271000000000002, 2.3258999999999999, 2.3254999999999999, 2.3250000000000002, 2.3250000000000002, 2.3239999999999998, 2.3233999999999999, 2.3229000000000002, 2.3222999999999998, 2.3220999999999998, 2.3216000000000001, 2.3210000000000002, 2.3187000000000002, 2.3169, 2.3169, 2.3169, 2.3159999999999998, 2.3149000000000002, 2.3138000000000001, 2.3126000000000002, 2.3126000000000002, 2.3126000000000002, 2.2799999999999998, 2.2993999999999999, 2.2681, 2.1766000000000001, 2.1873999999999998, 2.1573000000000002, 2.0680999999999998, 2.1246999999999998, 1.7255, 1.6586000000000001, 1.6927000000000001, 1.7306999999999999, 1.4456, 1.8185, 1.0488, 1.4725999999999999, 1.5846, 1.7108000000000001, 1.7456, 1.3480000000000001, 1.7436, 1.5287999999999999, 1.2991999999999999, 1.9962, 1.9877, 0.86580000000000001, 0.3846, 1.3597999999999999, 0.7268, 0.94140000000000001, 1.6039000000000001, 0.1163, 0.31290000000000001, 0.70899999999999996, 0.41799999999999998, 2.3704999999999998, 2.3668, 2.3656999999999999, 2.3637999999999999, 2.3607999999999998, 2.3603000000000001, 2.3601000000000001, 2.3580000000000001, 2.3573, 2.3561000000000001, 2.3538000000000001, 2.3532000000000002, 2.3527, 2.3527, 2.3521000000000001, 2.3521000000000001, 2.3521000000000001, 2.3515000000000001, 2.3515000000000001, 2.3508, 2.3506999999999998, 2.3494000000000002, 2.3494000000000002, 2.3485999999999998, 2.3477999999999999, 2.3477999999999999, 2.3469000000000002, 2.3466, 2.3460000000000001, 2.3451, 2.2875000000000001, 2.3180000000000001, 2.3105000000000002, 2.3096000000000001, 2.2932999999999999, 2.3003999999999998, 2.2692000000000001, 2.1835, 2.2294999999999998, 1.9742999999999999, 1.8110999999999999, 1.9722, 1.7092000000000001, 2.1448, 2.0369999999999999, 1.5365, 1.7218, 1.9136, 1.3676999999999999, 1.3072999999999999, 1.9481999999999999, 1.5457000000000001, 1.7655000000000001, 1.3389, 1.0224, 1.3803000000000001, 0.73070000000000002, 1.1953, 0.2324, 0.68489999999999995, 1.3862000000000001, 1.4374, 1.4890000000000001, 1.3674999999999999, 0.54810000000000003, 0.87350000000000005, 0.75249999999999995, 2.4209999999999998, 2.4177, 2.4167000000000001, 2.4165999999999999, 2.4152999999999998, 2.4152999999999998, 2.4131, 2.4123000000000001, 2.4096000000000002, 2.4087000000000001, 2.4087000000000001, 2.4077000000000002, 2.4073000000000002, 2.4073000000000002, 2.4068999999999998, 2.4064999999999999, 2.4051, 2.4051, 2.4051, 2.4045999999999998, 2.4036, 2.4036, 2.4024000000000001, 2.4016999999999999, 2.4016999999999999, 2.4011, 2.3996, 2.3996, 2.3988, 2.3988, 2.3927999999999998, 2.3862000000000001, 2.3900999999999999, 2.3723000000000001, 2.3187000000000002, 2.2938000000000001, 2.3862999999999999, 2.3613, 2.3405999999999998, 2.2021999999999999, 2.1337999999999999, 1.8754999999999999, 1.6765000000000001, 1.8374999999999999, 2.2178, 1.8080000000000001, 2.0867, 1.7673000000000001, 1.1081000000000001, 1.6286, 1.4313, 2.0493999999999999, 0.80659999999999998, 1.2621, 0.90869999999999995, 0.6018, 1.3732, 1.1333, -0.45000000000000001, 2.4216000000000002, 2.4211999999999998, 2.4178000000000002, 2.415, 2.4146000000000001, 2.4142000000000001, 2.4140000000000001, 2.4129999999999998, 2.4127000000000001, 2.4123999999999999, 2.4121999999999999, 2.4112, 2.4108999999999998, 2.4085999999999999, 2.4081999999999999, 2.4077000000000002, 2.4075000000000002, 2.4072, 2.4072, 2.4056000000000002, 2.4056000000000002, 2.4049999999999998, 2.4043999999999999, 2.4043999999999999, 2.4037999999999999, 2.4037999999999999, 2.4030999999999998, 2.4016000000000002, 2.4007000000000001, 2.4007000000000001, 2.4007000000000001, 2.3708999999999998, 2.3349000000000002, 2.3641999999999999, 2.3584000000000001, 2.1476000000000002, 2.1943000000000001, 2.2456, 2.3189000000000002, 2.1774, 2.2107000000000001, 2.1917, 1.6535, 1.6005, 1.9501999999999999, 2.0579000000000001, 1.3900999999999999, 1.8077000000000001, 1.8836999999999999, 0.99339999999999995, 1.7165999999999999, 0.75280000000000002, 0.85099999999999998, 1.0624, 1.0936999999999999, 1.9751000000000001, 1.7737000000000001, 1.0593999999999999, 0.67559999999999998, 1.2662, 1.1173999999999999, 0.43059999999999998, 0.9768, 1.2172000000000001, 0.63790000000000002], \"Freq\": [1319.0, 2598.0, 1386.0, 708.0, 706.0, 1430.0, 734.0, 659.0, 707.0, 1586.0, 577.0, 489.0, 706.0, 565.0, 376.0, 326.0, 356.0, 376.0, 531.0, 613.0, 692.0, 412.0, 261.0, 287.0, 1162.0, 463.0, 241.0, 268.0, 529.0, 318.0, 1317.1115400233095, 325.22516366196874, 200.66694834789453, 186.01304066388579, 163.11630990762217, 145.71479453286179, 124.64980223709925, 120.98632531609707, 108.16415609258942, 106.33241763208832, 284.92691753094471, 88.015033027077422, 80.68807918507305, 79.7722099548225, 79.7722099548225, 71.529386882567607, 70.613517652317057, 69.697648422066507, 67.865909961565421, 66.950040731314871, 66.950040731314871, 58.707217659059957, 58.707217659059957, 51.380263817055599, 48.632656126303964, 48.632656126303964, 46.800917665802885, 99.921333020334501, 45.885048435552335, 44.969179205301792, 44.969179205301792, 352.70124056948509, 70.613517652317057, 58.707217659059957, 64.202433040563236, 82.519817645574136, 194.2558637361407, 410.4010020752695, 124.64980223709925, 287.6745252216964, 97.173725329582865, 275.76822522843923, 235.46997909741529, 269.35714061668546, 113.65937147409269, 97.173725329582865, 147.54653299336286, 152.1258791446156, 120.07045608584652, 115.49110993459378, 154.87348683536723, 187.84477912438689, 142.05131761185959, 129.22914838835197, 118.23871762534543, 113.65937147409269, 114.57524070434324, 260.49220765511899, 183.30244244492664, 145.172558425434, 120.99263197404846, 91.232722495420091, 90.302725324212943, 83.792745125763005, 77.282764927313053, 69.842787557655953, 69.842787557655953, 66.122798872827403, 64.262804530413135, 57.752824331963183, 54.03283564713464, 52.172841304720365, 51.242844133513223, 49.382849791098955, 41.942872421441862, 41.012875250234721, 41.012875250234721, 40.082878079027594, 37.292886565406178, 110.76266309076996, 32.642900709370494, 31.71290353816336, 31.71290353816336, 31.71290353816336, 65.192801701620269, 29.852909195749085, 29.852909195749085, 69.842787557655953, 61.472813016791726, 60.542815845584585, 192.60241415699798, 123.78262348766987, 80.072756440934455, 266.07219068236179, 94.022714009041508, 170.28248204802671, 107.97267157714855, 154.47253013750537, 240.96226705976912, 121.9226291452556, 80.072756440934455, 139.5925753981912, 249.33224160063335, 199.11239435544795, 99.602697036284312, 464.16158814948187, 228.87230383407632, 120.99263197404846, 138.66257822698407, 169.35248487681957, 127.50261217249843, 170.28248204802671, 270.72217653839749, 128.43260934370556, 197.25240001303368, 223.29232080683349, 129.3626065149127, 163.77250184957674, 125.64261783008415, 110.76266309076996, 162.02273358438637, 146.20201864507237, 123.86689167192318, 112.69932818534859, 100.6011344082261, 92.225461793295167, 79.196637725624811, 68.029074239050217, 63.375922786310802, 61.514662205215039, 61.514662205215039, 60.584031914667165, 56.861510752475631, 55.93088046192775, 55.000250171379868, 54.069619880831986, 50.34709871864046, 50.34709871864046, 45.693947265901045, 43.832686684805282, 41.971426103709511, 86.641680050007864, 41.04079581316163, 39.179535232065867, 39.179535232065867, 38.248904941517978, 37.318274650970096, 35.457014069874333, 34.526383779326451, 34.526383779326451, 76.404746853981166, 56.861510752475631, 67.098443948502336, 54.069619880831986, 80.127268016172692, 151.78580038835966, 297.89475600437726, 180.63533939534403, 80.127268016172692, 68.029074239050217, 98.739873827130353, 970.74045607049641, 175.05155765205672, 87.572310340555745, 175.98218794260461, 136.89571573959353, 132.24256428685413, 178.77407881424827, 385.37400331587827, 220.65244188890296, 126.65878254356683, 183.42723026698769, 256.01639292972254, 298.82538629492518, 254.15513234862678, 166.67588503712577, 109.90743731370493, 122.00563109082742, 97.809243536582471, 131.31193399630624, 121.07500080027954, 151.78580038835966, 113.62995847589649, 106.18491615151341, 108.04617673260918, 100.6011344082261, 241.11844113633342, 125.35122421924298, 121.55557776294495, 97.832787411082137, 96.883875797007647, 93.088229340709589, 77.905643515517411, 76.956731901442893, 73.161085445144835, 72.212173831070331, 69.365438988846805, 64.620880918474242, 59.876322848101687, 56.080676391803642, 55.131764777729131, 53.233941549580109, 43.744825408834991, 39.949178952536947, 39.949178952536947, 39.949178952536947, 39.000267338462429, 38.051355724387918, 38.051355724387918, 36.153532496238903, 34.255709268089873, 33.306797654015362, 29.511151197717314, 29.511151197717314, 29.511151197717314, 29.511151197717314, 57.978499619952665, 40.898090566611451, 190.82612559038429, 97.832787411082137, 299.00204959487866, 204.11088818742743, 58.927411234027176, 96.883875797007647, 150.97183779925481, 102.57734548145471, 192.7239488185333, 110.1686383940508, 160.46095393999991, 95.934964182933129, 813.31214442326393, 157.61421909777638, 194.62177204668234, 155.71639586962738, 235.42497145188634, 133.8914287459136, 100.67952225330568, 126.3001358333175, 216.44673917039611, 310.38898896377276, 153.81857264147834, 241.11844113633342, 174.6946281511176, 123.45340099109396, 131.99360551776456, 109.21972677997628, 98.781699025156655, 154.25922071109608, 141.01808588610928, 119.26479295934529, 113.59002089149379, 109.80683951292615, 105.07786278971658, 97.511500032581267, 84.27036520759448, 83.324569862952558, 81.432979173668741, 78.595593139743002, 71.975025727249601, 71.975025727249601, 68.191844348681954, 67.246049004040032, 66.300253659398123, 65.354458314756215, 61.571276936188561, 50.221732800485597, 47.384346766559858, 47.384346766559858, 47.384346766559858, 44.546960732634126, 44.546960732634126, 43.601165387992211, 41.709574698708387, 40.763779354066472, 38.872188664782648, 37.926393320140733, 36.034802630856909, 69.137639693323862, 78.595593139743002, 68.191844348681954, 64.408662970114293, 83.324569862952558, 190.19944380748876, 128.72274640576441, 98.45729537722319, 174.12092294857626, 147.63865329860266, 244.10977845207788, 216.68171345746237, 202.49478328783366, 162.77137881287331, 130.61433709504826, 349.09306170733026, 172.22933225929245, 130.61433709504826, 116.42740692541955, 133.45172312897398, 84.27036520759448, 98.45729537722319, 116.42740692541955, 122.10217899327102, 107.91524882364232, 99.403090721865098, 89.945137275445973, 88.053546586162142, 89.945137275445973, 130.480819172607, 78.136216295193535, 64.812135562761014, 61.005255353494583, 57.198375144228159, 54.34321498727833, 53.391494934961727, 52.439774882645118, 51.488054830328501, 49.584614725695289, 47.68117462106207, 41.019134254845817, 36.260533993262776, 36.260533993262776, 34.357093888629556, 34.357093888629556, 33.405373836312954, 33.405373836312954, 31.501933731679735, 31.501933731679735, 31.501933731679735, 30.550213679363129, 30.550213679363129, 29.598493627046519, 29.598493627046519, 28.646773574729909, 28.646773574729909, 28.646773574729909, 26.743333470096694, 25.791613417780084, 45.777734516428858, 43.874294411795638, 54.34321498727833, 41.019134254845817, 41.019134254845817, 129.52909912029037, 69.570735824344055, 44.826014464112255, 60.05353530117798, 121.91533870175752, 52.439774882645118, 71.474175928977274, 71.474175928977274, 134.28769938187344, 173.30822152685437, 231.36314471816746, 165.69446110832149, 100.02577749847552, 206.61842335793565, 64.812135562761014, 101.92921760310874, 315.11450932202899, 198.05294288708618, 258.01130618303256, 180.92198194538722, 162.83930095137165, 243.73550539828338, 80.991376452143356, 153.32210042820557, 92.412017079942657, 80.991376452143356, 98.122337393842301, 126.67393896334055, 112.39813817859144, 112.39813817859144, 79.087936347510151, 78.136216295193535, 77.184496242876918, 76.232776190560315, 72.425895981293877, 121.8957433649739, 79.022740103112582, 63.432557098799371, 60.509397785490648, 48.816760532255735, 47.842374094486168, 46.867987656716593, 45.893601218947012, 45.893601218947012, 42.970441905638282, 41.996055467868707, 41.021669030099133, 41.021669030099133, 39.072896154559984, 38.09850971679041, 37.124123279020836, 36.149736841251254, 75.125194352034285, 35.17535040348168, 34.200963965712106, 31.277804652403379, 29.329031776864227, 29.329031776864227, 29.329031776864227, 28.354645339094652, 27.380258901325078, 26.4058724635555, 25.431486025785926, 25.431486025785926, 25.431486025785926, 98.510468858504083, 38.09850971679041, 45.893601218947012, 120.92135692720433, 104.35678748512154, 114.1006518628173, 120.92135692720433, 79.997126540882149, 218.36000070416188, 191.07718044661377, 149.17856362252201, 133.58838061820882, 249.54036671278831, 96.561695982964949, 379.13376293614192, 169.64067881568312, 138.46031280705671, 102.40801460958239, 96.561695982964949, 165.74313306460482, 93.638536669656219, 118.97258405166517, 156.97365512467863, 64.406943536568946, 63.432557098799371, 160.87120087575693, 223.23193289300977, 97.536082420734502, 140.40908568259584, 120.92135692720433, 81.945899416421298, 100.45924173404323, 90.715377356347489, 85.84344516749961, 86.817831605269177, 171.54372975915123, 98.606859568899182, 87.240074604184585, 73.031593398291335, 57.875880112005198, 55.981415951219425, 55.034183870826546, 48.40355930807636, 46.509095147290587, 43.667398906111941, 38.931238504147522, 37.984006423754636, 37.036774343361749, 37.036774343361749, 36.089542262968877, 36.089542262968877, 36.089542262968877, 35.14231018257599, 35.14231018257599, 34.195078102183103, 72.084361317898441, 32.300613941397337, 32.300613941397337, 31.353381861004454, 30.406149780611567, 30.406149780611567, 61.664808433576724, 92.923467086541891, 28.511685619825801, 57.875880112005198, 143.12676734736471, 62.61204051396961, 69.242665076719788, 54.086951790433659, 66.40096883554115, 59.770344272790965, 82.503914202220159, 123.23489365911416, 59.770344272790965, 154.49355231207934, 278.58095484354715, 148.81015982972201, 362.88460999851378, 72.084361317898441, 81.556682121827279, 242.58613578861753, 143.12676734736471, 93.87069916693477, 195.22453176897332, 194.27729968858046, 85.345610443398826, 139.33783902579319, 85.345610443398826, 114.70980493557822, 137.44337486500743, 107.13194829243515, 137.44337486500743, 107.13194829243515, 167.75480143757969, 135.54891070422167, 97.659627488506317, 91.976235006148997, 88.187306684577464, 88.187306684577464, 92.923467086541891, 88.187306684577464, 88.187306684577464, 180.55712387953011, 105.85052238182016, 94.207935135423824, 93.237719531557445, 81.595132285161085, 81.595132285161085, 67.04189822716566, 63.161035811700209, 52.488664169170221, 49.578017357571134, 49.578017357571134, 46.667370545972048, 45.697154942105684, 45.697154942105684, 44.726939338239319, 43.756723734372954, 40.846076922773875, 40.846076922773875, 40.846076922773875, 39.875861318907511, 79.654701077428371, 37.935430111174789, 35.99499890344206, 35.024783299575695, 35.024783299575695, 34.054567695709331, 32.114136487976609, 32.114136487976609, 66.071682623299296, 31.143920884110244, 193.16992672979279, 116.52289402435017, 75.773838661962927, 136.89742170554376, 185.4082018988619, 234.88919769604641, 44.726939338239319, 55.399310980769314, 63.161035811700209, 95.178150739290174, 111.67181600501834, 166.00388982153467, 251.38286296177461, 149.51022455580647, 65.101467019432931, 133.98677489394467, 79.654701077428371, 114.58246281661744, 189.28906431432736, 108.76116919341925, 116.52289402435017, 68.012113831032025, 104.88030677795381, 84.505779096760193, 90.327072719958366, 93.237719531557445, 76.744054265829277, 74.803623058096562, 80.624916681294735, 127.17236418712903, 119.58564596567466, 80.703715080720954, 63.633599082448605, 61.736919527085007, 59.840239971721424, 58.891900194039621, 55.098541083312433, 54.150201305630631, 53.201861527948836, 52.253521750267041, 49.408502417221648, 48.460162639539853, 42.770123973449067, 41.821784195767265, 40.873444418085469, 85.445413969129945, 39.925104640403667, 39.925104640403667, 37.080085307358281, 37.080085307358281, 36.131745529676486, 35.183405751994684, 35.183405751994684, 34.235065974312889, 34.235065974312889, 33.286726196631086, 31.390046641267496, 30.441706863585697, 30.441706863585697, 30.441706863585697, 93.032132190584321, 153.72587796221936, 70.271977526221193, 65.530278637812202, 284.59676728230744, 151.82919840685577, 106.3088890781295, 63.633599082448605, 122.43066529872004, 99.670510634356901, 92.083792412902525, 338.65213461016987, 302.61522305826156, 120.53398574335645, 85.445413969129945, 250.45653528576273, 116.74062663262926, 103.46386974508408, 340.54881416553349, 111.99892774422027, 296.92518439217082, 240.02479773126294, 144.2424801854014, 123.37900507640184, 75.962016192311964, 82.600394636084559, 107.25722885581128, 122.43066529872004, 97.773831078993311, 102.51552996740229, 95.87715152362972, 89.238773079857125, 87.342093524493535, 87.342093524493535], \"Total\": [1319.0, 2598.0, 1386.0, 708.0, 706.0, 1430.0, 734.0, 659.0, 707.0, 1586.0, 577.0, 489.0, 706.0, 565.0, 376.0, 326.0, 356.0, 376.0, 531.0, 613.0, 692.0, 412.0, 261.0, 287.0, 1162.0, 463.0, 241.0, 268.0, 529.0, 318.0, 1319.9066940682922, 326.07988649921867, 201.52167118514438, 186.86776350113564, 163.97103274487202, 146.56951737011164, 125.5045250743491, 121.84104815334692, 109.01887892983927, 107.18714046933817, 287.67831992355821, 88.869755864327274, 81.542802022322903, 80.626932792072353, 80.626932792072353, 72.384109719817459, 71.468240489566909, 70.552371259316359, 68.720632798815274, 67.804763568564724, 67.804763568564724, 59.56194049630983, 59.56194049630983, 52.234986654305473, 49.487378963553837, 49.487378963553837, 47.655640503052759, 101.74627146145072, 46.739771272802209, 45.823902042551666, 45.823902042551666, 376.25505167814094, 73.35983117885074, 60.532156100176195, 66.951620038598861, 89.964957546592402, 244.27127490963628, 708.58994683061042, 158.74621175462903, 529.4891118109424, 127.53176978864758, 659.84996175921424, 613.72487994157461, 933.49769657024433, 192.09028319168485, 141.06063752272013, 384.96882885295673, 492.3793455317155, 287.78038696192618, 261.36564782330413, 692.46454896363753, 1586.1102135941107, 596.60155342212795, 523.36577302720377, 440.98639298220735, 421.62651411826079, 1430.1378577073167, 261.34551769827323, 184.15575248808085, 146.02586846858821, 121.84594201720265, 92.086032538574273, 91.156035367367124, 84.646055168917187, 78.136074970467234, 70.696097600810134, 70.696097600810134, 66.976108915981584, 65.116114573567316, 58.606134375117399, 54.886145690288856, 53.026151347874581, 52.09615417666744, 50.236159834253172, 42.796182464596079, 41.866185293388938, 41.866185293388938, 40.936188122181811, 38.146196608560395, 113.51941323855736, 33.496210752524711, 32.566213581317577, 32.566213581317577, 32.566213581317577, 66.976742035322332, 30.706219238903291, 30.706219238903291, 72.644870476349283, 64.266554267678657, 63.290590049524567, 209.55866956683121, 133.32412231325219, 87.558906441416667, 318.73173170555492, 107.17567373979348, 219.5595458085854, 130.60800926208614, 207.14688978848619, 359.20189205190496, 158.13989022922934, 93.538869334351347, 205.31672473454964, 577.648030698507, 421.62651411826079, 148.80590043345958, 2598.8263664464821, 711.91571231114949, 214.59805868010872, 300.16594069058738, 468.65092393738558, 257.88431962785188, 492.3793455317155, 1430.1378577073167, 275.16298285923062, 933.49769657024433, 1386.5781617762007, 309.52800203660377, 707.35321355515441, 298.39896356770407, 239.71789736119783, 162.87598031560651, 147.05526537629251, 124.7201384031433, 113.5525749165687, 101.45438113944621, 93.078708524515278, 80.049884456844921, 68.882320970270328, 64.229169517530934, 62.367908936435178, 62.367908936435178, 61.437278645887304, 57.71475748369577, 56.784127193147889, 55.853496902600007, 54.922866612052125, 51.200345449860599, 51.200345449860599, 46.547193997121184, 44.685933416025421, 42.82467283492965, 88.424923952435108, 41.894042544381769, 40.032781963286006, 40.032781963286006, 39.102151672738117, 38.171521382190235, 36.310260801094472, 35.37963051054659, 35.37963051054659, 79.15245774598705, 58.689143921465345, 69.811685022136714, 56.871639487591274, 88.564126970089916, 182.98910296682953, 412.35267554153938, 236.32897907788262, 93.603149171834843, 76.677412472426937, 124.27324783901406, 2598.8263664464821, 280.19470334903082, 108.90129301176765, 320.59962911452885, 221.20866185295682, 217.79350916395677, 380.99684681474571, 1430.1378577073167, 565.33112668980084, 222.12895897216947, 463.40670039880752, 933.49769657024433, 1386.5781617762007, 1162.2090166839637, 489.80121606402116, 199.12875791607766, 296.55494097046449, 160.5808874624006, 534.78785085269101, 406.07894609438927, 1586.1102135941107, 348.67699051304606, 298.39896356770407, 523.36577302720377, 271.2974012654384, 241.96985973520088, 126.20264281811043, 122.4069963618124, 98.684206009949591, 97.735294395875101, 93.939647939577043, 78.757062114384865, 77.808150500310347, 74.012504044012289, 73.063592429937785, 70.216857587714259, 65.472299517341696, 60.727741446969162, 56.932094990671118, 55.983183376596607, 54.085360148447585, 44.596244007702467, 40.800597551404422, 40.800597551404422, 40.800597551404422, 39.851685937329904, 38.902774323255393, 38.902774323255393, 37.004951095106378, 35.107127866957349, 34.158216252882838, 30.362569796584783, 30.362569796584783, 30.362569796584783, 30.362569796584783, 59.775713563462055, 42.697848943160722, 216.30557827946674, 108.04853674813957, 356.68739301731915, 252.42445160423694, 64.590322538907969, 114.75961059942955, 202.75096027171821, 135.97866507257197, 305.78680369686163, 151.96019234493616, 259.07271415669624, 133.75590541252026, 2598.8263664464821, 270.35301831060281, 388.79170066909921, 277.70449080348322, 577.648030698507, 234.99939863848101, 151.86798549098381, 239.71789736119783, 706.86091351367054, 1586.1102135941107, 379.76285140458339, 1386.5781617762007, 1162.2090166839637, 367.43819667453744, 534.78785085269101, 531.76275121184074, 711.91571231114949, 155.11095093690682, 141.86981611192002, 120.116523185156, 114.44175111730451, 110.65856973873686, 105.92959301552729, 98.36323025839198, 85.122095433405192, 84.17630008876327, 82.284709399479453, 79.447323365553714, 72.826755953060314, 72.826755953060314, 69.043574574492666, 68.097779229850744, 67.151983885208836, 66.206188540566927, 62.423007161999301, 51.073463026296338, 48.236076992370599, 48.236076992370599, 48.236076992370599, 45.398690958444867, 45.398690958444867, 44.452895613802951, 42.561304924519128, 41.615509579877212, 39.723918890593389, 38.778123545951473, 36.88653285666765, 70.905239149385125, 81.308583946649478, 70.920803826092708, 67.121653777020768, 94.894550904228609, 247.78100147693482, 192.8277007115498, 138.13781435709714, 314.98428292555616, 265.70837253023302, 577.69623422105462, 707.35321355515441, 659.84996175921424, 449.40552063078678, 296.55494097046449, 2598.8263664464821, 711.91571231114949, 380.27628408077555, 290.37915603109667, 440.98639298220735, 133.61947098907177, 271.2974012654384, 734.94980129126452, 1162.2090166839637, 596.60155342212795, 345.53609331765938, 247.03197016209592, 212.51733455018316, 561.33365855025488, 131.33195692765025, 78.987354050236789, 65.663273317804268, 61.856393108537851, 58.049512899271427, 55.194352742321598, 54.242632690004996, 53.290912637688386, 52.339192585371769, 50.435752480738557, 48.532312376105338, 41.870272009889085, 37.111671748306044, 37.111671748306044, 35.208231643672825, 35.208231643672825, 34.256511591356222, 34.256511591356222, 32.353071486723003, 32.353071486723003, 32.353071486723003, 31.401351434406386, 31.401351434406386, 30.449631382089777, 30.449631382089777, 29.497911329773167, 29.497911329773167, 29.497911329773167, 27.594471225139952, 26.642751172823342, 47.559502562020008, 45.673771944520702, 57.080437576438513, 42.816067354531, 42.81861178757088, 148.99404167239089, 79.886928749730629, 48.58779903075461, 68.691422890571417, 158.43906835657884, 58.870895664931204, 85.523837109236226, 85.595039602134975, 189.47091095343302, 267.6093836175956, 411.75825051306788, 279.69199211766249, 149.59206630809436, 463.40670039880752, 91.394049643037263, 196.81794680322676, 1586.1102135941107, 706.86091351367054, 1162.2090166839637, 659.84996175921424, 596.60155342212795, 1386.5781617762007, 152.65249517882287, 708.58994683061042, 212.51733455018316, 156.15179679219378, 289.7879155220873, 734.94980129126452, 529.4891118109424, 561.33365855025488, 213.98749075488956, 228.2013479215108, 272.39391896082333, 380.27628408077555, 323.41975670347404, 122.74461448147186, 79.871611219610543, 64.281428215297325, 61.358268901988616, 49.665631648753703, 48.691245210984135, 47.716858773214561, 46.74247233544498, 46.74247233544498, 43.819313022136249, 42.844926584366675, 41.870540146597101, 41.870540146597101, 39.921767271057952, 38.947380833288378, 37.972994395518803, 36.998607957749222, 76.904062639739379, 36.024221519979648, 35.049835082210073, 32.126675768901343, 30.177902893362187, 30.177902893362187, 30.177902893362187, 29.203516455592613, 28.229130017823039, 27.254743580053464, 26.28035714228389, 26.28035714228389, 26.28035714228389, 105.18063359820022, 39.895720610970173, 49.584168576623625, 143.17472472630359, 122.22997480517394, 137.72340171710354, 159.57211571498746, 99.759276415095442, 405.90617773085722, 379.76285140458339, 286.54236906056821, 247.03197016209592, 613.72487994157461, 163.56385523565876, 1386.5781617762007, 406.07894609438927, 296.31272979015421, 193.17860538857857, 175.92935482776579, 449.40552063078678, 170.93852479117422, 269.23465816358299, 446.92360371717808, 91.33455255017634, 90.719419614399172, 706.44452672683883, 1586.1102135941107, 261.36564782330413, 708.58994683061042, 492.3793455317155, 172.01787343495295, 933.49769657024433, 692.46454896363753, 440.98639298220735, 596.60155342212795, 172.39531631138686, 99.458446121134813, 88.091661156420216, 73.883179950526966, 58.727466664240836, 56.833002503455063, 55.885770423062183, 49.255145860311998, 47.360681699526225, 44.518985458347579, 39.78282505638316, 38.835592975990274, 37.888360895597387, 37.888360895597387, 36.941128815204515, 36.941128815204515, 36.941128815204515, 35.993896734811628, 35.993896734811628, 35.046664654418741, 73.887667922450674, 33.152200493632975, 33.152200493632975, 32.204968413240088, 31.257736332847202, 31.257736332847202, 63.447025276360243, 95.635047981191789, 29.363272172061436, 59.658096954788718, 156.2736933799452, 66.309790072036051, 73.889898085253463, 57.765215069240021, 72.08175758092402, 64.42881103429302, 91.749454692913361, 149.30101035058601, 69.162135351697202, 230.72293737173811, 489.80121606402116, 222.71235931853204, 706.44452672683883, 90.779677171945437, 114.40352782856385, 561.33365855025488, 275.16298285923062, 148.97100523308305, 534.78785085269101, 565.33112668980084, 130.82711477348715, 319.44647087267055, 157.06469368174902, 323.41975670347404, 531.76275121184074, 289.7879155220873, 711.91571231114949, 348.67699051304606, 1430.1378577073167, 734.94980129126452, 262.60959473469524, 234.99939863848101, 213.98749075488956, 241.62174124885811, 577.69623422105462, 395.96653239391497, 446.92360371717808, 181.4064120794184, 106.69981058170843, 95.057223335312102, 94.087007731445723, 82.444420485049363, 82.444420485049363, 67.891186427053938, 64.010324011588494, 53.337952369058506, 50.42730555745942, 50.42730555745942, 47.516658745860333, 46.546443141993969, 46.546443141993969, 45.576227538127604, 44.60601193426124, 41.69536512266216, 41.69536512266216, 41.69536512266216, 40.725149518795796, 81.43461956786453, 38.784718311063074, 36.844287103330345, 35.87407149946398, 35.87407149946398, 34.903855895597616, 32.963424687864894, 32.963424687864894, 67.87269087550419, 31.993209083998529, 199.62007304076153, 121.21877832792661, 78.519806417214809, 144.40875027164833, 206.33813655639392, 268.00148077446812, 46.523459618520491, 59.085985214583346, 68.768924273171535, 119.01515127763996, 149.51638464726577, 287.78038696192618, 531.76275121184074, 269.23465816358299, 80.143004944588824, 248.49852733705168, 111.80185548039857, 221.3262702960576, 706.86091351367054, 241.34266613079146, 314.98428292555616, 99.085086629188297, 529.4891118109424, 270.54635481259737, 411.75825051306788, 577.69623422105462, 219.85602102246224, 272.39391896082333, 1430.1378577073167, 128.02383996963579, 120.4371217481814, 81.555190863227693, 64.485074864955351, 62.588395309591746, 60.691715754228163, 59.743375976546361, 55.950016865819173, 55.00167708813737, 54.053337310455575, 53.10499753277378, 50.259978199728387, 49.311638422046592, 43.621599755955806, 42.673259978274004, 41.724920200592209, 87.242685096278606, 40.776580422910406, 40.776580422910406, 37.931561089865021, 37.931561089865021, 36.983221312183225, 36.034881534501423, 36.034881534501423, 35.086541756819628, 35.086541756819628, 34.138201979137826, 32.241522423774235, 31.29318264609244, 31.29318264609244, 31.29318264609244, 98.533593829126744, 168.78588097411119, 74.923878858874929, 70.279300171397253, 376.81525531036914, 191.86942960451347, 127.62473446257846, 70.995055063405303, 157.34418203722629, 123.90726092333345, 116.66367542375625, 734.94980129126452, 692.46454896363753, 194.43337448607394, 123.754526431382, 707.35321355515441, 217.1421300135998, 178.36454396417537, 1430.1378577073167, 228.2013479215108, 1586.1102135941107, 1162.2090166839637, 565.33112668980084, 468.65092393738558, 119.51451460817174, 158.96089321765618, 421.62651411826079, 706.44452672683883, 312.54605997259517, 380.27628408077555, 706.86091351367054, 380.99684681474571, 293.22365656672929, 523.36577302720377], \"logprob\": [30.0, 29.0, 28.0, 27.0, 26.0, 25.0, 24.0, 23.0, 22.0, 21.0, 20.0, 19.0, 18.0, 17.0, 16.0, 15.0, 14.0, 13.0, 12.0, 11.0, 10.0, 9.0, 8.0, 7.0, 6.0, 5.0, 4.0, 3.0, 2.0, 1.0, -2.8597999999999999, -4.2584999999999997, -4.7413999999999996, -4.8171999999999997, -4.9485999999999999, -5.0613999999999999, -5.2175000000000002, -5.2473999999999998, -5.3593999999999999, -5.3765000000000001, -4.3907999999999996, -5.5655000000000001, -5.6524000000000001, -5.6638999999999999, -5.6638999999999999, -5.7728999999999999, -5.7858000000000001, -5.7988999999999997, -5.8254999999999999, -5.8391000000000002, -5.8391000000000002, -5.9705000000000004, -5.9705000000000004, -6.1037999999999997, -6.1586999999999996, -6.1586999999999996, -6.1970999999999998, -5.4386999999999999, -6.2168999999999999, -6.2370999999999999, -6.2370999999999999, -4.1773999999999996, -5.7858000000000001, -5.9705000000000004, -5.8810000000000002, -5.6299999999999999, -4.7739000000000003, -4.0259, -5.2175000000000002, -4.3811999999999998, -5.4664999999999999, -4.4234999999999998, -4.5815000000000001, -4.4470000000000001, -5.3098000000000001, -5.4664999999999999, -5.0488999999999997, -5.0183, -5.2549999999999999, -5.2938000000000001, -5.0004, -4.8074000000000003, -5.0869, -5.1814999999999998, -5.2702999999999998, -5.3098000000000001, -5.3018000000000001, -4.3223000000000003, -4.6737000000000002, -4.9069000000000003, -5.0891000000000002, -5.3714000000000004, -5.3817000000000004, -5.4565000000000001, -5.5373999999999999, -5.6386000000000003, -5.6386000000000003, -5.6932999999999998, -5.7218999999999998, -5.8287000000000004, -5.8952999999999998, -5.9302999999999999, -5.9482999999999997, -5.9852999999999996, -6.1485000000000003, -6.1710000000000003, -6.1710000000000003, -6.1939000000000002, -6.2660999999999998, -5.1775000000000002, -6.3992000000000004, -6.4280999999999997, -6.4280999999999997, -6.4280999999999997, -5.7074999999999996, -6.4885999999999999, -6.4885999999999999, -5.6386000000000003, -5.7663000000000002, -5.7815000000000003, -4.6242000000000001, -5.0663, -5.5019, -4.3010999999999999, -5.3413000000000004, -4.7473999999999998, -5.2030000000000003, -4.8448000000000002, -4.4001999999999999, -5.0815000000000001, -5.5019, -4.9461000000000004, -4.3661000000000003, -4.5910000000000002, -5.2836999999999996, -3.7446000000000002, -4.4516999999999998, -5.0891000000000002, -4.9527999999999999, -4.7529000000000003, -5.0366999999999997, -4.7473999999999998, -4.2838000000000003, -5.0294999999999996, -4.6003999999999996, -4.4763999999999999, -5.0221999999999998, -4.7864000000000004, -5.0514000000000001, -5.1775000000000002, -4.7843, -4.8871000000000002, -5.0528000000000004, -5.1473000000000004, -5.2609000000000004, -5.3478000000000003, -5.5000999999999998, -5.6520999999999999, -5.7229999999999999, -5.7527999999999997, -5.7527999999999997, -5.7679999999999998, -5.8314000000000004, -5.8479000000000001, -5.8647, -5.8818000000000001, -5.9531000000000001, -5.9531000000000001, -6.0500999999999996, -6.0917000000000003, -6.1351000000000004, -5.4103000000000003, -6.1574999999999998, -6.2039, -6.2039, -6.2279, -6.2526000000000002, -6.3037000000000001, -6.3303000000000003, -6.3303000000000003, -5.5359999999999996, -5.8314000000000004, -5.6658999999999997, -5.8818000000000001, -5.4884000000000004, -4.8495999999999997, -4.1753, -4.6756000000000002, -5.4884000000000004, -5.6520999999999999, -5.2796000000000003, -2.9940000000000002, -4.7069999999999999, -5.3996000000000004, -4.7016999999999998, -4.9527999999999999, -4.9874000000000001, -4.6859000000000002, -3.9178000000000002, -4.4755000000000003, -5.0305, -4.6601999999999997, -4.3268000000000004, -4.1722000000000001, -4.3341000000000003, -4.7560000000000002, -5.1723999999999997, -5.0679999999999996, -5.2889999999999997, -4.9945000000000004, -5.0755999999999997, -4.8495999999999997, -5.1391, -5.2069000000000001, -5.1894999999999998, -5.2609000000000004, -4.3265000000000002, -4.9805999999999999, -5.0114000000000001, -5.2285000000000004, -5.2382, -5.2782, -5.4562999999999997, -5.4684999999999997, -5.5190999999999999, -5.5321999999999996, -5.5724, -5.6432000000000002, -5.7195, -5.7850000000000001, -5.8019999999999996, -5.8371000000000004, -6.0334000000000003, -6.1242000000000001, -6.1242000000000001, -6.1242000000000001, -6.1482000000000001, -6.1727999999999996, -6.1727999999999996, -6.2240000000000002, -6.2778999999999998, -6.306, -6.4269999999999996, -6.4269999999999996, -6.4269999999999996, -6.4269999999999996, -5.7516999999999996, -6.1006999999999998, -4.5603999999999996, -5.2285000000000004, -4.1113, -4.4931000000000001, -5.7355, -5.2382, -4.7946999999999997, -5.1810999999999998, -4.5505000000000004, -5.1097000000000001, -4.7336999999999998, -5.2481, -3.1105999999999998, -4.7515999999999998, -4.5407000000000002, -4.7637, -4.3503999999999996, -4.9146999999999998, -5.1997999999999998, -4.9730999999999996, -4.4344000000000001, -4.0739000000000001, -4.7759999999999998, -4.3265000000000002, -4.6486999999999998, -4.9958999999999998, -4.9290000000000003, -5.1184000000000003, -5.2187999999999999, -4.7709999999999999, -4.8608000000000002, -5.0282999999999998, -5.0770999999999997, -5.1109, -5.1550000000000002, -5.2297000000000002, -5.3756000000000004, -5.3868999999999998, -5.4099000000000004, -5.4454000000000002, -5.5332999999999997, -5.5332999999999997, -5.5872999999999999, -5.6013000000000002, -5.6154999999999999, -5.6298000000000004, -5.6894999999999998, -5.8932000000000002, -5.9513999999999996, -5.9513999999999996, -5.9513999999999996, -6.0130999999999997, -6.0130999999999997, -6.0346000000000002, -6.0789, -6.1018999999999997, -6.1494, -6.1740000000000004, -6.2252000000000001, -5.5735999999999999, -5.4454000000000002, -5.5872999999999999, -5.6444000000000001, -5.3868999999999998, -4.5616000000000003, -4.952, -5.2199999999999998, -4.6498999999999997, -4.8148999999999997, -4.3120000000000003, -4.4311999999999996, -4.4989999999999997, -4.7172999999999998, -4.9374000000000002, -3.9542999999999999, -4.6608000000000001, -4.9374000000000002, -5.0523999999999996, -4.9158999999999997, -5.3756000000000004, -5.2199999999999998, -5.0523999999999996, -5.0048000000000004, -5.1283000000000003, -5.2104999999999997, -5.3105000000000002, -5.3316999999999997, -5.3105000000000002, -4.9111000000000002, -5.4238999999999997, -5.6108000000000002, -5.6714000000000002, -5.7358000000000002, -5.7869999999999999, -5.8047000000000004, -5.8227000000000002, -5.8410000000000002, -5.8785999999999996, -5.9177999999999997, -6.0682999999999998, -6.1916000000000002, -6.1916000000000002, -6.2454999999999998, -6.2454999999999998, -6.2736000000000001, -6.2736000000000001, -6.3323, -6.3323, -6.3323, -6.3628999999999998, -6.3628999999999998, -6.3945999999999996, -6.3945999999999996, -6.4272999999999998, -6.4272999999999998, -6.4272999999999998, -6.4960000000000004, -6.5323000000000002, -5.9584999999999999, -6.0010000000000003, -5.7869999999999999, -6.0682999999999998, -6.0682999999999998, -4.9184000000000001, -5.54, -5.9794999999999998, -5.6871, -4.9790000000000001, -5.8227000000000002, -5.5129999999999999, -5.5129999999999999, -4.8822999999999999, -4.6272000000000002, -4.3383000000000003, -4.6722000000000001, -5.1768999999999998, -4.4513999999999996, -5.6108000000000002, -5.1580000000000004, -4.0293999999999999, -4.4938000000000002, -4.2293000000000003, -4.5842999999999998, -4.6896000000000004, -4.2862, -5.3879999999999999, -4.7497999999999996, -5.2561, -5.3879999999999999, -5.1961000000000004, -4.9406999999999996, -5.0602999999999998, -5.0602999999999998, -5.4118000000000004, -5.4238999999999997, -5.4360999999999997, -5.4485000000000001, -5.4997999999999996, -4.9690000000000003, -5.4024000000000001, -5.6222000000000003, -5.6694000000000004, -5.8841000000000001, -5.9042000000000003, -5.9248000000000003, -5.9458000000000002, -5.9458000000000002, -6.0115999999999996, -6.0346000000000002, -6.0580999999999996, -6.0580999999999996, -6.1067, -6.1319999999999997, -6.1578999999999997, -6.1844999999999999, -5.4530000000000003, -6.2118000000000002, -6.2398999999999996, -6.3292000000000002, -6.3936000000000002, -6.3936000000000002, -6.3936000000000002, -6.4273999999999996, -6.4622999999999999, -6.4985999999999997, -6.5362, -6.5362, -6.5362, -5.1820000000000004, -6.1319999999999997, -5.9458000000000002, -4.9770000000000003, -5.1242999999999999, -5.0350999999999999, -4.9770000000000003, -5.3902000000000001, -4.3860000000000001, -4.5194999999999999, -4.7670000000000003, -4.8773999999999997, -4.2525000000000004, -5.202, -3.8342999999999998, -4.6384999999999996, -4.8415999999999997, -5.1432000000000002, -5.202, -4.6616999999999997, -5.2327000000000004, -4.9932999999999996, -4.7161, -5.6069000000000004, -5.6222000000000003, -4.6914999999999996, -4.3639000000000001, -5.1919000000000004, -4.8276000000000003, -4.9770000000000003, -5.3661000000000003, -5.1623999999999999, -5.2644000000000002, -5.3196000000000003, -5.3083, -4.5974000000000004, -5.1510999999999996, -5.2736000000000001, -5.4512999999999998, -5.6839000000000004, -5.7172000000000001, -5.7343000000000002, -5.8625999999999996, -5.9025999999999996, -5.9656000000000002, -6.0804, -6.1051000000000002, -6.1303000000000001, -6.1303000000000001, -6.1562000000000001, -6.1562000000000001, -6.1562000000000001, -6.1828000000000003, -6.1828000000000003, -6.2100999999999997, -5.4644000000000004, -6.2671000000000001, -6.2671000000000001, -6.2968999999999999, -6.3276000000000003, -6.3276000000000003, -5.6204999999999998, -5.2103999999999999, -6.3918999999999997, -5.6839000000000004, -4.7785000000000002, -5.6052999999999997, -5.5045999999999999, -5.7515999999999998, -5.5465, -5.6516999999999999, -5.3293999999999997, -4.9280999999999997, -5.6516999999999999, -4.7020999999999997, -4.1124999999999998, -4.7394999999999996, -3.8481000000000001, -5.4644000000000004, -5.3409000000000004, -4.2508999999999997, -4.7785000000000002, -5.2003000000000004, -4.4680999999999997, -4.4729000000000001, -5.2954999999999997, -4.8052999999999999, -5.2954999999999997, -4.9997999999999996, -4.819, -5.0682, -4.819, -5.0682, -4.6196999999999999, -4.8329000000000004, -5.1607000000000003, -5.2206999999999999, -5.2628000000000004, -5.2628000000000004, -5.2103999999999999, -5.2628000000000004, -5.2628000000000004, -4.4958999999999998, -5.0298999999999996, -5.1463999999999999, -5.1567999999999996, -5.2901999999999996, -5.2901999999999996, -5.4866000000000001, -5.5462999999999996, -5.7313000000000001, -5.7884000000000002, -5.7884000000000002, -5.8489000000000004, -5.8699000000000003, -5.8699000000000003, -5.8914, -5.9132999999999996, -5.9821, -5.9821, -5.9821, -6.0061999999999998, -5.3141999999999996, -6.0560999999999998, -6.1086, -6.1359000000000004, -6.1359000000000004, -6.1639999999999997, -6.2225999999999999, -6.2225999999999999, -5.5011999999999999, -6.2533000000000003, -4.4283999999999999, -4.9339000000000004, -5.3642000000000003, -4.7727000000000004, -4.4694000000000003, -4.2328000000000001, -5.8914, -5.6773999999999996, -5.5462999999999996, -5.1361999999999997, -4.9763999999999999, -4.5799000000000003, -4.165, -4.6845999999999997, -5.516, -4.7942, -5.3141999999999996, -4.9505999999999997, -4.4486999999999997, -5.0027999999999997, -4.9339000000000004, -5.4722999999999997, -5.0391000000000004, -5.2550999999999997, -5.1885000000000003, -5.1567999999999996, -5.3514999999999997, -5.3771000000000004, -5.3021000000000003, -4.8437999999999999, -4.9053000000000004, -5.2984999999999998, -5.5362, -5.5663999999999998, -5.5975999999999999, -5.6135999999999999, -5.6802000000000001, -5.6974999999999998, -5.7152000000000003, -5.7332000000000001, -5.7892000000000001, -5.8086000000000002, -5.9335000000000004, -5.9558999999999997, -5.9787999999999997, -5.2413999999999996, -6.0023, -6.0023, -6.0762, -6.0762, -6.1021000000000001, -6.1287000000000003, -6.1287000000000003, -6.1561000000000003, -6.1561000000000003, -6.1840999999999999, -6.2427999999999999, -6.2735000000000003, -6.2735000000000003, -6.2735000000000003, -5.1563999999999997, -4.6540999999999997, -5.4368999999999996, -5.5068000000000001, -4.0381999999999998, -4.6665999999999999, -5.0229999999999997, -5.5362, -4.8818000000000001, -5.0873999999999997, -5.1665999999999999, -3.8643000000000001, -3.9767999999999999, -4.8974000000000002, -5.2413999999999996, -4.1660000000000004, -4.9294000000000002, -5.0500999999999996, -3.8586999999999998, -4.9707999999999997, -3.9958, -4.2085999999999997, -4.7178000000000004, -4.8739999999999997, -5.3590999999999998, -5.2752999999999997, -5.0141, -4.8818000000000001, -5.1067, -5.0593000000000004, -5.1261999999999999, -5.1980000000000004, -5.2195, -5.2195]}};\n",
       "\n",
       "function LDAvis_load_lib(url, callback){\n",
       "  var s = document.createElement('script');\n",
       "  s.src = url;\n",
       "  s.async = true;\n",
       "  s.onreadystatechange = s.onload = callback;\n",
       "  s.onerror = function(){console.warn(\"failed to load library \" + url);};\n",
       "  document.getElementsByTagName(\"head\")[0].appendChild(s);\n",
       "}\n",
       "\n",
       "if(typeof(LDAvis) !== \"undefined\"){\n",
       "   // already loaded: just create the visualization\n",
       "   !function(LDAvis){\n",
       "       new LDAvis(\"#\" + \"ldavis_el81348341787689166339116\", ldavis_el81348341787689166339116_data);\n",
       "   }(LDAvis);\n",
       "}else if(typeof define === \"function\" && define.amd){\n",
       "   // require.js is available: use it to load d3/LDAvis\n",
       "   require.config({paths: {d3: \"https://cdnjs.cloudflare.com/ajax/libs/d3/3.5.5/d3.min\"}});\n",
       "   require([\"d3\"], function(d3){\n",
       "      window.d3 = d3;\n",
       "      LDAvis_load_lib(\"https://cdn.rawgit.com/bmabey/pyLDAvis/files/ldavis.v1.0.0.js\", function(){\n",
       "        new LDAvis(\"#\" + \"ldavis_el81348341787689166339116\", ldavis_el81348341787689166339116_data);\n",
       "      });\n",
       "    });\n",
       "}else{\n",
       "    // require.js not available: dynamically load d3 & LDAvis\n",
       "    LDAvis_load_lib(\"https://cdnjs.cloudflare.com/ajax/libs/d3/3.5.5/d3.min.js\", function(){\n",
       "         LDAvis_load_lib(\"https://cdn.rawgit.com/bmabey/pyLDAvis/files/ldavis.v1.0.0.js\", function(){\n",
       "                 new LDAvis(\"#\" + \"ldavis_el81348341787689166339116\", ldavis_el81348341787689166339116_data);\n",
       "            })\n",
       "         });\n",
       "}\n",
       "</script>"
      ],
      "text/plain": [
       "PreparedData(topic_coordinates=            Freq  cluster  topics         x         y\n",
       "topic                                                \n",
       "7      12.560802        1       1  0.258734  0.160888\n",
       "3      10.723078        1       2 -0.115155  0.012978\n",
       "8      10.586516        1       3 -0.167518 -0.000982\n",
       "1       9.967224        1       4 -0.184994 -0.033938\n",
       "6       9.946373        1       5 -0.060126  0.067525\n",
       "5       9.678046        1       6  0.100533  0.098228\n",
       "2       9.580146        1       7  0.020607  0.060450\n",
       "0       9.297642        1       8 -0.055312 -0.159338\n",
       "4       8.841702        1       9  0.211464 -0.291965\n",
       "9       8.818471        1      10 -0.008233  0.086153, topic_info=      Category         Freq         Term        Total  loglift  logprob\n",
       "term                                                                   \n",
       "5405   Default  1319.000000        cells  1319.000000  30.0000  30.0000\n",
       "10370  Default  2598.000000     patients  2598.000000  29.0000  29.0000\n",
       "5928   Default  1386.000000        study  1386.000000  28.0000  28.0000\n",
       "9822   Default   708.000000     activity   708.000000  27.0000  27.0000\n",
       "5279   Default   706.000000         dose   706.000000  26.0000  26.0000\n",
       "3948   Default  1430.000000    treatment  1430.000000  25.0000  25.0000\n",
       "10082  Default   734.000000   associated   734.000000  24.0000  24.0000\n",
       "6543   Default   659.000000       cancer   659.000000  23.0000  23.0000\n",
       "5663   Default   707.000000      therapy   707.000000  22.0000  22.0000\n",
       "198    Default  1586.000000      effects  1586.000000  21.0000  21.0000\n",
       "6304   Default   577.000000        group   577.000000  20.0000  20.0000\n",
       "9261   Default   489.000000         case   489.000000  19.0000  19.0000\n",
       "6269   Default   706.000000          may   706.000000  18.0000  18.0000\n",
       "55     Default   565.000000     reported   565.000000  17.0000  17.0000\n",
       "6658   Default   376.000000   inhibition   376.000000  16.0000  16.0000\n",
       "1271   Default   326.000000        tumor   326.000000  15.0000  15.0000\n",
       "6433   Default   356.000000         pain   356.000000  14.0000  14.0000\n",
       "10619  Default   376.000000       agents   376.000000  13.0000  13.0000\n",
       "5013   Default   531.000000        cause   531.000000  12.0000  12.0000\n",
       "9686   Default   613.000000      induced   613.000000  11.0000  11.0000\n",
       "2454   Default   692.000000         drug   692.000000  10.0000  10.0000\n",
       "7660   Default   412.000000          day   412.000000   9.0000   9.0000\n",
       "2545   Default   261.000000     diabetes   261.000000   8.0000   8.0000\n",
       "1100   Default   287.000000   expression   287.000000   7.0000   7.0000\n",
       "2974   Default  1162.000000         used  1162.000000   6.0000   6.0000\n",
       "8156   Default   463.000000         risk   463.000000   5.0000   5.0000\n",
       "7314   Default   241.000000     fentanyl   241.000000   4.0000   4.0000\n",
       "3994   Default   268.000000    hepatitis   268.000000   3.0000   3.0000\n",
       "5991   Default   529.000000        human   529.000000   2.0000   2.0000\n",
       "6936   Default   318.000000        blood   318.000000   1.0000   1.0000\n",
       "...        ...          ...          ...          ...      ...      ...\n",
       "10619  Topic10   284.596767       agents   376.815255   2.1476  -4.0382\n",
       "9597   Topic10   151.829198        known   191.869430   2.1943  -4.6666\n",
       "7002   Topic10   106.308889  dysfunction   127.624734   2.2456  -5.0230\n",
       "240    Topic10    63.633599           ra    70.995055   2.3189  -5.5362\n",
       "5517   Topic10   122.430665          new   157.344182   2.1774  -4.8818\n",
       "387    Topic10    99.670511   peripheral   123.907261   2.2107  -5.0874\n",
       "4826   Topic10    92.083792       nausea   116.663675   2.1917  -5.1666\n",
       "10082  Topic10   338.652135   associated   734.949801   1.6535  -3.8643\n",
       "2454   Topic10   302.615223         drug   692.464549   1.6005  -3.9768\n",
       "5039   Topic10   120.533986   management   194.433374   1.9502  -4.8974\n",
       "5682   Topic10    85.445414         side   123.754526   2.0579  -5.2414\n",
       "5663   Topic10   250.456535      therapy   707.353214   1.3901  -4.1660\n",
       "6109   Topic10   116.740627    generally   217.142130   1.8077  -4.9294\n",
       "108    Topic10   103.463870   reversible   178.364544   1.8837  -5.0501\n",
       "3948   Topic10   340.548814    treatment  1430.137858   0.9934  -3.8587\n",
       "8039   Topic10   111.998928     although   228.201348   1.7166  -4.9708\n",
       "198    Topic10   296.925184      effects  1586.110214   0.7528  -3.9958\n",
       "2974   Topic10   240.024798         used  1162.209017   0.8510  -4.2086\n",
       "55     Topic10   144.242480     reported   565.331127   1.0624  -4.7178\n",
       "5657   Topic10   123.379005  combination   468.650924   1.0937  -4.8740\n",
       "6247   Topic10    75.962016       dosage   119.514515   1.9751  -5.3591\n",
       "5260   Topic10    82.600395   frequently   158.960893   1.7737  -5.2753\n",
       "4905   Topic10   107.257229    inhibitor   421.626514   1.0594  -5.0141\n",
       "5279   Topic10   122.430665         dose   706.444527   0.6756  -4.8818\n",
       "9033   Topic10    97.773831      factors   312.546060   1.2662  -5.1067\n",
       "8551   Topic10   102.515530      however   380.276284   1.1174  -5.0593\n",
       "6269   Topic10    95.877152          may   706.860914   0.4306  -5.1262\n",
       "3919   Topic10    89.238773       severe   380.996847   0.9768  -5.1980\n",
       "5270   Topic10    87.342094         well   293.223657   1.2172  -5.2195\n",
       "1682   Topic10    87.342094         also   523.365773   0.6379  -5.2195\n",
       "\n",
       "[662 rows x 6 columns], token_table=       Topic      Freq            Term\n",
       "term                                  \n",
       "2928       1  0.976357      12(s)-hete\n",
       "572        9  0.989127            5-ht\n",
       "5078      10  0.969033            able\n",
       "6336       3  0.830651        abnormal\n",
       "6336       4  0.120226        abnormal\n",
       "6336       8  0.049183        abnormal\n",
       "10241      2  0.013003           abuse\n",
       "10241      7  0.975241           abuse\n",
       "648        4  0.988016   acetaminophen\n",
       "10145      1  0.416985            acid\n",
       "10145      9  0.576829            acid\n",
       "10145     10  0.003475            acid\n",
       "6515       2  0.982613          across\n",
       "9822       1  0.578614        activity\n",
       "9822       4  0.005645        activity\n",
       "9822       6  0.215922        activity\n",
       "9822       7  0.197575        activity\n",
       "9352       3  0.101244           acute\n",
       "9352       4  0.226112           acute\n",
       "9352       6  0.124868           acute\n",
       "9352       7  0.465724           acute\n",
       "9352       8  0.077621           acute\n",
       "1322       1  0.017519              ad\n",
       "1322       6  0.946033              ad\n",
       "1322       9  0.017519              ad\n",
       "5703       1  0.967832        adhesion\n",
       "5703       5  0.027263        adhesion\n",
       "2029       5  0.993224        adjuvant\n",
       "7947       3  0.089811  administration\n",
       "7947       4  0.334750  administration\n",
       "...      ...       ...             ...\n",
       "5650       2  0.248322           weeks\n",
       "5650       3  0.384899           weeks\n",
       "5650       8  0.364206           weeks\n",
       "5270       3  0.344447            well\n",
       "5270       4  0.136415            well\n",
       "5270       6  0.088670            well\n",
       "5270       7  0.129594            well\n",
       "5270       9  0.003410            well\n",
       "5270      10  0.296702            well\n",
       "10697      5  0.033925         whether\n",
       "10697      6  0.038771         whether\n",
       "10697      7  0.029078         whether\n",
       "10697      9  0.896587         whether\n",
       "4508       6  0.062084      withdrawal\n",
       "4508       8  0.931260      withdrawal\n",
       "2855       6  0.013534           woman\n",
       "2855       8  0.974452           woman\n",
       "6209       2  0.877065           women\n",
       "6209       5  0.093305           women\n",
       "6209       8  0.027991           women\n",
       "8230       7  0.980065           would\n",
       "6244       3  0.087194         yearold\n",
       "6244       4  0.010899         yearold\n",
       "6244       8  0.904638         yearold\n",
       "865        2  0.186589           years\n",
       "865        4  0.068543           years\n",
       "865        5  0.178973           years\n",
       "865        6  0.190397           years\n",
       "865        8  0.373178           years\n",
       "3233       7  0.993934        zaleplon\n",
       "\n",
       "[1177 rows x 3 columns], R=30, lambda_step=0.01, plot_opts={'xlab': 'PC1', 'ylab': 'PC2'}, topic_order=[8, 4, 9, 2, 7, 6, 3, 1, 5, 10])"
      ]
     },
     "execution_count": 37,
     "metadata": {},
     "output_type": "execute_result"
    }
   ],
   "source": [
    "pyLDAvis.graphlab.prepare(topic_model, docs)"
   ]
  },
  {
   "cell_type": "markdown",
   "metadata": {},
   "source": [
    "![title](images/graphLab_image.png)"
   ]
  },
  {
   "cell_type": "markdown",
   "metadata": {},
   "source": [
    "** Top 3 Topics:**\n",
    "- Cell cancer\n",
    "- Diabetes effects\n",
    "- High blood pressure"
   ]
  },
  {
   "cell_type": "markdown",
   "metadata": {},
   "source": [
    "Even though GraphLab produces a very nice looking graph, my favorite Topic Modeler is LDA, because they make more sense."
   ]
  },
  {
   "cell_type": "code",
   "execution_count": null,
   "metadata": {
    "collapsed": true
   },
   "outputs": [],
   "source": []
  }
 ],
 "metadata": {
  "kernelspec": {
   "display_name": "Python 2",
   "language": "python",
   "name": "python2"
  },
  "language_info": {
   "codemirror_mode": {
    "name": "ipython",
    "version": 2
   },
   "file_extension": ".py",
   "mimetype": "text/x-python",
   "name": "python",
   "nbconvert_exporter": "python",
   "pygments_lexer": "ipython2",
   "version": "2.7.11"
  }
 },
 "nbformat": 4,
 "nbformat_minor": 0
}

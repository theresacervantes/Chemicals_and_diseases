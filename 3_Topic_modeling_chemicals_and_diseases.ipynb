{
 "cells": [
  {
   "cell_type": "markdown",
   "metadata": {},
   "source": [
    "# Topic Modeling \n",
    "\n",
    "### Preprocessing"
   ]
  },
  {
   "cell_type": "code",
   "execution_count": 27,
   "metadata": {
    "collapsed": false
   },
   "outputs": [],
   "source": [
    "from sklearn.decomposition import NMF\n",
    "import pandas as pd, numpy as np, lda, warnings\n",
    "import pyLDAvis\n",
    "import pyLDAvis.graphlab\n",
    "from collections import Counter, defaultdict\n",
    "from itertools import islice\n",
    "from nltk.stem.porter import PorterStemmer\n",
    "from sklearn.feature_extraction.text import CountVectorizer, TfidfVectorizer\n",
    "from IPython.core.display import HTML\n",
    "HTML(\"<style>.container { width:95% !important; }</style>\")\n",
    "warnings.filterwarnings('ignore')"
   ]
  },
  {
   "cell_type": "code",
   "execution_count": 28,
   "metadata": {
    "collapsed": false
   },
   "outputs": [],
   "source": [
    "pyLDAvis.enable_notebook()"
   ]
  },
  {
   "cell_type": "code",
   "execution_count": 3,
   "metadata": {
    "collapsed": false,
    "scrolled": true
   },
   "outputs": [
    {
     "data": {
      "text/html": [
       "<div>\n",
       "<table border=\"1\" class=\"dataframe\">\n",
       "  <thead>\n",
       "    <tr style=\"text-align: right;\">\n",
       "      <th></th>\n",
       "      <th>verify_relationship</th>\n",
       "      <th>chemical_name</th>\n",
       "      <th>disease_name</th>\n",
       "      <th>all_info</th>\n",
       "    </tr>\n",
       "  </thead>\n",
       "  <tbody>\n",
       "    <tr>\n",
       "      <th>0</th>\n",
       "      <td>yes_direct</td>\n",
       "      <td>5-HT</td>\n",
       "      <td>psychotic disorders</td>\n",
       "      <td>animal models considered reflect positive symp...</td>\n",
       "    </tr>\n",
       "    <tr>\n",
       "      <th>1</th>\n",
       "      <td>no_relation</td>\n",
       "      <td>D-penicillamine</td>\n",
       "      <td>localized scleroderma</td>\n",
       "      <td>case reports patients severe extensive localiz...</td>\n",
       "    </tr>\n",
       "    <tr>\n",
       "      <th>2</th>\n",
       "      <td>no_relation</td>\n",
       "      <td>yohimbine</td>\n",
       "      <td>affective disorders</td>\n",
       "      <td>method six patients either obsessive compulsiv...</td>\n",
       "    </tr>\n",
       "    <tr>\n",
       "      <th>3</th>\n",
       "      <td>no_relation</td>\n",
       "      <td>calcium</td>\n",
       "      <td>muscle spasms</td>\n",
       "      <td>severe hypokalemia may cause muscle weakness s...</td>\n",
       "    </tr>\n",
       "    <tr>\n",
       "      <th>4</th>\n",
       "      <td>no_relation</td>\n",
       "      <td>dexrazoxane</td>\n",
       "      <td>hematologic toxicity</td>\n",
       "      <td>clinical trials patients brain metastases comb...</td>\n",
       "    </tr>\n",
       "  </tbody>\n",
       "</table>\n",
       "</div>"
      ],
      "text/plain": [
       "  verify_relationship    chemical_name           disease_name  \\\n",
       "0          yes_direct             5-HT    psychotic disorders   \n",
       "1         no_relation  D-penicillamine  localized scleroderma   \n",
       "2         no_relation        yohimbine    affective disorders   \n",
       "3         no_relation          calcium          muscle spasms   \n",
       "4         no_relation      dexrazoxane   hematologic toxicity   \n",
       "\n",
       "                                            all_info  \n",
       "0  animal models considered reflect positive symp...  \n",
       "1  case reports patients severe extensive localiz...  \n",
       "2  method six patients either obsessive compulsiv...  \n",
       "3  severe hypokalemia may cause muscle weakness s...  \n",
       "4  clinical trials patients brain metastases comb...  "
      ]
     },
     "execution_count": 3,
     "metadata": {},
     "output_type": "execute_result"
    }
   ],
   "source": [
    "df_labeled = pd.read_csv('data/df_all.csv', na_values=['?'])\n",
    "df_labeled.dropna(inplace = True)\n",
    "df_labeled.head()"
   ]
  },
  {
   "cell_type": "code",
   "execution_count": 4,
   "metadata": {
    "collapsed": false
   },
   "outputs": [],
   "source": [
    "#Extend all the words in all_info into a list. \n",
    "all_words = []\n",
    "for doc in df_labeled.all_info:\n",
    "    all_words.extend(doc.split())"
   ]
  },
  {
   "cell_type": "code",
   "execution_count": 5,
   "metadata": {
    "collapsed": false
   },
   "outputs": [],
   "source": [
    "#Create a vocabulary\n",
    "vocab = set(all_words)"
   ]
  },
  {
   "cell_type": "code",
   "execution_count": 6,
   "metadata": {
    "collapsed": false
   },
   "outputs": [
    {
     "data": {
      "text/plain": [
       "18971"
      ]
     },
     "execution_count": 6,
     "metadata": {},
     "output_type": "execute_result"
    }
   ],
   "source": [
    "len(vocab)"
   ]
  },
  {
   "cell_type": "code",
   "execution_count": 7,
   "metadata": {
    "collapsed": false
   },
   "outputs": [
    {
     "data": {
      "text/plain": [
       "[(u'andresist', [('andresistant', 1)]),\n",
       " (u'highdens', [('highdensity', 47)]),\n",
       " (u'dosageconvers', [('dosageconversion', 2)]),\n",
       " (u'telmisartan', [('telmisartan', 29)]),\n",
       " (u'polypeptid', [('polypeptide', 2)]),\n",
       " (u'four', [('four', 309)]),\n",
       " (u'marfan', [('marfan', 16)]),\n",
       " (u'oxygensens', [('oxygensensing', 8)]),\n",
       " (u'nanoccurr', [('nanoccurrence', 1)]),\n",
       " (u'assaysnannk', [('assaysnannk', 5)]),\n",
       " (u'putamen', [('putamen', 1)]),\n",
       " (u'hyperoxid', [('hyperoxidized', 2), ('hyperoxidation', 15)]),\n",
       " (u'cellsnangastr', [('cellsnangastric', 1)]),\n",
       " (u'hyperoxia', [('hyperoxia', 1)]),\n",
       " (u'nanposterior', [('nanposterior', 1)]),\n",
       " (u'infectionnanadenoviru', [('infectionnanadenovirus', 1)]),\n",
       " (u'deathnaningest', [('deathnaningestion', 5)]),\n",
       " (u'microgramsl', [('microgramsl', 4)]),\n",
       " (u'dithian', [('dithianes', 7), ('dithiane', 5)]),\n",
       " (u'digit', [('digit', 4), ('digitalization', 2)])]"
      ]
     },
     "execution_count": 7,
     "metadata": {},
     "output_type": "execute_result"
    }
   ],
   "source": [
    "#Create a dictionary of stemmed words and count of the true words.\n",
    "stem = PorterStemmer()\n",
    "vocab_dict = defaultdict(list)\n",
    "for word in vocab: \n",
    "    vocab_dict[stem.stem(word)].append((word,all_words.count(word)))\n",
    "#view first 20 items. \n",
    "list(islice(vocab_dict.items(), 20))"
   ]
  },
  {
   "cell_type": "code",
   "execution_count": 8,
   "metadata": {
    "collapsed": false
   },
   "outputs": [
    {
     "data": {
      "text/plain": [
       "[(u'andresist', 'andresistant'),\n",
       " (u'highdens', 'highdensity'),\n",
       " (u'dosageconvers', 'dosageconversion'),\n",
       " (u'telmisartan', 'telmisartan'),\n",
       " (u'polypeptid', 'polypeptide'),\n",
       " (u'four', 'four'),\n",
       " (u'marfan', 'marfan'),\n",
       " (u'crisisdescrib', 'crisisdescribe'),\n",
       " (u'oxygensens', 'oxygensensing'),\n",
       " (u'nanoccurr', 'nanoccurrence'),\n",
       " (u'assaysnannk', 'assaysnannk'),\n",
       " (u'putamen', 'putamen'),\n",
       " (u'hyperoxid', 'hyperoxidation'),\n",
       " (u'cellsnangastr', 'cellsnangastric'),\n",
       " (u'hyperoxia', 'hyperoxia'),\n",
       " (u'nanposterior', 'nanposterior'),\n",
       " (u'arterioven', 'arteriovenous'),\n",
       " (u'infectionnanadenoviru', 'infectionnanadenovirus'),\n",
       " (u'list', 'listed'),\n",
       " (u'deathnaningest', 'deathnaningestion')]"
      ]
     },
     "execution_count": 8,
     "metadata": {},
     "output_type": "execute_result"
    }
   ],
   "source": [
    "#key = stemmed word... value = most likely true word\n",
    "final_vocab_dict = {}\n",
    "for k,v in vocab_dict.items():\n",
    "    final_vocab_dict[k] = max(v, key=lambda x:x[1])[0]\n",
    "#view first 20 items. \n",
    "list(islice(final_vocab_dict.items(), 20))"
   ]
  },
  {
   "cell_type": "code",
   "execution_count": 9,
   "metadata": {
    "collapsed": true
   },
   "outputs": [],
   "source": [
    "#Stemming each word in X. \n",
    "stemmed_info = []\n",
    "for doc in df_labeled['all_info']:\n",
    "    d = []\n",
    "    for word in doc.split():\n",
    "        d.append(str(stem.stem(word)))\n",
    "    stemmed_info.append(\" \".join(d))\n",
    "df_labeled['stemmed_info'] = stemmed_info"
   ]
  },
  {
   "cell_type": "code",
   "execution_count": 10,
   "metadata": {
    "collapsed": true
   },
   "outputs": [],
   "source": [
    "#boolean verify_relationship (merging yes_direct and yes_indirect to simplify our graph)\n",
    "temp = {'yes_direct': True, 'yes_indirect':True, 'no_relation':False}\n",
    "df_labeled['boolean_relationship'] = df_labeled['verify_relationship'].map(temp)\n",
    "df_labeled = df_labeled.drop(['verify_relationship'], axis=1).copy()"
   ]
  },
  {
   "cell_type": "code",
   "execution_count": 11,
   "metadata": {
    "collapsed": false,
    "scrolled": true
   },
   "outputs": [
    {
     "data": {
      "text/html": [
       "<div>\n",
       "<table border=\"1\" class=\"dataframe\">\n",
       "  <thead>\n",
       "    <tr style=\"text-align: right;\">\n",
       "      <th></th>\n",
       "      <th>chemical_name</th>\n",
       "      <th>disease_name</th>\n",
       "      <th>all_info</th>\n",
       "      <th>stemmed_info</th>\n",
       "      <th>boolean_relationship</th>\n",
       "    </tr>\n",
       "  </thead>\n",
       "  <tbody>\n",
       "    <tr>\n",
       "      <th>0</th>\n",
       "      <td>5-HT</td>\n",
       "      <td>psychotic disorders</td>\n",
       "      <td>animal models considered reflect positive symp...</td>\n",
       "      <td>anim model consid reflect posit symptom schizo...</td>\n",
       "      <td>True</td>\n",
       "    </tr>\n",
       "    <tr>\n",
       "      <th>1</th>\n",
       "      <td>D-penicillamine</td>\n",
       "      <td>localized scleroderma</td>\n",
       "      <td>case reports patients severe extensive localiz...</td>\n",
       "      <td>case report patient sever extens local sclerod...</td>\n",
       "      <td>False</td>\n",
       "    </tr>\n",
       "    <tr>\n",
       "      <th>2</th>\n",
       "      <td>yohimbine</td>\n",
       "      <td>affective disorders</td>\n",
       "      <td>method six patients either obsessive compulsiv...</td>\n",
       "      <td>method six patient either obsess compuls disor...</td>\n",
       "      <td>False</td>\n",
       "    </tr>\n",
       "    <tr>\n",
       "      <th>3</th>\n",
       "      <td>calcium</td>\n",
       "      <td>muscle spasms</td>\n",
       "      <td>severe hypokalemia may cause muscle weakness s...</td>\n",
       "      <td>sever hypokalemia may caus muscl weak sever hy...</td>\n",
       "      <td>False</td>\n",
       "    </tr>\n",
       "    <tr>\n",
       "      <th>4</th>\n",
       "      <td>dexrazoxane</td>\n",
       "      <td>hematologic toxicity</td>\n",
       "      <td>clinical trials patients brain metastases comb...</td>\n",
       "      <td>clinic trial patient brain metastas combin dex...</td>\n",
       "      <td>False</td>\n",
       "    </tr>\n",
       "  </tbody>\n",
       "</table>\n",
       "</div>"
      ],
      "text/plain": [
       "     chemical_name           disease_name  \\\n",
       "0             5-HT    psychotic disorders   \n",
       "1  D-penicillamine  localized scleroderma   \n",
       "2        yohimbine    affective disorders   \n",
       "3          calcium          muscle spasms   \n",
       "4      dexrazoxane   hematologic toxicity   \n",
       "\n",
       "                                            all_info  \\\n",
       "0  animal models considered reflect positive symp...   \n",
       "1  case reports patients severe extensive localiz...   \n",
       "2  method six patients either obsessive compulsiv...   \n",
       "3  severe hypokalemia may cause muscle weakness s...   \n",
       "4  clinical trials patients brain metastases comb...   \n",
       "\n",
       "                                        stemmed_info boolean_relationship  \n",
       "0  anim model consid reflect posit symptom schizo...                 True  \n",
       "1  case report patient sever extens local sclerod...                False  \n",
       "2  method six patient either obsess compuls disor...                False  \n",
       "3  sever hypokalemia may caus muscl weak sever hy...                False  \n",
       "4  clinic trial patient brain metastas combin dex...                False  "
      ]
     },
     "execution_count": 11,
     "metadata": {},
     "output_type": "execute_result"
    }
   ],
   "source": [
    "df_labeled.head()"
   ]
  },
  {
   "cell_type": "markdown",
   "metadata": {},
   "source": [
    "### Vectorize data"
   ]
  },
  {
   "cell_type": "code",
   "execution_count": 12,
   "metadata": {
    "collapsed": false
   },
   "outputs": [],
   "source": [
    "X = df_labeled['stemmed_info']\n",
    "y = df_labeled['boolean_relationship']"
   ]
  },
  {
   "cell_type": "code",
   "execution_count": 13,
   "metadata": {
    "collapsed": false
   },
   "outputs": [],
   "source": [
    "vect = CountVectorizer(min_df=1)\n",
    "tfidf = TfidfVectorizer(min_df=1)\n",
    "\n",
    "X_vect = vect.fit_transform(X)\n",
    "X_tfidf = tfidf.fit_transform(X)"
   ]
  },
  {
   "cell_type": "code",
   "execution_count": 14,
   "metadata": {
    "collapsed": false
   },
   "outputs": [
    {
     "name": "stdout",
     "output_type": "stream",
     "text": [
      "('len_feature_vect: ', 15389)\n",
      "('len_feature_tfidf: ', 15389)\n"
     ]
    }
   ],
   "source": [
    "train_features_vect = vect.get_feature_names()\n",
    "train_features_tfidf = tfidf.get_feature_names()\n",
    "print(\"len_feature_vect: \", len(train_features_vect))\n",
    "print(\"len_feature_tfidf: \", len(train_features_tfidf))"
   ]
  },
  {
   "cell_type": "markdown",
   "metadata": {},
   "source": [
    "### NMF (Non-Negative Matrix Factorization)"
   ]
  },
  {
   "cell_type": "markdown",
   "metadata": {},
   "source": [
    "#### Count Vectorizer"
   ]
  },
  {
   "cell_type": "code",
   "execution_count": 18,
   "metadata": {
    "collapsed": false
   },
   "outputs": [
    {
     "name": "stdout",
     "output_type": "stream",
     "text": [
      "Topic words #0:\n",
      "patients treatment study response months therapy disease median days treated dose clinical levels years survival complete evaluated rate one trials total chronic weeks performed hepatitis receiving toxicity observed severe case\n",
      "Topic words #1:\n",
      "cells activity cancer inhibition human expression tumor lines increased induced apoptosis growth protein results melanoma potential effects inhibitor pathway showed kinase cytotoxicity treatment lung also erk mice signaling dna study\n",
      "Topic words #2:\n",
      "used increased risk study associated may drug clozapine reported children also bodyweight toxicity levobupivacaine less potential due development glucose olanzapine acid disease however risperidone adults profile clinical frequently well treatment\n",
      "Topic words #3:\n",
      "mg tumor te dose med ep highgrade gliomas cpt days adults zaleplon activity including system dosage demonstrated study central mgkg malignant derived nude 11 nervous current well produced resistance subjects\n",
      "Topic words #4:\n",
      "effects treatment study combination hypertension used significantly tea calcium blood inhibitor dose drug blocker clinical weeks activity different significant angiotensin chronic agents monotherapy compared inhibition increased efficacy evaluated treated pressure\n",
      "Topic words #5:\n",
      "group patients aspirin coumadin study tzd aceiarb prevention stroke primary heart per cardioembolic rheumatic diabetes chronic hematocrit three type infusion complications days disease hemoglobin angiotensin one mitral receiving dosage bleeding\n",
      "Topic words #6:\n",
      "bone bp patients cancer infusion therapy metastatic pamidronate disease mg breast criteria clodronate trials myeloma hormone reduced chemotherapy morbidity data potent administration rate achieved results better oral skeletal started obtained\n",
      "Topic words #7:\n",
      "fentanyl transdermal patients pain opioid effects hours may adverse decreased development chronic improved opioidrelated initial immediately hypoventilation oral days used administration management treatment administered conditions required antagonist naloxone continuous medication\n",
      "Topic words #8:\n",
      "receptor contractions nm ketanserin ec log ht rings artery agonist hta mediated endothelium htinduced human temporal activity antagonized found components intact partial ketanserinresistant htlike function respectively cause brain sumatriptan intrinsic\n",
      "Topic words #9:\n",
      "insulin diabetes combination therapy drug metabolic oral control patients niddm type glucose sulphonylureas action inhibitor metformin obesity required better treatment could peripheral reduced available testosterone syndrome serum leading needed improved\n"
     ]
    }
   ],
   "source": [
    "nmf = NMF(n_components=10, random_state=1, alpha=.1, l1_ratio=.5).fit(X_vect)\n",
    "def print_top_words(model, feature_names, n_top_words):\n",
    "    for topic_idx, topic in enumerate(model.components_):\n",
    "#         print(\"Topic stemmed #%d:\" % topic_idx)\n",
    "#         print(\" \".join([feature_names[i] for i in topic.argsort()[:-n_top_words - 1:-1]]))\n",
    "#         print()\n",
    "        print(\"Topic words #%d:\" % topic_idx)\n",
    "        topic_words = []\n",
    "        for i in topic.argsort()[:-n_top_words - 1:-1]:\n",
    "            try:\n",
    "                #change word back to most likely true word\n",
    "                topic_words.append(final_vocab_dict[feature_names[i]])\n",
    "            except:\n",
    "                topic_words.append(feature_names[i])\n",
    "        print(\" \".join(topic_words))\n",
    "print_top_words(nmf, train_features_vect, 30)"
   ]
  },
  {
   "cell_type": "markdown",
   "metadata": {},
   "source": [
    "** Top 3 topics: **\n",
    "- opiates\n",
    "- skin cell diseases\n",
    "- eyes and cats"
   ]
  },
  {
   "cell_type": "markdown",
   "metadata": {},
   "source": [
    "#### TF-IDF"
   ]
  },
  {
   "cell_type": "code",
   "execution_count": 19,
   "metadata": {
    "collapsed": false
   },
   "outputs": [
    {
     "name": "stdout",
     "output_type": "stream",
     "text": [
      "Topic #0:\n",
      "cells cancer tumor inhibition activity human growth lines apoptosis expression induced effects protein drug combination curcumin inhibitor pathway cytotoxicity breast fu signaling kinase chloroquine autophagy receptor increased carcinoma vitro results\n",
      "Topic #1:\n",
      "patients treatment study therapy disease effects aspirin dose group used trials days pain clinical efficacy stroke fentanyl response toxicity drug associated combination compared may treated rate receiving years severe symptoms\n",
      "Topic #2:\n",
      "clozapine bodyweight olanzapine risperidone risk children gain antipsychotic glucose quetiapine ziprasidone mania adolescents adults ep increased receptor profile monitoring atypical less frequently hyperprolactinaemia sedation baseline intolerance reported used published toward\n",
      "Topic #3:\n",
      "mg te med cpt gliomas highgrade ep tumor 11 adults procarbazine melphalan medulloblastomas sublines ependymomas br rhabdomyosarcoma busulfan derived childhood intracranially dosage mr athymic pr cyclophosphamide cr malignant nervous subcutaneously\n",
      "Topic #4:\n",
      "hepatitis liver encephalopathy chronic alcohol steroid failure hcv hyperammonemia thymalfasin hepatocellular hbv cirrhosis overt infection interferon withdrawal smoking virus ribavirin treatment common aminotransferase consumption ammonia carcinoma response korea detoxification cohort\n",
      "Topic #5:\n",
      "angiotensin blocker hypertension amlodipine perindopril iconverting essential receptor vascular enzyme inhibitor endothelial channel pressure monotherapy calcium group blood bp parameters arteriosclerosis vasodilation brachialankle flowmediated wave velocity terazosin pulse mg antihypertensive\n",
      "Topic #6:\n",
      "vitamin intake iron fatty dietary acid deficiency colorectal cancer minerals alcohol athletes age risk smoking physical control riboflavin retinol folate thiamin fiber associated magnesium height examined exact social essential logistic\n",
      "Topic #7:\n",
      "carbachol eserine chloride calcium fighting vocalization clonictonic mydriasis tremor convulsions claws paws injection produced central snarling grouphoused unanaesthetized hissing rage biting phenomena cats action ventricles dissociate autonomic evoked cerebral defense\n",
      "Topic #8:\n",
      "chromium vi chromiumiii ascorbic salts dermatitis acid system therefore poisoning advocated toxicity occurred chrome bioavailable contact allergic chromiumviinduced trivalent exogenous readily burn extracellular occupationally topical ulcers absorbed ingestion cross soluble\n",
      "Topic #9:\n",
      "diabetes insulin glucose metformin type metabolic testosterone obesity ed mellitus serum syndrome fasting prevention resistance impaired low patients total lifestyle levels niddm modification blood pioglitazone delapril manidipine men late bmi\n"
     ]
    }
   ],
   "source": [
    "nmf = NMF(n_components=10, random_state=1, alpha=.1, l1_ratio=.5).fit(X_tfidf)\n",
    "def print_top_words(model, feature_names, n_top_words):\n",
    "    for topic_idx, topic in enumerate(model.components_):\n",
    "        print(\"Topic #%d:\" % topic_idx)\n",
    "        #print(\" \".join([feature_names[i] for i in topic.argsort()[:-n_top_words - 1:-1]]))\n",
    "        topic_words = []\n",
    "        for i in topic.argsort()[:-n_top_words - 1:-1]:\n",
    "            try:\n",
    "                #change word back to most likely true word\n",
    "                topic_words.append(final_vocab_dict[feature_names[i]])\n",
    "            except:\n",
    "                topic_words.append(feature_names[i])\n",
    "        print(\" \".join(topic_words))\n",
    "print_top_words(nmf, train_features_tfidf, 30)"
   ]
  },
  {
   "cell_type": "markdown",
   "metadata": {},
   "source": [
    "** Top 3 topics: **\n",
    "- diabetes and cancer\n",
    "- cats and rage\n",
    "- skin cell diseases"
   ]
  },
  {
   "cell_type": "markdown",
   "metadata": {},
   "source": [
    "### LDA (Latent Dirichlet Allocation)"
   ]
  },
  {
   "cell_type": "markdown",
   "metadata": {},
   "source": [
    "#### Count Vectorizer"
   ]
  },
  {
   "cell_type": "code",
   "execution_count": 20,
   "metadata": {
    "collapsed": false
   },
   "outputs": [
    {
     "name": "stdout",
     "output_type": "stream",
     "text": [
      "Topic 0: patients diabetes study group treatment insulin effects hypertension disease inhibitor therapy type glucose combination blood levels serum metabolic mg cardiovascular control prevention risk vascular reduced drug angiotensin blocker obesity\n",
      "Topic 1: patients days effects study treatment group pain symptoms score dose used clinical receiving associated infusion morphine severe mg scale rate improved trials weeks efficacy significantly compared therapy placebo daily\n",
      "Topic 2: effects used may study patients drug associated receptor treatment disease toxicity clinical potential pain also fentanyl development increased evidence risk results data role dose adverse however activity transdermal improved\n",
      "Topic 3: patients study used case effects treatment increased risk associated development may months years drug dose artery myocardial therapy intake cause vitamin coronary one disease acid acute treated cancer reported\n",
      "Topic 4: patients treatment therapy used disease case reported steroid infection effects may bleeding syndrome corticosteroids severe study management resistance chronic clinical liver associated treated failure drug lesions due dysfunction inhibitor\n",
      "Topic 5: patients cancer treatment combination study tumor mg toxicity chemotherapy breast therapy trials cells drug advanced survival bone response used metastatic disease treated carcinoma phase growth activity clinical determine efficacy\n",
      "Topic 6: patients treatment hepatitis infection hiv study effects increased chronic reported response used activity calcium combination also clinical risk liver cells investigated virus children therapy olanzapine complete hcv chloride results\n",
      "Topic 7: cells activity inhibition patients cancer effects group inhibitor induced treatment aspirin kinase expression tumor growth human study protein coumadin pathway signaling results increased curcumin response apoptosis lung used also\n",
      "Topic 8: effects dose study increased plasma rats chromium treatment concentrations levels oxygen administration acid response mg induced toxicity measured results system vi oxidative reduced significantly decreased glutathione produced patients blood\n",
      "Topic 9: cells activity effects human cancer expression tumor lines inhibition increased receptor protein induced study used apoptosis drug results treatment resistance cytotoxicity also levels mechanisms inhibitor showed growth assay gene\n"
     ]
    }
   ],
   "source": [
    "model = lda.LDA(n_topics=10, n_iter=3000, random_state=1)\n",
    "model.fit_transform(X_vect) \n",
    "topic_word = model.topic_word_  # model.components_ also works\n",
    "n_top_words = 30\n",
    "for i, topic_dist in enumerate(topic_word):\n",
    "    topic_words = np.array(vect.get_feature_names())[np.argsort(topic_dist)][:-n_top_words:-1]\n",
    "    top_words = []\n",
    "    for word in (' '.join(topic_words)).split():\n",
    "        try:\n",
    "            #change word back to most likely true word\n",
    "            top_words.append(final_vocab_dict[str(word)])\n",
    "        except:\n",
    "            top_words.append(str(word))\n",
    "    print('Topic {}: {}'.format(i, ' '.join(top_words)))"
   ]
  },
  {
   "cell_type": "markdown",
   "metadata": {},
   "source": [
    "** Top 5 Topics:**\n",
    "- Drug treatments at clinical trials\n",
    "- Cancer cells\n",
    "- Effects of chemo drugs\n",
    "- Diabetes\n",
    "- Chemicals that affect the brain"
   ]
  },
  {
   "cell_type": "markdown",
   "metadata": {},
   "source": [
    "**Note: ** Works only with matrix with integer values, so tfidf would not work."
   ]
  },
  {
   "cell_type": "markdown",
   "metadata": {},
   "source": [
    "### GraphLab"
   ]
  },
  {
   "cell_type": "code",
   "execution_count": 15,
   "metadata": {
    "collapsed": false
   },
   "outputs": [],
   "source": [
    "#create list of dictionaries of word counts of each document.\n",
    "docs = []\n",
    "for doc in df_labeled.stemmed_info:\n",
    "    docs.append(dict(Counter(doc.split())))"
   ]
  },
  {
   "cell_type": "code",
   "execution_count": 16,
   "metadata": {
    "collapsed": false
   },
   "outputs": [
    {
     "data": {
      "text/plain": [
       "{'5-ht': 1,\n",
       " '5-htalter': 1,\n",
       " '5-htht': 1,\n",
       " 'addit': 1,\n",
       " 'alter': 2,\n",
       " 'analysi': 1,\n",
       " 'anim': 3,\n",
       " 'antagonist': 2,\n",
       " 'antipsychot': 1,\n",
       " 'associ': 1,\n",
       " 'clozapin': 1,\n",
       " 'conduct': 1,\n",
       " 'consid': 2,\n",
       " 'correct': 1,\n",
       " 'damphetamin': 1,\n",
       " 'damphetamineinduc': 1,\n",
       " 'disord': 4,\n",
       " 'disrupt': 1,\n",
       " 'evid': 2,\n",
       " 'factor': 1,\n",
       " 'gene': 1,\n",
       " 'gener': 1,\n",
       " 'ht': 6,\n",
       " 'htr': 1,\n",
       " 'hyperact': 1,\n",
       " 'hypothes': 1,\n",
       " 'induc': 1,\n",
       " 'inhibit': 1,\n",
       " 'involv': 2,\n",
       " 'methamphetamin': 1,\n",
       " 'methinduc': 2,\n",
       " 'model': 2,\n",
       " 'neural': 1,\n",
       " 'olanzapin': 1,\n",
       " 'paranoid': 1,\n",
       " 'pathophysiolog': 2,\n",
       " 'phencyclidin': 1,\n",
       " 'posit': 2,\n",
       " 'prepuls': 1,\n",
       " 'psychosi': 2,\n",
       " 'psychot': 4,\n",
       " 'rat': 2,\n",
       " 'receptor': 7,\n",
       " 'reflect': 2,\n",
       " 'relat': 1,\n",
       " 'restor': 1,\n",
       " 'schizophrenia': 4,\n",
       " 'second': 1,\n",
       " 'select': 1,\n",
       " 'serotonerg': 1,\n",
       " 'serotonin': 1,\n",
       " 'sever': 1,\n",
       " 'similar': 1,\n",
       " 'studi': 1,\n",
       " 'suggest': 2,\n",
       " 'suscept': 1,\n",
       " 'symptom': 3,\n",
       " 'target': 1,\n",
       " 'therapeut': 1,\n",
       " 'therefor': 1,\n",
       " 'transmiss': 1,\n",
       " 'type': 1,\n",
       " 'use': 2}"
      ]
     },
     "execution_count": 16,
     "metadata": {},
     "output_type": "execute_result"
    }
   ],
   "source": [
    "docs[0]"
   ]
  },
  {
   "cell_type": "code",
   "execution_count": 17,
   "metadata": {
    "collapsed": false
   },
   "outputs": [
    {
     "data": {
      "text/plain": [
       "'adequate'"
      ]
     },
     "execution_count": 17,
     "metadata": {},
     "output_type": "execute_result"
    }
   ],
   "source": [
    "final_vocab_dict['adequ']"
   ]
  },
  {
   "cell_type": "code",
   "execution_count": 18,
   "metadata": {
    "collapsed": false
   },
   "outputs": [
    {
     "data": {
      "text/plain": [
       "{'5-ht': 1,\n",
       " '5-htaltered': 1,\n",
       " '5-htht': 1,\n",
       " 'addition': 1,\n",
       " 'alterations': 2,\n",
       " 'analysis': 1,\n",
       " 'animals': 3,\n",
       " 'antagonist': 2,\n",
       " 'antipsychotic': 1,\n",
       " 'associated': 1,\n",
       " 'clozapine': 1,\n",
       " 'conducted': 1,\n",
       " 'considered': 2,\n",
       " 'correction': 1,\n",
       " 'damphetamine': 1,\n",
       " 'damphetamineinduced': 1,\n",
       " 'disorder': 4,\n",
       " 'disruption': 1,\n",
       " 'evidence': 2,\n",
       " 'factor': 1,\n",
       " 'gene': 1,\n",
       " 'generally': 1,\n",
       " 'ht': 6,\n",
       " 'htr': 1,\n",
       " 'hyperactivity': 1,\n",
       " 'hypothesized': 1,\n",
       " 'induced': 1,\n",
       " 'inhibition': 1,\n",
       " 'involved': 2,\n",
       " 'methamphetamine': 1,\n",
       " 'methinduced': 2,\n",
       " 'models': 2,\n",
       " 'neural': 1,\n",
       " 'olanzapine': 1,\n",
       " 'paranoid': 1,\n",
       " 'pathophysiology': 2,\n",
       " 'phencyclidine': 1,\n",
       " 'positive': 2,\n",
       " 'prepulse': 1,\n",
       " 'psychosis': 2,\n",
       " 'psychotic': 4,\n",
       " 'rats': 2,\n",
       " 'receptor': 7,\n",
       " 'reflecting': 2,\n",
       " 'related': 1,\n",
       " 'restored': 1,\n",
       " 'schizophrenia': 4,\n",
       " 'second': 1,\n",
       " 'selective': 1,\n",
       " 'serotonergic': 1,\n",
       " 'serotonin': 1,\n",
       " 'severe': 1,\n",
       " 'similar': 1,\n",
       " 'study': 1,\n",
       " 'suggest': 2,\n",
       " 'susceptibility': 1,\n",
       " 'symptoms': 3,\n",
       " 'target': 1,\n",
       " 'therapeutic': 1,\n",
       " 'therefore': 1,\n",
       " 'transmission': 1,\n",
       " 'type': 1,\n",
       " 'used': 2}"
      ]
     },
     "execution_count": 18,
     "metadata": {},
     "output_type": "execute_result"
    }
   ],
   "source": [
    "#change stemmed words back to human-readable words. \n",
    "new_docs = []\n",
    "\n",
    "for doc in docs:\n",
    "    real_counter = defaultdict(int)\n",
    "    for k,v in doc.items():\n",
    "        try:\n",
    "            real_counter[final_vocab_dict[k]] = v\n",
    "        except:\n",
    "            real_counter[k] = v\n",
    "    new_docs.append(dict(real_counter))\n",
    "new_docs[0]"
   ]
  },
  {
   "cell_type": "code",
   "execution_count": 19,
   "metadata": {
    "collapsed": false
   },
   "outputs": [],
   "source": [
    "docs = gl.SArray(new_docs)"
   ]
  },
  {
   "cell_type": "code",
   "execution_count": 31,
   "metadata": {
    "collapsed": false
   },
   "outputs": [
    {
     "data": {
      "text/html": [
       "<pre>Learning a topic model</pre>"
      ],
      "text/plain": [
       "Learning a topic model"
      ]
     },
     "metadata": {},
     "output_type": "display_data"
    },
    {
     "data": {
      "text/html": [
       "<pre>       Number of documents      5713</pre>"
      ],
      "text/plain": [
       "       Number of documents      5713"
      ]
     },
     "metadata": {},
     "output_type": "display_data"
    },
    {
     "data": {
      "text/html": [
       "<pre>           Vocabulary size     15418</pre>"
      ],
      "text/plain": [
       "           Vocabulary size     15418"
      ]
     },
     "metadata": {},
     "output_type": "display_data"
    },
    {
     "data": {
      "text/html": [
       "<pre>   Running collapsed Gibbs sampling</pre>"
      ],
      "text/plain": [
       "   Running collapsed Gibbs sampling"
      ]
     },
     "metadata": {},
     "output_type": "display_data"
    },
    {
     "data": {
      "text/html": [
       "<pre>+-----------+---------------+----------------+-----------------+</pre>"
      ],
      "text/plain": [
       "+-----------+---------------+----------------+-----------------+"
      ]
     },
     "metadata": {},
     "output_type": "display_data"
    },
    {
     "data": {
      "text/html": [
       "<pre>| Iteration | Elapsed Time  | Tokens/Second  | Est. Perplexity |</pre>"
      ],
      "text/plain": [
       "| Iteration | Elapsed Time  | Tokens/Second  | Est. Perplexity |"
      ]
     },
     "metadata": {},
     "output_type": "display_data"
    },
    {
     "data": {
      "text/html": [
       "<pre>+-----------+---------------+----------------+-----------------+</pre>"
      ],
      "text/plain": [
       "+-----------+---------------+----------------+-----------------+"
      ]
     },
     "metadata": {},
     "output_type": "display_data"
    },
    {
     "data": {
      "text/html": [
       "<pre>| 10        | 711.04ms      | 7.67358e+06    | 0               |</pre>"
      ],
      "text/plain": [
       "| 10        | 711.04ms      | 7.67358e+06    | 0               |"
      ]
     },
     "metadata": {},
     "output_type": "display_data"
    },
    {
     "data": {
      "text/html": [
       "<pre>| 20        | 1.19s         | 7.57496e+06    | 0               |</pre>"
      ],
      "text/plain": [
       "| 20        | 1.19s         | 7.57496e+06    | 0               |"
      ]
     },
     "metadata": {},
     "output_type": "display_data"
    },
    {
     "data": {
      "text/html": [
       "<pre>| 30        | 1.68s         | 7.05341e+06    | 0               |</pre>"
      ],
      "text/plain": [
       "| 30        | 1.68s         | 7.05341e+06    | 0               |"
      ]
     },
     "metadata": {},
     "output_type": "display_data"
    },
    {
     "data": {
      "text/html": [
       "<pre>| 40        | 2.20s         | 7.11211e+06    | 0               |</pre>"
      ],
      "text/plain": [
       "| 40        | 2.20s         | 7.11211e+06    | 0               |"
      ]
     },
     "metadata": {},
     "output_type": "display_data"
    },
    {
     "data": {
      "text/html": [
       "<pre>| 50        | 2.74s         | 7.25221e+06    | 0               |</pre>"
      ],
      "text/plain": [
       "| 50        | 2.74s         | 7.25221e+06    | 0               |"
      ]
     },
     "metadata": {},
     "output_type": "display_data"
    },
    {
     "data": {
      "text/html": [
       "<pre>| 60        | 3.23s         | 7.04653e+06    | 0               |</pre>"
      ],
      "text/plain": [
       "| 60        | 3.23s         | 7.04653e+06    | 0               |"
      ]
     },
     "metadata": {},
     "output_type": "display_data"
    },
    {
     "data": {
      "text/html": [
       "<pre>| 70        | 3.87s         | 6.75225e+06    | 0               |</pre>"
      ],
      "text/plain": [
       "| 70        | 3.87s         | 6.75225e+06    | 0               |"
      ]
     },
     "metadata": {},
     "output_type": "display_data"
    },
    {
     "data": {
      "text/html": [
       "<pre>| 80        | 4.76s         | 6.09566e+06    | 0               |</pre>"
      ],
      "text/plain": [
       "| 80        | 4.76s         | 6.09566e+06    | 0               |"
      ]
     },
     "metadata": {},
     "output_type": "display_data"
    },
    {
     "data": {
      "text/html": [
       "<pre>| 90        | 5.32s         | 7.47178e+06    | 0               |</pre>"
      ],
      "text/plain": [
       "| 90        | 5.32s         | 7.47178e+06    | 0               |"
      ]
     },
     "metadata": {},
     "output_type": "display_data"
    },
    {
     "data": {
      "text/html": [
       "<pre>| 100       | 5.86s         | 6.74335e+06    | 0               |</pre>"
      ],
      "text/plain": [
       "| 100       | 5.86s         | 6.74335e+06    | 0               |"
      ]
     },
     "metadata": {},
     "output_type": "display_data"
    },
    {
     "data": {
      "text/html": [
       "<pre>| 110       | 6.47s         | 6.88697e+06    | 0               |</pre>"
      ],
      "text/plain": [
       "| 110       | 6.47s         | 6.88697e+06    | 0               |"
      ]
     },
     "metadata": {},
     "output_type": "display_data"
    },
    {
     "data": {
      "text/html": [
       "<pre>| 120       | 7.01s         | 6.0482e+06     | 0               |</pre>"
      ],
      "text/plain": [
       "| 120       | 7.01s         | 6.0482e+06     | 0               |"
      ]
     },
     "metadata": {},
     "output_type": "display_data"
    },
    {
     "data": {
      "text/html": [
       "<pre>| 130       | 7.57s         | 6.81902e+06    | 0               |</pre>"
      ],
      "text/plain": [
       "| 130       | 7.57s         | 6.81902e+06    | 0               |"
      ]
     },
     "metadata": {},
     "output_type": "display_data"
    },
    {
     "data": {
      "text/html": [
       "<pre>| 140       | 8.06s         | 7.33575e+06    | 0               |</pre>"
      ],
      "text/plain": [
       "| 140       | 8.06s         | 7.33575e+06    | 0               |"
      ]
     },
     "metadata": {},
     "output_type": "display_data"
    },
    {
     "data": {
      "text/html": [
       "<pre>| 150       | 8.56s         | 6.53702e+06    | 0               |</pre>"
      ],
      "text/plain": [
       "| 150       | 8.56s         | 6.53702e+06    | 0               |"
      ]
     },
     "metadata": {},
     "output_type": "display_data"
    },
    {
     "data": {
      "text/html": [
       "<pre>| 160       | 9.05s         | 6.41714e+06    | 0               |</pre>"
      ],
      "text/plain": [
       "| 160       | 9.05s         | 6.41714e+06    | 0               |"
      ]
     },
     "metadata": {},
     "output_type": "display_data"
    },
    {
     "data": {
      "text/html": [
       "<pre>| 170       | 9.54s         | 7.2816e+06     | 0               |</pre>"
      ],
      "text/plain": [
       "| 170       | 9.54s         | 7.2816e+06     | 0               |"
      ]
     },
     "metadata": {},
     "output_type": "display_data"
    },
    {
     "data": {
      "text/html": [
       "<pre>| 180       | 10.03s        | 6.68222e+06    | 0               |</pre>"
      ],
      "text/plain": [
       "| 180       | 10.03s        | 6.68222e+06    | 0               |"
      ]
     },
     "metadata": {},
     "output_type": "display_data"
    },
    {
     "data": {
      "text/html": [
       "<pre>| 190       | 10.56s        | 6.72916e+06    | 0               |</pre>"
      ],
      "text/plain": [
       "| 190       | 10.56s        | 6.72916e+06    | 0               |"
      ]
     },
     "metadata": {},
     "output_type": "display_data"
    },
    {
     "data": {
      "text/html": [
       "<pre>| 200       | 11.09s        | 7.03817e+06    | 0               |</pre>"
      ],
      "text/plain": [
       "| 200       | 11.09s        | 7.03817e+06    | 0               |"
      ]
     },
     "metadata": {},
     "output_type": "display_data"
    },
    {
     "data": {
      "text/html": [
       "<pre>| 210       | 11.60s        | 7.45837e+06    | 0               |</pre>"
      ],
      "text/plain": [
       "| 210       | 11.60s        | 7.45837e+06    | 0               |"
      ]
     },
     "metadata": {},
     "output_type": "display_data"
    },
    {
     "data": {
      "text/html": [
       "<pre>| 220       | 12.12s        | 6.50746e+06    | 0               |</pre>"
      ],
      "text/plain": [
       "| 220       | 12.12s        | 6.50746e+06    | 0               |"
      ]
     },
     "metadata": {},
     "output_type": "display_data"
    },
    {
     "data": {
      "text/html": [
       "<pre>| 230       | 12.64s        | 7.08362e+06    | 0               |</pre>"
      ],
      "text/plain": [
       "| 230       | 12.64s        | 7.08362e+06    | 0               |"
      ]
     },
     "metadata": {},
     "output_type": "display_data"
    },
    {
     "data": {
      "text/html": [
       "<pre>| 240       | 13.13s        | 6.46142e+06    | 0               |</pre>"
      ],
      "text/plain": [
       "| 240       | 13.13s        | 6.46142e+06    | 0               |"
      ]
     },
     "metadata": {},
     "output_type": "display_data"
    },
    {
     "data": {
      "text/html": [
       "<pre>| 250       | 13.65s        | 6.80603e+06    | 0               |</pre>"
      ],
      "text/plain": [
       "| 250       | 13.65s        | 6.80603e+06    | 0               |"
      ]
     },
     "metadata": {},
     "output_type": "display_data"
    },
    {
     "data": {
      "text/html": [
       "<pre>| 260       | 14.13s        | 7.25712e+06    | 0               |</pre>"
      ],
      "text/plain": [
       "| 260       | 14.13s        | 7.25712e+06    | 0               |"
      ]
     },
     "metadata": {},
     "output_type": "display_data"
    },
    {
     "data": {
      "text/html": [
       "<pre>| 270       | 14.64s        | 6.14456e+06    | 0               |</pre>"
      ],
      "text/plain": [
       "| 270       | 14.64s        | 6.14456e+06    | 0               |"
      ]
     },
     "metadata": {},
     "output_type": "display_data"
    },
    {
     "data": {
      "text/html": [
       "<pre>| 280       | 15.11s        | 7.57323e+06    | 0               |</pre>"
      ],
      "text/plain": [
       "| 280       | 15.11s        | 7.57323e+06    | 0               |"
      ]
     },
     "metadata": {},
     "output_type": "display_data"
    },
    {
     "data": {
      "text/html": [
       "<pre>| 290       | 15.58s        | 7.51061e+06    | 0               |</pre>"
      ],
      "text/plain": [
       "| 290       | 15.58s        | 7.51061e+06    | 0               |"
      ]
     },
     "metadata": {},
     "output_type": "display_data"
    },
    {
     "data": {
      "text/html": [
       "<pre>| 300       | 16.03s        | 7.20162e+06    | 0               |</pre>"
      ],
      "text/plain": [
       "| 300       | 16.03s        | 7.20162e+06    | 0               |"
      ]
     },
     "metadata": {},
     "output_type": "display_data"
    },
    {
     "data": {
      "text/html": [
       "<pre>| 310       | 16.53s        | 7.0196e+06     | 0               |</pre>"
      ],
      "text/plain": [
       "| 310       | 16.53s        | 7.0196e+06     | 0               |"
      ]
     },
     "metadata": {},
     "output_type": "display_data"
    },
    {
     "data": {
      "text/html": [
       "<pre>| 320       | 17.00s        | 7.40867e+06    | 0               |</pre>"
      ],
      "text/plain": [
       "| 320       | 17.00s        | 7.40867e+06    | 0               |"
      ]
     },
     "metadata": {},
     "output_type": "display_data"
    },
    {
     "data": {
      "text/html": [
       "<pre>| 330       | 17.47s        | 7.14758e+06    | 0               |</pre>"
      ],
      "text/plain": [
       "| 330       | 17.47s        | 7.14758e+06    | 0               |"
      ]
     },
     "metadata": {},
     "output_type": "display_data"
    },
    {
     "data": {
      "text/html": [
       "<pre>| 340       | 17.94s        | 7.44084e+06    | 0               |</pre>"
      ],
      "text/plain": [
       "| 340       | 17.94s        | 7.44084e+06    | 0               |"
      ]
     },
     "metadata": {},
     "output_type": "display_data"
    },
    {
     "data": {
      "text/html": [
       "<pre>| 350       | 18.44s        | 6.85544e+06    | 0               |</pre>"
      ],
      "text/plain": [
       "| 350       | 18.44s        | 6.85544e+06    | 0               |"
      ]
     },
     "metadata": {},
     "output_type": "display_data"
    },
    {
     "data": {
      "text/html": [
       "<pre>| 360       | 18.90s        | 6.77952e+06    | 0               |</pre>"
      ],
      "text/plain": [
       "| 360       | 18.90s        | 6.77952e+06    | 0               |"
      ]
     },
     "metadata": {},
     "output_type": "display_data"
    },
    {
     "data": {
      "text/html": [
       "<pre>| 370       | 19.35s        | 7.29647e+06    | 0               |</pre>"
      ],
      "text/plain": [
       "| 370       | 19.35s        | 7.29647e+06    | 0               |"
      ]
     },
     "metadata": {},
     "output_type": "display_data"
    },
    {
     "data": {
      "text/html": [
       "<pre>| 380       | 19.82s        | 7.31928e+06    | 0               |</pre>"
      ],
      "text/plain": [
       "| 380       | 19.82s        | 7.31928e+06    | 0               |"
      ]
     },
     "metadata": {},
     "output_type": "display_data"
    },
    {
     "data": {
      "text/html": [
       "<pre>| 390       | 20.28s        | 7.14697e+06    | 0               |</pre>"
      ],
      "text/plain": [
       "| 390       | 20.28s        | 7.14697e+06    | 0               |"
      ]
     },
     "metadata": {},
     "output_type": "display_data"
    },
    {
     "data": {
      "text/html": [
       "<pre>| 400       | 20.77s        | 7.07141e+06    | 0               |</pre>"
      ],
      "text/plain": [
       "| 400       | 20.77s        | 7.07141e+06    | 0               |"
      ]
     },
     "metadata": {},
     "output_type": "display_data"
    },
    {
     "data": {
      "text/html": [
       "<pre>| 410       | 21.23s        | 6.73393e+06    | 0               |</pre>"
      ],
      "text/plain": [
       "| 410       | 21.23s        | 6.73393e+06    | 0               |"
      ]
     },
     "metadata": {},
     "output_type": "display_data"
    },
    {
     "data": {
      "text/html": [
       "<pre>| 420       | 21.67s        | 7.32379e+06    | 0               |</pre>"
      ],
      "text/plain": [
       "| 420       | 21.67s        | 7.32379e+06    | 0               |"
      ]
     },
     "metadata": {},
     "output_type": "display_data"
    },
    {
     "data": {
      "text/html": [
       "<pre>| 430       | 22.12s        | 7.29454e+06    | 0               |</pre>"
      ],
      "text/plain": [
       "| 430       | 22.12s        | 7.29454e+06    | 0               |"
      ]
     },
     "metadata": {},
     "output_type": "display_data"
    },
    {
     "data": {
      "text/html": [
       "<pre>| 440       | 22.60s        | 7.47312e+06    | 0               |</pre>"
      ],
      "text/plain": [
       "| 440       | 22.60s        | 7.47312e+06    | 0               |"
      ]
     },
     "metadata": {},
     "output_type": "display_data"
    },
    {
     "data": {
      "text/html": [
       "<pre>| 450       | 23.07s        | 7.07171e+06    | 0               |</pre>"
      ],
      "text/plain": [
       "| 450       | 23.07s        | 7.07171e+06    | 0               |"
      ]
     },
     "metadata": {},
     "output_type": "display_data"
    },
    {
     "data": {
      "text/html": [
       "<pre>| 460       | 23.54s        | 6.50249e+06    | 0               |</pre>"
      ],
      "text/plain": [
       "| 460       | 23.54s        | 6.50249e+06    | 0               |"
      ]
     },
     "metadata": {},
     "output_type": "display_data"
    },
    {
     "data": {
      "text/html": [
       "<pre>| 470       | 24.01s        | 7.36126e+06    | 0               |</pre>"
      ],
      "text/plain": [
       "| 470       | 24.01s        | 7.36126e+06    | 0               |"
      ]
     },
     "metadata": {},
     "output_type": "display_data"
    },
    {
     "data": {
      "text/html": [
       "<pre>| 480       | 24.50s        | 6.07162e+06    | 0               |</pre>"
      ],
      "text/plain": [
       "| 480       | 24.50s        | 6.07162e+06    | 0               |"
      ]
     },
     "metadata": {},
     "output_type": "display_data"
    },
    {
     "data": {
      "text/html": [
       "<pre>| 490       | 24.96s        | 7.5881e+06     | 0               |</pre>"
      ],
      "text/plain": [
       "| 490       | 24.96s        | 7.5881e+06     | 0               |"
      ]
     },
     "metadata": {},
     "output_type": "display_data"
    },
    {
     "data": {
      "text/html": [
       "<pre>| 500       | 25.44s        | 6.96416e+06    | 0               |</pre>"
      ],
      "text/plain": [
       "| 500       | 25.44s        | 6.96416e+06    | 0               |"
      ]
     },
     "metadata": {},
     "output_type": "display_data"
    },
    {
     "data": {
      "text/html": [
       "<pre>| 510       | 25.90s        | 7.38005e+06    | 0               |</pre>"
      ],
      "text/plain": [
       "| 510       | 25.90s        | 7.38005e+06    | 0               |"
      ]
     },
     "metadata": {},
     "output_type": "display_data"
    },
    {
     "data": {
      "text/html": [
       "<pre>| 520       | 26.37s        | 6.28323e+06    | 0               |</pre>"
      ],
      "text/plain": [
       "| 520       | 26.37s        | 6.28323e+06    | 0               |"
      ]
     },
     "metadata": {},
     "output_type": "display_data"
    },
    {
     "data": {
      "text/html": [
       "<pre>| 530       | 26.83s        | 7.69632e+06    | 0               |</pre>"
      ],
      "text/plain": [
       "| 530       | 26.83s        | 7.69632e+06    | 0               |"
      ]
     },
     "metadata": {},
     "output_type": "display_data"
    },
    {
     "data": {
      "text/html": [
       "<pre>| 540       | 27.29s        | 6.91879e+06    | 0               |</pre>"
      ],
      "text/plain": [
       "| 540       | 27.29s        | 6.91879e+06    | 0               |"
      ]
     },
     "metadata": {},
     "output_type": "display_data"
    },
    {
     "data": {
      "text/html": [
       "<pre>| 550       | 27.78s        | 7.22149e+06    | 0               |</pre>"
      ],
      "text/plain": [
       "| 550       | 27.78s        | 7.22149e+06    | 0               |"
      ]
     },
     "metadata": {},
     "output_type": "display_data"
    },
    {
     "data": {
      "text/html": [
       "<pre>| 560       | 28.23s        | 7.38366e+06    | 0               |</pre>"
      ],
      "text/plain": [
       "| 560       | 28.23s        | 7.38366e+06    | 0               |"
      ]
     },
     "metadata": {},
     "output_type": "display_data"
    },
    {
     "data": {
      "text/html": [
       "<pre>| 570       | 28.71s        | 7.7708e+06     | 0               |</pre>"
      ],
      "text/plain": [
       "| 570       | 28.71s        | 7.7708e+06     | 0               |"
      ]
     },
     "metadata": {},
     "output_type": "display_data"
    },
    {
     "data": {
      "text/html": [
       "<pre>| 580       | 29.17s        | 7.27459e+06    | 0               |</pre>"
      ],
      "text/plain": [
       "| 580       | 29.17s        | 7.27459e+06    | 0               |"
      ]
     },
     "metadata": {},
     "output_type": "display_data"
    },
    {
     "data": {
      "text/html": [
       "<pre>| 590       | 29.63s        | 7.27459e+06    | 0               |</pre>"
      ],
      "text/plain": [
       "| 590       | 29.63s        | 7.27459e+06    | 0               |"
      ]
     },
     "metadata": {},
     "output_type": "display_data"
    },
    {
     "data": {
      "text/html": [
       "<pre>| 600       | 30.09s        | 7.11576e+06    | 0               |</pre>"
      ],
      "text/plain": [
       "| 600       | 30.09s        | 7.11576e+06    | 0               |"
      ]
     },
     "metadata": {},
     "output_type": "display_data"
    },
    {
     "data": {
      "text/html": [
       "<pre>| 610       | 30.57s        | 7.66155e+06    | 0               |</pre>"
      ],
      "text/plain": [
       "| 610       | 30.57s        | 7.66155e+06    | 0               |"
      ]
     },
     "metadata": {},
     "output_type": "display_data"
    },
    {
     "data": {
      "text/html": [
       "<pre>| 620       | 31.08s        | 4.61166e+06    | 0               |</pre>"
      ],
      "text/plain": [
       "| 620       | 31.08s        | 4.61166e+06    | 0               |"
      ]
     },
     "metadata": {},
     "output_type": "display_data"
    },
    {
     "data": {
      "text/html": [
       "<pre>| 630       | 31.72s        | 4.4106e+06     | 0               |</pre>"
      ],
      "text/plain": [
       "| 630       | 31.72s        | 4.4106e+06     | 0               |"
      ]
     },
     "metadata": {},
     "output_type": "display_data"
    },
    {
     "data": {
      "text/html": [
       "<pre>| 640       | 32.43s        | 2.43146e+06    | 0               |</pre>"
      ],
      "text/plain": [
       "| 640       | 32.43s        | 2.43146e+06    | 0               |"
      ]
     },
     "metadata": {},
     "output_type": "display_data"
    },
    {
     "data": {
      "text/html": [
       "<pre>| 650       | 33.01s        | 7.20631e+06    | 0               |</pre>"
      ],
      "text/plain": [
       "| 650       | 33.01s        | 7.20631e+06    | 0               |"
      ]
     },
     "metadata": {},
     "output_type": "display_data"
    },
    {
     "data": {
      "text/html": [
       "<pre>| 660       | 33.49s        | 7.08754e+06    | 0               |</pre>"
      ],
      "text/plain": [
       "| 660       | 33.49s        | 7.08754e+06    | 0               |"
      ]
     },
     "metadata": {},
     "output_type": "display_data"
    },
    {
     "data": {
      "text/html": [
       "<pre>| 670       | 33.97s        | 7.38415e+06    | 0               |</pre>"
      ],
      "text/plain": [
       "| 670       | 33.97s        | 7.38415e+06    | 0               |"
      ]
     },
     "metadata": {},
     "output_type": "display_data"
    },
    {
     "data": {
      "text/html": [
       "<pre>| 680       | 34.46s        | 7.74942e+06    | 0               |</pre>"
      ],
      "text/plain": [
       "| 680       | 34.46s        | 7.74942e+06    | 0               |"
      ]
     },
     "metadata": {},
     "output_type": "display_data"
    },
    {
     "data": {
      "text/html": [
       "<pre>| 690       | 34.91s        | 7.38891e+06    | 0               |</pre>"
      ],
      "text/plain": [
       "| 690       | 34.91s        | 7.38891e+06    | 0               |"
      ]
     },
     "metadata": {},
     "output_type": "display_data"
    },
    {
     "data": {
      "text/html": [
       "<pre>| 700       | 35.38s        | 7.10284e+06    | 0               |</pre>"
      ],
      "text/plain": [
       "| 700       | 35.38s        | 7.10284e+06    | 0               |"
      ]
     },
     "metadata": {},
     "output_type": "display_data"
    },
    {
     "data": {
      "text/html": [
       "<pre>| 710       | 35.91s        | 7.03728e+06    | 0               |</pre>"
      ],
      "text/plain": [
       "| 710       | 35.91s        | 7.03728e+06    | 0               |"
      ]
     },
     "metadata": {},
     "output_type": "display_data"
    },
    {
     "data": {
      "text/html": [
       "<pre>| 720       | 36.44s        | 5.04986e+06    | 0               |</pre>"
      ],
      "text/plain": [
       "| 720       | 36.44s        | 5.04986e+06    | 0               |"
      ]
     },
     "metadata": {},
     "output_type": "display_data"
    },
    {
     "data": {
      "text/html": [
       "<pre>| 730       | 37.07s        | 5.14593e+06    | 0               |</pre>"
      ],
      "text/plain": [
       "| 730       | 37.07s        | 5.14593e+06    | 0               |"
      ]
     },
     "metadata": {},
     "output_type": "display_data"
    },
    {
     "data": {
      "text/html": [
       "<pre>| 740       | 37.89s        | 5.4734e+06     | 0               |</pre>"
      ],
      "text/plain": [
       "| 740       | 37.89s        | 5.4734e+06     | 0               |"
      ]
     },
     "metadata": {},
     "output_type": "display_data"
    },
    {
     "data": {
      "text/html": [
       "<pre>| 750       | 38.38s        | 5.94256e+06    | 0               |</pre>"
      ],
      "text/plain": [
       "| 750       | 38.38s        | 5.94256e+06    | 0               |"
      ]
     },
     "metadata": {},
     "output_type": "display_data"
    },
    {
     "data": {
      "text/html": [
       "<pre>| 760       | 38.88s        | 7.28176e+06    | 0               |</pre>"
      ],
      "text/plain": [
       "| 760       | 38.88s        | 7.28176e+06    | 0               |"
      ]
     },
     "metadata": {},
     "output_type": "display_data"
    },
    {
     "data": {
      "text/html": [
       "<pre>| 770       | 39.34s        | 7.02212e+06    | 0               |</pre>"
      ],
      "text/plain": [
       "| 770       | 39.34s        | 7.02212e+06    | 0               |"
      ]
     },
     "metadata": {},
     "output_type": "display_data"
    },
    {
     "data": {
      "text/html": [
       "<pre>| 780       | 39.79s        | 7.41379e+06    | 0               |</pre>"
      ],
      "text/plain": [
       "| 780       | 39.79s        | 7.41379e+06    | 0               |"
      ]
     },
     "metadata": {},
     "output_type": "display_data"
    },
    {
     "data": {
      "text/html": [
       "<pre>| 790       | 40.28s        | 6.36894e+06    | 0               |</pre>"
      ],
      "text/plain": [
       "| 790       | 40.28s        | 6.36894e+06    | 0               |"
      ]
     },
     "metadata": {},
     "output_type": "display_data"
    },
    {
     "data": {
      "text/html": [
       "<pre>| 800       | 40.79s        | 6.97453e+06    | 0               |</pre>"
      ],
      "text/plain": [
       "| 800       | 40.79s        | 6.97453e+06    | 0               |"
      ]
     },
     "metadata": {},
     "output_type": "display_data"
    },
    {
     "data": {
      "text/html": [
       "<pre>| 810       | 41.26s        | 6.87173e+06    | 0               |</pre>"
      ],
      "text/plain": [
       "| 810       | 41.26s        | 6.87173e+06    | 0               |"
      ]
     },
     "metadata": {},
     "output_type": "display_data"
    },
    {
     "data": {
      "text/html": [
       "<pre>| 820       | 41.73s        | 7.31284e+06    | 0               |</pre>"
      ],
      "text/plain": [
       "| 820       | 41.73s        | 7.31284e+06    | 0               |"
      ]
     },
     "metadata": {},
     "output_type": "display_data"
    },
    {
     "data": {
      "text/html": [
       "<pre>| 830       | 42.24s        | 7.01752e+06    | 0               |</pre>"
      ],
      "text/plain": [
       "| 830       | 42.24s        | 7.01752e+06    | 0               |"
      ]
     },
     "metadata": {},
     "output_type": "display_data"
    },
    {
     "data": {
      "text/html": [
       "<pre>| 840       | 42.79s        | 7.26648e+06    | 0               |</pre>"
      ],
      "text/plain": [
       "| 840       | 42.79s        | 7.26648e+06    | 0               |"
      ]
     },
     "metadata": {},
     "output_type": "display_data"
    },
    {
     "data": {
      "text/html": [
       "<pre>| 850       | 43.26s        | 7.21006e+06    | 0               |</pre>"
      ],
      "text/plain": [
       "| 850       | 43.26s        | 7.21006e+06    | 0               |"
      ]
     },
     "metadata": {},
     "output_type": "display_data"
    },
    {
     "data": {
      "text/html": [
       "<pre>| 860       | 43.75s        | 7.14666e+06    | 0               |</pre>"
      ],
      "text/plain": [
       "| 860       | 43.75s        | 7.14666e+06    | 0               |"
      ]
     },
     "metadata": {},
     "output_type": "display_data"
    },
    {
     "data": {
      "text/html": [
       "<pre>| 870       | 44.22s        | 7.60772e+06    | 0               |</pre>"
      ],
      "text/plain": [
       "| 870       | 44.22s        | 7.60772e+06    | 0               |"
      ]
     },
     "metadata": {},
     "output_type": "display_data"
    },
    {
     "data": {
      "text/html": [
       "<pre>| 880       | 44.72s        | 7.06075e+06    | 0               |</pre>"
      ],
      "text/plain": [
       "| 880       | 44.72s        | 7.06075e+06    | 0               |"
      ]
     },
     "metadata": {},
     "output_type": "display_data"
    },
    {
     "data": {
      "text/html": [
       "<pre>| 890       | 45.17s        | 7.51366e+06    | 0               |</pre>"
      ],
      "text/plain": [
       "| 890       | 45.17s        | 7.51366e+06    | 0               |"
      ]
     },
     "metadata": {},
     "output_type": "display_data"
    },
    {
     "data": {
      "text/html": [
       "<pre>| 900       | 45.63s        | 7.48929e+06    | 0               |</pre>"
      ],
      "text/plain": [
       "| 900       | 45.63s        | 7.48929e+06    | 0               |"
      ]
     },
     "metadata": {},
     "output_type": "display_data"
    },
    {
     "data": {
      "text/html": [
       "<pre>| 910       | 46.08s        | 6.65027e+06    | 0               |</pre>"
      ],
      "text/plain": [
       "| 910       | 46.08s        | 6.65027e+06    | 0               |"
      ]
     },
     "metadata": {},
     "output_type": "display_data"
    },
    {
     "data": {
      "text/html": [
       "<pre>| 920       | 46.56s        | 7.13516e+06    | 0               |</pre>"
      ],
      "text/plain": [
       "| 920       | 46.56s        | 7.13516e+06    | 0               |"
      ]
     },
     "metadata": {},
     "output_type": "display_data"
    },
    {
     "data": {
      "text/html": [
       "<pre>| 930       | 47.01s        | 7.61906e+06    | 0               |</pre>"
      ],
      "text/plain": [
       "| 930       | 47.01s        | 7.61906e+06    | 0               |"
      ]
     },
     "metadata": {},
     "output_type": "display_data"
    },
    {
     "data": {
      "text/html": [
       "<pre>| 940       | 47.46s        | 7.24431e+06    | 0               |</pre>"
      ],
      "text/plain": [
       "| 940       | 47.46s        | 7.24431e+06    | 0               |"
      ]
     },
     "metadata": {},
     "output_type": "display_data"
    },
    {
     "data": {
      "text/html": [
       "<pre>| 950       | 47.92s        | 7.31284e+06    | 0               |</pre>"
      ],
      "text/plain": [
       "| 950       | 47.92s        | 7.31284e+06    | 0               |"
      ]
     },
     "metadata": {},
     "output_type": "display_data"
    },
    {
     "data": {
      "text/html": [
       "<pre>| 960       | 48.41s        | 6.26004e+06    | 0               |</pre>"
      ],
      "text/plain": [
       "| 960       | 48.41s        | 6.26004e+06    | 0               |"
      ]
     },
     "metadata": {},
     "output_type": "display_data"
    },
    {
     "data": {
      "text/html": [
       "<pre>| 970       | 48.90s        | 6.6727e+06     | 0               |</pre>"
      ],
      "text/plain": [
       "| 970       | 48.90s        | 6.6727e+06     | 0               |"
      ]
     },
     "metadata": {},
     "output_type": "display_data"
    },
    {
     "data": {
      "text/html": [
       "<pre>| 980       | 49.39s        | 6.35822e+06    | 0               |</pre>"
      ],
      "text/plain": [
       "| 980       | 49.39s        | 6.35822e+06    | 0               |"
      ]
     },
     "metadata": {},
     "output_type": "display_data"
    },
    {
     "data": {
      "text/html": [
       "<pre>| 990       | 49.87s        | 7.27284e+06    | 0               |</pre>"
      ],
      "text/plain": [
       "| 990       | 49.87s        | 7.27284e+06    | 0               |"
      ]
     },
     "metadata": {},
     "output_type": "display_data"
    },
    {
     "data": {
      "text/html": [
       "<pre>| 1000      | 50.36s        | 5.38605e+06    | 0               |</pre>"
      ],
      "text/plain": [
       "| 1000      | 50.36s        | 5.38605e+06    | 0               |"
      ]
     },
     "metadata": {},
     "output_type": "display_data"
    },
    {
     "data": {
      "text/html": [
       "<pre>| 1010      | 50.85s        | 7.40405e+06    | 0               |</pre>"
      ],
      "text/plain": [
       "| 1010      | 50.85s        | 7.40405e+06    | 0               |"
      ]
     },
     "metadata": {},
     "output_type": "display_data"
    },
    {
     "data": {
      "text/html": [
       "<pre>| 1020      | 51.33s        | 6.69419e+06    | 0               |</pre>"
      ],
      "text/plain": [
       "| 1020      | 51.33s        | 6.69419e+06    | 0               |"
      ]
     },
     "metadata": {},
     "output_type": "display_data"
    },
    {
     "data": {
      "text/html": [
       "<pre>| 1030      | 51.80s        | 7.34094e+06    | 0               |</pre>"
      ],
      "text/plain": [
       "| 1030      | 51.80s        | 7.34094e+06    | 0               |"
      ]
     },
     "metadata": {},
     "output_type": "display_data"
    },
    {
     "data": {
      "text/html": [
       "<pre>| 1040      | 52.25s        | 6.90542e+06    | 0               |</pre>"
      ],
      "text/plain": [
       "| 1040      | 52.25s        | 6.90542e+06    | 0               |"
      ]
     },
     "metadata": {},
     "output_type": "display_data"
    },
    {
     "data": {
      "text/html": [
       "<pre>| 1050      | 52.74s        | 6.90887e+06    | 0               |</pre>"
      ],
      "text/plain": [
       "| 1050      | 52.74s        | 6.90887e+06    | 0               |"
      ]
     },
     "metadata": {},
     "output_type": "display_data"
    },
    {
     "data": {
      "text/html": [
       "<pre>| 1060      | 53.19s        | 7.64341e+06    | 0               |</pre>"
      ],
      "text/plain": [
       "| 1060      | 53.19s        | 7.64341e+06    | 0               |"
      ]
     },
     "metadata": {},
     "output_type": "display_data"
    },
    {
     "data": {
      "text/html": [
       "<pre>| 1070      | 53.64s        | 7.53666e+06    | 0               |</pre>"
      ],
      "text/plain": [
       "| 1070      | 53.64s        | 7.53666e+06    | 0               |"
      ]
     },
     "metadata": {},
     "output_type": "display_data"
    },
    {
     "data": {
      "text/html": [
       "<pre>| 1080      | 54.10s        | 7.44167e+06    | 0               |</pre>"
      ],
      "text/plain": [
       "| 1080      | 54.10s        | 7.44167e+06    | 0               |"
      ]
     },
     "metadata": {},
     "output_type": "display_data"
    },
    {
     "data": {
      "text/html": [
       "<pre>| 1090      | 54.59s        | 6.73693e+06    | 0               |</pre>"
      ],
      "text/plain": [
       "| 1090      | 54.59s        | 6.73693e+06    | 0               |"
      ]
     },
     "metadata": {},
     "output_type": "display_data"
    },
    {
     "data": {
      "text/html": [
       "<pre>| 1100      | 55.05s        | 7.68227e+06    | 0               |</pre>"
      ],
      "text/plain": [
       "| 1100      | 55.05s        | 7.68227e+06    | 0               |"
      ]
     },
     "metadata": {},
     "output_type": "display_data"
    },
    {
     "data": {
      "text/html": [
       "<pre>| 1110      | 55.50s        | 7.04847e+06    | 0               |</pre>"
      ],
      "text/plain": [
       "| 1110      | 55.50s        | 7.04847e+06    | 0               |"
      ]
     },
     "metadata": {},
     "output_type": "display_data"
    },
    {
     "data": {
      "text/html": [
       "<pre>| 1120      | 55.96s        | 7.45837e+06    | 0               |</pre>"
      ],
      "text/plain": [
       "| 1120      | 55.96s        | 7.45837e+06    | 0               |"
      ]
     },
     "metadata": {},
     "output_type": "display_data"
    },
    {
     "data": {
      "text/html": [
       "<pre>| 1130      | 56.43s        | 7.46624e+06    | 0               |</pre>"
      ],
      "text/plain": [
       "| 1130      | 56.43s        | 7.46624e+06    | 0               |"
      ]
     },
     "metadata": {},
     "output_type": "display_data"
    },
    {
     "data": {
      "text/html": [
       "<pre>| 1140      | 56.89s        | 6.93785e+06    | 0               |</pre>"
      ],
      "text/plain": [
       "| 1140      | 56.89s        | 6.93785e+06    | 0               |"
      ]
     },
     "metadata": {},
     "output_type": "display_data"
    },
    {
     "data": {
      "text/html": [
       "<pre>| 1150      | 57.34s        | 7.45703e+06    | 0               |</pre>"
      ],
      "text/plain": [
       "| 1150      | 57.34s        | 7.45703e+06    | 0               |"
      ]
     },
     "metadata": {},
     "output_type": "display_data"
    },
    {
     "data": {
      "text/html": [
       "<pre>| 1160      | 57.80s        | 7.49098e+06    | 0               |</pre>"
      ],
      "text/plain": [
       "| 1160      | 57.80s        | 7.49098e+06    | 0               |"
      ]
     },
     "metadata": {},
     "output_type": "display_data"
    },
    {
     "data": {
      "text/html": [
       "<pre>| 1170      | 58.35s        | 5.94086e+06    | 0               |</pre>"
      ],
      "text/plain": [
       "| 1170      | 58.35s        | 5.94086e+06    | 0               |"
      ]
     },
     "metadata": {},
     "output_type": "display_data"
    },
    {
     "data": {
      "text/html": [
       "<pre>| 1180      | 58.82s        | 7.27555e+06    | 0               |</pre>"
      ],
      "text/plain": [
       "| 1180      | 58.82s        | 7.27555e+06    | 0               |"
      ]
     },
     "metadata": {},
     "output_type": "display_data"
    },
    {
     "data": {
      "text/html": [
       "<pre>| 1190      | 59.30s        | 7.0291e+06     | 0               |</pre>"
      ],
      "text/plain": [
       "| 1190      | 59.30s        | 7.0291e+06     | 0               |"
      ]
     },
     "metadata": {},
     "output_type": "display_data"
    },
    {
     "data": {
      "text/html": [
       "<pre>| 1200      | 59.77s        | 7.43219e+06    | 0               |</pre>"
      ],
      "text/plain": [
       "| 1200      | 59.77s        | 7.43219e+06    | 0               |"
      ]
     },
     "metadata": {},
     "output_type": "display_data"
    },
    {
     "data": {
      "text/html": [
       "<pre>| 1210      | 1m 0s         | 7.26759e+06    | 0               |</pre>"
      ],
      "text/plain": [
       "| 1210      | 1m 0s         | 7.26759e+06    | 0               |"
      ]
     },
     "metadata": {},
     "output_type": "display_data"
    },
    {
     "data": {
      "text/html": [
       "<pre>| 1220      | 1m 0s         | 7.29935e+06    | 0               |</pre>"
      ],
      "text/plain": [
       "| 1220      | 1m 0s         | 7.29935e+06    | 0               |"
      ]
     },
     "metadata": {},
     "output_type": "display_data"
    },
    {
     "data": {
      "text/html": [
       "<pre>| 1230      | 1m 1s         | 7.39039e+06    | 0               |</pre>"
      ],
      "text/plain": [
       "| 1230      | 1m 1s         | 7.39039e+06    | 0               |"
      ]
     },
     "metadata": {},
     "output_type": "display_data"
    },
    {
     "data": {
      "text/html": [
       "<pre>| 1240      | 1m 1s         | 7.15558e+06    | 0               |</pre>"
      ],
      "text/plain": [
       "| 1240      | 1m 1s         | 7.15558e+06    | 0               |"
      ]
     },
     "metadata": {},
     "output_type": "display_data"
    },
    {
     "data": {
      "text/html": [
       "<pre>| 1250      | 1m 2s         | 6.51652e+06    | 0               |</pre>"
      ],
      "text/plain": [
       "| 1250      | 1m 2s         | 6.51652e+06    | 0               |"
      ]
     },
     "metadata": {},
     "output_type": "display_data"
    },
    {
     "data": {
      "text/html": [
       "<pre>| 1260      | 1m 2s         | 7.07894e+06    | 0               |</pre>"
      ],
      "text/plain": [
       "| 1260      | 1m 2s         | 7.07894e+06    | 0               |"
      ]
     },
     "metadata": {},
     "output_type": "display_data"
    },
    {
     "data": {
      "text/html": [
       "<pre>| 1270      | 1m 3s         | 8.02189e+06    | 0               |</pre>"
      ],
      "text/plain": [
       "| 1270      | 1m 3s         | 8.02189e+06    | 0               |"
      ]
     },
     "metadata": {},
     "output_type": "display_data"
    },
    {
     "data": {
      "text/html": [
       "<pre>| 1280      | 1m 3s         | 7.38087e+06    | 0               |</pre>"
      ],
      "text/plain": [
       "| 1280      | 1m 3s         | 7.38087e+06    | 0               |"
      ]
     },
     "metadata": {},
     "output_type": "display_data"
    },
    {
     "data": {
      "text/html": [
       "<pre>| 1290      | 1m 3s         | 7.39762e+06    | 0               |</pre>"
      ],
      "text/plain": [
       "| 1290      | 1m 3s         | 7.39762e+06    | 0               |"
      ]
     },
     "metadata": {},
     "output_type": "display_data"
    },
    {
     "data": {
      "text/html": [
       "<pre>| 1300      | 1m 4s         | 7.5966e+06     | 0               |</pre>"
      ],
      "text/plain": [
       "| 1300      | 1m 4s         | 7.5966e+06     | 0               |"
      ]
     },
     "metadata": {},
     "output_type": "display_data"
    },
    {
     "data": {
      "text/html": [
       "<pre>| 1310      | 1m 4s         | 6.55856e+06    | 0               |</pre>"
      ],
      "text/plain": [
       "| 1310      | 1m 4s         | 6.55856e+06    | 0               |"
      ]
     },
     "metadata": {},
     "output_type": "display_data"
    },
    {
     "data": {
      "text/html": [
       "<pre>| 1320      | 1m 5s         | 7.41958e+06    | 0               |</pre>"
      ],
      "text/plain": [
       "| 1320      | 1m 5s         | 7.41958e+06    | 0               |"
      ]
     },
     "metadata": {},
     "output_type": "display_data"
    },
    {
     "data": {
      "text/html": [
       "<pre>| 1330      | 1m 5s         | 6.9496e+06     | 0               |</pre>"
      ],
      "text/plain": [
       "| 1330      | 1m 5s         | 6.9496e+06     | 0               |"
      ]
     },
     "metadata": {},
     "output_type": "display_data"
    },
    {
     "data": {
      "text/html": [
       "<pre>| 1340      | 1m 6s         | 7.52199e+06    | 0               |</pre>"
      ],
      "text/plain": [
       "| 1340      | 1m 6s         | 7.52199e+06    | 0               |"
      ]
     },
     "metadata": {},
     "output_type": "display_data"
    },
    {
     "data": {
      "text/html": [
       "<pre>| 1350      | 1m 6s         | 7.58118e+06    | 0               |</pre>"
      ],
      "text/plain": [
       "| 1350      | 1m 6s         | 7.58118e+06    | 0               |"
      ]
     },
     "metadata": {},
     "output_type": "display_data"
    },
    {
     "data": {
      "text/html": [
       "<pre>| 1360      | 1m 7s         | 7.48811e+06    | 0               |</pre>"
      ],
      "text/plain": [
       "| 1360      | 1m 7s         | 7.48811e+06    | 0               |"
      ]
     },
     "metadata": {},
     "output_type": "display_data"
    },
    {
     "data": {
      "text/html": [
       "<pre>| 1370      | 1m 7s         | 7.38563e+06    | 0               |</pre>"
      ],
      "text/plain": [
       "| 1370      | 1m 7s         | 7.38563e+06    | 0               |"
      ]
     },
     "metadata": {},
     "output_type": "display_data"
    },
    {
     "data": {
      "text/html": [
       "<pre>| 1380      | 1m 8s         | 7.36713e+06    | 0               |</pre>"
      ],
      "text/plain": [
       "| 1380      | 1m 8s         | 7.36713e+06    | 0               |"
      ]
     },
     "metadata": {},
     "output_type": "display_data"
    },
    {
     "data": {
      "text/html": [
       "<pre>| 1390      | 1m 8s         | 7.07412e+06    | 0               |</pre>"
      ],
      "text/plain": [
       "| 1390      | 1m 8s         | 7.07412e+06    | 0               |"
      ]
     },
     "metadata": {},
     "output_type": "display_data"
    },
    {
     "data": {
      "text/html": [
       "<pre>| 1400      | 1m 9s         | 7.42953e+06    | 0               |</pre>"
      ],
      "text/plain": [
       "| 1400      | 1m 9s         | 7.42953e+06    | 0               |"
      ]
     },
     "metadata": {},
     "output_type": "display_data"
    },
    {
     "data": {
      "text/html": [
       "<pre>| 1410      | 1m 9s         | 7.28639e+06    | 0               |</pre>"
      ],
      "text/plain": [
       "| 1410      | 1m 9s         | 7.28639e+06    | 0               |"
      ]
     },
     "metadata": {},
     "output_type": "display_data"
    },
    {
     "data": {
      "text/html": [
       "<pre>| 1420      | 1m 9s         | 7.59521e+06    | 0               |</pre>"
      ],
      "text/plain": [
       "| 1420      | 1m 9s         | 7.59521e+06    | 0               |"
      ]
     },
     "metadata": {},
     "output_type": "display_data"
    },
    {
     "data": {
      "text/html": [
       "<pre>| 1430      | 1m 10s        | 7.41049e+06    | 0               |</pre>"
      ],
      "text/plain": [
       "| 1430      | 1m 10s        | 7.41049e+06    | 0               |"
      ]
     },
     "metadata": {},
     "output_type": "display_data"
    },
    {
     "data": {
      "text/html": [
       "<pre>| 1440      | 1m 10s        | 7.54933e+06    | 0               |</pre>"
      ],
      "text/plain": [
       "| 1440      | 1m 10s        | 7.54933e+06    | 0               |"
      ]
     },
     "metadata": {},
     "output_type": "display_data"
    },
    {
     "data": {
      "text/html": [
       "<pre>| 1450      | 1m 11s        | 6.86804e+06    | 0               |</pre>"
      ],
      "text/plain": [
       "| 1450      | 1m 11s        | 6.86804e+06    | 0               |"
      ]
     },
     "metadata": {},
     "output_type": "display_data"
    },
    {
     "data": {
      "text/html": [
       "<pre>| 1460      | 1m 11s        | 7.41131e+06    | 0               |</pre>"
      ],
      "text/plain": [
       "| 1460      | 1m 11s        | 7.41131e+06    | 0               |"
      ]
     },
     "metadata": {},
     "output_type": "display_data"
    },
    {
     "data": {
      "text/html": [
       "<pre>| 1470      | 1m 12s        | 7.26601e+06    | 0               |</pre>"
      ],
      "text/plain": [
       "| 1470      | 1m 12s        | 7.26601e+06    | 0               |"
      ]
     },
     "metadata": {},
     "output_type": "display_data"
    },
    {
     "data": {
      "text/html": [
       "<pre>| 1480      | 1m 12s        | 7.13485e+06    | 0               |</pre>"
      ],
      "text/plain": [
       "| 1480      | 1m 12s        | 7.13485e+06    | 0               |"
      ]
     },
     "metadata": {},
     "output_type": "display_data"
    },
    {
     "data": {
      "text/html": [
       "<pre>| 1490      | 1m 13s        | 7.78992e+06    | 0               |</pre>"
      ],
      "text/plain": [
       "| 1490      | 1m 13s        | 7.78992e+06    | 0               |"
      ]
     },
     "metadata": {},
     "output_type": "display_data"
    },
    {
     "data": {
      "text/html": [
       "<pre>| 1500      | 1m 13s        | 7.40059e+06    | 0               |</pre>"
      ],
      "text/plain": [
       "| 1500      | 1m 13s        | 7.40059e+06    | 0               |"
      ]
     },
     "metadata": {},
     "output_type": "display_data"
    },
    {
     "data": {
      "text/html": [
       "<pre>| 1510      | 1m 14s        | 7.12277e+06    | 0               |</pre>"
      ],
      "text/plain": [
       "| 1510      | 1m 14s        | 7.12277e+06    | 0               |"
      ]
     },
     "metadata": {},
     "output_type": "display_data"
    },
    {
     "data": {
      "text/html": [
       "<pre>| 1520      | 1m 14s        | 6.97804e+06    | 0               |</pre>"
      ],
      "text/plain": [
       "| 1520      | 1m 14s        | 6.97804e+06    | 0               |"
      ]
     },
     "metadata": {},
     "output_type": "display_data"
    },
    {
     "data": {
      "text/html": [
       "<pre>| 1530      | 1m 14s        | 7.43119e+06    | 0               |</pre>"
      ],
      "text/plain": [
       "| 1530      | 1m 14s        | 7.43119e+06    | 0               |"
      ]
     },
     "metadata": {},
     "output_type": "display_data"
    },
    {
     "data": {
      "text/html": [
       "<pre>| 1540      | 1m 15s        | 7.01086e+06    | 0               |</pre>"
      ],
      "text/plain": [
       "| 1540      | 1m 15s        | 7.01086e+06    | 0               |"
      ]
     },
     "metadata": {},
     "output_type": "display_data"
    },
    {
     "data": {
      "text/html": [
       "<pre>| 1550      | 1m 15s        | 7.00407e+06    | 0               |</pre>"
      ],
      "text/plain": [
       "| 1550      | 1m 15s        | 7.00407e+06    | 0               |"
      ]
     },
     "metadata": {},
     "output_type": "display_data"
    },
    {
     "data": {
      "text/html": [
       "<pre>| 1560      | 1m 16s        | 7.19041e+06    | 0               |</pre>"
      ],
      "text/plain": [
       "| 1560      | 1m 16s        | 7.19041e+06    | 0               |"
      ]
     },
     "metadata": {},
     "output_type": "display_data"
    },
    {
     "data": {
      "text/html": [
       "<pre>| 1570      | 1m 16s        | 7.00038e+06    | 0               |</pre>"
      ],
      "text/plain": [
       "| 1570      | 1m 16s        | 7.00038e+06    | 0               |"
      ]
     },
     "metadata": {},
     "output_type": "display_data"
    },
    {
     "data": {
      "text/html": [
       "<pre>| 1580      | 1m 17s        | 6.80575e+06    | 0               |</pre>"
      ],
      "text/plain": [
       "| 1580      | 1m 17s        | 6.80575e+06    | 0               |"
      ]
     },
     "metadata": {},
     "output_type": "display_data"
    },
    {
     "data": {
      "text/html": [
       "<pre>| 1590      | 1m 17s        | 7.40306e+06    | 0               |</pre>"
      ],
      "text/plain": [
       "| 1590      | 1m 17s        | 7.40306e+06    | 0               |"
      ]
     },
     "metadata": {},
     "output_type": "display_data"
    },
    {
     "data": {
      "text/html": [
       "<pre>| 1600      | 1m 18s        | 7.52574e+06    | 0               |</pre>"
      ],
      "text/plain": [
       "| 1600      | 1m 18s        | 7.52574e+06    | 0               |"
      ]
     },
     "metadata": {},
     "output_type": "display_data"
    },
    {
     "data": {
      "text/html": [
       "<pre>| 1610      | 1m 18s        | 5.1291e+06     | 0               |</pre>"
      ],
      "text/plain": [
       "| 1610      | 1m 18s        | 5.1291e+06     | 0               |"
      ]
     },
     "metadata": {},
     "output_type": "display_data"
    },
    {
     "data": {
      "text/html": [
       "<pre>| 1620      | 1m 19s        | 6.51562e+06    | 0               |</pre>"
      ],
      "text/plain": [
       "| 1620      | 1m 19s        | 6.51562e+06    | 0               |"
      ]
     },
     "metadata": {},
     "output_type": "display_data"
    },
    {
     "data": {
      "text/html": [
       "<pre>| 1630      | 1m 19s        | 7.02167e+06    | 0               |</pre>"
      ],
      "text/plain": [
       "| 1630      | 1m 19s        | 7.02167e+06    | 0               |"
      ]
     },
     "metadata": {},
     "output_type": "display_data"
    },
    {
     "data": {
      "text/html": [
       "<pre>| 1640      | 1m 20s        | 7.51281e+06    | 0               |</pre>"
      ],
      "text/plain": [
       "| 1640      | 1m 20s        | 7.51281e+06    | 0               |"
      ]
     },
     "metadata": {},
     "output_type": "display_data"
    },
    {
     "data": {
      "text/html": [
       "<pre>| 1650      | 1m 20s        | 7.37776e+06    | 0               |</pre>"
      ],
      "text/plain": [
       "| 1650      | 1m 20s        | 7.37776e+06    | 0               |"
      ]
     },
     "metadata": {},
     "output_type": "display_data"
    },
    {
     "data": {
      "text/html": [
       "<pre>| 1660      | 1m 21s        | 6.73529e+06    | 0               |</pre>"
      ],
      "text/plain": [
       "| 1660      | 1m 21s        | 6.73529e+06    | 0               |"
      ]
     },
     "metadata": {},
     "output_type": "display_data"
    },
    {
     "data": {
      "text/html": [
       "<pre>| 1670      | 1m 21s        | 7.23422e+06    | 0               |</pre>"
      ],
      "text/plain": [
       "| 1670      | 1m 21s        | 7.23422e+06    | 0               |"
      ]
     },
     "metadata": {},
     "output_type": "display_data"
    },
    {
     "data": {
      "text/html": [
       "<pre>| 1680      | 1m 22s        | 7.11866e+06    | 0               |</pre>"
      ],
      "text/plain": [
       "| 1680      | 1m 22s        | 7.11866e+06    | 0               |"
      ]
     },
     "metadata": {},
     "output_type": "display_data"
    },
    {
     "data": {
      "text/html": [
       "<pre>| 1690      | 1m 22s        | 7.14206e+06    | 0               |</pre>"
      ],
      "text/plain": [
       "| 1690      | 1m 22s        | 7.14206e+06    | 0               |"
      ]
     },
     "metadata": {},
     "output_type": "display_data"
    },
    {
     "data": {
      "text/html": [
       "<pre>| 1700      | 1m 22s        | 6.77096e+06    | 0               |</pre>"
      ],
      "text/plain": [
       "| 1700      | 1m 22s        | 6.77096e+06    | 0               |"
      ]
     },
     "metadata": {},
     "output_type": "display_data"
    },
    {
     "data": {
      "text/html": [
       "<pre>| 1710      | 1m 23s        | 7.002e+06      | 0               |</pre>"
      ],
      "text/plain": [
       "| 1710      | 1m 23s        | 7.002e+06      | 0               |"
      ]
     },
     "metadata": {},
     "output_type": "display_data"
    },
    {
     "data": {
      "text/html": [
       "<pre>| 1720      | 1m 23s        | 7.87667e+06    | 0               |</pre>"
      ],
      "text/plain": [
       "| 1720      | 1m 23s        | 7.87667e+06    | 0               |"
      ]
     },
     "metadata": {},
     "output_type": "display_data"
    },
    {
     "data": {
      "text/html": [
       "<pre>| 1730      | 1m 24s        | 6.8824e+06     | 0               |</pre>"
      ],
      "text/plain": [
       "| 1730      | 1m 24s        | 6.8824e+06     | 0               |"
      ]
     },
     "metadata": {},
     "output_type": "display_data"
    },
    {
     "data": {
      "text/html": [
       "<pre>| 1740      | 1m 24s        | 6.72738e+06    | 0               |</pre>"
      ],
      "text/plain": [
       "| 1740      | 1m 24s        | 6.72738e+06    | 0               |"
      ]
     },
     "metadata": {},
     "output_type": "display_data"
    },
    {
     "data": {
      "text/html": [
       "<pre>| 1750      | 1m 25s        | 7.33996e+06    | 0               |</pre>"
      ],
      "text/plain": [
       "| 1750      | 1m 25s        | 7.33996e+06    | 0               |"
      ]
     },
     "metadata": {},
     "output_type": "display_data"
    },
    {
     "data": {
      "text/html": [
       "<pre>| 1760      | 1m 25s        | 6.50377e+06    | 0               |</pre>"
      ],
      "text/plain": [
       "| 1760      | 1m 25s        | 6.50377e+06    | 0               |"
      ]
     },
     "metadata": {},
     "output_type": "display_data"
    },
    {
     "data": {
      "text/html": [
       "<pre>| 1770      | 1m 26s        | 7.13439e+06    | 0               |</pre>"
      ],
      "text/plain": [
       "| 1770      | 1m 26s        | 7.13439e+06    | 0               |"
      ]
     },
     "metadata": {},
     "output_type": "display_data"
    },
    {
     "data": {
      "text/html": [
       "<pre>| 1780      | 1m 26s        | 5.1997e+06     | 0               |</pre>"
      ],
      "text/plain": [
       "| 1780      | 1m 26s        | 5.1997e+06     | 0               |"
      ]
     },
     "metadata": {},
     "output_type": "display_data"
    },
    {
     "data": {
      "text/html": [
       "<pre>| 1790      | 1m 27s        | 7.37367e+06    | 0               |</pre>"
      ],
      "text/plain": [
       "| 1790      | 1m 27s        | 7.37367e+06    | 0               |"
      ]
     },
     "metadata": {},
     "output_type": "display_data"
    },
    {
     "data": {
      "text/html": [
       "<pre>| 1800      | 1m 27s        | 7.52574e+06    | 0               |</pre>"
      ],
      "text/plain": [
       "| 1800      | 1m 27s        | 7.52574e+06    | 0               |"
      ]
     },
     "metadata": {},
     "output_type": "display_data"
    },
    {
     "data": {
      "text/html": [
       "<pre>| 1810      | 1m 28s        | 6.73611e+06    | 0               |</pre>"
      ],
      "text/plain": [
       "| 1810      | 1m 28s        | 6.73611e+06    | 0               |"
      ]
     },
     "metadata": {},
     "output_type": "display_data"
    },
    {
     "data": {
      "text/html": [
       "<pre>| 1820      | 1m 28s        | 7.21131e+06    | 0               |</pre>"
      ],
      "text/plain": [
       "| 1820      | 1m 28s        | 7.21131e+06    | 0               |"
      ]
     },
     "metadata": {},
     "output_type": "display_data"
    },
    {
     "data": {
      "text/html": [
       "<pre>| 1830      | 1m 29s        | 7.43435e+06    | 0               |</pre>"
      ],
      "text/plain": [
       "| 1830      | 1m 29s        | 7.43435e+06    | 0               |"
      ]
     },
     "metadata": {},
     "output_type": "display_data"
    },
    {
     "data": {
      "text/html": [
       "<pre>| 1840      | 1m 29s        | 6.48866e+06    | 0               |</pre>"
      ],
      "text/plain": [
       "| 1840      | 1m 29s        | 6.48866e+06    | 0               |"
      ]
     },
     "metadata": {},
     "output_type": "display_data"
    },
    {
     "data": {
      "text/html": [
       "<pre>| 1850      | 1m 30s        | 6.95891e+06    | 0               |</pre>"
      ],
      "text/plain": [
       "| 1850      | 1m 30s        | 6.95891e+06    | 0               |"
      ]
     },
     "metadata": {},
     "output_type": "display_data"
    },
    {
     "data": {
      "text/html": [
       "<pre>| 1860      | 1m 30s        | 7.21334e+06    | 0               |</pre>"
      ],
      "text/plain": [
       "| 1860      | 1m 30s        | 7.21334e+06    | 0               |"
      ]
     },
     "metadata": {},
     "output_type": "display_data"
    },
    {
     "data": {
      "text/html": [
       "<pre>| 1870      | 1m 31s        | 6.89768e+06    | 0               |</pre>"
      ],
      "text/plain": [
       "| 1870      | 1m 31s        | 6.89768e+06    | 0               |"
      ]
     },
     "metadata": {},
     "output_type": "display_data"
    },
    {
     "data": {
      "text/html": [
       "<pre>| 1880      | 1m 31s        | 6.86081e+06    | 0               |</pre>"
      ],
      "text/plain": [
       "| 1880      | 1m 31s        | 6.86081e+06    | 0               |"
      ]
     },
     "metadata": {},
     "output_type": "display_data"
    },
    {
     "data": {
      "text/html": [
       "<pre>| 1890      | 1m 31s        | 7.383e+06      | 0               |</pre>"
      ],
      "text/plain": [
       "| 1890      | 1m 31s        | 7.383e+06      | 0               |"
      ]
     },
     "metadata": {},
     "output_type": "display_data"
    },
    {
     "data": {
      "text/html": [
       "<pre>| 1900      | 1m 32s        | 7.70131e+06    | 0               |</pre>"
      ],
      "text/plain": [
       "| 1900      | 1m 32s        | 7.70131e+06    | 0               |"
      ]
     },
     "metadata": {},
     "output_type": "display_data"
    },
    {
     "data": {
      "text/html": [
       "<pre>| 1910      | 1m 32s        | 5.61874e+06    | 0               |</pre>"
      ],
      "text/plain": [
       "| 1910      | 1m 32s        | 5.61874e+06    | 0               |"
      ]
     },
     "metadata": {},
     "output_type": "display_data"
    },
    {
     "data": {
      "text/html": [
       "<pre>| 1920      | 1m 33s        | 7.49503e+06    | 0               |</pre>"
      ],
      "text/plain": [
       "| 1920      | 1m 33s        | 7.49503e+06    | 0               |"
      ]
     },
     "metadata": {},
     "output_type": "display_data"
    },
    {
     "data": {
      "text/html": [
       "<pre>| 1930      | 1m 33s        | 6.84922e+06    | 0               |</pre>"
      ],
      "text/plain": [
       "| 1930      | 1m 33s        | 6.84922e+06    | 0               |"
      ]
     },
     "metadata": {},
     "output_type": "display_data"
    },
    {
     "data": {
      "text/html": [
       "<pre>| 1940      | 1m 34s        | 7.17288e+06    | 0               |</pre>"
      ],
      "text/plain": [
       "| 1940      | 1m 34s        | 7.17288e+06    | 0               |"
      ]
     },
     "metadata": {},
     "output_type": "display_data"
    },
    {
     "data": {
      "text/html": [
       "<pre>| 1950      | 1m 34s        | 7.55894e+06    | 0               |</pre>"
      ],
      "text/plain": [
       "| 1950      | 1m 34s        | 7.55894e+06    | 0               |"
      ]
     },
     "metadata": {},
     "output_type": "display_data"
    },
    {
     "data": {
      "text/html": [
       "<pre>| 1960      | 1m 35s        | 7.48996e+06    | 0               |</pre>"
      ],
      "text/plain": [
       "| 1960      | 1m 35s        | 7.48996e+06    | 0               |"
      ]
     },
     "metadata": {},
     "output_type": "display_data"
    },
    {
     "data": {
      "text/html": [
       "<pre>| 1970      | 1m 35s        | 7.48473e+06    | 0               |</pre>"
      ],
      "text/plain": [
       "| 1970      | 1m 35s        | 7.48473e+06    | 0               |"
      ]
     },
     "metadata": {},
     "output_type": "display_data"
    },
    {
     "data": {
      "text/html": [
       "<pre>| 1980      | 1m 36s        | 7.11043e+06    | 0               |</pre>"
      ],
      "text/plain": [
       "| 1980      | 1m 36s        | 7.11043e+06    | 0               |"
      ]
     },
     "metadata": {},
     "output_type": "display_data"
    },
    {
     "data": {
      "text/html": [
       "<pre>| 1990      | 1m 36s        | 7.21115e+06    | 0               |</pre>"
      ],
      "text/plain": [
       "| 1990      | 1m 36s        | 7.21115e+06    | 0               |"
      ]
     },
     "metadata": {},
     "output_type": "display_data"
    },
    {
     "data": {
      "text/html": [
       "<pre>| 2000      | 1m 37s        | 7.35425e+06    | 0               |</pre>"
      ],
      "text/plain": [
       "| 2000      | 1m 37s        | 7.35425e+06    | 0               |"
      ]
     },
     "metadata": {},
     "output_type": "display_data"
    },
    {
     "data": {
      "text/html": [
       "<pre>| 2010      | 1m 37s        | 6.9172e+06     | 0               |</pre>"
      ],
      "text/plain": [
       "| 2010      | 1m 37s        | 6.9172e+06     | 0               |"
      ]
     },
     "metadata": {},
     "output_type": "display_data"
    },
    {
     "data": {
      "text/html": [
       "<pre>| 2020      | 1m 37s        | 7.53581e+06    | 0               |</pre>"
      ],
      "text/plain": [
       "| 2020      | 1m 37s        | 7.53581e+06    | 0               |"
      ]
     },
     "metadata": {},
     "output_type": "display_data"
    },
    {
     "data": {
      "text/html": [
       "<pre>| 2030      | 1m 38s        | 7.1971e+06     | 0               |</pre>"
      ],
      "text/plain": [
       "| 2030      | 1m 38s        | 7.1971e+06     | 0               |"
      ]
     },
     "metadata": {},
     "output_type": "display_data"
    },
    {
     "data": {
      "text/html": [
       "<pre>| 2040      | 1m 38s        | 6.26311e+06    | 0               |</pre>"
      ],
      "text/plain": [
       "| 2040      | 1m 38s        | 6.26311e+06    | 0               |"
      ]
     },
     "metadata": {},
     "output_type": "display_data"
    },
    {
     "data": {
      "text/html": [
       "<pre>| 2050      | 1m 39s        | 7.88695e+06    | 0               |</pre>"
      ],
      "text/plain": [
       "| 2050      | 1m 39s        | 7.88695e+06    | 0               |"
      ]
     },
     "metadata": {},
     "output_type": "display_data"
    },
    {
     "data": {
      "text/html": [
       "<pre>| 2060      | 1m 39s        | 7.60999e+06    | 0               |</pre>"
      ],
      "text/plain": [
       "| 2060      | 1m 39s        | 7.60999e+06    | 0               |"
      ]
     },
     "metadata": {},
     "output_type": "display_data"
    },
    {
     "data": {
      "text/html": [
       "<pre>| 2070      | 1m 40s        | 7.09374e+06    | 0               |</pre>"
      ],
      "text/plain": [
       "| 2070      | 1m 40s        | 7.09374e+06    | 0               |"
      ]
     },
     "metadata": {},
     "output_type": "display_data"
    },
    {
     "data": {
      "text/html": [
       "<pre>| 2080      | 1m 40s        | 7.5836e+06     | 0               |</pre>"
      ],
      "text/plain": [
       "| 2080      | 1m 40s        | 7.5836e+06     | 0               |"
      ]
     },
     "metadata": {},
     "output_type": "display_data"
    },
    {
     "data": {
      "text/html": [
       "<pre>| 2090      | 1m 41s        | 7.09723e+06    | 0               |</pre>"
      ],
      "text/plain": [
       "| 2090      | 1m 41s        | 7.09723e+06    | 0               |"
      ]
     },
     "metadata": {},
     "output_type": "display_data"
    },
    {
     "data": {
      "text/html": [
       "<pre>| 2100      | 1m 41s        | 7.61121e+06    | 0               |</pre>"
      ],
      "text/plain": [
       "| 2100      | 1m 41s        | 7.61121e+06    | 0               |"
      ]
     },
     "metadata": {},
     "output_type": "display_data"
    },
    {
     "data": {
      "text/html": [
       "<pre>| 2110      | 1m 42s        | 7.56892e+06    | 0               |</pre>"
      ],
      "text/plain": [
       "| 2110      | 1m 42s        | 7.56892e+06    | 0               |"
      ]
     },
     "metadata": {},
     "output_type": "display_data"
    },
    {
     "data": {
      "text/html": [
       "<pre>| 2120      | 1m 42s        | 7.27173e+06    | 0               |</pre>"
      ],
      "text/plain": [
       "| 2120      | 1m 42s        | 7.27173e+06    | 0               |"
      ]
     },
     "metadata": {},
     "output_type": "display_data"
    },
    {
     "data": {
      "text/html": [
       "<pre>| 2130      | 1m 43s        | 5.71839e+06    | 0               |</pre>"
      ],
      "text/plain": [
       "| 2130      | 1m 43s        | 5.71839e+06    | 0               |"
      ]
     },
     "metadata": {},
     "output_type": "display_data"
    },
    {
     "data": {
      "text/html": [
       "<pre>| 2140      | 1m 43s        | 6.88511e+06    | 0               |</pre>"
      ],
      "text/plain": [
       "| 2140      | 1m 43s        | 6.88511e+06    | 0               |"
      ]
     },
     "metadata": {},
     "output_type": "display_data"
    },
    {
     "data": {
      "text/html": [
       "<pre>| 2150      | 1m 43s        | 7.72637e+06    | 0               |</pre>"
      ],
      "text/plain": [
       "| 2150      | 1m 43s        | 7.72637e+06    | 0               |"
      ]
     },
     "metadata": {},
     "output_type": "display_data"
    },
    {
     "data": {
      "text/html": [
       "<pre>| 2160      | 1m 44s        | 7.76789e+06    | 0               |</pre>"
      ],
      "text/plain": [
       "| 2160      | 1m 44s        | 7.76789e+06    | 0               |"
      ]
     },
     "metadata": {},
     "output_type": "display_data"
    },
    {
     "data": {
      "text/html": [
       "<pre>| 2170      | 1m 44s        | 7.65784e+06    | 0               |</pre>"
      ],
      "text/plain": [
       "| 2170      | 1m 44s        | 7.65784e+06    | 0               |"
      ]
     },
     "metadata": {},
     "output_type": "display_data"
    },
    {
     "data": {
      "text/html": [
       "<pre>| 2180      | 1m 45s        | 7.50722e+06    | 0               |</pre>"
      ],
      "text/plain": [
       "| 2180      | 1m 45s        | 7.50722e+06    | 0               |"
      ]
     },
     "metadata": {},
     "output_type": "display_data"
    },
    {
     "data": {
      "text/html": [
       "<pre>| 2190      | 1m 45s        | 7.59295e+06    | 0               |</pre>"
      ],
      "text/plain": [
       "| 2190      | 1m 45s        | 7.59295e+06    | 0               |"
      ]
     },
     "metadata": {},
     "output_type": "display_data"
    },
    {
     "data": {
      "text/html": [
       "<pre>| 2200      | 1m 46s        | 7.60111e+06    | 0               |</pre>"
      ],
      "text/plain": [
       "| 2200      | 1m 46s        | 7.60111e+06    | 0               |"
      ]
     },
     "metadata": {},
     "output_type": "display_data"
    },
    {
     "data": {
      "text/html": [
       "<pre>| 2210      | 1m 46s        | 7.63972e+06    | 0               |</pre>"
      ],
      "text/plain": [
       "| 2210      | 1m 46s        | 7.63972e+06    | 0               |"
      ]
     },
     "metadata": {},
     "output_type": "display_data"
    },
    {
     "data": {
      "text/html": [
       "<pre>| 2220      | 1m 47s        | 7.30657e+06    | 0               |</pre>"
      ],
      "text/plain": [
       "| 2220      | 1m 47s        | 7.30657e+06    | 0               |"
      ]
     },
     "metadata": {},
     "output_type": "display_data"
    },
    {
     "data": {
      "text/html": [
       "<pre>| 2230      | 1m 47s        | 7.6119e+06     | 0               |</pre>"
      ],
      "text/plain": [
       "| 2230      | 1m 47s        | 7.6119e+06     | 0               |"
      ]
     },
     "metadata": {},
     "output_type": "display_data"
    },
    {
     "data": {
      "text/html": [
       "<pre>| 2240      | 1m 47s        | 7.37563e+06    | 0               |</pre>"
      ],
      "text/plain": [
       "| 2240      | 1m 47s        | 7.37563e+06    | 0               |"
      ]
     },
     "metadata": {},
     "output_type": "display_data"
    },
    {
     "data": {
      "text/html": [
       "<pre>| 2250      | 1m 48s        | 7.34467e+06    | 0               |</pre>"
      ],
      "text/plain": [
       "| 2250      | 1m 48s        | 7.34467e+06    | 0               |"
      ]
     },
     "metadata": {},
     "output_type": "display_data"
    },
    {
     "data": {
      "text/html": [
       "<pre>| 2260      | 1m 48s        | 7.057e+06      | 0               |</pre>"
      ],
      "text/plain": [
       "| 2260      | 1m 48s        | 7.057e+06      | 0               |"
      ]
     },
     "metadata": {},
     "output_type": "display_data"
    },
    {
     "data": {
      "text/html": [
       "<pre>| 2270      | 1m 49s        | 6.28977e+06    | 0               |</pre>"
      ],
      "text/plain": [
       "| 2270      | 1m 49s        | 6.28977e+06    | 0               |"
      ]
     },
     "metadata": {},
     "output_type": "display_data"
    },
    {
     "data": {
      "text/html": [
       "<pre>| 2280      | 1m 49s        | 7.32654e+06    | 0               |</pre>"
      ],
      "text/plain": [
       "| 2280      | 1m 49s        | 7.32654e+06    | 0               |"
      ]
     },
     "metadata": {},
     "output_type": "display_data"
    },
    {
     "data": {
      "text/html": [
       "<pre>| 2290      | 1m 50s        | 7.64007e+06    | 0               |</pre>"
      ],
      "text/plain": [
       "| 2290      | 1m 50s        | 7.64007e+06    | 0               |"
      ]
     },
     "metadata": {},
     "output_type": "display_data"
    },
    {
     "data": {
      "text/html": [
       "<pre>| 2300      | 1m 50s        | 7.41561e+06    | 0               |</pre>"
      ],
      "text/plain": [
       "| 2300      | 1m 50s        | 7.41561e+06    | 0               |"
      ]
     },
     "metadata": {},
     "output_type": "display_data"
    },
    {
     "data": {
      "text/html": [
       "<pre>| 2310      | 1m 51s        | 7.2939e+06     | 0               |</pre>"
      ],
      "text/plain": [
       "| 2310      | 1m 51s        | 7.2939e+06     | 0               |"
      ]
     },
     "metadata": {},
     "output_type": "display_data"
    },
    {
     "data": {
      "text/html": [
       "<pre>| 2320      | 1m 51s        | 6.89354e+06    | 0               |</pre>"
      ],
      "text/plain": [
       "| 2320      | 1m 51s        | 6.89354e+06    | 0               |"
      ]
     },
     "metadata": {},
     "output_type": "display_data"
    },
    {
     "data": {
      "text/html": [
       "<pre>| 2330      | 1m 52s        | 7.5341e+06     | 0               |</pre>"
      ],
      "text/plain": [
       "| 2330      | 1m 52s        | 7.5341e+06     | 0               |"
      ]
     },
     "metadata": {},
     "output_type": "display_data"
    },
    {
     "data": {
      "text/html": [
       "<pre>| 2340      | 1m 52s        | 7.81482e+06    | 0               |</pre>"
      ],
      "text/plain": [
       "| 2340      | 1m 52s        | 7.81482e+06    | 0               |"
      ]
     },
     "metadata": {},
     "output_type": "display_data"
    },
    {
     "data": {
      "text/html": [
       "<pre>| 2350      | 1m 53s        | 6.12633e+06    | 0               |</pre>"
      ],
      "text/plain": [
       "| 2350      | 1m 53s        | 6.12633e+06    | 0               |"
      ]
     },
     "metadata": {},
     "output_type": "display_data"
    },
    {
     "data": {
      "text/html": [
       "<pre>| 2360      | 1m 53s        | 7.35474e+06    | 0               |</pre>"
      ],
      "text/plain": [
       "| 2360      | 1m 53s        | 7.35474e+06    | 0               |"
      ]
     },
     "metadata": {},
     "output_type": "display_data"
    },
    {
     "data": {
      "text/html": [
       "<pre>| 2370      | 1m 53s        | 6.74116e+06    | 0               |</pre>"
      ],
      "text/plain": [
       "| 2370      | 1m 53s        | 6.74116e+06    | 0               |"
      ]
     },
     "metadata": {},
     "output_type": "display_data"
    },
    {
     "data": {
      "text/html": [
       "<pre>| 2380      | 1m 54s        | 6.41602e+06    | 0               |</pre>"
      ],
      "text/plain": [
       "| 2380      | 1m 54s        | 6.41602e+06    | 0               |"
      ]
     },
     "metadata": {},
     "output_type": "display_data"
    },
    {
     "data": {
      "text/html": [
       "<pre>| 2390      | 1m 54s        | 6.50262e+06    | 0               |</pre>"
      ],
      "text/plain": [
       "| 2390      | 1m 54s        | 6.50262e+06    | 0               |"
      ]
     },
     "metadata": {},
     "output_type": "display_data"
    },
    {
     "data": {
      "text/html": [
       "<pre>| 2400      | 1m 55s        | 6.85289e+06    | 0               |</pre>"
      ],
      "text/plain": [
       "| 2400      | 1m 55s        | 6.85289e+06    | 0               |"
      ]
     },
     "metadata": {},
     "output_type": "display_data"
    },
    {
     "data": {
      "text/html": [
       "<pre>| 2410      | 1m 55s        | 7.34532e+06    | 0               |</pre>"
      ],
      "text/plain": [
       "| 2410      | 1m 55s        | 7.34532e+06    | 0               |"
      ]
     },
     "metadata": {},
     "output_type": "display_data"
    },
    {
     "data": {
      "text/html": [
       "<pre>| 2420      | 1m 56s        | 6.9662e+06     | 0               |</pre>"
      ],
      "text/plain": [
       "| 2420      | 1m 56s        | 6.9662e+06     | 0               |"
      ]
     },
     "metadata": {},
     "output_type": "display_data"
    },
    {
     "data": {
      "text/html": [
       "<pre>| 2430      | 1m 56s        | 7.44034e+06    | 0               |</pre>"
      ],
      "text/plain": [
       "| 2430      | 1m 56s        | 7.44034e+06    | 0               |"
      ]
     },
     "metadata": {},
     "output_type": "display_data"
    },
    {
     "data": {
      "text/html": [
       "<pre>| 2440      | 1m 57s        | 7.24684e+06    | 0               |</pre>"
      ],
      "text/plain": [
       "| 2440      | 1m 57s        | 7.24684e+06    | 0               |"
      ]
     },
     "metadata": {},
     "output_type": "display_data"
    },
    {
     "data": {
      "text/html": [
       "<pre>| 2450      | 1m 57s        | 6.47425e+06    | 0               |</pre>"
      ],
      "text/plain": [
       "| 2450      | 1m 57s        | 6.47425e+06    | 0               |"
      ]
     },
     "metadata": {},
     "output_type": "display_data"
    },
    {
     "data": {
      "text/html": [
       "<pre>| 2460      | 1m 58s        | 7.0669e+06     | 0               |</pre>"
      ],
      "text/plain": [
       "| 2460      | 1m 58s        | 7.0669e+06     | 0               |"
      ]
     },
     "metadata": {},
     "output_type": "display_data"
    },
    {
     "data": {
      "text/html": [
       "<pre>| 2470      | 1m 58s        | 6.81748e+06    | 0               |</pre>"
      ],
      "text/plain": [
       "| 2470      | 1m 58s        | 6.81748e+06    | 0               |"
      ]
     },
     "metadata": {},
     "output_type": "display_data"
    },
    {
     "data": {
      "text/html": [
       "<pre>| 2480      | 1m 59s        | 7.24226e+06    | 0               |</pre>"
      ],
      "text/plain": [
       "| 2480      | 1m 59s        | 7.24226e+06    | 0               |"
      ]
     },
     "metadata": {},
     "output_type": "display_data"
    },
    {
     "data": {
      "text/html": [
       "<pre>| 2490      | 1m 59s        | 6.66828e+06    | 0               |</pre>"
      ],
      "text/plain": [
       "| 2490      | 1m 59s        | 6.66828e+06    | 0               |"
      ]
     },
     "metadata": {},
     "output_type": "display_data"
    },
    {
     "data": {
      "text/html": [
       "<pre>| 2500      | 2m 0s         | 7.25206e+06    | 0               |</pre>"
      ],
      "text/plain": [
       "| 2500      | 2m 0s         | 7.25206e+06    | 0               |"
      ]
     },
     "metadata": {},
     "output_type": "display_data"
    },
    {
     "data": {
      "text/html": [
       "<pre>| 2510      | 2m 0s         | 7.45419e+06    | 0               |</pre>"
      ],
      "text/plain": [
       "| 2510      | 2m 0s         | 7.45419e+06    | 0               |"
      ]
     },
     "metadata": {},
     "output_type": "display_data"
    },
    {
     "data": {
      "text/html": [
       "<pre>| 2520      | 2m 1s         | 7.13455e+06    | 0               |</pre>"
      ],
      "text/plain": [
       "| 2520      | 2m 1s         | 7.13455e+06    | 0               |"
      ]
     },
     "metadata": {},
     "output_type": "display_data"
    },
    {
     "data": {
      "text/html": [
       "<pre>| 2530      | 2m 1s         | 6.87287e+06    | 0               |</pre>"
      ],
      "text/plain": [
       "| 2530      | 2m 1s         | 6.87287e+06    | 0               |"
      ]
     },
     "metadata": {},
     "output_type": "display_data"
    },
    {
     "data": {
      "text/html": [
       "<pre>| 2540      | 2m 2s         | 7.19477e+06    | 0               |</pre>"
      ],
      "text/plain": [
       "| 2540      | 2m 2s         | 7.19477e+06    | 0               |"
      ]
     },
     "metadata": {},
     "output_type": "display_data"
    },
    {
     "data": {
      "text/html": [
       "<pre>| 2550      | 2m 2s         | 6.35676e+06    | 0               |</pre>"
      ],
      "text/plain": [
       "| 2550      | 2m 2s         | 6.35676e+06    | 0               |"
      ]
     },
     "metadata": {},
     "output_type": "display_data"
    },
    {
     "data": {
      "text/html": [
       "<pre>| 2560      | 2m 2s         | 7.23816e+06    | 0               |</pre>"
      ],
      "text/plain": [
       "| 2560      | 2m 2s         | 7.23816e+06    | 0               |"
      ]
     },
     "metadata": {},
     "output_type": "display_data"
    },
    {
     "data": {
      "text/html": [
       "<pre>| 2570      | 2m 3s         | 7.21115e+06    | 0               |</pre>"
      ],
      "text/plain": [
       "| 2570      | 2m 3s         | 7.21115e+06    | 0               |"
      ]
     },
     "metadata": {},
     "output_type": "display_data"
    },
    {
     "data": {
      "text/html": [
       "<pre>| 2580      | 2m 3s         | 7.76553e+06    | 0               |</pre>"
      ],
      "text/plain": [
       "| 2580      | 2m 3s         | 7.76553e+06    | 0               |"
      ]
     },
     "metadata": {},
     "output_type": "display_data"
    },
    {
     "data": {
      "text/html": [
       "<pre>| 2590      | 2m 4s         | 7.04026e+06    | 0               |</pre>"
      ],
      "text/plain": [
       "| 2590      | 2m 4s         | 7.04026e+06    | 0               |"
      ]
     },
     "metadata": {},
     "output_type": "display_data"
    },
    {
     "data": {
      "text/html": [
       "<pre>| 2600      | 2m 4s         | 7.21569e+06    | 0               |</pre>"
      ],
      "text/plain": [
       "| 2600      | 2m 4s         | 7.21569e+06    | 0               |"
      ]
     },
     "metadata": {},
     "output_type": "display_data"
    },
    {
     "data": {
      "text/html": [
       "<pre>| 2610      | 2m 5s         | 7.33462e+06    | 0               |</pre>"
      ],
      "text/plain": [
       "| 2610      | 2m 5s         | 7.33462e+06    | 0               |"
      ]
     },
     "metadata": {},
     "output_type": "display_data"
    },
    {
     "data": {
      "text/html": [
       "<pre>| 2620      | 2m 5s         | 5.9967e+06     | 0               |</pre>"
      ],
      "text/plain": [
       "| 2620      | 2m 5s         | 5.9967e+06     | 0               |"
      ]
     },
     "metadata": {},
     "output_type": "display_data"
    },
    {
     "data": {
      "text/html": [
       "<pre>| 2630      | 2m 6s         | 7.60598e+06    | 0               |</pre>"
      ],
      "text/plain": [
       "| 2630      | 2m 6s         | 7.60598e+06    | 0               |"
      ]
     },
     "metadata": {},
     "output_type": "display_data"
    },
    {
     "data": {
      "text/html": [
       "<pre>| 2640      | 2m 6s         | 7.32848e+06    | 0               |</pre>"
      ],
      "text/plain": [
       "| 2640      | 2m 6s         | 7.32848e+06    | 0               |"
      ]
     },
     "metadata": {},
     "output_type": "display_data"
    },
    {
     "data": {
      "text/html": [
       "<pre>| 2650      | 2m 7s         | 5.7587e+06     | 0               |</pre>"
      ],
      "text/plain": [
       "| 2650      | 2m 7s         | 5.7587e+06     | 0               |"
      ]
     },
     "metadata": {},
     "output_type": "display_data"
    },
    {
     "data": {
      "text/html": [
       "<pre>| 2660      | 2m 7s         | 7.20038e+06    | 0               |</pre>"
      ],
      "text/plain": [
       "| 2660      | 2m 7s         | 7.20038e+06    | 0               |"
      ]
     },
     "metadata": {},
     "output_type": "display_data"
    },
    {
     "data": {
      "text/html": [
       "<pre>| 2670      | 2m 8s         | 7.38694e+06    | 0               |</pre>"
      ],
      "text/plain": [
       "| 2670      | 2m 8s         | 7.38694e+06    | 0               |"
      ]
     },
     "metadata": {},
     "output_type": "display_data"
    },
    {
     "data": {
      "text/html": [
       "<pre>| 2680      | 2m 8s         | 7.49266e+06    | 0               |</pre>"
      ],
      "text/plain": [
       "| 2680      | 2m 8s         | 7.49266e+06    | 0               |"
      ]
     },
     "metadata": {},
     "output_type": "display_data"
    },
    {
     "data": {
      "text/html": [
       "<pre>| 2690      | 2m 9s         | 7.0642e+06     | 0               |</pre>"
      ],
      "text/plain": [
       "| 2690      | 2m 9s         | 7.0642e+06     | 0               |"
      ]
     },
     "metadata": {},
     "output_type": "display_data"
    },
    {
     "data": {
      "text/html": [
       "<pre>| 2700      | 2m 9s         | 6.79004e+06    | 0               |</pre>"
      ],
      "text/plain": [
       "| 2700      | 2m 9s         | 6.79004e+06    | 0               |"
      ]
     },
     "metadata": {},
     "output_type": "display_data"
    },
    {
     "data": {
      "text/html": [
       "<pre>| 2710      | 2m 10s        | 6.31858e+06    | 0               |</pre>"
      ],
      "text/plain": [
       "| 2710      | 2m 10s        | 6.31858e+06    | 0               |"
      ]
     },
     "metadata": {},
     "output_type": "display_data"
    },
    {
     "data": {
      "text/html": [
       "<pre>| 2720      | 2m 10s        | 6.92225e+06    | 0               |</pre>"
      ],
      "text/plain": [
       "| 2720      | 2m 10s        | 6.92225e+06    | 0               |"
      ]
     },
     "metadata": {},
     "output_type": "display_data"
    },
    {
     "data": {
      "text/html": [
       "<pre>| 2730      | 2m 11s        | 7.273e+06      | 0               |</pre>"
      ],
      "text/plain": [
       "| 2730      | 2m 11s        | 7.273e+06      | 0               |"
      ]
     },
     "metadata": {},
     "output_type": "display_data"
    },
    {
     "data": {
      "text/html": [
       "<pre>| 2740      | 2m 11s        | 7.09208e+06    | 0               |</pre>"
      ],
      "text/plain": [
       "| 2740      | 2m 11s        | 7.09208e+06    | 0               |"
      ]
     },
     "metadata": {},
     "output_type": "display_data"
    },
    {
     "data": {
      "text/html": [
       "<pre>| 2750      | 2m 12s        | 7.38235e+06    | 0               |</pre>"
      ],
      "text/plain": [
       "| 2750      | 2m 12s        | 7.38235e+06    | 0               |"
      ]
     },
     "metadata": {},
     "output_type": "display_data"
    },
    {
     "data": {
      "text/html": [
       "<pre>| 2760      | 2m 12s        | 7.23029e+06    | 0               |</pre>"
      ],
      "text/plain": [
       "| 2760      | 2m 12s        | 7.23029e+06    | 0               |"
      ]
     },
     "metadata": {},
     "output_type": "display_data"
    },
    {
     "data": {
      "text/html": [
       "<pre>| 2770      | 2m 12s        | 7.42704e+06    | 0               |</pre>"
      ],
      "text/plain": [
       "| 2770      | 2m 12s        | 7.42704e+06    | 0               |"
      ]
     },
     "metadata": {},
     "output_type": "display_data"
    },
    {
     "data": {
      "text/html": [
       "<pre>| 2780      | 2m 13s        | 7.42887e+06    | 0               |</pre>"
      ],
      "text/plain": [
       "| 2780      | 2m 13s        | 7.42887e+06    | 0               |"
      ]
     },
     "metadata": {},
     "output_type": "display_data"
    },
    {
     "data": {
      "text/html": [
       "<pre>| 2790      | 2m 13s        | 7.52046e+06    | 0               |</pre>"
      ],
      "text/plain": [
       "| 2790      | 2m 13s        | 7.52046e+06    | 0               |"
      ]
     },
     "metadata": {},
     "output_type": "display_data"
    },
    {
     "data": {
      "text/html": [
       "<pre>| 2800      | 2m 14s        | 6.58519e+06    | 0               |</pre>"
      ],
      "text/plain": [
       "| 2800      | 2m 14s        | 6.58519e+06    | 0               |"
      ]
     },
     "metadata": {},
     "output_type": "display_data"
    },
    {
     "data": {
      "text/html": [
       "<pre>| 2810      | 2m 14s        | 6.96956e+06    | 0               |</pre>"
      ],
      "text/plain": [
       "| 2810      | 2m 14s        | 6.96956e+06    | 0               |"
      ]
     },
     "metadata": {},
     "output_type": "display_data"
    },
    {
     "data": {
      "text/html": [
       "<pre>| 2820      | 2m 15s        | 7.48844e+06    | 0               |</pre>"
      ],
      "text/plain": [
       "| 2820      | 2m 15s        | 7.48844e+06    | 0               |"
      ]
     },
     "metadata": {},
     "output_type": "display_data"
    },
    {
     "data": {
      "text/html": [
       "<pre>| 2830      | 2m 15s        | 7.36175e+06    | 0               |</pre>"
      ],
      "text/plain": [
       "| 2830      | 2m 15s        | 7.36175e+06    | 0               |"
      ]
     },
     "metadata": {},
     "output_type": "display_data"
    },
    {
     "data": {
      "text/html": [
       "<pre>| 2840      | 2m 16s        | 7.64886e+06    | 0               |</pre>"
      ],
      "text/plain": [
       "| 2840      | 2m 16s        | 7.64886e+06    | 0               |"
      ]
     },
     "metadata": {},
     "output_type": "display_data"
    },
    {
     "data": {
      "text/html": [
       "<pre>| 2850      | 2m 16s        | 7.51604e+06    | 0               |</pre>"
      ],
      "text/plain": [
       "| 2850      | 2m 16s        | 7.51604e+06    | 0               |"
      ]
     },
     "metadata": {},
     "output_type": "display_data"
    },
    {
     "data": {
      "text/html": [
       "<pre>| 2860      | 2m 17s        | 7.30753e+06    | 0               |</pre>"
      ],
      "text/plain": [
       "| 2860      | 2m 17s        | 7.30753e+06    | 0               |"
      ]
     },
     "metadata": {},
     "output_type": "display_data"
    },
    {
     "data": {
      "text/html": [
       "<pre>| 2870      | 2m 17s        | 7.75593e+06    | 0               |</pre>"
      ],
      "text/plain": [
       "| 2870      | 2m 17s        | 7.75593e+06    | 0               |"
      ]
     },
     "metadata": {},
     "output_type": "display_data"
    },
    {
     "data": {
      "text/html": [
       "<pre>| 2880      | 2m 18s        | 7.6201e+06     | 0               |</pre>"
      ],
      "text/plain": [
       "| 2880      | 2m 18s        | 7.6201e+06     | 0               |"
      ]
     },
     "metadata": {},
     "output_type": "display_data"
    },
    {
     "data": {
      "text/html": [
       "<pre>| 2890      | 2m 18s        | 7.06105e+06    | 0               |</pre>"
      ],
      "text/plain": [
       "| 2890      | 2m 18s        | 7.06105e+06    | 0               |"
      ]
     },
     "metadata": {},
     "output_type": "display_data"
    },
    {
     "data": {
      "text/html": [
       "<pre>| 2900      | 2m 18s        | 7.68014e+06    | 0               |</pre>"
      ],
      "text/plain": [
       "| 2900      | 2m 18s        | 7.68014e+06    | 0               |"
      ]
     },
     "metadata": {},
     "output_type": "display_data"
    },
    {
     "data": {
      "text/html": [
       "<pre>| 2910      | 2m 19s        | 7.67464e+06    | 0               |</pre>"
      ],
      "text/plain": [
       "| 2910      | 2m 19s        | 7.67464e+06    | 0               |"
      ]
     },
     "metadata": {},
     "output_type": "display_data"
    },
    {
     "data": {
      "text/html": [
       "<pre>| 2920      | 2m 19s        | 7.4639e+06     | 0               |</pre>"
      ],
      "text/plain": [
       "| 2920      | 2m 19s        | 7.4639e+06     | 0               |"
      ]
     },
     "metadata": {},
     "output_type": "display_data"
    },
    {
     "data": {
      "text/html": [
       "<pre>| 2930      | 2m 20s        | 5.97192e+06    | 0               |</pre>"
      ],
      "text/plain": [
       "| 2930      | 2m 20s        | 5.97192e+06    | 0               |"
      ]
     },
     "metadata": {},
     "output_type": "display_data"
    },
    {
     "data": {
      "text/html": [
       "<pre>| 2940      | 2m 20s        | 7.47514e+06    | 0               |</pre>"
      ],
      "text/plain": [
       "| 2940      | 2m 20s        | 7.47514e+06    | 0               |"
      ]
     },
     "metadata": {},
     "output_type": "display_data"
    },
    {
     "data": {
      "text/html": [
       "<pre>| 2950      | 2m 21s        | 7.32928e+06    | 0               |</pre>"
      ],
      "text/plain": [
       "| 2950      | 2m 21s        | 7.32928e+06    | 0               |"
      ]
     },
     "metadata": {},
     "output_type": "display_data"
    },
    {
     "data": {
      "text/html": [
       "<pre>| 2960      | 2m 21s        | 7.55602e+06    | 0               |</pre>"
      ],
      "text/plain": [
       "| 2960      | 2m 21s        | 7.55602e+06    | 0               |"
      ]
     },
     "metadata": {},
     "output_type": "display_data"
    },
    {
     "data": {
      "text/html": [
       "<pre>| 2970      | 2m 22s        | 7.42704e+06    | 0               |</pre>"
      ],
      "text/plain": [
       "| 2970      | 2m 22s        | 7.42704e+06    | 0               |"
      ]
     },
     "metadata": {},
     "output_type": "display_data"
    },
    {
     "data": {
      "text/html": [
       "<pre>| 2980      | 2m 22s        | 7.27794e+06    | 0               |</pre>"
      ],
      "text/plain": [
       "| 2980      | 2m 22s        | 7.27794e+06    | 0               |"
      ]
     },
     "metadata": {},
     "output_type": "display_data"
    },
    {
     "data": {
      "text/html": [
       "<pre>| 2990      | 2m 23s        | 7.11927e+06    | 0               |</pre>"
      ],
      "text/plain": [
       "| 2990      | 2m 23s        | 7.11927e+06    | 0               |"
      ]
     },
     "metadata": {},
     "output_type": "display_data"
    },
    {
     "data": {
      "text/html": [
       "<pre>| 3000      | 2m 23s        | 7.52761e+06    | 0               |</pre>"
      ],
      "text/plain": [
       "| 3000      | 2m 23s        | 7.52761e+06    | 0               |"
      ]
     },
     "metadata": {},
     "output_type": "display_data"
    }
   ],
   "source": [
    "%%time\n",
    "topic_model = gl.topic_model.create(docs, num_topics=10, num_iterations=3000)"
   ]
  },
  {
   "cell_type": "code",
   "execution_count": 32,
   "metadata": {
    "collapsed": false
   },
   "outputs": [
    {
     "data": {
      "text/html": [
       "\n",
       "<link rel=\"stylesheet\" type=\"text/css\" href=\"https://cdn.rawgit.com/bmabey/pyLDAvis/files/ldavis.v1.0.0.css\">\n",
       "\n",
       "\n",
       "<div id=\"ldavis_el362048046184488916632131\"></div>\n",
       "<script type=\"text/javascript\">\n",
       "\n",
       "var ldavis_el362048046184488916632131_data = {\"plot.opts\": {\"xlab\": \"PC1\", \"ylab\": \"PC2\"}, \"topic.order\": [1, 3, 9, 10, 7, 4, 5, 6, 2, 8], \"token.table\": {\"Topic\": [1, 5, 6, 7, 3, 6, 9, 4, 6, 7, 3, 6, 7, 9, 1, 4, 10, 1, 7, 10, 1, 5, 6, 3, 6, 9, 10, 5, 7, 1, 3, 9, 2, 3, 6, 8, 9, 10, 6, 5, 10, 1, 3, 6, 8, 3, 7, 4, 5, 6, 7, 3, 6, 7, 8, 9, 1, 4, 5, 6, 7, 9, 10, 2, 4, 7, 9, 10, 1, 3, 5, 6, 7, 9, 2, 2, 5, 8, 2, 9, 9, 10, 1, 3, 4, 5, 6, 7, 10, 8, 8, 9, 7, 7, 6, 7, 4, 10, 4, 7, 5, 3, 3, 8, 1, 4, 8, 1, 7, 8, 5, 1, 1, 2, 2, 6, 7, 7, 9, 5, 1, 4, 7, 2, 9, 10, 3, 1, 4, 1, 5, 8, 1, 2, 3, 4, 5, 6, 10, 2, 3, 4, 5, 6, 9, 3, 4, 5, 6, 7, 8, 7, 3, 8, 5, 8, 5, 7, 3, 4, 9, 7, 2, 4, 6, 7, 1, 6, 4, 6, 3, 7, 1, 5, 10, 1, 3, 9, 2, 6, 2, 7, 10, 1, 3, 4, 3, 10, 8, 1, 3, 6, 10, 4, 6, 9, 4, 4, 6, 7, 2, 3, 4, 8, 1, 5, 10, 5, 6, 7, 8, 9, 10, 2, 8, 1, 3, 4, 7, 9, 1, 3, 6, 8, 10, 1, 5, 4, 7, 10, 10, 10, 2, 4, 6, 7, 8, 10, 8, 2, 3, 6, 7, 8, 9, 3, 10, 2, 4, 5, 6, 1, 2, 3, 7, 2, 3, 6, 7, 8, 4, 8, 9, 1, 5, 7, 1, 2, 4, 5, 5, 4, 5, 8, 10, 2, 4, 7, 8, 7, 4, 9, 4, 3, 7, 8, 9, 1, 10, 2, 3, 4, 1, 8, 9, 1, 2, 3, 1, 3, 4, 5, 6, 7, 10, 2, 6, 8, 1, 2, 4, 5, 7, 8, 9, 5, 1, 2, 6, 7, 4, 2, 2, 1, 3, 4, 5, 7, 8, 9, 10, 3, 6, 7, 10, 10, 4, 5, 8, 1, 8, 1, 2, 3, 8, 9, 10, 2, 5, 6, 7, 8, 9, 10, 4, 4, 2, 3, 5, 6, 7, 10, 1, 4, 7, 3, 4, 5, 7, 8, 3, 5, 7, 9, 10, 7, 1, 2, 3, 5, 2, 3, 5, 6, 7, 9, 1, 3, 5, 6, 7, 9, 5, 6, 8, 9, 10, 4, 8, 1, 2, 3, 5, 6, 7, 9, 10, 3, 4, 6, 7, 2, 7, 4, 8, 8, 9, 4, 7, 3, 1, 10, 7, 1, 7, 8, 10, 9, 6, 1, 1, 1, 1, 10, 2, 2, 3, 4, 5, 3, 1, 2, 3, 4, 5, 7, 3, 5, 6, 7, 8, 9, 8, 2, 9, 1, 3, 10, 1, 5, 1, 3, 4, 5, 7, 8, 9, 10, 7, 8, 9, 1, 4, 4, 2, 6, 9, 8, 10, 8, 10, 10, 7, 3, 7, 2, 3, 4, 5, 6, 7, 8, 10, 9, 2, 4, 5, 6, 7, 9, 2, 5, 5, 6, 1, 5, 8, 8, 7, 9, 3, 4, 5, 6, 6, 2, 4, 5, 6, 5, 1, 2, 2, 4, 6, 1, 6, 1, 3, 10, 1, 6, 5, 3, 5, 8, 8, 7, 4, 9, 9, 8, 9, 6, 2, 8, 1, 2, 3, 4, 5, 2, 6, 10, 1, 3, 4, 5, 6, 7, 9, 5, 1, 5, 10, 4, 7, 2, 5, 6, 1, 1, 7, 1, 3, 9, 6, 3, 7, 8, 8, 3, 8, 1, 3, 4, 5, 6, 7, 8, 3, 4, 6, 7, 8, 9, 1, 4, 5, 6, 7, 8, 9, 1, 2, 4, 5, 6, 7, 9, 10, 9, 1, 5, 6, 9, 10, 2, 8, 7, 9, 8, 4, 9, 10, 2, 3, 6, 10, 1, 10, 1, 3, 4, 7, 9, 4, 5, 6, 10, 9, 10, 4, 4, 1, 8, 6, 6, 1, 2, 4, 5, 6, 8, 10, 1, 5, 8, 10, 10, 4, 9, 10, 9, 5, 1, 6, 8, 5, 2, 1, 8, 9, 1, 4, 5, 6, 9, 6, 9, 6, 1, 1, 2, 4, 5, 7, 9, 6, 4, 1, 9, 4, 2, 5, 8, 9, 6, 8, 5, 6, 1, 4, 8, 9, 8, 6, 8, 9, 10, 1, 3, 5, 8, 3, 6, 7, 8, 9, 3, 2, 4, 1, 5, 6, 7, 9, 10, 1, 2, 2, 3, 5, 1, 2, 4, 7, 9, 1, 4, 5, 7, 8, 10, 6, 2, 3, 9, 1, 5, 1, 4, 10, 9, 4, 10, 1, 3, 3, 7, 8, 10, 6, 2, 3, 4, 6, 7, 10, 1, 5, 6, 2, 6, 1, 10, 2, 2, 2, 7, 1, 3, 4, 5, 8, 10, 2, 4, 6, 8, 2, 3, 5, 8, 9, 2, 6, 2, 5, 2, 6, 7, 9, 10, 3, 7, 9, 2, 3, 7, 5, 5, 9, 9, 3, 5, 10, 4, 5, 5, 2, 5, 3, 8, 2, 4, 3, 4, 1, 2, 4, 5, 6, 9, 5, 7, 10, 9, 3, 4, 5, 7, 9, 6, 3, 2, 3, 4, 6, 8, 9, 10, 6, 3, 4, 6, 7, 1, 3, 1, 7, 10, 7, 2, 3, 6, 10, 3, 1, 2, 4, 2, 9, 5, 4, 5, 7, 1, 5, 2, 3, 4, 6, 7, 8, 9, 5, 1, 5, 2, 5, 2, 3, 4, 6, 9, 6, 7, 8, 10, 2, 5, 9, 1, 3, 6, 8, 10, 1, 5, 2, 10, 3, 4, 10, 8, 2, 9, 10, 10, 5, 6, 7, 8, 2, 6, 2, 1, 3, 5, 6, 7, 3, 7, 2, 1, 2, 4, 5, 7, 8, 9, 2, 7, 3, 10, 4, 6, 7, 9, 10, 3, 9, 1, 7, 9, 10, 1, 3, 5, 6, 6, 7, 10, 9, 1, 3, 7, 8, 10, 3, 1, 8, 9, 5, 8, 10, 10, 1, 3, 7, 8, 1, 2, 3, 3, 3, 6, 2, 3, 7, 2, 3, 6, 7, 1, 2, 6, 10, 1, 3, 6, 7, 10, 2, 3, 6, 7, 8, 10, 4, 5, 6, 7, 3, 8, 9, 1, 2, 3, 4, 7, 8, 9, 10, 5, 8, 9, 2, 6, 7, 8, 9, 1, 4, 9, 6, 8, 9, 2, 4, 6, 8, 9, 1, 5, 9, 10, 1, 2, 4, 5, 6, 7, 8, 1, 2, 5, 7, 1, 2, 3, 5, 7, 8, 10, 1, 2, 3, 4, 5, 6, 7, 10, 7, 4, 4, 7, 5, 8, 7, 5, 10, 2, 4, 5, 6, 6, 1, 5, 6, 7, 2, 9, 10, 5, 3, 9, 2, 3, 5, 7, 6, 6, 10, 1, 4, 5, 8, 10, 9, 2, 4, 1, 2, 3, 5, 8, 9, 7, 1, 2, 4, 5, 8, 9, 10, 2, 1, 7, 1, 2, 3, 6, 7, 10, 1, 7, 9, 5, 8, 10, 3, 6, 8, 10, 3, 8, 9, 7, 3, 8, 4, 8, 9, 8, 4, 7, 10, 1, 2, 3, 4, 6, 7, 9, 10, 2, 4, 5, 6, 1, 5, 1, 2, 3, 4, 5, 6, 7, 8, 10, 3, 1, 3, 6, 8, 10, 7, 8, 9, 2, 3, 4, 6, 9, 2, 4, 5, 9, 5, 6, 7, 8, 9, 10, 1, 5, 7, 9, 6, 10, 5, 7, 5, 2, 5, 6, 8, 10, 4, 3, 3, 4, 7, 8, 9, 2, 3, 4, 8, 10, 4, 8, 2, 3, 9, 10, 1, 2, 3, 8, 9, 10, 1, 8, 2, 3, 4, 3, 5, 6, 9, 10, 9, 1, 6, 5, 8, 1, 2, 3, 5, 6, 7, 8, 9, 1, 2, 3, 4, 6, 7, 8, 9, 10, 1, 3, 4, 6, 1, 3, 6, 7, 2, 4, 8, 4, 9, 10, 1, 2, 9, 2, 8, 2, 7, 1, 2, 3, 4, 5, 6, 7, 8, 9, 10, 7, 8, 6, 7, 9, 10, 8, 7, 4, 9, 9, 2, 3, 1, 5, 8, 8, 10, 4, 1, 5, 1, 5, 6, 10, 1, 2, 9, 2, 3, 10, 4, 9, 3, 2, 3, 5, 9, 1, 3, 5, 6, 7, 9, 2, 3, 4, 5, 6, 9, 10, 5, 8, 9, 3, 6, 8, 6], \"Freq\": [0.9898214530963696, 0.95459818126361384, 0.037805868564895602, 0.99364052492441324, 0.070571231629267955, 0.8810711342805575, 0.049186009923429176, 0.99126192417808501, 0.98893127435146777, 0.0080400916613940464, 0.78530957028908532, 0.028046770367467333, 0.06544246419075711, 0.12153600492569178, 0.1784727223169561, 0.37198528078421744, 0.44918977302245128, 0.026929114892244584, 0.49370043969115068, 0.47754297075580393, 0.54131217493460504, 0.37611721135106124, 0.082391503034186464, 0.1398852845154962, 0.22890319284353924, 0.45271964806833315, 0.1793075010607724, 0.87738448007406056, 0.12171807816056332, 0.99131999856428077, 0.9881862061741572, 0.0053999246239024986, 0.31120700936458323, 0.13968367417024197, 0.15919830512049638, 0.067787665406146835, 0.23314848556356566, 0.089356468035375378, 0.99675618690190027, 0.98842495952043463, 0.99654318321045099, 0.99368987530078312, 0.20984812392323599, 0.74400698481874583, 0.04387733500213116, 0.95954395556610972, 0.040260585548228381, 0.039486871348200177, 0.045127852969371635, 0.89691607776626125, 0.016922944863514363, 0.085621274477142434, 0.56745079947596355, 0.13934442709025141, 0.010073091114957933, 0.1964252767416797, 0.10052447882666071, 0.23232323995494922, 0.4691142345244167, 0.040209791530664285, 0.14520202497184326, 0.0067016319217773814, 0.004467754614518254, 0.20131470297216214, 0.56193060568751341, 0.087528131727027017, 0.14529669866686484, 0.0017505626345405403, 0.14217862192677644, 0.21632084808491139, 0.017445229684267049, 0.027040106010613924, 0.2834849823693395, 0.31314187283259348, 0.98734191880668154, 0.14182774373294901, 0.85772016448021549, 0.99523799366468801, 0.98864710536230627, 0.99366859588930612, 0.0089790491042303928, 0.98769540146534318, 0.21299779395013313, 0.059776800237618007, 0.11336979355410311, 0.070083145106172834, 0.2116236146343258, 0.1181794211594287, 0.21368488360803678, 0.98502275363888003, 0.99644212451157266, 0.9901808518134505, 0.9937858545242283, 0.9909221585351321, 0.99671012522868818, 0.99442586520415077, 0.99688863007578665, 0.99649351934303487, 0.006918523173499517, 0.98934881381043094, 0.99332574029460696, 0.99002409417272386, 0.011279988693570307, 0.98699901068740181, 0.038194139857338397, 0.045832967828806075, 0.91665935657612152, 0.99436769340349662, 0.99446480976787111, 0.98931132905068397, 0.98743814791110307, 0.99827734101745169, 0.99275119653457933, 0.99419424240363907, 0.060391676019144892, 0.024156670407657958, 0.91191430788908789, 0.98811129568738643, 0.99345253671746681, 0.98959920645242005, 0.0047480147354085015, 0.014244044206225505, 0.97809103549415122, 0.028875102639442499, 0.96250342131474997, 0.99649221305868951, 0.99459401639610445, 0.98826314601522414, 0.99768720264003707, 0.80199509208072317, 0.18458617198683311, 0.012730080826678146, 0.0062498607335344167, 0.37124172757194435, 0.2612441786617386, 0.17749604483237744, 0.15624651833836042, 0.026249415080844548, 0.0012499721467068832, 0.0017226476028243778, 0.00057421586760812585, 0.21360830275022283, 0.24231909613062913, 0.090726107082083896, 0.45075945607237883, 0.072004140955451948, 0.15600897207014588, 0.0030001725398104977, 0.12900741921185138, 0.63603657843982553, 0.0030001725398104977, 0.99253935116257197, 0.98684287403893534, 0.98986765466083426, 0.98397595585649589, 0.0091960369706214559, 0.99722234236790031, 0.98404374224030522, 0.99398127907566769, 0.18501621717239972, 0.81309758599449344, 0.99789568718192756, 0.28598583521691551, 0.052681601224168643, 0.15051886064048184, 0.51082338329863519, 0.99388428378882376, 0.99679068238452917, 0.99445273571864867, 0.99677123371087617, 0.9945368318129677, 0.004625752706106827, 0.992995512286174, 0.97153652532356749, 0.025566750666409673, 0.34312902676240659, 0.58951683012043421, 0.066509591090510523, 0.98125115983084132, 0.99669874100241418, 0.22195231064995918, 0.23252146829995726, 0.54355667914275718, 0.45865870857154162, 0.4578490727223421, 0.083392492467553023, 0.98894235954598642, 0.99649892850057853, 0.99246789638312982, 0.62856503115341444, 0.32347206281579222, 0.044109826747608029, 0.0036758188956340027, 0.13952770005610393, 0.068808180849585496, 0.78938274141330023, 0.99563569622139569, 0.18680872284718919, 0.010614131979953931, 0.80030555128852643, 0.070607065674064468, 0.00092904033781663774, 0.046452016890831886, 0.88165928058798915, 0.99184714943144192, 0.98944420102970543, 0.9851683140573545, 0.09740214869993935, 0.11738207663838846, 0.12570704661274223, 0.19313930340500796, 0.1390269985717083, 0.32717131999210397, 0.98864710536230627, 0.99439546560003389, 0.97881121452478503, 0.020869207818373169, 0.00022683921541709966, 0.79447712259534597, 0.20191131292478406, 0.14624420922969603, 0.85225073654547001, 0.82626030616469737, 0.17011241597508475, 0.99643693575870695, 0.99174310476244676, 0.0056996730158761309, 0.81440900124905746, 0.1809797780553461, 0.99651071582341255, 0.99642835707141475, 0.98529486835331259, 0.14350178567179159, 0.15776283269507524, 0.098936013724030228, 0.1238928460147766, 0.46883192089044956, 0.0062392080726865915, 0.98931132905068397, 0.98955990350680045, 0.24252941913789322, 0.23362925696769532, 0.14574015553699088, 0.2152726724916621, 0.16298421974174934, 0.98406807897639981, 0.98588680351532942, 0.98800396890308595, 0.99240245782925152, 0.096644072772929732, 0.90054704174775435, 0.22278617982897589, 0.0011111530166033709, 0.25389846429387025, 0.52168634129528269, 0.31840455359031961, 0.25116864057488808, 0.18315990097307222, 0.19552512635522054, 0.051779381287746153, 0.55659729229054455, 0.14108195255975606, 0.30149019999071158, 0.0059138863128473237, 0.83385797011147256, 0.15967493044687772, 0.14542928985732295, 0.5205365616272456, 0.26578456422200403, 0.067198361520280261, 0.99611477079607968, 0.199616504624616, 0.67869611572369437, 0.0039923300924923199, 0.11577757268227727, 0.17446544605986367, 0.36768185127569397, 0.24620824630877955, 0.21115210527805928, 0.99004114565235901, 0.30854582402396363, 0.68829453051499578, 0.99530748644355671, 0.012450170358511394, 0.0041500567861704647, 0.8258613004479225, 0.15770215787447767, 0.98344106724790825, 0.0080609923544910523, 0.10334162657447915, 0.80497688068541651, 0.087024527641666641, 0.99399261048038989, 0.98963693243312556, 0.9841317473219019, 0.99626453740324428, 0.70114782516354068, 0.29572221197373821, 0.0032766342861565911, 0.29271266289665548, 0.2621307428925273, 0.27742170289459139, 0.10048345144213545, 0.060071628579537503, 0.0032766342861565911, 0.7919117155550488, 0.039443878552550327, 0.16839501997434947, 0.23000379487024267, 0.0016428842490731619, 0.0082144212453658105, 0.20043187838692575, 0.070644022710145971, 0.036143453479609559, 0.45179316849511952, 0.98743814791110307, 0.23136750152682567, 0.46273500305365134, 0.17251085640158056, 0.1329348364035709, 0.99480066891338681, 0.99097342701798907, 0.99442550849808187, 0.0049778023701418268, 0.0024889011850709134, 0.08960044266255289, 0.067200331996914664, 0.0049778023701418268, 0.08960044266255289, 0.13688956517890025, 0.60480298797223198, 0.01389654129945104, 0.70594429801211289, 0.022234466079121665, 0.25569635990989914, 0.99653319531328499, 0.17255831019682169, 0.0054780415935498953, 0.8217062390324843, 0.11753300619003461, 0.87914688630145887, 0.15817626843511146, 0.27793830025026728, 0.43498473819655648, 0.071179320795800152, 0.057621354929933456, 0.0011298304888222247, 0.048845937570917694, 0.1115315574535954, 0.36797272970091327, 0.056172828206555343, 0.074083005315891834, 0.28167823999229202, 0.060243323004131821, 0.99920010593374453, 0.99812845203402112, 0.33955708525423983, 0.22254048972047105, 0.13268846100704143, 0.063732252924641936, 0.16194260989048362, 0.078359327366363044, 0.92655652844755843, 0.060083870445404815, 0.012649235883243119, 0.211432343932969, 0.21562373401093535, 0.072650761351416654, 0.28268597525839689, 0.21748657404558705, 0.072408173642393964, 0.33842950724162396, 0.36518904967468263, 0.21879861165853828, 0.0047222721940691718, 0.99432757928971427, 0.99653558703410972, 0.004041977332305889, 0.0080839546646117779, 0.98624246908263691, 0.32064840034057951, 0.11699333525940063, 0.0010832716227722281, 0.13703386028068684, 0.00054163581138611406, 0.42355920450394119, 0.200209313207101, 0.015606516619707207, 0.064209668378223936, 0.1511602609737355, 0.37143509554903148, 0.19708800988315958, 0.23864780839192593, 0.049886830002831971, 0.29932098001699181, 0.2858380529891994, 0.12539122135846956, 0.96311364854644888, 0.031236118331236178, 0.15670981344005441, 0.12613228886638525, 0.014282922662700724, 0.075035635960385497, 0.15791682098901505, 0.21625551918877856, 0.0426476000632754, 0.21082398521845575, 0.40059330078125072, 0.01094057334066441, 0.2701480032579443, 0.31727662687926789, 0.99499316700336859, 0.99325287393110895, 0.95349702994675201, 0.043340774088488729, 0.99480010586044088, 0.98624899586570447, 0.22909446357394667, 0.76990762348621422, 0.99207271152977572, 0.50876908529814224, 0.48907479812531091, 0.99498027896652641, 0.09893444273873192, 0.70056281074453419, 0.1711298468994282, 0.02941294243583922, 0.9823707754827038, 0.99667887811308997, 0.99355962405200238, 0.9949299037171826, 0.9870930225446044, 0.99302927697988608, 0.99650916599282169, 0.99514132982083003, 0.063715594305280898, 0.014703598685834054, 0.0098023991238893691, 0.9116231185217113, 0.981029110862222, 0.068885548083669243, 0.1770096995061374, 0.22845586832811823, 0.085452958382273236, 0.090684772160779761, 0.34965955419685274, 0.085463875501384415, 0.36278543069975427, 0.09767300057301076, 0.28429819809644202, 0.052324821735541482, 0.11685876854270931, 0.99107193979498998, 0.99137879325179368, 0.99753738732762642, 0.22038462923663074, 0.0076878359036033975, 0.76878359036033972, 0.89916527496875043, 0.1004768494263826, 0.2050783591235284, 0.26004781620818551, 0.36047278588207826, 0.033827358205942827, 0.010571049439357135, 0.024313413710521408, 0.039112882925621401, 0.065540506524014233, 0.38461433660078082, 0.3985370275184561, 0.21580170922396752, 0.98612754702906913, 0.99400738931109212, 0.99141083757800064, 0.25308728166421451, 0.74411987087598119, 0.97991059423615723, 0.91869141384050357, 0.071354672919650752, 0.99577644265082987, 0.98733367046111475, 0.98599763166670906, 0.98977846597610919, 0.9820737451681204, 0.98315612363003357, 0.1490461289352846, 0.016113095020030766, 0.19469989815870509, 0.040282737550076914, 0.16918749771032304, 0.083250990936825628, 0.27257985742218716, 0.073851685508474346, 0.98035078034289114, 0.21321882676439383, 0.0025689015272818533, 0.40460199054689189, 0.07449814429117374, 0.26716575883731275, 0.038533522909227798, 0.99639321733405484, 0.99083746816661822, 0.99489620385625654, 0.99677791606147848, 0.37167895337720236, 0.6249888133221746, 0.0023673818686446007, 0.98502275363888003, 0.020003835770871038, 0.97018603488724531, 0.26788567959438564, 0.13046380499726573, 0.012176621799744802, 0.58795688118767753, 0.98758663701045402, 0.0015569673826321582, 0.80806607158609012, 0.0015569673826321582, 0.18839305329849113, 0.98743814791110307, 0.96619301238458932, 0.03234118869906575, 0.56562806600496374, 0.43216526391390486, 0.0021184571760485531, 0.028825552647519417, 0.96085175491731389, 0.9032753408676274, 0.094881863536515482, 0.98621235917981787, 0.010728746007410509, 0.97631588667435631, 0.99361202595896236, 0.011658355452738722, 0.97930185803005265, 0.99369945997931663, 0.99584913845349698, 0.99432757928971427, 0.99619369648083866, 0.97991059423615723, 0.98310334537604493, 0.99946422536153057, 0.99144332554601033, 0.98750276021686667, 0.012653771595168593, 0.98277626055809408, 0.99698335055019893, 0.1314734174637591, 0.82792719646096946, 0.024873349249900371, 0.014213342428514497, 0.020706704972968247, 0.92489948879258177, 0.051766762432420621, 0.085830740353511445, 0.12332002924355093, 0.06215329473874967, 0.2407206970834114, 0.16278243860148722, 0.17363460117491972, 0.15291683626200314, 0.98722310535469182, 0.60073042747199268, 0.2659483663287468, 0.13266130273339841, 0.98474000980938547, 0.99869837441076914, 0.06605166639809773, 0.93132849621317804, 0.98346259320355878, 0.99275119653457933, 0.98993551622755671, 0.99215189983575558, 0.0085562486989645206, 0.9882467247304022, 0.99270115123234559, 0.99674436042889925, 0.0067756098966261389, 0.060980489069635255, 0.92825855583778105, 0.98722617130172385, 0.99172671052900796, 0.99197070422408207, 0.13790248824163673, 0.067087696982417871, 0.089450262643223824, 0.36898233340329828, 0.1024950926120273, 0.11367637544243028, 0.12113056399603227, 0.38614069612555241, 0.064506102369001797, 0.14603464841871239, 0.20606116034542241, 0.19351830710700538, 0.0026877542653750749, 0.084797027192521551, 0.14218491428240987, 0.056531351461681034, 0.2663825803724667, 0.19614665885946905, 0.11648884543619122, 0.13704570051316614, 0.28467044371754624, 0.28752122069325847, 0.080636263027287783, 0.00081450770734634124, 0.17634091864048287, 0.044390670050375593, 0.00040725385367317062, 0.12502693307766338, 0.98705325785330711, 0.42189439058187911, 0.054262944126286704, 0.15329281715675994, 0.13158763950624525, 0.23807866735408292, 0.96267041717908608, 0.031306355030214179, 0.089006181160821304, 0.90913456471410325, 0.99810402844531665, 0.1588177162525157, 0.05701148788551845, 0.78187183385853876, 0.67246860349750626, 0.3213100638121244, 0.0035115853968538183, 0.9869886593838344, 0.92466984443597444, 0.074233042850276987, 0.32123428904601892, 0.036204684216252135, 0.091499111019255397, 0.48250970055477843, 0.067801499532253992, 0.007457184506877536, 0.024857281689591788, 0.22371553520632609, 0.74074699434983526, 0.66772157967785073, 0.32609658542406667, 0.99860381886571747, 0.99783003230530154, 0.10681490042103201, 0.89221857998744381, 0.98459478110075405, 0.98515799332588572, 0.29099244517821443, 0.14859188689951375, 0.021227412414216249, 0.11498181724367136, 0.071642516897979847, 0.092869929312196092, 0.26003580207414906, 0.16683697224432686, 0.52894903700189988, 0.26163070647405801, 0.041709243061081716, 0.99654960031904605, 0.68339959047510368, 0.14374956903097008, 0.17202817277476748, 0.98477449054208976, 0.99627747196169114, 0.39281708105708241, 0.022355443637394935, 0.58124153457226835, 0.99430845501002374, 0.99634186304287187, 0.90881085967389785, 0.0024106388850766523, 0.086782999862759475, 0.038862470839687892, 0.071247863206094469, 0.18999430188291858, 0.16408598798979332, 0.53327946096682821, 0.047496116809674895, 0.94992233619349786, 0.98677072738150495, 0.99302927697988608, 0.12890227504347918, 0.13819811218603775, 0.44434101541430077, 0.17414201580393099, 0.0012394449523411457, 0.11340921313921484, 0.99669666707236404, 0.98944578732538158, 0.99754292024553792, 0.0014562670368547998, 0.99549299634901312, 0.0082270166357963533, 0.0082270166357963533, 0.95433392975237696, 0.02468104990738906, 0.03923180359709981, 0.95939592432907717, 0.99464083366691691, 0.98444517478579585, 0.065447025860445041, 0.4908526939533378, 0.040514825532656451, 0.40203173028559092, 0.9917577946137438, 0.010168369836862709, 0.97616350433882015, 0.98170217984785613, 0.014024316854969373, 0.21728998297096236, 0.25013614318750316, 0.012633138544823393, 0.51543205262879443, 0.06919847042733214, 0.21403247829849245, 0.16253594216652434, 0.14644327462528431, 0.40875375554749682, 0.99137769005434351, 0.99097342701798907, 0.98526559010489856, 0.006723995343162357, 0.19787757724163507, 0.26031467685671411, 0.086451368697801734, 0.26703867219987648, 0.18106758888372917, 0.9870930225446044, 0.98987978930508103, 0.89852745955965629, 0.040383256609422755, 0.058555722083662991, 0.011884560517684498, 0.88094304837336346, 0.043081531876606308, 0.051994952264869686, 0.010398990452973936, 0.26545197024487965, 0.0012121094531729664, 0.20848282594575024, 0.33211799016939281, 0.0024242189063459329, 0.19151329360132871, 0.98686863855936513, 0.15382863477882397, 0.77435770388662239, 0.070396154898783855, 0.31343174767167425, 0.68437390776016949, 0.9973204819744752, 0.99823021716561833, 0.99646449329718667, 0.98198922549883638, 0.99410915550956336, 0.0042242598676043765, 0.077633172506689677, 0.91965450507924684, 0.015481484346786619, 0.89276559733136163, 0.077407421733933085, 0.015481484346786619, 0.98290900165317341, 0.36331694226075351, 0.15948755536249615, 0.00071519083122195573, 0.39836129299062933, 0.075810228109527311, 0.0014303816624439115, 0.66202783117506148, 0.22669437855388472, 0.11033797186251025, 0.99370271777459351, 0.98567056387053109, 0.98384194513132917, 0.012506465404211811, 0.98703167524426016, 0.98595763926022351, 0.90283846502336995, 0.095692556200633674, 0.19555449514391407, 0.0016029056979009349, 0.030455208260117765, 0.6972639785869067, 0.0016029056979009349, 0.072130756405542076, 0.017988513076998495, 0.97137970615791869, 0.70391611194598935, 0.29539336840590624, 0.33060457897130391, 0.28072888817821928, 0.0028500394738905509, 0.28072888817821928, 0.10402644079700511, 0.79868266754725903, 0.19683174745240509, 0.99419424240363907, 0.98842495952043463, 0.99527078136609914, 0.98444517478579585, 0.99430808307934848, 0.99352507572351689, 0.98588680351532942, 0.99576368349855282, 0.045191560808140512, 0.95225074560010359, 0.99104584861379896, 0.97649659358612417, 0.98269587601213593, 0.98722310535469182, 0.99601250086308923, 0.99594430585440918, 0.9837978523124814, 0.98938650749671442, 0.99301881720412233, 0.99645988914717143, 0.99382504241674763, 0.9979244592274229, 0.99119637130379212, 0.98505602357208821, 0.007944000190097486, 0.99351647470302307, 0.98874191531589084, 0.99504889926722762, 0.99591777200158937, 0.94042159114853097, 0.057872097916832677, 0.17686358394499838, 0.058605684620827866, 0.20198030592535318, 0.073257105776034837, 0.16744481320236534, 0.3212847353320385, 0.011863585174018356, 0.97281398426950516, 0.99647244397836188, 0.99520296076590342, 0.10934371831721965, 0.089818054332001851, 0.0078102655940871174, 0.0039051327970435587, 0.78883682500279884, 0.99671348151688532, 0.98811920859921021, 0.19312981367039334, 0.1467355008892374, 0.17586681356577719, 0.10249906312115847, 0.28268162671308966, 0.032368125196155305, 0.065815187898849131, 0.98444517478579585, 0.80815064902498723, 0.013469177483749787, 0.090916948015311069, 0.087549653644373615, 0.98612754702906913, 0.99137769005434351, 0.13463170203351899, 0.65321307282929586, 0.20942709205214066, 0.99879245069074052, 0.12770819953832865, 0.0040542285567723383, 0.69935442604322839, 0.16825048510605203, 0.99476101861577315, 0.97416323449227071, 0.011952923122604549, 0.011952923122604549, 0.97381363973109425, 0.01678989034019128, 0.99568253229763637, 0.0082274577291099171, 0.016454915458219834, 0.97084001203497028, 0.71508204428076771, 0.28322069731345012, 0.17959491279146172, 0.28913591589141951, 0.16770120995759008, 0.12547856489734577, 0.095625370784327965, 0.05863595497098717, 0.08396954200713376, 0.98823856523379117, 0.035633684387829399, 0.96210947847139372, 0.99215054259530477, 0.99242487909589372, 0.15150078817547144, 0.0024836194782864173, 0.72273326818134742, 0.099344779131456687, 0.022352575304577755, 0.98328312024875908, 0.99213082508676642, 0.99107193979498998, 0.99644905259989724, 0.043250513677775583, 0.94286119817550773, 0.0086501027355551166, 0.07410030617066185, 0.74100306170661845, 0.17784073480958842, 0.0021171516048760527, 0.0021171516048760527, 0.97649406284532048, 0.017541809512191385, 0.74607765563569095, 0.25259579820849626, 0.80617184069432624, 0.17575310271061143, 0.015282878496574906, 0.98221277445940502, 0.011329721994112463, 0.011329721994112463, 0.97435609149367186, 0.99651550731489025, 0.33508277024352151, 0.0040371418101629091, 0.0040371418101629091, 0.6540169732463913, 0.21854930204315856, 0.77902251212158136, 0.97946597221047438, 0.28873481139970847, 0.10088324735652464, 0.23655382138771294, 0.34265516774543714, 0.030438910840330711, 0.025109774173115756, 0.97091126802714256, 0.98734191880668154, 0.085116822067039799, 0.07706523079042793, 0.055210911611052849, 0.054060684285822579, 0.33816683361769867, 0.29330796793371822, 0.096619095319342485, 0.22330079739401332, 0.77541815358800237, 0.30640409673837932, 0.69199127465633992, 0.63249185162197707, 0.046659234955719622, 0.094355341799344128, 0.17315760528011503, 0.051843594395244025, 0.0063934455003978111, 0.99098405256166078, 0.12363721660873549, 0.1133341152246742, 0.69374215986012688, 0.065252975432388172, 0.18704455332326819, 0.067336039196376554, 0.7369555400936767, 0.0074817821329307282, 0.23099728172578982, 0.1896806947504453, 0.57843221765482333, 0.99326768485932804, 0.0017752788155497407, 0.49175223190727824, 0.2219098519437176, 0.14557286287507876, 0.13847174761287978, 0.98817915017954716, 0.93864795224602127, 0.020936385551955865, 0.038383373511919089, 0.86261375667730789, 0.070706045629287534, 0.065992309254001694, 0.99655407114625305, 0.16376518464002662, 0.16376518464002662, 0.66917842689114326, 0.99146246485681355, 0.86055818773791992, 0.13669087236168617, 0.0011886162814059669, 0.97526581810220403, 0.97995079074433944, 0.99679262877943742, 0.49029663131015394, 0.37294694578346138, 0.13503251485263257, 0.35002437985206786, 0.53835271466377832, 0.00095115320611974968, 0.11033377190989097, 0.028921231830973483, 0.22286360999161919, 0.020414987174804812, 0.72813454256803822, 0.096874894470688894, 0.00569852320415817, 0.01139704640831634, 0.83768291101125092, 0.04558818563326536, 0.49907073601471774, 0.18780000669160896, 0.14422210458637374, 0.11932044624052503, 0.047728178496210014, 0.0010375690977436959, 0.00066619592992591661, 0.74880422523673029, 0.051297086604295578, 0.19852638711792314, 0.14695271304422311, 0.20940761608801794, 0.63924430174237057, 0.15941010935328453, 0.21583054131540211, 0.1065719270395554, 0.19344148101297451, 0.24180185126621812, 0.0017911248241942084, 0.0044778120604855205, 0.076122805028253859, 0.0051015974928974644, 0.19386070473010367, 0.80095080638490201, 0.0096812697687190842, 0.97780824664062749, 0.69141605796181071, 0.0018942905697583855, 0.30687507230085842, 0.98921899840448613, 0.98437321785021825, 0.006788780812760126, 0.3393389648596753, 0.36990298247983083, 0.28996632101173181, 0.060105567977917204, 0.21715560043634602, 0.59330012262073106, 0.12408891453505487, 0.0038777785792204647, 0.0059301666443801141, 0.90138532994577736, 0.017790499933140341, 0.071161999732561362, 0.14407798330814767, 0.0021504176613156372, 0.019353758951840733, 0.14192756564683204, 0.064512529839469104, 0.28815596661629533, 0.33976599048787065, 0.19254587042644306, 0.56269870753934648, 0.18092672307312321, 0.063075371346593412, 0.051554553897586633, 0.23485963442233909, 0.47862993248129809, 0.1050185357173061, 0.0012729519480885589, 0.058555789612073708, 0.070648833118915011, 0.31497302886217776, 0.04372983890394213, 0.15482726747071401, 0.0070913252276662911, 0.1294166854049098, 0.12823479786696543, 0.086277790269939869, 0.13591706686360391, 0.99159677850020667, 0.99445273571864867, 0.99591735349342325, 0.99325287393110895, 0.010917826433997056, 0.98260437905973497, 0.99004114565235901, 0.99174519787398108, 0.98529486835331259, 0.9852335583570081, 0.62944176405981378, 0.016897765478115806, 0.35316329849262035, 0.99677620631090047, 0.20621742405694421, 0.54991313081851789, 0.0053913052041031171, 0.23721742898053713, 0.99164626629829267, 0.98827836961276827, 0.99651882548069437, 0.99464083366691691, 0.97749054648948619, 0.0099743933315253695, 0.71366358220925996, 0.27877483680049214, 0.0027877483680049217, 0.0027877483680049217, 0.98328312024875908, 0.1274520261458684, 0.86899108735819364, 0.72554836663339106, 0.038061553659456578, 0.11418466097836974, 0.0023788471037160361, 0.1189423551858018, 0.98780448287906064, 0.31866851449860478, 0.67876393588202821, 0.031000594778716747, 0.15069733572987307, 0.24456024769876544, 0.097307422499860893, 0.26264392798635022, 0.21442078055279082, 0.99526635281737585, 0.38401362627963337, 0.088134274883850283, 0.047214790116348368, 0.16472715662814874, 0.10072488558154317, 0.0020984351162821498, 0.21194194674449712, 0.98765351608435836, 0.73752173263976661, 0.26109346009509987, 0.1808655915581468, 0.37749895263674743, 0.15304011593381653, 0.066781141498392663, 0.046375792707217131, 0.17530049643328074, 0.0091057018554546471, 0.0091057018554546471, 0.97431009853364725, 0.11778886262863338, 0.052801903936973579, 0.82858372331866237, 0.99172671052900796, 0.10102562778495572, 0.14765284060878145, 0.74992100624986369, 0.99443820689083828, 0.9836542514697012, 0.9905589027554681, 0.99004114565235901, 0.81535252232694322, 0.18118944940598736, 0.99126192417808501, 0.85374406900693933, 0.14635612611547533, 0.99184728265898536, 0.69733182938629446, 0.2931157520132221, 0.0094553468391361962, 0.038943052896419153, 0.24100186449612537, 0.13218384811698844, 0.20739957313978657, 0.13707954619539542, 0.15643980677818664, 0.0008901269233467235, 0.086119779833795498, 0.6143219162175243, 0.18022693441081941, 0.19573032661820172, 0.0096896201296139475, 0.049071948860373513, 0.94872434463388799, 0.2233492847976446, 0.032896406288025176, 0.055404473748252921, 0.089166574938594548, 0.116868811812721, 0.28914209737369495, 0.12725715064051843, 0.00086569490231645189, 0.064927117673733895, 0.98600953512970835, 0.036381325545705043, 0.9210219782886383, 0.0019148066076686867, 0.0019148066076686867, 0.036381325545705043, 0.02807821182216658, 0.022462569457733263, 0.94342791722479713, 0.23281934867843415, 0.23788063886709579, 0.084776610660082005, 0.14930806056551757, 0.29482015348953894, 0.0014556262003817527, 0.49782416053055939, 0.0087337572022905159, 0.49054602952865062, 0.22262577033598499, 0.19541595396158681, 0.11997055401439191, 0.0012368098351999166, 0.0012368098351999166, 0.45885644885916904, 0.39910475313207922, 0.5922787432325376, 0.0091119806651159645, 0.9823707754827038, 0.99673387303667971, 0.99643189683079547, 0.98912210827391689, 0.98977846597610919, 0.98842495952043463, 0.21196816297888621, 0.33259092975692645, 0.10305634443172368, 0.16980874934772652, 0.18269079240169198, 0.99591773612944712, 0.98600953512970835, 0.26656469415604711, 0.1128734876817012, 0.26573167948680948, 0.25615201079057653, 0.098295730970042378, 0.44113742884886775, 0.070897086779282317, 0.23894944062647003, 0.087964903966887317, 0.16148780877503194, 0.98859447331963402, 0.9829429948347862, 0.009334043079826158, 0.93340430798261576, 0.018668086159652316, 0.028002129239478472, 0.017400594799481056, 0.46665231507699195, 0.22937147690225027, 0.14395037515934328, 0.0047456167634948336, 0.13604101388685189, 0.9898858296032903, 0.0054993657200182794, 0.34611652148005834, 0.18323815843061911, 0.46984143187338234, 0.31293481875559015, 0.16839217729804273, 0.078775739594363334, 0.19946884521141542, 0.23921807161224096, 0.99238010196206194, 0.99072618232235732, 0.99666516339479261, 0.98067272835922559, 0.010896363648435839, 0.08082709088211984, 0.088236240879647487, 0.1912907817543503, 0.013471181813686639, 0.20274128629598392, 0.14683588176918438, 0.028289481808741943, 0.24786974537183418, 0.055278448731592517, 0.11338610940614055, 0.22154905830220936, 0.019586851912769002, 0.057890028986628379, 0.20392089158071727, 0.18738088329882344, 0.14102533377193679, 0.99651550731489025, 0.0025242688246254613, 0.75223210973838739, 0.18847873890536776, 0.055533914141760149, 0.81263800935517227, 0.084018506051975431, 0.10261276558806835, 0.0006886762791145527, 0.086342101480075623, 0.86205050525345339, 0.050708853250203141, 0.99657219333363034, 0.8488031227839874, 0.14588803672849784, 0.98817505501064962, 0.0087449119912446863, 0.98538587472654893, 0.98009613098793902, 0.017659389747530434, 0.97915876445241579, 0.013413133759622133, 0.057008639500192762, 0.0081440913571703948, 0.043047340030757802, 0.062825847612457325, 0.14048557591118932, 0.21174637528643026, 0.14281245915609514, 0.01454302028066142, 0.23007058084006365, 0.089294144523261121, 0.95780374755277309, 0.039578667254246823, 0.0024222684243422475, 0.96890736973689906, 0.0024222684243422475, 0.024222684243422474, 0.9836542514697012, 0.98924260375004613, 0.0038844342453585637, 0.99441516681179232, 0.98445718769577284, 0.87827921117972274, 0.11816847568599906, 0.99388428378882376, 0.0095161551310486477, 0.98016397849801074, 0.99792395913613274, 0.9964563890041348, 0.99701628613530224, 0.69418310963435881, 0.30535913913534846, 0.76880709199498365, 0.2234345611110421, 0.0072075664874529715, 0.99655636754127608, 0.058218423863646514, 0.87974507171732519, 0.058218423863646514, 0.9450041603993905, 0.042508837665024488, 0.0098097317688518055, 0.98200748283170591, 0.0086141007265939113, 0.99318556761033183, 0.46627949645428834, 0.39316111783292179, 0.0011986619446125665, 0.13784612363044516, 0.030449790933697346, 0.081980206359954386, 0.069097602503390129, 0.41809905243576739, 0.13702405920163804, 0.26350780615699626, 0.20863092810141376, 0.12614893327062227, 0.16981587171045306, 0.033963174342090612, 0.001617294016290029, 0.001617294016290029, 0.45607691259378819, 0.99309760368240219, 0.78912302439338677, 0.20739771794954395, 0.99018794039011304, 0.99672958377829712, 0.98502275363888003, 0.98488317518267632], \"Term\": [\"12(s)-hete\", \"5-ht\", \"5-ht\", \"abiraterone\", \"abnormal\", \"abnormal\", \"abnormal\", \"aceiarb\", \"acetaminophen\", \"acetaminophen\", \"achieved\", \"achieved\", \"achieved\", \"achieved\", \"acid\", \"acid\", \"acid\", \"action\", \"action\", \"action\", \"activity\", \"activity\", \"activity\", \"acute\", \"acute\", \"acute\", \"acute\", \"ad\", \"ad\", \"adhesion\", \"adjuvant\", \"adjuvant\", \"administration\", \"administration\", \"administration\", \"administration\", \"administration\", \"administration\", \"adolescents\", \"adr\", \"adrenergic\", \"adrp\", \"adults\", \"adults\", \"adults\", \"advanced\", \"advanced\", \"advantages\", \"advantages\", \"advantages\", \"advantages\", \"adverse\", \"adverse\", \"adverse\", \"adverse\", \"adverse\", \"affect\", \"affect\", \"affect\", \"affect\", \"affect\", \"affect\", \"affect\", \"age\", \"age\", \"age\", \"age\", \"age\", \"agents\", \"agents\", \"agents\", \"agents\", \"agents\", \"agents\", \"aggregation\", \"agonist\", \"agonist\", \"aids\", \"albumin\", \"alkaloids\", \"allergic\", \"allergic\", \"also\", \"also\", \"also\", \"also\", \"also\", \"also\", \"also\", \"aminoglycoside\", \"aminotransferase\", \"amiodarone\", \"amlodipine\", \"ammonia\", \"analgesia\", \"androgen\", \"anemia\", \"anesthesia\", \"angiotensin\", \"angiotensin\", \"antagonized\", \"anthracycline\", \"antibiotic\", \"antibiotic\", \"antibody\", \"antibody\", \"antibody\", \"anticancer\", \"antihypertensive\", \"antiretroviral\", \"apomorphine\", \"apoptosis\", \"apoptotic\", \"applied\", \"ar\", \"ar\", \"ar\", \"arb\", \"arrhythmias\", \"artemisinins\", \"arthritis\", \"arthritis\", \"arthritis\", \"asa\", \"asa\", \"ascorbic\", \"asenapine\", \"aso\", \"aspirin\", \"assay\", \"assay\", \"assay\", \"assessed\", \"assessed\", \"assessed\", \"assessed\", \"assessed\", \"assessed\", \"assessed\", \"associated\", \"associated\", \"associated\", \"associated\", \"associated\", \"associated\", \"available\", \"available\", \"available\", \"available\", \"available\", \"available\", \"aviptadil\", \"axitinib\", \"azithromycin\", \"batteries\", \"batteries\", \"behavior\", \"betablockers\", \"bladder\", \"bleeding\", \"bleeding\", \"blocker\", \"blood\", \"blood\", \"blood\", \"blood\", \"blot\", \"blue\", \"bmi\", \"bodyweight\", \"bone\", \"bone\", \"bortezomib\", \"brain\", \"brain\", \"breast\", \"breast\", \"breast\", \"bronchial\", \"bupivacaine\", \"calcium\", \"calcium\", \"calcium\", \"cancer\", \"cancer\", \"cancer\", \"capecitabine\", \"carbachol\", \"carbonate\", \"carcinoma\", \"carcinoma\", \"carcinoma\", \"carcinoma\", \"cardiac\", \"cardiac\", \"cardiac\", \"cardioembolic\", \"cardiovascular\", \"cardiovascular\", \"cardiovascular\", \"case\", \"case\", \"case\", \"case\", \"caspase\", \"catalepsy\", \"cataract\", \"cause\", \"cause\", \"cause\", \"cause\", \"cause\", \"cause\", \"cbz\", \"cd\", \"cells\", \"cells\", \"cells\", \"channel\", \"channel\", \"chemotherapy\", \"chemotherapy\", \"children\", \"children\", \"chloride\", \"chloroquine\", \"chloroquine\", \"cholesterol\", \"cholesterol\", \"chromium\", \"chromium(vi)\", \"chromiumiii\", \"chronic\", \"chronic\", \"chronic\", \"chronic\", \"chronic\", \"chronic\", \"cirrhosis\", \"clearance\", \"clinical\", \"clinical\", \"clinical\", \"clinical\", \"clinical\", \"clodronate\", \"clonictonic\", \"clonidine\", \"clopidogrel\", \"clozapine\", \"clozapine\", \"combination\", \"combination\", \"combination\", \"combination\", \"compared\", \"compared\", \"compared\", \"compared\", \"compared\", \"complications\", \"complications\", \"complications\", \"components\", \"components\", \"components\", \"concentrations\", \"concentrations\", \"concentrations\", \"concentrations\", \"contractions\", \"contribute\", \"contribute\", \"contribute\", \"contribute\", \"control\", \"control\", \"control\", \"control\", \"copd\", \"coronary\", \"coronary\", \"coumadin\", \"course\", \"course\", \"course\", \"course\", \"cox\", \"cox\", \"criteria\", \"criteria\", \"criteria\", \"curcumin\", \"cystic\", \"cytogenetic\", \"cytotoxicity\", \"daily\", \"daily\", \"data\", \"data\", \"data\", \"data\", \"data\", \"data\", \"data\", \"days\", \"days\", \"days\", \"death\", \"death\", \"death\", \"death\", \"death\", \"death\", \"death\", \"decline\", \"decreased\", \"decreased\", \"decreased\", \"decreased\", \"deficiency\", \"delapril\", \"delirium\", \"dependent\", \"dependent\", \"dependent\", \"dependent\", \"dependent\", \"dependent\", \"dependent\", \"dependent\", \"depression\", \"depression\", \"depression\", \"depression\", \"dermatitis\", \"describe\", \"describe\", \"describe\", \"detected\", \"detected\", \"determine\", \"determine\", \"determine\", \"determine\", \"determine\", \"determine\", \"development\", \"development\", \"development\", \"development\", \"development\", \"development\", \"development\", \"diabetes\", \"dietary\", \"different\", \"different\", \"different\", \"different\", \"different\", \"different\", \"differentiation\", \"differentiation\", \"differentiation\", \"disease\", \"disease\", \"disease\", \"disease\", \"disease\", \"disorder\", \"disorder\", \"disorder\", \"disorder\", \"disorder\", \"dmards\", \"dna\", \"dopamine\", \"dopamine\", \"dopamine\", \"dose\", \"dose\", \"dose\", \"dose\", \"dose\", \"dose\", \"drug\", \"drug\", \"drug\", \"drug\", \"drug\", \"drug\", \"due\", \"due\", \"due\", \"due\", \"due\", \"ed\", \"ed\", \"effects\", \"effects\", \"effects\", \"effects\", \"effects\", \"effects\", \"effects\", \"effects\", \"efficacy\", \"efficacy\", \"efficacy\", \"efficacy\", \"eight\", \"elderly\", \"embolization\", \"embolization\", \"encephalopathy\", \"endometrial\", \"endothelial\", \"endothelial\", \"endpoint\", \"enhanced\", \"enhanced\", \"enzalutamide\", \"enzyme\", \"enzyme\", \"enzyme\", \"enzyme\", \"eoscmd\", \"ep\", \"er\", \"erk\", \"erlotinib\", \"escc\", \"eserine\", \"esophageal\", \"estrogen\", \"estrogen\", \"estrogen\", \"estrogen\", \"etoposide\", \"evaluated\", \"evaluated\", \"evaluated\", \"evaluated\", \"evaluated\", \"evaluated\", \"evidence\", \"evidence\", \"evidence\", \"evidence\", \"evidence\", \"evidence\", \"excluded\", \"excretion\", \"exercise\", \"exposure\", \"exposure\", \"exposure\", \"expression\", \"expression\", \"factor\", \"factor\", \"factor\", \"factor\", \"factor\", \"factor\", \"factor\", \"factor\", \"failure\", \"failure\", \"failure\", \"fak\", \"fatty\", \"feiba\", \"fentanyl\", \"fentanyl\", \"ferritin\", \"fever\", \"fever\", \"fibrosis\", \"fighting\", \"flavonoids\", \"fluoroquinolones\", \"fluorouracil\", \"fluoxetine\", \"following\", \"following\", \"following\", \"following\", \"following\", \"following\", \"following\", \"following\", \"fpn\", \"function\", \"function\", \"function\", \"function\", \"function\", \"function\", \"furosemide\", \"gaba\", \"gabaar\", \"gain\", \"gene\", \"gene\", \"gene\", \"genotype\", \"gi\", \"gi\", \"given\", \"given\", \"given\", \"given\", \"gliomas\", \"glucose\", \"glucose\", \"glucose\", \"glucose\", \"glutamate\", \"glutathione\", \"glutathione\", \"group\", \"group\", \"group\", \"growing\", \"growing\", \"growth\", \"growth\", \"guanethidine\", \"halflife\", \"halflife\", \"harp\", \"hazardous\", \"hazardous\", \"hbv\", \"hcv\", \"hemodynamics\", \"hemoglobin\", \"hemolytic\", \"hemosiderin\", \"hepatitis\", \"hes\", \"highgrade\", \"hiv\", \"hiv\", \"hl\", \"hormone\", \"hormone\", \"hormone\", \"hormone\", \"hours\", \"hours\", \"hours\", \"however\", \"however\", \"however\", \"however\", \"however\", \"however\", \"however\", \"hta\", \"human\", \"human\", \"human\", \"hyperlipidemia\", \"hypertension\", \"hypothesis\", \"hypothesis\", \"hypoventilation\", \"hypoxic\", \"ic\", \"iconverting\", \"iii\", \"iii\", \"imatinib\", \"immediately\", \"immune\", \"immune\", \"immune\", \"immunodeficiency\", \"immunomodulatory\", \"immunosuppressive\", \"important\", \"important\", \"important\", \"important\", \"important\", \"important\", \"important\", \"improved\", \"improved\", \"improved\", \"improved\", \"improved\", \"improved\", \"including\", \"including\", \"including\", \"including\", \"including\", \"including\", \"including\", \"increased\", \"increased\", \"increased\", \"increased\", \"increased\", \"increased\", \"increased\", \"increased\", \"indomethacin\", \"induced\", \"induced\", \"induced\", \"induced\", \"induced\", \"infants\", \"infants\", \"infarction\", \"infarction\", \"infection\", \"inflammatory\", \"inflammatory\", \"inflammatory\", \"infusion\", \"infusion\", \"infusion\", \"ingestion\", \"inhibition\", \"inhibition\", \"inhibitor\", \"inhibitor\", \"inhibitor\", \"inhibitor\", \"inhibitor\", \"injection\", \"injection\", \"injection\", \"injection\", \"injury\", \"injury\", \"insulin\", \"intake\", \"interferon\", \"interferon\", \"intracranially\", \"intrathecal\", \"investigated\", \"investigated\", \"investigated\", \"investigated\", \"investigated\", \"investigated\", \"investigated\", \"involved\", \"involved\", \"involved\", \"involved\", \"ions\", \"iron\", \"iron\", \"iron\", \"irregular\", \"ischemia\", \"isolated\", \"isolated\", \"isolated\", \"ketanserin\", \"kg\", \"kinase\", \"kinase\", \"kinase\", \"known\", \"known\", \"known\", \"known\", \"known\", \"left\", \"left\", \"lethal\", \"leukemic\", \"levels\", \"levels\", \"levels\", \"levels\", \"levels\", \"levels\", \"levobupivacaine\", \"lifestyle\", \"lines\", \"lines\", \"lipoprotein\", \"literature\", \"literature\", \"literature\", \"literature\", \"liver\", \"liver\", \"log\", \"longacting\", \"low\", \"low\", \"low\", \"low\", \"lupus\", \"lymphocytic\", \"lymphocytic\", \"maintenance\", \"maintenance\", \"major\", \"major\", \"major\", \"major\", \"management\", \"management\", \"management\", \"management\", \"management\", \"manic\", \"manidipine\", \"mass\", \"may\", \"may\", \"may\", \"may\", \"may\", \"may\", \"mcf\", \"mdas\", \"mean\", \"mean\", \"mean\", \"measured\", \"measured\", \"measured\", \"measured\", \"measured\", \"mechanisms\", \"mechanisms\", \"mechanisms\", \"mechanisms\", \"mechanisms\", \"mechanisms\", \"med\", \"median\", \"median\", \"median\", \"mediated\", \"mediated\", \"melanoma\", \"mellitus\", \"membrane\", \"menstrual\", \"metabolic\", \"metabolic\", \"metastatic\", \"metastatic\", \"methotrexate\", \"methotrexate\", \"methotrexate\", \"methotrexate\", \"methylene\", \"mg\", \"mg\", \"mg\", \"mg\", \"mg\", \"mg\", \"mice\", \"mice\", \"mice\", \"microalbuminuria\", \"microgkg\", \"microm\", \"microm\", \"minutes\", \"ml\", \"mm\", \"mm\", \"models\", \"models\", \"models\", \"models\", \"models\", \"models\", \"modification\", \"modification\", \"monitoring\", \"monitoring\", \"months\", \"months\", \"months\", \"months\", \"months\", \"morphine\", \"morphine\", \"morphineinduced\", \"movements\", \"mpa\", \"mr\", \"mtx\", \"mucosal\", \"mydriasis\", \"myeloma\", \"myocardial\", \"myocardial\", \"naproxen\", \"neoadjuvant\", \"nephropathy\", \"neuroleptic\", \"neuronal\", \"neuropathy\", \"neurotoxicity\", \"neutropenia\", \"nickel\", \"nicotine\", \"niddm\", \"nm\", \"nmda\", \"norepinephrine\", \"norepinephrine\", \"nsclc\", \"nucleoside\", \"oas\", \"obesity\", \"objective\", \"objective\", \"observed\", \"observed\", \"observed\", \"observed\", \"observed\", \"observed\", \"obstructive\", \"obstructive\", \"ocular\", \"oestrogen\", \"often\", \"often\", \"often\", \"often\", \"often\", \"olanzapine\", \"oncology\", \"one\", \"one\", \"one\", \"one\", \"one\", \"one\", \"one\", \"opioidrelated\", \"overall\", \"overall\", \"overall\", \"overall\", \"overexpression\", \"oxaliplatin\", \"oxidative\", \"oxidative\", \"oxidative\", \"oxygen\", \"pain\", \"pain\", \"pain\", \"pain\", \"pamidronate\", \"pancreatic\", \"pancreatic\", \"pancreatic\", \"paracetamol\", \"paracetamol\", \"parkinson's\", \"pathogenesis\", \"pathogenesis\", \"pathogenesis\", \"pathway\", \"pathway\", \"patients\", \"patients\", \"patients\", \"patients\", \"patients\", \"patients\", \"patients\", \"pcbs\", \"pd\", \"pd\", \"peak\", \"peptide\", \"per\", \"per\", \"per\", \"per\", \"per\", \"pericarditis\", \"perindopril\", \"periodontal\", \"ph\", \"pharmacological\", \"pharmacological\", \"pharmacological\", \"phase\", \"phase\", \"phase\", \"phase\", \"phase\", \"phosphorylation\", \"phosphorylation\", \"plasma\", \"plasma\", \"plus\", \"plus\", \"plus\", \"pneumonia\", \"poisoning\", \"poisoning\", \"poisoning\", \"polyphenols\", \"positive\", \"positive\", \"positive\", \"positive\", \"postoperative\", \"postoperative\", \"posttraumatic\", \"potential\", \"potential\", \"potential\", \"potential\", \"potential\", \"practice\", \"practice\", \"prazosin\", \"present\", \"present\", \"present\", \"present\", \"present\", \"present\", \"present\", \"pressure\", \"pressure\", \"pretreatment\", \"pretreatment\", \"prevention\", \"prevention\", \"prevention\", \"prevention\", \"prevention\", \"previous\", \"previous\", \"previously\", \"previously\", \"previously\", \"previously\", \"process\", \"process\", \"process\", \"process\", \"produced\", \"produced\", \"produced\", \"progestogens\", \"progression\", \"progression\", \"progression\", \"progression\", \"progression\", \"progressionfree\", \"proliferation\", \"proliferation\", \"proliferation\", \"properties\", \"properties\", \"properties\", \"propofol\", \"prostate\", \"prostate\", \"prostate\", \"protease\", \"protein\", \"protein\", \"protein\", \"ps\", \"radiotherapy\", \"ramosetron\", \"randomized\", \"randomized\", \"randomized\", \"rate\", \"rate\", \"rate\", \"rate\", \"rats\", \"rats\", \"rats\", \"rats\", \"reactive\", \"reactive\", \"reactive\", \"reactive\", \"reactive\", \"receiving\", \"receiving\", \"receiving\", \"receiving\", \"receiving\", \"receiving\", \"receptor\", \"receptor\", \"receptor\", \"receptor\", \"recurrent\", \"recurrent\", \"recurrent\", \"reduced\", \"reduced\", \"reduced\", \"reduced\", \"reduced\", \"reduced\", \"reduced\", \"reduced\", \"refractory\", \"refractory\", \"refractory\", \"removal\", \"removal\", \"renal\", \"renal\", \"renal\", \"repair\", \"replacement\", \"replacement\", \"reported\", \"reported\", \"reported\", \"required\", \"required\", \"required\", \"required\", \"required\", \"research\", \"research\", \"research\", \"research\", \"resistance\", \"resistance\", \"resistance\", \"resistance\", \"resistance\", \"resistance\", \"resistance\", \"respectively\", \"respectively\", \"respectively\", \"respectively\", \"response\", \"response\", \"response\", \"response\", \"response\", \"response\", \"response\", \"results\", \"results\", \"results\", \"results\", \"results\", \"results\", \"results\", \"results\", \"reuptake\", \"rfviia\", \"rheumatic\", \"rheumatoid\", \"ribavirin\", \"ribavirin\", \"rigidity\", \"rings\", \"ripc\", \"rise\", \"risk\", \"risk\", \"risk\", \"risperidone\", \"role\", \"role\", \"role\", \"role\", \"rotation\", \"rr\", \"salts\", \"schizophrenia\", \"sclerosis\", \"sclerosis\", \"score\", \"score\", \"score\", \"score\", \"sedation\", \"seizures\", \"seizures\", \"sensitivity\", \"sensitivity\", \"sensitivity\", \"sensitivity\", \"sensitivity\", \"sensory\", \"serum\", \"serum\", \"severe\", \"severe\", \"severe\", \"severe\", \"severe\", \"severe\", \"sexual\", \"showed\", \"showed\", \"showed\", \"showed\", \"showed\", \"showed\", \"showed\", \"shr\", \"signaling\", \"signaling\", \"significantly\", \"significantly\", \"significantly\", \"significantly\", \"significantly\", \"significantly\", \"signs\", \"signs\", \"signs\", \"sites\", \"sites\", \"sites\", \"skeletal\", \"skin\", \"skin\", \"skin\", \"sorafenib\", \"specimens\", \"spleen\", \"ssris\", \"stage\", \"stage\", \"statin\", \"steroid\", \"steroid\", \"strains\", \"stroke\", \"stroke\", \"stroke\", \"study\", \"study\", \"study\", \"study\", \"study\", \"study\", \"study\", \"study\", \"subjects\", \"subjects\", \"subjects\", \"subjects\", \"subunits\", \"subunits\", \"suggest\", \"suggest\", \"suggest\", \"suggest\", \"suggest\", \"suggest\", \"suggest\", \"suggest\", \"suggest\", \"sunitinib\", \"survival\", \"survival\", \"survival\", \"survival\", \"survival\", \"symptomatic\", \"symptomatic\", \"symptomatic\", \"symptoms\", \"symptoms\", \"symptoms\", \"symptoms\", \"symptoms\", \"syndrome\", \"syndrome\", \"syndrome\", \"syndrome\", \"system\", \"system\", \"system\", \"system\", \"system\", \"system\", \"target\", \"target\", \"target\", \"taxine\", \"te\", \"tea\", \"temporal\", \"terazosin\", \"terminal\", \"tested\", \"tested\", \"tested\", \"tested\", \"tested\", \"testosterone\", \"thalidomide\", \"therapy\", \"therapy\", \"therapy\", \"therapy\", \"therapy\", \"three\", \"three\", \"three\", \"three\", \"three\", \"thrombotic\", \"thymalfasin\", \"thyroid\", \"thyroid\", \"thyroid\", \"thyroid\", \"time\", \"time\", \"time\", \"time\", \"time\", \"time\", \"tnfalpha\", \"tnfalpha\", \"total\", \"total\", \"total\", \"toxicity\", \"toxicity\", \"toxicity\", \"toxicity\", \"toxicity\", \"tqp\", \"transcription\", \"transdermal\", \"transmission\", \"transmission\", \"treated\", \"treated\", \"treated\", \"treated\", \"treated\", \"treated\", \"treated\", \"treated\", \"treatment\", \"treatment\", \"treatment\", \"treatment\", \"treatment\", \"treatment\", \"treatment\", \"treatment\", \"tremor\", \"trials\", \"trials\", \"trials\", \"trials\", \"tumor\", \"tumor\", \"tumor\", \"tumor\", \"type\", \"type\", \"type\", \"tzd\", \"ulcers\", \"ulcers\", \"upregulation\", \"upregulation\", \"uremic\", \"urinary\", \"urinary\", \"urine\", \"urine\", \"used\", \"used\", \"used\", \"used\", \"used\", \"used\", \"used\", \"used\", \"used\", \"used\", \"variants\", \"variants\", \"vascular\", \"vascular\", \"vascular\", \"vascular\", \"vasculitis\", \"vasodilation\", \"ventricular\", \"ventricular\", \"verapamil\", \"versus\", \"versus\", \"viability\", \"viral\", \"viral\", \"virus\", \"visual\", \"vitamin\", \"vitro\", \"vitro\", \"vivo\", \"vivo\", \"vivo\", \"vocalization\", \"volume\", \"volume\", \"volume\", \"vs\", \"vs\", \"vs\", \"warfarin\", \"warfarin\", \"weekly\", \"weeks\", \"weeks\", \"weeks\", \"weeks\", \"well\", \"well\", \"well\", \"well\", \"well\", \"well\", \"whether\", \"whether\", \"whether\", \"whether\", \"whether\", \"whether\", \"whether\", \"work\", \"yearold\", \"yearold\", \"ymrs\", \"zaleplon\", \"zidovudine\", \"ziprasidone\"]}, \"mdsDat\": {\"y\": [-0.10055859243963164, 0.1648092686503822, -0.090660457735929262, 0.057452197842639247, -0.088526462823030783, 0.0038693340986594893, -0.13291608638326544, -0.015077245988169898, -0.082528917679654507, 0.28413696245800146], \"cluster\": [1, 1, 1, 1, 1, 1, 1, 1, 1, 1], \"Freq\": [13.353803085818983, 10.333731199268017, 10.208769784738346, 9.982341200885676, 9.917930362004201, 9.855992309619694, 9.5944816880021371, 9.2295875226642536, 8.8591524875924001, 8.6642103594063027], \"topics\": [1, 2, 3, 4, 5, 6, 7, 8, 9, 10], \"x\": [0.26683126261421103, -0.13530432535340653, -0.13399708237515612, -0.12442864272114527, 0.22115854848664385, -0.015262848569116541, -0.03897663084863897, -0.1491648227172031, -0.069076162465190938, 0.17822070394900363]}, \"R\": 30, \"lambda.step\": 0.01, \"tinfo\": {\"Category\": [\"Default\", \"Default\", \"Default\", \"Default\", \"Default\", \"Default\", \"Default\", \"Default\", \"Default\", \"Default\", \"Default\", \"Default\", \"Default\", \"Default\", \"Default\", \"Default\", \"Default\", \"Default\", \"Default\", \"Default\", \"Default\", \"Default\", \"Default\", \"Default\", \"Default\", \"Default\", \"Default\", \"Default\", \"Default\", \"Default\", \"Topic1\", \"Topic1\", \"Topic1\", \"Topic1\", \"Topic1\", \"Topic1\", \"Topic1\", \"Topic1\", \"Topic1\", \"Topic1\", \"Topic1\", \"Topic1\", \"Topic1\", \"Topic1\", \"Topic1\", \"Topic1\", \"Topic1\", \"Topic1\", \"Topic1\", \"Topic1\", \"Topic1\", \"Topic1\", \"Topic1\", \"Topic1\", \"Topic1\", \"Topic1\", \"Topic1\", \"Topic1\", \"Topic1\", \"Topic1\", \"Topic1\", \"Topic1\", \"Topic1\", \"Topic1\", \"Topic1\", \"Topic1\", \"Topic1\", \"Topic1\", \"Topic1\", \"Topic1\", \"Topic1\", \"Topic1\", \"Topic1\", \"Topic1\", \"Topic1\", \"Topic1\", \"Topic1\", \"Topic1\", \"Topic1\", \"Topic1\", \"Topic1\", \"Topic1\", \"Topic1\", \"Topic1\", \"Topic1\", \"Topic1\", \"Topic1\", \"Topic1\", \"Topic1\", \"Topic1\", \"Topic1\", \"Topic1\", \"Topic1\", \"Topic1\", \"Topic1\", \"Topic1\", \"Topic1\", \"Topic1\", \"Topic1\", \"Topic2\", \"Topic2\", \"Topic2\", \"Topic2\", \"Topic2\", \"Topic2\", \"Topic2\", \"Topic2\", \"Topic2\", \"Topic2\", \"Topic2\", \"Topic2\", \"Topic2\", \"Topic2\", \"Topic2\", \"Topic2\", \"Topic2\", \"Topic2\", \"Topic2\", \"Topic2\", \"Topic2\", \"Topic2\", \"Topic2\", \"Topic2\", \"Topic2\", \"Topic2\", \"Topic2\", \"Topic2\", \"Topic2\", \"Topic2\", \"Topic2\", \"Topic2\", \"Topic2\", \"Topic2\", \"Topic2\", \"Topic2\", \"Topic2\", \"Topic2\", \"Topic2\", \"Topic2\", \"Topic2\", \"Topic2\", \"Topic2\", \"Topic2\", \"Topic2\", \"Topic2\", \"Topic2\", \"Topic2\", \"Topic2\", \"Topic2\", \"Topic2\", \"Topic2\", \"Topic2\", \"Topic2\", \"Topic2\", \"Topic2\", \"Topic2\", \"Topic2\", \"Topic2\", \"Topic2\", \"Topic2\", \"Topic2\", \"Topic2\", \"Topic2\", \"Topic2\", \"Topic2\", \"Topic2\", \"Topic2\", \"Topic2\", \"Topic2\", \"Topic2\", \"Topic3\", \"Topic3\", \"Topic3\", \"Topic3\", \"Topic3\", \"Topic3\", \"Topic3\", \"Topic3\", \"Topic3\", \"Topic3\", \"Topic3\", \"Topic3\", \"Topic3\", \"Topic3\", \"Topic3\", \"Topic3\", \"Topic3\", \"Topic3\", \"Topic3\", \"Topic3\", \"Topic3\", \"Topic3\", \"Topic3\", \"Topic3\", \"Topic3\", \"Topic3\", \"Topic3\", \"Topic3\", \"Topic3\", \"Topic3\", \"Topic3\", \"Topic3\", \"Topic3\", \"Topic3\", \"Topic3\", \"Topic3\", \"Topic3\", \"Topic3\", \"Topic3\", \"Topic3\", \"Topic3\", \"Topic3\", \"Topic3\", \"Topic3\", \"Topic3\", \"Topic3\", \"Topic3\", \"Topic3\", \"Topic3\", \"Topic3\", \"Topic3\", \"Topic3\", \"Topic3\", \"Topic3\", \"Topic3\", \"Topic3\", \"Topic3\", \"Topic3\", \"Topic3\", \"Topic3\", \"Topic3\", \"Topic3\", \"Topic3\", \"Topic3\", \"Topic3\", \"Topic3\", \"Topic3\", \"Topic4\", \"Topic4\", \"Topic4\", \"Topic4\", \"Topic4\", \"Topic4\", \"Topic4\", \"Topic4\", \"Topic4\", \"Topic4\", \"Topic4\", \"Topic4\", \"Topic4\", \"Topic4\", \"Topic4\", \"Topic4\", \"Topic4\", \"Topic4\", \"Topic4\", \"Topic4\", \"Topic4\", \"Topic4\", \"Topic4\", \"Topic4\", \"Topic4\", \"Topic4\", \"Topic4\", \"Topic4\", \"Topic4\", \"Topic4\", \"Topic4\", \"Topic4\", \"Topic4\", \"Topic4\", \"Topic4\", \"Topic4\", \"Topic4\", \"Topic4\", \"Topic4\", \"Topic4\", \"Topic4\", \"Topic4\", \"Topic4\", \"Topic4\", \"Topic4\", \"Topic4\", \"Topic4\", \"Topic4\", \"Topic4\", \"Topic4\", \"Topic4\", \"Topic4\", \"Topic4\", \"Topic4\", \"Topic4\", \"Topic4\", \"Topic4\", \"Topic4\", \"Topic4\", \"Topic5\", \"Topic5\", \"Topic5\", \"Topic5\", \"Topic5\", \"Topic5\", \"Topic5\", \"Topic5\", \"Topic5\", \"Topic5\", \"Topic5\", \"Topic5\", \"Topic5\", \"Topic5\", \"Topic5\", \"Topic5\", \"Topic5\", \"Topic5\", \"Topic5\", \"Topic5\", \"Topic5\", \"Topic5\", \"Topic5\", \"Topic5\", \"Topic5\", \"Topic5\", \"Topic5\", \"Topic5\", \"Topic5\", \"Topic5\", \"Topic5\", \"Topic5\", \"Topic5\", \"Topic5\", \"Topic5\", \"Topic5\", \"Topic5\", \"Topic5\", \"Topic5\", \"Topic5\", \"Topic5\", \"Topic5\", \"Topic5\", \"Topic5\", \"Topic5\", \"Topic5\", \"Topic5\", \"Topic5\", \"Topic5\", \"Topic5\", \"Topic5\", \"Topic5\", \"Topic5\", \"Topic5\", \"Topic5\", \"Topic5\", \"Topic5\", \"Topic5\", \"Topic5\", \"Topic5\", \"Topic5\", \"Topic5\", \"Topic5\", \"Topic5\", \"Topic5\", \"Topic5\", \"Topic5\", \"Topic5\", \"Topic5\", \"Topic5\", \"Topic5\", \"Topic5\", \"Topic5\", \"Topic6\", \"Topic6\", \"Topic6\", \"Topic6\", \"Topic6\", \"Topic6\", \"Topic6\", \"Topic6\", \"Topic6\", \"Topic6\", \"Topic6\", \"Topic6\", \"Topic6\", \"Topic6\", \"Topic6\", \"Topic6\", \"Topic6\", \"Topic6\", \"Topic6\", \"Topic6\", \"Topic6\", \"Topic6\", \"Topic6\", \"Topic6\", \"Topic6\", \"Topic6\", \"Topic6\", \"Topic6\", \"Topic6\", \"Topic6\", \"Topic6\", \"Topic6\", \"Topic6\", \"Topic6\", \"Topic6\", \"Topic6\", \"Topic6\", \"Topic6\", \"Topic6\", \"Topic6\", \"Topic6\", \"Topic6\", \"Topic6\", \"Topic6\", \"Topic6\", \"Topic6\", \"Topic6\", \"Topic6\", \"Topic6\", \"Topic6\", \"Topic6\", \"Topic6\", \"Topic6\", \"Topic6\", \"Topic6\", \"Topic6\", \"Topic6\", \"Topic6\", \"Topic6\", \"Topic6\", \"Topic6\", \"Topic6\", \"Topic6\", \"Topic6\", \"Topic6\", \"Topic6\", \"Topic6\", \"Topic6\", \"Topic7\", \"Topic7\", \"Topic7\", \"Topic7\", \"Topic7\", \"Topic7\", \"Topic7\", \"Topic7\", \"Topic7\", \"Topic7\", \"Topic7\", \"Topic7\", \"Topic7\", \"Topic7\", \"Topic7\", \"Topic7\", \"Topic7\", \"Topic7\", \"Topic7\", \"Topic7\", \"Topic7\", \"Topic7\", \"Topic7\", \"Topic7\", \"Topic7\", \"Topic7\", \"Topic7\", \"Topic7\", \"Topic7\", \"Topic7\", \"Topic7\", \"Topic7\", \"Topic7\", \"Topic7\", \"Topic7\", \"Topic7\", \"Topic7\", \"Topic7\", \"Topic7\", \"Topic7\", \"Topic7\", \"Topic7\", \"Topic7\", \"Topic7\", \"Topic7\", \"Topic7\", \"Topic7\", \"Topic7\", \"Topic7\", \"Topic7\", \"Topic7\", \"Topic7\", \"Topic7\", \"Topic7\", \"Topic7\", \"Topic7\", \"Topic7\", \"Topic7\", \"Topic7\", \"Topic7\", \"Topic7\", \"Topic7\", \"Topic7\", \"Topic7\", \"Topic7\", \"Topic7\", \"Topic7\", \"Topic7\", \"Topic7\", \"Topic8\", \"Topic8\", \"Topic8\", \"Topic8\", \"Topic8\", \"Topic8\", \"Topic8\", \"Topic8\", \"Topic8\", \"Topic8\", \"Topic8\", \"Topic8\", \"Topic8\", \"Topic8\", \"Topic8\", \"Topic8\", \"Topic8\", \"Topic8\", \"Topic8\", \"Topic8\", \"Topic8\", \"Topic8\", \"Topic8\", \"Topic8\", \"Topic8\", \"Topic8\", \"Topic8\", \"Topic8\", \"Topic8\", \"Topic8\", \"Topic8\", \"Topic8\", \"Topic8\", \"Topic8\", \"Topic8\", \"Topic8\", \"Topic8\", \"Topic8\", \"Topic8\", \"Topic8\", \"Topic8\", \"Topic8\", \"Topic8\", \"Topic8\", \"Topic8\", \"Topic8\", \"Topic8\", \"Topic8\", \"Topic8\", \"Topic8\", \"Topic8\", \"Topic8\", \"Topic8\", \"Topic8\", \"Topic8\", \"Topic8\", \"Topic8\", \"Topic8\", \"Topic8\", \"Topic8\", \"Topic8\", \"Topic8\", \"Topic8\", \"Topic8\", \"Topic8\", \"Topic8\", \"Topic8\", \"Topic8\", \"Topic8\", \"Topic9\", \"Topic9\", \"Topic9\", \"Topic9\", \"Topic9\", \"Topic9\", \"Topic9\", \"Topic9\", \"Topic9\", \"Topic9\", \"Topic9\", \"Topic9\", \"Topic9\", \"Topic9\", \"Topic9\", \"Topic9\", \"Topic9\", \"Topic9\", \"Topic9\", \"Topic9\", \"Topic9\", \"Topic9\", \"Topic9\", \"Topic9\", \"Topic9\", \"Topic9\", \"Topic9\", \"Topic9\", \"Topic9\", \"Topic9\", \"Topic9\", \"Topic9\", \"Topic9\", \"Topic9\", \"Topic9\", \"Topic9\", \"Topic9\", \"Topic9\", \"Topic9\", \"Topic9\", \"Topic9\", \"Topic9\", \"Topic9\", \"Topic9\", \"Topic9\", \"Topic9\", \"Topic9\", \"Topic9\", \"Topic9\", \"Topic9\", \"Topic9\", \"Topic9\", \"Topic9\", \"Topic9\", \"Topic9\", \"Topic9\", \"Topic9\", \"Topic9\", \"Topic9\", \"Topic9\", \"Topic9\", \"Topic9\", \"Topic9\", \"Topic9\", \"Topic9\", \"Topic9\", \"Topic9\", \"Topic9\", \"Topic9\", \"Topic9\", \"Topic9\", \"Topic9\", \"Topic10\", \"Topic10\", \"Topic10\", \"Topic10\", \"Topic10\", \"Topic10\", \"Topic10\", \"Topic10\", \"Topic10\", \"Topic10\", \"Topic10\", \"Topic10\", \"Topic10\", \"Topic10\", \"Topic10\", \"Topic10\", \"Topic10\", \"Topic10\", \"Topic10\", \"Topic10\", \"Topic10\", \"Topic10\", \"Topic10\", \"Topic10\", \"Topic10\", \"Topic10\", \"Topic10\", \"Topic10\", \"Topic10\", \"Topic10\", \"Topic10\", \"Topic10\", \"Topic10\", \"Topic10\", \"Topic10\", \"Topic10\", \"Topic10\", \"Topic10\", \"Topic10\", \"Topic10\", \"Topic10\", \"Topic10\", \"Topic10\", \"Topic10\", \"Topic10\", \"Topic10\", \"Topic10\", \"Topic10\", \"Topic10\", \"Topic10\", \"Topic10\", \"Topic10\", \"Topic10\", \"Topic10\", \"Topic10\", \"Topic10\", \"Topic10\", \"Topic10\", \"Topic10\", \"Topic10\", \"Topic10\"], \"Term\": [\"cells\", \"patients\", \"cancer\", \"group\", \"activity\", \"receptor\", \"inhibition\", \"combination\", \"effects\", \"days\", \"diabetes\", \"study\", \"case\", \"treatment\", \"dose\", \"tumor\", \"associated\", \"therapy\", \"trials\", \"human\", \"risk\", \"hepatitis\", \"drug\", \"disease\", \"may\", \"reported\", \"expression\", \"hypertension\", \"metabolic\", \"inhibitor\", \"apoptosis\", \"cytotoxicity\", \"dna\", \"lines\", \"melanoma\", \"curcumin\", \"erk\", \"er\", \"bortezomib\", \"caspase\", \"anticancer\", \"adhesion\", \"hl\", \"transcription\", \"repair\", \"viability\", \"blot\", \"ic\", \"aso\", \"mcf\", \"erlotinib\", \"fak\", \"overexpression\", \"adrp\", \"apoptotic\", \"hypoxic\", \"12(s)-hete\", \"tnfalpha\", \"leukemic\", \"escc\", \"cells\", \"upregulation\", \"chloroquine\", \"microm\", \"inhibition\", \"phosphorylation\", \"glutathione\", \"cox\", \"pancreatic\", \"expression\", \"growth\", \"proliferation\", \"kinase\", \"differentiation\", \"protein\", \"tumor\", \"human\", \"activity\", \"vivo\", \"cancer\", \"pathway\", \"assay\", \"vitro\", \"sensitivity\", \"mice\", \"signaling\", \"induced\", \"carcinoma\", \"increased\", \"results\", \"inhibitor\", \"effects\", \"showed\", \"drug\", \"combination\", \"enhanced\", \"potential\", \"investigated\", \"also\", \"excretion\", \"kg\", \"mpa\", \"eight\", \"delirium\", \"rotation\", \"delapril\", \"manidipine\", \"clearance\", \"shr\", \"furosemide\", \"oas\", \"minutes\", \"esophageal\", \"applied\", \"morphineinduced\", \"microalbuminuria\", \"peak\", \"naproxen\", \"mdas\", \"albumin\", \"cbz\", \"clonidine\", \"aggregation\", \"prazosin\", \"ml\", \"rise\", \"norepinephrine\", \"bronchial\", \"posttraumatic\", \"urinary\", \"urine\", \"paracetamol\", \"vs\", \"infants\", \"mean\", \"measured\", \"days\", \"mm\", \"versus\", \"plasma\", \"volume\", \"group\", \"morphine\", \"infusion\", \"daily\", \"score\", \"concentrations\", \"subjects\", \"receiving\", \"respectively\", \"decreased\", \"weeks\", \"study\", \"patients\", \"mg\", \"increased\", \"dose\", \"randomized\", \"significantly\", \"three\", \"time\", \"compared\", \"rate\", \"effects\", \"treatment\", \"different\", \"response\", \"administration\", \"blood\", \"assessed\", \"bone\", \"asenapine\", \"myeloma\", \"sorafenib\", \"bladder\", \"nsclc\", \"endpoint\", \"anthracycline\", \"capecitabine\", \"pamidronate\", \"adjuvant\", \"oncology\", \"sunitinib\", \"thalidomide\", \"iii\", \"weekly\", \"immunomodulatory\", \"skeletal\", \"ymrs\", \"neutropenia\", \"axitinib\", \"clodronate\", \"fluorouracil\", \"etoposide\", \"radiotherapy\", \"neoadjuvant\", \"ps\", \"manic\", \"oxaliplatin\", \"progressionfree\", \"sclerosis\", \"advanced\", \"survival\", \"objective\", \"metastatic\", \"chemotherapy\", \"thyroid\", \"trials\", \"hormone\", \"achieved\", \"overall\", \"median\", \"phase\", \"plus\", \"stage\", \"cancer\", \"rate\", \"response\", \"breast\", \"patients\", \"criteria\", \"efficacy\", \"determine\", \"treatment\", \"improved\", \"therapy\", \"progression\", \"toxicity\", \"weeks\", \"combination\", \"clinical\", \"disease\", \"study\", \"compared\", \"severe\", \"treated\", \"data\", \"diabetes\", \"aspirin\", \"insulin\", \"vitamin\", \"intake\", \"obesity\", \"dietary\", \"testosterone\", \"coumadin\", \"deficiency\", \"fatty\", \"mellitus\", \"anemia\", \"tzd\", \"metabolic\", \"aceiarb\", \"statin\", \"lipoprotein\", \"clopidogrel\", \"thrombotic\", \"hemoglobin\", \"rheumatic\", \"cardioembolic\", \"rfviia\", \"bmi\", \"niddm\", \"feiba\", \"lifestyle\", \"mass\", \"hyperlipidemia\", \"replacement\", \"warfarin\", \"ed\", \"type\", \"glucose\", \"embolization\", \"modification\", \"risk\", \"cholesterol\", \"prevention\", \"serum\", \"per\", \"stroke\", \"iron\", \"group\", \"levels\", \"age\", \"patients\", \"syndrome\", \"study\", \"control\", \"complications\", \"low\", \"acid\", \"disease\", \"factor\", \"total\", \"associated\", \"therapy\", \"nm\", \"behavior\", \"ischemia\", \"contractions\", \"neuronal\", \"parkinson's\", \"gabaar\", \"schizophrenia\", \"log\", \"ketanserin\", \"harp\", \"antagonized\", \"work\", \"nickel\", \"peptide\", \"rings\", \"nmda\", \"gaba\", \"artemisinins\", \"catalepsy\", \"temporal\", \"adr\", \"movements\", \"terminal\", \"pcbs\", \"decline\", \"apomorphine\", \"glutamate\", \"neuroleptic\", \"hta\", \"dopamine\", \"brain\", \"batteries\", \"transmission\", \"pd\", \"hazardous\", \"estrogen\", \"hypothesis\", \"subunits\", \"receptor\", \"agonist\", \"research\", \"5-ht\", \"ad\", \"properties\", \"models\", \"pharmacological\", \"role\", \"mediated\", \"activity\", \"target\", \"process\", \"gene\", \"involved\", \"components\", \"function\", \"human\", \"associated\", \"may\", \"tested\", \"used\", \"contribute\", \"affect\", \"potential\", \"data\", \"effects\", \"levels\", \"however\", \"disorder\", \"evidence\", \"toxicity\", \"results\", \"important\", \"transdermal\", \"ep\", \"levobupivacaine\", \"bupivacaine\", \"analgesia\", \"olanzapine\", \"zaleplon\", \"te\", \"immediately\", \"adolescents\", \"bodyweight\", \"risperidone\", \"gain\", \"blue\", \"ramosetron\", \"gliomas\", \"highgrade\", \"med\", \"lethal\", \"microgkg\", \"intrathecal\", \"ziprasidone\", \"intracranially\", \"opioidrelated\", \"mr\", \"longacting\", \"hypoventilation\", \"pericarditis\", \"sedation\", \"methylene\", \"acetaminophen\", \"removal\", \"halflife\", \"hours\", \"abnormal\", \"clozapine\", \"growing\", \"children\", \"advantages\", \"pain\", \"adults\", \"fentanyl\", \"postoperative\", \"depression\", \"monitoring\", \"given\", \"adverse\", \"required\", \"mg\", \"development\", \"well\", \"risk\", \"reported\", \"used\", \"may\", \"patients\", \"potential\", \"effects\", \"study\", \"clinical\", \"increased\", \"suggest\", \"efficacy\", \"including\", \"drug\", \"also\", \"treated\", \"treatment\", \"hypertension\", \"oxygen\", \"blocker\", \"androgen\", \"sexual\", \"antihypertensive\", \"amlodipine\", \"rheumatoid\", \"elderly\", \"fluoroquinolones\", \"terazosin\", \"mtx\", \"perindopril\", \"reuptake\", \"vasodilation\", \"angiotensin\", \"betablockers\", \"fluoxetine\", \"nephropathy\", \"enzalutamide\", \"dmards\", \"hemodynamics\", \"abiraterone\", \"aviptadil\", \"iconverting\", \"ammonia\", \"rigidity\", \"copd\", \"ssris\", \"arb\", \"arthritis\", \"vascular\", \"pathogenesis\", \"practice\", \"obstructive\", \"variants\", \"ar\", \"methotrexate\", \"cardiovascular\", \"pressure\", \"renal\", \"combination\", \"channel\", \"endothelial\", \"reactive\", \"enzyme\", \"inhibitor\", \"blood\", \"oxidative\", \"drug\", \"prostate\", \"effects\", \"treatment\", \"disease\", \"therapy\", \"evaluated\", \"action\", \"study\", \"efficacy\", \"available\", \"patients\", \"used\", \"agents\", \"present\", \"mechanisms\", \"control\", \"receptor\", \"resistance\", \"reduced\", \"hepatitis\", \"infection\", \"virus\", \"hcv\", \"cd\", \"strains\", \"aminotransferase\", \"fibrosis\", \"immunodeficiency\", \"aids\", \"encephalopathy\", \"carbonate\", \"immunosuppressive\", \"protease\", \"azithromycin\", \"antiretroviral\", \"cirrhosis\", \"nucleoside\", \"aminoglycoside\", \"genotype\", \"zidovudine\", \"vasculitis\", \"specimens\", \"thymalfasin\", \"pneumonia\", \"hbv\", \"lupus\", \"periodontal\", \"excluded\", \"cystic\", \"hiv\", \"antibiotic\", \"viral\", \"liver\", \"lymphocytic\", \"ribavirin\", \"case\", \"literature\", \"immune\", \"steroid\", \"detected\", \"describe\", \"interferon\", \"course\", \"antibody\", \"fever\", \"yearold\", \"chronic\", \"reported\", \"positive\", \"therapy\", \"treatment\", \"isolated\", \"major\", \"resistance\", \"disease\", \"clinical\", \"failure\", \"severe\", \"one\", \"present\", \"patients\", \"control\", \"due\", \"cause\", \"following\", \"improved\", \"days\", \"months\", \"neuropathy\", \"arrhythmias\", \"exercise\", \"oestrogen\", \"alkaloids\", \"ventricular\", \"progestogens\", \"imatinib\", \"hes\", \"spleen\", \"amiodarone\", \"rr\", \"sensory\", \"indomethacin\", \"endometrial\", \"uremic\", \"irregular\", \"verapamil\", \"cytogenetic\", \"neurotoxicity\", \"previous\", \"hemosiderin\", \"taxine\", \"eoscmd\", \"menstrual\", \"fpn\", \"hemolytic\", \"ferritin\", \"mucosal\", \"tqp\", \"maintenance\", \"signs\", \"myocardial\", \"gi\", \"symptomatic\", \"left\", \"asa\", \"infarction\", \"cardiac\", \"bleeding\", \"often\", \"refractory\", \"ulcers\", \"associated\", \"coronary\", \"dose\", \"previously\", \"syndrome\", \"acute\", \"known\", \"used\", \"injury\", \"may\", \"death\", \"recurrent\", \"agents\", \"reported\", \"treatment\", \"development\", \"observed\", \"drug\", \"treated\", \"low\", \"management\", \"patients\", \"toxicity\", \"clinical\", \"symptoms\", \"severe\", \"well\", \"administration\", \"therapy\", \"chromium(vi)\", \"tea\", \"chloride\", \"ph\", \"visual\", \"nicotine\", \"membrane\", \"ocular\", \"ascorbic\", \"anesthesia\", \"carbachol\", \"eserine\", \"chromium\", \"polyphenols\", \"tremor\", \"salts\", \"dermatitis\", \"adrenergic\", \"ions\", \"propofol\", \"vocalization\", \"fighting\", \"ingestion\", \"guanethidine\", \"flavonoids\", \"mydriasis\", \"clonictonic\", \"ripc\", \"chromiumiii\", \"cataract\", \"poisoning\", \"allergic\", \"seizures\", \"rats\", \"exposure\", \"sites\", \"injection\", \"inflammatory\", \"skin\", \"calcium\", \"produced\", \"acid\", \"pretreatment\", \"system\", \"effects\", \"dependent\", \"enhanced\", \"cause\", \"whether\", \"action\", \"induced\", \"toxicity\", \"may\", \"investigated\", \"also\", \"study\", \"increased\", \"used\", \"results\", \"human\", \"showed\"], \"loglift\": [30.0, 29.0, 28.0, 27.0, 26.0, 25.0, 24.0, 23.0, 22.0, 21.0, 20.0, 19.0, 18.0, 17.0, 16.0, 15.0, 14.0, 13.0, 12.0, 11.0, 10.0, 9.0, 8.0, 7.0, 6.0, 5.0, 4.0, 3.0, 2.0, 1.0, 2.0116999999999998, 2.0108999999999999, 2.0106999999999999, 2.0106000000000002, 2.0102000000000002, 2.0087000000000002, 2.0082, 2.0076999999999998, 2.0076999999999998, 2.0076000000000001, 2.0074000000000001, 2.0072000000000001, 2.0066000000000002, 2.0061, 2.0059999999999998, 2.0057, 2.0057, 2.0053999999999998, 2.0051999999999999, 2.0043000000000002, 2.0043000000000002, 2.0043000000000002, 2.0043000000000002, 2.004, 2.0038999999999998, 2.0038999999999998, 2.0036, 2.0032000000000001, 2.0026999999999999, 2.0026999999999999, 1.9919, 2.0009999999999999, 2.0026000000000002, 1.9970000000000001, 1.9353, 1.9903999999999999, 1.9779, 1.998, 1.9843999999999999, 1.9067000000000001, 1.9118999999999999, 1.9500999999999999, 1.9186000000000001, 1.9367000000000001, 1.8635999999999999, 1.8055000000000001, 1.5039, 1.3993, 1.7488999999999999, 1.2337, 1.6786000000000001, 1.7910999999999999, 1.6472, 1.6919999999999999, 1.5996999999999999, 1.7075, 1.151, 1.5477000000000001, 0.75770000000000004, 0.85880000000000001, 0.87860000000000005, 0.1605, 1.0571999999999999, 0.40479999999999999, 0.51229999999999998, 1.3387, 0.7722, 0.77800000000000002, 0.46800000000000003, 2.2635999999999998, 2.2633000000000001, 2.2631000000000001, 2.2631000000000001, 2.2629999999999999, 2.2625000000000002, 2.2624, 2.2624, 2.2621000000000002, 2.2618, 2.2616999999999998, 2.2614000000000001, 2.2595999999999998, 2.2585999999999999, 2.2583000000000002, 2.2583000000000002, 2.2582, 2.2576999999999998, 2.2574000000000001, 2.2570999999999999, 2.2566999999999999, 2.2566999999999999, 2.2565, 2.2563, 2.2563, 2.2559, 2.2557, 2.2547000000000001, 2.2545000000000002, 2.254, 2.2486000000000002, 2.2505000000000002, 2.2454999999999998, 2.2117, 2.2320000000000002, 2.1636000000000002, 2.1421999999999999, 2.0360999999999998, 2.1671999999999998, 2.1400000000000001, 1.9776, 2.1387999999999998, 1.6998, 2.0455999999999999, 1.8741000000000001, 1.9159999999999999, 1.9311, 1.6168, 1.7814000000000001, 1.5751999999999999, 1.6944999999999999, 1.4992000000000001, 1.5074000000000001, 0.84709999999999996, 0.55289999999999995, 1.2579, 1.0229999999999999, 1.1315999999999999, 1.5570999999999999, 1.2948, 1.4514, 1.5087999999999999, 1.1265000000000001, 1.2199, 0.19989999999999999, 0.092600000000000002, 1.1907000000000001, 0.82079999999999997, 1.1028, 1.0181, 1.2798, 2.2753000000000001, 2.2751999999999999, 2.2743000000000002, 2.2740999999999998, 2.274, 2.2738999999999998, 2.2736999999999998, 2.2734000000000001, 2.2732999999999999, 2.2726000000000002, 2.2717999999999998, 2.2713999999999999, 2.2709999999999999, 2.2709999999999999, 2.2702, 2.2698999999999998, 2.2696000000000001, 2.2696000000000001, 2.2692000000000001, 2.2690000000000001, 2.2685, 2.2679, 2.2673999999999999, 2.2671999999999999, 2.2669000000000001, 2.2662, 2.2658999999999998, 2.2652999999999999, 2.2652999999999999, 2.2644000000000002, 2.2631000000000001, 2.2395999999999998, 2.1998000000000002, 2.2193000000000001, 2.1991999999999998, 2.1217000000000001, 2.2160000000000002, 1.9975000000000001, 2.0928, 2.0402999999999998, 2.0672999999999999, 2.0257999999999998, 1.9831000000000001, 2.0663999999999998, 2.0758999999999999, 1.5005999999999999, 1.6627000000000001, 1.5451999999999999, 1.7544999999999999, 1.0408999999999999, 2.0649999999999999, 1.3676999999999999, 1.4486000000000001, 0.77510000000000001, 1.3313999999999999, 0.96040000000000003, 1.5716000000000001, 1.1209, 1.3494999999999999, 0.91149999999999998, 0.86580000000000001, 0.7288, 0.25779999999999997, 0.89890000000000003, 0.87190000000000001, 0.62629999999999997, 1.0543, 2.3033999999999999, 2.3028, 2.3028, 2.3020999999999998, 2.3016999999999999, 2.3010999999999999, 2.3010000000000002, 2.3007, 2.3006000000000002, 2.3005, 2.3003999999999998, 2.3003999999999998, 2.2993999999999999, 2.2993000000000001, 2.2989000000000002, 2.2984, 2.2984, 2.2978000000000001, 2.2970999999999999, 2.2963, 2.2957999999999998, 2.2957000000000001, 2.2957000000000001, 2.2953000000000001, 2.2953000000000001, 2.2951000000000001, 2.2944, 2.2938000000000001, 2.2926000000000002, 2.2924000000000002, 2.2915999999999999, 2.2881, 2.2690999999999999, 2.1562999999999999, 2.0912999999999999, 2.2549999999999999, 2.2787000000000002, 1.8418000000000001, 2.1009000000000002, 1.8458000000000001, 1.9177, 1.9787999999999999, 1.9427000000000001, 1.923, 1.4648000000000001, 1.4932000000000001, 1.728, 0.51849999999999996, 1.6082000000000001, 0.73080000000000001, 1.3031999999999999, 1.7179, 1.5931999999999999, 1.3148, 0.77100000000000002, 1.2855000000000001, 1.5475000000000001, 0.76000000000000001, 0.12379999999999999, 2.3073000000000001, 2.3067000000000002, 2.3058000000000001, 2.3056999999999999, 2.3056000000000001, 2.3052999999999999, 2.3046000000000002, 2.3043999999999998, 2.3043999999999998, 2.3041, 2.3033999999999999, 2.3031999999999999, 2.3029999999999999, 2.3029000000000002, 2.3024, 2.3016999999999999, 2.3012000000000001, 2.3008999999999999, 2.2997999999999998, 2.2997000000000001, 2.2993999999999999, 2.2987000000000002, 2.2987000000000002, 2.2987000000000002, 2.2986, 2.2978000000000001, 2.2978000000000001, 2.2978000000000001, 2.2976000000000001, 2.2976000000000001, 2.2955000000000001, 2.2827000000000002, 2.2938000000000001, 2.2906, 2.2711000000000001, 2.2892999999999999, 2.2170000000000001, 2.2385999999999999, 2.2572000000000001, 2.0215999999999998, 2.1558999999999999, 2.2058, 2.2635000000000001, 2.1787999999999998, 2.1617000000000002, 1.9509000000000001, 2.2511000000000001, 1.7137, 1.9301999999999999, 1.3333999999999999, 1.7855000000000001, 2.0043000000000002, 1.8392999999999999, 1.6725000000000001, 2.1280000000000001, 1.4045000000000001, 0.98709999999999998, 0.89410000000000001, 0.6915, 1.2084999999999999, 0.34860000000000002, 1.9219999999999999, 1.5526, 0.86780000000000002, 1.0271999999999999, -0.27789999999999998, 0.5615, 0.88529999999999998, 1.226, 1.2955000000000001, 0.52800000000000002, 0.26469999999999999, 1.3125, 2.3138000000000001, 2.3132999999999999, 2.3128000000000002, 2.3127, 2.3123, 2.3121999999999998, 2.3117000000000001, 2.3115999999999999, 2.3113000000000001, 2.3109000000000002, 2.3104, 2.3102999999999998, 2.3102, 2.3098000000000001, 2.3096999999999999, 2.3090000000000002, 2.3089, 2.3083, 2.3081999999999998, 2.3071999999999999, 2.3068, 2.3065000000000002, 2.3062999999999998, 2.3060999999999998, 2.3060999999999998, 2.3060999999999998, 2.3052000000000001, 2.3050999999999999, 2.3050999999999999, 2.3047, 2.3020999999999998, 2.2991000000000001, 2.2976999999999999, 2.2391000000000001, 2.1892999999999998, 2.2113999999999998, 2.2816000000000001, 2.1269999999999998, 2.2061000000000002, 1.9601999999999999, 2.0225, 2.0224000000000002, 2.0667, 1.9688000000000001, 1.9654, 1.7867999999999999, 1.7513000000000001, 1.7955000000000001, 1.3967000000000001, 1.3166, 1.446, 1.2751999999999999, 1.2354000000000001, 0.76419999999999999, 0.97119999999999995, 0.2412, 1.2472000000000001, 0.47110000000000002, 0.33029999999999998, 0.86199999999999999, 0.58079999999999998, 1.077, 1.0088999999999999, 0.99480000000000002, 0.42849999999999999, 0.76470000000000005, 0.72170000000000001, -0.53210000000000002, 2.3426999999999998, 2.3416000000000001, 2.3414999999999999, 2.3393999999999999, 2.3384, 2.3382999999999998, 2.3380999999999998, 2.3380000000000001, 2.3380000000000001, 2.3372000000000002, 2.3372000000000002, 2.3363, 2.3357000000000001, 2.3355000000000001, 2.3348, 2.3342000000000001, 2.3332999999999999, 2.3330000000000002, 2.3329, 2.3327, 2.3323999999999998, 2.3323999999999998, 2.3321000000000001, 2.3315999999999999, 2.3315000000000001, 2.3309000000000002, 2.3304999999999998, 2.3304999999999998, 2.3304999999999998, 2.3296999999999999, 2.3212999999999999, 2.3121999999999998, 2.3117999999999999, 2.3121999999999998, 2.3214999999999999, 2.2978000000000001, 2.2519, 2.2281, 2.1223000000000001, 2.0884999999999998, 1.974, 1.6932, 2.1160999999999999, 2.0821000000000001, 2.1675, 1.9872000000000001, 1.6153999999999999, 1.6722999999999999, 1.9172, 1.3536999999999999, 1.9433, 0.81279999999999997, 0.75390000000000001, 1.0801000000000001, 1.0187999999999999, 1.2929999999999999, 1.6398999999999999, 0.48849999999999999, 1.1970000000000001, 1.8904000000000001, -0.0037000000000000002, 0.39789999999999998, 1.0848, 1.2601, 1.2399, 0.94220000000000004, 0.72719999999999996, 1.0984, 0.92279999999999995, 2.3816000000000002, 2.3813, 2.3788999999999998, 2.3765999999999998, 2.3763999999999998, 2.3759999999999999, 2.3755000000000002, 2.3754, 2.3738999999999999, 2.3734000000000002, 2.3733, 2.3727999999999998, 2.3727, 2.3725999999999998, 2.3721999999999999, 2.3721000000000001, 2.3721000000000001, 2.3719999999999999, 2.3711000000000002, 2.3711000000000002, 2.3711000000000002, 2.3708, 2.3708, 2.3706999999999998, 2.3704999999999998, 2.3698000000000001, 2.3693, 2.3690000000000002, 2.3690000000000002, 2.3685999999999998, 2.3666999999999998, 2.3668999999999998, 2.3647, 2.3410000000000002, 2.3633999999999999, 2.3620000000000001, 2.2570999999999999, 2.3336999999999999, 2.3077999999999999, 2.2229999999999999, 2.2542, 2.1857000000000002, 2.2669999999999999, 2.1894999999999998, 2.2923, 2.2999999999999998, 2.1473, 1.6256999999999999, 1.3888, 1.9581, 1.0206, 0.7077, 1.8413999999999999, 1.7219, 1.3038000000000001, 0.85609999999999997, 0.84570000000000001, 1.4646999999999999, 1.0445, 1.1201000000000001, 1.1543000000000001, -0.4546, 0.82879999999999998, 1.1753, 0.7399, 1.085, 0.74019999999999997, 0.60009999999999997, 1.1108, 2.4196, 2.4188999999999998, 2.4182999999999999, 2.4171999999999998, 2.4165999999999999, 2.4165000000000001, 2.4163999999999999, 2.4161000000000001, 2.4156, 2.4152, 2.415, 2.4142000000000001, 2.4138999999999999, 2.4136000000000002, 2.4133, 2.4129, 2.4125999999999999, 2.4125000000000001, 2.4123000000000001, 2.4121999999999999, 2.4119000000000002, 2.4117999999999999, 2.4115000000000002, 2.4115000000000002, 2.4113000000000002, 2.4106000000000001, 2.4104000000000001, 2.4104000000000001, 2.4091, 2.4081000000000001, 2.4033000000000002, 2.3980999999999999, 2.3755000000000002, 2.3948999999999998, 2.3681000000000001, 2.3694000000000002, 2.3866999999999998, 2.3262999999999998, 2.1873, 2.2162999999999999, 2.1871, 2.1989999999999998, 2.2585999999999999, 1.6274, 2.0493999999999999, 1.5651999999999999, 2.0586000000000002, 1.7109000000000001, 1.6301000000000001, 1.7937000000000001, 0.95469999999999999, 2.0222000000000002, 1.1027, 1.6306, 1.9784999999999999, 1.2614000000000001, 1.1870000000000001, 0.46450000000000002, 1.1558999999999999, 1.2886, 0.79910000000000003, 1.0302, 1.5107999999999999, 1.5275000000000001, -0.053400000000000003, 0.81299999999999994, 0.61040000000000005, 1.2015, 0.88249999999999995, 1.0894999999999999, 0.96709999999999996, 0.10299999999999999, 2.4420000000000002, 2.4419, 2.4417, 2.4413999999999998, 2.4411, 2.4409999999999998, 2.4409000000000001, 2.4405999999999999, 2.4399999999999999, 2.4399999999999999, 2.4398, 2.4394999999999998, 2.4394, 2.4392999999999998, 2.4392999999999998, 2.4392, 2.4386999999999999, 2.4384000000000001, 2.4382000000000001, 2.4380999999999999, 2.4380000000000002, 2.4379, 2.4375, 2.4367999999999999, 2.4365999999999999, 2.4365000000000001, 2.4365000000000001, 2.4359999999999999, 2.4359999999999999, 2.4359000000000002, 2.4184000000000001, 2.4291, 2.3052000000000001, 2.1280000000000001, 2.1837, 2.2572000000000001, 2.1465999999999998, 2.1989000000000001, 2.1572, 1.8375999999999999, 1.8993, 1.6451, 2.077, 1.6681999999999999, 0.88919999999999999, 1.9431, 1.7314000000000001, 1.3275999999999999, 1.6614, 1.7072000000000001, 1.012, 1.0165999999999999, 0.73839999999999995, 1.0996999999999999, 0.90349999999999997, -0.0073000000000000001, 0.36749999999999999, 0.0309, 0.45000000000000001, 0.42549999999999999, 0.89380000000000004], \"Freq\": [4408.0, 8407.0, 2470.0, 1888.0, 2427.0, 1501.0, 1387.0, 1799.0, 4970.0, 1318.0, 922.0, 4493.0, 1076.0, 4594.0, 1846.0, 1452.0, 1741.0, 2400.0, 1188.0, 1598.0, 1183.0, 758.0, 2242.0, 2147.0, 2082.0, 1276.0, 975.0, 689.0, 710.0, 1519.0, 526.02398894177577, 364.4811132590807, 333.27396682037823, 684.81329287987933, 281.87396092133895, 188.25252160523152, 168.9775193930918, 156.12751791833196, 155.20966067013481, 153.37394617374053, 146.94894543636065, 142.359659195375, 129.50965772061517, 121.24894248684099, 119.41322799044671, 114.82394174946107, 114.82394174946107, 110.23465550847541, 108.39894101208115, 97.384654033715577, 97.384654033715577, 96.46679678551844, 96.46679678551844, 93.713225040927057, 92.79536779272992, 92.79536779272992, 90.041796048138536, 179.99180637145736, 82.698938062561496, 82.698938062561496, 4314.9387094995318, 225.88466878131391, 173.56680563407744, 235.98109851148237, 1283.2562187044086, 167.14180489669752, 238.73467025607377, 122.16679973503811, 162.55251865571185, 876.64545775307977, 714.18472482218749, 269.02395944657911, 377.33111473384054, 292.88824789970448, 724.28115455235593, 1179.5383496581328, 960.1704673390185, 1313.545507894914, 319.5061080974213, 1132.7276300000792, 356.22039802530651, 251.58467173083361, 340.61682480595528, 304.82039212626717, 329.60253782758974, 273.61324568756476, 622.39900000247451, 341.53468205415243, 699.49900885103352, 533.36684692735275, 488.39184176569336, 779.35258944418388, 366.31682775547495, 448.92398009321676, 401.19540318696596, 310.32753561544996, 332.35610957218114, 328.68468057939259, 310.32753561544996, 143.36487721495777, 135.62065697377164, 131.7485468531786, 130.78051932303035, 128.84446426273379, 120.13221649139945, 118.19616143110292, 118.19616143110292, 114.32405131050984, 109.48391365976855, 108.51588612962028, 104.64377600902722, 86.251252936210221, 78.507032695024122, 76.570977634727598, 76.570977634727598, 75.602950104579335, 72.698867514134548, 70.762812453838023, 68.826757393541499, 66.89070233324496, 66.89070233324496, 65.922674803096697, 64.954647272948435, 64.954647272948435, 63.018592212651917, 62.050564682503655, 124.00432661199248, 57.21042703176235, 55.274371971465818, 221.77510715696704, 146.26895980540255, 116.26010637080637, 288.56900673719724, 123.03629908184422, 445.38946662121583, 592.52965120375177, 1043.6304802528423, 216.93496950622574, 275.01662131512154, 446.35749415136416, 135.62065697377164, 1067.8311685065489, 211.12680432533617, 383.43570469172698, 294.37717191808679, 255.65607071215632, 518.95955891248389, 316.64180511149686, 481.20648523670155, 338.90643830490694, 456.0377694528467, 389.24386987261659, 1083.3196089889211, 1510.2197497843051, 508.31125608085296, 705.78887223109859, 591.56162367360355, 305.02547474971772, 406.66836541528534, 336.00235571446211, 295.34519944823512, 412.47653059617494, 367.94726420935478, 627.37864228908927, 520.89561397278032, 325.35405288283124, 368.91529173950306, 303.08941968942116, 304.05744721956944, 297.28125450853162, 429.52206555343804, 130.83198219812567, 114.60919811812465, 111.7463538687127, 110.79207245224207, 109.83779103577142, 106.97494678635948, 103.1578211204769, 101.24925828753561, 93.61500695577044, 183.31746010401122, 83.117911374593319, 80.255067125181384, 80.255067125181384, 231.03153092754354, 72.620815793416199, 70.712252960474913, 70.712252960474913, 68.803690127533613, 67.849408711062964, 64.986564461651028, 62.123720212239093, 60.215157379297807, 59.260875962827164, 58.306594546356514, 55.443750296944579, 54.489468880473929, 52.580906047532629, 52.580906047532629, 49.718061798120694, 98.386414038123661, 428.56778413696748, 481.05326204285302, 194.76883710165899, 308.32832566166599, 506.81886028756043, 100.29497687106496, 894.25711537464304, 232.94009376048481, 336.00248673931469, 239.62006367577939, 296.87694866401824, 350.31670798637441, 210.99162118165995, 197.63168135107091, 1130.9189066593633, 565.98430810874061, 752.06918432051668, 390.39652747814154, 2430.6501958923841, 148.00904769459729, 476.28185496049974, 384.67083897931769, 1018.313699515827, 431.43062838637934, 640.41825859345101, 276.83703891813462, 433.33919121932064, 328.36823540754949, 457.19622663108686, 436.20203546873256, 454.33338238167482, 593.65846918638931, 324.55110974166695, 283.51700883342914, 283.51700883342914, 268.2485061698988, 921.86015470755171, 580.46659408154062, 562.90921096363149, 389.28620013097441, 327.83535921829241, 272.23697934491344, 257.60582674665585, 238.0976232823123, 233.22057241622645, 229.31893172335771, 223.46647068405468, 221.51565033762034, 175.67137219641313, 173.72055184997879, 706.29450642655615, 146.4090669998979, 146.4090669998979, 133.72873474807463, 121.04840249625136, 108.3680702444281, 102.51560920512505, 101.54019903190786, 100.56478885869069, 96.663148165821994, 96.663148165821994, 94.712327819387653, 87.884456606867417, 83.00740574078155, 74.228714181826987, 73.253304008609803, 145.43365682668073, 114.22053128373115, 185.42547392858486, 629.23710274239932, 519.01575316885862, 131.77791440164029, 108.3680702444281, 745.31091335524309, 225.41729103048903, 609.72889927805579, 426.35178671322706, 290.76977263603976, 294.67141332890844, 289.79436246282256, 815.54044582687959, 717.02401833194506, 321.00748800577219, 1409.5652413161388, 342.46651181655, 931.61425643972348, 450.7370410436564, 287.84354211638822, 315.15502696646911, 370.75340683984808, 463.41737329547965, 341.49110164333285, 299.54846419499432, 371.72881701306528, 271.26156917169624, 248.64222173511871, 210.71205543269193, 174.77821367249814, 169.78740231691569, 166.79291550356621, 157.80945506351773, 139.84253418342084, 134.85172282783839, 134.85172282783839, 128.86274920113942, 117.88296421885798, 113.890315134392, 110.89582832104252, 109.89766604992603, 102.91053015211057, 95.923394254295104, 90.932582898712624, 87.938096085363142, 78.954635645314696, 77.956473374198211, 75.960148831965213, 71.967499747499232, 71.967499747499232, 71.967499747499232, 70.969337476382748, 66.976688391916753, 66.976688391916753, 66.976688391916753, 65.978526120800268, 65.978526120800268, 243.65141037953626, 418.32980782492274, 106.90317923657655, 89.934420627596126, 134.85172282783839, 83.945447000897161, 185.75799865477958, 140.84069645453732, 115.88663967662498, 1124.030533504284, 253.63303309070119, 151.82048143681877, 100.91420560987757, 172.78188913026514, 182.7635118414301, 435.2985664339032, 108.89950377880953, 408.34818511375789, 237.66243675283729, 913.41829429870404, 324.50255433997233, 196.73778363706103, 263.61465580186615, 278.58708986861359, 140.84069645453732, 314.52093162880738, 425.31694372273824, 422.32245690938873, 412.34083419822383, 283.57790122419607, 483.21035544749492, 169.78740231691569, 209.71389316157544, 271.59995397079814, 253.63303309070119, 373.41250562468059, 280.58341441084656, 243.65141037953626, 214.70470451715792, 207.71756861934244, 232.67162539725481, 218.69735360162389, 197.73594590817751, 262.0015169189756, 231.89793397156356, 201.79435102415161, 198.78399272941041, 183.73220125570441, 179.71839019604951, 162.65969319251604, 158.64588213286109, 149.61480724863753, 140.58373236441392, 130.5492047152766, 127.53884642053541, 126.53539365562168, 119.51122430122554, 118.50777153631181, 107.46979112226074, 106.46633835734701, 99.442169002950877, 98.438716238037159, 88.404188588899828, 84.390377529244901, 82.383471999417438, 80.376566469589974, 79.373113704676229, 79.373113704676229, 79.373113704676229, 73.352397115193853, 72.348944350280107, 72.348944350280107, 70.342038820452643, 122.52158259596673, 101.44907453277835, 91.414546883641023, 268.02223350845799, 411.51597889112173, 204.8047093188928, 100.44562176786462, 340.27083258224673, 158.64588213286109, 690.47584753713932, 390.44347082793331, 344.28464364190165, 220.85995355751254, 253.97389479966569, 223.87031185225371, 338.26392705241926, 338.26392705241926, 306.15343857517985, 557.016629803613, 451.65408948767106, 357.32952958578016, 417.53669548060412, 432.5884869543101, 727.60359983894739, 541.96483832990691, 1054.7292012008243, 394.45728188758829, 784.80040743903021, 616.22034293352317, 419.54360101043164, 432.5884869543101, 334.25011599276434, 321.20523004888582, 311.17070239974845, 339.26737981733299, 308.16034410500731, 301.13617475061113, 266.01532797863052, 689.02050735349997, 368.5686428895624, 353.86901607929002, 191.19314604560921, 157.87399194232518, 152.97411633890104, 149.05421585616176, 146.11429049410728, 146.11429049410728, 129.45471344246528, 129.45471344246528, 113.77511151150809, 104.95533542534467, 102.99538518397502, 95.155584218496429, 286.25073275203715, 81.435932528908879, 79.475982287539239, 78.496007166854412, 77.516032046169599, 75.556081804799945, 75.556081804799945, 73.596131563430291, 70.656206201375809, 69.676231080690997, 66.73630571863653, 64.776355477266875, 64.776355477266875, 64.776355477266875, 60.856454994527581, 205.89277285588156, 399.92784675147681, 117.69501199424737, 115.73506175287774, 82.415907649593706, 120.63493735630186, 151.01416609753142, 172.57361875259753, 377.38841897572581, 315.64998637258191, 364.64874240682309, 938.9141631281301, 181.39339483876094, 204.91279773519673, 147.09426561479211, 261.75135473491656, 733.11938778431704, 543.0042143714611, 261.75135473491656, 833.076850094169, 237.25197671779591, 1075.1307049033205, 936.9542128867605, 606.70259721597461, 638.06180107788907, 400.90782187216161, 275.47100642450414, 702.74015904308749, 377.38841897572581, 211.77262357999052, 803.67759647362436, 491.06553297516541, 325.44973757943012, 294.09053371751577, 273.51105618313443, 301.93033468299438, 298.01043420025508, 267.63120545902552, 269.59115570039512, 757.52722109386968, 605.27012793418089, 225.59104752331115, 142.71693352499949, 137.89867108323719, 130.18945117641749, 120.55292629289288, 118.62562131618795, 98.388919060786279, 93.570656619023964, 92.607004130671513, 87.788741688909198, 86.825089200556732, 85.861436712204281, 82.970479247146898, 82.006826758794432, 82.006826758794432, 81.043174270441966, 75.261259340327214, 75.261259340327214, 75.261259340327214, 73.333954363622283, 73.333954363622283, 72.370301875269817, 71.406649386917366, 67.552039433507517, 64.661081968450134, 63.697429480097675, 63.697429480097675, 61.770124503392751, 233.30026743013084, 174.51746564063069, 103.20718150254858, 537.81445374950863, 96.461614084081347, 89.71604666561413, 949.2940662760094, 115.73466385113058, 136.93501859488472, 279.555586871049, 187.04494798921269, 299.79228912645067, 141.75328103664702, 198.60877784944225, 119.58927380454043, 103.20718150254858, 156.20806836193393, 526.25062388927904, 472.28608454154124, 161.98998329204872, 614.90665281770544, 860.63803734758312, 182.22668554745039, 204.39069277955701, 316.17438142844253, 466.50416961142645, 386.52101307817219, 229.44565747672098, 304.610551568213, 262.20984208070468, 254.50062217388498, 492.52278679694291, 259.31888461564733, 221.73643756990128, 232.33661494177838, 203.42704029120455, 215.95452263978652, 221.73643756990128, 196.68147287273729, 213.99499977252961, 181.31644821078282, 160.52100630785307, 134.77426871374956, 121.9008999166978, 255.58588357838917, 118.93012250199355, 114.96908594905454, 107.04701284317655, 102.09571715200279, 100.11519887553328, 91.202866631420534, 89.222348354951023, 86.251570940246779, 83.280793525542521, 80.310016110838276, 78.329497834368766, 77.339238696134018, 76.34897955789927, 75.358720419664508, 154.57945147844455, 73.378202143195011, 71.397683866725515, 71.397683866725515, 70.407424728490767, 66.44638817555176, 65.456129037317012, 65.456129037317012, 59.51457420790851, 55.55353765496951, 139.72556440492332, 107.04701284317655, 295.19624910777918, 97.144421460829037, 168.44307941373108, 159.53074716961831, 100.11519887553328, 142.69634181962758, 413.03708655771447, 333.81635549893446, 202.11189011371258, 156.55996975491408, 127.84245474610631, 785.37452253398078, 231.81966426075513, 782.40374511927655, 202.11189011371258, 336.78713291363874, 355.602056540099, 246.67355133427637, 791.31607736338924, 172.40411596667008, 555.63440246351854, 275.39106634308416, 174.38463424313957, 358.57283395480323, 370.45594361362021, 647.72850231935035, 345.69946515775149, 307.07935876659621, 441.7546015665223, 368.47542533715074, 257.56640185485867, 253.60536530191968, 706.15379147520071, 276.38132548131892, 293.21573083130971, 232.80992339898987, 248.65406961074589, 224.88785029311185, 226.86836856958135, 235.78070081369412, 220.91705459334833, 214.89478141043108, 206.86508383320802, 189.80197648160913, 180.76856670723325, 176.7537179186217, 171.73515693285734, 163.7054593556343, 146.64235200403542, 145.63863980688251, 141.62379101827102, 134.59780563820087, 133.59409344104799, 130.58295684958935, 130.58295684958935, 128.57553245528362, 120.54583487806057, 115.52727389229619, 112.51613730083757, 110.50871290653181, 109.50500070937893, 107.49757631507318, 103.48272752646167, 95.45302994923864, 93.445605554932882, 92.441893357780017, 92.441893357780017, 87.423332372015636, 87.423332372015636, 86.419620174862743, 171.73515693285734, 109.50500070937893, 224.93190338195981, 427.68176720684113, 300.21031816842566, 203.85394724174944, 298.20289377411996, 191.80940087591486, 192.81311307306777, 360.43304999759835, 308.24001574564869, 447.75601114989865, 200.8428106502908, 371.47388416627996, 1047.9759050473192, 242.99872293071166, 298.20289377411996, 392.55184030649042, 282.14349861967389, 266.08410346522788, 351.39964022322243, 331.32539628016491, 377.49615734919723, 294.18804498550838, 311.25115233710733, 386.52956712357314, 307.23630354849581, 307.23630354849581, 229.95046436772424, 211.88364481897244, 201.84652284744365], \"Total\": [4408.0, 8407.0, 2470.0, 1888.0, 2427.0, 1501.0, 1387.0, 1799.0, 4970.0, 1318.0, 922.0, 4493.0, 1076.0, 4594.0, 1846.0, 1452.0, 1741.0, 2400.0, 1188.0, 1598.0, 1183.0, 758.0, 2242.0, 2147.0, 2082.0, 1276.0, 975.0, 689.0, 710.0, 1519.0, 526.90768225180477, 365.36480656910982, 334.15766013040735, 686.68724532814315, 282.75765423136806, 189.13621491526067, 169.86121270312094, 157.01121122836111, 156.09335398016395, 154.25763948376968, 147.83263874638979, 143.24335250540415, 130.39335103064431, 122.1326357968701, 120.29692130047583, 115.70763505949019, 115.70763505949019, 111.11834881850453, 109.28263432211027, 98.268347343744693, 98.268347343744693, 97.350490095547556, 97.350490095547556, 94.596918350956173, 93.679061102759036, 93.679061102759036, 90.925489358167653, 181.83915216983897, 83.582631372590612, 83.582631372590612, 4408.4088289639612, 228.70441715163957, 175.44866121522307, 239.87592841297013, 1387.5222683211844, 171.01998502007615, 247.36258380728901, 124.05420524222011, 167.32308737247186, 975.34905363252517, 790.45665003339752, 286.5824182073053, 414.82778950867316, 316.22463498359917, 841.31440536649882, 1452.0610486043217, 1598.0545617439316, 2427.4347794943683, 416.22925091602559, 2470.2463483766483, 497.84497156276126, 314.21638671902929, 491.2248587834585, 420.37169956735914, 498.46846984403794, 371.51447594539144, 1474.3026072049313, 544.09644674701565, 2455.4709328853155, 1692.2083834461394, 1519.1404424765215, 4970.9713954703147, 953.09117946112644, 2242.6529156290762, 1799.932115662793, 609.31375147988376, 1149.8440329745956, 1130.6135449616513, 1455.4141348176449, 144.2435534967918, 136.49933325560568, 132.62722313501263, 131.65919560486438, 129.72314054456783, 121.01089277323345, 119.07483771293693, 119.07483771293693, 115.20272759234385, 110.36258994160255, 109.39456241145429, 105.52245229086122, 87.129929218044225, 79.385708976858126, 77.449653916561601, 77.449653916561601, 76.481626386413339, 73.577543795968552, 71.641488735672027, 69.705433675375502, 67.769378615078963, 67.769378615078963, 66.801351084930701, 65.833323554782439, 65.833323554782439, 63.897268494485928, 62.929240964337666, 125.88116516494298, 58.089103313596361, 56.153048253299829, 226.50839339221093, 149.10758632860623, 119.11930092910987, 305.81875944107895, 127.76958531708807, 495.25475851131176, 673.14226622817193, 1318.3287726312562, 240.35307356381074, 313.11227283931078, 597.79300000612989, 154.59023798168974, 1888.1665606575959, 264.18502438268433, 569.54331846575246, 419.31243234110491, 358.71243311520954, 997.04811968934098, 516.01610105629698, 963.79123296424893, 602.45384511798534, 985.44522672975643, 834.26357572670054, 4493.7411677883993, 8407.8105361110665, 1398.2282159454239, 2455.4709328853155, 1846.2590157044351, 622.07239561281381, 1078.1486866577886, 761.66740345923472, 632.16229828695612, 1293.9513438306742, 1051.3553374640053, 4970.9713954703147, 4594.9191018964857, 957.12919598381995, 1571.1512150974459, 973.62845592282724, 1062.9897098554586, 800.01782650481618, 432.36206668800946, 131.71203309132747, 115.48924901132642, 112.62640476191447, 111.67212334544384, 110.71784192897319, 107.85499767956125, 104.03787201367867, 102.12930918073738, 94.495057848972209, 185.18777013544775, 83.997962267795089, 81.135118018383153, 81.135118018383153, 233.74729631713959, 73.500866686617968, 71.592303853676682, 71.592303853676682, 69.683741020735383, 68.729459604264733, 65.866615354852797, 63.003771105440869, 61.095208272499583, 60.140926856028941, 59.186645439558291, 56.323801190146355, 55.369519773675705, 53.460956940734405, 53.460956940734405, 50.59811269132247, 100.25672406956018, 447.08738720249607, 522.24595214736541, 207.35381007346686, 334.90837950438743, 594.89534975948959, 107.13471016234313, 1188.462960336693, 281.42571109630677, 427.8567493788633, 296.97433305232602, 383.54367562860233, 472.33273124932606, 261.73079900468048, 242.83974670848593, 2470.2463483766483, 1051.3553374640053, 1571.1512150974459, 661.55872075836362, 8407.8105361110665, 183.85621196223912, 1188.2375443415767, 885.08852424617737, 4594.9191018964857, 1116.1734681802659, 2400.918103675589, 563.29180027438986, 1383.6747272862076, 834.26357572670054, 1799.932115662793, 1797.7200520655458, 2147.2589839137049, 4493.7411677883993, 1293.9513438306742, 1161.2680420156184, 1484.650736409787, 915.57364600457868, 922.73809272507867, 581.34453209906758, 563.78714898115845, 390.16413814850154, 328.71329723581954, 273.11491736244056, 258.48376476418298, 238.97556129983943, 234.09851043375357, 230.19686974088484, 224.34440870158181, 222.39358835514747, 176.54931021394026, 174.59848986750592, 710.18358103554181, 147.28700501742503, 147.28700501742503, 134.60667276560176, 121.92634051377847, 109.24600826195521, 103.39354722265216, 102.41813704943497, 101.4427268762178, 97.541086183349108, 97.541086183349108, 95.590265836914767, 88.762394624394531, 83.885343758308665, 75.106652199354102, 74.131242026136917, 147.30185398244259, 116.08872843949301, 192.08532687622676, 729.65562477695698, 642.27421277729832, 138.43776734928218, 111.18206332225174, 1183.5884469992129, 276.27396020294219, 964.43930215970613, 627.61142347144448, 402.63816931004015, 423.0410653413349, 424.34909830482951, 1888.1665606575959, 1613.6255153746581, 571.24491307474068, 8407.8105361110665, 686.98955799073963, 4493.7411677883993, 1226.6039197616874, 517.42975395155827, 641.74039152761588, 997.35129093780188, 2147.2589839137049, 945.97987242108081, 638.51329331221484, 1741.5053404313983, 2400.918103675589, 249.51788454285588, 211.5877182404291, 175.65387648023531, 170.66306512465286, 167.66857831130338, 158.6851178712549, 140.71819699115801, 135.72738563557556, 135.72738563557556, 129.73841200887659, 118.75862702659516, 114.76597794212918, 111.7714911287797, 110.77332885766322, 103.78619295984775, 96.79905706203229, 91.80824570644981, 88.813758893100328, 79.830298453051881, 78.832136181935397, 76.835811639702399, 72.843162555236418, 72.843162555236418, 72.843162555236418, 71.845000284119934, 67.852351199653938, 67.852351199653938, 67.852351199653938, 66.854188928537454, 66.854188928537454, 247.40366355036301, 430.24630480134164, 108.7424945326662, 91.773735923685777, 140.31667187656123, 85.775391225104997, 204.03168395029047, 151.39663456375715, 122.26944597354495, 1501.0599060717823, 296.13387969481374, 168.62932527329187, 105.8036794772697, 197.17695483443811, 212.14593273459448, 623.86701931968764, 115.60556337552278, 741.93536603265431, 347.76311209603307, 2427.4347794943683, 548.72811782205065, 267.31599029021305, 422.40756053966521, 527.46102267504057, 169.09354476896192, 778.54288253555353, 1598.0545617439316, 1741.5053404313983, 2082.0954336675181, 853.90181929363189, 3438.0753815276939, 250.48029016451468, 447.65215920786522, 1149.8440329745956, 915.57364600457868, 4970.9713954703147, 1613.6255153746581, 1013.6228540226115, 635.28739486211327, 573.34165707482168, 1383.6747272862076, 1692.2083834461394, 536.61105715754059, 262.87665067733309, 232.77306772992102, 202.66948478250907, 199.65912648776788, 184.60733501406187, 180.59352395440698, 163.53482695087351, 159.52101589121855, 150.489941006995, 141.45886612277138, 131.42433847363407, 128.41398017889287, 127.41052741397914, 120.386358059583, 119.38290529466927, 108.34492488061821, 107.34147211570448, 100.31730276130834, 99.313849996394623, 89.279322347257292, 85.265511287602365, 83.258605757774902, 81.251700227947438, 80.248247463033692, 80.248247463033692, 80.248247463033692, 74.227530873551316, 73.22407810863757, 73.22407810863757, 71.217172578810107, 124.37669147500901, 103.29223582128408, 93.207537890195624, 289.76121540499821, 467.61264098888046, 227.63941304181316, 104.07432727081348, 411.49259799033388, 177.27411063472522, 986.62419841087819, 524.18862720087418, 462.29110854819896, 283.68884924535882, 359.80175874391972, 318.21973698079984, 574.87208809808862, 595.64635438374637, 515.75920572598875, 1398.2282159454239, 1228.3518954444905, 853.86464743267015, 1183.5884469992129, 1276.0102577051703, 3438.0753815276939, 2082.0954336675181, 8407.8105361110665, 1149.8440329745956, 4970.9713954703147, 4493.7411677883993, 1797.7200520655458, 2455.4709328853155, 1155.1413752399033, 1188.2375443415767, 1167.493758657745, 2242.6529156290762, 1455.4141348176449, 1484.650736409787, 4594.9191018964857, 689.89798887628024, 369.44612441234273, 354.74649760207035, 192.07062756838957, 158.75147346510553, 153.8515978616814, 149.93169737894212, 146.99177201688764, 146.99177201688764, 130.33219496524563, 130.33219496524563, 114.65259303428844, 105.83281694812503, 103.87286670675537, 96.033065741276786, 289.07903462125182, 82.313414051689236, 80.353463810319596, 79.373488689634769, 78.393513568949956, 76.433563327580302, 76.433563327580302, 74.473613086210648, 71.533687724156167, 70.553712603471354, 67.613787241416887, 65.653837000047233, 65.653837000047233, 65.653837000047233, 61.733936517307932, 210.61434214651058, 412.83616214893442, 121.54422823247788, 119.47538752507003, 84.291551443490548, 126.33068132084453, 165.58573398144935, 193.77986844153537, 471.07007991262054, 407.52205572929898, 527.90211595022026, 1799.932115662793, 227.82279672033982, 266.26570999744189, 175.48406212864194, 373.98502458552628, 1519.1404424765215, 1062.9897098554586, 401.09423846216936, 2242.6529156290762, 354.16563128170498, 4970.9713954703147, 4594.9191018964857, 2147.2589839137049, 2400.918103675589, 1146.8298097018205, 557.01793616395116, 4493.7411677883993, 1188.2375443415767, 333.31416334580672, 8407.8105361110665, 3438.0753815276939, 1146.4452094911062, 869.39336082961415, 825.00800351179282, 1226.6039197616874, 1501.0599060717823, 930.05188525860103, 1116.616761146036, 758.40633487988316, 606.14924172019437, 226.47016130932477, 143.59604731101311, 138.77778486925081, 131.06856496243111, 121.43204007890647, 119.50473510220154, 99.268032846799869, 94.449770405037555, 93.486117916685103, 88.667855474922789, 87.704202986570323, 86.740550498217871, 83.849593033160488, 82.885940544808022, 82.885940544808022, 81.922288056455557, 76.140373126340805, 76.140373126340805, 76.140373126340805, 74.213068149635873, 74.213068149635873, 73.249415661283408, 72.285763172930956, 68.431153219521107, 65.540195754463724, 64.576543266111273, 64.576543266111273, 62.649238289406334, 237.08346380658924, 177.30514225958558, 105.08445755967867, 560.76952836362432, 98.344180635008669, 91.593322722744219, 1076.379527664134, 121.55074485311317, 147.58818988353241, 327.96713929233061, 212.70620747654883, 365.09397854059642, 159.153825290209, 240.96055825847313, 130.91013487084274, 112.11599286578519, 197.68780681557232, 1121.9372584549521, 1276.0102577051703, 247.69999346632991, 2400.918103675589, 4594.9191018964857, 313.12283994627563, 395.78446656463058, 930.05188525860103, 2147.2589839137049, 1797.7200520655458, 574.60156569616379, 1161.2680420156184, 926.83773985041944, 869.39336082961415, 8407.8105361110665, 1226.6039197616874, 741.67871556279658, 1201.2055335702553, 744.73588004553869, 1116.1734681802659, 1318.3287726312562, 701.74466645889174, 214.87145289355499, 182.1929013318082, 161.39745942887845, 135.65072183477494, 122.77735303772316, 257.43774687263169, 119.80657562301892, 115.84553907007991, 107.92346596420191, 102.97217027302815, 100.99165199655864, 92.079319752445898, 90.098801475976387, 87.128024061272143, 84.157246646567884, 81.18646923186364, 79.20595095539413, 78.215691817159382, 77.225432678924633, 76.235173540689871, 156.41018601594058, 74.254655264220375, 72.274136987750879, 72.274136987750879, 71.283877849516131, 67.322841296577124, 66.332582158342376, 66.332582158342376, 60.391027328933866, 56.429990775994867, 142.60944192025443, 109.82129833308386, 309.79235391839205, 99.98082482322404, 178.07401809159043, 168.43482240995354, 103.89573458700343, 157.29244663024048, 523.19360220692226, 410.77480213089939, 256.07323795929949, 196.01703219280193, 150.80057620449497, 1741.5053404313983, 337.06500591601815, 1846.2590157044351, 291.17446176361472, 686.98955799073963, 786.35862507620971, 463.17178530032345, 3438.0753815276939, 257.59239364853715, 2082.0954336675181, 608.68560920475863, 272.19640366872727, 1146.4452094911062, 1276.0102577051703, 4594.9191018964857, 1228.3518954444905, 955.53870520093142, 2242.6529156290762, 1484.650736409787, 641.74039152761588, 621.40101846840503, 8407.8105361110665, 1383.6747272862076, 1797.7200520655458, 790.31232173979424, 1161.2680420156184, 853.86464743267015, 973.62845592282724, 2400.918103675589, 221.79216240848189, 215.76988922556464, 207.74019164834158, 190.67708429674269, 181.64367452236681, 177.62882573375526, 172.6102647479909, 164.58056717076786, 147.51745981916898, 146.51374762201607, 142.49889883340458, 135.47291345333443, 134.46920125618155, 131.45806466472291, 131.45806466472291, 129.45064027041718, 121.42094269319412, 116.40238170742974, 113.39124511597112, 111.38382072166536, 110.38010852451248, 108.37268413020672, 104.35783534159522, 96.328137764372187, 94.320713370066429, 93.317001172913564, 93.317001172913564, 88.298440187149183, 88.298440187149183, 87.294727989996289, 176.52683808475692, 111.37036766274723, 258.92095243924655, 587.80345523850337, 390.22685156350144, 246.20324326784331, 402.29660366230587, 245.56454355502191, 257.36043982170435, 662.30443634278527, 532.47379831079456, 997.35129093780188, 290.46609019719449, 808.53173344822335, 4970.9713954703147, 401.78372930121293, 609.31375147988376, 1201.2055335702553, 618.31676239916919, 557.01793616395116, 1474.3026072049313, 1383.6747272862076, 2082.0954336675181, 1130.6135449616513, 1455.4141348176449, 4493.7411677883993, 2455.4709328853155, 3438.0753815276939, 1692.2083834461394, 1598.0545617439316, 953.09117946112644], \"logprob\": [30.0, 29.0, 28.0, 27.0, 26.0, 25.0, 24.0, 23.0, 22.0, 21.0, 20.0, 19.0, 18.0, 17.0, 16.0, 15.0, 14.0, 13.0, 12.0, 11.0, 10.0, 9.0, 8.0, 7.0, 6.0, 5.0, 4.0, 3.0, 2.0, 1.0, -4.9187000000000003, -5.2854999999999999, -5.375, -4.6548999999999996, -5.5425000000000004, -5.9462000000000002, -6.0541999999999998, -6.1333000000000002, -6.1391999999999998, -6.1510999999999996, -6.1939000000000002, -6.2256, -6.3201999999999998, -6.3861999999999997, -6.4013999999999998, -6.4405999999999999, -6.4405999999999999, -6.4813999999999998, -6.4981999999999998, -6.6052999999999997, -6.6052999999999997, -6.6147999999999998, -6.6147999999999998, -6.6437999999999997, -6.6536, -6.6536, -6.6837, -5.9911000000000003, -6.7687999999999997, -6.7687999999999997, -2.8142, -5.7640000000000002, -6.0274000000000001, -5.7202999999999999, -4.0267999999999997, -6.0651999999999999, -5.7087000000000003, -6.3785999999999996, -6.093, -4.4078999999999997, -4.6128999999999998, -5.5891999999999999, -5.2508999999999997, -5.5042, -4.5987999999999998, -4.1111000000000004, -4.3169000000000004, -4.0034999999999998, -5.4172000000000002, -4.1516000000000002, -5.3085000000000004, -5.6562000000000001, -5.3532000000000002, -5.4642999999999997, -5.3860999999999999, -5.5723000000000003, -4.7504, -5.3506, -4.6336000000000004, -4.9047999999999998, -4.9928999999999997, -4.5255000000000001, -5.2805, -5.0770999999999997, -5.1896000000000004, -5.4463999999999997, -5.3777999999999997, -5.3888999999999996, -5.4463999999999997, -5.9622000000000002, -6.0178000000000003, -6.0467000000000004, -6.0541, -6.069, -6.1390000000000002, -6.1553000000000004, -6.1553000000000004, -6.1886000000000001, -6.2317999999999998, -6.2407000000000004, -6.2770999999999999, -6.4703999999999997, -6.5644, -6.5894000000000004, -6.5894000000000004, -6.6021000000000001, -6.6413000000000002, -6.6683000000000003, -6.6959999999999997, -6.7245999999999997, -6.7245999999999997, -6.7390999999999996, -6.7538999999999998, -6.7538999999999998, -6.7842000000000002, -6.7996999999999996, -6.1073000000000004, -6.8808999999999996, -6.9153000000000002, -5.5259999999999998, -5.9421999999999997, -6.1718000000000002, -5.2626999999999997, -6.1151, -4.8287000000000004, -4.5431999999999997, -3.9771999999999998, -5.548, -5.3108000000000004, -4.8265000000000002, -6.0178000000000003, -3.9542000000000002, -5.5751999999999997, -4.9783999999999997, -5.2427999999999999, -5.3837999999999999, -4.6757999999999997, -5.1698000000000004, -4.7512999999999996, -5.1018999999999997, -4.8049999999999997, -4.9634, -3.9398, -3.6076000000000001, -4.6965000000000003, -4.3682999999999996, -4.5448000000000004, -5.2072000000000003, -4.9196, -5.1105, -5.2394999999999996, -4.9054000000000002, -5.0197000000000003, -4.4861000000000004, -4.6721000000000004, -5.1426999999999996, -5.0170000000000003, -5.2135999999999996, -5.2103999999999999, -5.2328999999999999, -4.8528000000000002, -6.0415000000000001, -6.1738999999999997, -6.1992000000000003, -6.2077999999999998, -6.2164000000000001, -6.2428999999999997, -6.2792000000000003, -6.2979000000000003, -6.3762999999999996, -5.7042000000000002, -6.4951999999999996, -6.5301999999999998, -6.5301999999999998, -5.4729000000000001, -6.6302000000000003, -6.6567999999999996, -6.6567999999999996, -6.6841999999999997, -6.6981999999999999, -6.7412999999999998, -6.7862999999999998, -6.8174999999999999, -6.8334999999999999, -6.8497000000000003, -6.9001000000000001, -6.9173999999999998, -6.9531000000000001, -6.9531000000000001, -7.0091000000000001, -6.3265000000000002, -4.8550000000000004, -4.7394999999999996, -5.6436000000000002, -5.1843000000000004, -4.6872999999999996, -6.3072999999999997, -4.1195000000000004, -5.4646999999999997, -5.0983000000000001, -5.4363999999999999, -5.2221000000000002, -5.0566000000000004, -5.5636000000000001, -5.6289999999999996, -3.8847, -4.5769000000000002, -4.2926000000000002, -4.9482999999999997, -3.1194999999999999, -5.9181999999999997, -4.7493999999999996, -4.9630999999999998, -3.9895, -4.8483000000000001, -4.4532999999999996, -5.2919999999999998, -4.8438999999999997, -5.1212999999999997, -4.7903000000000002, -4.8372999999999999, -4.7965999999999998, -4.5290999999999997, -5.133, -5.2682000000000002, -5.2682000000000002, -5.3235000000000001, -4.0666000000000002, -4.5292000000000003, -4.5598999999999998, -4.9287000000000001, -5.1005000000000003, -5.2862999999999998, -5.3415999999999997, -5.4203000000000001, -5.4409999999999998, -5.4579000000000004, -5.4837999999999996, -5.4924999999999997, -5.7244000000000002, -5.7355999999999998, -4.3330000000000002, -5.9066000000000001, -5.9066000000000001, -5.9972000000000003, -6.0968, -6.2074999999999996, -6.2629999999999999, -6.2725999999999997, -6.2821999999999996, -6.3217999999999996, -6.3217999999999996, -6.3422000000000001, -6.4169999999999998, -6.4741, -6.5858999999999996, -6.5991, -5.9132999999999996, -6.1548999999999996, -5.6703999999999999, -4.4485000000000001, -4.6410999999999998, -6.0118999999999998, -6.2074999999999996, -4.2792000000000003, -5.4751000000000003, -4.4800000000000004, -4.8377999999999997, -5.2205000000000004, -5.2072000000000003, -5.2237999999999998, -4.1891999999999996, -4.3178999999999998, -5.1215999999999999, -3.6419999999999999, -5.0568, -4.0560999999999998, -4.7820999999999998, -5.2305999999999999, -5.1399999999999997, -4.9775, -4.7544000000000004, -5.0597000000000003, -5.1906999999999996, -4.9748999999999999, -5.2899000000000003, -5.3704999999999998, -5.5361000000000002, -5.7229999999999999, -5.7519999999999998, -5.7698, -5.8251999999999997, -5.9459999999999997, -5.9824000000000002, -5.9824000000000002, -6.0278, -6.1169000000000002, -6.1513, -6.1779999999999999, -6.1870000000000003, -6.2526999999999999, -6.3230000000000004, -6.3764000000000003, -6.4099000000000004, -6.5176999999999996, -6.5304000000000002, -6.5563000000000002, -6.6102999999999996, -6.6102999999999996, -6.6102999999999996, -6.6242999999999999, -6.6821999999999999, -6.6821999999999999, -6.6821999999999999, -6.6971999999999996, -6.6971999999999996, -5.3907999999999996, -4.8502999999999998, -6.2145999999999999, -6.3875000000000002, -5.9824000000000002, -6.4564000000000004, -5.6620999999999997, -5.9389000000000003, -6.1338999999999997, -3.8618999999999999, -5.3506999999999998, -5.8638000000000003, -6.2723000000000004, -5.7344999999999997, -5.6783999999999999, -4.8105000000000002, -6.1961000000000004, -4.8743999999999996, -5.4157000000000002, -4.0693999999999999, -5.1043000000000003, -5.6047000000000002, -5.3121, -5.2568000000000001, -5.9389000000000003, -5.1355000000000004, -4.8337000000000003, -4.8407999999999998, -4.8647, -5.2390999999999996, -4.7061000000000002, -5.7519999999999998, -5.5407999999999999, -5.2821999999999996, -5.3506999999999998, -4.9638999999999998, -5.2496999999999998, -5.3907999999999996, -5.5172999999999996, -5.5503999999999998, -5.4368999999999996, -5.4988999999999999, -5.5995999999999997, -5.3118999999999996, -5.4340000000000002, -5.5730000000000004, -5.5880999999999998, -5.6668000000000003, -5.6889000000000003, -5.7885999999999997, -5.8136000000000001, -5.8722000000000003, -5.9344999999999999, -6.0084999999999997, -6.0319000000000003, -6.0397999999999996, -6.0968999999999998, -6.1052999999999997, -6.2031000000000001, -6.2125000000000004, -6.2807000000000004, -6.2907999999999999, -6.3983999999999996, -6.4447999999999999, -6.4688999999999997, -6.4935999999999998, -6.5061, -6.5061, -6.5061, -6.585, -6.5987999999999998, -6.5987999999999998, -6.6269, -6.0720000000000001, -6.2606999999999999, -6.3648999999999996, -5.2892000000000001, -4.8604000000000003, -5.5582000000000003, -6.2706999999999997, -5.0505000000000004, -5.8136000000000001, -4.3429000000000002, -4.9130000000000003, -5.0388000000000002, -5.4828000000000001, -5.3430999999999997, -5.4691999999999998, -5.0564999999999998, -5.0564999999999998, -5.1562000000000001, -4.5576999999999996, -4.7674000000000003, -5.0015999999999998, -4.8459000000000003, -4.8105000000000002, -4.2904999999999998, -4.5850999999999997, -3.9192, -4.9028, -4.2149000000000001, -4.4566999999999997, -4.8411, -4.8105000000000002, -5.0683999999999996, -5.1082000000000001, -5.1398999999999999, -5.0534999999999997, -5.1497000000000002, -5.1726999999999999, -5.2967000000000004, -4.3181000000000003, -4.9438000000000004, -4.9844999999999997, -5.6001000000000003, -5.7915999999999999, -5.8231000000000002, -5.8491, -5.8689999999999998, -5.8689999999999998, -5.9901, -5.9901, -6.1192000000000002, -6.1999000000000004, -6.2187000000000001, -6.2979000000000003, -5.1965000000000003, -6.4535999999999998, -6.4779, -6.4903000000000004, -6.5029000000000003, -6.5285000000000002, -6.5285000000000002, -6.5548000000000002, -6.5956000000000001, -6.6094999999999997, -6.6525999999999996, -6.6824000000000003, -6.6824000000000003, -6.6824000000000003, -6.7449000000000003, -5.5259999999999998, -4.8620999999999999, -6.0853000000000002, -6.1021000000000001, -6.4416000000000002, -6.0606, -5.8360000000000003, -5.7026000000000003, -4.9200999999999997, -5.0987999999999998, -4.9545000000000003, -4.0087000000000002, -5.6527000000000003, -5.5308000000000002, -5.8623000000000003, -5.2859999999999996, -4.2561, -4.5563000000000002, -5.2859999999999996, -4.1283000000000003, -5.3842999999999996, -3.8732000000000002, -4.0107999999999997, -4.4454000000000002, -4.3949999999999996, -4.8597000000000001, -5.2348999999999997, -4.2984, -4.9200999999999997, -5.4978999999999996, -4.1642000000000001, -4.6567999999999996, -5.0682, -5.1695000000000002, -5.242, -5.1432000000000002, -5.1562999999999999, -5.2637999999999998, -5.2565, -4.1845999999999997, -4.4089, -5.3959000000000001, -5.8537999999999997, -5.8880999999999997, -5.9455999999999998, -6.0225, -6.0385999999999997, -6.2256999999999998, -6.2759, -6.2862999999999998, -6.3396999999999997, -6.3506999999999998, -6.3619000000000003, -6.3960999999999997, -6.4077999999999999, -6.4077999999999999, -6.4196, -6.4936999999999996, -6.4936999999999996, -6.4936999999999996, -6.5195999999999996, -6.5195999999999996, -6.5327999999999999, -6.5461999999999998, -6.6017000000000001, -6.6455000000000002, -6.6604999999999999, -6.6604999999999999, -6.6912000000000003, -5.3623000000000003, -5.6525999999999996, -6.1779000000000002, -4.5270999999999999, -6.2454999999999998, -6.3179999999999996, -3.9588999999999999, -6.0632999999999999, -5.8951000000000002, -5.1814, -5.5833000000000004, -5.1115000000000004, -5.8605, -5.5232999999999999, -6.0305999999999997, -6.1779000000000002, -5.7633999999999999, -4.5488, -4.657, -5.7271000000000001, -4.3930999999999996, -4.0568999999999997, -5.6093999999999999, -5.4946000000000002, -5.0583, -4.6692999999999998, -4.8574000000000002, -5.3789999999999996, -5.0956000000000001, -5.2454999999999998, -5.2752999999999997, -4.6151, -5.2565999999999997, -5.4131, -5.3663999999999996, -5.4992999999999999, -5.4394999999999998, -5.4131, -5.5330000000000004, -5.4077000000000002, -5.5734000000000004, -5.6951999999999998, -5.8700999999999999, -5.9703999999999997, -5.2301000000000002, -5.9950999999999999, -6.0289999999999999, -6.1003999999999996, -6.1477000000000004, -6.1673, -6.2606000000000002, -6.2824999999999998, -6.3163999999999998, -6.3513999999999999, -6.3878000000000004, -6.4127000000000001, -6.4255000000000004, -6.4382999999999999, -6.4513999999999996, -5.7328999999999999, -6.4779999999999998, -6.5053999999999998, -6.5053999999999998, -6.5194000000000001, -6.5773000000000001, -6.5922999999999998, -6.5922999999999998, -6.6874000000000002, -6.7563000000000004, -5.8339999999999996, -6.1003999999999996, -5.0860000000000003, -6.1974999999999998, -5.6471, -5.7013999999999996, -6.1673, -5.8129, -4.7500999999999998, -4.9630999999999998, -5.4648000000000003, -5.7202000000000002, -5.9229000000000003, -4.1074999999999999, -5.3277000000000001, -4.1113, -5.4648000000000003, -4.9542000000000002, -4.8997999999999999, -5.2656000000000001, -4.0999999999999996, -5.6238000000000001, -4.4535, -5.1555, -5.6124000000000001, -4.8914999999999997, -4.8589000000000002, -4.3002000000000002, -4.9280999999999997, -5.0465, -4.6829000000000001, -4.8643000000000001, -5.2224000000000004, -5.2378999999999998, -4.2138, -5.1519000000000004, -5.0926999999999998, -5.3234000000000004, -5.2576000000000001, -5.3581000000000003, -5.3493000000000004, -5.3108000000000004, -5.3536000000000001, -5.3813000000000004, -5.4192999999999998, -5.5053999999999998, -5.5541999999999998, -5.5766, -5.6054000000000004, -5.6532999999999998, -5.7633999999999999, -5.7702999999999998, -5.7981999999999996, -5.8491, -5.8566000000000003, -5.8794000000000004, -5.8794000000000004, -5.8948999999999998, -5.9593999999999996, -6.0019, -6.0282999999999998, -6.0462999999999996, -6.0553999999999997, -6.0739000000000001, -6.1120000000000001, -6.1928000000000001, -6.2140000000000004, -6.2248000000000001, -6.2248000000000001, -6.2805999999999997, -6.2805999999999997, -6.2922000000000002, -5.6054000000000004, -6.0553999999999997, -5.3356000000000003, -4.6929999999999996, -5.0468999999999999, -5.4340000000000002, -5.0536000000000003, -5.4949000000000003, -5.4897, -4.8640999999999996, -5.0205000000000002, -4.6471999999999998, -5.4489000000000001, -4.8338999999999999, -3.7968000000000002, -5.2583000000000002, -5.0536000000000003, -4.7786999999999997, -5.109, -5.1676000000000002, -4.8895, -4.9482999999999997, -4.8178000000000001, -5.0671999999999997, -5.0107999999999997, -4.7942, -5.0237999999999996, -5.0237999999999996, -5.3135000000000003, -5.3954000000000004, -5.4439000000000002]}};\n",
       "\n",
       "function LDAvis_load_lib(url, callback){\n",
       "  var s = document.createElement('script');\n",
       "  s.src = url;\n",
       "  s.async = true;\n",
       "  s.onreadystatechange = s.onload = callback;\n",
       "  s.onerror = function(){console.warn(\"failed to load library \" + url);};\n",
       "  document.getElementsByTagName(\"head\")[0].appendChild(s);\n",
       "}\n",
       "\n",
       "if(typeof(LDAvis) !== \"undefined\"){\n",
       "   // already loaded: just create the visualization\n",
       "   !function(LDAvis){\n",
       "       new LDAvis(\"#\" + \"ldavis_el362048046184488916632131\", ldavis_el362048046184488916632131_data);\n",
       "   }(LDAvis);\n",
       "}else if(typeof define === \"function\" && define.amd){\n",
       "   // require.js is available: use it to load d3/LDAvis\n",
       "   require.config({paths: {d3: \"https://cdnjs.cloudflare.com/ajax/libs/d3/3.5.5/d3.min\"}});\n",
       "   require([\"d3\"], function(d3){\n",
       "      window.d3 = d3;\n",
       "      LDAvis_load_lib(\"https://cdn.rawgit.com/bmabey/pyLDAvis/files/ldavis.v1.0.0.js\", function(){\n",
       "        new LDAvis(\"#\" + \"ldavis_el362048046184488916632131\", ldavis_el362048046184488916632131_data);\n",
       "      });\n",
       "    });\n",
       "}else{\n",
       "    // require.js not available: dynamically load d3 & LDAvis\n",
       "    LDAvis_load_lib(\"https://cdnjs.cloudflare.com/ajax/libs/d3/3.5.5/d3.min.js\", function(){\n",
       "         LDAvis_load_lib(\"https://cdn.rawgit.com/bmabey/pyLDAvis/files/ldavis.v1.0.0.js\", function(){\n",
       "                 new LDAvis(\"#\" + \"ldavis_el362048046184488916632131\", ldavis_el362048046184488916632131_data);\n",
       "            })\n",
       "         });\n",
       "}\n",
       "</script>"
      ],
      "text/plain": [
       "PreparedData(topic_coordinates=            Freq  cluster  topics         x         y\n",
       "topic                                                \n",
       "0      13.353803        1       1  0.266831 -0.100559\n",
       "2      10.333731        1       2 -0.135304  0.164809\n",
       "8      10.208770        1       3 -0.133997 -0.090660\n",
       "9       9.982341        1       4 -0.124429  0.057452\n",
       "6       9.917930        1       5  0.221159 -0.088526\n",
       "3       9.855992        1       6 -0.015263  0.003869\n",
       "4       9.594482        1       7 -0.038977 -0.132916\n",
       "5       9.229588        1       8 -0.149165 -0.015077\n",
       "1       8.859152        1       9 -0.069076 -0.082529\n",
       "7       8.664210        1      10  0.178221  0.284137, topic_info=      Category         Freq          Term        Total  loglift  logprob\n",
       "term                                                                    \n",
       "7682   Default  4408.000000         cells  4408.000000  30.0000  30.0000\n",
       "14869  Default  8407.000000      patients  8407.000000  29.0000  29.0000\n",
       "9322   Default  2470.000000        cancer  2470.000000  28.0000  28.0000\n",
       "8982   Default  1888.000000         group  1888.000000  27.0000  27.0000\n",
       "14055  Default  2427.000000      activity  2427.000000  26.0000  26.0000\n",
       "7634   Default  1501.000000      receptor  1501.000000  25.0000  25.0000\n",
       "9482   Default  1387.000000    inhibition  1387.000000  24.0000  24.0000\n",
       "8058   Default  1799.000000   combination  1799.000000  23.0000  23.0000\n",
       "266    Default  4970.000000       effects  4970.000000  22.0000  22.0000\n",
       "9858   Default  1318.000000          days  1318.000000  21.0000  21.0000\n",
       "3615   Default   922.000000      diabetes   922.000000  20.0000  20.0000\n",
       "8432   Default  4493.000000         study  4493.000000  19.0000  19.0000\n",
       "13237  Default  1076.000000          case  1076.000000  18.0000  18.0000\n",
       "5628   Default  4594.000000     treatment  4594.000000  17.0000  17.0000\n",
       "7520   Default  1846.000000          dose  1846.000000  16.0000  16.0000\n",
       "1799   Default  1452.000000         tumor  1452.000000  15.0000  15.0000\n",
       "14423  Default  1741.000000    associated  1741.000000  14.0000  14.0000\n",
       "1688   Default  2400.000000       therapy  2400.000000  13.0000  13.0000\n",
       "9535   Default  1188.000000        trials  1188.000000  12.0000  12.0000\n",
       "4445   Default  1598.000000         human  1598.000000  11.0000  11.0000\n",
       "11629  Default  1183.000000          risk  1183.000000  10.0000  10.0000\n",
       "5689   Default   758.000000     hepatitis   758.000000   9.0000   9.0000\n",
       "3486   Default  2242.000000          drug  2242.000000   8.0000   8.0000\n",
       "11099  Default  2147.000000       disease  2147.000000   7.0000   7.0000\n",
       "8937   Default  2082.000000           may  2082.000000   6.0000   6.0000\n",
       "586    Default  1276.000000      reported  1276.000000   5.0000   5.0000\n",
       "1566   Default   975.000000    expression   975.000000   4.0000   4.0000\n",
       "12090  Default   689.000000  hypertension   689.000000   3.0000   3.0000\n",
       "10447  Default   710.000000     metabolic   710.000000   2.0000   2.0000\n",
       "6969   Default  1519.000000     inhibitor  1519.000000   1.0000   1.0000\n",
       "...        ...          ...           ...          ...      ...      ...\n",
       "5767   Topic10   109.505001      allergic   111.370368   2.4291  -6.0554\n",
       "375    Topic10   224.931903      seizures   258.920952   2.3052  -5.3356\n",
       "6691   Topic10   427.681767          rats   587.803455   2.1280  -4.6930\n",
       "3857   Topic10   300.210318      exposure   390.226852   2.1837  -5.0469\n",
       "1530   Topic10   203.853947         sites   246.203243   2.2572  -5.4340\n",
       "6726   Topic10   298.202894     injection   402.296604   2.1466  -5.0536\n",
       "11239  Topic10   191.809401  inflammatory   245.564544   2.1989  -5.4949\n",
       "3017   Topic10   192.813113          skin   257.360440   2.1572  -5.4897\n",
       "644    Topic10   360.433050       calcium   662.304436   1.8376  -4.8641\n",
       "3151   Topic10   308.240016      produced   532.473798   1.8993  -5.0205\n",
       "14537  Topic10   447.756011          acid   997.351291   1.6451  -4.6472\n",
       "5863   Topic10   200.842811  pretreatment   290.466090   2.0770  -5.4489\n",
       "3288   Topic10   371.473884        system   808.531733   1.6682  -4.8339\n",
       "266    Topic10  1047.975905       effects  4970.971395   0.8892  -3.7968\n",
       "2449   Topic10   242.998723     dependent   401.783729   1.9431  -5.2583\n",
       "11183  Topic10   298.202894      enhanced   609.313751   1.7314  -5.0536\n",
       "7120   Topic10   392.551840         cause  1201.205534   1.3276  -4.7787\n",
       "15349  Topic10   282.143499       whether   618.316762   1.6614  -5.1090\n",
       "2143   Topic10   266.084103        action   557.017936   1.7072  -5.1676\n",
       "13855  Topic10   351.399640       induced  1474.302607   1.0120  -4.8895\n",
       "12325  Topic10   331.325396      toxicity  1383.674727   1.0166  -4.9483\n",
       "8937   Topic10   377.496157           may  2082.095434   0.7384  -4.8178\n",
       "5568   Topic10   294.188045  investigated  1130.613545   1.0997  -5.0672\n",
       "2384   Topic10   311.251152          also  1455.414135   0.9035  -5.0108\n",
       "8432   Topic10   386.529567         study  4493.741168  -0.0073  -4.7942\n",
       "3666   Topic10   307.236304     increased  2455.470933   0.3675  -5.0238\n",
       "4244   Topic10   307.236304          used  3438.075382   0.0309  -5.0238\n",
       "2902   Topic10   229.950464       results  1692.208383   0.4500  -5.3135\n",
       "4445   Topic10   211.883645         human  1598.054562   0.4255  -5.3954\n",
       "406    Topic10   201.846523        showed   953.091179   0.8938  -5.4439\n",
       "\n",
       "[708 rows x 6 columns], token_table=       Topic      Freq           Term\n",
       "term                                 \n",
       "4173       1  0.989821     12(s)-hete\n",
       "807        5  0.954598           5-ht\n",
       "807        6  0.037806           5-ht\n",
       "12118      7  0.993641    abiraterone\n",
       "9034       3  0.070571       abnormal\n",
       "9034       6  0.881071       abnormal\n",
       "9034       9  0.049186       abnormal\n",
       "3190       4  0.991262        aceiarb\n",
       "5639       6  0.988931  acetaminophen\n",
       "5639       7  0.008040  acetaminophen\n",
       "7168       3  0.785310       achieved\n",
       "7168       6  0.028047       achieved\n",
       "7168       7  0.065442       achieved\n",
       "7168       9  0.121536       achieved\n",
       "14537      1  0.178473           acid\n",
       "14537      4  0.371985           acid\n",
       "14537     10  0.449190           acid\n",
       "2143       1  0.026929         action\n",
       "2143       7  0.493700         action\n",
       "2143      10  0.477543         action\n",
       "14055      1  0.541312       activity\n",
       "14055      5  0.376117       activity\n",
       "14055      6  0.082392       activity\n",
       "13367      3  0.139885          acute\n",
       "13367      6  0.228903          acute\n",
       "13367      9  0.452720          acute\n",
       "13367     10  0.179308          acute\n",
       "1871       5  0.877384             ad\n",
       "1871       7  0.121718             ad\n",
       "8116       1  0.991320       adhesion\n",
       "...      ...       ...            ...\n",
       "3580       2  0.945004             vs\n",
       "3580       3  0.042509             vs\n",
       "3580      10  0.009810             vs\n",
       "1163       4  0.982007       warfarin\n",
       "1163       9  0.008614       warfarin\n",
       "10218      3  0.993186         weekly\n",
       "8050       2  0.466279          weeks\n",
       "8050       3  0.393161          weeks\n",
       "8050       5  0.001199          weeks\n",
       "8050       9  0.137846          weeks\n",
       "13947      1  0.030450           well\n",
       "13947      3  0.081980           well\n",
       "13947      5  0.069098           well\n",
       "13947      6  0.418099           well\n",
       "13947      7  0.137024           well\n",
       "13947      9  0.263508           well\n",
       "15349      2  0.208631        whether\n",
       "15349      3  0.126149        whether\n",
       "15349      4  0.169816        whether\n",
       "15349      5  0.033963        whether\n",
       "15349      6  0.001617        whether\n",
       "15349      9  0.001617        whether\n",
       "15349     10  0.456077        whether\n",
       "4052       5  0.993098           work\n",
       "1157       8  0.789123        yearold\n",
       "1157       9  0.207398        yearold\n",
       "5106       3  0.990188           ymrs\n",
       "4612       6  0.996730       zaleplon\n",
       "13005      8  0.985023     zidovudine\n",
       "3837       6  0.984883    ziprasidone\n",
       "\n",
       "[1365 rows x 3 columns], R=30, lambda_step=0.01, plot_opts={'xlab': 'PC1', 'ylab': 'PC2'}, topic_order=[1, 3, 9, 10, 7, 4, 5, 6, 2, 8])"
      ]
     },
     "execution_count": 32,
     "metadata": {},
     "output_type": "execute_result"
    }
   ],
   "source": [
    "pyLDAvis.graphlab.prepare(topic_model, docs)"
   ]
  },
  {
   "cell_type": "markdown",
   "metadata": {},
   "source": [
    "![title](images/graphLab_image.png)"
   ]
  },
  {
   "cell_type": "markdown",
   "metadata": {},
   "source": [
    "** Top 3 Topics:**\n",
    "- Cell cancer\n",
    "- Diabetes effects\n",
    "- High blood pressure"
   ]
  },
  {
   "cell_type": "markdown",
   "metadata": {},
   "source": [
    "Even though GraphLab produces a very nice looking graph, my favorite Topic Modeler is LDA, because they make more sense."
   ]
  },
  {
   "cell_type": "code",
   "execution_count": null,
   "metadata": {
    "collapsed": true
   },
   "outputs": [],
   "source": []
  }
 ],
 "metadata": {
  "kernelspec": {
   "display_name": "Python 3",
   "language": "python",
   "name": "python3"
  },
  "language_info": {
   "codemirror_mode": {
    "name": "ipython",
    "version": 3
   },
   "file_extension": ".py",
   "mimetype": "text/x-python",
   "name": "python",
   "nbconvert_exporter": "python",
   "pygments_lexer": "ipython3",
   "version": "3.5.1"
  }
 },
 "nbformat": 4,
 "nbformat_minor": 0
}

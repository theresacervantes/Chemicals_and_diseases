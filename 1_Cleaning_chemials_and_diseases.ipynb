{
 "cells": [
  {
   "cell_type": "markdown",
   "metadata": {},
   "source": [
    "![title](images/project_image.png)\n"
   ]
  },
  {
   "cell_type": "markdown",
   "metadata": {},
   "source": [
    "[CrowdFlower](https://www.crowdflower.com/data-for-everyone/)"
   ]
  },
  {
   "cell_type": "code",
   "execution_count": 1,
   "metadata": {
    "collapsed": true
   },
   "outputs": [],
   "source": [
    "reset -fs"
   ]
  },
  {
   "cell_type": "code",
   "execution_count": 2,
   "metadata": {
    "collapsed": false
   },
   "outputs": [
    {
     "data": {
      "text/html": [
       "<style>.container { width:95% !important; }</style>"
      ],
      "text/plain": [
       "<IPython.core.display.HTML object>"
      ]
     },
     "execution_count": 2,
     "metadata": {},
     "output_type": "execute_result"
    }
   ],
   "source": [
    "import pandas as pd\n",
    "from collections import Counter,defaultdict\n",
    "from bs4 import BeautifulSoup\n",
    "import matplotlib.pyplot as plt\n",
    "import numpy as np\n",
    "import seaborn as sbs\n",
    "import re\n",
    "from nltk.corpus import stopwords\n",
    "from sklearn.decomposition import NMF\n",
    "import lda\n",
    "from sklearn.feature_extraction.text import CountVectorizer\n",
    "from IPython.core.display import HTML\n",
    "from nltk import word_tokenize\n",
    "from operator import itemgetter\n",
    "import string\n",
    "%matplotlib inline\n",
    "\n",
    "HTML(\"<style>.container { width:95% !important; }</style>\")"
   ]
  },
  {
   "cell_type": "code",
   "execution_count": 3,
   "metadata": {
    "collapsed": true
   },
   "outputs": [],
   "source": [
    "#DISABLES AUTOSCROLL\n",
    "\n",
    "# from IPython.display import display, Javascript\n",
    "# disable_js = \"\"\"\n",
    "# IPython.OutputArea.prototype._should_scroll = function(lines) {\n",
    "#     return false;\n",
    "# }\n",
    "# \"\"\"\n",
    "\n",
    "# def load_ipython_extension(ip):\n",
    "#     display(Javascript(disable_js))\n",
    "#     print (\"autoscrolling long output is disabled\")"
   ]
  },
  {
   "cell_type": "markdown",
   "metadata": {},
   "source": [
    "### Load dataframe "
   ]
  },
  {
   "cell_type": "code",
   "execution_count": 4,
   "metadata": {
    "collapsed": false
   },
   "outputs": [
    {
     "data": {
      "text/html": [
       "<div>\n",
       "<table border=\"1\" class=\"dataframe\">\n",
       "  <thead>\n",
       "    <tr style=\"text-align: right;\">\n",
       "      <th></th>\n",
       "      <th>_unit_id</th>\n",
       "      <th>_golden</th>\n",
       "      <th>_unit_state</th>\n",
       "      <th>_trusted_judgments</th>\n",
       "      <th>_last_judgment_at</th>\n",
       "      <th>comment_box</th>\n",
       "      <th>verify_relationship</th>\n",
       "      <th>verify_relationship:confidence</th>\n",
       "      <th>orig__golden</th>\n",
       "      <th>chemical_id</th>\n",
       "      <th>...</th>\n",
       "      <th>disease_id</th>\n",
       "      <th>disease_name</th>\n",
       "      <th>form_sentence</th>\n",
       "      <th>original_job_id</th>\n",
       "      <th>pmid</th>\n",
       "      <th>relation_pair_id</th>\n",
       "      <th>sentence_id</th>\n",
       "      <th>uniq_id</th>\n",
       "      <th>verify_relationship_gold</th>\n",
       "      <th>verify_relationship_gold_reason</th>\n",
       "    </tr>\n",
       "  </thead>\n",
       "  <tbody>\n",
       "    <tr>\n",
       "      <th>0</th>\n",
       "      <td>770955372</td>\n",
       "      <td>True</td>\n",
       "      <td>golden</td>\n",
       "      <td>9</td>\n",
       "      <td>NaN</td>\n",
       "      <td>\\n\\n'5-HT6 receptors' and not just '5-HT'\\n\\n\\...</td>\n",
       "      <td>yes_direct</td>\n",
       "      <td>0.4463</td>\n",
       "      <td>True</td>\n",
       "      <td>D012701</td>\n",
       "      <td>...</td>\n",
       "      <td>D011605</td>\n",
       "      <td>&lt;span class=\"disease\"&gt;psychotic disorders&lt;/span&gt;</td>\n",
       "      <td>These animal models were considered to reflect...</td>\n",
       "      <td>762850.0</td>\n",
       "      <td>20705401</td>\n",
       "      <td>20705401_D012701_D011605</td>\n",
       "      <td>20705401_4</td>\n",
       "      <td>bcv_easy_68_sent_dev_set_762850</td>\n",
       "      <td>no_relation</td>\n",
       "      <td>The receptors to 5-HT6 are related to psychoti...</td>\n",
       "    </tr>\n",
       "    <tr>\n",
       "      <th>1</th>\n",
       "      <td>770955373</td>\n",
       "      <td>True</td>\n",
       "      <td>golden</td>\n",
       "      <td>11</td>\n",
       "      <td>NaN</td>\n",
       "      <td>\\n\\n\\n\\n\\n\\n\\n\\n\\n\\n</td>\n",
       "      <td>no_relation</td>\n",
       "      <td>0.9181</td>\n",
       "      <td>True</td>\n",
       "      <td>D010396</td>\n",
       "      <td>...</td>\n",
       "      <td>D012594</td>\n",
       "      <td>&lt;span class=\"disease\"&gt;localized scleroderma&lt;/s...</td>\n",
       "      <td>Case reports of 11 patients with severe, exten...</td>\n",
       "      <td>762850.0</td>\n",
       "      <td>2334179</td>\n",
       "      <td>2334179_D010396_D012594</td>\n",
       "      <td>2334179_3</td>\n",
       "      <td>bcv_easy_2399_sent_dev_set_762850</td>\n",
       "      <td>no_relation</td>\n",
       "      <td>D-penicillamine was used to treat the patients.</td>\n",
       "    </tr>\n",
       "    <tr>\n",
       "      <th>2</th>\n",
       "      <td>770955374</td>\n",
       "      <td>True</td>\n",
       "      <td>golden</td>\n",
       "      <td>12</td>\n",
       "      <td>NaN</td>\n",
       "      <td>\\n\\n\\n\\n\\n\\n\\n\\n\\n\\n\\n</td>\n",
       "      <td>no_relation</td>\n",
       "      <td>1.0000</td>\n",
       "      <td>True</td>\n",
       "      <td>D015016</td>\n",
       "      <td>...</td>\n",
       "      <td>D019964</td>\n",
       "      <td>&lt;span class=\"disease\"&gt;affective disorders&lt;/span&gt;</td>\n",
       "      <td>METHOD: Six patients with either obsessive com...</td>\n",
       "      <td>762850.0</td>\n",
       "      <td>1535072</td>\n",
       "      <td>1535072_D015016_D019964</td>\n",
       "      <td>1535072_4</td>\n",
       "      <td>bcv_easy_642_sent_dev_set_762850</td>\n",
       "      <td>no_relation</td>\n",
       "      <td>The sentence says the affective disorders were...</td>\n",
       "    </tr>\n",
       "    <tr>\n",
       "      <th>3</th>\n",
       "      <td>770955375</td>\n",
       "      <td>True</td>\n",
       "      <td>golden</td>\n",
       "      <td>11</td>\n",
       "      <td>NaN</td>\n",
       "      <td>\\n\\n\\n\\n\\n\\n\\n\\n\\n\\n</td>\n",
       "      <td>no_relation</td>\n",
       "      <td>1.0000</td>\n",
       "      <td>True</td>\n",
       "      <td>D002118</td>\n",
       "      <td>...</td>\n",
       "      <td>D013035</td>\n",
       "      <td>&lt;span class=\"disease\"&gt;muscle spasms&lt;/span&gt;</td>\n",
       "      <td>While severe hypokalemia may cause muscle weak...</td>\n",
       "      <td>762850.0</td>\n",
       "      <td>8492347</td>\n",
       "      <td>8492347_D002118_D013035</td>\n",
       "      <td>8492347_2</td>\n",
       "      <td>bcv_easy_1271_sent_dev_set_762850</td>\n",
       "      <td>no_relation</td>\n",
       "      <td>The sentence says calcium supplementation cann...</td>\n",
       "    </tr>\n",
       "    <tr>\n",
       "      <th>4</th>\n",
       "      <td>770955376</td>\n",
       "      <td>True</td>\n",
       "      <td>golden</td>\n",
       "      <td>9</td>\n",
       "      <td>NaN</td>\n",
       "      <td>\\n\\n\\n\\n\\n\\n\\n\\n</td>\n",
       "      <td>no_relation</td>\n",
       "      <td>0.8905</td>\n",
       "      <td>True</td>\n",
       "      <td>D064730</td>\n",
       "      <td>...</td>\n",
       "      <td>D006402</td>\n",
       "      <td>&lt;span class=\"disease\"&gt;hematologic toxicity&lt;/span&gt;</td>\n",
       "      <td>Clinical trials in patients with brain metasta...</td>\n",
       "      <td>762850.0</td>\n",
       "      <td>15897593</td>\n",
       "      <td>15897593_D064730_D006402</td>\n",
       "      <td>15897593_8</td>\n",
       "      <td>bcv_easy_2793_sent_dev_set_762850</td>\n",
       "      <td>no_relation</td>\n",
       "      <td>Dexrazoxane is being used to try and make the ...</td>\n",
       "    </tr>\n",
       "  </tbody>\n",
       "</table>\n",
       "<p>5 rows × 21 columns</p>\n",
       "</div>"
      ],
      "text/plain": [
       "    _unit_id _golden _unit_state  _trusted_judgments _last_judgment_at  \\\n",
       "0  770955372    True      golden                   9               NaN   \n",
       "1  770955373    True      golden                  11               NaN   \n",
       "2  770955374    True      golden                  12               NaN   \n",
       "3  770955375    True      golden                  11               NaN   \n",
       "4  770955376    True      golden                   9               NaN   \n",
       "\n",
       "                                         comment_box verify_relationship  \\\n",
       "0  \\n\\n'5-HT6 receptors' and not just '5-HT'\\n\\n\\...          yes_direct   \n",
       "1                               \\n\\n\\n\\n\\n\\n\\n\\n\\n\\n         no_relation   \n",
       "2                             \\n\\n\\n\\n\\n\\n\\n\\n\\n\\n\\n         no_relation   \n",
       "3                               \\n\\n\\n\\n\\n\\n\\n\\n\\n\\n         no_relation   \n",
       "4                                   \\n\\n\\n\\n\\n\\n\\n\\n         no_relation   \n",
       "\n",
       "   verify_relationship:confidence orig__golden chemical_id  \\\n",
       "0                          0.4463         True     D012701   \n",
       "1                          0.9181         True     D010396   \n",
       "2                          1.0000         True     D015016   \n",
       "3                          1.0000         True     D002118   \n",
       "4                          0.8905         True     D064730   \n",
       "\n",
       "                         ...                         disease_id  \\\n",
       "0                        ...                            D011605   \n",
       "1                        ...                            D012594   \n",
       "2                        ...                            D019964   \n",
       "3                        ...                            D013035   \n",
       "4                        ...                            D006402   \n",
       "\n",
       "                                        disease_name  \\\n",
       "0   <span class=\"disease\">psychotic disorders</span>   \n",
       "1  <span class=\"disease\">localized scleroderma</s...   \n",
       "2   <span class=\"disease\">affective disorders</span>   \n",
       "3         <span class=\"disease\">muscle spasms</span>   \n",
       "4  <span class=\"disease\">hematologic toxicity</span>   \n",
       "\n",
       "                                       form_sentence original_job_id  \\\n",
       "0  These animal models were considered to reflect...        762850.0   \n",
       "1  Case reports of 11 patients with severe, exten...        762850.0   \n",
       "2  METHOD: Six patients with either obsessive com...        762850.0   \n",
       "3  While severe hypokalemia may cause muscle weak...        762850.0   \n",
       "4  Clinical trials in patients with brain metasta...        762850.0   \n",
       "\n",
       "       pmid          relation_pair_id sentence_id  \\\n",
       "0  20705401  20705401_D012701_D011605  20705401_4   \n",
       "1   2334179   2334179_D010396_D012594   2334179_3   \n",
       "2   1535072   1535072_D015016_D019964   1535072_4   \n",
       "3   8492347   8492347_D002118_D013035   8492347_2   \n",
       "4  15897593  15897593_D064730_D006402  15897593_8   \n",
       "\n",
       "                             uniq_id verify_relationship_gold  \\\n",
       "0    bcv_easy_68_sent_dev_set_762850              no_relation   \n",
       "1  bcv_easy_2399_sent_dev_set_762850              no_relation   \n",
       "2   bcv_easy_642_sent_dev_set_762850              no_relation   \n",
       "3  bcv_easy_1271_sent_dev_set_762850              no_relation   \n",
       "4  bcv_easy_2793_sent_dev_set_762850              no_relation   \n",
       "\n",
       "                     verify_relationship_gold_reason  \n",
       "0  The receptors to 5-HT6 are related to psychoti...  \n",
       "1    D-penicillamine was used to treat the patients.  \n",
       "2  The sentence says the affective disorders were...  \n",
       "3  The sentence says calcium supplementation cann...  \n",
       "4  Dexrazoxane is being used to try and make the ...  \n",
       "\n",
       "[5 rows x 21 columns]"
      ]
     },
     "execution_count": 4,
     "metadata": {},
     "output_type": "execute_result"
    }
   ],
   "source": [
    "df = pd.read_csv('data/chemicals-and-disease-DFE.csv', encoding='latin-1', na_values=['?'])\n",
    "df.head()"
   ]
  },
  {
   "cell_type": "code",
   "execution_count": 5,
   "metadata": {
    "collapsed": false
   },
   "outputs": [
    {
     "data": {
      "text/plain": [
       "(5713, 21)"
      ]
     },
     "execution_count": 5,
     "metadata": {},
     "output_type": "execute_result"
    }
   ],
   "source": [
    "df.shape"
   ]
  },
  {
   "cell_type": "code",
   "execution_count": 6,
   "metadata": {
    "collapsed": true
   },
   "outputs": [],
   "source": [
    "#remove underscores from the beginning of column names \n",
    "df.columns = ['unit_id', 'golden', 'unit_state', 'trusted_judgments',\n",
    "       'last_judgment_at', 'comment_box', 'verify_relationship',\n",
    "       'verify_relationship:confidence', 'orig__golden', 'chemical_id',\n",
    "       'chemical_name', 'disease_id', 'disease_name', 'form_sentence',\n",
    "       'original_job_id', 'pmid', 'relation_pair_id', 'sentence_id', 'uniq_id',\n",
    "       'verify_relationship_gold', 'verify_relationship_gold_reason']"
   ]
  },
  {
   "cell_type": "code",
   "execution_count": 7,
   "metadata": {
    "collapsed": false
   },
   "outputs": [
    {
     "data": {
      "text/plain": [
       "no_relation     4722\n",
       "yes_direct       980\n",
       "yes_indirect      11\n",
       "Name: verify_relationship, dtype: int64"
      ]
     },
     "execution_count": 7,
     "metadata": {},
     "output_type": "execute_result"
    }
   ],
   "source": [
    "df.verify_relationship.value_counts() #we will use this column to determine relationship between chemical and disease"
   ]
  },
  {
   "cell_type": "code",
   "execution_count": 8,
   "metadata": {
    "collapsed": false
   },
   "outputs": [
    {
     "data": {
      "text/plain": [
       "no_relation     284\n",
       "yes_direct      266\n",
       "yes_indirect      3\n",
       "Name: verify_relationship_gold, dtype: int64"
      ]
     },
     "execution_count": 8,
     "metadata": {},
     "output_type": "execute_result"
    }
   ],
   "source": [
    "df.verify_relationship_gold.value_counts() #there are much fewer of these counts than the above column. "
   ]
  },
  {
   "cell_type": "code",
   "execution_count": 9,
   "metadata": {
    "collapsed": true
   },
   "outputs": [],
   "source": [
    "column_meanings = {\n",
    "    'unit_id':'id of specific row',\n",
    "    'golden':'Boolean showing which state of judgement it is in. Finalized or Golden.',\n",
    "    'unit_state': \"{finalized, golden}.\",\n",
    "    'trusted_judgments': 'how many people judged the comment to be either True or False',\n",
    "    'last_judgment_at': 'day and time of when the last judgement was made',\n",
    "    'comment_box':'comments from the judges',\n",
    "    'verify_relationship':\"{no_relation, yes_direct, yes_indirect}. Judgement on relationship of chemical to disease\",\n",
    "    'verify_relationship:confidence': 'score of confidence of relationship between 0 and 1',\n",
    "    'orig__golden':'original boolean determining if the chemical does cause the disease. Only 551:5162 are the same',\n",
    "    'chemical_id': 'ID of chemical. D######',\n",
    "    'chemical_name': 'name of chemical',\n",
    "    'disease_id': 'ID of disease. D######',\n",
    "    'disease_name': 'name of disease',\n",
    "    'form_sentence': 'summary of article represented in that row',\n",
    "    'original_job_id': 'ID of job',\n",
    "    'pmid': 'unique ID used in PubMed. They are assigned to each article record when it enters the PubMed system',\n",
    "    'relation_pair_id': 'ID of relation pair',\n",
    "    'sentence_id': 'ID of sentence',\n",
    "    'uniq_id': 'ID of unique',\n",
    "    'verify_relationship_gold': '{yes_indirect,nan,yes_direct,no_relation} determining if there is a relationship',\n",
    "    'verify_relationship_gold_reason':'explanation for why they chose that reasoning'\n",
    "}"
   ]
  },
  {
   "cell_type": "code",
   "execution_count": 10,
   "metadata": {
    "collapsed": false
   },
   "outputs": [
    {
     "name": "stdout",
     "output_type": "stream",
     "text": [
      "chemical and disease:  <span class=\"chemical\">5-HT</span> <span class=\"disease\">psychotic disorders</span>\n",
      "comment box:  \n",
      "\n",
      "'5-HT6 receptors' and not just '5-HT'\n",
      "\n",
      "\n",
      "\n",
      "\n",
      "\n",
      "\n",
      "form sentence:  These animal models were considered to reflect the positive symptoms of schizophrenia, and the above evidence suggests that altered <span class=\"chemical\">5-HT</span>6 receptors are involved in the pathophysiology of <span class=\"disease\">psychotic disorders</span>.\n",
      "\n",
      "verify relationship gold reason:  The receptors to 5-HT6 are related to psychotic disorders, not 5-HT itself.\n",
      "\n",
      "verify relationship:  yes_direct\n"
     ]
    }
   ],
   "source": [
    "print(\"chemical and disease: \", df.chemical_name[0], df.disease_name[0])\n",
    "print(\"comment box: \", df.comment_box[0])\n",
    "print(\"form sentence: \", df.form_sentence[0],end='\\n\\n')\n",
    "print(\"verify relationship gold reason: \", df.verify_relationship_gold_reason[0],end='\\n\\n')\n",
    "print(\"verify relationship: \", df.verify_relationship[0])"
   ]
  },
  {
   "cell_type": "markdown",
   "metadata": {},
   "source": [
    "Even though there is the word \"not\" in the verify relationship gold reason, it is labeled as a direct relationship."
   ]
  },
  {
   "cell_type": "markdown",
   "metadata": {},
   "source": [
    "### Data cleaning"
   ]
  },
  {
   "cell_type": "code",
   "execution_count": 11,
   "metadata": {
    "collapsed": false
   },
   "outputs": [],
   "source": [
    "#remove unnecessary labels\n",
    "df1 = df.drop(['unit_id','golden','unit_state','trusted_judgments','last_judgment_at',\n",
    "               'verify_relationship:confidence','orig__golden','chemical_id','disease_id','original_job_id',\n",
    "               'relation_pair_id','sentence_id','uniq_id','verify_relationship_gold'], axis=1).copy()"
   ]
  },
  {
   "cell_type": "code",
   "execution_count": 12,
   "metadata": {
    "collapsed": false
   },
   "outputs": [],
   "source": [
    "#cleaning comment box: \n",
    "cleaned_comment_box = []\n",
    "for s in df1.comment_box: \n",
    "    s_cleaned = re.sub(\"\\\\n\",\"\", str(s)).replace(\"'\",\"\")\n",
    "    cleaned_comment_box.append(s_cleaned)\n",
    "df1.comment_box = cleaned_comment_box"
   ]
  },
  {
   "cell_type": "code",
   "execution_count": 13,
   "metadata": {
    "collapsed": false
   },
   "outputs": [
    {
     "data": {
      "text/plain": [
       "'5-HT6 receptors and not just 5-HT'"
      ]
     },
     "execution_count": 13,
     "metadata": {},
     "output_type": "execute_result"
    }
   ],
   "source": [
    "df1.comment_box[0]"
   ]
  },
  {
   "cell_type": "code",
   "execution_count": 14,
   "metadata": {
    "collapsed": true
   },
   "outputs": [],
   "source": [
    "#cleaning chemical and disease names\n",
    "def span_to_words( raw_span ):\n",
    "    return BeautifulSoup(raw_span, \"lxml\").get_text() \n",
    "\n",
    "clean_chemical_name = []\n",
    "clean_disease_name = []\n",
    "for i in range(0, df1.shape[0]):\n",
    "    clean_chemical_name.append( span_to_words( df1[\"chemical_name\"][i] ) )\n",
    "    clean_disease_name.append( span_to_words( df1[\"disease_name\"][i] ) )\n",
    "df1.chemical_name = clean_chemical_name\n",
    "df1.disease_name = clean_disease_name"
   ]
  },
  {
   "cell_type": "code",
   "execution_count": 15,
   "metadata": {
    "collapsed": false
   },
   "outputs": [],
   "source": [
    "cleaned_names = clean_chemical_name + clean_disease_name"
   ]
  },
  {
   "cell_type": "code",
   "execution_count": 16,
   "metadata": {
    "collapsed": false
   },
   "outputs": [],
   "source": [
    "def review_to_words( raw_review ):\n",
    "    #Remove HTML\n",
    "    raw_review = raw_review.replace(\">\",\"> \")\n",
    "    review_text = BeautifulSoup(raw_review, \"lxml\").get_text().split()\n",
    "    \n",
    "    #if word is not a disease or chemical, remove non-alpha. else, retain word. \n",
    "    cleaned_sentence = []\n",
    "    for word in review_text:\n",
    "        if word not in cleaned_names:\n",
    "            cleaned_sentence.append(re.sub(\"[^a-zA-Z]\", \"\", word.lower()))\n",
    "        else:\n",
    "            cleaned_sentence.append(word.lower())\n",
    "    \n",
    "    #remove stops, extra spaces, and single-letter words \n",
    "    stops = set(stopwords.words(\"english\"))  \n",
    "    spaces = set(\" \")\n",
    "    single_letter_words = set(string.ascii_lowercase)\n",
    "    unimportant_words = stops | spaces | single_letter_words\n",
    "    \n",
    "    return (\" \".join([word for word in cleaned_sentence if not word in list(unimportant_words)])).replace(\"  \",\" \")\n"
   ]
  },
  {
   "cell_type": "code",
   "execution_count": 17,
   "metadata": {
    "collapsed": false
   },
   "outputs": [
    {
     "data": {
      "text/plain": [
       "'These animal models were considered to reflect the positive symptoms of schizophrenia, and the above evidence suggests that altered <span class=\"chemical\">5-HT</span>6 receptors are involved in the pathophysiology of <span class=\"disease\">psychotic disorders</span>.'"
      ]
     },
     "execution_count": 17,
     "metadata": {},
     "output_type": "execute_result"
    }
   ],
   "source": [
    "df1.form_sentence[0]"
   ]
  },
  {
   "cell_type": "code",
   "execution_count": 18,
   "metadata": {
    "collapsed": false
   },
   "outputs": [
    {
     "data": {
      "text/plain": [
       "'animal models considered reflect positive symptoms schizophrenia evidence suggests altered 5-ht receptors involved pathophysiology psychotic disorders '"
      ]
     },
     "execution_count": 18,
     "metadata": {},
     "output_type": "execute_result"
    }
   ],
   "source": [
    "review_to_words(df1.form_sentence[0])"
   ]
  },
  {
   "cell_type": "code",
   "execution_count": 19,
   "metadata": {
    "collapsed": false
   },
   "outputs": [],
   "source": [
    "# Cleaning comment_box, form_sentence, and verify_relationship_gold_reason\n",
    "clean_form_sentence = []\n",
    "clean_verify_relationship_gold_reason = []\n",
    "clean_comment_box = []\n",
    "\n",
    "for i in range( 0, df1.shape[0] ):\n",
    "    clean_form_sentence.append( review_to_words( df1[\"form_sentence\"][i] ) )\n",
    "    clean_verify_relationship_gold_reason.append( review_to_words( str(df1[\"verify_relationship_gold_reason\"][i])) )\n",
    "    clean_comment_box.append( review_to_words( df1[\"comment_box\"][i] ) )\n"
   ]
  },
  {
   "cell_type": "code",
   "execution_count": 20,
   "metadata": {
    "collapsed": false
   },
   "outputs": [],
   "source": [
    "df1.form_sentence = clean_form_sentence \n",
    "df1.verify_relationship_gold_reason = clean_verify_relationship_gold_reason\n",
    "df1.comment_box = clean_comment_box"
   ]
  },
  {
   "cell_type": "code",
   "execution_count": 21,
   "metadata": {
    "collapsed": false
   },
   "outputs": [
    {
     "data": {
      "text/plain": [
       "'animal models considered reflect positive symptoms schizophrenia evidence suggests altered 5-ht receptors involved pathophysiology psychotic disorders receptors ht related psychotic disorders 5-htht receptors 5-ht'"
      ]
     },
     "execution_count": 21,
     "metadata": {},
     "output_type": "execute_result"
    }
   ],
   "source": [
    "#merge all wordy columns into 1 column: relationship_info\n",
    "df1['relationship_info'] = (df1[\"form_sentence\"].map(str) + df1[\"verify_relationship_gold_reason\"] + df1[\"comment_box\"])\n",
    "\n",
    "df1.relationship_info[0]"
   ]
  },
  {
   "cell_type": "code",
   "execution_count": 22,
   "metadata": {
    "collapsed": false
   },
   "outputs": [
    {
     "data": {
      "text/html": [
       "<div>\n",
       "<table border=\"1\" class=\"dataframe\">\n",
       "  <thead>\n",
       "    <tr style=\"text-align: right;\">\n",
       "      <th></th>\n",
       "      <th>verify_relationship</th>\n",
       "      <th>chemical_name</th>\n",
       "      <th>disease_name</th>\n",
       "      <th>pmid</th>\n",
       "      <th>relationship_info</th>\n",
       "    </tr>\n",
       "  </thead>\n",
       "  <tbody>\n",
       "    <tr>\n",
       "      <th>0</th>\n",
       "      <td>yes_direct</td>\n",
       "      <td>5-HT</td>\n",
       "      <td>psychotic disorders</td>\n",
       "      <td>20705401</td>\n",
       "      <td>animal models considered reflect positive symp...</td>\n",
       "    </tr>\n",
       "    <tr>\n",
       "      <th>1</th>\n",
       "      <td>no_relation</td>\n",
       "      <td>D-penicillamine</td>\n",
       "      <td>localized scleroderma</td>\n",
       "      <td>2334179</td>\n",
       "      <td>case reports patients severe extensive localiz...</td>\n",
       "    </tr>\n",
       "    <tr>\n",
       "      <th>2</th>\n",
       "      <td>no_relation</td>\n",
       "      <td>yohimbine</td>\n",
       "      <td>affective disorders</td>\n",
       "      <td>1535072</td>\n",
       "      <td>method six patients either obsessive compulsiv...</td>\n",
       "    </tr>\n",
       "    <tr>\n",
       "      <th>3</th>\n",
       "      <td>no_relation</td>\n",
       "      <td>calcium</td>\n",
       "      <td>muscle spasms</td>\n",
       "      <td>8492347</td>\n",
       "      <td>severe hypokalemia may cause muscle weakness s...</td>\n",
       "    </tr>\n",
       "    <tr>\n",
       "      <th>4</th>\n",
       "      <td>no_relation</td>\n",
       "      <td>dexrazoxane</td>\n",
       "      <td>hematologic toxicity</td>\n",
       "      <td>15897593</td>\n",
       "      <td>clinical trials patients brain metastases comb...</td>\n",
       "    </tr>\n",
       "  </tbody>\n",
       "</table>\n",
       "</div>"
      ],
      "text/plain": [
       "  verify_relationship    chemical_name           disease_name      pmid  \\\n",
       "0          yes_direct             5-HT    psychotic disorders  20705401   \n",
       "1         no_relation  D-penicillamine  localized scleroderma   2334179   \n",
       "2         no_relation        yohimbine    affective disorders   1535072   \n",
       "3         no_relation          calcium          muscle spasms   8492347   \n",
       "4         no_relation      dexrazoxane   hematologic toxicity  15897593   \n",
       "\n",
       "                                   relationship_info  \n",
       "0  animal models considered reflect positive symp...  \n",
       "1  case reports patients severe extensive localiz...  \n",
       "2  method six patients either obsessive compulsiv...  \n",
       "3  severe hypokalemia may cause muscle weakness s...  \n",
       "4  clinical trials patients brain metastases comb...  "
      ]
     },
     "execution_count": 22,
     "metadata": {},
     "output_type": "execute_result"
    }
   ],
   "source": [
    "df2 = df1.drop(['comment_box','form_sentence','verify_relationship_gold_reason'], axis=1).copy()\n",
    "df2.head()"
   ]
  },
  {
   "cell_type": "code",
   "execution_count": 23,
   "metadata": {
    "collapsed": false
   },
   "outputs": [
    {
     "data": {
      "text/plain": [
       "(5713, 5)"
      ]
     },
     "execution_count": 23,
     "metadata": {},
     "output_type": "execute_result"
    }
   ],
   "source": [
    "df2.shape"
   ]
  },
  {
   "cell_type": "code",
   "execution_count": 24,
   "metadata": {
    "collapsed": false
   },
   "outputs": [
    {
     "data": {
      "text/plain": [
       "no_relation     4722\n",
       "yes_direct       980\n",
       "yes_indirect      11\n",
       "Name: verify_relationship, dtype: int64"
      ]
     },
     "execution_count": 24,
     "metadata": {},
     "output_type": "execute_result"
    }
   ],
   "source": [
    "#visualizing the data: there are a lot less yes_relations than no_relations. \n",
    "df2.verify_relationship.value_counts()"
   ]
  },
  {
   "cell_type": "markdown",
   "metadata": {},
   "source": [
    "The model is currently overfit because the model is excessively complex... It has too many parameters relative to the number of observations. We will merge the \"yes's\" in the following section."
   ]
  },
  {
   "cell_type": "markdown",
   "metadata": {},
   "source": [
    "### Class Imbalance\n",
    "#### Remove chemicals/diseases that only occur once and are in the same row."
   ]
  },
  {
   "cell_type": "code",
   "execution_count": 25,
   "metadata": {
    "collapsed": false
   },
   "outputs": [
    {
     "name": "stdout",
     "output_type": "stream",
     "text": [
      "# of chemicals occuring once:  608\n",
      "# of diseases occuring once:  877\n"
     ]
    }
   ],
   "source": [
    "#How many chemicals are only mentioned once?\n",
    "print(\"# of chemicals occuring once: \", sum( x == 1 for x in Counter(df2.chemical_name).values() ))\n",
    "\n",
    "#How many diseases are only mentioned once?\n",
    "print(\"# of diseases occuring once: \", sum( x == 1 for x in Counter(df2.disease_name).values() ))"
   ]
  },
  {
   "cell_type": "code",
   "execution_count": 26,
   "metadata": {
    "collapsed": false
   },
   "outputs": [],
   "source": [
    "#append the diseases that only occur once in a list\n",
    "disease_dict = Counter(df2.disease_name)\n",
    "disease_names_occuring_once = []\n",
    "for k,v in disease_dict.items():\n",
    "    if v == 1:\n",
    "        disease_names_occuring_once.append(k)\n",
    "\n",
    "#append the chemicals that only occur once in a list\n",
    "chemical_dict = Counter(df2.chemical_name)\n",
    "chemical_names_occuring_once = []\n",
    "for k,v in chemical_dict.items():\n",
    "    if v == 1:\n",
    "        chemical_names_occuring_once.append(k)"
   ]
  },
  {
   "cell_type": "code",
   "execution_count": 27,
   "metadata": {
    "collapsed": false
   },
   "outputs": [
    {
     "data": {
      "text/plain": [
       "115"
      ]
     },
     "execution_count": 27,
     "metadata": {},
     "output_type": "execute_result"
    }
   ],
   "source": [
    "#How many chemicals that occur only once, cause a disease that occurs only once? \n",
    "chemicals_and_diseases_occuring_once = []\n",
    "for c,d in zip(df2.chemical_name, df2.disease_name):\n",
    "    if c in chemical_names_occuring_once and d in disease_names_occuring_once:\n",
    "        chemicals_and_diseases_occuring_once.append((c,d))\n",
    "len(chemicals_and_diseases_occuring_once)"
   ]
  },
  {
   "cell_type": "code",
   "execution_count": 28,
   "metadata": {
    "collapsed": false
   },
   "outputs": [],
   "source": [
    "#removing above chemicals and diseases that only occur once from df2 and creating df3\n",
    "mask = df2['chemical_name'].isin(c for c,d in chemicals_and_diseases_occuring_once)\n",
    "df3 = df2[~mask].copy()"
   ]
  },
  {
   "cell_type": "code",
   "execution_count": 29,
   "metadata": {
    "collapsed": false
   },
   "outputs": [],
   "source": [
    "#boolean verify_relationship (merging yes_direct and yes_indirect to simplify our graph)\n",
    "temp = {'yes_direct': True, 'yes_indirect':True, 'no_relation':False}\n",
    "df3['boolean_relationship'] = df3['verify_relationship'].map(temp)\n",
    "df4 = df3.drop(['verify_relationship'], axis=1).copy()"
   ]
  },
  {
   "cell_type": "code",
   "execution_count": 30,
   "metadata": {
    "collapsed": false
   },
   "outputs": [
    {
     "name": "stdout",
     "output_type": "stream",
     "text": [
      "(5598, 5)\n"
     ]
    },
    {
     "data": {
      "text/html": [
       "<div>\n",
       "<table border=\"1\" class=\"dataframe\">\n",
       "  <thead>\n",
       "    <tr style=\"text-align: right;\">\n",
       "      <th></th>\n",
       "      <th>chemical_name</th>\n",
       "      <th>disease_name</th>\n",
       "      <th>pmid</th>\n",
       "      <th>relationship_info</th>\n",
       "      <th>boolean_relationship</th>\n",
       "    </tr>\n",
       "  </thead>\n",
       "  <tbody>\n",
       "    <tr>\n",
       "      <th>0</th>\n",
       "      <td>5-HT</td>\n",
       "      <td>psychotic disorders</td>\n",
       "      <td>20705401</td>\n",
       "      <td>animal models considered reflect positive symp...</td>\n",
       "      <td>True</td>\n",
       "    </tr>\n",
       "    <tr>\n",
       "      <th>1</th>\n",
       "      <td>D-penicillamine</td>\n",
       "      <td>localized scleroderma</td>\n",
       "      <td>2334179</td>\n",
       "      <td>case reports patients severe extensive localiz...</td>\n",
       "      <td>False</td>\n",
       "    </tr>\n",
       "    <tr>\n",
       "      <th>2</th>\n",
       "      <td>yohimbine</td>\n",
       "      <td>affective disorders</td>\n",
       "      <td>1535072</td>\n",
       "      <td>method six patients either obsessive compulsiv...</td>\n",
       "      <td>False</td>\n",
       "    </tr>\n",
       "    <tr>\n",
       "      <th>3</th>\n",
       "      <td>calcium</td>\n",
       "      <td>muscle spasms</td>\n",
       "      <td>8492347</td>\n",
       "      <td>severe hypokalemia may cause muscle weakness s...</td>\n",
       "      <td>False</td>\n",
       "    </tr>\n",
       "    <tr>\n",
       "      <th>4</th>\n",
       "      <td>dexrazoxane</td>\n",
       "      <td>hematologic toxicity</td>\n",
       "      <td>15897593</td>\n",
       "      <td>clinical trials patients brain metastases comb...</td>\n",
       "      <td>False</td>\n",
       "    </tr>\n",
       "  </tbody>\n",
       "</table>\n",
       "</div>"
      ],
      "text/plain": [
       "     chemical_name           disease_name      pmid  \\\n",
       "0             5-HT    psychotic disorders  20705401   \n",
       "1  D-penicillamine  localized scleroderma   2334179   \n",
       "2        yohimbine    affective disorders   1535072   \n",
       "3          calcium          muscle spasms   8492347   \n",
       "4      dexrazoxane   hematologic toxicity  15897593   \n",
       "\n",
       "                                   relationship_info boolean_relationship  \n",
       "0  animal models considered reflect positive symp...                 True  \n",
       "1  case reports patients severe extensive localiz...                False  \n",
       "2  method six patients either obsessive compulsiv...                False  \n",
       "3  severe hypokalemia may cause muscle weakness s...                False  \n",
       "4  clinical trials patients brain metastases comb...                False  "
      ]
     },
     "execution_count": 30,
     "metadata": {},
     "output_type": "execute_result"
    }
   ],
   "source": [
    "print(df4.shape)\n",
    "df4.head()"
   ]
  },
  {
   "cell_type": "code",
   "execution_count": 31,
   "metadata": {
    "collapsed": false
   },
   "outputs": [
    {
     "data": {
      "text/plain": [
       "False    4634\n",
       "True      964\n",
       "Name: boolean_relationship, dtype: int64"
      ]
     },
     "execution_count": 31,
     "metadata": {},
     "output_type": "execute_result"
    }
   ],
   "source": [
    "df4.boolean_relationship.value_counts()"
   ]
  },
  {
   "cell_type": "markdown",
   "metadata": {},
   "source": [
    "#### Randomly sample 964 Falses"
   ]
  },
  {
   "cell_type": "code",
   "execution_count": 32,
   "metadata": {
    "collapsed": true
   },
   "outputs": [],
   "source": [
    "df_true = df4[df4['boolean_relationship']==True]\n",
    "df_false0 = df4[df4['boolean_relationship']==False]"
   ]
  },
  {
   "cell_type": "code",
   "execution_count": 33,
   "metadata": {
    "collapsed": false
   },
   "outputs": [
    {
     "data": {
      "text/plain": [
       "(964, 5)"
      ]
     },
     "execution_count": 33,
     "metadata": {},
     "output_type": "execute_result"
    }
   ],
   "source": [
    "df_true.shape"
   ]
  },
  {
   "cell_type": "code",
   "execution_count": 34,
   "metadata": {
    "collapsed": false
   },
   "outputs": [
    {
     "data": {
      "text/plain": [
       "(964, 5)"
      ]
     },
     "execution_count": 34,
     "metadata": {},
     "output_type": "execute_result"
    }
   ],
   "source": [
    "df_false = df_false0.sample(n=df3.boolean_relationship.value_counts()[1], random_state=1).reset_index(drop=True)\n",
    "df_false.shape"
   ]
  },
  {
   "cell_type": "markdown",
   "metadata": {},
   "source": [
    "### Final dataframe"
   ]
  },
  {
   "cell_type": "code",
   "execution_count": 35,
   "metadata": {
    "collapsed": false
   },
   "outputs": [
    {
     "data": {
      "text/html": [
       "<div>\n",
       "<table border=\"1\" class=\"dataframe\">\n",
       "  <thead>\n",
       "    <tr style=\"text-align: right;\">\n",
       "      <th></th>\n",
       "      <th>boolean_relationship</th>\n",
       "      <th>relationship_info</th>\n",
       "      <th>pmid</th>\n",
       "      <th>chemical_name</th>\n",
       "      <th>disease_name</th>\n",
       "    </tr>\n",
       "  </thead>\n",
       "  <tbody>\n",
       "    <tr>\n",
       "      <th>0</th>\n",
       "      <td>True</td>\n",
       "      <td>describe yearold woman preexisting mitral valv...</td>\n",
       "      <td>11419773</td>\n",
       "      <td>caffeine</td>\n",
       "      <td>ventricular fibrillation</td>\n",
       "    </tr>\n",
       "    <tr>\n",
       "      <th>1</th>\n",
       "      <td>False</td>\n",
       "      <td>laxation critically ill patients lactulose pol...</td>\n",
       "      <td>17893628</td>\n",
       "      <td>lactulose</td>\n",
       "      <td>critically ill</td>\n",
       "    </tr>\n",
       "    <tr>\n",
       "      <th>2</th>\n",
       "      <td>False</td>\n",
       "      <td>methotrexate mtx sulfasalazine ssz cyclosporin...</td>\n",
       "      <td>12463452</td>\n",
       "      <td>sulfasalazine/SSZ</td>\n",
       "      <td>PsA</td>\n",
       "    </tr>\n",
       "    <tr>\n",
       "      <th>3</th>\n",
       "      <td>True</td>\n",
       "      <td>polychlorinated biphenyls pcbs persistent envi...</td>\n",
       "      <td>24812009</td>\n",
       "      <td>Polychlorinated biphenyls/PCBs</td>\n",
       "      <td>NAFLD/non-alcoholic fatty liver disease</td>\n",
       "    </tr>\n",
       "    <tr>\n",
       "      <th>4</th>\n",
       "      <td>True</td>\n",
       "      <td>although pcp classified human carcinogen epide...</td>\n",
       "      <td>7904464</td>\n",
       "      <td>PCP</td>\n",
       "      <td>sarcoma</td>\n",
       "    </tr>\n",
       "  </tbody>\n",
       "</table>\n",
       "</div>"
      ],
      "text/plain": [
       "  boolean_relationship                                  relationship_info  \\\n",
       "0                 True  describe yearold woman preexisting mitral valv...   \n",
       "1                False  laxation critically ill patients lactulose pol...   \n",
       "2                False  methotrexate mtx sulfasalazine ssz cyclosporin...   \n",
       "3                 True  polychlorinated biphenyls pcbs persistent envi...   \n",
       "4                 True  although pcp classified human carcinogen epide...   \n",
       "\n",
       "       pmid                   chemical_name  \\\n",
       "0  11419773                        caffeine   \n",
       "1  17893628                       lactulose   \n",
       "2  12463452               sulfasalazine/SSZ   \n",
       "3  24812009  Polychlorinated biphenyls/PCBs   \n",
       "4   7904464                             PCP   \n",
       "\n",
       "                              disease_name  \n",
       "0                 ventricular fibrillation  \n",
       "1                           critically ill  \n",
       "2                                      PsA  \n",
       "3  NAFLD/non-alcoholic fatty liver disease  \n",
       "4                                  sarcoma  "
      ]
     },
     "execution_count": 35,
     "metadata": {},
     "output_type": "execute_result"
    }
   ],
   "source": [
    "#final dataframe is of the columns I wish to vectorize.\n",
    "df_labeled = df_true[['boolean_relationship','relationship_info','pmid','chemical_name','disease_name']].append(df_false[['boolean_relationship','relationship_info','pmid','chemical_name','disease_name']])\n",
    "\n",
    "#shuffling the rows... \n",
    "df_labeled = df_labeled.sample(frac=1, random_state=1).reset_index(drop=True)\n",
    "df_labeled.head()"
   ]
  },
  {
   "cell_type": "code",
   "execution_count": 36,
   "metadata": {
    "collapsed": false
   },
   "outputs": [
    {
     "data": {
      "text/plain": [
       "(1928, 5)"
      ]
     },
     "execution_count": 36,
     "metadata": {},
     "output_type": "execute_result"
    }
   ],
   "source": [
    "df_labeled.shape"
   ]
  },
  {
   "cell_type": "code",
   "execution_count": 37,
   "metadata": {
    "collapsed": false
   },
   "outputs": [],
   "source": [
    "df_labeled.to_csv( \"data/labeled_df.csv\", index=False)"
   ]
  },
  {
   "cell_type": "markdown",
   "metadata": {},
   "source": [
    "### Data Visualization"
   ]
  },
  {
   "cell_type": "code",
   "execution_count": 38,
   "metadata": {
    "collapsed": false
   },
   "outputs": [
    {
     "data": {
      "text/html": [
       "<div>\n",
       "<table border=\"1\" class=\"dataframe\">\n",
       "  <thead>\n",
       "    <tr style=\"text-align: right;\">\n",
       "      <th></th>\n",
       "      <th>True</th>\n",
       "      <th>False</th>\n",
       "    </tr>\n",
       "  </thead>\n",
       "  <tbody>\n",
       "    <tr>\n",
       "      <th>AD/Alzheimer's disease</th>\n",
       "      <td>1.0</td>\n",
       "      <td>1.0</td>\n",
       "    </tr>\n",
       "    <tr>\n",
       "      <th>ADRP</th>\n",
       "      <td>2.0</td>\n",
       "      <td>1.0</td>\n",
       "    </tr>\n",
       "    <tr>\n",
       "      <th>AF</th>\n",
       "      <td>1.0</td>\n",
       "      <td>2.0</td>\n",
       "    </tr>\n",
       "    <tr>\n",
       "      <th>AML</th>\n",
       "      <td>1.0</td>\n",
       "      <td>1.0</td>\n",
       "    </tr>\n",
       "    <tr>\n",
       "      <th>ESRD</th>\n",
       "      <td>1.0</td>\n",
       "      <td>1.0</td>\n",
       "    </tr>\n",
       "  </tbody>\n",
       "</table>\n",
       "</div>"
      ],
      "text/plain": [
       "                        True  False\n",
       "AD/Alzheimer's disease   1.0    1.0\n",
       "ADRP                     2.0    1.0\n",
       "AF                       1.0    2.0\n",
       "AML                      1.0    1.0\n",
       "ESRD                     1.0    1.0"
      ]
     },
     "execution_count": 38,
     "metadata": {},
     "output_type": "execute_result"
    }
   ],
   "source": [
    "#visualize diseases based on whether they are true or false \n",
    "df_diseases0 = pd.DataFrame([df_true.disease_name.value_counts(), df_false.disease_name.value_counts()])\n",
    "df_diseases = df_diseases0.transpose().copy()\n",
    "df_diseases.columns = [\"True\",\"False\"]\n",
    "df_diseases.dropna(inplace=True)\n",
    "df_diseases.head()"
   ]
  },
  {
   "cell_type": "code",
   "execution_count": 39,
   "metadata": {
    "collapsed": false
   },
   "outputs": [
    {
     "data": {
      "image/png": "[encoded data removed]",
      "text/plain": [
       "<matplotlib.figure.Figure at 0x119471c88>"
      ]
     },
     "metadata": {},
     "output_type": "display_data"
    }
   ],
   "source": [
    "df_diseases.plot.barh(stacked=True,figsize=(14,20));"
   ]
  },
  {
   "cell_type": "code",
   "execution_count": 40,
   "metadata": {
    "collapsed": false
   },
   "outputs": [
    {
     "data": {
      "text/html": [
       "<div>\n",
       "<table border=\"1\" class=\"dataframe\">\n",
       "  <thead>\n",
       "    <tr style=\"text-align: right;\">\n",
       "      <th></th>\n",
       "      <th>True</th>\n",
       "      <th>False</th>\n",
       "    </tr>\n",
       "  </thead>\n",
       "  <tbody>\n",
       "    <tr>\n",
       "      <th>5-FU</th>\n",
       "      <td>1.0</td>\n",
       "      <td>5.0</td>\n",
       "    </tr>\n",
       "    <tr>\n",
       "      <th>5-FU/5-fluorouracil</th>\n",
       "      <td>1.0</td>\n",
       "      <td>3.0</td>\n",
       "    </tr>\n",
       "    <tr>\n",
       "      <th>5-aza-2'-deoxycytidine</th>\n",
       "      <td>1.0</td>\n",
       "      <td>1.0</td>\n",
       "    </tr>\n",
       "    <tr>\n",
       "      <th>5-fluorouracil</th>\n",
       "      <td>4.0</td>\n",
       "      <td>2.0</td>\n",
       "    </tr>\n",
       "    <tr>\n",
       "      <th>ADR</th>\n",
       "      <td>4.0</td>\n",
       "      <td>1.0</td>\n",
       "    </tr>\n",
       "  </tbody>\n",
       "</table>\n",
       "</div>"
      ],
      "text/plain": [
       "                        True  False\n",
       "5-FU                     1.0    5.0\n",
       "5-FU/5-fluorouracil      1.0    3.0\n",
       "5-aza-2'-deoxycytidine   1.0    1.0\n",
       "5-fluorouracil           4.0    2.0\n",
       "ADR                      4.0    1.0"
      ]
     },
     "execution_count": 40,
     "metadata": {},
     "output_type": "execute_result"
    }
   ],
   "source": [
    "#visualize chemicals based on whether they are true or false \n",
    "df_chemicals = pd.DataFrame([df_true.chemical_name.value_counts(), df_false.chemical_name.value_counts()])\n",
    "df_chemicals = df_chemicals.transpose().copy()\n",
    "df_chemicals.dropna(inplace = True)\n",
    "df_chemicals.columns = [\"True\",\"False\"]\n",
    "df_chemicals.head()"
   ]
  },
  {
   "cell_type": "code",
   "execution_count": 41,
   "metadata": {
    "collapsed": false
   },
   "outputs": [
    {
     "data": {
      "image/png": "[encoded data removed]",
      "text/plain": [
       "<matplotlib.figure.Figure at 0x11be737b8>"
      ]
     },
     "metadata": {},
     "output_type": "display_data"
    }
   ],
   "source": [
    "df_chemicals.plot.barh(stacked=True,figsize=(14,25));"
   ]
  },
  {
   "cell_type": "markdown",
   "metadata": {},
   "source": [
    "** both disease and chemical datasets seem more balanced now. ** "
   ]
  },
  {
   "cell_type": "markdown",
   "metadata": {
    "collapsed": false
   },
   "source": [
    "### Create vocabularies of True/False"
   ]
  },
  {
   "cell_type": "code",
   "execution_count": 42,
   "metadata": {
    "collapsed": false
   },
   "outputs": [
    {
     "name": "stdout",
     "output_type": "stream",
     "text": [
      "length of true vocab:  14317\n",
      "length of false vocab:  16273\n"
     ]
    }
   ],
   "source": [
    "#separate words into 2 lists, and count word frequency. \n",
    "true_vocab = \"\"\n",
    "for doc in df_true.relationship_info:\n",
    "    true_vocab += doc\n",
    "print(\"length of true vocab: \", len(true_vocab.split()))\n",
    "\n",
    "false_vocab = \"\"\n",
    "for doc in df_false.relationship_info:\n",
    "    false_vocab += doc\n",
    "print(\"length of false vocab: \", len(false_vocab.split()))"
   ]
  },
  {
   "cell_type": "markdown",
   "metadata": {},
   "source": [
    "### Tokenizing"
   ]
  },
  {
   "cell_type": "code",
   "execution_count": 46,
   "metadata": {
    "collapsed": false
   },
   "outputs": [
    {
     "data": {
      "text/plain": [
       "['animal',\n",
       " 'models',\n",
       " 'considered',\n",
       " 'reflect',\n",
       " 'positive',\n",
       " 'symptoms',\n",
       " 'schizophrenia',\n",
       " 'evidence',\n",
       " 'suggests',\n",
       " 'altered',\n",
       " '5',\n",
       " '-',\n",
       " 'ht',\n",
       " 'receptors',\n",
       " 'involved',\n",
       " 'pathophysiology',\n",
       " 'psychotic',\n",
       " 'disorders',\n",
       " 'receptors',\n",
       " 'ht']"
      ]
     },
     "execution_count": 46,
     "metadata": {},
     "output_type": "execute_result"
    }
   ],
   "source": [
    "from nltk.tokenize import wordpunct_tokenize\n",
    "wordpunct_tokenize(true_vocab)[:20]\n",
    "#I do not like this version, because it split up the chemical '5-HT' into 3 different tokens. "
   ]
  },
  {
   "cell_type": "markdown",
   "metadata": {},
   "source": [
    "#### Stemming"
   ]
  },
  {
   "cell_type": "code",
   "execution_count": 47,
   "metadata": {
    "collapsed": false
   },
   "outputs": [
    {
     "data": {
      "text/plain": [
       "['anim',\n",
       " 'model',\n",
       " 'consid',\n",
       " 'reflect',\n",
       " 'posit',\n",
       " 'symptom',\n",
       " 'schizophrenia',\n",
       " 'evid',\n",
       " 'suggest',\n",
       " 'alter',\n",
       " '5-ht',\n",
       " 'receptor',\n",
       " 'involv',\n",
       " 'pathophysiolog',\n",
       " 'psychot',\n",
       " 'disord',\n",
       " 'receptor',\n",
       " 'ht',\n",
       " 'relat',\n",
       " 'psychot']"
      ]
     },
     "execution_count": 47,
     "metadata": {},
     "output_type": "execute_result"
    }
   ],
   "source": [
    "#stemming is the process for reducing words to their stem, base, or root form\n",
    "from nltk.stem.porter import PorterStemmer\n",
    "porter_stemmer = PorterStemmer()\n",
    "true_stem = [porter_stemmer.stem(w) for w in true_vocab.split(' ')]\n",
    "false_stem = [porter_stemmer.stem(w) for w in false_vocab.split(' ')]\n",
    "true_stem[:20]\n",
    "#It is understandable, but it breaks the words. "
   ]
  },
  {
   "cell_type": "markdown",
   "metadata": {},
   "source": [
    "#### Lemmatizing"
   ]
  },
  {
   "cell_type": "code",
   "execution_count": 48,
   "metadata": {
    "collapsed": false
   },
   "outputs": [
    {
     "data": {
      "text/plain": [
       "['animal',\n",
       " 'model',\n",
       " 'considered',\n",
       " 'reflect',\n",
       " 'positive',\n",
       " 'symptom',\n",
       " 'schizophrenia',\n",
       " 'evidence',\n",
       " 'suggests',\n",
       " 'altered',\n",
       " '5-ht',\n",
       " 'receptor',\n",
       " 'involved',\n",
       " 'pathophysiology',\n",
       " 'psychotic',\n",
       " 'disorder',\n",
       " 'receptor',\n",
       " 'ht',\n",
       " 'related',\n",
       " 'psychotic']"
      ]
     },
     "execution_count": 48,
     "metadata": {},
     "output_type": "execute_result"
    }
   ],
   "source": [
    "#lemmatization is the process of grouping together the different forms of a word so they can be analysed as a single item.\n",
    "from nltk.stem import WordNetLemmatizer\n",
    "wordnet_lemmatizer = WordNetLemmatizer()\n",
    "true_lem = [wordnet_lemmatizer.lemmatize(w) for w in true_vocab.split(' ')]\n",
    "false_lem = [wordnet_lemmatizer.lemmatize(w) for w in false_vocab.split(' ')]\n",
    "true_lem[:20]"
   ]
  },
  {
   "cell_type": "code",
   "execution_count": 49,
   "metadata": {
    "collapsed": false
   },
   "outputs": [
    {
     "data": {
      "text/plain": [
       "[('patient', 173),\n",
       " ('associ', 163),\n",
       " ('induc', 157),\n",
       " ('increas', 127),\n",
       " ('', 124),\n",
       " ('toxic', 110),\n",
       " ('caus', 108),\n",
       " ('effect', 89),\n",
       " ('develop', 86),\n",
       " ('risk', 80)]"
      ]
     },
     "execution_count": 49,
     "metadata": {},
     "output_type": "execute_result"
    }
   ],
   "source": [
    "true_word_freq_stem = Counter(true_stem)\n",
    "false_word_freq_stem = Counter(false_stem)\n",
    "\n",
    "true_word_freq_stem.most_common(10)"
   ]
  },
  {
   "cell_type": "code",
   "execution_count": 50,
   "metadata": {
    "collapsed": false
   },
   "outputs": [
    {
     "data": {
      "text/plain": [
       "[('patient', 285),\n",
       " ('effect', 164),\n",
       " ('treatment', 161),\n",
       " ('', 158),\n",
       " ('cell', 137),\n",
       " ('studi', 136),\n",
       " ('cancer', 123),\n",
       " ('use', 97),\n",
       " ('therapi', 94),\n",
       " ('diseas', 89)]"
      ]
     },
     "execution_count": 50,
     "metadata": {},
     "output_type": "execute_result"
    }
   ],
   "source": [
    "false_word_freq_stem.most_common(10)"
   ]
  },
  {
   "cell_type": "code",
   "execution_count": 51,
   "metadata": {
    "collapsed": false
   },
   "outputs": [
    {
     "data": {
      "text/plain": [
       "[('patient', 173),\n",
       " ('associated', 152),\n",
       " ('induced', 136),\n",
       " ('', 124),\n",
       " ('toxicity', 98),\n",
       " ('increased', 95),\n",
       " ('risk', 80),\n",
       " ('effect', 74),\n",
       " ('treatment', 72),\n",
       " ('may', 69)]"
      ]
     },
     "execution_count": 51,
     "metadata": {},
     "output_type": "execute_result"
    }
   ],
   "source": [
    "true_word_freq_lem = Counter(true_lem)\n",
    "false_word_freq_lem = Counter(false_lem)\n",
    "\n",
    "true_word_freq_lem.most_common(10)"
   ]
  },
  {
   "cell_type": "code",
   "execution_count": 52,
   "metadata": {
    "collapsed": false
   },
   "outputs": [
    {
     "data": {
      "text/plain": [
       "[('patient', 285),\n",
       " ('treatment', 161),\n",
       " ('', 158),\n",
       " ('cell', 137),\n",
       " ('cancer', 123),\n",
       " ('study', 122),\n",
       " ('effect', 112),\n",
       " ('therapy', 94),\n",
       " ('disease', 89),\n",
       " ('human', 62)]"
      ]
     },
     "execution_count": 52,
     "metadata": {},
     "output_type": "execute_result"
    }
   ],
   "source": [
    "false_word_freq_lem.most_common(10)"
   ]
  },
  {
   "cell_type": "markdown",
   "metadata": {
    "collapsed": true
   },
   "source": [
    "### Summary\n",
    "- Stemming is getting better results than lemmatizing, because it breaks up the words more. \n",
    "- No matter if the chemical causes the disease or not, 'patient' is the most frequent word.\n",
    "- It would be interesting to see the different topics of the articles, but first let's get more words."
   ]
  },
  {
   "cell_type": "code",
   "execution_count": null,
   "metadata": {
    "collapsed": true
   },
   "outputs": [],
   "source": []
  }
 ],
 "metadata": {
  "kernelspec": {
   "display_name": "Python 3",
   "language": "python",
   "name": "python3"
  },
  "language_info": {
   "codemirror_mode": {
    "name": "ipython",
    "version": 3
   },
   "file_extension": ".py",
   "mimetype": "text/x-python",
   "name": "python",
   "nbconvert_exporter": "python",
   "pygments_lexer": "ipython3",
   "version": "3.5.1"
  }
 },
 "nbformat": 4,
 "nbformat_minor": 0
}

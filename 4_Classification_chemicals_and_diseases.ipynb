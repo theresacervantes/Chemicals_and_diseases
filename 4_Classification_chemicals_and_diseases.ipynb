{
 "cells": [
  {
   "cell_type": "code",
   "execution_count": 23,
   "metadata": {
    "collapsed": true
   },
   "outputs": [],
   "source": [
    "reset -fs"
   ]
  },
  {
   "cell_type": "markdown",
   "metadata": {},
   "source": [
    "# Classification\n",
    "\n",
    "### Preprocessing"
   ]
  },
  {
   "cell_type": "code",
<<<<<<< HEAD
   "execution_count": 1,
=======
   "execution_count": 24,
>>>>>>> 6503a71df82d1f5c0949bc4942a4c452634ba239
   "metadata": {
    "collapsed": false
   },
   "outputs": [],
   "source": [
    "import numpy as np\n",
    "import pandas as pd\n",
    "from time import time\n",
    "from pprint import pprint\n",
    "from collections import Counter,defaultdict\n",
    "from sklearn.pipeline import Pipeline\n",
    "from sklearn.grid_search import GridSearchCV\n",
    "from sklearn.feature_extraction.text import CountVectorizer, TfidfVectorizer, TfidfTransformer\n",
    "from sklearn.cross_validation import train_test_split, cross_val_score\n",
    "from sklearn.naive_bayes import BernoulliNB, MultinomialNB, GaussianNB\n",
    "from IPython.core.display import HTML\n",
    "HTML(\"<style>.container { width:95% !important; }</style>\")\n",
    "import warnings\n",
    "warnings.filterwarnings('ignore')"
   ]
  },
  {
   "cell_type": "code",
<<<<<<< HEAD
   "execution_count": 2,
=======
   "execution_count": 25,
>>>>>>> 6503a71df82d1f5c0949bc4942a4c452634ba239
   "metadata": {
    "collapsed": false,
    "scrolled": true
   },
   "outputs": [
    {
     "data": {
      "text/html": [
       "<div>\n",
       "<table border=\"1\" class=\"dataframe\">\n",
       "  <thead>\n",
       "    <tr style=\"text-align: right;\">\n",
       "      <th></th>\n",
       "      <th>boolean_relationship</th>\n",
       "      <th>chemical_name</th>\n",
       "      <th>disease_name</th>\n",
       "      <th>all_info</th>\n",
       "    </tr>\n",
       "  </thead>\n",
       "  <tbody>\n",
       "    <tr>\n",
       "      <th>0</th>\n",
       "      <td>True</td>\n",
       "      <td>caffeine</td>\n",
       "      <td>ventricular fibrillation</td>\n",
       "      <td>describe yearold woman preexisting mitral valv...</td>\n",
       "    </tr>\n",
       "    <tr>\n",
       "      <th>1</th>\n",
       "      <td>False</td>\n",
       "      <td>lactulose</td>\n",
       "      <td>critically ill</td>\n",
       "      <td>laxation critically ill patients lactulose pol...</td>\n",
       "    </tr>\n",
       "    <tr>\n",
       "      <th>2</th>\n",
       "      <td>False</td>\n",
       "      <td>sulfasalazine/SSZ</td>\n",
       "      <td>PsA</td>\n",
       "      <td>methotrexate mtx sulfasalazine ssz cyclosporin...</td>\n",
       "    </tr>\n",
       "    <tr>\n",
       "      <th>3</th>\n",
       "      <td>True</td>\n",
       "      <td>Polychlorinated biphenyls/PCBs</td>\n",
       "      <td>NAFLD/non-alcoholic fatty liver disease</td>\n",
       "      <td>polychlorinated biphenyls pcbs persistent envi...</td>\n",
       "    </tr>\n",
       "    <tr>\n",
       "      <th>4</th>\n",
       "      <td>True</td>\n",
       "      <td>PCP</td>\n",
       "      <td>sarcoma</td>\n",
       "      <td>although pcp classified human carcinogen epide...</td>\n",
       "    </tr>\n",
       "  </tbody>\n",
       "</table>\n",
       "</div>"
      ],
      "text/plain": [
       "  boolean_relationship                   chemical_name  \\\n",
       "0                 True                        caffeine   \n",
       "1                False                       lactulose   \n",
       "2                False               sulfasalazine/SSZ   \n",
       "3                 True  Polychlorinated biphenyls/PCBs   \n",
       "4                 True                             PCP   \n",
       "\n",
       "                              disease_name  \\\n",
       "0                 ventricular fibrillation   \n",
       "1                           critically ill   \n",
       "2                                      PsA   \n",
       "3  NAFLD/non-alcoholic fatty liver disease   \n",
       "4                                  sarcoma   \n",
       "\n",
       "                                            all_info  \n",
       "0  describe yearold woman preexisting mitral valv...  \n",
       "1  laxation critically ill patients lactulose pol...  \n",
       "2  methotrexate mtx sulfasalazine ssz cyclosporin...  \n",
       "3  polychlorinated biphenyls pcbs persistent envi...  \n",
       "4  although pcp classified human carcinogen epide...  "
      ]
     },
<<<<<<< HEAD
     "execution_count": 2,
=======
     "execution_count": 25,
>>>>>>> 6503a71df82d1f5c0949bc4942a4c452634ba239
     "metadata": {},
     "output_type": "execute_result"
    }
   ],
   "source": [
<<<<<<< HEAD
    "df_labeled = pd.read_csv('data/Final_df.csv', na_values=['?'])\n",
=======
    "df_labeled = pd.read_csv('Final_df.csv', na_values=['?'])\n",
>>>>>>> 6503a71df82d1f5c0949bc4942a4c452634ba239
    "df_labeled.head()"
   ]
  },
  {
   "cell_type": "code",
<<<<<<< HEAD
   "execution_count": 3,
=======
   "execution_count": 47,
>>>>>>> 6503a71df82d1f5c0949bc4942a4c452634ba239
   "metadata": {
    "collapsed": true
   },
   "outputs": [],
   "source": [
    "y = df_labeled.boolean_relationship\n",
    "X = df_labeled.all_info"
   ]
  },
  {
   "cell_type": "markdown",
   "metadata": {},
   "source": [
<<<<<<< HEAD
    "### Vectorize\n",
    "\n",
    "#### Finding the optimal number of features"
=======
    "### Vectorize"
>>>>>>> 6503a71df82d1f5c0949bc4942a4c452634ba239
   ]
  },
  {
   "cell_type": "code",
<<<<<<< HEAD
   "execution_count": 4,
=======
   "execution_count": 48,
>>>>>>> 6503a71df82d1f5c0949bc4942a4c452634ba239
   "metadata": {
    "collapsed": false
   },
   "outputs": [
    {
     "name": "stdout",
     "output_type": "stream",
     "text": [
<<<<<<< HEAD
      "Accuracy of 100.000000: 0.701244813278\n",
      "Accuracy of 1000.000000: 0.740663900415\n",
      "Accuracy of 3000.000000: 0.759336099585\n",
      "Accuracy of 5800.000000: 0.759336099585\n",
      "Accuracy of 6000.000000: 0.763485477178\n",
      "Accuracy of 7000.000000: 0.767634854772\n",
      "Accuracy of 7300.000000: 0.767634854772\n",
      "Accuracy of 7500.000000: 0.769709543568\n",
      "Accuracy of 7800.000000: 0.769709543568\n",
      "Accuracy of 8000.000000: 0.765560165975\n"
=======
      "acc of 100.000000: 0.701244813278\n",
      "acc of 1000.000000: 0.740663900415\n",
      "acc of 3000.000000: 0.759336099585\n",
      "acc of 5800.000000: 0.759336099585\n",
      "acc of 6000.000000: 0.763485477178\n",
      "acc of 7000.000000: 0.767634854772\n",
      "acc of 7300.000000: 0.767634854772\n",
      "acc of 7500.000000: 0.769709543568\n",
      "acc of 7800.000000: 0.769709543568\n",
      "acc of 8000.000000: 0.765560165975\n"
>>>>>>> 6503a71df82d1f5c0949bc4942a4c452634ba239
     ]
    }
   ],
   "source": [
<<<<<<< HEAD
=======
    "#finding the optimal number of features \n",
>>>>>>> 6503a71df82d1f5c0949bc4942a4c452634ba239
    "for features in [100,1000,3000,5800,6000,7000,7300,7500,7800,8000]:\n",
    "    tf_idf = TfidfVectorizer(analyzer='word', stop_words='english',max_features=features)\n",
    "    X_tf = tf_idf.fit_transform(X).toarray()    \n",
    "    X_tr, X_te, y_tr, y_te = train_test_split(X_tf, y, random_state=1)\n",
    "    mnb = MultinomialNB()\n",
    "    mnb.fit(X_tr, y_tr)\n",
<<<<<<< HEAD
    "    print('Accuracy of %f:' %features, mnb.score(X_te, y_te))\n",
=======
    "    print('acc of %f:' %features, mnb.score(X_te, y_te))\n",
>>>>>>> 6503a71df82d1f5c0949bc4942a4c452634ba239
    "    "
   ]
  },
  {
   "cell_type": "code",
<<<<<<< HEAD
   "execution_count": 5,
=======
   "execution_count": 49,
>>>>>>> 6503a71df82d1f5c0949bc4942a4c452634ba239
   "metadata": {
    "collapsed": false
   },
   "outputs": [
    {
     "name": "stdout",
     "output_type": "stream",
     "text": [
<<<<<<< HEAD
      "Accuracy of 100.000000: 0.697095435685\n",
      "Accuracy of 1000.000000: 0.740663900415\n",
      "Accuracy of 3000.000000: 0.765560165975\n",
      "Accuracy of 5800.000000: 0.759336099585\n",
      "Accuracy of 6000.000000: 0.761410788382\n",
      "Accuracy of 7000.000000: 0.761410788382\n",
      "Accuracy of 7300.000000: 0.761410788382\n",
      "Accuracy of 7500.000000: 0.761410788382\n",
      "Accuracy of 7800.000000: 0.761410788382\n",
      "Accuracy of 8000.000000: 0.761410788382\n"
=======
      "acc of 100.000000: 0.697095435685\n",
      "acc of 1000.000000: 0.740663900415\n",
      "acc of 3000.000000: 0.765560165975\n",
      "acc of 5800.000000: 0.759336099585\n",
      "acc of 6000.000000: 0.761410788382\n",
      "acc of 7000.000000: 0.761410788382\n",
      "acc of 7300.000000: 0.761410788382\n",
      "acc of 7500.000000: 0.761410788382\n",
      "acc of 7800.000000: 0.761410788382\n",
      "acc of 8000.000000: 0.761410788382\n"
>>>>>>> 6503a71df82d1f5c0949bc4942a4c452634ba239
     ]
    }
   ],
   "source": [
    "#finding the optimal number of features \n",
    "X = df_labeled.all_info\n",
    "for features in [100,1000,3000,5800,6000,7000,7300,7500,7800,8000]:\n",
    "    tf_idf = TfidfVectorizer(analyzer='word', stop_words='english',max_features=features, sublinear_tf=True)\n",
    "    X_tf = tf_idf.fit_transform(X).toarray()    \n",
    "    X_tr, X_te, y_tr, y_te = train_test_split(X_tf, y, random_state=1)\n",
    "    mnb = MultinomialNB()\n",
    "    mnb.fit(X_tr, y_tr)\n",
<<<<<<< HEAD
    "    print('Accuracy of %f:' %features, mnb.score(X_te, y_te))\n",
=======
    "    print('acc of %f:' %features, mnb.score(X_te, y_te))\n",
>>>>>>> 6503a71df82d1f5c0949bc4942a4c452634ba239
    "    "
   ]
  },
  {
   "cell_type": "code",
<<<<<<< HEAD
   "execution_count": 6,
=======
   "execution_count": 50,
>>>>>>> 6503a71df82d1f5c0949bc4942a4c452634ba239
   "metadata": {
    "collapsed": false,
    "scrolled": true
   },
   "outputs": [
    {
     "name": "stdout",
     "output_type": "stream",
     "text": [
<<<<<<< HEAD
      "Accuracy of 100.000000: 0.697095435685\n",
      "Accuracy of 1000.000000: 0.740663900415\n",
      "Accuracy of 3000.000000: 0.765560165975\n",
      "Accuracy of 5800.000000: 0.757261410788\n",
      "Accuracy of 6000.000000: 0.759336099585\n",
      "Accuracy of 7000.000000: 0.759336099585\n",
      "Accuracy of 7300.000000: 0.761410788382\n",
      "Accuracy of 7500.000000: 0.761410788382\n",
      "Accuracy of 7800.000000: 0.761410788382\n",
      "Accuracy of 8000.000000: 0.761410788382\n"
=======
      "acc of 100.000000: 0.697095435685\n",
      "acc of 1000.000000: 0.740663900415\n",
      "acc of 3000.000000: 0.765560165975\n",
      "acc of 5800.000000: 0.757261410788\n",
      "acc of 6000.000000: 0.759336099585\n",
      "acc of 7000.000000: 0.759336099585\n",
      "acc of 7300.000000: 0.761410788382\n",
      "acc of 7500.000000: 0.761410788382\n",
      "acc of 7800.000000: 0.761410788382\n",
      "acc of 8000.000000: 0.761410788382\n"
>>>>>>> 6503a71df82d1f5c0949bc4942a4c452634ba239
     ]
    }
   ],
   "source": [
    "#finding the optimal number of features \n",
    "X = df_labeled.all_info\n",
    "for features in [100,1000,3000,5800,6000,7000,7300,7500,7800,8000]:\n",
    "    tf_idf = TfidfVectorizer(analyzer='word', stop_words='english',max_features=features, smooth_idf = False, sublinear_tf=True)\n",
    "    X_tf = tf_idf.fit_transform(X).toarray()    \n",
    "    X_tr, X_te, y_tr, y_te = train_test_split(X_tf, y, random_state=1)\n",
    "    mnb = MultinomialNB()\n",
    "    mnb.fit(X_tr, y_tr)\n",
<<<<<<< HEAD
    "    print('Accuracy of %f:' %features, mnb.score(X_te, y_te))\n",
=======
    "    print('acc of %f:' %features, mnb.score(X_te, y_te))\n",
>>>>>>> 6503a71df82d1f5c0949bc4942a4c452634ba239
    "    "
   ]
  },
  {
   "cell_type": "code",
<<<<<<< HEAD
   "execution_count": 7,
=======
   "execution_count": 51,
>>>>>>> 6503a71df82d1f5c0949bc4942a4c452634ba239
   "metadata": {
    "collapsed": false
   },
   "outputs": [
    {
     "name": "stdout",
     "output_type": "stream",
     "text": [
<<<<<<< HEAD
      "Accuracy of 100.000000: 0.697095435685\n",
      "Accuracy of 1000.000000: 0.740663900415\n",
      "Accuracy of 3000.000000: 0.765560165975\n",
      "Accuracy of 5800.000000: 0.757261410788\n",
      "Accuracy of 6000.000000: 0.759336099585\n",
      "Accuracy of 7000.000000: 0.759336099585\n",
      "Accuracy of 7300.000000: 0.761410788382\n",
      "Accuracy of 7500.000000: 0.761410788382\n",
      "Accuracy of 7800.000000: 0.761410788382\n",
      "Accuracy of 8000.000000: 0.761410788382\n"
=======
      "acc of 100.000000: 0.697095435685\n",
      "acc of 1000.000000: 0.740663900415\n",
      "acc of 3000.000000: 0.765560165975\n",
      "acc of 5800.000000: 0.757261410788\n",
      "acc of 6000.000000: 0.759336099585\n",
      "acc of 7000.000000: 0.759336099585\n",
      "acc of 7300.000000: 0.761410788382\n",
      "acc of 7500.000000: 0.761410788382\n",
      "acc of 7800.000000: 0.761410788382\n",
      "acc of 8000.000000: 0.761410788382\n"
>>>>>>> 6503a71df82d1f5c0949bc4942a4c452634ba239
     ]
    }
   ],
   "source": [
    "#finding the optimal number of features \n",
    "X = df_labeled.all_info\n",
    "for features in [100,1000,3000,5800,6000,7000,7300,7500,7800,8000]:\n",
    "    tf_idf = TfidfVectorizer(analyzer='word', stop_words='english',max_features=features, smooth_idf = False, sublinear_tf=True)\n",
    "    X_tf = tf_idf.fit_transform(X).toarray()    \n",
    "    X_tr, X_te, y_tr, y_te = train_test_split(X_tf, y, random_state=1)\n",
    "    mnb = MultinomialNB()\n",
    "    mnb.fit(X_tr, y_tr)\n",
<<<<<<< HEAD
    "    print('Accuracy of %f:' %features, mnb.score(X_te, y_te))\n",
=======
    "    print('acc of %f:' %features, mnb.score(X_te, y_te))\n",
>>>>>>> 6503a71df82d1f5c0949bc4942a4c452634ba239
    "    "
   ]
  },
  {
   "cell_type": "markdown",
   "metadata": {},
   "source": [
<<<<<<< HEAD
    "** We will use: **7500 features with default settings"
=======
    "** We will use: 7500 features with default settings**"
>>>>>>> 6503a71df82d1f5c0949bc4942a4c452634ba239
   ]
  },
  {
   "cell_type": "code",
<<<<<<< HEAD
   "execution_count": 8,
=======
   "execution_count": 31,
>>>>>>> 6503a71df82d1f5c0949bc4942a4c452634ba239
   "metadata": {
    "collapsed": true
   },
   "outputs": [],
   "source": [
    "#Try out different vectorizers:  \n",
    "vectorizer = CountVectorizer(analyzer = \"word\",   \n",
    "                             stop_words = 'english',   \n",
    "                             max_features = 7500)\n",
    "tfidf = TfidfVectorizer(analyzer='word', \n",
    "                        stop_words='english', \n",
    "                        max_features=7500)"
   ]
  },
  {
   "cell_type": "code",
<<<<<<< HEAD
   "execution_count": 9,
=======
   "execution_count": 32,
>>>>>>> 6503a71df82d1f5c0949bc4942a4c452634ba239
   "metadata": {
    "collapsed": false
   },
   "outputs": [],
   "source": [
    "# fit the model and learns the vocabulary; and transform training data into feature vectors. \n",
    "\n",
    "#COUNT VECTORIZER\n",
    "X0 = vectorizer.fit_transform(X).toarray()\n",
    "X_train0, X_test0, y_train0, y_test0 = train_test_split(X0, y, random_state=1)\n",
    "\n",
    "#TF-IDF VECTORIZER (normalizes the vocabulary)\n",
    "X = tfidf.fit_transform(X).toarray()\n",
    "X_train, X_test, y_train, y_test = train_test_split(X, y, random_state=1)\n"
   ]
  },
  {
   "cell_type": "markdown",
   "metadata": {},
   "source": [
    "### Naive Bayes \n",
    "\n",
    "#### Comparing results of CountVectorizer and TFIDFVectorizer"
   ]
  },
  {
   "cell_type": "code",
<<<<<<< HEAD
   "execution_count": 10,
=======
   "execution_count": 33,
>>>>>>> 6503a71df82d1f5c0949bc4942a4c452634ba239
   "metadata": {
    "collapsed": false
   },
   "outputs": [
    {
     "name": "stdout",
     "output_type": "stream",
     "text": [
      "Count Accuracy: 74.48%\n",
      "TF-IDF Accuracy: 74.48%\n"
     ]
    }
   ],
   "source": [
    "bnb = BernoulliNB()\n",
    "bnb.fit(X_train0, y_train0)\n",
    "print('Count Accuracy: %.2f%%' %(bnb.score(X_test0, y_test0)*100))\n",
    "\n",
    "bnb.fit(X_train, y_train)\n",
    "print('TF-IDF Accuracy: %.2f%%' %(bnb.score(X_test, y_test)*100))"
   ]
  },
  {
   "cell_type": "code",
<<<<<<< HEAD
   "execution_count": 25,
=======
   "execution_count": 34,
>>>>>>> 6503a71df82d1f5c0949bc4942a4c452634ba239
   "metadata": {
    "collapsed": false
   },
   "outputs": [
    {
     "name": "stdout",
     "output_type": "stream",
     "text": [
      "Count Accuracy: 74.27%\n",
<<<<<<< HEAD
      "TF-IDF Accuracy: 76.97%\n"
=======
      "TF-IDF Accuracy: 74.69%\n"
>>>>>>> 6503a71df82d1f5c0949bc4942a4c452634ba239
     ]
    }
   ],
   "source": [
    "mnb = MultinomialNB()\n",
    "mnb.fit(X_train0, y_train0)\n",
    "print('Count Accuracy: %.2f%%' %(mnb.score(X_test0, y_test0)*100))\n",
    "\n",
<<<<<<< HEAD
    "mnb.fit(X_train, y_train)\n",
=======
    "bnb.fit(X_train, y_train)\n",
>>>>>>> 6503a71df82d1f5c0949bc4942a4c452634ba239
    "print('TF-IDF Accuracy: %.2f%%' %(mnb.score(X_test, y_test)*100))"
   ]
  },
  {
   "cell_type": "code",
<<<<<<< HEAD
   "execution_count": 24,
=======
   "execution_count": 35,
>>>>>>> 6503a71df82d1f5c0949bc4942a4c452634ba239
   "metadata": {
    "collapsed": false
   },
   "outputs": [
    {
     "name": "stdout",
     "output_type": "stream",
     "text": [
      "Count Accuracy: 68.26%\n",
<<<<<<< HEAD
      "TF-IDF Accuracy: 68.05%\n"
=======
      "TF-IDF Accuracy: 67.43%\n"
>>>>>>> 6503a71df82d1f5c0949bc4942a4c452634ba239
     ]
    }
   ],
   "source": [
    "gnb = GaussianNB()\n",
    "gnb.fit(X_train0, y_train0)\n",
    "print('Count Accuracy: %.2f%%' %(gnb.score(X_test0, y_test0)*100))\n",
    "\n",
<<<<<<< HEAD
    "gnb.fit(X_train, y_train)\n",
=======
    "bnb.fit(X_train, y_train)\n",
>>>>>>> 6503a71df82d1f5c0949bc4942a4c452634ba239
    "print('TF-IDF Accuracy: %.2f%%' %(gnb.score(X_test, y_test)*100))"
   ]
  },
  {
   "cell_type": "markdown",
   "metadata": {},
   "source": [
<<<<<<< HEAD
    "Multinomical NB had a higher accuracy than Bernoulli Naive Bayes, because my feature vectors are binary. Let us try this with other classifiers"
=======
    "** Multinomical NB had a higher accuracy than Bernoulli Naive Bayes, because my feature vectors are binary. Also, TF-IDF seems to outperform CountVectorizer. We will continue forward with TF-IDF on other classifiers.**"
>>>>>>> 6503a71df82d1f5c0949bc4942a4c452634ba239
   ]
  },
  {
   "cell_type": "markdown",
   "metadata": {},
   "source": [
    "### Try other classifiers"
   ]
  },
  {
   "cell_type": "code",
<<<<<<< HEAD
   "execution_count": 13,
=======
   "execution_count": 36,
>>>>>>> 6503a71df82d1f5c0949bc4942a4c452634ba239
   "metadata": {
    "collapsed": true
   },
   "outputs": [],
   "source": [
    "from sklearn.ensemble import RandomForestClassifier\n",
    "from sklearn.neighbors import KNeighborsClassifier\n",
    "from sklearn.linear_model import LogisticRegression\n",
    "from sklearn.ensemble import AdaBoostClassifier\n",
    "from sklearn import svm"
   ]
  },
  {
   "cell_type": "code",
<<<<<<< HEAD
   "execution_count": 29,
=======
   "execution_count": 37,
   "metadata": {
    "collapsed": false
   },
   "outputs": [],
   "source": [
    "y = df_labeled.boolean_relationship\n",
    "X = df_labeled.all_info\n",
    "X = tfidf.fit_transform(X).toarray()\n",
    "X_train, X_test, y_train, y_test = train_test_split(X, y, random_state=1)"
   ]
  },
  {
   "cell_type": "code",
   "execution_count": 38,
>>>>>>> 6503a71df82d1f5c0949bc4942a4c452634ba239
   "metadata": {
    "collapsed": false
   },
   "outputs": [
    {
     "name": "stdout",
     "output_type": "stream",
     "text": [
<<<<<<< HEAD
      "random forest Count Accuracy: 74.48%\n",
      "random forest TF-IDF Accuracy: 69.71%\n"
=======
      "random forest accuracy: 72.82%\n"
>>>>>>> 6503a71df82d1f5c0949bc4942a4c452634ba239
     ]
    }
   ],
   "source": [
    "rf = RandomForestClassifier()\n",
<<<<<<< HEAD
    "rf.fit(X_train0, y_train0)\n",
    "print(\"random forest Count Accuracy: %.2f%%\" %(rf.score(X_test0, y_test0)*100))\n",
    "\n",
    "rf.fit(X_train, y_train)\n",
    "print(\"random forest TF-IDF Accuracy: %.2f%%\" %(rf.score(X_test, y_test)*100))"
=======
    "rf.fit(X_train, y_train)\n",
    "print(\"random forest accuracy: %.2f%%\" %(rf.score(X_test, y_test)*100))"
>>>>>>> 6503a71df82d1f5c0949bc4942a4c452634ba239
   ]
  },
  {
   "cell_type": "code",
<<<<<<< HEAD
   "execution_count": 30,
=======
   "execution_count": 39,
>>>>>>> 6503a71df82d1f5c0949bc4942a4c452634ba239
   "metadata": {
    "collapsed": false
   },
   "outputs": [
    {
     "name": "stdout",
     "output_type": "stream",
     "text": [
<<<<<<< HEAD
      "knn Count Accuracy: 62.45%\n",
      "knn TF-IDF Accuracy: 68.05%\n"
=======
      "knn accuracy: 68.05%\n"
>>>>>>> 6503a71df82d1f5c0949bc4942a4c452634ba239
     ]
    }
   ],
   "source": [
<<<<<<< HEAD
    "knn = KNeighborsClassifier()\n",
    "knn.fit(X_train0, y_train0)\n",
    "print(\"knn Count Accuracy: %.2f%%\" %(knn.score(X_test0, y_test0)*100))\n",
    "\n",
    "knn.fit(X_train, y_train)\n",
    "print(\"knn TF-IDF Accuracy: %.2f%%\" %(knn.score(X_test, y_test)*100))"
=======
    "#knn = KNeighborsClassifier(n_neighbors=5, weights=['uniform or distance'], metric='minkowski')\n",
    "knn = KNeighborsClassifier()\n",
    "knn.fit(X_train, y_train)\n",
    "print(\"knn accuracy: %.2f%%\" %(knn.score(X_test, y_test)*100))"
>>>>>>> 6503a71df82d1f5c0949bc4942a4c452634ba239
   ]
  },
  {
   "cell_type": "code",
<<<<<<< HEAD
   "execution_count": 31,
=======
   "execution_count": 40,
>>>>>>> 6503a71df82d1f5c0949bc4942a4c452634ba239
   "metadata": {
    "collapsed": false
   },
   "outputs": [
    {
     "name": "stdout",
     "output_type": "stream",
     "text": [
<<<<<<< HEAD
      "logistic Count Accuracy: 74.07%\n",
      "logistic TF-IDF Accuracy: 76.97%\n"
=======
      "logistic accuracy: 76.97%\n"
>>>>>>> 6503a71df82d1f5c0949bc4942a4c452634ba239
     ]
    }
   ],
   "source": [
    "log = LogisticRegression()\n",
<<<<<<< HEAD
    "log.fit(X_train0, y_train0)\n",
    "print(\"logistic Count Accuracy: %.2f%%\" %(log.score(X_test0, y_test0)*100))\n",
    "\n",
    "log.fit(X_train, y_train)\n",
    "print(\"logistic TF-IDF Accuracy: %.2f%%\" %(log.score(X_test, y_test)*100))"
=======
    "log.fit(X_train, y_train)\n",
    "print(\"logistic accuracy: %.2f%%\" %(log.score(X_test, y_test)*100))"
>>>>>>> 6503a71df82d1f5c0949bc4942a4c452634ba239
   ]
  },
  {
   "cell_type": "code",
<<<<<<< HEAD
   "execution_count": 32,
=======
   "execution_count": 41,
>>>>>>> 6503a71df82d1f5c0949bc4942a4c452634ba239
   "metadata": {
    "collapsed": false
   },
   "outputs": [
    {
     "name": "stdout",
     "output_type": "stream",
     "text": [
<<<<<<< HEAD
      "adaboost Count Accuracy: 70.75%\n",
      "adaboost TF-IDF Accuracy: 71.16%\n"
=======
      "adaboost accuracy: 71.16%\n"
>>>>>>> 6503a71df82d1f5c0949bc4942a4c452634ba239
     ]
    }
   ],
   "source": [
    "ada = AdaBoostClassifier()\n",
<<<<<<< HEAD
    "ada.fit(X_train0, y_train0)\n",
    "print(\"adaboost Count Accuracy: %.2f%%\" %(ada.score(X_test0, y_test0)*100))\n",
    "\n",
    "ada.fit(X_train, y_train)\n",
    "print(\"adaboost TF-IDF Accuracy: %.2f%%\" %(ada.score(X_test, y_test)*100))"
=======
    "ada.fit(X_train, y_train)\n",
    "print(\"adaboost accuracy: %.2f%%\" %(ada.score(X_test, y_test)*100))"
>>>>>>> 6503a71df82d1f5c0949bc4942a4c452634ba239
   ]
  },
  {
   "cell_type": "code",
<<<<<<< HEAD
   "execution_count": 34,
=======
   "execution_count": 42,
>>>>>>> 6503a71df82d1f5c0949bc4942a4c452634ba239
   "metadata": {
    "collapsed": false
   },
   "outputs": [
    {
     "name": "stdout",
     "output_type": "stream",
     "text": [
<<<<<<< HEAD
      "svmSVC Count Accuracy: 69.71%\n",
      "svmSVC TF-IDF Accuracy: 49.38%\n",
      "\n",
      "svmNuSVC Count Accuracy: 74.90%\n",
      "svmNuSVC TF-IDF Accuracy: 72.82%\n",
      "\n",
      "svmLinear Count Accuracy: 73.03%\n",
      "svmLinear TF-IDF Accuracy: 75.31%\n"
=======
      "svmSVC accuracy: 49.38%\n",
      "svmNuSVC accuracy: 72.82%\n",
      "svmLinear accuracy: 75.31%\n"
>>>>>>> 6503a71df82d1f5c0949bc4942a4c452634ba239
     ]
    }
   ],
   "source": [
    "svmSVC = svm.SVC() \n",
<<<<<<< HEAD
    "svmSVC.fit(X_train0, y_train0)\n",
    "print(\"svmSVC Count Accuracy: %.2f%%\" %(svmSVC.score(X_test0, y_test0)*100))\n",
    "\n",
    "svmSVC.fit(X_train, y_train) \n",
    "print(\"svmSVC TF-IDF Accuracy: %.2f%%\" %(svmSVC.score(X_test, y_test)*100),end=\"\\n\\n\")\n",
    "\n",
    "svmNuSVC = svm.NuSVC() \n",
    "svmNuSVC.fit(X_train0, y_train0)\n",
    "print(\"svmNuSVC Count Accuracy: %.2f%%\" %(svmNuSVC.score(X_test0, y_test0)*100))\n",
    "\n",
    "svmNuSVC.fit(X_train, y_train) \n",
    "print(\"svmNuSVC TF-IDF Accuracy: %.2f%%\" %(svmNuSVC.score(X_test, y_test)*100),end=\"\\n\\n\")\n",
    "\n",
    "svmLinear = svm.LinearSVC()\n",
    "svmLinear.fit(X_train0, y_train0)\n",
    "print(\"svmLinear Count Accuracy: %.2f%%\" %(svmLinear.score(X_test0, y_test0)*100))\n",
    "\n",
    "svmLinear.fit(X_train, y_train) \n",
    "print(\"svmLinear TF-IDF Accuracy: %.2f%%\" %(svmLinear.score(X_test, y_test)*100))"
=======
    "svmSVC.fit(X_train, y_train) \n",
    "print(\"svmSVC accuracy: %.2f%%\" %(svmSVC.score(X_test, y_test)*100))\n",
    "\n",
    "svmNuSVC = svm.NuSVC() \n",
    "svmNuSVC.fit(X_train, y_train) \n",
    "print(\"svmNuSVC accuracy: %.2f%%\" %(svmNuSVC.score(X_test, y_test)*100))\n",
    "\n",
    "svmLinear = svm.LinearSVC()\n",
    "svmLinear.fit(X_train, y_train) \n",
    "print(\"svmLinear accuracy: %.2f%%\" %(svmLinear.score(X_test, y_test)*100))"
>>>>>>> 6503a71df82d1f5c0949bc4942a4c452634ba239
   ]
  },
  {
   "cell_type": "markdown",
   "metadata": {},
   "source": [
<<<<<<< HEAD
    "Logistic Regression and Multinomial Bayes seem to outperform the other classifiers with TF-IDF. We will tune their hyperparameters..."
=======
    "** Logistic Regression seems to outperform the other classifiers. It outperformed Naive Bayes, because some of the  features must be correlated. NB gives both features strong weights, because of the independence assumption, but logistic regression will compensate by weighting them lower.**\n",
    "\n",
    "**We will tune Logistic Regression's hyperparameters...**"
>>>>>>> 6503a71df82d1f5c0949bc4942a4c452634ba239
   ]
  },
  {
   "cell_type": "markdown",
   "metadata": {
    "collapsed": true
   },
   "source": [
    "### Tune hyperparameters"
   ]
  },
  {
   "cell_type": "markdown",
   "metadata": {},
   "source": [
<<<<<<< HEAD
    "#### Multinomial Bayes"
   ]
  },
  {
   "cell_type": "code",
   "execution_count": 41,
   "metadata": {
    "collapsed": false
   },
   "outputs": [
    {
     "name": "stdout",
     "output_type": "stream",
     "text": [
      "best parameters: {'fit_prior': True, 'alpha': 0.30000000000000004}\n"
     ]
    }
   ],
   "source": [
    "mnb_grid = {'alpha': list(np.arange(0.1,1.1,0.1)),\n",
    "            'fit_prior': [True, False],\n",
    "            }\n",
    "\n",
    "mnb_gridsearch = GridSearchCV(MultinomialNB(),\n",
    "                             mnb_grid,\n",
    "                             n_jobs=-1,\n",
    "                             scoring='mean_squared_error')\n",
    "mnb_gridsearch.fit(X_train, y_train)\n",
    "\n",
    "print(\"best parameters:\", mnb_gridsearch.best_params_)\n",
    "\n",
    "best_mnb_model = log_gridsearch.best_estimator_"
   ]
  },
  {
   "cell_type": "code",
   "execution_count": 42,
   "metadata": {
    "collapsed": false
   },
   "outputs": [
    {
     "name": "stdout",
     "output_type": "stream",
     "text": [
      "MultinomialNB accuracy before tuning: 76.97%\n"
     ]
    }
   ],
   "source": [
    "mnb = MultinomialNB()\n",
    "mnb.fit(X_train, y_train)\n",
    "print('MultinomialNB accuracy before tuning: %.2f%%' %(mnb.score(X_test, y_test)*100))"
   ]
  },
  {
   "cell_type": "code",
   "execution_count": 44,
   "metadata": {
    "collapsed": false
   },
   "outputs": [
    {
     "name": "stdout",
     "output_type": "stream",
     "text": [
      "MultinomialNB accuracy after tuning: 76.14%\n"
     ]
    }
   ],
   "source": [
    "mnb = MultinomialNB(fit_prior=True,alpha=0.30000000000000004)\n",
    "mnb.fit(X_train, y_train)\n",
    "print('MultinomialNB accuracy after tuning: %.2f%%' %(mnb.score(X_test, y_test)*100))"
   ]
  },
  {
   "cell_type": "markdown",
   "metadata": {},
   "source": [
    "It is strange because the accuracy decreased after tuning the parameters. "
   ]
  },
  {
   "cell_type": "markdown",
   "metadata": {},
   "source": [
=======
>>>>>>> 6503a71df82d1f5c0949bc4942a4c452634ba239
    "#### Logistic Regression"
   ]
  },
  {
   "cell_type": "code",
<<<<<<< HEAD
   "execution_count": 47,
=======
   "execution_count": 53,
>>>>>>> 6503a71df82d1f5c0949bc4942a4c452634ba239
   "metadata": {
    "collapsed": false
   },
   "outputs": [
    {
     "name": "stdout",
     "output_type": "stream",
     "text": [
<<<<<<< HEAD
      "best parameters: {'penalty': 'l2', 'fit_intercept': True, 'C': 0.59999999999999998}\n"
=======
      "best parameters: {'penalty': 'l2', 'C': 0.6, 'fit_intercept': True}\n"
>>>>>>> 6503a71df82d1f5c0949bc4942a4c452634ba239
     ]
    }
   ],
   "source": [
    "log_grid = {'penalty': ['l1','l2'],\n",
<<<<<<< HEAD
    "            'C': list(np.arange(0.1,1.1,0.1)),\n",
=======
    "            'C':[0.01,0.05,0.1,0.25,0.5,0.6,0.65,0.7,0.75,0.9,1.0],\n",
>>>>>>> 6503a71df82d1f5c0949bc4942a4c452634ba239
    "            'fit_intercept': [True, False]\n",
    "            }\n",
    "\n",
    "log_gridsearch = GridSearchCV(LogisticRegression(),\n",
    "                             log_grid,\n",
    "                             n_jobs=-1,\n",
<<<<<<< HEAD
=======
    "                             #verbose=True,\n",
>>>>>>> 6503a71df82d1f5c0949bc4942a4c452634ba239
    "                             scoring='mean_squared_error')\n",
    "log_gridsearch.fit(X_train, y_train)\n",
    "\n",
    "print(\"best parameters:\", log_gridsearch.best_params_)\n",
    "\n",
<<<<<<< HEAD
    "best_log_model = log_gridsearch.best_estimator_"
=======
    "best_mnb_model = log_gridsearch.best_estimator_"
>>>>>>> 6503a71df82d1f5c0949bc4942a4c452634ba239
   ]
  },
  {
   "cell_type": "code",
<<<<<<< HEAD
   "execution_count": 48,
=======
   "execution_count": 54,
>>>>>>> 6503a71df82d1f5c0949bc4942a4c452634ba239
   "metadata": {
    "collapsed": false
   },
   "outputs": [
    {
     "name": "stdout",
     "output_type": "stream",
     "text": [
<<<<<<< HEAD
      "best parameters: {'solver': 'newton-cg', 'penalty': 'l2', 'fit_intercept': True, 'C': 0.59999999999999998}\n"
=======
      "best parameters: {'penalty': 'l2', 'C': 0.6, 'fit_intercept': True, 'solver': 'newton-cg'}\n"
>>>>>>> 6503a71df82d1f5c0949bc4942a4c452634ba239
     ]
    }
   ],
   "source": [
    "log_grid = {'penalty': ['l2'],\n",
<<<<<<< HEAD
    "            'C': list(np.arange(0.1,1.1,0.1)),\n",
=======
    "            'C':[0.01,0.05,0.1,0.25,0.5,0.6,0.65,0.7,0.75,0.9,1.0],\n",
>>>>>>> 6503a71df82d1f5c0949bc4942a4c452634ba239
    "            'fit_intercept': [True, False],\n",
    "            'solver': ['newton-cg', 'lbfgs', 'liblinear', 'sag']\n",
    "            }\n",
    "\n",
    "log_gridsearch = GridSearchCV(LogisticRegression(),\n",
    "                             log_grid,\n",
    "                             n_jobs=-1,\n",
<<<<<<< HEAD
=======
    "                             #verbose=True,\n",
>>>>>>> 6503a71df82d1f5c0949bc4942a4c452634ba239
    "                             scoring='mean_squared_error')\n",
    "log_gridsearch.fit(X_train, y_train)\n",
    "\n",
    "print(\"best parameters:\", log_gridsearch.best_params_)\n",
    "\n",
<<<<<<< HEAD
    "best_log_model = log_gridsearch.best_estimator_"
=======
    "best_mnb_model = log_gridsearch.best_estimator_"
>>>>>>> 6503a71df82d1f5c0949bc4942a4c452634ba239
   ]
  },
  {
   "cell_type": "code",
<<<<<<< HEAD
   "execution_count": 49,
=======
   "execution_count": 55,
>>>>>>> 6503a71df82d1f5c0949bc4942a4c452634ba239
   "metadata": {
    "collapsed": false
   },
   "outputs": [
    {
     "name": "stdout",
     "output_type": "stream",
     "text": [
<<<<<<< HEAD
      "logistic accuracy before tuning: 76.97%\n"
=======
      "logistic accuracy: 76.97%\n"
>>>>>>> 6503a71df82d1f5c0949bc4942a4c452634ba239
     ]
    }
   ],
   "source": [
    "log = LogisticRegression()\n",
    "log.fit(X_train, y_train)\n",
<<<<<<< HEAD
    "print(\"logistic accuracy before tuning: %.2f%%\" %(log.score(X_test, y_test)*100))"
=======
    "print(\"logistic accuracy: %.2f%%\" %(log.score(X_test, y_test)*100))"
>>>>>>> 6503a71df82d1f5c0949bc4942a4c452634ba239
   ]
  },
  {
   "cell_type": "code",
<<<<<<< HEAD
   "execution_count": 50,
=======
   "execution_count": 56,
>>>>>>> 6503a71df82d1f5c0949bc4942a4c452634ba239
   "metadata": {
    "collapsed": false
   },
   "outputs": [
    {
     "name": "stdout",
     "output_type": "stream",
     "text": [
<<<<<<< HEAD
      "logistic accuracy after tuning: 77.59%\n"
=======
      "logistic accuracy: 77.59%\n"
>>>>>>> 6503a71df82d1f5c0949bc4942a4c452634ba239
     ]
    }
   ],
   "source": [
    "log = LogisticRegression(fit_intercept=True, solver='newton-cg',C=0.6, penalty='l2')\n",
    "log.fit(X_train, y_train)\n",
<<<<<<< HEAD
    "print(\"logistic accuracy after tuning: %.2f%%\" %(log.score(X_test, y_test)*100))"
   ]
  },
  {
   "cell_type": "markdown",
   "metadata": {},
   "source": [
    "Logistic Regression gives us the most accurate predictions. "
=======
    "print(\"logistic accuracy: %.2f%%\" %(log.score(X_test, y_test)*100))"
>>>>>>> 6503a71df82d1f5c0949bc4942a4c452634ba239
   ]
  },
  {
   "cell_type": "markdown",
   "metadata": {},
   "source": [
<<<<<<< HEAD
    "### Roc Curve"
   ]
  },
  {
   "cell_type": "code",
   "execution_count": 73,
   "metadata": {
    "collapsed": false
   },
   "outputs": [],
   "source": [
    "from sklearn.metrics import roc_curve, confusion_matrix\n",
    "import seaborn\n",
    "import matplotlib.pyplot as plt\n",
    "%matplotlib inline "
   ]
  },
  {
   "cell_type": "code",
   "execution_count": 72,
   "metadata": {
    "collapsed": false
   },
   "outputs": [
    {
     "data": {
      "image/png": "iVBORw0KGgoAAAANSUhEUgAAAYsAAAEcCAYAAAA2g5hwAAAABHNCSVQICAgIfAhkiAAAAAlwSFlz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\n",
      "text/plain": [
       "<matplotlib.figure.Figure at 0x12570cc18>"
      ]
     },
     "metadata": {},
     "output_type": "display_data"
    }
   ],
   "source": [
    "predictions = log.predict(X_test)\n",
    "fpr, tpr, thresholds = roc_curve(predictions, y_test)\n",
    "\n",
    "x = [0.0,1.0]\n",
    "plt.plot(x,x, color = 'red')\n",
    "plt.plot(fpr, tpr)\n",
    "plt.xlabel(\"False Positive Rate (1 - Specificity)\")\n",
    "plt.ylabel(\"True Positive Rate (Sensitivity, Recall)\")\n",
    "plt.title(\"ROC plot\")\n",
    "plt.show()"
   ]
  },
  {
   "cell_type": "markdown",
   "metadata": {},
   "source": [
    "### Confusion Matrix"
   ]
  },
  {
   "cell_type": "code",
   "execution_count": 80,
   "metadata": {
    "collapsed": false
   },
   "outputs": [
    {
     "name": "stdout",
     "output_type": "stream",
     "text": [
      "[[195  43]\n",
      " [ 65 179]]\n"
     ]
    }
   ],
   "source": [
    "cm = confusion_matrix(y_test, predictions)\n",
    "print(cm)"
   ]
  },
  {
   "cell_type": "code",
   "execution_count": 81,
   "metadata": {
    "collapsed": false
   },
   "outputs": [
    {
     "name": "stdout",
     "output_type": "stream",
     "text": [
      "[[ 0.81932773  0.18067227]\n",
      " [ 0.26639344  0.73360656]]\n"
     ]
    }
   ],
   "source": [
    "normalized_cm = cm.astype('float') / cm.sum(axis=1)[:, np.newaxis]\n",
    "print(normalized_cm)"
   ]
  },
  {
   "cell_type": "code",
   "execution_count": 77,
   "metadata": {
    "collapsed": true
   },
   "outputs": [],
   "source": [
    "def plot_confusion_matrix(cm, title='Confusion matrix', cmap=plt.cm.Blues):\n",
    "    plt.imshow(cm, interpolation='nearest', cmap=cmap)\n",
    "    plt.title(title)\n",
    "    plt.colorbar()\n",
    "    #plt.xticks(2, ('True', 'False'), rotation=45)\n",
    "    #plt.yticks(2, ('True', 'False'))\n",
    "    plt.tight_layout()\n",
    "    plt.ylabel('True label')\n",
    "    plt.xlabel('Predicted label')"
   ]
  },
  {
   "cell_type": "code",
   "execution_count": 78,
   "metadata": {
    "collapsed": false
   },
   "outputs": [
    {
     "data": {
      "image/png": "iVBORw0KGgoAAAANSUhEUgAAAWMAAAEpCAYAAABGAUPrAAAABHNCSVQICAgIfAhkiAAAAAlwSFlz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\nEREV8P8B5sc6hVI2r5wAAAAASUVORK5CYII=\n",
      "text/plain": [
       "<matplotlib.figure.Figure at 0x12582a390>"
      ]
     },
     "metadata": {},
     "output_type": "display_data"
    }
   ],
   "source": [
    "plot_confusion_matrix(cm)"
   ]
  },
  {
   "cell_type": "code",
   "execution_count": 82,
   "metadata": {
    "collapsed": false
   },
   "outputs": [
    {
     "data": {
      "image/png": "iVBORw0KGgoAAAANSUhEUgAAAWYAAAEpCAYAAACgKIivAAAABHNCSVQICAgIfAhkiAAAAAlwSFlz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\n4QAAAABJRU5ErkJggg==\n",
      "text/plain": [
       "<matplotlib.figure.Figure at 0x1256f1438>"
      ]
     },
     "metadata": {},
     "output_type": "display_data"
    }
   ],
   "source": [
    "plot_confusion_matrix(normalized_cm, title = \"Normalized Confusion Matrix\")"
   ]
  },
  {
   "cell_type": "markdown",
   "metadata": {},
   "source": [
    "### Summary\n",
    "\n",
    "Fitting Logistic regression to Ridge increased its' accuracy. In Ridge, the coefficients of the linear transformation are normally distributed. In Lasso they are Laplace distributed. Generally, when you have many small/medium sized effects you should go with ridge. If you have only a few variables with a medium/large effect, go with lasso, as demonstrated above. \n",
    "\n",
    "Also, based on the Roc Curve and Confusion Matrices, we are able to determine whether a chemical causes a disease based on the words from the abstracts on PubMed and the other words that were in the original dataset. "
   ]
  },
  {
   "cell_type": "code",
   "execution_count": null,
   "metadata": {
    "collapsed": true
   },
   "outputs": [],
   "source": []
=======
    "** Fitting Logistic regression to Ridge increased its' accuracy.** \n",
    "\n",
    "**In Ridge, the coefficients of the linear transformation are normally distributed.**\n",
    "\n",
    "**In Lasso they are Laplace distributed.**\n",
    "\n",
    "**Generally, when you have many small/medium sized effects you should go with ridge. If you have only a few variables with a medium/large effect, go with lasso, as demonstrated above.**"
   ]
>>>>>>> 6503a71df82d1f5c0949bc4942a4c452634ba239
  }
 ],
 "metadata": {
  "kernelspec": {
   "display_name": "Python 3",
   "language": "python",
   "name": "python3"
  },
  "language_info": {
   "codemirror_mode": {
    "name": "ipython",
    "version": 3
   },
   "file_extension": ".py",
   "mimetype": "text/x-python",
   "name": "python",
   "nbconvert_exporter": "python",
   "pygments_lexer": "ipython3",
   "version": "3.5.1"
  }
 },
 "nbformat": 4,
 "nbformat_minor": 0
}

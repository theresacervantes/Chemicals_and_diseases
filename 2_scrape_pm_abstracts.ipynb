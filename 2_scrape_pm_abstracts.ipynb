{
 "cells": [
  {
   "cell_type": "markdown",
   "metadata": {},
   "source": [
    "# Scrape PubMed"
   ]
  },
  {
   "cell_type": "markdown",
   "metadata": {},
   "source": [
    "[PubMed](http://www.ncbi.nlm.nih.gov/pubmed/)"
   ]
  },
  {
   "cell_type": "code",
   "execution_count": 7,
   "metadata": {
    "collapsed": false
   },
   "outputs": [
    {
     "data": {
      "text/html": [
       "<style>.container { width:95% !important; }</style>"
      ],
      "text/plain": [
       "<IPython.core.display.HTML object>"
      ]
     },
     "execution_count": 7,
     "metadata": {},
     "output_type": "execute_result"
    }
   ],
   "source": [
    "import pandas as pd, urllib.request as urllib2, re, time, string\n",
    "from bs4 import BeautifulSoup\n",
    "from nltk.corpus import stopwords\n",
    "from collections import Counter\n",
    "from nltk.stem.porter import PorterStemmer\n",
    "from nltk.corpus import stopwords\n",
    "from nltk import word_tokenize\n",
    "from IPython.core.display import HTML\n",
    "HTML(\"<style>.container { width:95% !important; }</style>\")"
   ]
  },
  {
   "cell_type": "markdown",
   "metadata": {},
   "source": [
    "### Load dataframe"
   ]
  },
  {
   "cell_type": "code",
   "execution_count": 2,
   "metadata": {
    "collapsed": false
   },
   "outputs": [
    {
     "data": {
      "text/html": [
       "<div>\n",
       "<table border=\"1\" class=\"dataframe\">\n",
       "  <thead>\n",
       "    <tr style=\"text-align: right;\">\n",
       "      <th></th>\n",
       "      <th>verify_relationship</th>\n",
       "      <th>chemical_name</th>\n",
       "      <th>disease_name</th>\n",
       "      <th>pmid</th>\n",
       "      <th>relationship_info</th>\n",
       "    </tr>\n",
       "  </thead>\n",
       "  <tbody>\n",
       "    <tr>\n",
       "      <th>0</th>\n",
       "      <td>yes_direct</td>\n",
       "      <td>5-HT</td>\n",
       "      <td>psychotic disorders</td>\n",
       "      <td>20705401</td>\n",
       "      <td>animal models considered reflect positive symp...</td>\n",
       "    </tr>\n",
       "    <tr>\n",
       "      <th>1</th>\n",
       "      <td>no_relation</td>\n",
       "      <td>D-penicillamine</td>\n",
       "      <td>localized scleroderma</td>\n",
       "      <td>2334179</td>\n",
       "      <td>case reports patients severe extensive localiz...</td>\n",
       "    </tr>\n",
       "    <tr>\n",
       "      <th>2</th>\n",
       "      <td>no_relation</td>\n",
       "      <td>yohimbine</td>\n",
       "      <td>affective disorders</td>\n",
       "      <td>1535072</td>\n",
       "      <td>method six patients either obsessive compulsiv...</td>\n",
       "    </tr>\n",
       "    <tr>\n",
       "      <th>3</th>\n",
       "      <td>no_relation</td>\n",
       "      <td>calcium</td>\n",
       "      <td>muscle spasms</td>\n",
       "      <td>8492347</td>\n",
       "      <td>severe hypokalemia may cause muscle weakness s...</td>\n",
       "    </tr>\n",
       "    <tr>\n",
       "      <th>4</th>\n",
       "      <td>no_relation</td>\n",
       "      <td>dexrazoxane</td>\n",
       "      <td>hematologic toxicity</td>\n",
       "      <td>15897593</td>\n",
       "      <td>clinical trials patients brain metastases comb...</td>\n",
       "    </tr>\n",
       "  </tbody>\n",
       "</table>\n",
       "</div>"
      ],
      "text/plain": [
       "  verify_relationship    chemical_name           disease_name      pmid  \\\n",
       "0          yes_direct             5-HT    psychotic disorders  20705401   \n",
       "1         no_relation  D-penicillamine  localized scleroderma   2334179   \n",
       "2         no_relation        yohimbine    affective disorders   1535072   \n",
       "3         no_relation          calcium          muscle spasms   8492347   \n",
       "4         no_relation      dexrazoxane   hematologic toxicity  15897593   \n",
       "\n",
       "                                   relationship_info  \n",
       "0  animal models considered reflect positive symp...  \n",
       "1  case reports patients severe extensive localiz...  \n",
       "2  method six patients either obsessive compulsiv...  \n",
       "3  severe hypokalemia may cause muscle weakness s...  \n",
       "4  clinical trials patients brain metastases comb...  "
      ]
     },
     "execution_count": 2,
     "metadata": {},
     "output_type": "execute_result"
    }
   ],
   "source": [
    "df = pd.read_csv('data/before_removing_rows_df.csv', na_values=['?'])\n",
    "df.head()"
   ]
  },
  {
   "cell_type": "code",
   "execution_count": 3,
   "metadata": {
    "collapsed": false,
    "scrolled": true
   },
   "outputs": [
    {
     "data": {
      "text/plain": [
       "(5713, 5)"
      ]
     },
     "execution_count": 3,
     "metadata": {},
     "output_type": "execute_result"
    }
   ],
   "source": [
    "df.shape"
   ]
  },
  {
   "cell_type": "markdown",
   "metadata": {},
   "source": [
    "### Scrape Abstracts from PubMed"
   ]
  },
  {
   "cell_type": "code",
   "execution_count": 8,
   "metadata": {
    "collapsed": false
   },
   "outputs": [
    {
     "name": "stdout",
     "output_type": "stream",
     "text": [
      "Review 250 of 5713\n",
      "\n",
      "Review 500 of 5713\n",
      "\n",
      "Review 750 of 5713\n",
      "\n",
      "Review 1000 of 5713\n",
      "\n",
      "Review 1250 of 5713\n",
      "\n",
      "Review 1500 of 5713\n",
      "\n",
      "Review 1750 of 5713\n",
      "\n",
      "Review 2000 of 5713\n",
      "\n",
      "Review 2250 of 5713\n",
      "\n",
      "Review 2500 of 5713\n",
      "\n",
      "Review 2750 of 5713\n",
      "\n",
      "Review 3000 of 5713\n",
      "\n",
      "Review 3250 of 5713\n",
      "\n",
      "Review 3500 of 5713\n",
      "\n",
      "Review 3750 of 5713\n",
      "\n",
      "Review 4000 of 5713\n",
      "\n",
      "Review 4250 of 5713\n",
      "\n",
      "Review 4500 of 5713\n",
      "\n",
      "Review 4750 of 5713\n",
      "\n",
      "Review 5000 of 5713\n",
      "\n",
      "Review 5250 of 5713\n",
      "\n",
      "Review 5500 of 5713\n",
      "\n"
     ]
    }
   ],
   "source": [
    "#extract abstracts for each pmid in the dataframe:\n",
    "i = 0\n",
    "abstracts = []\n",
    "for pm in df.pmid: \n",
    "    soup = BeautifulSoup(urllib2.urlopen('http://www.ncbi.nlm.nih.gov/pubmed/%s' %pm).read(), \"lxml\")\n",
    "    abstract = soup.find_all(attrs={\"class\": \"abstr\"})\n",
    "    abstracts.append(abstract[0].p.string)\n",
    "    i += 1\n",
    "    if( (i) % 250 == 0 ):\n",
    "        print(\"Review %d of %d\\n\" % (i, df.shape[0]))\n",
    "        time.sleep(3)\n",
    "df['abstracts'] = abstracts "
   ]
  },
  {
   "cell_type": "code",
   "execution_count": 9,
   "metadata": {
    "collapsed": true
   },
   "outputs": [],
   "source": [
    "df.to_csv( \"data/df_with_all_abstracts.csv\", index=False)"
   ]
  },
  {
   "cell_type": "code",
   "execution_count": 10,
   "metadata": {
    "collapsed": false,
    "scrolled": true
   },
   "outputs": [
    {
     "data": {
      "text/html": [
       "<div>\n",
       "<table border=\"1\" class=\"dataframe\">\n",
       "  <thead>\n",
       "    <tr style=\"text-align: right;\">\n",
       "      <th></th>\n",
       "      <th>verify_relationship</th>\n",
       "      <th>chemical_name</th>\n",
       "      <th>disease_name</th>\n",
       "      <th>pmid</th>\n",
       "      <th>relationship_info</th>\n",
       "      <th>abstracts</th>\n",
       "    </tr>\n",
       "  </thead>\n",
       "  <tbody>\n",
       "    <tr>\n",
       "      <th>0</th>\n",
       "      <td>yes_direct</td>\n",
       "      <td>5-HT</td>\n",
       "      <td>psychotic disorders</td>\n",
       "      <td>20705401</td>\n",
       "      <td>animal models considered reflect positive symp...</td>\n",
       "      <td>Altered serotonergic neural transmission is hy...</td>\n",
       "    </tr>\n",
       "    <tr>\n",
       "      <th>1</th>\n",
       "      <td>no_relation</td>\n",
       "      <td>D-penicillamine</td>\n",
       "      <td>localized scleroderma</td>\n",
       "      <td>2334179</td>\n",
       "      <td>case reports patients severe extensive localiz...</td>\n",
       "      <td>Localized scleroderma has no recognized intern...</td>\n",
       "    </tr>\n",
       "    <tr>\n",
       "      <th>2</th>\n",
       "      <td>no_relation</td>\n",
       "      <td>yohimbine</td>\n",
       "      <td>affective disorders</td>\n",
       "      <td>1535072</td>\n",
       "      <td>method six patients either obsessive compulsiv...</td>\n",
       "      <td>Preclinical and clinical studies suggest that ...</td>\n",
       "    </tr>\n",
       "    <tr>\n",
       "      <th>3</th>\n",
       "      <td>no_relation</td>\n",
       "      <td>calcium</td>\n",
       "      <td>muscle spasms</td>\n",
       "      <td>8492347</td>\n",
       "      <td>severe hypokalemia may cause muscle weakness s...</td>\n",
       "      <td>Diuretics may induce hypokalemia, hypocalcemia...</td>\n",
       "    </tr>\n",
       "    <tr>\n",
       "      <th>4</th>\n",
       "      <td>no_relation</td>\n",
       "      <td>dexrazoxane</td>\n",
       "      <td>hematologic toxicity</td>\n",
       "      <td>15897593</td>\n",
       "      <td>clinical trials patients brain metastases comb...</td>\n",
       "      <td>The anthracyclines daunorubicin and doxorubici...</td>\n",
       "    </tr>\n",
       "  </tbody>\n",
       "</table>\n",
       "</div>"
      ],
      "text/plain": [
       "  verify_relationship    chemical_name           disease_name      pmid  \\\n",
       "0          yes_direct             5-HT    psychotic disorders  20705401   \n",
       "1         no_relation  D-penicillamine  localized scleroderma   2334179   \n",
       "2         no_relation        yohimbine    affective disorders   1535072   \n",
       "3         no_relation          calcium          muscle spasms   8492347   \n",
       "4         no_relation      dexrazoxane   hematologic toxicity  15897593   \n",
       "\n",
       "                                   relationship_info  \\\n",
       "0  animal models considered reflect positive symp...   \n",
       "1  case reports patients severe extensive localiz...   \n",
       "2  method six patients either obsessive compulsiv...   \n",
       "3  severe hypokalemia may cause muscle weakness s...   \n",
       "4  clinical trials patients brain metastases comb...   \n",
       "\n",
       "                                           abstracts  \n",
       "0  Altered serotonergic neural transmission is hy...  \n",
       "1  Localized scleroderma has no recognized intern...  \n",
       "2  Preclinical and clinical studies suggest that ...  \n",
       "3  Diuretics may induce hypokalemia, hypocalcemia...  \n",
       "4  The anthracyclines daunorubicin and doxorubici...  "
      ]
     },
     "execution_count": 10,
     "metadata": {},
     "output_type": "execute_result"
    }
   ],
   "source": [
    "df.head()"
   ]
  },
  {
   "cell_type": "markdown",
   "metadata": {},
   "source": [
    "### Cleaning abstracts"
   ]
  },
  {
   "cell_type": "code",
   "execution_count": 11,
   "metadata": {
    "collapsed": true
   },
   "outputs": [],
   "source": [
    "cleaned_names = list(df.chemical_name) + list(df.disease_name)"
   ]
  },
  {
   "cell_type": "code",
   "execution_count": 12,
   "metadata": {
    "collapsed": false
   },
   "outputs": [],
   "source": [
    "def abstract_to_words( raw_review ):\n",
    "    #Remove HTML\n",
    "    raw_review = raw_review.replace(\">\",\"> \")\n",
    "    review_text = BeautifulSoup(raw_review, \"lxml\").get_text().split()\n",
    "    \n",
    "    #if word is not a disease or chemical, remove non-alpha. else, retain word. \n",
    "    cleaned_sentence = []\n",
    "    for word in review_text:\n",
    "        if word not in cleaned_names:\n",
    "            cleaned_sentence.append(re.sub(\"[^a-zA-Z]\", \"\", word.lower()))\n",
    "        else:\n",
    "            cleaned_sentence.append(word.lower())\n",
    "    \n",
    "    #remove stops, extra spaces, and single-letter words \n",
    "    stops = set(stopwords.words(\"english\"))  \n",
    "    spaces = set(\" \")\n",
    "    single_letter_words = set(string.ascii_lowercase)\n",
    "    unimportant_words = stops | spaces | single_letter_words\n",
    "    \n",
    "    return (\" \".join([word for word in cleaned_sentence if not word in list(unimportant_words)])).replace(\"  \",\" \")"
   ]
  },
  {
   "cell_type": "code",
   "execution_count": 13,
   "metadata": {
    "collapsed": false
   },
   "outputs": [],
   "source": [
    "clean_abstracts = []\n",
    "for i in range( 0, df.shape[0] ):\n",
    "    clean_abstracts.append( abstract_to_words( df[\"abstracts\"][i] ) )"
   ]
  },
  {
   "cell_type": "code",
   "execution_count": 14,
   "metadata": {
    "collapsed": true
   },
   "outputs": [],
   "source": [
    "df.abstracts = clean_abstracts"
   ]
  },
  {
   "cell_type": "code",
   "execution_count": 15,
   "metadata": {
    "collapsed": false
   },
   "outputs": [
    {
     "data": {
      "text/plain": [
       "' lobundwistar lw strain rats developed large palpable prostate adenocarcinomas pas following treatments nnitrosonmethylurea cas testosterone propionate tp cas tumorbearing rats manifested metastatic lesions incubation periods averaged months within timeframe lw rat developed similar palpable pa treated tp lw rats tp acted tumor enhancement agent primary emphasis development prostate cancer'"
      ]
     },
     "execution_count": 15,
     "metadata": {},
     "output_type": "execute_result"
    }
   ],
   "source": [
    "df.abstracts[100]"
   ]
  },
  {
   "cell_type": "code",
   "execution_count": 20,
   "metadata": {
    "collapsed": false
   },
   "outputs": [
    {
     "data": {
      "text/plain": [
       "'lw rats tp acted tumor enhancement agent primary emphasis development prostate cancer tp enhances tumors especially development prostate cancer therefore conclude tp cause prostate cancer'"
      ]
     },
     "execution_count": 20,
     "metadata": {},
     "output_type": "execute_result"
    }
   ],
   "source": [
    "df.relationship_info[100]"
   ]
  },
  {
   "cell_type": "code",
   "execution_count": 16,
   "metadata": {
    "collapsed": true
   },
   "outputs": [],
   "source": [
    "df.to_csv( \"data/cleaned_all_abstracts.csv\", index=False)"
   ]
  },
  {
   "cell_type": "markdown",
   "metadata": {},
   "source": [
    "### Merge relationship_info and abstracts into 1 column: all_info"
   ]
  },
  {
   "cell_type": "code",
   "execution_count": 17,
   "metadata": {
    "collapsed": false
   },
   "outputs": [
    {
     "data": {
      "text/html": [
       "<div>\n",
       "<table border=\"1\" class=\"dataframe\">\n",
       "  <thead>\n",
       "    <tr style=\"text-align: right;\">\n",
       "      <th></th>\n",
       "      <th>verify_relationship</th>\n",
       "      <th>chemical_name</th>\n",
       "      <th>disease_name</th>\n",
       "      <th>pmid</th>\n",
       "      <th>relationship_info</th>\n",
       "      <th>abstracts</th>\n",
       "      <th>all_info</th>\n",
       "    </tr>\n",
       "  </thead>\n",
       "  <tbody>\n",
       "    <tr>\n",
       "      <th>0</th>\n",
       "      <td>yes_direct</td>\n",
       "      <td>5-HT</td>\n",
       "      <td>psychotic disorders</td>\n",
       "      <td>20705401</td>\n",
       "      <td>animal models considered reflect positive symp...</td>\n",
       "      <td>altered serotonergic neural transmission hypot...</td>\n",
       "      <td>animal models considered reflect positive symp...</td>\n",
       "    </tr>\n",
       "    <tr>\n",
       "      <th>1</th>\n",
       "      <td>no_relation</td>\n",
       "      <td>D-penicillamine</td>\n",
       "      <td>localized scleroderma</td>\n",
       "      <td>2334179</td>\n",
       "      <td>case reports patients severe extensive localiz...</td>\n",
       "      <td>localized scleroderma recognized internal orga...</td>\n",
       "      <td>case reports patients severe extensive localiz...</td>\n",
       "    </tr>\n",
       "    <tr>\n",
       "      <th>2</th>\n",
       "      <td>no_relation</td>\n",
       "      <td>yohimbine</td>\n",
       "      <td>affective disorders</td>\n",
       "      <td>1535072</td>\n",
       "      <td>method six patients either obsessive compulsiv...</td>\n",
       "      <td>preclinical clinical studies suggest yohimbine...</td>\n",
       "      <td>method six patients either obsessive compulsiv...</td>\n",
       "    </tr>\n",
       "    <tr>\n",
       "      <th>3</th>\n",
       "      <td>no_relation</td>\n",
       "      <td>calcium</td>\n",
       "      <td>muscle spasms</td>\n",
       "      <td>8492347</td>\n",
       "      <td>severe hypokalemia may cause muscle weakness s...</td>\n",
       "      <td>diuretics may induce hypokalemia hypocalcemia ...</td>\n",
       "      <td>severe hypokalemia may cause muscle weakness s...</td>\n",
       "    </tr>\n",
       "    <tr>\n",
       "      <th>4</th>\n",
       "      <td>no_relation</td>\n",
       "      <td>dexrazoxane</td>\n",
       "      <td>hematologic toxicity</td>\n",
       "      <td>15897593</td>\n",
       "      <td>clinical trials patients brain metastases comb...</td>\n",
       "      <td>anthracyclines daunorubicin doxorubicin epipod...</td>\n",
       "      <td>clinical trials patients brain metastases comb...</td>\n",
       "    </tr>\n",
       "  </tbody>\n",
       "</table>\n",
       "</div>"
      ],
      "text/plain": [
       "  verify_relationship    chemical_name           disease_name      pmid  \\\n",
       "0          yes_direct             5-HT    psychotic disorders  20705401   \n",
       "1         no_relation  D-penicillamine  localized scleroderma   2334179   \n",
       "2         no_relation        yohimbine    affective disorders   1535072   \n",
       "3         no_relation          calcium          muscle spasms   8492347   \n",
       "4         no_relation      dexrazoxane   hematologic toxicity  15897593   \n",
       "\n",
       "                                   relationship_info  \\\n",
       "0  animal models considered reflect positive symp...   \n",
       "1  case reports patients severe extensive localiz...   \n",
       "2  method six patients either obsessive compulsiv...   \n",
       "3  severe hypokalemia may cause muscle weakness s...   \n",
       "4  clinical trials patients brain metastases comb...   \n",
       "\n",
       "                                           abstracts  \\\n",
       "0  altered serotonergic neural transmission hypot...   \n",
       "1  localized scleroderma recognized internal orga...   \n",
       "2  preclinical clinical studies suggest yohimbine...   \n",
       "3  diuretics may induce hypokalemia hypocalcemia ...   \n",
       "4  anthracyclines daunorubicin doxorubicin epipod...   \n",
       "\n",
       "                                            all_info  \n",
       "0  animal models considered reflect positive symp...  \n",
       "1  case reports patients severe extensive localiz...  \n",
       "2  method six patients either obsessive compulsiv...  \n",
       "3  severe hypokalemia may cause muscle weakness s...  \n",
       "4  clinical trials patients brain metastases comb...  "
      ]
     },
     "execution_count": 17,
     "metadata": {},
     "output_type": "execute_result"
    }
   ],
   "source": [
    "#merge all wordy columns into 1 column: abstracts_and_info\n",
    "df['all_info'] = (df[\"relationship_info\"].map(str) + df[\"abstracts\"])\n",
    "df.head()"
   ]
  },
  {
   "cell_type": "code",
   "execution_count": 19,
   "metadata": {
    "collapsed": false
   },
   "outputs": [
    {
     "data": {
      "text/plain": [
       "'lw rats tp acted tumor enhancement agent primary emphasis development prostate cancer tp enhances tumors especially development prostate cancer therefore conclude tp cause prostate cancer lobundwistar lw strain rats developed large palpable prostate adenocarcinomas pas following treatments nnitrosonmethylurea cas testosterone propionate tp cas tumorbearing rats manifested metastatic lesions incubation periods averaged months within timeframe lw rat developed similar palpable pa treated tp lw rats tp acted tumor enhancement agent primary emphasis development prostate cancer'"
      ]
     },
     "execution_count": 19,
     "metadata": {},
     "output_type": "execute_result"
    }
   ],
   "source": [
    "df.all_info[100]"
   ]
  },
  {
   "cell_type": "code",
   "execution_count": 21,
   "metadata": {
    "collapsed": false
   },
   "outputs": [
    {
     "data": {
      "text/html": [
       "<div>\n",
       "<table border=\"1\" class=\"dataframe\">\n",
       "  <thead>\n",
       "    <tr style=\"text-align: right;\">\n",
       "      <th></th>\n",
       "      <th>verify_relationship</th>\n",
       "      <th>chemical_name</th>\n",
       "      <th>disease_name</th>\n",
       "      <th>all_info</th>\n",
       "    </tr>\n",
       "  </thead>\n",
       "  <tbody>\n",
       "    <tr>\n",
       "      <th>0</th>\n",
       "      <td>yes_direct</td>\n",
       "      <td>5-HT</td>\n",
       "      <td>psychotic disorders</td>\n",
       "      <td>animal models considered reflect positive symp...</td>\n",
       "    </tr>\n",
       "    <tr>\n",
       "      <th>1</th>\n",
       "      <td>no_relation</td>\n",
       "      <td>D-penicillamine</td>\n",
       "      <td>localized scleroderma</td>\n",
       "      <td>case reports patients severe extensive localiz...</td>\n",
       "    </tr>\n",
       "    <tr>\n",
       "      <th>2</th>\n",
       "      <td>no_relation</td>\n",
       "      <td>yohimbine</td>\n",
       "      <td>affective disorders</td>\n",
       "      <td>method six patients either obsessive compulsiv...</td>\n",
       "    </tr>\n",
       "    <tr>\n",
       "      <th>3</th>\n",
       "      <td>no_relation</td>\n",
       "      <td>calcium</td>\n",
       "      <td>muscle spasms</td>\n",
       "      <td>severe hypokalemia may cause muscle weakness s...</td>\n",
       "    </tr>\n",
       "    <tr>\n",
       "      <th>4</th>\n",
       "      <td>no_relation</td>\n",
       "      <td>dexrazoxane</td>\n",
       "      <td>hematologic toxicity</td>\n",
       "      <td>clinical trials patients brain metastases comb...</td>\n",
       "    </tr>\n",
       "  </tbody>\n",
       "</table>\n",
       "</div>"
      ],
      "text/plain": [
       "  verify_relationship    chemical_name           disease_name  \\\n",
       "0          yes_direct             5-HT    psychotic disorders   \n",
       "1         no_relation  D-penicillamine  localized scleroderma   \n",
       "2         no_relation        yohimbine    affective disorders   \n",
       "3         no_relation          calcium          muscle spasms   \n",
       "4         no_relation      dexrazoxane   hematologic toxicity   \n",
       "\n",
       "                                            all_info  \n",
       "0  animal models considered reflect positive symp...  \n",
       "1  case reports patients severe extensive localiz...  \n",
       "2  method six patients either obsessive compulsiv...  \n",
       "3  severe hypokalemia may cause muscle weakness s...  \n",
       "4  clinical trials patients brain metastases comb...  "
      ]
     },
     "execution_count": 21,
     "metadata": {},
     "output_type": "execute_result"
    }
   ],
   "source": [
    "df_all = df.drop(['abstracts','relationship_info','pmid'], axis=1).copy()\n",
    "df_all.head()"
   ]
  },
  {
   "cell_type": "code",
   "execution_count": 22,
   "metadata": {
    "collapsed": true
   },
   "outputs": [],
   "source": [
    "df_all.to_csv( \"data/df_all.csv\", index=False)"
   ]
  },
  {
   "cell_type": "code",
   "execution_count": 23,
   "metadata": {
    "collapsed": false
   },
   "outputs": [
    {
     "data": {
      "text/plain": [
       "(5713, 4)"
      ]
     },
     "execution_count": 23,
     "metadata": {},
     "output_type": "execute_result"
    }
   ],
   "source": [
    "df_all.shape"
   ]
  },
  {
   "cell_type": "code",
   "execution_count": null,
   "metadata": {
    "collapsed": true
   },
   "outputs": [],
   "source": []
  }
 ],
 "metadata": {
  "kernelspec": {
   "display_name": "Python 3",
   "language": "python",
   "name": "python3"
  },
  "language_info": {
   "codemirror_mode": {
    "name": "ipython",
    "version": 3
   },
   "file_extension": ".py",
   "mimetype": "text/x-python",
   "name": "python",
   "nbconvert_exporter": "python",
   "pygments_lexer": "ipython3",
   "version": "3.5.1"
  }
 },
 "nbformat": 4,
 "nbformat_minor": 0
}

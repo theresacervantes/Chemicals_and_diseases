{
 "cells": [
  {
   "cell_type": "markdown",
   "metadata": {},
   "source": [
    "# Scrape PubMed"
   ]
  },
  {
   "cell_type": "markdown",
   "metadata": {},
   "source": [
    "[PubMed](http://www.ncbi.nlm.nih.gov/pubmed/)"
   ]
  },
  {
   "cell_type": "code",
<<<<<<< HEAD
   "execution_count": 9,
=======
   "execution_count": 40,
>>>>>>> 6503a71df82d1f5c0949bc4942a4c452634ba239
   "metadata": {
    "collapsed": false
   },
   "outputs": [
    {
     "data": {
      "text/html": [
       "<style>.container { width:95% !important; }</style>"
      ],
      "text/plain": [
       "<IPython.core.display.HTML object>"
      ]
     },
<<<<<<< HEAD
     "execution_count": 9,
=======
     "execution_count": 40,
>>>>>>> 6503a71df82d1f5c0949bc4942a4c452634ba239
     "metadata": {},
     "output_type": "execute_result"
    }
   ],
   "source": [
    "from nltk.stem.porter import PorterStemmer\n",
    "from nltk.corpus import stopwords\n",
    "import string\n",
    "\n",
    "import pandas as pd\n",
    "from collections import Counter,defaultdict\n",
<<<<<<< HEAD
    "import urllib.request as urllib2\n",
=======
>>>>>>> 6503a71df82d1f5c0949bc4942a4c452634ba239
    "from bs4 import BeautifulSoup\n",
    "import matplotlib.pyplot as plt\n",
    "import numpy as np\n",
    "import seaborn as sbs\n",
    "import re\n",
    "from nltk.corpus import stopwords\n",
    "from sklearn.decomposition import NMF\n",
    "import lda\n",
    "from sklearn.feature_extraction.text import CountVectorizer\n",
    "from IPython.core.display import HTML\n",
    "from nltk import word_tokenize\n",
    "from operator import itemgetter\n",
    "import string\n",
    "%matplotlib inline\n",
    "\n",
    "HTML(\"<style>.container { width:95% !important; }</style>\")"
   ]
  },
  {
   "cell_type": "markdown",
   "metadata": {},
   "source": [
    "### Load dataframe"
   ]
  },
  {
   "cell_type": "code",
<<<<<<< HEAD
   "execution_count": 3,
=======
   "execution_count": 23,
>>>>>>> 6503a71df82d1f5c0949bc4942a4c452634ba239
   "metadata": {
    "collapsed": false
   },
   "outputs": [
    {
     "data": {
      "text/html": [
       "<div>\n",
       "<table border=\"1\" class=\"dataframe\">\n",
       "  <thead>\n",
       "    <tr style=\"text-align: right;\">\n",
       "      <th></th>\n",
       "      <th>boolean_relationship</th>\n",
       "      <th>relationship_info</th>\n",
       "      <th>pmid</th>\n",
       "      <th>chemical_name</th>\n",
       "      <th>disease_name</th>\n",
       "    </tr>\n",
       "  </thead>\n",
       "  <tbody>\n",
       "    <tr>\n",
       "      <th>0</th>\n",
       "      <td>True</td>\n",
       "      <td>describe yearold woman preexisting mitral valv...</td>\n",
       "      <td>11419773</td>\n",
       "      <td>caffeine</td>\n",
       "      <td>ventricular fibrillation</td>\n",
       "    </tr>\n",
       "    <tr>\n",
       "      <th>1</th>\n",
       "      <td>False</td>\n",
       "      <td>laxation critically ill patients lactulose pol...</td>\n",
       "      <td>17893628</td>\n",
       "      <td>lactulose</td>\n",
       "      <td>critically ill</td>\n",
       "    </tr>\n",
       "    <tr>\n",
       "      <th>2</th>\n",
       "      <td>False</td>\n",
       "      <td>methotrexate mtx sulfasalazine ssz cyclosporin...</td>\n",
       "      <td>12463452</td>\n",
       "      <td>sulfasalazine/SSZ</td>\n",
       "      <td>PsA</td>\n",
       "    </tr>\n",
       "    <tr>\n",
       "      <th>3</th>\n",
       "      <td>True</td>\n",
       "      <td>polychlorinated biphenyls pcbs persistent envi...</td>\n",
       "      <td>24812009</td>\n",
       "      <td>Polychlorinated biphenyls/PCBs</td>\n",
       "      <td>NAFLD/non-alcoholic fatty liver disease</td>\n",
       "    </tr>\n",
       "    <tr>\n",
       "      <th>4</th>\n",
       "      <td>True</td>\n",
       "      <td>although pcp classified human carcinogen epide...</td>\n",
       "      <td>7904464</td>\n",
       "      <td>PCP</td>\n",
       "      <td>sarcoma</td>\n",
       "    </tr>\n",
       "  </tbody>\n",
       "</table>\n",
       "</div>"
      ],
      "text/plain": [
       "  boolean_relationship                                  relationship_info  \\\n",
       "0                 True  describe yearold woman preexisting mitral valv...   \n",
       "1                False  laxation critically ill patients lactulose pol...   \n",
       "2                False  methotrexate mtx sulfasalazine ssz cyclosporin...   \n",
       "3                 True  polychlorinated biphenyls pcbs persistent envi...   \n",
       "4                 True  although pcp classified human carcinogen epide...   \n",
       "\n",
       "       pmid                   chemical_name  \\\n",
       "0  11419773                        caffeine   \n",
       "1  17893628                       lactulose   \n",
       "2  12463452               sulfasalazine/SSZ   \n",
       "3  24812009  Polychlorinated biphenyls/PCBs   \n",
       "4   7904464                             PCP   \n",
       "\n",
       "                              disease_name  \n",
       "0                 ventricular fibrillation  \n",
       "1                           critically ill  \n",
       "2                                      PsA  \n",
       "3  NAFLD/non-alcoholic fatty liver disease  \n",
       "4                                  sarcoma  "
      ]
     },
<<<<<<< HEAD
     "execution_count": 3,
=======
     "execution_count": 23,
>>>>>>> 6503a71df82d1f5c0949bc4942a4c452634ba239
     "metadata": {},
     "output_type": "execute_result"
    }
   ],
   "source": [
<<<<<<< HEAD
    "df = pd.read_csv('data/labeled_df.csv', na_values=['?'])\n",
=======
    "import pandas as pd\n",
    "df = pd.read_csv('labeled_df.csv', na_values=['?'])\n",
>>>>>>> 6503a71df82d1f5c0949bc4942a4c452634ba239
    "df.head()"
   ]
  },
  {
   "cell_type": "code",
<<<<<<< HEAD
   "execution_count": 4,
=======
   "execution_count": 24,
>>>>>>> 6503a71df82d1f5c0949bc4942a4c452634ba239
   "metadata": {
    "collapsed": false,
    "scrolled": true
   },
   "outputs": [
    {
     "data": {
      "text/plain": [
       "(1928, 5)"
      ]
     },
<<<<<<< HEAD
     "execution_count": 4,
=======
     "execution_count": 24,
>>>>>>> 6503a71df82d1f5c0949bc4942a4c452634ba239
     "metadata": {},
     "output_type": "execute_result"
    }
   ],
   "source": [
    "df.shape"
   ]
  },
  {
   "cell_type": "markdown",
   "metadata": {},
   "source": [
    "### Scrape Abstracts from PubMed"
   ]
  },
  {
   "cell_type": "code",
<<<<<<< HEAD
   "execution_count": 10,
   "metadata": {
    "collapsed": false
=======
   "execution_count": 40,
   "metadata": {
    "collapsed": true
>>>>>>> 6503a71df82d1f5c0949bc4942a4c452634ba239
   },
   "outputs": [
    {
     "name": "stdout",
     "output_type": "stream",
     "text": [
<<<<<<< HEAD
      "Review 100 of 1928\n",
      "\n",
      "Review 200 of 1928\n",
      "\n",
      "Review 300 of 1928\n",
      "\n",
      "Review 400 of 1928\n",
      "\n",
      "Review 500 of 1928\n",
      "\n",
      "Review 600 of 1928\n",
      "\n",
      "Review 700 of 1928\n",
      "\n",
      "Review 800 of 1928\n",
      "\n",
      "Review 900 of 1928\n",
      "\n",
      "Review 1000 of 1928\n",
      "\n",
      "Review 1100 of 1928\n",
      "\n",
      "Review 1200 of 1928\n",
      "\n",
      "Review 1300 of 1928\n",
      "\n",
      "Review 1400 of 1928\n",
      "\n",
      "Review 1500 of 1928\n",
      "\n",
      "Review 1600 of 1928\n",
      "\n",
      "Review 1700 of 1928\n",
      "\n",
      "Review 1800 of 1928\n",
      "\n",
=======
      "Review 50 of 1928\n",
      "\n",
      "Review 100 of 1928\n",
      "\n",
      "Review 150 of 1928\n",
      "\n",
      "Review 200 of 1928\n",
      "\n",
      "Review 250 of 1928\n",
      "\n",
      "Review 300 of 1928\n",
      "\n",
      "Review 350 of 1928\n",
      "\n",
      "Review 400 of 1928\n",
      "\n",
      "Review 450 of 1928\n",
      "\n",
      "Review 500 of 1928\n",
      "\n",
      "Review 550 of 1928\n",
      "\n",
      "Review 600 of 1928\n",
      "\n",
      "Review 650 of 1928\n",
      "\n",
      "Review 700 of 1928\n",
      "\n",
      "Review 750 of 1928\n",
      "\n",
      "Review 800 of 1928\n",
      "\n",
      "Review 850 of 1928\n",
      "\n",
      "Review 900 of 1928\n",
      "\n",
      "Review 950 of 1928\n",
      "\n",
      "Review 1000 of 1928\n",
      "\n",
      "Review 1050 of 1928\n",
      "\n",
      "Review 1100 of 1928\n",
      "\n",
      "Review 1150 of 1928\n",
      "\n",
      "Review 1200 of 1928\n",
      "\n",
      "Review 1250 of 1928\n",
      "\n",
      "Review 1300 of 1928\n",
      "\n",
      "Review 1350 of 1928\n",
      "\n",
      "Review 1400 of 1928\n",
      "\n",
      "Review 1450 of 1928\n",
      "\n",
      "Review 1500 of 1928\n",
      "\n",
      "Review 1550 of 1928\n",
      "\n",
      "Review 1600 of 1928\n",
      "\n",
      "Review 1650 of 1928\n",
      "\n",
      "Review 1700 of 1928\n",
      "\n",
      "Review 1750 of 1928\n",
      "\n",
      "Review 1800 of 1928\n",
      "\n",
      "Review 1850 of 1928\n",
      "\n",
>>>>>>> 6503a71df82d1f5c0949bc4942a4c452634ba239
      "Review 1900 of 1928\n",
      "\n"
     ]
    }
   ],
   "source": [
    "#extract abstracts for each pmid in the dataframe:\n",
    "i = 0\n",
    "abstracts = []\n",
    "for pm in df.pmid: \n",
    "    soup = BeautifulSoup(urllib2.urlopen('http://www.ncbi.nlm.nih.gov/pubmed/%s' %pm).read(), \"lxml\")\n",
    "    #abstract\n",
    "    abstract = soup.find_all(attrs={\"class\": \"abstr\"})\n",
    "    abstracts.append(abstract[0].p.string)\n",
    "    i += 1\n",
<<<<<<< HEAD
    "    if( (i) % 100 == 0 ):\n",
=======
    "    if( (i) % 50 == 0 ):\n",
>>>>>>> 6503a71df82d1f5c0949bc4942a4c452634ba239
    "        print(\"Review %d of %d\\n\" % (i, df.shape[0]))\n",
    "df['abstracts'] = abstracts "
   ]
  },
  {
   "cell_type": "code",
<<<<<<< HEAD
   "execution_count": 11,
=======
   "execution_count": 45,
>>>>>>> 6503a71df82d1f5c0949bc4942a4c452634ba239
   "metadata": {
    "collapsed": false
   },
   "outputs": [
    {
     "data": {
      "text/html": [
       "<div>\n",
       "<table border=\"1\" class=\"dataframe\">\n",
       "  <thead>\n",
       "    <tr style=\"text-align: right;\">\n",
       "      <th></th>\n",
       "      <th>boolean_relationship</th>\n",
       "      <th>relationship_info</th>\n",
       "      <th>pmid</th>\n",
       "      <th>chemical_name</th>\n",
       "      <th>disease_name</th>\n",
       "      <th>abstracts</th>\n",
       "    </tr>\n",
       "  </thead>\n",
       "  <tbody>\n",
       "    <tr>\n",
       "      <th>0</th>\n",
       "      <td>True</td>\n",
<<<<<<< HEAD
       "      <td>describe yearold woman preexisting mitral valv...</td>\n",
=======
       "      <td>describe    year old woman pre existing mitral...</td>\n",
>>>>>>> 6503a71df82d1f5c0949bc4942a4c452634ba239
       "      <td>11419773</td>\n",
       "      <td>caffeine</td>\n",
       "      <td>ventricular fibrillation</td>\n",
       "      <td>We describe a 25-year-old woman with pre-exist...</td>\n",
       "    </tr>\n",
       "    <tr>\n",
       "      <th>1</th>\n",
       "      <td>False</td>\n",
       "      <td>laxation critically ill patients lactulose pol...</td>\n",
       "      <td>17893628</td>\n",
       "      <td>lactulose</td>\n",
       "      <td>critically ill</td>\n",
       "      <td>To study whether lactulose or polyethylene gly...</td>\n",
       "    </tr>\n",
       "    <tr>\n",
       "      <th>2</th>\n",
       "      <td>False</td>\n",
<<<<<<< HEAD
       "      <td>methotrexate mtx sulfasalazine ssz cyclosporin...</td>\n",
=======
       "      <td>methotrexate  mtx   sulfasalazine ssz    cyclo...</td>\n",
>>>>>>> 6503a71df82d1f5c0949bc4942a4c452634ba239
       "      <td>12463452</td>\n",
       "      <td>sulfasalazine/SSZ</td>\n",
       "      <td>PsA</td>\n",
       "      <td>As erosive and deforming arthritis is present ...</td>\n",
       "    </tr>\n",
       "    <tr>\n",
       "      <th>3</th>\n",
       "      <td>True</td>\n",
       "      <td>polychlorinated biphenyls pcbs persistent envi...</td>\n",
       "      <td>24812009</td>\n",
       "      <td>Polychlorinated biphenyls/PCBs</td>\n",
       "      <td>NAFLD/non-alcoholic fatty liver disease</td>\n",
       "      <td>Polychlorinated biphenyls (PCBs) are persisten...</td>\n",
       "    </tr>\n",
       "    <tr>\n",
       "      <th>4</th>\n",
       "      <td>True</td>\n",
<<<<<<< HEAD
       "      <td>although pcp classified human carcinogen epide...</td>\n",
=======
       "      <td>although pcp classified human carcinogen  epid...</td>\n",
>>>>>>> 6503a71df82d1f5c0949bc4942a4c452634ba239
       "      <td>7904464</td>\n",
       "      <td>PCP</td>\n",
       "      <td>sarcoma</td>\n",
       "      <td>Pentachlorophenol (PCP) was, and still is, one...</td>\n",
       "    </tr>\n",
       "  </tbody>\n",
       "</table>\n",
       "</div>"
      ],
      "text/plain": [
       "  boolean_relationship                                  relationship_info  \\\n",
<<<<<<< HEAD
       "0                 True  describe yearold woman preexisting mitral valv...   \n",
       "1                False  laxation critically ill patients lactulose pol...   \n",
       "2                False  methotrexate mtx sulfasalazine ssz cyclosporin...   \n",
       "3                 True  polychlorinated biphenyls pcbs persistent envi...   \n",
       "4                 True  although pcp classified human carcinogen epide...   \n",
=======
       "0                 True  describe    year old woman pre existing mitral...   \n",
       "1                False  laxation critically ill patients lactulose pol...   \n",
       "2                False  methotrexate  mtx   sulfasalazine ssz    cyclo...   \n",
       "3                 True  polychlorinated biphenyls pcbs persistent envi...   \n",
       "4                 True  although pcp classified human carcinogen  epid...   \n",
>>>>>>> 6503a71df82d1f5c0949bc4942a4c452634ba239
       "\n",
       "       pmid                   chemical_name  \\\n",
       "0  11419773                        caffeine   \n",
       "1  17893628                       lactulose   \n",
       "2  12463452               sulfasalazine/SSZ   \n",
       "3  24812009  Polychlorinated biphenyls/PCBs   \n",
       "4   7904464                             PCP   \n",
       "\n",
       "                              disease_name  \\\n",
       "0                 ventricular fibrillation   \n",
       "1                           critically ill   \n",
       "2                                      PsA   \n",
       "3  NAFLD/non-alcoholic fatty liver disease   \n",
       "4                                  sarcoma   \n",
       "\n",
       "                                           abstracts  \n",
       "0  We describe a 25-year-old woman with pre-exist...  \n",
       "1  To study whether lactulose or polyethylene gly...  \n",
       "2  As erosive and deforming arthritis is present ...  \n",
       "3  Polychlorinated biphenyls (PCBs) are persisten...  \n",
       "4  Pentachlorophenol (PCP) was, and still is, one...  "
      ]
     },
<<<<<<< HEAD
     "execution_count": 11,
=======
     "execution_count": 45,
>>>>>>> 6503a71df82d1f5c0949bc4942a4c452634ba239
     "metadata": {},
     "output_type": "execute_result"
    }
   ],
   "source": [
    "df.head()"
   ]
  },
  {
   "cell_type": "code",
<<<<<<< HEAD
   "execution_count": 12,
=======
   "execution_count": 47,
>>>>>>> 6503a71df82d1f5c0949bc4942a4c452634ba239
   "metadata": {
    "collapsed": true
   },
   "outputs": [],
   "source": [
<<<<<<< HEAD
    "df.to_csv( \"data/df_with_abstracts.csv\", index=False)"
=======
    "df.to_csv( \"df_with_abstracts.csv\", index=False)"
>>>>>>> 6503a71df82d1f5c0949bc4942a4c452634ba239
   ]
  },
  {
   "cell_type": "markdown",
   "metadata": {},
   "source": [
    "### Cleaning abstracts"
   ]
  },
  {
   "cell_type": "code",
<<<<<<< HEAD
   "execution_count": 13,
=======
   "execution_count": 30,
>>>>>>> 6503a71df82d1f5c0949bc4942a4c452634ba239
   "metadata": {
    "collapsed": false
   },
   "outputs": [
    {
     "data": {
      "text/html": [
       "<div>\n",
       "<table border=\"1\" class=\"dataframe\">\n",
       "  <thead>\n",
       "    <tr style=\"text-align: right;\">\n",
       "      <th></th>\n",
       "      <th>boolean_relationship</th>\n",
       "      <th>relationship_info</th>\n",
       "      <th>pmid</th>\n",
       "      <th>chemical_name</th>\n",
       "      <th>disease_name</th>\n",
       "      <th>abstracts</th>\n",
       "    </tr>\n",
       "  </thead>\n",
       "  <tbody>\n",
       "    <tr>\n",
       "      <th>0</th>\n",
       "      <td>True</td>\n",
<<<<<<< HEAD
       "      <td>describe yearold woman preexisting mitral valv...</td>\n",
=======
       "      <td>describe    year old woman pre existing mitral...</td>\n",
>>>>>>> 6503a71df82d1f5c0949bc4942a4c452634ba239
       "      <td>11419773</td>\n",
       "      <td>caffeine</td>\n",
       "      <td>ventricular fibrillation</td>\n",
       "      <td>We describe a 25-year-old woman with pre-exist...</td>\n",
       "    </tr>\n",
       "    <tr>\n",
       "      <th>1</th>\n",
       "      <td>False</td>\n",
       "      <td>laxation critically ill patients lactulose pol...</td>\n",
       "      <td>17893628</td>\n",
       "      <td>lactulose</td>\n",
       "      <td>critically ill</td>\n",
       "      <td>To study whether lactulose or polyethylene gly...</td>\n",
       "    </tr>\n",
       "    <tr>\n",
       "      <th>2</th>\n",
       "      <td>False</td>\n",
<<<<<<< HEAD
       "      <td>methotrexate mtx sulfasalazine ssz cyclosporin...</td>\n",
=======
       "      <td>methotrexate  mtx   sulfasalazine ssz    cyclo...</td>\n",
>>>>>>> 6503a71df82d1f5c0949bc4942a4c452634ba239
       "      <td>12463452</td>\n",
       "      <td>sulfasalazine/SSZ</td>\n",
       "      <td>PsA</td>\n",
       "      <td>As erosive and deforming arthritis is present ...</td>\n",
       "    </tr>\n",
       "    <tr>\n",
       "      <th>3</th>\n",
       "      <td>True</td>\n",
       "      <td>polychlorinated biphenyls pcbs persistent envi...</td>\n",
       "      <td>24812009</td>\n",
       "      <td>Polychlorinated biphenyls/PCBs</td>\n",
       "      <td>NAFLD/non-alcoholic fatty liver disease</td>\n",
       "      <td>Polychlorinated biphenyls (PCBs) are persisten...</td>\n",
       "    </tr>\n",
       "    <tr>\n",
       "      <th>4</th>\n",
       "      <td>True</td>\n",
<<<<<<< HEAD
       "      <td>although pcp classified human carcinogen epide...</td>\n",
=======
       "      <td>although pcp classified human carcinogen  epid...</td>\n",
>>>>>>> 6503a71df82d1f5c0949bc4942a4c452634ba239
       "      <td>7904464</td>\n",
       "      <td>PCP</td>\n",
       "      <td>sarcoma</td>\n",
       "      <td>Pentachlorophenol (PCP) was, and still is, one...</td>\n",
       "    </tr>\n",
       "  </tbody>\n",
       "</table>\n",
       "</div>"
      ],
      "text/plain": [
       "  boolean_relationship                                  relationship_info  \\\n",
<<<<<<< HEAD
       "0                 True  describe yearold woman preexisting mitral valv...   \n",
       "1                False  laxation critically ill patients lactulose pol...   \n",
       "2                False  methotrexate mtx sulfasalazine ssz cyclosporin...   \n",
       "3                 True  polychlorinated biphenyls pcbs persistent envi...   \n",
       "4                 True  although pcp classified human carcinogen epide...   \n",
=======
       "0                 True  describe    year old woman pre existing mitral...   \n",
       "1                False  laxation critically ill patients lactulose pol...   \n",
       "2                False  methotrexate  mtx   sulfasalazine ssz    cyclo...   \n",
       "3                 True  polychlorinated biphenyls pcbs persistent envi...   \n",
       "4                 True  although pcp classified human carcinogen  epid...   \n",
>>>>>>> 6503a71df82d1f5c0949bc4942a4c452634ba239
       "\n",
       "       pmid                   chemical_name  \\\n",
       "0  11419773                        caffeine   \n",
       "1  17893628                       lactulose   \n",
       "2  12463452               sulfasalazine/SSZ   \n",
       "3  24812009  Polychlorinated biphenyls/PCBs   \n",
       "4   7904464                             PCP   \n",
       "\n",
       "                              disease_name  \\\n",
       "0                 ventricular fibrillation   \n",
       "1                           critically ill   \n",
       "2                                      PsA   \n",
       "3  NAFLD/non-alcoholic fatty liver disease   \n",
       "4                                  sarcoma   \n",
       "\n",
       "                                           abstracts  \n",
       "0  We describe a 25-year-old woman with pre-exist...  \n",
       "1  To study whether lactulose or polyethylene gly...  \n",
       "2  As erosive and deforming arthritis is present ...  \n",
       "3  Polychlorinated biphenyls (PCBs) are persisten...  \n",
       "4  Pentachlorophenol (PCP) was, and still is, one...  "
      ]
     },
<<<<<<< HEAD
     "execution_count": 13,
=======
     "execution_count": 30,
>>>>>>> 6503a71df82d1f5c0949bc4942a4c452634ba239
     "metadata": {},
     "output_type": "execute_result"
    }
   ],
   "source": [
<<<<<<< HEAD
    "df_with_abstracts = pd.read_csv('data/df_with_abstracts.csv', na_values=['?'])\n",
=======
    "df_with_abstracts = pd.read_csv('df_with_abstracts.csv', na_values=['?'])\n",
>>>>>>> 6503a71df82d1f5c0949bc4942a4c452634ba239
    "df_with_abstracts.head()"
   ]
  },
  {
   "cell_type": "code",
<<<<<<< HEAD
   "execution_count": 14,
=======
   "execution_count": 35,
>>>>>>> 6503a71df82d1f5c0949bc4942a4c452634ba239
   "metadata": {
    "collapsed": false
   },
   "outputs": [],
   "source": [
    "df['abstracts'] = df_with_abstracts['abstracts'].copy()"
   ]
  },
  {
   "cell_type": "code",
<<<<<<< HEAD
   "execution_count": 16,
=======
   "execution_count": 36,
>>>>>>> 6503a71df82d1f5c0949bc4942a4c452634ba239
   "metadata": {
    "collapsed": false
   },
   "outputs": [
    {
     "data": {
      "text/html": [
       "<div>\n",
       "<table border=\"1\" class=\"dataframe\">\n",
       "  <thead>\n",
       "    <tr style=\"text-align: right;\">\n",
       "      <th></th>\n",
       "      <th>boolean_relationship</th>\n",
       "      <th>relationship_info</th>\n",
       "      <th>pmid</th>\n",
       "      <th>chemical_name</th>\n",
       "      <th>disease_name</th>\n",
       "      <th>abstracts</th>\n",
       "    </tr>\n",
       "  </thead>\n",
       "  <tbody>\n",
       "    <tr>\n",
       "      <th>0</th>\n",
       "      <td>True</td>\n",
       "      <td>describe yearold woman preexisting mitral valv...</td>\n",
       "      <td>11419773</td>\n",
       "      <td>caffeine</td>\n",
       "      <td>ventricular fibrillation</td>\n",
       "      <td>We describe a 25-year-old woman with pre-exist...</td>\n",
       "    </tr>\n",
       "    <tr>\n",
       "      <th>1</th>\n",
       "      <td>False</td>\n",
       "      <td>laxation critically ill patients lactulose pol...</td>\n",
       "      <td>17893628</td>\n",
       "      <td>lactulose</td>\n",
       "      <td>critically ill</td>\n",
       "      <td>To study whether lactulose or polyethylene gly...</td>\n",
       "    </tr>\n",
       "    <tr>\n",
       "      <th>2</th>\n",
       "      <td>False</td>\n",
       "      <td>methotrexate mtx sulfasalazine ssz cyclosporin...</td>\n",
       "      <td>12463452</td>\n",
       "      <td>sulfasalazine/SSZ</td>\n",
       "      <td>PsA</td>\n",
       "      <td>As erosive and deforming arthritis is present ...</td>\n",
       "    </tr>\n",
       "    <tr>\n",
       "      <th>3</th>\n",
       "      <td>True</td>\n",
       "      <td>polychlorinated biphenyls pcbs persistent envi...</td>\n",
       "      <td>24812009</td>\n",
       "      <td>Polychlorinated biphenyls/PCBs</td>\n",
       "      <td>NAFLD/non-alcoholic fatty liver disease</td>\n",
       "      <td>Polychlorinated biphenyls (PCBs) are persisten...</td>\n",
       "    </tr>\n",
       "    <tr>\n",
       "      <th>4</th>\n",
       "      <td>True</td>\n",
       "      <td>although pcp classified human carcinogen epide...</td>\n",
       "      <td>7904464</td>\n",
       "      <td>PCP</td>\n",
       "      <td>sarcoma</td>\n",
       "      <td>Pentachlorophenol (PCP) was, and still is, one...</td>\n",
       "    </tr>\n",
       "  </tbody>\n",
       "</table>\n",
       "</div>"
      ],
      "text/plain": [
       "  boolean_relationship                                  relationship_info  \\\n",
       "0                 True  describe yearold woman preexisting mitral valv...   \n",
       "1                False  laxation critically ill patients lactulose pol...   \n",
       "2                False  methotrexate mtx sulfasalazine ssz cyclosporin...   \n",
       "3                 True  polychlorinated biphenyls pcbs persistent envi...   \n",
       "4                 True  although pcp classified human carcinogen epide...   \n",
       "\n",
       "       pmid                   chemical_name  \\\n",
       "0  11419773                        caffeine   \n",
       "1  17893628                       lactulose   \n",
       "2  12463452               sulfasalazine/SSZ   \n",
       "3  24812009  Polychlorinated biphenyls/PCBs   \n",
       "4   7904464                             PCP   \n",
       "\n",
       "                              disease_name  \\\n",
       "0                 ventricular fibrillation   \n",
       "1                           critically ill   \n",
       "2                                      PsA   \n",
       "3  NAFLD/non-alcoholic fatty liver disease   \n",
       "4                                  sarcoma   \n",
       "\n",
       "                                           abstracts  \n",
       "0  We describe a 25-year-old woman with pre-exist...  \n",
       "1  To study whether lactulose or polyethylene gly...  \n",
       "2  As erosive and deforming arthritis is present ...  \n",
       "3  Polychlorinated biphenyls (PCBs) are persisten...  \n",
       "4  Pentachlorophenol (PCP) was, and still is, one...  "
      ]
     },
<<<<<<< HEAD
     "execution_count": 16,
=======
     "execution_count": 36,
>>>>>>> 6503a71df82d1f5c0949bc4942a4c452634ba239
     "metadata": {},
     "output_type": "execute_result"
    }
   ],
   "source": [
    "df.head()"
   ]
  },
  {
   "cell_type": "code",
<<<<<<< HEAD
   "execution_count": 17,
=======
   "execution_count": 37,
>>>>>>> 6503a71df82d1f5c0949bc4942a4c452634ba239
   "metadata": {
    "collapsed": true
   },
   "outputs": [],
   "source": [
    "cleaned_names = list(df.chemical_name) + list(df.disease_name)"
   ]
  },
  {
   "cell_type": "code",
<<<<<<< HEAD
   "execution_count": 18,
=======
   "execution_count": 38,
>>>>>>> 6503a71df82d1f5c0949bc4942a4c452634ba239
   "metadata": {
    "collapsed": false
   },
   "outputs": [],
   "source": [
    "#porter_stemmer = PorterStemmer()\n",
    "\n",
    "def abstract_to_words( raw_review ):\n",
    "    #Remove HTML\n",
    "    raw_review = raw_review.replace(\">\",\"> \")\n",
    "    review_text = BeautifulSoup(raw_review, \"lxml\").get_text().split()\n",
    "    \n",
    "    #if word is not a disease or chemical, remove non-alpha. else, retain word. \n",
    "    cleaned_sentence = []\n",
    "    for word in review_text:\n",
    "        if word not in cleaned_names:\n",
    "            cleaned_sentence.append(re.sub(\"[^a-zA-Z]\", \"\", word.lower()))\n",
    "        else:\n",
    "            cleaned_sentence.append(word.lower())\n",
    "    \n",
    "    #remove stops, extra spaces, and single-letter words \n",
    "    stops = set(stopwords.words(\"english\"))  \n",
    "    spaces = set(\" \")\n",
    "    single_letter_words = set(string.ascii_lowercase)\n",
    "    unimportant_words = stops | spaces | single_letter_words\n",
    "    \n",
<<<<<<< HEAD
    "    return (\" \".join([word for word in cleaned_sentence if not word in list(unimportant_words)])).replace(\"  \",\" \")"
=======
    "    return (\" \".join([word for word in cleaned_sentence if not word in list(unimportant_words)])).replace(\"  \",\" \")\n",
    "    \n",
    "    #return \" \".join([porter_stemmer.stem(word) for word in cleaned_sentence if not word.lower() in list(unimportant_words)])\n"
>>>>>>> 6503a71df82d1f5c0949bc4942a4c452634ba239
   ]
  },
  {
   "cell_type": "code",
<<<<<<< HEAD
   "execution_count": 19,
=======
   "execution_count": 41,
>>>>>>> 6503a71df82d1f5c0949bc4942a4c452634ba239
   "metadata": {
    "collapsed": false
   },
   "outputs": [],
   "source": [
    "clean_abstracts = []\n",
    "for i in range( 0, df.shape[0] ):\n",
    "    clean_abstracts.append( abstract_to_words( df[\"abstracts\"][i] ) )"
   ]
  },
  {
   "cell_type": "code",
<<<<<<< HEAD
   "execution_count": 20,
=======
   "execution_count": 42,
>>>>>>> 6503a71df82d1f5c0949bc4942a4c452634ba239
   "metadata": {
    "collapsed": true
   },
   "outputs": [],
   "source": [
    "df.abstracts = clean_abstracts"
   ]
  },
  {
   "cell_type": "code",
<<<<<<< HEAD
   "execution_count": 21,
=======
   "execution_count": 43,
>>>>>>> 6503a71df82d1f5c0949bc4942a4c452634ba239
   "metadata": {
    "collapsed": false
   },
   "outputs": [
    {
     "data": {
      "text/html": [
       "<div>\n",
       "<table border=\"1\" class=\"dataframe\">\n",
       "  <thead>\n",
       "    <tr style=\"text-align: right;\">\n",
       "      <th></th>\n",
       "      <th>boolean_relationship</th>\n",
       "      <th>relationship_info</th>\n",
       "      <th>pmid</th>\n",
       "      <th>chemical_name</th>\n",
       "      <th>disease_name</th>\n",
       "      <th>abstracts</th>\n",
       "    </tr>\n",
       "  </thead>\n",
       "  <tbody>\n",
       "    <tr>\n",
       "      <th>0</th>\n",
       "      <td>True</td>\n",
       "      <td>describe yearold woman preexisting mitral valv...</td>\n",
       "      <td>11419773</td>\n",
       "      <td>caffeine</td>\n",
       "      <td>ventricular fibrillation</td>\n",
       "      <td>describe yearold woman preexisting mitral valv...</td>\n",
       "    </tr>\n",
       "    <tr>\n",
       "      <th>1</th>\n",
       "      <td>False</td>\n",
       "      <td>laxation critically ill patients lactulose pol...</td>\n",
       "      <td>17893628</td>\n",
       "      <td>lactulose</td>\n",
       "      <td>critically ill</td>\n",
       "      <td>study whether lactulose polyethylene glycol ef...</td>\n",
       "    </tr>\n",
       "    <tr>\n",
       "      <th>2</th>\n",
       "      <td>False</td>\n",
       "      <td>methotrexate mtx sulfasalazine ssz cyclosporin...</td>\n",
       "      <td>12463452</td>\n",
       "      <td>sulfasalazine/SSZ</td>\n",
       "      <td>PsA</td>\n",
       "      <td>erosive deforming arthritis present patients p...</td>\n",
       "    </tr>\n",
       "    <tr>\n",
       "      <th>3</th>\n",
       "      <td>True</td>\n",
       "      <td>polychlorinated biphenyls pcbs persistent envi...</td>\n",
       "      <td>24812009</td>\n",
       "      <td>Polychlorinated biphenyls/PCBs</td>\n",
       "      <td>NAFLD/non-alcoholic fatty liver disease</td>\n",
       "      <td>polychlorinated biphenyls pcbs persistent envi...</td>\n",
       "    </tr>\n",
       "    <tr>\n",
       "      <th>4</th>\n",
       "      <td>True</td>\n",
       "      <td>although pcp classified human carcinogen epide...</td>\n",
       "      <td>7904464</td>\n",
       "      <td>PCP</td>\n",
       "      <td>sarcoma</td>\n",
       "      <td>pentachlorophenol pcp still one frequently use...</td>\n",
       "    </tr>\n",
       "  </tbody>\n",
       "</table>\n",
       "</div>"
      ],
      "text/plain": [
       "  boolean_relationship                                  relationship_info  \\\n",
       "0                 True  describe yearold woman preexisting mitral valv...   \n",
       "1                False  laxation critically ill patients lactulose pol...   \n",
       "2                False  methotrexate mtx sulfasalazine ssz cyclosporin...   \n",
       "3                 True  polychlorinated biphenyls pcbs persistent envi...   \n",
       "4                 True  although pcp classified human carcinogen epide...   \n",
       "\n",
       "       pmid                   chemical_name  \\\n",
       "0  11419773                        caffeine   \n",
       "1  17893628                       lactulose   \n",
       "2  12463452               sulfasalazine/SSZ   \n",
       "3  24812009  Polychlorinated biphenyls/PCBs   \n",
       "4   7904464                             PCP   \n",
       "\n",
       "                              disease_name  \\\n",
       "0                 ventricular fibrillation   \n",
       "1                           critically ill   \n",
       "2                                      PsA   \n",
       "3  NAFLD/non-alcoholic fatty liver disease   \n",
       "4                                  sarcoma   \n",
       "\n",
       "                                           abstracts  \n",
       "0  describe yearold woman preexisting mitral valv...  \n",
       "1  study whether lactulose polyethylene glycol ef...  \n",
       "2  erosive deforming arthritis present patients p...  \n",
       "3  polychlorinated biphenyls pcbs persistent envi...  \n",
       "4  pentachlorophenol pcp still one frequently use...  "
      ]
     },
<<<<<<< HEAD
     "execution_count": 21,
=======
     "execution_count": 43,
>>>>>>> 6503a71df82d1f5c0949bc4942a4c452634ba239
     "metadata": {},
     "output_type": "execute_result"
    }
   ],
   "source": [
    "df.head()"
   ]
  },
  {
   "cell_type": "code",
<<<<<<< HEAD
   "execution_count": 22,
=======
   "execution_count": 45,
>>>>>>> 6503a71df82d1f5c0949bc4942a4c452634ba239
   "metadata": {
    "collapsed": false
   },
   "outputs": [
    {
     "data": {
      "text/plain": [
       "'thrombosis rare wellrecognized potential complication factor viii inhibitor bypass activity feiba infusion recombinant factor viia rfviia increasingly used alternative feiba however thrombotic safety profile rfviia remains incompletely characterized determine incidence rates thrombotic adverse events aes infusion rfviia feiba data medwatch pharmacovigilance program us food drug administration supplemented published case reports used conjunction estimated numbers infusions available manufacturers assess comparative incidence thrombotic aes patients receiving rfviia feiba period april june reported thrombotic aes rare incidence rates per infusions ci per infusions rfviia per infusions ci per infusions feiba thrombotic aes significantly frequent rfviia feiba recipients incidence rate ratio ci commonly documented single type thrombotic ae rfviia infusion cerebrovascular thrombosis myocardial infarction frequent type patients receiving feiba contrasting ae reporting patterns rfviia feiba may contributed observed difference thrombotic event incidence nevertheless comprehensive pharmacovigilance assessment support superior thrombotic safety rfviia suggests thrombotic ae risk may higher rfviia feiba recipients'"
      ]
     },
<<<<<<< HEAD
     "execution_count": 22,
=======
     "execution_count": 45,
>>>>>>> 6503a71df82d1f5c0949bc4942a4c452634ba239
     "metadata": {},
     "output_type": "execute_result"
    }
   ],
   "source": [
    "df.abstracts[100]"
   ]
  },
  {
   "cell_type": "code",
<<<<<<< HEAD
   "execution_count": 27,
=======
   "execution_count": 46,
>>>>>>> 6503a71df82d1f5c0949bc4942a4c452634ba239
   "metadata": {
    "collapsed": true
   },
   "outputs": [],
   "source": [
<<<<<<< HEAD
    "df.to_csv( \"data/cleaned_abstracts.csv\", index=False)"
=======
    "df.to_csv( \"cleaned_abstracts.csv\", index=False)"
>>>>>>> 6503a71df82d1f5c0949bc4942a4c452634ba239
   ]
  },
  {
   "cell_type": "code",
<<<<<<< HEAD
   "execution_count": 28,
=======
   "execution_count": 47,
>>>>>>> 6503a71df82d1f5c0949bc4942a4c452634ba239
   "metadata": {
    "collapsed": false
   },
   "outputs": [
    {
     "data": {
      "text/html": [
       "<div>\n",
       "<table border=\"1\" class=\"dataframe\">\n",
       "  <thead>\n",
       "    <tr style=\"text-align: right;\">\n",
       "      <th></th>\n",
       "      <th>boolean_relationship</th>\n",
       "      <th>relationship_info</th>\n",
       "      <th>pmid</th>\n",
       "      <th>chemical_name</th>\n",
       "      <th>disease_name</th>\n",
       "      <th>abstracts</th>\n",
       "    </tr>\n",
       "  </thead>\n",
       "  <tbody>\n",
       "    <tr>\n",
       "      <th>0</th>\n",
       "      <td>True</td>\n",
       "      <td>describe yearold woman preexisting mitral valv...</td>\n",
       "      <td>11419773</td>\n",
       "      <td>caffeine</td>\n",
       "      <td>ventricular fibrillation</td>\n",
       "      <td>describe yearold woman preexisting mitral valv...</td>\n",
       "    </tr>\n",
       "    <tr>\n",
       "      <th>1</th>\n",
       "      <td>False</td>\n",
       "      <td>laxation critically ill patients lactulose pol...</td>\n",
       "      <td>17893628</td>\n",
       "      <td>lactulose</td>\n",
       "      <td>critically ill</td>\n",
       "      <td>study whether lactulose polyethylene glycol ef...</td>\n",
       "    </tr>\n",
       "    <tr>\n",
       "      <th>2</th>\n",
       "      <td>False</td>\n",
       "      <td>methotrexate mtx sulfasalazine ssz cyclosporin...</td>\n",
       "      <td>12463452</td>\n",
       "      <td>sulfasalazine/SSZ</td>\n",
       "      <td>PsA</td>\n",
       "      <td>erosive deforming arthritis present patients p...</td>\n",
       "    </tr>\n",
       "    <tr>\n",
       "      <th>3</th>\n",
       "      <td>True</td>\n",
       "      <td>polychlorinated biphenyls pcbs persistent envi...</td>\n",
       "      <td>24812009</td>\n",
       "      <td>Polychlorinated biphenyls/PCBs</td>\n",
       "      <td>NAFLD/non-alcoholic fatty liver disease</td>\n",
       "      <td>polychlorinated biphenyls pcbs persistent envi...</td>\n",
       "    </tr>\n",
       "    <tr>\n",
       "      <th>4</th>\n",
       "      <td>True</td>\n",
       "      <td>although pcp classified human carcinogen epide...</td>\n",
       "      <td>7904464</td>\n",
       "      <td>PCP</td>\n",
       "      <td>sarcoma</td>\n",
       "      <td>pentachlorophenol pcp still one frequently use...</td>\n",
       "    </tr>\n",
       "  </tbody>\n",
       "</table>\n",
       "</div>"
      ],
      "text/plain": [
       "  boolean_relationship                                  relationship_info  \\\n",
       "0                 True  describe yearold woman preexisting mitral valv...   \n",
       "1                False  laxation critically ill patients lactulose pol...   \n",
       "2                False  methotrexate mtx sulfasalazine ssz cyclosporin...   \n",
       "3                 True  polychlorinated biphenyls pcbs persistent envi...   \n",
       "4                 True  although pcp classified human carcinogen epide...   \n",
       "\n",
       "       pmid                   chemical_name  \\\n",
       "0  11419773                        caffeine   \n",
       "1  17893628                       lactulose   \n",
       "2  12463452               sulfasalazine/SSZ   \n",
       "3  24812009  Polychlorinated biphenyls/PCBs   \n",
       "4   7904464                             PCP   \n",
       "\n",
       "                              disease_name  \\\n",
       "0                 ventricular fibrillation   \n",
       "1                           critically ill   \n",
       "2                                      PsA   \n",
       "3  NAFLD/non-alcoholic fatty liver disease   \n",
       "4                                  sarcoma   \n",
       "\n",
       "                                           abstracts  \n",
       "0  describe yearold woman preexisting mitral valv...  \n",
       "1  study whether lactulose polyethylene glycol ef...  \n",
       "2  erosive deforming arthritis present patients p...  \n",
       "3  polychlorinated biphenyls pcbs persistent envi...  \n",
       "4  pentachlorophenol pcp still one frequently use...  "
      ]
     },
<<<<<<< HEAD
     "execution_count": 28,
=======
     "execution_count": 47,
>>>>>>> 6503a71df82d1f5c0949bc4942a4c452634ba239
     "metadata": {},
     "output_type": "execute_result"
    }
   ],
   "source": [
    "df_cleaned_abstracts = pd.read_csv('cleaned_abstracts.csv', na_values=['?'])\n",
    "df_cleaned_abstracts.head()"
   ]
  },
  {
   "cell_type": "markdown",
   "metadata": {},
   "source": [
    "### Merge relationship_info and abstracts into 1 column: all_info"
   ]
  },
  {
   "cell_type": "code",
<<<<<<< HEAD
   "execution_count": 29,
=======
   "execution_count": 48,
>>>>>>> 6503a71df82d1f5c0949bc4942a4c452634ba239
   "metadata": {
    "collapsed": false
   },
   "outputs": [
    {
     "data": {
      "text/html": [
       "<div>\n",
       "<table border=\"1\" class=\"dataframe\">\n",
       "  <thead>\n",
       "    <tr style=\"text-align: right;\">\n",
       "      <th></th>\n",
       "      <th>boolean_relationship</th>\n",
       "      <th>relationship_info</th>\n",
       "      <th>pmid</th>\n",
       "      <th>chemical_name</th>\n",
       "      <th>disease_name</th>\n",
       "      <th>abstracts</th>\n",
       "      <th>all_info</th>\n",
       "    </tr>\n",
       "  </thead>\n",
       "  <tbody>\n",
       "    <tr>\n",
       "      <th>0</th>\n",
       "      <td>True</td>\n",
       "      <td>describe yearold woman preexisting mitral valv...</td>\n",
       "      <td>11419773</td>\n",
       "      <td>caffeine</td>\n",
       "      <td>ventricular fibrillation</td>\n",
       "      <td>describe yearold woman preexisting mitral valv...</td>\n",
       "      <td>describe yearold woman preexisting mitral valv...</td>\n",
       "    </tr>\n",
       "    <tr>\n",
       "      <th>1</th>\n",
       "      <td>False</td>\n",
       "      <td>laxation critically ill patients lactulose pol...</td>\n",
       "      <td>17893628</td>\n",
       "      <td>lactulose</td>\n",
       "      <td>critically ill</td>\n",
       "      <td>study whether lactulose polyethylene glycol ef...</td>\n",
       "      <td>laxation critically ill patients lactulose pol...</td>\n",
       "    </tr>\n",
       "    <tr>\n",
       "      <th>2</th>\n",
       "      <td>False</td>\n",
       "      <td>methotrexate mtx sulfasalazine ssz cyclosporin...</td>\n",
       "      <td>12463452</td>\n",
       "      <td>sulfasalazine/SSZ</td>\n",
       "      <td>PsA</td>\n",
       "      <td>erosive deforming arthritis present patients p...</td>\n",
       "      <td>methotrexate mtx sulfasalazine ssz cyclosporin...</td>\n",
       "    </tr>\n",
       "    <tr>\n",
       "      <th>3</th>\n",
       "      <td>True</td>\n",
       "      <td>polychlorinated biphenyls pcbs persistent envi...</td>\n",
       "      <td>24812009</td>\n",
       "      <td>Polychlorinated biphenyls/PCBs</td>\n",
       "      <td>NAFLD/non-alcoholic fatty liver disease</td>\n",
       "      <td>polychlorinated biphenyls pcbs persistent envi...</td>\n",
       "      <td>polychlorinated biphenyls pcbs persistent envi...</td>\n",
       "    </tr>\n",
       "    <tr>\n",
       "      <th>4</th>\n",
       "      <td>True</td>\n",
       "      <td>although pcp classified human carcinogen epide...</td>\n",
       "      <td>7904464</td>\n",
       "      <td>PCP</td>\n",
       "      <td>sarcoma</td>\n",
       "      <td>pentachlorophenol pcp still one frequently use...</td>\n",
       "      <td>although pcp classified human carcinogen epide...</td>\n",
       "    </tr>\n",
       "  </tbody>\n",
       "</table>\n",
       "</div>"
      ],
      "text/plain": [
       "  boolean_relationship                                  relationship_info  \\\n",
       "0                 True  describe yearold woman preexisting mitral valv...   \n",
       "1                False  laxation critically ill patients lactulose pol...   \n",
       "2                False  methotrexate mtx sulfasalazine ssz cyclosporin...   \n",
       "3                 True  polychlorinated biphenyls pcbs persistent envi...   \n",
       "4                 True  although pcp classified human carcinogen epide...   \n",
       "\n",
       "       pmid                   chemical_name  \\\n",
       "0  11419773                        caffeine   \n",
       "1  17893628                       lactulose   \n",
       "2  12463452               sulfasalazine/SSZ   \n",
       "3  24812009  Polychlorinated biphenyls/PCBs   \n",
       "4   7904464                             PCP   \n",
       "\n",
       "                              disease_name  \\\n",
       "0                 ventricular fibrillation   \n",
       "1                           critically ill   \n",
       "2                                      PsA   \n",
       "3  NAFLD/non-alcoholic fatty liver disease   \n",
       "4                                  sarcoma   \n",
       "\n",
       "                                           abstracts  \\\n",
       "0  describe yearold woman preexisting mitral valv...   \n",
       "1  study whether lactulose polyethylene glycol ef...   \n",
       "2  erosive deforming arthritis present patients p...   \n",
       "3  polychlorinated biphenyls pcbs persistent envi...   \n",
       "4  pentachlorophenol pcp still one frequently use...   \n",
       "\n",
       "                                            all_info  \n",
       "0  describe yearold woman preexisting mitral valv...  \n",
       "1  laxation critically ill patients lactulose pol...  \n",
       "2  methotrexate mtx sulfasalazine ssz cyclosporin...  \n",
       "3  polychlorinated biphenyls pcbs persistent envi...  \n",
       "4  although pcp classified human carcinogen epide...  "
      ]
     },
<<<<<<< HEAD
     "execution_count": 29,
=======
     "execution_count": 48,
>>>>>>> 6503a71df82d1f5c0949bc4942a4c452634ba239
     "metadata": {},
     "output_type": "execute_result"
    }
   ],
   "source": [
    "#merge all wordy columns into 1 column: abstracts_and_info\n",
    "df_cleaned_abstracts['all_info'] = (df_cleaned_abstracts[\"relationship_info\"].map(str) + df_cleaned_abstracts[\"abstracts\"])\n",
    "df_cleaned_abstracts.head()"
   ]
  },
  {
   "cell_type": "code",
<<<<<<< HEAD
   "execution_count": 30,
=======
   "execution_count": 49,
>>>>>>> 6503a71df82d1f5c0949bc4942a4c452634ba239
   "metadata": {
    "collapsed": false
   },
   "outputs": [
    {
     "data": {
      "text/plain": [
       "'commonly documented single type thrombotic ae rfviia infusion cerebrovascular thrombosis myocardial infarction frequent type patients receiving feiba nanthrombosis rare wellrecognized potential complication factor viii inhibitor bypass activity feiba infusion recombinant factor viia rfviia increasingly used alternative feiba however thrombotic safety profile rfviia remains incompletely characterized determine incidence rates thrombotic adverse events aes infusion rfviia feiba data medwatch pharmacovigilance program us food drug administration supplemented published case reports used conjunction estimated numbers infusions available manufacturers assess comparative incidence thrombotic aes patients receiving rfviia feiba period april june reported thrombotic aes rare incidence rates per infusions ci per infusions rfviia per infusions ci per infusions feiba thrombotic aes significantly frequent rfviia feiba recipients incidence rate ratio ci commonly documented single type thrombotic ae rfviia infusion cerebrovascular thrombosis myocardial infarction frequent type patients receiving feiba contrasting ae reporting patterns rfviia feiba may contributed observed difference thrombotic event incidence nevertheless comprehensive pharmacovigilance assessment support superior thrombotic safety rfviia suggests thrombotic ae risk may higher rfviia feiba recipients'"
      ]
     },
<<<<<<< HEAD
     "execution_count": 30,
=======
     "execution_count": 49,
>>>>>>> 6503a71df82d1f5c0949bc4942a4c452634ba239
     "metadata": {},
     "output_type": "execute_result"
    }
   ],
   "source": [
    "df_cleaned_abstracts.all_info[100]"
   ]
  },
  {
   "cell_type": "code",
<<<<<<< HEAD
   "execution_count": 31,
=======
   "execution_count": 52,
>>>>>>> 6503a71df82d1f5c0949bc4942a4c452634ba239
   "metadata": {
    "collapsed": false
   },
   "outputs": [
    {
     "data": {
      "text/html": [
       "<div>\n",
       "<table border=\"1\" class=\"dataframe\">\n",
       "  <thead>\n",
       "    <tr style=\"text-align: right;\">\n",
       "      <th></th>\n",
       "      <th>boolean_relationship</th>\n",
       "      <th>chemical_name</th>\n",
       "      <th>disease_name</th>\n",
       "      <th>all_info</th>\n",
       "    </tr>\n",
       "  </thead>\n",
       "  <tbody>\n",
       "    <tr>\n",
       "      <th>0</th>\n",
       "      <td>True</td>\n",
       "      <td>caffeine</td>\n",
       "      <td>ventricular fibrillation</td>\n",
       "      <td>describe yearold woman preexisting mitral valv...</td>\n",
       "    </tr>\n",
       "    <tr>\n",
       "      <th>1</th>\n",
       "      <td>False</td>\n",
       "      <td>lactulose</td>\n",
       "      <td>critically ill</td>\n",
       "      <td>laxation critically ill patients lactulose pol...</td>\n",
       "    </tr>\n",
       "    <tr>\n",
       "      <th>2</th>\n",
       "      <td>False</td>\n",
       "      <td>sulfasalazine/SSZ</td>\n",
       "      <td>PsA</td>\n",
       "      <td>methotrexate mtx sulfasalazine ssz cyclosporin...</td>\n",
       "    </tr>\n",
       "    <tr>\n",
       "      <th>3</th>\n",
       "      <td>True</td>\n",
       "      <td>Polychlorinated biphenyls/PCBs</td>\n",
       "      <td>NAFLD/non-alcoholic fatty liver disease</td>\n",
       "      <td>polychlorinated biphenyls pcbs persistent envi...</td>\n",
       "    </tr>\n",
       "    <tr>\n",
       "      <th>4</th>\n",
       "      <td>True</td>\n",
       "      <td>PCP</td>\n",
       "      <td>sarcoma</td>\n",
       "      <td>although pcp classified human carcinogen epide...</td>\n",
       "    </tr>\n",
       "  </tbody>\n",
       "</table>\n",
       "</div>"
      ],
      "text/plain": [
       "  boolean_relationship                   chemical_name  \\\n",
       "0                 True                        caffeine   \n",
       "1                False                       lactulose   \n",
       "2                False               sulfasalazine/SSZ   \n",
       "3                 True  Polychlorinated biphenyls/PCBs   \n",
       "4                 True                             PCP   \n",
       "\n",
       "                              disease_name  \\\n",
       "0                 ventricular fibrillation   \n",
       "1                           critically ill   \n",
       "2                                      PsA   \n",
       "3  NAFLD/non-alcoholic fatty liver disease   \n",
       "4                                  sarcoma   \n",
       "\n",
       "                                            all_info  \n",
       "0  describe yearold woman preexisting mitral valv...  \n",
       "1  laxation critically ill patients lactulose pol...  \n",
       "2  methotrexate mtx sulfasalazine ssz cyclosporin...  \n",
       "3  polychlorinated biphenyls pcbs persistent envi...  \n",
       "4  although pcp classified human carcinogen epide...  "
      ]
     },
<<<<<<< HEAD
     "execution_count": 31,
=======
     "execution_count": 52,
>>>>>>> 6503a71df82d1f5c0949bc4942a4c452634ba239
     "metadata": {},
     "output_type": "execute_result"
    }
   ],
   "source": [
    "df_final = df_cleaned_abstracts.drop(['abstracts','relationship_info','pmid'], axis=1).copy()\n",
    "df_final.head()"
   ]
  },
  {
   "cell_type": "code",
<<<<<<< HEAD
   "execution_count": 32,
=======
   "execution_count": 53,
>>>>>>> 6503a71df82d1f5c0949bc4942a4c452634ba239
   "metadata": {
    "collapsed": true
   },
   "outputs": [],
   "source": [
<<<<<<< HEAD
    "df_final.to_csv( \"data/Final_df.csv\", index=False)"
=======
    "df_final.to_csv( \"Final_df.csv\", index=False)"
>>>>>>> 6503a71df82d1f5c0949bc4942a4c452634ba239
   ]
  },
  {
   "cell_type": "markdown",
   "metadata": {},
   "source": [
    "### Data Visualization"
   ]
  },
  {
   "cell_type": "code",
<<<<<<< HEAD
   "execution_count": 33,
=======
   "execution_count": 55,
>>>>>>> 6503a71df82d1f5c0949bc4942a4c452634ba239
   "metadata": {
    "collapsed": false
   },
   "outputs": [
    {
     "data": {
      "text/plain": [
       "True     964\n",
       "False    964\n",
       "Name: boolean_relationship, dtype: int64"
      ]
     },
<<<<<<< HEAD
     "execution_count": 33,
=======
     "execution_count": 55,
>>>>>>> 6503a71df82d1f5c0949bc4942a4c452634ba239
     "metadata": {},
     "output_type": "execute_result"
    }
   ],
   "source": [
    "df_final.boolean_relationship.value_counts()"
   ]
  },
  {
   "cell_type": "code",
<<<<<<< HEAD
   "execution_count": 34,
=======
   "execution_count": 63,
>>>>>>> 6503a71df82d1f5c0949bc4942a4c452634ba239
   "metadata": {
    "collapsed": true
   },
   "outputs": [],
   "source": [
    "true_vocab = (' '.join(df_final[df_final['boolean_relationship']==True]['all_info'])).replace(\"  \",\" \")\n",
    "false_vocab = (' '.join(df_final[df_final['boolean_relationship']==False]['all_info'])).replace(\"  \",\" \")"
   ]
  },
  {
   "cell_type": "code",
<<<<<<< HEAD
   "execution_count": 35,
=======
   "execution_count": 64,
>>>>>>> 6503a71df82d1f5c0949bc4942a4c452634ba239
   "metadata": {
    "collapsed": false
   },
   "outputs": [],
   "source": [
    "from nltk.stem.porter import PorterStemmer\n",
    "porter_stemmer = PorterStemmer()\n",
    "true_stem = [porter_stemmer.stem(w) for w in true_vocab.split(' ')]\n",
    "false_stem = [porter_stemmer.stem(w) for w in false_vocab.split(' ')]"
   ]
  },
  {
   "cell_type": "markdown",
   "metadata": {},
   "source": [
    "#### Most common true words"
   ]
  },
  {
   "cell_type": "code",
<<<<<<< HEAD
   "execution_count": 36,
=======
   "execution_count": 65,
>>>>>>> 6503a71df82d1f5c0949bc4942a4c452634ba239
   "metadata": {
    "collapsed": false
   },
   "outputs": [
    {
     "data": {
      "text/plain": [
       "[('patient', 1134),\n",
       " ('effect', 710),\n",
       " ('use', 654),\n",
       " ('studi', 616),\n",
       " ('treatment', 600),\n",
       " ('increas', 591),\n",
       " ('cell', 563),\n",
       " ('associ', 531),\n",
       " ('toxic', 438),\n",
       " ('may', 426)]"
      ]
     },
<<<<<<< HEAD
     "execution_count": 36,
=======
     "execution_count": 65,
>>>>>>> 6503a71df82d1f5c0949bc4942a4c452634ba239
     "metadata": {},
     "output_type": "execute_result"
    }
   ],
   "source": [
    "true_word_freq_stem = Counter(true_stem)\n",
    "false_word_freq_stem = Counter(false_stem)\n",
    "\n",
    "true_word_freq_stem.most_common(10)"
   ]
  },
  {
   "cell_type": "markdown",
   "metadata": {},
   "source": [
    "#### Most common false words"
   ]
  },
  {
   "cell_type": "code",
<<<<<<< HEAD
   "execution_count": 37,
=======
   "execution_count": 66,
>>>>>>> 6503a71df82d1f5c0949bc4942a4c452634ba239
   "metadata": {
    "collapsed": false
   },
   "outputs": [
    {
     "data": {
      "text/plain": [
       "[('patient', 1635),\n",
       " ('effect', 966),\n",
       " ('treatment', 921),\n",
       " ('cell', 877),\n",
       " ('studi', 844),\n",
       " ('use', 576),\n",
       " ('therapi', 473),\n",
       " ('cancer', 462),\n",
       " ('activ', 453),\n",
       " ('diseas', 439)]"
      ]
     },
<<<<<<< HEAD
     "execution_count": 37,
=======
     "execution_count": 66,
>>>>>>> 6503a71df82d1f5c0949bc4942a4c452634ba239
     "metadata": {},
     "output_type": "execute_result"
    }
   ],
   "source": [
    "false_word_freq_stem.most_common(10)"
   ]
  },
  {
   "cell_type": "markdown",
   "metadata": {},
   "source": [
    "#### How many words are there in each vocab?"
   ]
  },
  {
   "cell_type": "code",
<<<<<<< HEAD
   "execution_count": 38,
=======
   "execution_count": 67,
>>>>>>> 6503a71df82d1f5c0949bc4942a4c452634ba239
   "metadata": {
    "collapsed": false
   },
   "outputs": [
    {
     "name": "stdout",
     "output_type": "stream",
     "text": [
      "length of true vocab:  796634\n",
      "length of false vocab:  822422\n"
     ]
    }
   ],
   "source": [
    "print(\"length of true vocab: \", len(true_vocab))\n",
    "print(\"length of false vocab: \", len(false_vocab))"
   ]
<<<<<<< HEAD
  },
  {
   "cell_type": "code",
   "execution_count": null,
   "metadata": {
    "collapsed": true
   },
   "outputs": [],
   "source": []
=======
>>>>>>> 6503a71df82d1f5c0949bc4942a4c452634ba239
  }
 ],
 "metadata": {
  "kernelspec": {
   "display_name": "Python 3",
   "language": "python",
   "name": "python3"
  },
  "language_info": {
   "codemirror_mode": {
    "name": "ipython",
    "version": 3
   },
   "file_extension": ".py",
   "mimetype": "text/x-python",
   "name": "python",
   "nbconvert_exporter": "python",
   "pygments_lexer": "ipython3",
   "version": "3.5.1"
  }
 },
 "nbformat": 4,
 "nbformat_minor": 0
}

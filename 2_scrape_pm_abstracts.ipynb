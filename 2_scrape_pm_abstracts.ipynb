{
 "cells": [
  {
   "cell_type": "markdown",
   "metadata": {},
   "source": [
    "# Scrape PubMed"
   ]
  },
  {
   "cell_type": "markdown",
   "metadata": {},
   "source": [
    "[PubMed](http://www.ncbi.nlm.nih.gov/pubmed/)"
   ]
  },
  {
   "cell_type": "code",
   "execution_count": 9,
   "metadata": {
    "collapsed": false
   },
   "outputs": [
    {
     "data": {
      "text/html": [
       "<style>.container { width:95% !important; }</style>"
      ],
      "text/plain": [
       "<IPython.core.display.HTML object>"
      ]
     },
     "execution_count": 9,
     "metadata": {},
     "output_type": "execute_result"
    }
   ],
   "source": [
    "from nltk.stem.porter import PorterStemmer\n",
    "from nltk.corpus import stopwords\n",
    "import string\n",
    "\n",
    "import pandas as pd\n",
    "from collections import Counter,defaultdict\n",
    "import urllib.request as urllib2\n",
    "from bs4 import BeautifulSoup\n",
    "import matplotlib.pyplot as plt\n",
    "import numpy as np\n",
    "import seaborn as sbs\n",
    "import re\n",
    "from nltk.corpus import stopwords\n",
    "from sklearn.decomposition import NMF\n",
    "import lda\n",
    "from sklearn.feature_extraction.text import CountVectorizer\n",
    "from IPython.core.display import HTML\n",
    "from nltk import word_tokenize\n",
    "from operator import itemgetter\n",
    "import string\n",
    "%matplotlib inline\n",
    "\n",
    "HTML(\"<style>.container { width:95% !important; }</style>\")"
   ]
  },
  {
   "cell_type": "markdown",
   "metadata": {},
   "source": [
    "### Load dataframe"
   ]
  },
  {
   "cell_type": "code",
   "execution_count": 3,
   "metadata": {
    "collapsed": false
   },
   "outputs": [
    {
     "data": {
      "text/html": [
       "<div>\n",
       "<table border=\"1\" class=\"dataframe\">\n",
       "  <thead>\n",
       "    <tr style=\"text-align: right;\">\n",
       "      <th></th>\n",
       "      <th>boolean_relationship</th>\n",
       "      <th>relationship_info</th>\n",
       "      <th>pmid</th>\n",
       "      <th>chemical_name</th>\n",
       "      <th>disease_name</th>\n",
       "    </tr>\n",
       "  </thead>\n",
       "  <tbody>\n",
       "    <tr>\n",
       "      <th>0</th>\n",
       "      <td>True</td>\n",
       "      <td>describe yearold woman preexisting mitral valv...</td>\n",
       "      <td>11419773</td>\n",
       "      <td>caffeine</td>\n",
       "      <td>ventricular fibrillation</td>\n",
       "    </tr>\n",
       "    <tr>\n",
       "      <th>1</th>\n",
       "      <td>False</td>\n",
       "      <td>laxation critically ill patients lactulose pol...</td>\n",
       "      <td>17893628</td>\n",
       "      <td>lactulose</td>\n",
       "      <td>critically ill</td>\n",
       "    </tr>\n",
       "    <tr>\n",
       "      <th>2</th>\n",
       "      <td>False</td>\n",
       "      <td>methotrexate mtx sulfasalazine ssz cyclosporin...</td>\n",
       "      <td>12463452</td>\n",
       "      <td>sulfasalazine/SSZ</td>\n",
       "      <td>PsA</td>\n",
       "    </tr>\n",
       "    <tr>\n",
       "      <th>3</th>\n",
       "      <td>True</td>\n",
       "      <td>polychlorinated biphenyls pcbs persistent envi...</td>\n",
       "      <td>24812009</td>\n",
       "      <td>Polychlorinated biphenyls/PCBs</td>\n",
       "      <td>NAFLD/non-alcoholic fatty liver disease</td>\n",
       "    </tr>\n",
       "    <tr>\n",
       "      <th>4</th>\n",
       "      <td>True</td>\n",
       "      <td>although pcp classified human carcinogen epide...</td>\n",
       "      <td>7904464</td>\n",
       "      <td>PCP</td>\n",
       "      <td>sarcoma</td>\n",
       "    </tr>\n",
       "  </tbody>\n",
       "</table>\n",
       "</div>"
      ],
      "text/plain": [
       "  boolean_relationship                                  relationship_info  \\\n",
       "0                 True  describe yearold woman preexisting mitral valv...   \n",
       "1                False  laxation critically ill patients lactulose pol...   \n",
       "2                False  methotrexate mtx sulfasalazine ssz cyclosporin...   \n",
       "3                 True  polychlorinated biphenyls pcbs persistent envi...   \n",
       "4                 True  although pcp classified human carcinogen epide...   \n",
       "\n",
       "       pmid                   chemical_name  \\\n",
       "0  11419773                        caffeine   \n",
       "1  17893628                       lactulose   \n",
       "2  12463452               sulfasalazine/SSZ   \n",
       "3  24812009  Polychlorinated biphenyls/PCBs   \n",
       "4   7904464                             PCP   \n",
       "\n",
       "                              disease_name  \n",
       "0                 ventricular fibrillation  \n",
       "1                           critically ill  \n",
       "2                                      PsA  \n",
       "3  NAFLD/non-alcoholic fatty liver disease  \n",
       "4                                  sarcoma  "
      ]
     },
     "execution_count": 3,
     "metadata": {},
     "output_type": "execute_result"
    }
   ],
   "source": [
    "df = pd.read_csv('data/labeled_df.csv', na_values=['?'])\n",
    "df.head()"
   ]
  },
  {
   "cell_type": "code",
   "execution_count": 4,
   "metadata": {
    "collapsed": false,
    "scrolled": true
   },
   "outputs": [
    {
     "data": {
      "text/plain": [
       "(1928, 5)"
      ]
     },
     "execution_count": 4,
     "metadata": {},
     "output_type": "execute_result"
    }
   ],
   "source": [
    "df.shape"
   ]
  },
  {
   "cell_type": "markdown",
   "metadata": {},
   "source": [
    "### Scrape Abstracts from PubMed"
   ]
  },
  {
   "cell_type": "code",
   "execution_count": 10,
   "metadata": {
    "collapsed": false
   },
   "outputs": [
    {
     "name": "stdout",
     "output_type": "stream",
     "text": [
      "Review 100 of 1928\n",
      "\n",
      "Review 200 of 1928\n",
      "\n",
      "Review 300 of 1928\n",
      "\n",
      "Review 400 of 1928\n",
      "\n",
      "Review 500 of 1928\n",
      "\n",
      "Review 600 of 1928\n",
      "\n",
      "Review 700 of 1928\n",
      "\n",
      "Review 800 of 1928\n",
      "\n",
      "Review 900 of 1928\n",
      "\n",
      "Review 1000 of 1928\n",
      "\n",
      "Review 1100 of 1928\n",
      "\n",
      "Review 1200 of 1928\n",
      "\n",
      "Review 1300 of 1928\n",
      "\n",
      "Review 1400 of 1928\n",
      "\n",
      "Review 1500 of 1928\n",
      "\n",
      "Review 1600 of 1928\n",
      "\n",
      "Review 1700 of 1928\n",
      "\n",
      "Review 1800 of 1928\n",
      "\n",
      "Review 1900 of 1928\n",
      "\n"
     ]
    }
   ],
   "source": [
    "#extract abstracts for each pmid in the dataframe:\n",
    "i = 0\n",
    "abstracts = []\n",
    "for pm in df.pmid: \n",
    "    soup = BeautifulSoup(urllib2.urlopen('http://www.ncbi.nlm.nih.gov/pubmed/%s' %pm).read(), \"lxml\")\n",
    "    #abstract\n",
    "    abstract = soup.find_all(attrs={\"class\": \"abstr\"})\n",
    "    abstracts.append(abstract[0].p.string)\n",
    "    i += 1\n",
    "    if( (i) % 100 == 0 ):\n",
    "        print(\"Review %d of %d\\n\" % (i, df.shape[0]))\n",
    "df['abstracts'] = abstracts "
   ]
  },
  {
   "cell_type": "code",
   "execution_count": 11,
   "metadata": {
    "collapsed": false
   },
   "outputs": [
    {
     "data": {
      "text/html": [
       "<div>\n",
       "<table border=\"1\" class=\"dataframe\">\n",
       "  <thead>\n",
       "    <tr style=\"text-align: right;\">\n",
       "      <th></th>\n",
       "      <th>boolean_relationship</th>\n",
       "      <th>relationship_info</th>\n",
       "      <th>pmid</th>\n",
       "      <th>chemical_name</th>\n",
       "      <th>disease_name</th>\n",
       "      <th>abstracts</th>\n",
       "    </tr>\n",
       "  </thead>\n",
       "  <tbody>\n",
       "    <tr>\n",
       "      <th>0</th>\n",
       "      <td>True</td>\n",
       "      <td>describe yearold woman preexisting mitral valv...</td>\n",
       "      <td>11419773</td>\n",
       "      <td>caffeine</td>\n",
       "      <td>ventricular fibrillation</td>\n",
       "      <td>We describe a 25-year-old woman with pre-exist...</td>\n",
       "    </tr>\n",
       "    <tr>\n",
       "      <th>1</th>\n",
       "      <td>False</td>\n",
       "      <td>laxation critically ill patients lactulose pol...</td>\n",
       "      <td>17893628</td>\n",
       "      <td>lactulose</td>\n",
       "      <td>critically ill</td>\n",
       "      <td>To study whether lactulose or polyethylene gly...</td>\n",
       "    </tr>\n",
       "    <tr>\n",
       "      <th>2</th>\n",
       "      <td>False</td>\n",
       "      <td>methotrexate mtx sulfasalazine ssz cyclosporin...</td>\n",
       "      <td>12463452</td>\n",
       "      <td>sulfasalazine/SSZ</td>\n",
       "      <td>PsA</td>\n",
       "      <td>As erosive and deforming arthritis is present ...</td>\n",
       "    </tr>\n",
       "    <tr>\n",
       "      <th>3</th>\n",
       "      <td>True</td>\n",
       "      <td>polychlorinated biphenyls pcbs persistent envi...</td>\n",
       "      <td>24812009</td>\n",
       "      <td>Polychlorinated biphenyls/PCBs</td>\n",
       "      <td>NAFLD/non-alcoholic fatty liver disease</td>\n",
       "      <td>Polychlorinated biphenyls (PCBs) are persisten...</td>\n",
       "    </tr>\n",
       "    <tr>\n",
       "      <th>4</th>\n",
       "      <td>True</td>\n",
       "      <td>although pcp classified human carcinogen epide...</td>\n",
       "      <td>7904464</td>\n",
       "      <td>PCP</td>\n",
       "      <td>sarcoma</td>\n",
       "      <td>Pentachlorophenol (PCP) was, and still is, one...</td>\n",
       "    </tr>\n",
       "  </tbody>\n",
       "</table>\n",
       "</div>"
      ],
      "text/plain": [
       "  boolean_relationship                                  relationship_info  \\\n",
       "0                 True  describe yearold woman preexisting mitral valv...   \n",
       "1                False  laxation critically ill patients lactulose pol...   \n",
       "2                False  methotrexate mtx sulfasalazine ssz cyclosporin...   \n",
       "3                 True  polychlorinated biphenyls pcbs persistent envi...   \n",
       "4                 True  although pcp classified human carcinogen epide...   \n",
       "\n",
       "       pmid                   chemical_name  \\\n",
       "0  11419773                        caffeine   \n",
       "1  17893628                       lactulose   \n",
       "2  12463452               sulfasalazine/SSZ   \n",
       "3  24812009  Polychlorinated biphenyls/PCBs   \n",
       "4   7904464                             PCP   \n",
       "\n",
       "                              disease_name  \\\n",
       "0                 ventricular fibrillation   \n",
       "1                           critically ill   \n",
       "2                                      PsA   \n",
       "3  NAFLD/non-alcoholic fatty liver disease   \n",
       "4                                  sarcoma   \n",
       "\n",
       "                                           abstracts  \n",
       "0  We describe a 25-year-old woman with pre-exist...  \n",
       "1  To study whether lactulose or polyethylene gly...  \n",
       "2  As erosive and deforming arthritis is present ...  \n",
       "3  Polychlorinated biphenyls (PCBs) are persisten...  \n",
       "4  Pentachlorophenol (PCP) was, and still is, one...  "
      ]
     },
     "execution_count": 11,
     "metadata": {},
     "output_type": "execute_result"
    }
   ],
   "source": [
    "df.head()"
   ]
  },
  {
   "cell_type": "code",
   "execution_count": 12,
   "metadata": {
    "collapsed": true
   },
   "outputs": [],
   "source": [
    "df.to_csv( \"data/df_with_abstracts.csv\", index=False)"
   ]
  },
  {
   "cell_type": "markdown",
   "metadata": {},
   "source": [
    "### Cleaning abstracts"
   ]
  },
  {
   "cell_type": "code",
   "execution_count": 13,
   "metadata": {
    "collapsed": false
   },
   "outputs": [
    {
     "data": {
      "text/html": [
       "<div>\n",
       "<table border=\"1\" class=\"dataframe\">\n",
       "  <thead>\n",
       "    <tr style=\"text-align: right;\">\n",
       "      <th></th>\n",
       "      <th>boolean_relationship</th>\n",
       "      <th>relationship_info</th>\n",
       "      <th>pmid</th>\n",
       "      <th>chemical_name</th>\n",
       "      <th>disease_name</th>\n",
       "      <th>abstracts</th>\n",
       "    </tr>\n",
       "  </thead>\n",
       "  <tbody>\n",
       "    <tr>\n",
       "      <th>0</th>\n",
       "      <td>True</td>\n",
       "      <td>describe yearold woman preexisting mitral valv...</td>\n",
       "      <td>11419773</td>\n",
       "      <td>caffeine</td>\n",
       "      <td>ventricular fibrillation</td>\n",
       "      <td>We describe a 25-year-old woman with pre-exist...</td>\n",
       "    </tr>\n",
       "    <tr>\n",
       "      <th>1</th>\n",
       "      <td>False</td>\n",
       "      <td>laxation critically ill patients lactulose pol...</td>\n",
       "      <td>17893628</td>\n",
       "      <td>lactulose</td>\n",
       "      <td>critically ill</td>\n",
       "      <td>To study whether lactulose or polyethylene gly...</td>\n",
       "    </tr>\n",
       "    <tr>\n",
       "      <th>2</th>\n",
       "      <td>False</td>\n",
       "      <td>methotrexate mtx sulfasalazine ssz cyclosporin...</td>\n",
       "      <td>12463452</td>\n",
       "      <td>sulfasalazine/SSZ</td>\n",
       "      <td>PsA</td>\n",
       "      <td>As erosive and deforming arthritis is present ...</td>\n",
       "    </tr>\n",
       "    <tr>\n",
       "      <th>3</th>\n",
       "      <td>True</td>\n",
       "      <td>polychlorinated biphenyls pcbs persistent envi...</td>\n",
       "      <td>24812009</td>\n",
       "      <td>Polychlorinated biphenyls/PCBs</td>\n",
       "      <td>NAFLD/non-alcoholic fatty liver disease</td>\n",
       "      <td>Polychlorinated biphenyls (PCBs) are persisten...</td>\n",
       "    </tr>\n",
       "    <tr>\n",
       "      <th>4</th>\n",
       "      <td>True</td>\n",
       "      <td>although pcp classified human carcinogen epide...</td>\n",
       "      <td>7904464</td>\n",
       "      <td>PCP</td>\n",
       "      <td>sarcoma</td>\n",
       "      <td>Pentachlorophenol (PCP) was, and still is, one...</td>\n",
       "    </tr>\n",
       "  </tbody>\n",
       "</table>\n",
       "</div>"
      ],
      "text/plain": [
       "  boolean_relationship                                  relationship_info  \\\n",
       "0                 True  describe yearold woman preexisting mitral valv...   \n",
       "1                False  laxation critically ill patients lactulose pol...   \n",
       "2                False  methotrexate mtx sulfasalazine ssz cyclosporin...   \n",
       "3                 True  polychlorinated biphenyls pcbs persistent envi...   \n",
       "4                 True  although pcp classified human carcinogen epide...   \n",
       "\n",
       "       pmid                   chemical_name  \\\n",
       "0  11419773                        caffeine   \n",
       "1  17893628                       lactulose   \n",
       "2  12463452               sulfasalazine/SSZ   \n",
       "3  24812009  Polychlorinated biphenyls/PCBs   \n",
       "4   7904464                             PCP   \n",
       "\n",
       "                              disease_name  \\\n",
       "0                 ventricular fibrillation   \n",
       "1                           critically ill   \n",
       "2                                      PsA   \n",
       "3  NAFLD/non-alcoholic fatty liver disease   \n",
       "4                                  sarcoma   \n",
       "\n",
       "                                           abstracts  \n",
       "0  We describe a 25-year-old woman with pre-exist...  \n",
       "1  To study whether lactulose or polyethylene gly...  \n",
       "2  As erosive and deforming arthritis is present ...  \n",
       "3  Polychlorinated biphenyls (PCBs) are persisten...  \n",
       "4  Pentachlorophenol (PCP) was, and still is, one...  "
      ]
     },
     "execution_count": 13,
     "metadata": {},
     "output_type": "execute_result"
    }
   ],
   "source": [
    "df_with_abstracts = pd.read_csv('data/df_with_abstracts.csv', na_values=['?'])\n",
    "df_with_abstracts.head()"
   ]
  },
  {
   "cell_type": "code",
   "execution_count": 14,
   "metadata": {
    "collapsed": false
   },
   "outputs": [],
   "source": [
    "df['abstracts'] = df_with_abstracts['abstracts'].copy()"
   ]
  },
  {
   "cell_type": "code",
   "execution_count": 16,
   "metadata": {
    "collapsed": false
   },
   "outputs": [
    {
     "data": {
      "text/html": [
       "<div>\n",
       "<table border=\"1\" class=\"dataframe\">\n",
       "  <thead>\n",
       "    <tr style=\"text-align: right;\">\n",
       "      <th></th>\n",
       "      <th>boolean_relationship</th>\n",
       "      <th>relationship_info</th>\n",
       "      <th>pmid</th>\n",
       "      <th>chemical_name</th>\n",
       "      <th>disease_name</th>\n",
       "      <th>abstracts</th>\n",
       "    </tr>\n",
       "  </thead>\n",
       "  <tbody>\n",
       "    <tr>\n",
       "      <th>0</th>\n",
       "      <td>True</td>\n",
       "      <td>describe yearold woman preexisting mitral valv...</td>\n",
       "      <td>11419773</td>\n",
       "      <td>caffeine</td>\n",
       "      <td>ventricular fibrillation</td>\n",
       "      <td>We describe a 25-year-old woman with pre-exist...</td>\n",
       "    </tr>\n",
       "    <tr>\n",
       "      <th>1</th>\n",
       "      <td>False</td>\n",
       "      <td>laxation critically ill patients lactulose pol...</td>\n",
       "      <td>17893628</td>\n",
       "      <td>lactulose</td>\n",
       "      <td>critically ill</td>\n",
       "      <td>To study whether lactulose or polyethylene gly...</td>\n",
       "    </tr>\n",
       "    <tr>\n",
       "      <th>2</th>\n",
       "      <td>False</td>\n",
       "      <td>methotrexate mtx sulfasalazine ssz cyclosporin...</td>\n",
       "      <td>12463452</td>\n",
       "      <td>sulfasalazine/SSZ</td>\n",
       "      <td>PsA</td>\n",
       "      <td>As erosive and deforming arthritis is present ...</td>\n",
       "    </tr>\n",
       "    <tr>\n",
       "      <th>3</th>\n",
       "      <td>True</td>\n",
       "      <td>polychlorinated biphenyls pcbs persistent envi...</td>\n",
       "      <td>24812009</td>\n",
       "      <td>Polychlorinated biphenyls/PCBs</td>\n",
       "      <td>NAFLD/non-alcoholic fatty liver disease</td>\n",
       "      <td>Polychlorinated biphenyls (PCBs) are persisten...</td>\n",
       "    </tr>\n",
       "    <tr>\n",
       "      <th>4</th>\n",
       "      <td>True</td>\n",
       "      <td>although pcp classified human carcinogen epide...</td>\n",
       "      <td>7904464</td>\n",
       "      <td>PCP</td>\n",
       "      <td>sarcoma</td>\n",
       "      <td>Pentachlorophenol (PCP) was, and still is, one...</td>\n",
       "    </tr>\n",
       "  </tbody>\n",
       "</table>\n",
       "</div>"
      ],
      "text/plain": [
       "  boolean_relationship                                  relationship_info  \\\n",
       "0                 True  describe yearold woman preexisting mitral valv...   \n",
       "1                False  laxation critically ill patients lactulose pol...   \n",
       "2                False  methotrexate mtx sulfasalazine ssz cyclosporin...   \n",
       "3                 True  polychlorinated biphenyls pcbs persistent envi...   \n",
       "4                 True  although pcp classified human carcinogen epide...   \n",
       "\n",
       "       pmid                   chemical_name  \\\n",
       "0  11419773                        caffeine   \n",
       "1  17893628                       lactulose   \n",
       "2  12463452               sulfasalazine/SSZ   \n",
       "3  24812009  Polychlorinated biphenyls/PCBs   \n",
       "4   7904464                             PCP   \n",
       "\n",
       "                              disease_name  \\\n",
       "0                 ventricular fibrillation   \n",
       "1                           critically ill   \n",
       "2                                      PsA   \n",
       "3  NAFLD/non-alcoholic fatty liver disease   \n",
       "4                                  sarcoma   \n",
       "\n",
       "                                           abstracts  \n",
       "0  We describe a 25-year-old woman with pre-exist...  \n",
       "1  To study whether lactulose or polyethylene gly...  \n",
       "2  As erosive and deforming arthritis is present ...  \n",
       "3  Polychlorinated biphenyls (PCBs) are persisten...  \n",
       "4  Pentachlorophenol (PCP) was, and still is, one...  "
      ]
     },
     "execution_count": 16,
     "metadata": {},
     "output_type": "execute_result"
    }
   ],
   "source": [
    "df.head()"
   ]
  },
  {
   "cell_type": "code",
   "execution_count": 17,
   "metadata": {
    "collapsed": true
   },
   "outputs": [],
   "source": [
    "cleaned_names = list(df.chemical_name) + list(df.disease_name)"
   ]
  },
  {
   "cell_type": "code",
   "execution_count": 18,
   "metadata": {
    "collapsed": false
   },
   "outputs": [],
   "source": [
    "#porter_stemmer = PorterStemmer()\n",
    "\n",
    "def abstract_to_words( raw_review ):\n",
    "    #Remove HTML\n",
    "    raw_review = raw_review.replace(\">\",\"> \")\n",
    "    review_text = BeautifulSoup(raw_review, \"lxml\").get_text().split()\n",
    "    \n",
    "    #if word is not a disease or chemical, remove non-alpha. else, retain word. \n",
    "    cleaned_sentence = []\n",
    "    for word in review_text:\n",
    "        if word not in cleaned_names:\n",
    "            cleaned_sentence.append(re.sub(\"[^a-zA-Z]\", \"\", word.lower()))\n",
    "        else:\n",
    "            cleaned_sentence.append(word.lower())\n",
    "    \n",
    "    #remove stops, extra spaces, and single-letter words \n",
    "    stops = set(stopwords.words(\"english\"))  \n",
    "    spaces = set(\" \")\n",
    "    single_letter_words = set(string.ascii_lowercase)\n",
    "    unimportant_words = stops | spaces | single_letter_words\n",
    "    \n",
    "    return (\" \".join([word for word in cleaned_sentence if not word in list(unimportant_words)])).replace(\"  \",\" \")"
   ]
  },
  {
   "cell_type": "code",
   "execution_count": 19,
   "metadata": {
    "collapsed": false
   },
   "outputs": [],
   "source": [
    "clean_abstracts = []\n",
    "for i in range( 0, df.shape[0] ):\n",
    "    clean_abstracts.append( abstract_to_words( df[\"abstracts\"][i] ) )"
   ]
  },
  {
   "cell_type": "code",
   "execution_count": 20,
   "metadata": {
    "collapsed": true
   },
   "outputs": [],
   "source": [
    "df.abstracts = clean_abstracts"
   ]
  },
  {
   "cell_type": "code",
   "execution_count": 21,
   "metadata": {
    "collapsed": false
   },
   "outputs": [
    {
     "data": {
      "text/html": [
       "<div>\n",
       "<table border=\"1\" class=\"dataframe\">\n",
       "  <thead>\n",
       "    <tr style=\"text-align: right;\">\n",
       "      <th></th>\n",
       "      <th>boolean_relationship</th>\n",
       "      <th>relationship_info</th>\n",
       "      <th>pmid</th>\n",
       "      <th>chemical_name</th>\n",
       "      <th>disease_name</th>\n",
       "      <th>abstracts</th>\n",
       "    </tr>\n",
       "  </thead>\n",
       "  <tbody>\n",
       "    <tr>\n",
       "      <th>0</th>\n",
       "      <td>True</td>\n",
       "      <td>describe yearold woman preexisting mitral valv...</td>\n",
       "      <td>11419773</td>\n",
       "      <td>caffeine</td>\n",
       "      <td>ventricular fibrillation</td>\n",
       "      <td>describe yearold woman preexisting mitral valv...</td>\n",
       "    </tr>\n",
       "    <tr>\n",
       "      <th>1</th>\n",
       "      <td>False</td>\n",
       "      <td>laxation critically ill patients lactulose pol...</td>\n",
       "      <td>17893628</td>\n",
       "      <td>lactulose</td>\n",
       "      <td>critically ill</td>\n",
       "      <td>study whether lactulose polyethylene glycol ef...</td>\n",
       "    </tr>\n",
       "    <tr>\n",
       "      <th>2</th>\n",
       "      <td>False</td>\n",
       "      <td>methotrexate mtx sulfasalazine ssz cyclosporin...</td>\n",
       "      <td>12463452</td>\n",
       "      <td>sulfasalazine/SSZ</td>\n",
       "      <td>PsA</td>\n",
       "      <td>erosive deforming arthritis present patients p...</td>\n",
       "    </tr>\n",
       "    <tr>\n",
       "      <th>3</th>\n",
       "      <td>True</td>\n",
       "      <td>polychlorinated biphenyls pcbs persistent envi...</td>\n",
       "      <td>24812009</td>\n",
       "      <td>Polychlorinated biphenyls/PCBs</td>\n",
       "      <td>NAFLD/non-alcoholic fatty liver disease</td>\n",
       "      <td>polychlorinated biphenyls pcbs persistent envi...</td>\n",
       "    </tr>\n",
       "    <tr>\n",
       "      <th>4</th>\n",
       "      <td>True</td>\n",
       "      <td>although pcp classified human carcinogen epide...</td>\n",
       "      <td>7904464</td>\n",
       "      <td>PCP</td>\n",
       "      <td>sarcoma</td>\n",
       "      <td>pentachlorophenol pcp still one frequently use...</td>\n",
       "    </tr>\n",
       "  </tbody>\n",
       "</table>\n",
       "</div>"
      ],
      "text/plain": [
       "  boolean_relationship                                  relationship_info  \\\n",
       "0                 True  describe yearold woman preexisting mitral valv...   \n",
       "1                False  laxation critically ill patients lactulose pol...   \n",
       "2                False  methotrexate mtx sulfasalazine ssz cyclosporin...   \n",
       "3                 True  polychlorinated biphenyls pcbs persistent envi...   \n",
       "4                 True  although pcp classified human carcinogen epide...   \n",
       "\n",
       "       pmid                   chemical_name  \\\n",
       "0  11419773                        caffeine   \n",
       "1  17893628                       lactulose   \n",
       "2  12463452               sulfasalazine/SSZ   \n",
       "3  24812009  Polychlorinated biphenyls/PCBs   \n",
       "4   7904464                             PCP   \n",
       "\n",
       "                              disease_name  \\\n",
       "0                 ventricular fibrillation   \n",
       "1                           critically ill   \n",
       "2                                      PsA   \n",
       "3  NAFLD/non-alcoholic fatty liver disease   \n",
       "4                                  sarcoma   \n",
       "\n",
       "                                           abstracts  \n",
       "0  describe yearold woman preexisting mitral valv...  \n",
       "1  study whether lactulose polyethylene glycol ef...  \n",
       "2  erosive deforming arthritis present patients p...  \n",
       "3  polychlorinated biphenyls pcbs persistent envi...  \n",
       "4  pentachlorophenol pcp still one frequently use...  "
      ]
     },
     "execution_count": 21,
     "metadata": {},
     "output_type": "execute_result"
    }
   ],
   "source": [
    "df.head()"
   ]
  },
  {
   "cell_type": "code",
   "execution_count": 22,
   "metadata": {
    "collapsed": false
   },
   "outputs": [
    {
     "data": {
      "text/plain": [
       "'thrombosis rare wellrecognized potential complication factor viii inhibitor bypass activity feiba infusion recombinant factor viia rfviia increasingly used alternative feiba however thrombotic safety profile rfviia remains incompletely characterized determine incidence rates thrombotic adverse events aes infusion rfviia feiba data medwatch pharmacovigilance program us food drug administration supplemented published case reports used conjunction estimated numbers infusions available manufacturers assess comparative incidence thrombotic aes patients receiving rfviia feiba period april june reported thrombotic aes rare incidence rates per infusions ci per infusions rfviia per infusions ci per infusions feiba thrombotic aes significantly frequent rfviia feiba recipients incidence rate ratio ci commonly documented single type thrombotic ae rfviia infusion cerebrovascular thrombosis myocardial infarction frequent type patients receiving feiba contrasting ae reporting patterns rfviia feiba may contributed observed difference thrombotic event incidence nevertheless comprehensive pharmacovigilance assessment support superior thrombotic safety rfviia suggests thrombotic ae risk may higher rfviia feiba recipients'"
      ]
     },
     "execution_count": 22,
     "metadata": {},
     "output_type": "execute_result"
    }
   ],
   "source": [
    "df.abstracts[100]"
   ]
  },
  {
   "cell_type": "code",
   "execution_count": 27,
   "metadata": {
    "collapsed": true
   },
   "outputs": [],
   "source": [
    "df.to_csv( \"data/cleaned_abstracts.csv\", index=False)"
   ]
  },
  {
   "cell_type": "code",
   "execution_count": 28,
   "metadata": {
    "collapsed": false
   },
   "outputs": [
    {
     "data": {
      "text/html": [
       "<div>\n",
       "<table border=\"1\" class=\"dataframe\">\n",
       "  <thead>\n",
       "    <tr style=\"text-align: right;\">\n",
       "      <th></th>\n",
       "      <th>boolean_relationship</th>\n",
       "      <th>relationship_info</th>\n",
       "      <th>pmid</th>\n",
       "      <th>chemical_name</th>\n",
       "      <th>disease_name</th>\n",
       "      <th>abstracts</th>\n",
       "    </tr>\n",
       "  </thead>\n",
       "  <tbody>\n",
       "    <tr>\n",
       "      <th>0</th>\n",
       "      <td>True</td>\n",
       "      <td>describe yearold woman preexisting mitral valv...</td>\n",
       "      <td>11419773</td>\n",
       "      <td>caffeine</td>\n",
       "      <td>ventricular fibrillation</td>\n",
       "      <td>describe yearold woman preexisting mitral valv...</td>\n",
       "    </tr>\n",
       "    <tr>\n",
       "      <th>1</th>\n",
       "      <td>False</td>\n",
       "      <td>laxation critically ill patients lactulose pol...</td>\n",
       "      <td>17893628</td>\n",
       "      <td>lactulose</td>\n",
       "      <td>critically ill</td>\n",
       "      <td>study whether lactulose polyethylene glycol ef...</td>\n",
       "    </tr>\n",
       "    <tr>\n",
       "      <th>2</th>\n",
       "      <td>False</td>\n",
       "      <td>methotrexate mtx sulfasalazine ssz cyclosporin...</td>\n",
       "      <td>12463452</td>\n",
       "      <td>sulfasalazine/SSZ</td>\n",
       "      <td>PsA</td>\n",
       "      <td>erosive deforming arthritis present patients p...</td>\n",
       "    </tr>\n",
       "    <tr>\n",
       "      <th>3</th>\n",
       "      <td>True</td>\n",
       "      <td>polychlorinated biphenyls pcbs persistent envi...</td>\n",
       "      <td>24812009</td>\n",
       "      <td>Polychlorinated biphenyls/PCBs</td>\n",
       "      <td>NAFLD/non-alcoholic fatty liver disease</td>\n",
       "      <td>polychlorinated biphenyls pcbs persistent envi...</td>\n",
       "    </tr>\n",
       "    <tr>\n",
       "      <th>4</th>\n",
       "      <td>True</td>\n",
       "      <td>although pcp classified human carcinogen epide...</td>\n",
       "      <td>7904464</td>\n",
       "      <td>PCP</td>\n",
       "      <td>sarcoma</td>\n",
       "      <td>pentachlorophenol pcp still one frequently use...</td>\n",
       "    </tr>\n",
       "  </tbody>\n",
       "</table>\n",
       "</div>"
      ],
      "text/plain": [
       "  boolean_relationship                                  relationship_info  \\\n",
       "0                 True  describe yearold woman preexisting mitral valv...   \n",
       "1                False  laxation critically ill patients lactulose pol...   \n",
       "2                False  methotrexate mtx sulfasalazine ssz cyclosporin...   \n",
       "3                 True  polychlorinated biphenyls pcbs persistent envi...   \n",
       "4                 True  although pcp classified human carcinogen epide...   \n",
       "\n",
       "       pmid                   chemical_name  \\\n",
       "0  11419773                        caffeine   \n",
       "1  17893628                       lactulose   \n",
       "2  12463452               sulfasalazine/SSZ   \n",
       "3  24812009  Polychlorinated biphenyls/PCBs   \n",
       "4   7904464                             PCP   \n",
       "\n",
       "                              disease_name  \\\n",
       "0                 ventricular fibrillation   \n",
       "1                           critically ill   \n",
       "2                                      PsA   \n",
       "3  NAFLD/non-alcoholic fatty liver disease   \n",
       "4                                  sarcoma   \n",
       "\n",
       "                                           abstracts  \n",
       "0  describe yearold woman preexisting mitral valv...  \n",
       "1  study whether lactulose polyethylene glycol ef...  \n",
       "2  erosive deforming arthritis present patients p...  \n",
       "3  polychlorinated biphenyls pcbs persistent envi...  \n",
       "4  pentachlorophenol pcp still one frequently use...  "
      ]
     },
     "execution_count": 28,
     "metadata": {},
     "output_type": "execute_result"
    }
   ],
   "source": [
    "df_cleaned_abstracts = pd.read_csv('cleaned_abstracts.csv', na_values=['?'])\n",
    "df_cleaned_abstracts.head()"
   ]
  },
  {
   "cell_type": "markdown",
   "metadata": {},
   "source": [
    "### Merge relationship_info and abstracts into 1 column: all_info"
   ]
  },
  {
   "cell_type": "code",
   "execution_count": 29,
   "metadata": {
    "collapsed": false
   },
   "outputs": [
    {
     "data": {
      "text/html": [
       "<div>\n",
       "<table border=\"1\" class=\"dataframe\">\n",
       "  <thead>\n",
       "    <tr style=\"text-align: right;\">\n",
       "      <th></th>\n",
       "      <th>boolean_relationship</th>\n",
       "      <th>relationship_info</th>\n",
       "      <th>pmid</th>\n",
       "      <th>chemical_name</th>\n",
       "      <th>disease_name</th>\n",
       "      <th>abstracts</th>\n",
       "      <th>all_info</th>\n",
       "    </tr>\n",
       "  </thead>\n",
       "  <tbody>\n",
       "    <tr>\n",
       "      <th>0</th>\n",
       "      <td>True</td>\n",
       "      <td>describe yearold woman preexisting mitral valv...</td>\n",
       "      <td>11419773</td>\n",
       "      <td>caffeine</td>\n",
       "      <td>ventricular fibrillation</td>\n",
       "      <td>describe yearold woman preexisting mitral valv...</td>\n",
       "      <td>describe yearold woman preexisting mitral valv...</td>\n",
       "    </tr>\n",
       "    <tr>\n",
       "      <th>1</th>\n",
       "      <td>False</td>\n",
       "      <td>laxation critically ill patients lactulose pol...</td>\n",
       "      <td>17893628</td>\n",
       "      <td>lactulose</td>\n",
       "      <td>critically ill</td>\n",
       "      <td>study whether lactulose polyethylene glycol ef...</td>\n",
       "      <td>laxation critically ill patients lactulose pol...</td>\n",
       "    </tr>\n",
       "    <tr>\n",
       "      <th>2</th>\n",
       "      <td>False</td>\n",
       "      <td>methotrexate mtx sulfasalazine ssz cyclosporin...</td>\n",
       "      <td>12463452</td>\n",
       "      <td>sulfasalazine/SSZ</td>\n",
       "      <td>PsA</td>\n",
       "      <td>erosive deforming arthritis present patients p...</td>\n",
       "      <td>methotrexate mtx sulfasalazine ssz cyclosporin...</td>\n",
       "    </tr>\n",
       "    <tr>\n",
       "      <th>3</th>\n",
       "      <td>True</td>\n",
       "      <td>polychlorinated biphenyls pcbs persistent envi...</td>\n",
       "      <td>24812009</td>\n",
       "      <td>Polychlorinated biphenyls/PCBs</td>\n",
       "      <td>NAFLD/non-alcoholic fatty liver disease</td>\n",
       "      <td>polychlorinated biphenyls pcbs persistent envi...</td>\n",
       "      <td>polychlorinated biphenyls pcbs persistent envi...</td>\n",
       "    </tr>\n",
       "    <tr>\n",
       "      <th>4</th>\n",
       "      <td>True</td>\n",
       "      <td>although pcp classified human carcinogen epide...</td>\n",
       "      <td>7904464</td>\n",
       "      <td>PCP</td>\n",
       "      <td>sarcoma</td>\n",
       "      <td>pentachlorophenol pcp still one frequently use...</td>\n",
       "      <td>although pcp classified human carcinogen epide...</td>\n",
       "    </tr>\n",
       "  </tbody>\n",
       "</table>\n",
       "</div>"
      ],
      "text/plain": [
       "  boolean_relationship                                  relationship_info  \\\n",
       "0                 True  describe yearold woman preexisting mitral valv...   \n",
       "1                False  laxation critically ill patients lactulose pol...   \n",
       "2                False  methotrexate mtx sulfasalazine ssz cyclosporin...   \n",
       "3                 True  polychlorinated biphenyls pcbs persistent envi...   \n",
       "4                 True  although pcp classified human carcinogen epide...   \n",
       "\n",
       "       pmid                   chemical_name  \\\n",
       "0  11419773                        caffeine   \n",
       "1  17893628                       lactulose   \n",
       "2  12463452               sulfasalazine/SSZ   \n",
       "3  24812009  Polychlorinated biphenyls/PCBs   \n",
       "4   7904464                             PCP   \n",
       "\n",
       "                              disease_name  \\\n",
       "0                 ventricular fibrillation   \n",
       "1                           critically ill   \n",
       "2                                      PsA   \n",
       "3  NAFLD/non-alcoholic fatty liver disease   \n",
       "4                                  sarcoma   \n",
       "\n",
       "                                           abstracts  \\\n",
       "0  describe yearold woman preexisting mitral valv...   \n",
       "1  study whether lactulose polyethylene glycol ef...   \n",
       "2  erosive deforming arthritis present patients p...   \n",
       "3  polychlorinated biphenyls pcbs persistent envi...   \n",
       "4  pentachlorophenol pcp still one frequently use...   \n",
       "\n",
       "                                            all_info  \n",
       "0  describe yearold woman preexisting mitral valv...  \n",
       "1  laxation critically ill patients lactulose pol...  \n",
       "2  methotrexate mtx sulfasalazine ssz cyclosporin...  \n",
       "3  polychlorinated biphenyls pcbs persistent envi...  \n",
       "4  although pcp classified human carcinogen epide...  "
      ]
     },
     "execution_count": 29,
     "metadata": {},
     "output_type": "execute_result"
    }
   ],
   "source": [
    "#merge all wordy columns into 1 column: abstracts_and_info\n",
    "df_cleaned_abstracts['all_info'] = (df_cleaned_abstracts[\"relationship_info\"].map(str) + df_cleaned_abstracts[\"abstracts\"])\n",
    "df_cleaned_abstracts.head()"
   ]
  },
  {
   "cell_type": "code",
   "execution_count": 30,
   "metadata": {
    "collapsed": false
   },
   "outputs": [
    {
     "data": {
      "text/plain": [
       "'commonly documented single type thrombotic ae rfviia infusion cerebrovascular thrombosis myocardial infarction frequent type patients receiving feiba nanthrombosis rare wellrecognized potential complication factor viii inhibitor bypass activity feiba infusion recombinant factor viia rfviia increasingly used alternative feiba however thrombotic safety profile rfviia remains incompletely characterized determine incidence rates thrombotic adverse events aes infusion rfviia feiba data medwatch pharmacovigilance program us food drug administration supplemented published case reports used conjunction estimated numbers infusions available manufacturers assess comparative incidence thrombotic aes patients receiving rfviia feiba period april june reported thrombotic aes rare incidence rates per infusions ci per infusions rfviia per infusions ci per infusions feiba thrombotic aes significantly frequent rfviia feiba recipients incidence rate ratio ci commonly documented single type thrombotic ae rfviia infusion cerebrovascular thrombosis myocardial infarction frequent type patients receiving feiba contrasting ae reporting patterns rfviia feiba may contributed observed difference thrombotic event incidence nevertheless comprehensive pharmacovigilance assessment support superior thrombotic safety rfviia suggests thrombotic ae risk may higher rfviia feiba recipients'"
      ]
     },
     "execution_count": 30,
     "metadata": {},
     "output_type": "execute_result"
    }
   ],
   "source": [
    "df_cleaned_abstracts.all_info[100]"
   ]
  },
  {
   "cell_type": "code",
   "execution_count": 31,
   "metadata": {
    "collapsed": false
   },
   "outputs": [
    {
     "data": {
      "text/html": [
       "<div>\n",
       "<table border=\"1\" class=\"dataframe\">\n",
       "  <thead>\n",
       "    <tr style=\"text-align: right;\">\n",
       "      <th></th>\n",
       "      <th>boolean_relationship</th>\n",
       "      <th>chemical_name</th>\n",
       "      <th>disease_name</th>\n",
       "      <th>all_info</th>\n",
       "    </tr>\n",
       "  </thead>\n",
       "  <tbody>\n",
       "    <tr>\n",
       "      <th>0</th>\n",
       "      <td>True</td>\n",
       "      <td>caffeine</td>\n",
       "      <td>ventricular fibrillation</td>\n",
       "      <td>describe yearold woman preexisting mitral valv...</td>\n",
       "    </tr>\n",
       "    <tr>\n",
       "      <th>1</th>\n",
       "      <td>False</td>\n",
       "      <td>lactulose</td>\n",
       "      <td>critically ill</td>\n",
       "      <td>laxation critically ill patients lactulose pol...</td>\n",
       "    </tr>\n",
       "    <tr>\n",
       "      <th>2</th>\n",
       "      <td>False</td>\n",
       "      <td>sulfasalazine/SSZ</td>\n",
       "      <td>PsA</td>\n",
       "      <td>methotrexate mtx sulfasalazine ssz cyclosporin...</td>\n",
       "    </tr>\n",
       "    <tr>\n",
       "      <th>3</th>\n",
       "      <td>True</td>\n",
       "      <td>Polychlorinated biphenyls/PCBs</td>\n",
       "      <td>NAFLD/non-alcoholic fatty liver disease</td>\n",
       "      <td>polychlorinated biphenyls pcbs persistent envi...</td>\n",
       "    </tr>\n",
       "    <tr>\n",
       "      <th>4</th>\n",
       "      <td>True</td>\n",
       "      <td>PCP</td>\n",
       "      <td>sarcoma</td>\n",
       "      <td>although pcp classified human carcinogen epide...</td>\n",
       "    </tr>\n",
       "  </tbody>\n",
       "</table>\n",
       "</div>"
      ],
      "text/plain": [
       "  boolean_relationship                   chemical_name  \\\n",
       "0                 True                        caffeine   \n",
       "1                False                       lactulose   \n",
       "2                False               sulfasalazine/SSZ   \n",
       "3                 True  Polychlorinated biphenyls/PCBs   \n",
       "4                 True                             PCP   \n",
       "\n",
       "                              disease_name  \\\n",
       "0                 ventricular fibrillation   \n",
       "1                           critically ill   \n",
       "2                                      PsA   \n",
       "3  NAFLD/non-alcoholic fatty liver disease   \n",
       "4                                  sarcoma   \n",
       "\n",
       "                                            all_info  \n",
       "0  describe yearold woman preexisting mitral valv...  \n",
       "1  laxation critically ill patients lactulose pol...  \n",
       "2  methotrexate mtx sulfasalazine ssz cyclosporin...  \n",
       "3  polychlorinated biphenyls pcbs persistent envi...  \n",
       "4  although pcp classified human carcinogen epide...  "
      ]
     },
     "execution_count": 31,
     "metadata": {},
     "output_type": "execute_result"
    }
   ],
   "source": [
    "df_final = df_cleaned_abstracts.drop(['abstracts','relationship_info','pmid'], axis=1).copy()\n",
    "df_final.head()"
   ]
  },
  {
   "cell_type": "code",
   "execution_count": 32,
   "metadata": {
    "collapsed": true
   },
   "outputs": [],
   "source": [
    "df_final.to_csv( \"data/Final_df.csv\", index=False)"
   ]
  },
  {
   "cell_type": "markdown",
   "metadata": {},
   "source": [
    "### Data Visualization"
   ]
  },
  {
   "cell_type": "code",
   "execution_count": 33,
   "metadata": {
    "collapsed": false
   },
   "outputs": [
    {
     "data": {
      "text/plain": [
       "True     964\n",
       "False    964\n",
       "Name: boolean_relationship, dtype: int64"
      ]
     },
     "execution_count": 33,
     "metadata": {},
     "output_type": "execute_result"
    }
   ],
   "source": [
    "df_final.boolean_relationship.value_counts()"
   ]
  },
  {
   "cell_type": "code",
   "execution_count": 34,
   "metadata": {
    "collapsed": true
   },
   "outputs": [],
   "source": [
    "true_vocab = (' '.join(df_final[df_final['boolean_relationship']==True]['all_info'])).replace(\"  \",\" \")\n",
    "false_vocab = (' '.join(df_final[df_final['boolean_relationship']==False]['all_info'])).replace(\"  \",\" \")"
   ]
  },
  {
   "cell_type": "code",
   "execution_count": 35,
   "metadata": {
    "collapsed": false
   },
   "outputs": [],
   "source": [
    "from nltk.stem.porter import PorterStemmer\n",
    "porter_stemmer = PorterStemmer()\n",
    "true_stem = [porter_stemmer.stem(w) for w in true_vocab.split(' ')]\n",
    "false_stem = [porter_stemmer.stem(w) for w in false_vocab.split(' ')]"
   ]
  },
  {
   "cell_type": "markdown",
   "metadata": {},
   "source": [
    "#### Most common true words"
   ]
  },
  {
   "cell_type": "code",
   "execution_count": 36,
   "metadata": {
    "collapsed": false
   },
   "outputs": [
    {
     "data": {
      "text/plain": [
       "[('patient', 1134),\n",
       " ('effect', 710),\n",
       " ('use', 654),\n",
       " ('studi', 616),\n",
       " ('treatment', 600),\n",
       " ('increas', 591),\n",
       " ('cell', 563),\n",
       " ('associ', 531),\n",
       " ('toxic', 438),\n",
       " ('may', 426)]"
      ]
     },
     "execution_count": 36,
     "metadata": {},
     "output_type": "execute_result"
    }
   ],
   "source": [
    "true_word_freq_stem = Counter(true_stem)\n",
    "false_word_freq_stem = Counter(false_stem)\n",
    "\n",
    "true_word_freq_stem.most_common(10)"
   ]
  },
  {
   "cell_type": "markdown",
   "metadata": {},
   "source": [
    "#### Most common false words"
   ]
  },
  {
   "cell_type": "code",
   "execution_count": 37,
   "metadata": {
    "collapsed": false
   },
   "outputs": [
    {
     "data": {
      "text/plain": [
       "[('patient', 1635),\n",
       " ('effect', 966),\n",
       " ('treatment', 921),\n",
       " ('cell', 877),\n",
       " ('studi', 844),\n",
       " ('use', 576),\n",
       " ('therapi', 473),\n",
       " ('cancer', 462),\n",
       " ('activ', 453),\n",
       " ('diseas', 439)]"
      ]
     },
     "execution_count": 37,
     "metadata": {},
     "output_type": "execute_result"
    }
   ],
   "source": [
    "false_word_freq_stem.most_common(10)"
   ]
  },
  {
   "cell_type": "markdown",
   "metadata": {},
   "source": [
    "#### How many words are there in each vocab?"
   ]
  },
  {
   "cell_type": "code",
   "execution_count": 38,
   "metadata": {
    "collapsed": false
   },
   "outputs": [
    {
     "name": "stdout",
     "output_type": "stream",
     "text": [
      "length of true vocab:  796634\n",
      "length of false vocab:  822422\n"
     ]
    }
   ],
   "source": [
    "print(\"length of true vocab: \", len(true_vocab))\n",
    "print(\"length of false vocab: \", len(false_vocab))"
   ]
  },
  {
   "cell_type": "code",
   "execution_count": null,
   "metadata": {
    "collapsed": true
   },
   "outputs": [],
   "source": []
  }
 ],
 "metadata": {
  "kernelspec": {
   "display_name": "Python 2",
   "language": "python",
   "name": "python2"
  },
  "language_info": {
   "codemirror_mode": {
    "name": "ipython",
    "version": 2
   },
   "file_extension": ".py",
   "mimetype": "text/x-python",
   "name": "python",
   "nbconvert_exporter": "python",
   "pygments_lexer": "ipython2",
   "version": "2.7.11"
  }
 },
 "nbformat": 4,
 "nbformat_minor": 0
}
